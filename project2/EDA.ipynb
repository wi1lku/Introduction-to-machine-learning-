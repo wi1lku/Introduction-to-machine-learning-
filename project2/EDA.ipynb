{
 "cells": [
  {
   "cell_type": "markdown",
   "id": "8a0a5246",
   "metadata": {},
   "source": [
    "# Eksploracja i preprocessing danych zbioru \"Bag of Words Data Set\"\n",
    "Julia Kaznowska, Piotr Wilczyński <br>\n",
    "Politechnika Warszawska, Wydział Matematyki i Nauk Informacyjnych, Wstęp do uczenia maszynowego"
   ]
  },
  {
   "cell_type": "markdown",
   "id": "6cc617da",
   "metadata": {},
   "source": [
    "## Import niezbędnych bibliotek"
   ]
  },
  {
   "cell_type": "code",
   "execution_count": 1,
   "id": "d82d8ab6",
   "metadata": {},
   "outputs": [],
   "source": [
    "import pandas as pd\n",
    "import numpy as np\n",
    "import random\n",
    "import seaborn as sns\n",
    "from collections import Counter\n",
    "from matplotlib import pyplot as plt\n",
    "import pickle\n",
    "from scipy.sparse import lil_matrix\n",
    "from scipy.sparse import csr_matrix\n",
    "from itertools import chain\n",
    "import tqdm\n",
    "\n",
    "# wyświetlanie wizualizacji\n",
    "%matplotlib inline"
   ]
  },
  {
   "cell_type": "code",
   "execution_count": 2,
   "id": "c1114620",
   "metadata": {},
   "outputs": [
    {
     "data": {
      "application/javascript": [
       "IPython.OutputArea.prototype._should_scroll = function(lines) {\n",
       "    return false;\n",
       "}\n"
      ],
      "text/plain": [
       "<IPython.core.display.Javascript object>"
      ]
     },
     "metadata": {},
     "output_type": "display_data"
    }
   ],
   "source": [
    "%%javascript\n",
    "IPython.OutputArea.prototype._should_scroll = function(lines) {\n",
    "    return false;\n",
    "}"
   ]
  },
  {
   "cell_type": "markdown",
   "id": "2c2b3d95",
   "metadata": {},
   "source": [
    "## Import danych i preprocessing"
   ]
  },
  {
   "cell_type": "code",
   "execution_count": 3,
   "id": "9ebaf18d",
   "metadata": {},
   "outputs": [],
   "source": [
    "enron_vocab = []\n",
    "with open('data/vocab.enron.txt', 'r', encoding='utf-8') as file:\n",
    "    for line in file:\n",
    "        enron_vocab.append(line.strip())\n",
    "        \n",
    "kos_vocab = []\n",
    "with open('data/vocab.kos.txt', 'r', encoding='utf-8') as file:\n",
    "    for line in file:\n",
    "        kos_vocab.append(line.strip())\n",
    "        \n",
    "nips_vocab = []\n",
    "with open('data/vocab.nips.txt', 'r', encoding='utf-8') as file:\n",
    "    for line in file:\n",
    "        nips_vocab.append(line.strip())\n",
    "        \n",
    "nytimes_vocab = []\n",
    "with open('data/vocab.nytimes.txt', 'r', encoding='utf-8') as file:\n",
    "    for line in file:\n",
    "        nytimes_vocab.append(line.strip())\n",
    "        \n",
    "pubmed_vocab = []\n",
    "with open('data/vocab.pubmed.txt', 'r', encoding='utf-8') as file:\n",
    "    for line in file:\n",
    "        pubmed_vocab.append(line.strip())"
   ]
  },
  {
   "cell_type": "code",
   "execution_count": 52,
   "id": "59b4cc65",
   "metadata": {},
   "outputs": [],
   "source": [
    "with open('data/docword.enron.txt', 'r', encoding='utf-8') as file:\n",
    "    enron_D = int(file.readline())\n",
    "    enron_W = int(file.readline())\n",
    "    enron_NNZ = int(file.readline())\n",
    "    enron_dict_list = np.array([{} for _ in range(enron_D)])\n",
    "    for line in file:\n",
    "        row = line.strip().split()\n",
    "        doc_id = int(row[0]) - 1\n",
    "        word_id = int(row[1]) - 1\n",
    "        count = int(row[2])\n",
    "        enron_dict_list[doc_id][enron_vocab[word_id]] = count\n",
    "        \n",
    "with open('data/docword.kos.txt', 'r', encoding='utf-8') as file:\n",
    "    kos_D = int(file.readline())\n",
    "    kos_W = int(file.readline())\n",
    "    kos_NNZ = int(file.readline())\n",
    "    kos_dict_list = np.array([{} for _ in range(kos_D)])\n",
    "    for line in file:\n",
    "        row = line.strip().split()\n",
    "        doc_id = int(row[0]) - 1\n",
    "        word_id = int(row[1]) - 1\n",
    "        count = int(row[2])\n",
    "        kos_dict_list[doc_id][kos_vocab[word_id]] = count\n",
    "        \n",
    "with open('data/docword.nips.txt', 'r', encoding='utf-8') as file:\n",
    "    nips_D = int(file.readline())\n",
    "    nips_W = int(file.readline())\n",
    "    nips_NNZ = int(file.readline())\n",
    "    nips_dict_list = np.array([{} for _ in range(nips_D)])\n",
    "    for line in file:\n",
    "        row = line.strip().split()\n",
    "        doc_id = int(row[0]) - 1\n",
    "        word_id = int(row[1]) - 1s\n",
    "        count = int(row[2])\n",
    "        nips_dict_list[doc_id][nips_vocab[word_id]] = count\n",
    "        \n",
    "with open('data/docword.nytimes.txt', 'r', encoding='utf-8') as file:\n",
    "    nytimes_D = int(file.readline())\n",
    "    nytimes_W = int(file.readline())\n",
    "    nytimes_NNZ = int(file.readline())\n",
    "    nytimes_dict_list = np.array([{} for _ in range(nytimes_D)])\n",
    "    for line in file:\n",
    "        row = line.strip().split()\n",
    "        doc_id = int(row[0]) - 1\n",
    "        word_id = int(row[1]) - 1\n",
    "        count = int(row[2])\n",
    "        nytimes_dict_list[doc_id][nytimes_vocab[word_id]] = count\n",
    "        \n",
    "with open('data/docword.pubmed.txt', 'r', encoding='utf-8') as file:\n",
    "    pubmed_D = int(file.readline())\n",
    "    pubmed_W = int(file.readline())\n",
    "    pubmed_NNZ = int(file.readline())\n",
    "    pubmed_dict_list = np.array([{} for _ in range(pubmed_D)])\n",
    "    for line in file:\n",
    "        row = line.strip().split()\n",
    "        doc_id = int(row[0]) - 1\n",
    "        word_id = int(row[1]) - 1\n",
    "        count = int(row[2])\n",
    "        pubmed_dict_list[doc_id][pubmed_vocab[word_id]] = count"
   ]
  },
  {
   "cell_type": "code",
   "execution_count": null,
   "id": "56a6a71c",
   "metadata": {},
   "outputs": [],
   "source": [
    "# # eksport przetworzonych dokumentów\n",
    "# with open('./pickles/enron_dict_list.pickle', 'wb') as f:\n",
    "#  pickle.dump(enron_dict_list, f)\n",
    "\n",
    "# with open('./pickles/kos_dict_list.pickle', 'wb') as f:\n",
    "#  pickle.dump(kos_dict_list, f)\n",
    "\n",
    "# with open('./pickles/nips_dict_list', 'wb') as f:\n",
    "#  pickle.dump(nips_dict_list, f)\n",
    "\n",
    "# with open('./pickles/nytimes_dict_list.pickle', 'wb') as f:\n",
    "#  pickle.dump(nytimes_dict_list, f)\n",
    "\n",
    "# with open('./pickles/pubmed_dict_list.pickle', 'wb') as f:\n",
    "#  pickle.dump(pubmed_dict_list, f)"
   ]
  },
  {
   "cell_type": "code",
   "execution_count": 109,
   "id": "c2b04f5e",
   "metadata": {},
   "outputs": [],
   "source": [
    "random.seed(42)\n",
    "docs = np.array([])\n",
    "enron_indexes = random.sample(range(enron_D), 1500)\n",
    "docs = np.r_[docs, enron_dict_list[enron_indexes]]\n",
    "kos_indexes = random.sample(range(kos_D), 1500)\n",
    "docs = np.r_[docs, kos_dict_list[kos_indexes]]\n",
    "nips_indexes = random.sample(range(nips_D), 1500)\n",
    "docs = np.r_[docs, nips_dict_list[nips_indexes]]\n",
    "nytimes_indexes = random.sample(range(nytimes_D), 1500)\n",
    "docs = np.r_[docs, nytimes_dict_list[nytimes_indexes]]\n",
    "pubmed_indexes = random.sample(range(pubmed_D), 1500)\n",
    "docs = np.r_[docs, pubmed_dict_list[pubmed_indexes]]\n",
    "\n",
    "new_indexes = random.sample(range(len(docs)), len(docs))\n",
    "\n",
    "docs_info = pd.DataFrame({\"data_set\": np.repeat([\"enron\", \"kos\", \"nips\", \"nytimes\", \"pubmed\"], 1500, axis = 0),\n",
    "                          \"doc_id\": np.r_[enron_indexes, kos_indexes, nips_indexes, nytimes_indexes, pubmed_indexes]})\n",
    "\n",
    "docs = docs[new_indexes]\n",
    "docs_info = docs_info.iloc[new_indexes, :].reset_index(drop = True)\n",
    "docs_info[\"doc_id\"] = docs_info[\"doc_id\"] + 1  # set original docID\n",
    "\n",
    "enron_indexes = docs_info.loc[docs_info[\"data_set\"] == \"enron\"].index\n",
    "kos_indexes = docs_info.loc[docs_info[\"data_set\"] == \"kos\"].index\n",
    "nips_indexes = docs_info.loc[docs_info[\"data_set\"] == \"nips\"].index\n",
    "nytimes_indexes = docs_info.loc[docs_info[\"data_set\"] == \"nytimes\"].index\n",
    "pubmed_indexes = docs_info.loc[docs_info[\"data_set\"] == \"pubmed\"].index"
   ]
  },
  {
   "cell_type": "code",
   "execution_count": 187,
   "id": "9280301b",
   "metadata": {},
   "outputs": [],
   "source": [
    "words_used = sorted(np.unique(list(chain.from_iterable([list(doc.keys()) for doc in docs]))))\n",
    "\n",
    "bow = [[0 for _ in range(len(words_used))] for __ in range(7500)]\n",
    "for ix, doc in enumerate(docs):\n",
    "    for word, cnt in doc.items():\n",
    "        bow[ix][words_used.index(word)] = cnt"
   ]
  },
  {
   "cell_type": "code",
   "execution_count": 195,
   "id": "ed178a9c",
   "metadata": {},
   "outputs": [],
   "source": [
    "# eksport utworzonych danych\n",
    "with open('./pickles/indexes.pickle', 'wb') as f:\n",
    " pickle.dump((enron_indexes, kos_indexes, nips_indexes, nytimes_indexes, pubmed_indexes), f)\n",
    "\n",
    "with open('./pickles/docs.pickle', 'wb') as f:\n",
    " pickle.dump((docs, docs_info), f)\n",
    "\n",
    "with open('./pickles/words_used.pickle', 'wb') as f:\n",
    " pickle.dump(words_used, f)\n",
    "\n",
    "with open('./pickles/bow.pickle', 'wb') as f:\n",
    " pickle.dump(bow, f)"
   ]
  },
  {
   "cell_type": "markdown",
   "id": "b66efef1",
   "metadata": {},
   "source": [
    "## Analiza"
   ]
  },
  {
   "cell_type": "code",
   "execution_count": 196,
   "id": "a412f955",
   "metadata": {},
   "outputs": [],
   "source": [
    "# import danych\n",
    "with open('./pickles/indexes.pickle', 'rb') as f:\n",
    "    enron_indexes, kos_indexes, nips_indexes, nytimes_indexes, pubmed_indexes = pickle.load(f)\n",
    "    \n",
    "with open('./pickles/docs.pickle', 'rb') as f:\n",
    "    docs, docs_info = pickle.load(f)\n",
    "    \n",
    "with open('./pickles/words_used.pickle', 'rb') as f:\n",
    "    words_used, f = pickle.load(f)\n",
    "    \n",
    "with open('./pickles/bow.pickle', 'rb') as f:\n",
    "    bow = pickle.load(f)"
   ]
  }
 ],
 "metadata": {
  "kernelspec": {
   "display_name": "Python 3 (ipykernel)",
   "language": "python",
   "name": "python3"
  },
  "language_info": {
   "codemirror_mode": {
    "name": "ipython",
    "version": 3
   },
   "file_extension": ".py",
   "mimetype": "text/x-python",
   "name": "python",
   "nbconvert_exporter": "python",
   "pygments_lexer": "ipython3",
   "version": "3.9.12"
  }
 },
 "nbformat": 4,
 "nbformat_minor": 5
}
