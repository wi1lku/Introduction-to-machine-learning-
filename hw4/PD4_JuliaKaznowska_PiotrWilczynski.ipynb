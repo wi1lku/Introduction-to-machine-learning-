{
 "cells": [
  {
   "cell_type": "markdown",
   "id": "45ff66a1",
   "metadata": {},
   "source": [
    "# Klasyfikacja bankructwa na podstawie danych ze zbioru \"Company Bankruptcy Prediction\"\n",
    "\n",
    "Julia Kaznowska, Piotr Wilczyński <br>\n",
    "23/04/2022 <br>\n",
    "Politechnika Warszawska, Wydział Matematyki i Nauk Informacyjnych, Wstęp do uczenia maszynowego"
   ]
  },
  {
   "cell_type": "markdown",
   "id": "ae919a04",
   "metadata": {},
   "source": [
    "## Import niezbędnych bibliotek oraz zbioru danych"
   ]
  },
  {
   "cell_type": "code",
   "execution_count": 5,
   "id": "56cd903e",
   "metadata": {},
   "outputs": [],
   "source": [
    "import pandas as pd\n",
    "import numpy as np\n",
    "import seaborn as sns\n",
    "from matplotlib import pyplot as plt\n",
    "from sklearn.model_selection import train_test_split\n",
    "import warnings\n",
    "warnings.filterwarnings('ignore')\n",
    "\n",
    "# zbior danych\n",
    "df = pd.read_csv(\"data.csv\")\n",
    "\n",
    "# wyświetlanie wizualizacji\n",
    "%matplotlib inline"
   ]
  },
  {
   "cell_type": "markdown",
   "id": "4d86bf71",
   "metadata": {},
   "source": [
    "## Wstępne informacje o danych"
   ]
  },
  {
   "cell_type": "code",
   "execution_count": 6,
   "id": "81b2eeb6",
   "metadata": {},
   "outputs": [
    {
     "data": {
      "text/html": [
       "<div>\n",
       "<style scoped>\n",
       "    .dataframe tbody tr th:only-of-type {\n",
       "        vertical-align: middle;\n",
       "    }\n",
       "\n",
       "    .dataframe tbody tr th {\n",
       "        vertical-align: top;\n",
       "    }\n",
       "\n",
       "    .dataframe thead th {\n",
       "        text-align: right;\n",
       "    }\n",
       "</style>\n",
       "<table border=\"1\" class=\"dataframe\">\n",
       "  <thead>\n",
       "    <tr style=\"text-align: right;\">\n",
       "      <th></th>\n",
       "      <th>Bankrupt?</th>\n",
       "      <th>ROA(C) before interest and depreciation before interest</th>\n",
       "      <th>ROA(A) before interest and % after tax</th>\n",
       "      <th>ROA(B) before interest and depreciation after tax</th>\n",
       "      <th>Operating Gross Margin</th>\n",
       "      <th>Realized Sales Gross Margin</th>\n",
       "      <th>Operating Profit Rate</th>\n",
       "      <th>Pre-tax net Interest Rate</th>\n",
       "      <th>After-tax net Interest Rate</th>\n",
       "      <th>Non-industry income and expenditure/revenue</th>\n",
       "      <th>...</th>\n",
       "      <th>Net Income to Total Assets</th>\n",
       "      <th>Total assets to GNP price</th>\n",
       "      <th>No-credit Interval</th>\n",
       "      <th>Gross Profit to Sales</th>\n",
       "      <th>Net Income to Stockholder's Equity</th>\n",
       "      <th>Liability to Equity</th>\n",
       "      <th>Degree of Financial Leverage (DFL)</th>\n",
       "      <th>Interest Coverage Ratio (Interest expense to EBIT)</th>\n",
       "      <th>Net Income Flag</th>\n",
       "      <th>Equity to Liability</th>\n",
       "    </tr>\n",
       "  </thead>\n",
       "  <tbody>\n",
       "    <tr>\n",
       "      <th>0</th>\n",
       "      <td>1</td>\n",
       "      <td>0.370594</td>\n",
       "      <td>0.424389</td>\n",
       "      <td>0.405750</td>\n",
       "      <td>0.601457</td>\n",
       "      <td>0.601457</td>\n",
       "      <td>0.998969</td>\n",
       "      <td>0.796887</td>\n",
       "      <td>0.808809</td>\n",
       "      <td>0.302646</td>\n",
       "      <td>...</td>\n",
       "      <td>0.716845</td>\n",
       "      <td>0.009219</td>\n",
       "      <td>0.622879</td>\n",
       "      <td>0.601453</td>\n",
       "      <td>0.827890</td>\n",
       "      <td>0.290202</td>\n",
       "      <td>0.026601</td>\n",
       "      <td>0.564050</td>\n",
       "      <td>1</td>\n",
       "      <td>0.016469</td>\n",
       "    </tr>\n",
       "    <tr>\n",
       "      <th>1</th>\n",
       "      <td>1</td>\n",
       "      <td>0.464291</td>\n",
       "      <td>0.538214</td>\n",
       "      <td>0.516730</td>\n",
       "      <td>0.610235</td>\n",
       "      <td>0.610235</td>\n",
       "      <td>0.998946</td>\n",
       "      <td>0.797380</td>\n",
       "      <td>0.809301</td>\n",
       "      <td>0.303556</td>\n",
       "      <td>...</td>\n",
       "      <td>0.795297</td>\n",
       "      <td>0.008323</td>\n",
       "      <td>0.623652</td>\n",
       "      <td>0.610237</td>\n",
       "      <td>0.839969</td>\n",
       "      <td>0.283846</td>\n",
       "      <td>0.264577</td>\n",
       "      <td>0.570175</td>\n",
       "      <td>1</td>\n",
       "      <td>0.020794</td>\n",
       "    </tr>\n",
       "    <tr>\n",
       "      <th>2</th>\n",
       "      <td>1</td>\n",
       "      <td>0.426071</td>\n",
       "      <td>0.499019</td>\n",
       "      <td>0.472295</td>\n",
       "      <td>0.601450</td>\n",
       "      <td>0.601364</td>\n",
       "      <td>0.998857</td>\n",
       "      <td>0.796403</td>\n",
       "      <td>0.808388</td>\n",
       "      <td>0.302035</td>\n",
       "      <td>...</td>\n",
       "      <td>0.774670</td>\n",
       "      <td>0.040003</td>\n",
       "      <td>0.623841</td>\n",
       "      <td>0.601449</td>\n",
       "      <td>0.836774</td>\n",
       "      <td>0.290189</td>\n",
       "      <td>0.026555</td>\n",
       "      <td>0.563706</td>\n",
       "      <td>1</td>\n",
       "      <td>0.016474</td>\n",
       "    </tr>\n",
       "    <tr>\n",
       "      <th>3</th>\n",
       "      <td>1</td>\n",
       "      <td>0.399844</td>\n",
       "      <td>0.451265</td>\n",
       "      <td>0.457733</td>\n",
       "      <td>0.583541</td>\n",
       "      <td>0.583541</td>\n",
       "      <td>0.998700</td>\n",
       "      <td>0.796967</td>\n",
       "      <td>0.808966</td>\n",
       "      <td>0.303350</td>\n",
       "      <td>...</td>\n",
       "      <td>0.739555</td>\n",
       "      <td>0.003252</td>\n",
       "      <td>0.622929</td>\n",
       "      <td>0.583538</td>\n",
       "      <td>0.834697</td>\n",
       "      <td>0.281721</td>\n",
       "      <td>0.026697</td>\n",
       "      <td>0.564663</td>\n",
       "      <td>1</td>\n",
       "      <td>0.023982</td>\n",
       "    </tr>\n",
       "    <tr>\n",
       "      <th>4</th>\n",
       "      <td>1</td>\n",
       "      <td>0.465022</td>\n",
       "      <td>0.538432</td>\n",
       "      <td>0.522298</td>\n",
       "      <td>0.598783</td>\n",
       "      <td>0.598783</td>\n",
       "      <td>0.998973</td>\n",
       "      <td>0.797366</td>\n",
       "      <td>0.809304</td>\n",
       "      <td>0.303475</td>\n",
       "      <td>...</td>\n",
       "      <td>0.795016</td>\n",
       "      <td>0.003878</td>\n",
       "      <td>0.623521</td>\n",
       "      <td>0.598782</td>\n",
       "      <td>0.839973</td>\n",
       "      <td>0.278514</td>\n",
       "      <td>0.024752</td>\n",
       "      <td>0.575617</td>\n",
       "      <td>1</td>\n",
       "      <td>0.035490</td>\n",
       "    </tr>\n",
       "  </tbody>\n",
       "</table>\n",
       "<p>5 rows × 96 columns</p>\n",
       "</div>"
      ],
      "text/plain": [
       "   Bankrupt?   ROA(C) before interest and depreciation before interest  \\\n",
       "0          1                                           0.370594          \n",
       "1          1                                           0.464291          \n",
       "2          1                                           0.426071          \n",
       "3          1                                           0.399844          \n",
       "4          1                                           0.465022          \n",
       "\n",
       "    ROA(A) before interest and % after tax  \\\n",
       "0                                 0.424389   \n",
       "1                                 0.538214   \n",
       "2                                 0.499019   \n",
       "3                                 0.451265   \n",
       "4                                 0.538432   \n",
       "\n",
       "    ROA(B) before interest and depreciation after tax  \\\n",
       "0                                           0.405750    \n",
       "1                                           0.516730    \n",
       "2                                           0.472295    \n",
       "3                                           0.457733    \n",
       "4                                           0.522298    \n",
       "\n",
       "    Operating Gross Margin   Realized Sales Gross Margin  \\\n",
       "0                 0.601457                      0.601457   \n",
       "1                 0.610235                      0.610235   \n",
       "2                 0.601450                      0.601364   \n",
       "3                 0.583541                      0.583541   \n",
       "4                 0.598783                      0.598783   \n",
       "\n",
       "    Operating Profit Rate   Pre-tax net Interest Rate  \\\n",
       "0                0.998969                    0.796887   \n",
       "1                0.998946                    0.797380   \n",
       "2                0.998857                    0.796403   \n",
       "3                0.998700                    0.796967   \n",
       "4                0.998973                    0.797366   \n",
       "\n",
       "    After-tax net Interest Rate   Non-industry income and expenditure/revenue  \\\n",
       "0                      0.808809                                      0.302646   \n",
       "1                      0.809301                                      0.303556   \n",
       "2                      0.808388                                      0.302035   \n",
       "3                      0.808966                                      0.303350   \n",
       "4                      0.809304                                      0.303475   \n",
       "\n",
       "   ...   Net Income to Total Assets   Total assets to GNP price  \\\n",
       "0  ...                     0.716845                    0.009219   \n",
       "1  ...                     0.795297                    0.008323   \n",
       "2  ...                     0.774670                    0.040003   \n",
       "3  ...                     0.739555                    0.003252   \n",
       "4  ...                     0.795016                    0.003878   \n",
       "\n",
       "    No-credit Interval   Gross Profit to Sales  \\\n",
       "0             0.622879                0.601453   \n",
       "1             0.623652                0.610237   \n",
       "2             0.623841                0.601449   \n",
       "3             0.622929                0.583538   \n",
       "4             0.623521                0.598782   \n",
       "\n",
       "    Net Income to Stockholder's Equity   Liability to Equity  \\\n",
       "0                             0.827890              0.290202   \n",
       "1                             0.839969              0.283846   \n",
       "2                             0.836774              0.290189   \n",
       "3                             0.834697              0.281721   \n",
       "4                             0.839973              0.278514   \n",
       "\n",
       "    Degree of Financial Leverage (DFL)  \\\n",
       "0                             0.026601   \n",
       "1                             0.264577   \n",
       "2                             0.026555   \n",
       "3                             0.026697   \n",
       "4                             0.024752   \n",
       "\n",
       "    Interest Coverage Ratio (Interest expense to EBIT)   Net Income Flag  \\\n",
       "0                                           0.564050                   1   \n",
       "1                                           0.570175                   1   \n",
       "2                                           0.563706                   1   \n",
       "3                                           0.564663                   1   \n",
       "4                                           0.575617                   1   \n",
       "\n",
       "    Equity to Liability  \n",
       "0              0.016469  \n",
       "1              0.020794  \n",
       "2              0.016474  \n",
       "3              0.023982  \n",
       "4              0.035490  \n",
       "\n",
       "[5 rows x 96 columns]"
      ]
     },
     "execution_count": 6,
     "metadata": {},
     "output_type": "execute_result"
    }
   ],
   "source": [
    "df.head()"
   ]
  },
  {
   "cell_type": "code",
   "execution_count": 7,
   "id": "b47d0045",
   "metadata": {},
   "outputs": [
    {
     "data": {
      "text/plain": [
       "(6819, 96)"
      ]
     },
     "execution_count": 7,
     "metadata": {},
     "output_type": "execute_result"
    }
   ],
   "source": [
    "df.shape"
   ]
  },
  {
   "cell_type": "markdown",
   "id": "fce92c99",
   "metadata": {},
   "source": [
    "Dane mają 96 kolumn i 6819 rekordów."
   ]
  },
  {
   "cell_type": "code",
   "execution_count": 8,
   "id": "fc07b13f",
   "metadata": {},
   "outputs": [
    {
     "name": "stdout",
     "output_type": "stream",
     "text": [
      "<class 'pandas.core.frame.DataFrame'>\n",
      "RangeIndex: 6819 entries, 0 to 6818\n",
      "Data columns (total 96 columns):\n",
      " #   Column                                                    Non-Null Count  Dtype  \n",
      "---  ------                                                    --------------  -----  \n",
      " 0   Bankrupt?                                                 6819 non-null   int64  \n",
      " 1    ROA(C) before interest and depreciation before interest  6819 non-null   float64\n",
      " 2    ROA(A) before interest and % after tax                   6819 non-null   float64\n",
      " 3    ROA(B) before interest and depreciation after tax        6819 non-null   float64\n",
      " 4    Operating Gross Margin                                   6819 non-null   float64\n",
      " 5    Realized Sales Gross Margin                              6819 non-null   float64\n",
      " 6    Operating Profit Rate                                    6819 non-null   float64\n",
      " 7    Pre-tax net Interest Rate                                6819 non-null   float64\n",
      " 8    After-tax net Interest Rate                              6819 non-null   float64\n",
      " 9    Non-industry income and expenditure/revenue              6819 non-null   float64\n",
      " 10   Continuous interest rate (after tax)                     6819 non-null   float64\n",
      " 11   Operating Expense Rate                                   6819 non-null   float64\n",
      " 12   Research and development expense rate                    6819 non-null   float64\n",
      " 13   Cash flow rate                                           6819 non-null   float64\n",
      " 14   Interest-bearing debt interest rate                      6819 non-null   float64\n",
      " 15   Tax rate (A)                                             6819 non-null   float64\n",
      " 16   Net Value Per Share (B)                                  6819 non-null   float64\n",
      " 17   Net Value Per Share (A)                                  6819 non-null   float64\n",
      " 18   Net Value Per Share (C)                                  6819 non-null   float64\n",
      " 19   Persistent EPS in the Last Four Seasons                  6819 non-null   float64\n",
      " 20   Cash Flow Per Share                                      6819 non-null   float64\n",
      " 21   Revenue Per Share (Yuan ¥)                               6819 non-null   float64\n",
      " 22   Operating Profit Per Share (Yuan ¥)                      6819 non-null   float64\n",
      " 23   Per Share Net profit before tax (Yuan ¥)                 6819 non-null   float64\n",
      " 24   Realized Sales Gross Profit Growth Rate                  6819 non-null   float64\n",
      " 25   Operating Profit Growth Rate                             6819 non-null   float64\n",
      " 26   After-tax Net Profit Growth Rate                         6819 non-null   float64\n",
      " 27   Regular Net Profit Growth Rate                           6819 non-null   float64\n",
      " 28   Continuous Net Profit Growth Rate                        6819 non-null   float64\n",
      " 29   Total Asset Growth Rate                                  6819 non-null   float64\n",
      " 30   Net Value Growth Rate                                    6819 non-null   float64\n",
      " 31   Total Asset Return Growth Rate Ratio                     6819 non-null   float64\n",
      " 32   Cash Reinvestment %                                      6819 non-null   float64\n",
      " 33   Current Ratio                                            6819 non-null   float64\n",
      " 34   Quick Ratio                                              6819 non-null   float64\n",
      " 35   Interest Expense Ratio                                   6819 non-null   float64\n",
      " 36   Total debt/Total net worth                               6819 non-null   float64\n",
      " 37   Debt ratio %                                             6819 non-null   float64\n",
      " 38   Net worth/Assets                                         6819 non-null   float64\n",
      " 39   Long-term fund suitability ratio (A)                     6819 non-null   float64\n",
      " 40   Borrowing dependency                                     6819 non-null   float64\n",
      " 41   Contingent liabilities/Net worth                         6819 non-null   float64\n",
      " 42   Operating profit/Paid-in capital                         6819 non-null   float64\n",
      " 43   Net profit before tax/Paid-in capital                    6819 non-null   float64\n",
      " 44   Inventory and accounts receivable/Net value              6819 non-null   float64\n",
      " 45   Total Asset Turnover                                     6819 non-null   float64\n",
      " 46   Accounts Receivable Turnover                             6819 non-null   float64\n",
      " 47   Average Collection Days                                  6819 non-null   float64\n",
      " 48   Inventory Turnover Rate (times)                          6819 non-null   float64\n",
      " 49   Fixed Assets Turnover Frequency                          6819 non-null   float64\n",
      " 50   Net Worth Turnover Rate (times)                          6819 non-null   float64\n",
      " 51   Revenue per person                                       6819 non-null   float64\n",
      " 52   Operating profit per person                              6819 non-null   float64\n",
      " 53   Allocation rate per person                               6819 non-null   float64\n",
      " 54   Working Capital to Total Assets                          6819 non-null   float64\n",
      " 55   Quick Assets/Total Assets                                6819 non-null   float64\n",
      " 56   Current Assets/Total Assets                              6819 non-null   float64\n",
      " 57   Cash/Total Assets                                        6819 non-null   float64\n",
      " 58   Quick Assets/Current Liability                           6819 non-null   float64\n",
      " 59   Cash/Current Liability                                   6819 non-null   float64\n",
      " 60   Current Liability to Assets                              6819 non-null   float64\n",
      " 61   Operating Funds to Liability                             6819 non-null   float64\n",
      " 62   Inventory/Working Capital                                6819 non-null   float64\n",
      " 63   Inventory/Current Liability                              6819 non-null   float64\n",
      " 64   Current Liabilities/Liability                            6819 non-null   float64\n",
      " 65   Working Capital/Equity                                   6819 non-null   float64\n",
      " 66   Current Liabilities/Equity                               6819 non-null   float64\n",
      " 67   Long-term Liability to Current Assets                    6819 non-null   float64\n",
      " 68   Retained Earnings to Total Assets                        6819 non-null   float64\n",
      " 69   Total income/Total expense                               6819 non-null   float64\n",
      " 70   Total expense/Assets                                     6819 non-null   float64\n",
      " 71   Current Asset Turnover Rate                              6819 non-null   float64\n",
      " 72   Quick Asset Turnover Rate                                6819 non-null   float64\n",
      " 73   Working capitcal Turnover Rate                           6819 non-null   float64\n",
      " 74   Cash Turnover Rate                                       6819 non-null   float64\n",
      " 75   Cash Flow to Sales                                       6819 non-null   float64\n",
      " 76   Fixed Assets to Assets                                   6819 non-null   float64\n",
      " 77   Current Liability to Liability                           6819 non-null   float64\n",
      " 78   Current Liability to Equity                              6819 non-null   float64\n",
      " 79   Equity to Long-term Liability                            6819 non-null   float64\n",
      " 80   Cash Flow to Total Assets                                6819 non-null   float64\n",
      " 81   Cash Flow to Liability                                   6819 non-null   float64\n",
      " 82   CFO to Assets                                            6819 non-null   float64\n",
      " 83   Cash Flow to Equity                                      6819 non-null   float64\n",
      " 84   Current Liability to Current Assets                      6819 non-null   float64\n",
      " 85   Liability-Assets Flag                                    6819 non-null   int64  \n",
      " 86   Net Income to Total Assets                               6819 non-null   float64\n",
      " 87   Total assets to GNP price                                6819 non-null   float64\n",
      " 88   No-credit Interval                                       6819 non-null   float64\n",
      " 89   Gross Profit to Sales                                    6819 non-null   float64\n",
      " 90   Net Income to Stockholder's Equity                       6819 non-null   float64\n",
      " 91   Liability to Equity                                      6819 non-null   float64\n",
      " 92   Degree of Financial Leverage (DFL)                       6819 non-null   float64\n",
      " 93   Interest Coverage Ratio (Interest expense to EBIT)       6819 non-null   float64\n",
      " 94   Net Income Flag                                          6819 non-null   int64  \n",
      " 95   Equity to Liability                                      6819 non-null   float64\n",
      "dtypes: float64(93), int64(3)\n",
      "memory usage: 5.0 MB\n"
     ]
    }
   ],
   "source": [
    "df.info()"
   ]
  },
  {
   "cell_type": "markdown",
   "id": "36ae93dc",
   "metadata": {},
   "source": [
    "Nie ma oczywistych braków danych, ale widzimy dwie wyróżniające się wartości: Net Income Flag i Liability-Assets Flag. Obie w przeciwieństwie do wszystkich innych zmiennych opisujących są całkowite a nie zmiennoprzecinkowe. Zobaczmy ich wartości."
   ]
  },
  {
   "cell_type": "code",
   "execution_count": 9,
   "id": "2c639afa",
   "metadata": {},
   "outputs": [
    {
     "data": {
      "text/plain": [
       "(array([0, 1], dtype=int64), array([6811,    8], dtype=int64))"
      ]
     },
     "execution_count": 9,
     "metadata": {},
     "output_type": "execute_result"
    }
   ],
   "source": [
    "unique, counts = np.unique(df[\" Liability-Assets Flag\"], return_counts=True)\n",
    "unique, counts"
   ]
  },
  {
   "cell_type": "code",
   "execution_count": 10,
   "id": "9a87a99c",
   "metadata": {},
   "outputs": [
    {
     "data": {
      "text/plain": [
       "(array([1], dtype=int64), array([6819], dtype=int64))"
      ]
     },
     "execution_count": 10,
     "metadata": {},
     "output_type": "execute_result"
    }
   ],
   "source": [
    "unique, counts = np.unique(df[\" Net Income Flag\"], return_counts=True)\n",
    "unique, counts"
   ]
  },
  {
   "cell_type": "markdown",
   "id": "e5914819",
   "metadata": {},
   "source": [
    "Zmienna \"Net Income Flag\" zawsze ma wartość 1, zatem nie ma wpływu na predykcyjność. Możemy się jej pozbyć. Zmienna \"Liability-Assets Flag\" ma wartość 1 tylko w 8 przypadkach, zobaczmy jakich."
   ]
  },
  {
   "cell_type": "code",
   "execution_count": 11,
   "id": "c629168d",
   "metadata": {},
   "outputs": [
    {
     "data": {
      "text/html": [
       "<div>\n",
       "<style scoped>\n",
       "    .dataframe tbody tr th:only-of-type {\n",
       "        vertical-align: middle;\n",
       "    }\n",
       "\n",
       "    .dataframe tbody tr th {\n",
       "        vertical-align: top;\n",
       "    }\n",
       "\n",
       "    .dataframe thead th {\n",
       "        text-align: right;\n",
       "    }\n",
       "</style>\n",
       "<table border=\"1\" class=\"dataframe\">\n",
       "  <thead>\n",
       "    <tr style=\"text-align: right;\">\n",
       "      <th></th>\n",
       "      <th>Bankrupt?</th>\n",
       "      <th>ROA(C) before interest and depreciation before interest</th>\n",
       "      <th>ROA(A) before interest and % after tax</th>\n",
       "      <th>ROA(B) before interest and depreciation after tax</th>\n",
       "      <th>Operating Gross Margin</th>\n",
       "      <th>Realized Sales Gross Margin</th>\n",
       "      <th>Operating Profit Rate</th>\n",
       "      <th>Pre-tax net Interest Rate</th>\n",
       "      <th>After-tax net Interest Rate</th>\n",
       "      <th>Non-industry income and expenditure/revenue</th>\n",
       "      <th>...</th>\n",
       "      <th>Net Income to Total Assets</th>\n",
       "      <th>Total assets to GNP price</th>\n",
       "      <th>No-credit Interval</th>\n",
       "      <th>Gross Profit to Sales</th>\n",
       "      <th>Net Income to Stockholder's Equity</th>\n",
       "      <th>Liability to Equity</th>\n",
       "      <th>Degree of Financial Leverage (DFL)</th>\n",
       "      <th>Interest Coverage Ratio (Interest expense to EBIT)</th>\n",
       "      <th>Net Income Flag</th>\n",
       "      <th>Equity to Liability</th>\n",
       "    </tr>\n",
       "  </thead>\n",
       "  <tbody>\n",
       "    <tr>\n",
       "      <th>56</th>\n",
       "      <td>1</td>\n",
       "      <td>0.066933</td>\n",
       "      <td>0.057185</td>\n",
       "      <td>0.054821</td>\n",
       "      <td>0.601861</td>\n",
       "      <td>0.601861</td>\n",
       "      <td>0.998825</td>\n",
       "      <td>0.796779</td>\n",
       "      <td>0.808717</td>\n",
       "      <td>0.302760</td>\n",
       "      <td>...</td>\n",
       "      <td>0.525651</td>\n",
       "      <td>5.803037e-03</td>\n",
       "      <td>0.623648</td>\n",
       "      <td>0.601857</td>\n",
       "      <td>1.000000</td>\n",
       "      <td>0.182790</td>\n",
       "      <td>0.026763</td>\n",
       "      <td>0.565021</td>\n",
       "      <td>1</td>\n",
       "      <td>0.009178</td>\n",
       "    </tr>\n",
       "    <tr>\n",
       "      <th>1869</th>\n",
       "      <td>1</td>\n",
       "      <td>0.392775</td>\n",
       "      <td>0.432239</td>\n",
       "      <td>0.432946</td>\n",
       "      <td>0.586921</td>\n",
       "      <td>0.586921</td>\n",
       "      <td>0.998776</td>\n",
       "      <td>0.797126</td>\n",
       "      <td>0.809068</td>\n",
       "      <td>0.303470</td>\n",
       "      <td>...</td>\n",
       "      <td>0.722761</td>\n",
       "      <td>2.417803e-03</td>\n",
       "      <td>0.622734</td>\n",
       "      <td>0.586923</td>\n",
       "      <td>0.976180</td>\n",
       "      <td>0.000000</td>\n",
       "      <td>0.026703</td>\n",
       "      <td>0.564698</td>\n",
       "      <td>1</td>\n",
       "      <td>0.009879</td>\n",
       "    </tr>\n",
       "    <tr>\n",
       "      <th>1870</th>\n",
       "      <td>1</td>\n",
       "      <td>0.277726</td>\n",
       "      <td>0.314708</td>\n",
       "      <td>0.307351</td>\n",
       "      <td>0.596621</td>\n",
       "      <td>0.596650</td>\n",
       "      <td>0.998976</td>\n",
       "      <td>0.797176</td>\n",
       "      <td>0.809113</td>\n",
       "      <td>0.303138</td>\n",
       "      <td>...</td>\n",
       "      <td>0.664814</td>\n",
       "      <td>3.231135e-03</td>\n",
       "      <td>0.623270</td>\n",
       "      <td>0.596619</td>\n",
       "      <td>0.902744</td>\n",
       "      <td>0.199162</td>\n",
       "      <td>0.026755</td>\n",
       "      <td>0.564978</td>\n",
       "      <td>1</td>\n",
       "      <td>0.008950</td>\n",
       "    </tr>\n",
       "    <tr>\n",
       "      <th>2001</th>\n",
       "      <td>1</td>\n",
       "      <td>0.438795</td>\n",
       "      <td>0.090166</td>\n",
       "      <td>0.464586</td>\n",
       "      <td>0.540776</td>\n",
       "      <td>0.540776</td>\n",
       "      <td>0.997789</td>\n",
       "      <td>0.790787</td>\n",
       "      <td>0.802967</td>\n",
       "      <td>0.294457</td>\n",
       "      <td>...</td>\n",
       "      <td>0.411809</td>\n",
       "      <td>1.109791e-02</td>\n",
       "      <td>0.625487</td>\n",
       "      <td>0.540775</td>\n",
       "      <td>0.996912</td>\n",
       "      <td>0.209222</td>\n",
       "      <td>0.026779</td>\n",
       "      <td>0.565098</td>\n",
       "      <td>1</td>\n",
       "      <td>0.008753</td>\n",
       "    </tr>\n",
       "    <tr>\n",
       "      <th>2470</th>\n",
       "      <td>1</td>\n",
       "      <td>0.404036</td>\n",
       "      <td>0.223615</td>\n",
       "      <td>0.430055</td>\n",
       "      <td>0.586611</td>\n",
       "      <td>0.586611</td>\n",
       "      <td>0.998568</td>\n",
       "      <td>0.796179</td>\n",
       "      <td>0.808154</td>\n",
       "      <td>0.302249</td>\n",
       "      <td>...</td>\n",
       "      <td>0.572881</td>\n",
       "      <td>8.658754e-03</td>\n",
       "      <td>0.623173</td>\n",
       "      <td>0.586607</td>\n",
       "      <td>0.916329</td>\n",
       "      <td>0.218785</td>\n",
       "      <td>0.026745</td>\n",
       "      <td>0.564930</td>\n",
       "      <td>1</td>\n",
       "      <td>0.008500</td>\n",
       "    </tr>\n",
       "    <tr>\n",
       "      <th>2735</th>\n",
       "      <td>0</td>\n",
       "      <td>0.436894</td>\n",
       "      <td>0.453718</td>\n",
       "      <td>0.479522</td>\n",
       "      <td>0.585062</td>\n",
       "      <td>0.585062</td>\n",
       "      <td>0.998495</td>\n",
       "      <td>0.796770</td>\n",
       "      <td>0.808785</td>\n",
       "      <td>0.303434</td>\n",
       "      <td>...</td>\n",
       "      <td>0.747290</td>\n",
       "      <td>4.202211e-04</td>\n",
       "      <td>0.557613</td>\n",
       "      <td>0.585059</td>\n",
       "      <td>0.885473</td>\n",
       "      <td>0.133503</td>\n",
       "      <td>0.026744</td>\n",
       "      <td>0.564922</td>\n",
       "      <td>1</td>\n",
       "      <td>0.009546</td>\n",
       "    </tr>\n",
       "    <tr>\n",
       "      <th>6613</th>\n",
       "      <td>0</td>\n",
       "      <td>0.279676</td>\n",
       "      <td>0.283362</td>\n",
       "      <td>0.303014</td>\n",
       "      <td>0.637520</td>\n",
       "      <td>0.637520</td>\n",
       "      <td>0.998785</td>\n",
       "      <td>0.797055</td>\n",
       "      <td>0.809000</td>\n",
       "      <td>0.303325</td>\n",
       "      <td>...</td>\n",
       "      <td>0.705559</td>\n",
       "      <td>3.030000e+09</td>\n",
       "      <td>0.623292</td>\n",
       "      <td>0.637516</td>\n",
       "      <td>0.841826</td>\n",
       "      <td>0.265220</td>\n",
       "      <td>0.026791</td>\n",
       "      <td>0.565158</td>\n",
       "      <td>1</td>\n",
       "      <td>0.000000</td>\n",
       "    </tr>\n",
       "    <tr>\n",
       "      <th>6640</th>\n",
       "      <td>1</td>\n",
       "      <td>0.196802</td>\n",
       "      <td>0.211023</td>\n",
       "      <td>0.221425</td>\n",
       "      <td>0.598056</td>\n",
       "      <td>0.598056</td>\n",
       "      <td>0.998933</td>\n",
       "      <td>0.796144</td>\n",
       "      <td>0.808149</td>\n",
       "      <td>0.301423</td>\n",
       "      <td>...</td>\n",
       "      <td>0.519388</td>\n",
       "      <td>1.758765e-02</td>\n",
       "      <td>0.623465</td>\n",
       "      <td>0.598051</td>\n",
       "      <td>0.856906</td>\n",
       "      <td>0.259280</td>\n",
       "      <td>0.026769</td>\n",
       "      <td>0.565052</td>\n",
       "      <td>1</td>\n",
       "      <td>0.003946</td>\n",
       "    </tr>\n",
       "  </tbody>\n",
       "</table>\n",
       "<p>8 rows × 96 columns</p>\n",
       "</div>"
      ],
      "text/plain": [
       "      Bankrupt?   ROA(C) before interest and depreciation before interest  \\\n",
       "56            1                                           0.066933          \n",
       "1869          1                                           0.392775          \n",
       "1870          1                                           0.277726          \n",
       "2001          1                                           0.438795          \n",
       "2470          1                                           0.404036          \n",
       "2735          0                                           0.436894          \n",
       "6613          0                                           0.279676          \n",
       "6640          1                                           0.196802          \n",
       "\n",
       "       ROA(A) before interest and % after tax  \\\n",
       "56                                   0.057185   \n",
       "1869                                 0.432239   \n",
       "1870                                 0.314708   \n",
       "2001                                 0.090166   \n",
       "2470                                 0.223615   \n",
       "2735                                 0.453718   \n",
       "6613                                 0.283362   \n",
       "6640                                 0.211023   \n",
       "\n",
       "       ROA(B) before interest and depreciation after tax  \\\n",
       "56                                             0.054821    \n",
       "1869                                           0.432946    \n",
       "1870                                           0.307351    \n",
       "2001                                           0.464586    \n",
       "2470                                           0.430055    \n",
       "2735                                           0.479522    \n",
       "6613                                           0.303014    \n",
       "6640                                           0.221425    \n",
       "\n",
       "       Operating Gross Margin   Realized Sales Gross Margin  \\\n",
       "56                   0.601861                      0.601861   \n",
       "1869                 0.586921                      0.586921   \n",
       "1870                 0.596621                      0.596650   \n",
       "2001                 0.540776                      0.540776   \n",
       "2470                 0.586611                      0.586611   \n",
       "2735                 0.585062                      0.585062   \n",
       "6613                 0.637520                      0.637520   \n",
       "6640                 0.598056                      0.598056   \n",
       "\n",
       "       Operating Profit Rate   Pre-tax net Interest Rate  \\\n",
       "56                  0.998825                    0.796779   \n",
       "1869                0.998776                    0.797126   \n",
       "1870                0.998976                    0.797176   \n",
       "2001                0.997789                    0.790787   \n",
       "2470                0.998568                    0.796179   \n",
       "2735                0.998495                    0.796770   \n",
       "6613                0.998785                    0.797055   \n",
       "6640                0.998933                    0.796144   \n",
       "\n",
       "       After-tax net Interest Rate  \\\n",
       "56                        0.808717   \n",
       "1869                      0.809068   \n",
       "1870                      0.809113   \n",
       "2001                      0.802967   \n",
       "2470                      0.808154   \n",
       "2735                      0.808785   \n",
       "6613                      0.809000   \n",
       "6640                      0.808149   \n",
       "\n",
       "       Non-industry income and expenditure/revenue  ...  \\\n",
       "56                                        0.302760  ...   \n",
       "1869                                      0.303470  ...   \n",
       "1870                                      0.303138  ...   \n",
       "2001                                      0.294457  ...   \n",
       "2470                                      0.302249  ...   \n",
       "2735                                      0.303434  ...   \n",
       "6613                                      0.303325  ...   \n",
       "6640                                      0.301423  ...   \n",
       "\n",
       "       Net Income to Total Assets   Total assets to GNP price  \\\n",
       "56                       0.525651                5.803037e-03   \n",
       "1869                     0.722761                2.417803e-03   \n",
       "1870                     0.664814                3.231135e-03   \n",
       "2001                     0.411809                1.109791e-02   \n",
       "2470                     0.572881                8.658754e-03   \n",
       "2735                     0.747290                4.202211e-04   \n",
       "6613                     0.705559                3.030000e+09   \n",
       "6640                     0.519388                1.758765e-02   \n",
       "\n",
       "       No-credit Interval   Gross Profit to Sales  \\\n",
       "56               0.623648                0.601857   \n",
       "1869             0.622734                0.586923   \n",
       "1870             0.623270                0.596619   \n",
       "2001             0.625487                0.540775   \n",
       "2470             0.623173                0.586607   \n",
       "2735             0.557613                0.585059   \n",
       "6613             0.623292                0.637516   \n",
       "6640             0.623465                0.598051   \n",
       "\n",
       "       Net Income to Stockholder's Equity   Liability to Equity  \\\n",
       "56                               1.000000              0.182790   \n",
       "1869                             0.976180              0.000000   \n",
       "1870                             0.902744              0.199162   \n",
       "2001                             0.996912              0.209222   \n",
       "2470                             0.916329              0.218785   \n",
       "2735                             0.885473              0.133503   \n",
       "6613                             0.841826              0.265220   \n",
       "6640                             0.856906              0.259280   \n",
       "\n",
       "       Degree of Financial Leverage (DFL)  \\\n",
       "56                               0.026763   \n",
       "1869                             0.026703   \n",
       "1870                             0.026755   \n",
       "2001                             0.026779   \n",
       "2470                             0.026745   \n",
       "2735                             0.026744   \n",
       "6613                             0.026791   \n",
       "6640                             0.026769   \n",
       "\n",
       "       Interest Coverage Ratio (Interest expense to EBIT)   Net Income Flag  \\\n",
       "56                                             0.565021                   1   \n",
       "1869                                           0.564698                   1   \n",
       "1870                                           0.564978                   1   \n",
       "2001                                           0.565098                   1   \n",
       "2470                                           0.564930                   1   \n",
       "2735                                           0.564922                   1   \n",
       "6613                                           0.565158                   1   \n",
       "6640                                           0.565052                   1   \n",
       "\n",
       "       Equity to Liability  \n",
       "56                0.009178  \n",
       "1869              0.009879  \n",
       "1870              0.008950  \n",
       "2001              0.008753  \n",
       "2470              0.008500  \n",
       "2735              0.009546  \n",
       "6613              0.000000  \n",
       "6640              0.003946  \n",
       "\n",
       "[8 rows x 96 columns]"
      ]
     },
     "execution_count": 11,
     "metadata": {},
     "output_type": "execute_result"
    }
   ],
   "source": [
    "df.loc[df[\" Liability-Assets Flag\"] == 1]"
   ]
  },
  {
   "cell_type": "markdown",
   "id": "a9ba488a",
   "metadata": {},
   "source": [
    "Flaga Liability-Assets jest ustawiona na 1 zarówno kiedy bakrupt jest 1 jak i 0. Przy eliminacji outlierów i tak zamienimy flagę 1 na 0 (bo jest ich mniej niż 2.5%). Zmienna ta również nie będzie miała wartości predykcyjnej. Można ją zatem usunąć."
   ]
  },
  {
   "cell_type": "code",
   "execution_count": 12,
   "id": "ea74d9da",
   "metadata": {},
   "outputs": [],
   "source": [
    "df = df.drop(\" Liability-Assets Flag\", axis = 1)\n",
    "df = df.drop(\" Net Income Flag\", axis = 1)"
   ]
  },
  {
   "cell_type": "code",
   "execution_count": 13,
   "id": "1705ea73",
   "metadata": {},
   "outputs": [
    {
     "data": {
      "text/plain": [
       "3.2262795131250916"
      ]
     },
     "execution_count": 13,
     "metadata": {},
     "output_type": "execute_result"
    }
   ],
   "source": [
    "100*df.loc[df[\"Bankrupt?\"] == 1].shape[0]/df.shape[0] "
   ]
  },
  {
   "cell_type": "markdown",
   "id": "2a27f359",
   "metadata": {},
   "source": [
    "Zaledwie lekko ponad 3% rekordów jest oznaczone flagą bankurpt."
   ]
  },
  {
   "cell_type": "markdown",
   "id": "d335211f",
   "metadata": {},
   "source": [
    "## Podział zbioru danych na dane budujące i do walidacji"
   ]
  },
  {
   "cell_type": "code",
   "execution_count": 14,
   "id": "c2efdf58",
   "metadata": {},
   "outputs": [],
   "source": [
    "y = np.array(df[\"Bankrupt?\"])\n",
    "X = df.drop([\"Bankrupt?\"], axis = 1)\n",
    "X_build, X_val, y_build, y_val = train_test_split(\n",
    "    X, y, stratify=y, test_size=0.3, random_state=321\n",
    ")\n",
    "X_train, X_test, y_train, y_test = train_test_split(\n",
    "    X_build, y_build, stratify=y_build, test_size=0.3, random_state=123\n",
    ")"
   ]
  },
  {
   "cell_type": "markdown",
   "id": "e41b6454",
   "metadata": {},
   "source": [
    "Eksport danych do walidacji"
   ]
  },
  {
   "cell_type": "code",
   "execution_count": 15,
   "id": "aab2a65d",
   "metadata": {},
   "outputs": [],
   "source": [
    "df_val = X_val.copy()\n",
    "df_val[\"Bankrupt?\"] = y_val.copy()\n",
    "df_val.to_csv(\"data_val.csv\")"
   ]
  },
  {
   "cell_type": "markdown",
   "id": "7bfd3e0e",
   "metadata": {},
   "source": [
    "## Prosty pre-processing danych"
   ]
  },
  {
   "cell_type": "code",
   "execution_count": 16,
   "id": "5df15bd1",
   "metadata": {},
   "outputs": [],
   "source": [
    "df_train = X_train.copy()\n",
    "df_train[\"Bankrupt?\"] = y_train.copy()\n",
    "df_test = X_test.copy()\n",
    "df_test[\"Bankrupt?\"] = y_test.copy()"
   ]
  },
  {
   "cell_type": "markdown",
   "id": "05a5e77e",
   "metadata": {},
   "source": [
    "###  Outliery"
   ]
  },
  {
   "cell_type": "markdown",
   "id": "a00141af",
   "metadata": {},
   "source": [
    "Wartości poniżej precentyla 2.5 i powyżej 97.5 będziemy zastępować wartościami skrajnymi."
   ]
  },
  {
   "cell_type": "code",
   "execution_count": 17,
   "id": "56d293d9",
   "metadata": {},
   "outputs": [],
   "source": [
    "from sklearn.base import BaseEstimator, TransformerMixin\n",
    "\n",
    "class outliers(BaseEstimator, TransformerMixin):\n",
    "    def fit(self, X):\n",
    "        self.upper_lim={}\n",
    "        self.lower_lim={}\n",
    "        for col in X.columns:\n",
    "            self.upper_lim[col] = X[col].quantile(.975)\n",
    "            self.lower_lim[col] = X[col].quantile(.025)\n",
    "        return self\n",
    "    def transform(self, X):\n",
    "        y_temp = X[\"Bankrupt?\"]\n",
    "        X = X.drop(\"Bankrupt?\", axis = 1)\n",
    "        for col in X.columns:\n",
    "            X[col] = np.where(X[col] < self.upper_lim[col], X[col], self.upper_lim[col])\n",
    "            X[col] = np.where(X[col] > self.lower_lim[col], X[col], self.lower_lim[col])\n",
    "        X[\"Bankrupt?\"] = y_temp\n",
    "        return X"
   ]
  },
  {
   "cell_type": "markdown",
   "id": "6b05fbbc",
   "metadata": {},
   "source": [
    "### Zmiana kierunku korelacji"
   ]
  },
  {
   "cell_type": "markdown",
   "id": "936e3705",
   "metadata": {},
   "source": [
    "Użyjemy korelacji Spearmana. Wszystkie zmienne przekształcimy tak, aby były dodatnio skorelowane ze zmienną celu."
   ]
  },
  {
   "cell_type": "code",
   "execution_count": 18,
   "id": "305b02f2",
   "metadata": {},
   "outputs": [],
   "source": [
    "from scipy.stats import spearmanr\n",
    "\n",
    "class direction_change(BaseEstimator, TransformerMixin):\n",
    "    def fit(self, X):\n",
    "        self.dir_change = set()\n",
    "        y_temp = X[\"Bankrupt?\"]\n",
    "        X = X.drop(\"Bankrupt?\", axis = 1)\n",
    "        for col in X:\n",
    "            for col in X.columns:\n",
    "                if (spearmanr(X[col], y_temp)[0] < 0):\n",
    "                    self.dir_change.add(col)\n",
    "        X.insert(0, \"Bankrupt?\",y_temp)\n",
    "        return self\n",
    "    def transform(self, X):\n",
    "        y_temp = X[\"Bankrupt?\"]\n",
    "        X = X.drop(\"Bankrupt?\", axis = 1)\n",
    "        for col in X:\n",
    "            for col in X.columns:\n",
    "                if (col in self.dir_change):\n",
    "                    X[col] = -X[col]\n",
    "        X.insert(0, \"Bankrupt?\",y_temp)\n",
    "        return X"
   ]
  },
  {
   "cell_type": "markdown",
   "id": "1e4dfa8f",
   "metadata": {},
   "source": [
    "### Normalizacja min-max i pipeline"
   ]
  },
  {
   "cell_type": "markdown",
   "id": "e640d4c2",
   "metadata": {},
   "source": [
    "Aby znormalizować wartości użyjemy funkcji MinMaxScaler z biblioteki sklearn."
   ]
  },
  {
   "cell_type": "markdown",
   "id": "beac2ce0",
   "metadata": {},
   "source": [
    "Wprowadzamy wszystkie przekształcenia do pipelina."
   ]
  },
  {
   "cell_type": "code",
   "execution_count": 19,
   "id": "cbe7172c",
   "metadata": {},
   "outputs": [],
   "source": [
    "from sklearn.preprocessing import MinMaxScaler\n",
    "from sklearn.pipeline import Pipeline\n",
    "\n",
    "pipe = Pipeline([\n",
    "    ('outliers', outliers()),\n",
    "    ('direction_change', direction_change()),\n",
    "    ('minmax', MinMaxScaler())\n",
    "])"
   ]
  },
  {
   "cell_type": "code",
   "execution_count": 20,
   "id": "8e1db929",
   "metadata": {},
   "outputs": [],
   "source": [
    "df_train = pd.DataFrame(pipe.fit_transform(df_train), columns = df.columns)\n",
    "df_train[\"Bankrupt?\"] = np.int64(df_train[\"Bankrupt?\"])\n",
    "df_test = pd.DataFrame(pipe.fit_transform(df_test), columns = df.columns)\n",
    "df_test[\"Bankrupt?\"] = np.int64(df_test[\"Bankrupt?\"])"
   ]
  },
  {
   "cell_type": "code",
   "execution_count": 21,
   "id": "0e77972d",
   "metadata": {},
   "outputs": [],
   "source": [
    "y_train = np.array(df_train[\"Bankrupt?\"])\n",
    "X_train = df_train.drop([\"Bankrupt?\"], axis = 1)\n",
    "\n",
    "y_test = np.array(df_test[\"Bankrupt?\"])\n",
    "X_test = df_test.drop([\"Bankrupt?\"], axis = 1)"
   ]
  },
  {
   "cell_type": "markdown",
   "id": "04fd5c1d",
   "metadata": {},
   "source": [
    "## Uczenie klasyfikatorów"
   ]
  },
  {
   "cell_type": "code",
   "execution_count": 60,
   "id": "6d81a9a5",
   "metadata": {
    "scrolled": true
   },
   "outputs": [],
   "source": [
    "from sklearn.svm import SVC\n",
    "from sklearn.ensemble import RandomForestClassifier\n",
    "from sklearn.tree import DecisionTreeClassifier\n",
    "from sklearn.model_selection import cross_val_score\n",
    "from sklearn.model_selection import GridSearchCV\n",
    "from sklearn.model_selection import RandomizedSearchCV\n",
    "from sklearn.metrics import classification_report"
   ]
  },
  {
   "cell_type": "markdown",
   "id": "17b1b981",
   "metadata": {},
   "source": [
    "### Support Vector Machines"
   ]
  },
  {
   "cell_type": "code",
   "execution_count": 51,
   "id": "fc0cde30",
   "metadata": {},
   "outputs": [],
   "source": [
    "param_grid_svm  = {\n",
    "    'C' : [10, 100, 1000],\n",
    "    'kernel' : ['linear', 'poly', 'rbf', 'sigmoid'],\n",
    "    'gamma' : ['scale', 'auto', 1, 0.2, 0.04],\n",
    "    'class_weight' : ['balanced', None]\n",
    "}"
   ]
  },
  {
   "cell_type": "code",
   "execution_count": 52,
   "id": "81b337cb",
   "metadata": {
    "scrolled": true
   },
   "outputs": [
    {
     "data": {
      "text/plain": [
       "GridSearchCV(cv=5, estimator=SVC(), n_jobs=-1,\n",
       "             param_grid={'C': [10, 100, 1000],\n",
       "                         'class_weight': ['balanced', None],\n",
       "                         'gamma': ['scale', 'auto', 1, 0.2, 0.04],\n",
       "                         'kernel': ['linear', 'poly', 'rbf', 'sigmoid']},\n",
       "             scoring='roc_auc')"
      ]
     },
     "execution_count": 52,
     "metadata": {},
     "output_type": "execute_result"
    }
   ],
   "source": [
    "svm = SVC()\n",
    "svm_tuned = GridSearchCV(svm, param_grid_svm, cv = 5, n_jobs = -1, scoring = 'roc_auc')\n",
    "svm_tuned.fit(X_train, y_train)"
   ]
  },
  {
   "cell_type": "code",
   "execution_count": 53,
   "id": "36f89db1",
   "metadata": {},
   "outputs": [
    {
     "data": {
      "text/plain": [
       "{'C': 10, 'class_weight': 'balanced', 'gamma': 'auto', 'kernel': 'poly'}"
      ]
     },
     "execution_count": 53,
     "metadata": {},
     "output_type": "execute_result"
    }
   ],
   "source": [
    "svm_tuned.best_params_"
   ]
  },
  {
   "cell_type": "markdown",
   "id": "625f2717",
   "metadata": {},
   "source": [
    "Wszystkie parametry wydają się być niezwykle istotne. Najlepszy okazał się klasyfikator z parametrem regularyzacji 10, automatycznie dobraną gammą (czyli w sklearnie 1/liczba_cech), jądrem wielomianowym i ze zbalansowanymi wagami."
   ]
  },
  {
   "cell_type": "code",
   "execution_count": 54,
   "id": "c82bd545",
   "metadata": {},
   "outputs": [],
   "source": [
    "svm_best = svm_tuned.best_estimator_"
   ]
  },
  {
   "cell_type": "markdown",
   "id": "7c342754",
   "metadata": {},
   "source": [
    "### Random Forest Classifier"
   ]
  },
  {
   "cell_type": "code",
   "execution_count": 87,
   "id": "be2ac870",
   "metadata": {},
   "outputs": [],
   "source": [
    "param_grid_rfc  = {\n",
    "    'n_estimators': np.arange(500, 3000),\n",
    "    \"max_depth\": np.arange(1,93),\n",
    "    \"max_features\": ['auto', 'log2'],\n",
    "    \"min_samples_split\" : np.arange(2,10),\n",
    "    \"min_samples_leaf\": np.arange(1,10),\n",
    "    'bootstrap': [True, False]\n",
    "}"
   ]
  },
  {
   "cell_type": "code",
   "execution_count": 88,
   "id": "5382f7c2",
   "metadata": {},
   "outputs": [
    {
     "data": {
      "text/plain": [
       "RandomizedSearchCV(cv=5, estimator=RandomForestClassifier(random_state=42),\n",
       "                   n_iter=50, n_jobs=-1,\n",
       "                   param_distributions={'bootstrap': [True, False],\n",
       "                                        'max_depth': array([ 1,  2,  3,  4,  5,  6,  7,  8,  9, 10, 11, 12, 13, 14, 15, 16, 17,\n",
       "       18, 19, 20, 21, 22, 23, 24, 25, 26, 27, 28, 29, 30, 31, 32, 33, 34,\n",
       "       35, 36, 37, 38, 39, 40, 41, 42, 43, 44, 45, 46, 47, 48, 49, 50, 51,\n",
       "       52, 53, 54, 55, 56, 57, 58, 59, 60, 61, 62, 63, 64, 65, 66, 67, 68,\n",
       "       69, 70, 71, 72, 73, 74, 75, 76, 77, 78, 79, 80, 81, 82, 83, 84, 85,\n",
       "       86, 87, 88, 89, 90, 91, 92]),\n",
       "                                        'max_features': ['auto', 'sqrt',\n",
       "                                                         'log2'],\n",
       "                                        'min_samples_leaf': array([1, 2, 3, 4, 5, 6, 7, 8, 9]),\n",
       "                                        'min_samples_split': array([2, 3, 4, 5, 6, 7, 8, 9]),\n",
       "                                        'n_estimators': array([ 500,  501,  502, ..., 2997, 2998, 2999])},\n",
       "                   random_state=42, scoring='roc_auc')"
      ]
     },
     "execution_count": 88,
     "metadata": {},
     "output_type": "execute_result"
    }
   ],
   "source": [
    "rfc = RandomForestClassifier(random_state = 42)\n",
    "rfc_tuned = RandomizedSearchCV(rfc, param_grid_rfc, cv = 5, n_jobs = -1, scoring = 'roc_auc', n_iter = 50, random_state = 42)\n",
    "rfc_tuned.fit(X_train, y_train)"
   ]
  },
  {
   "cell_type": "code",
   "execution_count": 89,
   "id": "ba3a9482",
   "metadata": {},
   "outputs": [
    {
     "data": {
      "text/plain": [
       "{'n_estimators': 2288,\n",
       " 'min_samples_split': 2,\n",
       " 'min_samples_leaf': 2,\n",
       " 'max_features': 'auto',\n",
       " 'max_depth': 40,\n",
       " 'bootstrap': True}"
      ]
     },
     "execution_count": 89,
     "metadata": {},
     "output_type": "execute_result"
    }
   ],
   "source": [
    "rfc_tuned.best_params_"
   ]
  },
  {
   "cell_type": "markdown",
   "id": "e5b3c8be",
   "metadata": {},
   "source": [
    "Najlepszy okazał się klasyfikator, który tworzy 2288 drzew, z minimalnie dwiema obserwacjami potrzebnymi do podzielenia węzła, minimalnie dwoma obserwacjami w liściu, z automatyczną maksymalną liczbą cech (czyli w sklearn pierwiastek z liczby cech), z maksymalną głębokością drzewa 40 i używający bootstrapu. "
   ]
  },
  {
   "cell_type": "code",
   "execution_count": 90,
   "id": "6347962f",
   "metadata": {},
   "outputs": [],
   "source": [
    "rfc_best = rfc_tuned.best_estimator_"
   ]
  },
  {
   "cell_type": "markdown",
   "id": "f4c970f4",
   "metadata": {},
   "source": [
    "### Decision Tree Classifier"
   ]
  },
  {
   "cell_type": "code",
   "execution_count": 80,
   "id": "e4818f8e",
   "metadata": {},
   "outputs": [],
   "source": [
    "param_grid_dtc = {\n",
    "    \"max_depth\": np.arange(1,93),\n",
    "    \"max_features\": ['auto', 'sqrt', 'log2'],\n",
    "    \"min_samples_leaf\": np.arange(1,10),\n",
    "    \"criterion\": [\"gini\", \"entropy\"],\n",
    "    \"min_samples_split\" : np.arange(2,10)\n",
    "}"
   ]
  },
  {
   "cell_type": "code",
   "execution_count": 81,
   "id": "0ee7b2e2",
   "metadata": {},
   "outputs": [
    {
     "data": {
      "text/plain": [
       "RandomizedSearchCV(cv=5, estimator=DecisionTreeClassifier(random_state=42),\n",
       "                   n_iter=1000, n_jobs=-1,\n",
       "                   param_distributions={'criterion': ['gini', 'entropy'],\n",
       "                                        'max_depth': array([ 1,  2,  3,  4,  5,  6,  7,  8,  9, 10, 11, 12, 13, 14, 15, 16, 17,\n",
       "       18, 19, 20, 21, 22, 23, 24, 25, 26, 27, 28, 29, 30, 31, 32, 33, 34,\n",
       "       35, 36, 37, 38, 39, 40, 41, 42, 43, 44, 45, 46, 47, 48, 49, 50, 51,\n",
       "       52, 53, 54, 55, 56, 57, 58, 59, 60, 61, 62, 63, 64, 65, 66, 67, 68,\n",
       "       69, 70, 71, 72, 73, 74, 75, 76, 77, 78, 79, 80, 81, 82, 83, 84, 85,\n",
       "       86, 87, 88, 89, 90, 91, 92]),\n",
       "                                        'max_features': ['auto', 'sqrt',\n",
       "                                                         'log2'],\n",
       "                                        'min_samples_leaf': array([1, 2, 3, 4, 5, 6, 7, 8, 9]),\n",
       "                                        'min_samples_split': array([2, 3, 4, 5, 6, 7, 8, 9])},\n",
       "                   random_state=42, scoring='roc_auc')"
      ]
     },
     "execution_count": 81,
     "metadata": {},
     "output_type": "execute_result"
    }
   ],
   "source": [
    "dtc = DecisionTreeClassifier(random_state = 42)\n",
    "dtc_tuned = RandomizedSearchCV(dtc, param_grid_dtc, cv = 5, n_jobs = -1, scoring = 'roc_auc', n_iter = 1000, random_state = 42)\n",
    "dtc_tuned.fit(X_train, y_train)"
   ]
  },
  {
   "cell_type": "code",
   "execution_count": 82,
   "id": "b8288183",
   "metadata": {},
   "outputs": [
    {
     "data": {
      "text/plain": [
       "{'min_samples_split': 6,\n",
       " 'min_samples_leaf': 1,\n",
       " 'max_features': 'auto',\n",
       " 'max_depth': 4,\n",
       " 'criterion': 'entropy'}"
      ]
     },
     "execution_count": 82,
     "metadata": {},
     "output_type": "execute_result"
    }
   ],
   "source": [
    "dtc_tuned.best_params_"
   ]
  },
  {
   "cell_type": "code",
   "execution_count": 83,
   "id": "2036a8da",
   "metadata": {},
   "outputs": [],
   "source": [
    "dtc_best = dtc_tuned.best_estimator_"
   ]
  },
  {
   "cell_type": "markdown",
   "id": "99d8abe0",
   "metadata": {},
   "source": [
    "Najlepszy okazał się klasyfikator o maksymalnej glębokości 4, z minimalnie sześcioma obserwacjami potrzebnymi do podzielenia węzła, minimalnie jedną obserwacją w liściu, z automatyczną maksymalną liczbą cech (pierwiastek z liczby cech). Najlepiej jakość podziału mierzyć za pomocą entropii."
   ]
  },
  {
   "cell_type": "markdown",
   "id": "da55ef8e",
   "metadata": {},
   "source": [
    "## Ocena jakości klasyfikatorów"
   ]
  },
  {
   "cell_type": "markdown",
   "id": "0b2ddf31",
   "metadata": {},
   "source": [
    "Dokonujemy oceny jakości klasyfikatorów. Zdecydowaliśmy się na scoringi `accuracy`, `precision` oraz `recall`."
   ]
  },
  {
   "cell_type": "code",
   "execution_count": 91,
   "id": "0539d88e",
   "metadata": {},
   "outputs": [],
   "source": [
    "from sklearn.metrics import accuracy_score\n",
    "from sklearn.metrics import precision_score\n",
    "from sklearn.metrics import recall_score\n",
    "\n",
    "def print_scores(s1, s2, s3):\n",
    "    print(f\"accuracy: mean = {np.round(np.mean(s1), 4)}, std = {np.round(np.std(s1), 4)}\")\n",
    "    print(f\"precision: mean = {np.round(np.mean(s2), 4)}, std = {np.round(np.std(s2), 4)}\")\n",
    "    print(f\"recall: mean = {np.round(np.mean(s3), 4)}, std = {np.round(np.std(s3), 4)}\")\n",
    "    \n",
    "def print_scores_test(s1, s2, s3):\n",
    "    print(\"accuracy:\", np.round(s1, 4))\n",
    "    print(\"precision:\", np.round(s2, 4))\n",
    "    print(\"recall:\", np.round(s3, 4))"
   ]
  },
  {
   "cell_type": "markdown",
   "id": "ef36307a",
   "metadata": {},
   "source": [
    "### Support Vector Machines"
   ]
  },
  {
   "cell_type": "code",
   "execution_count": 92,
   "id": "eff5b122",
   "metadata": {},
   "outputs": [],
   "source": [
    "train_acc = cross_val_score(svm_best, X_train, y_train, scoring='accuracy', cv = 4)\n",
    "train_pr = cross_val_score(svm_best, X_train, y_train, scoring='precision', cv = 4)\n",
    "train_rec = cross_val_score(svm_best, X_train, y_train, scoring='recall', cv = 4)"
   ]
  },
  {
   "cell_type": "code",
   "execution_count": 93,
   "id": "f2676e8f",
   "metadata": {},
   "outputs": [
    {
     "name": "stdout",
     "output_type": "stream",
     "text": [
      "accuracy: mean = 0.9054, std = 0.005\n",
      "precision: mean = 0.2246, std = 0.0238\n",
      "recall: mean = 0.787, std = 0.0921\n"
     ]
    }
   ],
   "source": [
    "print_scores(train_acc, train_pr, train_rec)"
   ]
  },
  {
   "cell_type": "code",
   "execution_count": 94,
   "id": "2c1d8f2b",
   "metadata": {
    "scrolled": true
   },
   "outputs": [],
   "source": [
    "test_acc = accuracy_score(y_test, svm_best.predict(X_test))\n",
    "test_pr = precision_score(y_test, svm_best.predict(X_test))\n",
    "test_rec = recall_score(y_test, svm_best.predict(X_test))"
   ]
  },
  {
   "cell_type": "code",
   "execution_count": 95,
   "id": "c55a2820",
   "metadata": {
    "scrolled": true
   },
   "outputs": [
    {
     "name": "stdout",
     "output_type": "stream",
     "text": [
      "accuracy: 0.9064\n",
      "precision: 0.2143\n",
      "recall: 0.7174\n"
     ]
    }
   ],
   "source": [
    "print_scores_test(test_acc, test_pr, test_rec)"
   ]
  },
  {
   "cell_type": "markdown",
   "id": "3b7cadb7",
   "metadata": {},
   "source": [
    "Wyniki na danych testowych i treningowych są mniej więcej takie same. "
   ]
  },
  {
   "cell_type": "markdown",
   "id": "95faee0f",
   "metadata": {},
   "source": [
    "### Random Forest Classifier"
   ]
  },
  {
   "cell_type": "code",
   "execution_count": 96,
   "id": "f3803182",
   "metadata": {
    "scrolled": false
   },
   "outputs": [],
   "source": [
    "train_acc = cross_val_score(rfc_best, X_train, y_train, scoring='accuracy', cv = 4)\n",
    "train_pr = cross_val_score(rfc_best, X_train, y_train, scoring='precision', cv = 4)\n",
    "train_rec = cross_val_score(rfc_best, X_train, y_train, scoring='recall', cv = 4)"
   ]
  },
  {
   "cell_type": "code",
   "execution_count": 97,
   "id": "ba99540c",
   "metadata": {},
   "outputs": [
    {
     "name": "stdout",
     "output_type": "stream",
     "text": [
      "accuracy: mean = 0.9713, std = 0.0\n",
      "precision: mean = 0.7071, std = 0.0711\n",
      "recall: mean = 0.213, std = 0.0711\n"
     ]
    }
   ],
   "source": [
    "print_scores(train_acc, train_pr, train_rec)"
   ]
  },
  {
   "cell_type": "code",
   "execution_count": 98,
   "id": "66368222",
   "metadata": {},
   "outputs": [],
   "source": [
    "test_acc = accuracy_score(y_test, rfc_best.predict(X_test))\n",
    "test_pr = precision_score(y_test, rfc_best.predict(X_test))\n",
    "test_rec = recall_score(y_test, rfc_best.predict(X_test))"
   ]
  },
  {
   "cell_type": "code",
   "execution_count": 99,
   "id": "a5b0786d",
   "metadata": {
    "scrolled": true
   },
   "outputs": [
    {
     "name": "stdout",
     "output_type": "stream",
     "text": [
      "accuracy: 0.9679\n",
      "precision: 0.5\n",
      "recall: 0.2174\n"
     ]
    }
   ],
   "source": [
    "print_scores_test(test_acc, test_pr, test_rec)"
   ]
  },
  {
   "cell_type": "markdown",
   "id": "a4ea2a8b",
   "metadata": {},
   "source": [
    "Na danych treningowych otrzymujemy znacząco lepsze 'accuracy' i 'precision', może to świadczyć o tym, że model cały czas jest jeszcze przetrenowany."
   ]
  },
  {
   "cell_type": "markdown",
   "id": "aaa9e54c",
   "metadata": {},
   "source": [
    "### Decision Tree Classifier"
   ]
  },
  {
   "cell_type": "code",
   "execution_count": 100,
   "id": "031c6e6b",
   "metadata": {
    "scrolled": false
   },
   "outputs": [],
   "source": [
    "train_acc = cross_val_score(dtc_best, X_train, y_train, scoring='accuracy', cv = 4)\n",
    "train_pr = cross_val_score(dtc_best, X_train, y_train, scoring='precision', cv = 4)\n",
    "train_rec = cross_val_score(dtc_best, X_train, y_train, scoring='recall', cv = 4)"
   ]
  },
  {
   "cell_type": "code",
   "execution_count": 101,
   "id": "f194f868",
   "metadata": {
    "scrolled": true
   },
   "outputs": [
    {
     "name": "stdout",
     "output_type": "stream",
     "text": [
      "accuracy: mean = 0.9626, std = 0.0041\n",
      "precision: mean = 0.1518, std = 0.1523\n",
      "recall: mean = 0.1019, std = 0.137\n"
     ]
    }
   ],
   "source": [
    "print_scores(train_acc, train_pr, train_rec)"
   ]
  },
  {
   "cell_type": "code",
   "execution_count": 102,
   "id": "ea748c97",
   "metadata": {},
   "outputs": [],
   "source": [
    "test_acc = accuracy_score(y_test, dtc_best.predict(X_test))\n",
    "test_pr = precision_score(y_test, dtc_best.predict(X_test))\n",
    "test_rec = recall_score(y_test, dtc_best.predict(X_test))"
   ]
  },
  {
   "cell_type": "code",
   "execution_count": 103,
   "id": "0f815dc5",
   "metadata": {
    "scrolled": true
   },
   "outputs": [
    {
     "name": "stdout",
     "output_type": "stream",
     "text": [
      "accuracy: 0.9616\n",
      "precision: 0.3448\n",
      "recall: 0.2174\n"
     ]
    }
   ],
   "source": [
    "print_scores_test(test_acc, test_pr, test_rec)"
   ]
  },
  {
   "cell_type": "markdown",
   "id": "56b34390",
   "metadata": {},
   "source": [
    "Wyniki dla danych testowych są nawet lepsze od wyników na danych treningowych."
   ]
  }
 ],
 "metadata": {
  "kernelspec": {
   "display_name": "Python 3 (ipykernel)",
   "language": "python",
   "name": "python3"
  },
  "language_info": {
   "codemirror_mode": {
    "name": "ipython",
    "version": 3
   },
   "file_extension": ".py",
   "mimetype": "text/x-python",
   "name": "python",
   "nbconvert_exporter": "python",
   "pygments_lexer": "ipython3",
   "version": "3.9.12"
  }
 },
 "nbformat": 4,
 "nbformat_minor": 5
}
