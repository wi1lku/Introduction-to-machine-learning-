{
 "cells": [
  {
   "cell_type": "markdown",
   "id": "b97105a7",
   "metadata": {},
   "source": [
    "# Budowanie modeli na przetworzonym zbiorze \"Chess king rook\"\n",
    "Julia Kaznowska, Piotr Wilczyński <br>\n",
    "Politechnika Warszawska, Wydział Matematyki i Nauk Informacyjnych, Wstęp do uczenia maszynowego"
   ]
  },
  {
   "cell_type": "markdown",
   "id": "c0085f97",
   "metadata": {},
   "source": [
    "## Import niezbędnych bibliotek oraz zbioru danych"
   ]
  },
  {
   "cell_type": "code",
   "execution_count": 1,
   "id": "d8034844",
   "metadata": {},
   "outputs": [],
   "source": [
    "import pandas as pd\n",
    "import numpy as np\n",
    "import seaborn as sns\n",
    "from matplotlib import pyplot as plt\n",
    "from sklearn import metrics\n",
    "from sklearn.pipeline import Pipeline\n",
    "from sklearn.model_selection import GridSearchCV\n",
    "import warnings\n",
    "warnings.filterwarnings('ignore')\n",
    "\n",
    "# zbiory danych\n",
    "df_train = pd.read_csv(\"test_processed_data.csv\", index_col = 0)\n",
    "df_test = pd.read_csv(\"train_processed_data.csv\", index_col = 0)\n",
    "\n",
    "# wyświetlanie wizualizacji\n",
    "%matplotlib inline"
   ]
  },
  {
   "cell_type": "markdown",
   "id": "deee5213",
   "metadata": {},
   "source": [
    "## Przygotowanie danych"
   ]
  },
  {
   "cell_type": "code",
   "execution_count": 2,
   "id": "b5ce93ca",
   "metadata": {},
   "outputs": [],
   "source": [
    "X_train = df_train.drop('result', axis = 1)\n",
    "y_train = df_train.result\n",
    "X_test = df_test.drop('result', axis = 1)\n",
    "y_test = df_test.result"
   ]
  },
  {
   "cell_type": "markdown",
   "id": "dd458c7c",
   "metadata": {},
   "source": [
    "## Random Forest  i wybranie najważniejszych cech"
   ]
  },
  {
   "cell_type": "markdown",
   "id": "76c93dce",
   "metadata": {},
   "source": [
    "Użyjemy modelu opartego o las losowy, aby stwierdzić, czy któraś z naszych zmiennych nie pogarsza predykcyjności. Problemem będzie to, że nie jest oczywiste, w jaki sposób oceniać jak dobre są predykcje. Wiemy przecież, że jeśli wynikiem powinien być mat w 14 ruchach, to lepiej będzie, żeby model przewidział odpowiedź 13 niż 2. Zatem nie możemy używać takiej miary jak 'accuracy' albo 'recall'. Kusi, żeby w takim przypadku użyć RMSE, żeby wiedzieć jak daleko jesteśmy od poprawnych wyników. Tu jednak natrafiamy na problem z remisami. Jeśli nasz model przewidzi mat w 3 ruchach, gdy powinien być remis, to nie będzie to lepszy wynik niż jeśli model przewidzi mat w 15 ruchach. Napiszemy zatem 2 funkcje oceniające czy predykcje są dobre."
   ]
  },
  {
   "cell_type": "markdown",
   "id": "94dbf047",
   "metadata": {},
   "source": [
    "#### Remisy"
   ]
  },
  {
   "cell_type": "markdown",
   "id": "a1f625bd",
   "metadata": {},
   "source": [
    "Funkcja będzie liczyć F1-score dla rekordów, w których pojawiają się remisy."
   ]
  },
  {
   "cell_type": "code",
   "execution_count": 3,
   "id": "21c97fc9",
   "metadata": {},
   "outputs": [],
   "source": [
    "from sklearn.metrics import make_scorer\n",
    "from sklearn.metrics import f1_score\n",
    "\n",
    "def draw_f1_fun(X, y):\n",
    "    X = np.array(X.copy())\n",
    "    y = y.copy()\n",
    "    for i in range(0, len(y)):\n",
    "        if (y[i] != -1):\n",
    "            y[i] = 0\n",
    "        else: y[i] = 1\n",
    "        if (X[i] != -1):\n",
    "            X[i] = 0\n",
    "        else: X[i] = 1\n",
    "    return f1_score(y, X, zero_division = 0)\n",
    "\n",
    "draw_f1 = make_scorer(draw_f1_fun, greater_is_better=True)"
   ]
  },
  {
   "cell_type": "markdown",
   "id": "14e2d09f",
   "metadata": {},
   "source": [
    "#### Wygrane"
   ]
  },
  {
   "cell_type": "markdown",
   "id": "36e8cc09",
   "metadata": {},
   "source": [
    "Funkcja będzie liczyć rmse dla rekordów w których biały wygrywa."
   ]
  },
  {
   "cell_type": "code",
   "execution_count": 4,
   "id": "6c72fde3",
   "metadata": {},
   "outputs": [],
   "source": [
    "def win_neg_rmse_fun(X, y):\n",
    "    X = np.array(X.copy())\n",
    "    y = y.copy()\n",
    "    mse = 0\n",
    "    cnt = 0\n",
    "    for i in range(0, len(y)):\n",
    "        if(y[i] != -1 and X[i] != -1):\n",
    "            mse += (X[i] - y[i])**2\n",
    "            cnt += 1\n",
    "    return -1*np.sqrt(mse/cnt)\n",
    "\n",
    "win_neg_rmse = make_scorer(win_neg_rmse_fun, greater_is_better=True)"
   ]
  },
  {
   "cell_type": "markdown",
   "id": "22b53b6e",
   "metadata": {},
   "source": [
    "### Najważniejsze cechy"
   ]
  },
  {
   "cell_type": "code",
   "execution_count": 5,
   "id": "e44d1a51",
   "metadata": {},
   "outputs": [],
   "source": [
    "from sklearn.ensemble import RandomForestClassifier"
   ]
  },
  {
   "cell_type": "code",
   "execution_count": 6,
   "id": "2c6868c0",
   "metadata": {},
   "outputs": [
    {
     "data": {
      "text/plain": [
       "array([0.08117867, 0.07319905, 0.07035494, 0.01310361, 0.01376083,\n",
       "       0.01510782, 0.11492081, 0.10913591, 0.11528465, 0.10174292,\n",
       "       0.15520613, 0.13700464])"
      ]
     },
     "execution_count": 6,
     "metadata": {},
     "output_type": "execute_result"
    }
   ],
   "source": [
    "rf_clas = RandomForestClassifier(random_state = 1)\n",
    "rf_clas.fit(X_train, y_train)\n",
    "feature_importances = rf_clas.feature_importances_\n",
    "feature_importances"
   ]
  },
  {
   "cell_type": "code",
   "execution_count": 7,
   "id": "36670ccc",
   "metadata": {},
   "outputs": [
    {
     "data": {
      "text/plain": [
       "[(0.1552061335458736, 'wrook_bking_dist_x'),\n",
       " (0.13700464349992103, 'wrook_bking_dist_y'),\n",
       " (0.11528464630662748, 'wking_bking_dist_x'),\n",
       " (0.11492080840035473, 'wking_wrook_dist_x'),\n",
       " (0.10913591305067713, 'wking_wrook_dist_y'),\n",
       " (0.10174292108743456, 'wking_bking_dist_y'),\n",
       " (0.0811786735046134, 'white_king_edge_dist'),\n",
       " (0.07319905431196676, 'white_rook_edge_dist'),\n",
       " (0.07035494216330455, 'black_king_edge_dist'),\n",
       " (0.01510782208949005, 'black_king_in_corner'),\n",
       " (0.013760832060520626, 'white_rook_in_corner'),\n",
       " (0.013103609979216115, 'white_king_in_corner')]"
      ]
     },
     "execution_count": 7,
     "metadata": {},
     "output_type": "execute_result"
    }
   ],
   "source": [
    "sorted(zip(feature_importances, X_train.columns), reverse=True)"
   ]
  },
  {
   "cell_type": "markdown",
   "id": "552ede77",
   "metadata": {},
   "source": [
    "Jak widać najmniejszy wpływ na predykcyjność mają kolumny mówiące o tym, czy dana figura jest w rogu. Największy ma odległość wieży od czarnego króla."
   ]
  },
  {
   "cell_type": "markdown",
   "id": "132bf4b2",
   "metadata": {},
   "source": [
    "Napiszemy niestandardowy transformator, którego użyjemy, aby sprawdzić, czy modele uczone na danych bez najmniej istotnych kolumn będą osiągały lepsze wyniki."
   ]
  },
  {
   "cell_type": "code",
   "execution_count": 8,
   "id": "2b6c98ea",
   "metadata": {},
   "outputs": [],
   "source": [
    "from sklearn.base import BaseEstimator, TransformerMixin\n",
    "\n",
    "class SelectBestFeatures(BaseEstimator, TransformerMixin):\n",
    "    def __init__(self, feature_importances, k):\n",
    "        self.feature_importances = feature_importances\n",
    "        self.k = k\n",
    "    def fit(self, X, y=None):\n",
    "        self.feature_indices_ = np.sort(np.argpartition(np.array(self.feature_importances), -self.k)[-self.k:])\n",
    "        return self\n",
    "    def transform(self, X):\n",
    "        return X.iloc[:, self.feature_indices_]"
   ]
  },
  {
   "cell_type": "code",
   "execution_count": 9,
   "id": "bd15bd68",
   "metadata": {},
   "outputs": [],
   "source": [
    "k = None\n",
    "rf_kfeatures_pipeline = Pipeline([\n",
    "    ('feature_selection', SelectBestFeatures(feature_importances, k)),\n",
    "    ('rf_clas', RandomForestClassifier(random_state = 1))\n",
    "])"
   ]
  },
  {
   "cell_type": "markdown",
   "id": "2cc69bab",
   "metadata": {},
   "source": [
    "Sprawdźmy czy pozbywając się najmniej istotnych kolumn poprawimy predykcyjność."
   ]
  },
  {
   "cell_type": "markdown",
   "id": "8f8ff06d",
   "metadata": {},
   "source": [
    "#### Remisy"
   ]
  },
  {
   "cell_type": "code",
   "execution_count": 10,
   "id": "624e484f",
   "metadata": {},
   "outputs": [],
   "source": [
    "params = [{'feature_selection__k': list(range(1, len(feature_importances) + 1))}]"
   ]
  },
  {
   "cell_type": "code",
   "execution_count": 11,
   "id": "3d3cc475",
   "metadata": {},
   "outputs": [
    {
     "data": {
      "text/plain": [
       "GridSearchCV(cv=5,\n",
       "             estimator=Pipeline(steps=[('feature_selection',\n",
       "                                        SelectBestFeatures(feature_importances=array([0.08117867, 0.07319905, 0.07035494, 0.01310361, 0.01376083,\n",
       "       0.01510782, 0.11492081, 0.10913591, 0.11528465, 0.10174292,\n",
       "       0.15520613, 0.13700464]),\n",
       "                                                           k=None)),\n",
       "                                       ('rf_clas',\n",
       "                                        RandomForestClassifier(random_state=1))]),\n",
       "             param_grid=[{'feature_selection__k': [1, 2, 3, 4, 5, 6, 7, 8, 9,\n",
       "                                                   10, 11, 12]}],\n",
       "             scoring=make_scorer(draw_f1_fun))"
      ]
     },
     "execution_count": 11,
     "metadata": {},
     "output_type": "execute_result"
    }
   ],
   "source": [
    "grid_search_draws_k = GridSearchCV(rf_kfeatures_pipeline,\n",
    "                                params, cv = 5,\n",
    "                                scoring = draw_f1)\n",
    "\n",
    "grid_search_draws_k.fit(X_train, y_train)"
   ]
  },
  {
   "cell_type": "code",
   "execution_count": 12,
   "id": "59ed3834",
   "metadata": {},
   "outputs": [
    {
     "data": {
      "text/plain": [
       "array([0.45875085, 0.97055218, 0.97055218, 0.97055218, 0.99703612,\n",
       "       0.99821604, 0.99585618, 0.99409325, 0.99413088, 0.99468649,\n",
       "       0.9912085 , 0.99117445])"
      ]
     },
     "execution_count": 12,
     "metadata": {},
     "output_type": "execute_result"
    }
   ],
   "source": [
    "grid_search_draws_k.cv_results_[\"mean_test_score\"]"
   ]
  },
  {
   "cell_type": "code",
   "execution_count": 13,
   "id": "ed760e54",
   "metadata": {},
   "outputs": [
    {
     "data": {
      "text/plain": [
       "{'feature_selection__k': 6}"
      ]
     },
     "execution_count": 13,
     "metadata": {},
     "output_type": "execute_result"
    }
   ],
   "source": [
    "grid_search_draws_k.best_params_"
   ]
  },
  {
   "cell_type": "markdown",
   "id": "86863a24",
   "metadata": {},
   "source": [
    "Najwyższą predykcyjność dostaliśmy używając tylko 6 najważniejszych kolumn, a więc tych informujących o odległości figur między sobą. Jest to zgodne z intuicją, ponieważ aby był remis czarny król musi zbić wieżę w najbliższym ruchu (a więc stać obok niej). Reszta kolumn jest w tym przypadku szumem."
   ]
  },
  {
   "cell_type": "markdown",
   "id": "a4efb6a7",
   "metadata": {},
   "source": [
    "#### Wygrane"
   ]
  },
  {
   "cell_type": "code",
   "execution_count": 14,
   "id": "ddbc0974",
   "metadata": {},
   "outputs": [
    {
     "data": {
      "text/plain": [
       "GridSearchCV(cv=5,\n",
       "             estimator=Pipeline(steps=[('feature_selection',\n",
       "                                        SelectBestFeatures(feature_importances=array([0.08117867, 0.07319905, 0.07035494, 0.01310361, 0.01376083,\n",
       "       0.01510782, 0.11492081, 0.10913591, 0.11528465, 0.10174292,\n",
       "       0.15520613, 0.13700464]),\n",
       "                                                           k=None)),\n",
       "                                       ('rf_clas',\n",
       "                                        RandomForestClassifier(random_state=1))]),\n",
       "             param_grid=[{'feature_selection__k': [1, 2, 3, 4, 5, 6, 7, 8, 9,\n",
       "                                                   10, 11, 12]}],\n",
       "             scoring=make_scorer(win_neg_rmse_fun))"
      ]
     },
     "execution_count": 14,
     "metadata": {},
     "output_type": "execute_result"
    }
   ],
   "source": [
    "grid_search_wins_k = GridSearchCV(rf_kfeatures_pipeline,\n",
    "                                params, cv = 5,\n",
    "                                scoring = win_neg_rmse)\n",
    "\n",
    "grid_search_wins_k.fit(X_train, y_train)"
   ]
  },
  {
   "cell_type": "code",
   "execution_count": 15,
   "id": "359796c2",
   "metadata": {},
   "outputs": [
    {
     "data": {
      "text/plain": [
       "array([3.56840105, 3.39045265, 3.41516914, 3.27815191, 3.16592688,\n",
       "       2.94505793, 2.40477893, 2.22746555, 1.60686565, 1.43823053,\n",
       "       1.44199046, 1.44483129])"
      ]
     },
     "execution_count": 15,
     "metadata": {},
     "output_type": "execute_result"
    }
   ],
   "source": [
    "-grid_search_wins_k.cv_results_[\"mean_test_score\"]"
   ]
  },
  {
   "cell_type": "code",
   "execution_count": 16,
   "id": "f4126b14",
   "metadata": {},
   "outputs": [
    {
     "data": {
      "text/plain": [
       "{'feature_selection__k': 10}"
      ]
     },
     "execution_count": 16,
     "metadata": {},
     "output_type": "execute_result"
    }
   ],
   "source": [
    "grid_search_wins_k.best_params_"
   ]
  },
  {
   "cell_type": "markdown",
   "id": "dbb59f60",
   "metadata": {},
   "source": [
    "Nasz model najlepiej przybliża liczbę ruchów do mata używając 10 najważniejszych kolumn. Okazuje się, że informacja o tym czy wieża i biały król są w rogach szachownicy jest dla nas nieistotna."
   ]
  },
  {
   "cell_type": "code",
   "execution_count": 17,
   "id": "2060a53c",
   "metadata": {},
   "outputs": [
    {
     "data": {
      "text/plain": [
       "0.09967922062492575"
      ]
     },
     "execution_count": 17,
     "metadata": {},
     "output_type": "execute_result"
    }
   ],
   "source": [
    "y_train.loc[np.where(y_train == - 1)].size/y_train.size"
   ]
  },
  {
   "cell_type": "markdown",
   "id": "3c886549",
   "metadata": {},
   "source": [
    "Mniej niż 10% rekordów w naszym zbiorze opisuje remisy. Z tego powodu ważniejsze wydaje się być dobre przybliżenie liczby ruchów do mata. Zostawimy zatem 10 najważniejszych kolumn."
   ]
  },
  {
   "cell_type": "code",
   "execution_count": 18,
   "id": "5ceac1ee",
   "metadata": {},
   "outputs": [],
   "source": [
    "X_train = X_train.drop(['white_rook_in_corner', 'white_king_in_corner'], axis = 1)\n",
    "X_test = X_test.drop(['white_rook_in_corner', 'white_king_in_corner'], axis = 1)"
   ]
  },
  {
   "cell_type": "markdown",
   "id": "feccf693",
   "metadata": {},
   "source": [
    "## Wybór modelu"
   ]
  },
  {
   "cell_type": "markdown",
   "id": "ffe5dc38",
   "metadata": {},
   "source": [
    "Wybierzmy 3 najbardziej obiecujące modele na domyślnych parametrach. Do standardowych modeli dodamy StackingClassifier, który będzie wykorzystywał wszystkie pozostałe jako modele bazowe. Jako meta-model, będzie wykorzystywał regresję logistyczną."
   ]
  },
  {
   "cell_type": "code",
   "execution_count": 19,
   "id": "2c7d2bb1",
   "metadata": {},
   "outputs": [],
   "source": [
    "from sklearn.tree import DecisionTreeClassifier\n",
    "from sklearn.neighbors import KNeighborsClassifier\n",
    "from sklearn.linear_model import LogisticRegression\n",
    "from sklearn.ensemble import StackingClassifier\n",
    "from sklearn.ensemble import RandomForestClassifier\n",
    "from sklearn.ensemble import AdaBoostClassifier\n",
    "from sklearn.ensemble import GradientBoostingClassifier\n",
    "from xgboost import XGBClassifier\n",
    "from sklearn.svm import SVC\n",
    "from sklearn.naive_bayes import GaussianNB\n",
    "from sklearn.model_selection import RepeatedStratifiedKFold\n",
    "from sklearn.model_selection import cross_val_score"
   ]
  },
  {
   "cell_type": "code",
   "execution_count": 20,
   "id": "a81aa374",
   "metadata": {},
   "outputs": [],
   "source": [
    "base_models = list([\n",
    "    ('lr', LogisticRegression()),\n",
    "    ('dtc', DecisionTreeClassifier(random_state = 1)),\n",
    "    ('knn', KNeighborsClassifier()),\n",
    "    ('rfc', RandomForestClassifier(random_state = 1)),\n",
    "    ('ab', AdaBoostClassifier(random_state = 1)),\n",
    "    ('gb', GradientBoostingClassifier(random_state = 1)),\n",
    "    ('xgb', XGBClassifier(random_state = 1, booster = 'gbtree', verbosity = 0)),\n",
    "    ('svm', SVC()),\n",
    "    ('bayes', GaussianNB())\n",
    "])"
   ]
  },
  {
   "cell_type": "code",
   "execution_count": 21,
   "id": "989d77e8",
   "metadata": {},
   "outputs": [],
   "source": [
    "models = dict()\n",
    "models['lr'] = LogisticRegression()\n",
    "models['dtc'] = DecisionTreeClassifier(random_state = 1)\n",
    "models['knn'] = KNeighborsClassifier()\n",
    "models['rfc'] = RandomForestClassifier(random_state = 1)\n",
    "models['ab'] = AdaBoostClassifier(random_state = 1)\n",
    "models['gb'] = GradientBoostingClassifier(random_state = 1)\n",
    "models['xgb'] = XGBClassifier(random_state = 1, booster = 'gbtree', verbosity = 0)\n",
    "models['svm'] = SVC()\n",
    "models['bayes'] = GaussianNB()\n",
    "models['stacking'] = StackingClassifier(estimators = base_models, final_estimator = LogisticRegression(), cv=5)"
   ]
  },
  {
   "cell_type": "markdown",
   "id": "e244a19c",
   "metadata": {},
   "source": [
    "Będziemy oceniali modele używając walidacji krzyżowej i wcześniej napisanych scoringów."
   ]
  },
  {
   "cell_type": "code",
   "execution_count": 22,
   "id": "95932460",
   "metadata": {},
   "outputs": [],
   "source": [
    "def cross_evaluate_draw(model, X, y):   \n",
    "    cross_val = RepeatedStratifiedKFold(n_splits = 10, n_repeats = 3, random_state = 1)\n",
    "    scores = cross_val_score(model, X, y, scoring = draw_f1, cv = cross_val, n_jobs = -1, error_score = 'raise')\n",
    "    return scores"
   ]
  },
  {
   "cell_type": "code",
   "execution_count": 23,
   "id": "a9c2e779",
   "metadata": {},
   "outputs": [],
   "source": [
    "def cross_evaluate_win(model, X, y):   \n",
    "    cross_val = RepeatedStratifiedKFold(n_splits = 10, n_repeats = 3, random_state=1)\n",
    "    scores = cross_val_score(model, X, y, scoring = win_neg_rmse, cv = cross_val, n_jobs = -1, error_score = 'raise')\n",
    "    return scores"
   ]
  },
  {
   "cell_type": "markdown",
   "id": "505a00f2",
   "metadata": {},
   "source": [
    "#### Remisy"
   ]
  },
  {
   "cell_type": "code",
   "execution_count": 24,
   "id": "3342ca9e",
   "metadata": {},
   "outputs": [
    {
     "name": "stdout",
     "output_type": "stream",
     "text": [
      "lr: mean = 0.7707, std = 0.0255\n",
      "dtc: mean = 0.9988, std = 0.0028\n",
      "knn: mean = 0.8429, std = 0.0223\n",
      "rfc: mean = 0.9961, std = 0.0047\n",
      "ab: mean = 0.3367, std = 0.0933\n",
      "gb: mean = 0.9974, std = 0.0039\n",
      "xgb: mean = 0.9994, std = 0.0018\n",
      "svm: mean = 0.8278, std = 0.0193\n",
      "bayes: mean = 0.5006, std = 0.0693\n",
      "stacking: mean = 0.9918, std = 0.0076\n"
     ]
    }
   ],
   "source": [
    "draw_results = []\n",
    "model_names = []\n",
    "for name, model in models.items():\n",
    "    scores = cross_evaluate_draw(model, X_train, y_train)\n",
    "    draw_results.append(scores)\n",
    "    model_names.append(name)\n",
    "    print(f\"{name}: mean = {np.round(np.mean(scores), 4)}, std = {np.round(np.std(scores), 4)}\")"
   ]
  },
  {
   "cell_type": "markdown",
   "id": "ccad2ae0",
   "metadata": {},
   "source": [
    "Modele dające najlepsze wyniki: DecisionTreeClassifier, RandomForestClassifier, GradientBoostingClassifier, XGBClassifier, StackingClassifier"
   ]
  },
  {
   "cell_type": "markdown",
   "id": "3dd35a4a",
   "metadata": {},
   "source": [
    "#### Wygrane"
   ]
  },
  {
   "cell_type": "code",
   "execution_count": 25,
   "id": "04543989",
   "metadata": {
    "scrolled": true
   },
   "outputs": [
    {
     "name": "stdout",
     "output_type": "stream",
     "text": [
      "lr: mean = -1.8415, std = 0.077\n",
      "dtc: mean = -1.5301, std = 0.0746\n",
      "knn: mean = -1.8103, std = 0.1069\n",
      "rfc: mean = -1.4194, std = 0.074\n",
      "ab: mean = -2.7558, std = 0.1092\n",
      "gb: mean = -1.5688, std = 0.072\n",
      "xgb: mean = -1.325, std = 0.0532\n",
      "svm: mean = -1.6669, std = 0.0743\n",
      "bayes: mean = -4.1382, std = 0.1008\n",
      "stacking: mean = -1.4881, std = 0.0775\n"
     ]
    }
   ],
   "source": [
    "win_results = []\n",
    "for name, model in models.items():\n",
    "    scores = cross_evaluate_win(model, X_train, y_train)\n",
    "    win_results.append(scores)\n",
    "    print(f\"{name}: mean = {np.round(np.mean(scores), 4)}, std = {np.round(np.std(scores), 4)}\")"
   ]
  },
  {
   "cell_type": "markdown",
   "id": "17960216",
   "metadata": {},
   "source": [
    "Najlepiej pod każdym względem poradził sobie xboost, ma i najmniejsze średnie RMSE i najmniejsze odchylenie standardowe."
   ]
  },
  {
   "cell_type": "markdown",
   "id": "3d8395b8",
   "metadata": {},
   "source": [
    "Modele dające najlepsze wyniki: DecisionTreeClassifier, RandomForestClassifier, XGBClassifier, StackingClassifier. A więc te same, które dawały dobre wyniki przy klasyfikacji remisów."
   ]
  },
  {
   "cell_type": "code",
   "execution_count": 26,
   "id": "1529d1b1",
   "metadata": {},
   "outputs": [
    {
     "data": {
      "image/png": "[encoded data removed]",
      "text/plain": [
       "<Figure size 864x360 with 2 Axes>"
      ]
     },
     "metadata": {
      "needs_background": "light"
     },
     "output_type": "display_data"
    }
   ],
   "source": [
    "fig, axes = plt.subplots(1, 2, figsize = (12,5))\n",
    "sns.boxplot(data = draw_results, showmeans = True, ax = axes[0])\n",
    "axes[0].set_xticklabels(model_names, rotation = 30)\n",
    "sns.boxplot(data = win_results, showmeans = True, ax = axes[1])\n",
    "axes[1].set_xticklabels(model_names, rotation = 30)\n",
    "plt.show()"
   ]
  },
  {
   "cell_type": "markdown",
   "id": "93ac623d",
   "metadata": {},
   "source": [
    "Sprawdźmy jeszcze, czy lepiej nie poradzi sobie Stacking Classifier, który będzie używał tylko najlepszych modeli jako modeli bazowych."
   ]
  },
  {
   "cell_type": "code",
   "execution_count": 27,
   "id": "971c202c",
   "metadata": {},
   "outputs": [],
   "source": [
    "selected_base_models = list([\n",
    "    ('dtc', DecisionTreeClassifier(random_state = 1)),\n",
    "    ('rfc', RandomForestClassifier(random_state = 1)),\n",
    "    ('gb', GradientBoostingClassifier(random_state = 1)),\n",
    "    ('xgb', XGBClassifier(random_state = 1, booster = 'gbtree', verbosity = 0)),\n",
    "])\n",
    "selected_stacking = StackingClassifier(estimators = selected_base_models,\n",
    "                                       final_estimator = LogisticRegression(),\n",
    "                                       cv = 5)"
   ]
  },
  {
   "cell_type": "code",
   "execution_count": 28,
   "id": "e46baa8f",
   "metadata": {},
   "outputs": [
    {
     "name": "stdout",
     "output_type": "stream",
     "text": [
      "Stacking selected (draw): mean = 0.9992, std = 0.002\n"
     ]
    }
   ],
   "source": [
    "scores = cross_evaluate_draw(selected_stacking, X_train, y_train)\n",
    "print(f\"Stacking selected (draw): mean = {np.round(np.mean(scores), 4)}, std = {np.round(np.std(scores), 4)}\")"
   ]
  },
  {
   "cell_type": "code",
   "execution_count": 66,
   "id": "2e126f40",
   "metadata": {},
   "outputs": [
    {
     "name": "stdout",
     "output_type": "stream",
     "text": [
      "Stacking selected (win): mean = -1.2636, std = 0.0606\n"
     ]
    }
   ],
   "source": [
    "scores = cross_evaluate_win(selected_stacking, X_train, y_train)\n",
    "print(f\"Stacking selected (win): mean = {np.round(np.mean(scores), 4)}, std = {np.round(np.std(scores), 4)}\")"
   ]
  },
  {
   "cell_type": "markdown",
   "id": "2768a385",
   "metadata": {},
   "source": [
    "Wyliczanie modelu opartego o 'stacking' zajmuje dużo czasu. W ten sposób jednak udało nam się w najlepszy sposób estymować liczbę optymalnych ruchów potrzebnych do mata. W następnym kroku spróbujemy dobrać optymalne parametry do 3 najlepszych modeli podstawowych (bez 'stacking') i sprawdzić, który z nich jest najlepszy. Następnie zbudujemy na nich model 'StackingClassifier'. Ostatecznie wybierzemy najlepiej radzący sobie model."
   ]
  },
  {
   "cell_type": "markdown",
   "id": "364bd525",
   "metadata": {},
   "source": [
    "Najlepiej radzące sobie modele: XGBClassifier, DecisionTreeClassifier, RandomForestClassifier."
   ]
  },
  {
   "cell_type": "markdown",
   "id": "4aff8e34",
   "metadata": {},
   "source": [
    "### XGBClassifier"
   ]
  },
  {
   "cell_type": "markdown",
   "id": "5440d7d1",
   "metadata": {},
   "source": [
    "#### Optymalizacja ze względu na remisy"
   ]
  },
  {
   "cell_type": "code",
   "execution_count": 68,
   "id": "5e1f09ff",
   "metadata": {},
   "outputs": [
    {
     "data": {
      "text/plain": [
       "RandomizedSearchCV(cv=5,\n",
       "                   estimator=XGBClassifier(base_score=None, booster='gbtree',\n",
       "                                           colsample_bylevel=None,\n",
       "                                           colsample_bynode=None,\n",
       "                                           colsample_bytree=None,\n",
       "                                           enable_categorical=False, gamma=None,\n",
       "                                           gpu_id=None, importance_type=None,\n",
       "                                           interaction_constraints=None,\n",
       "                                           learning_rate=None,\n",
       "                                           max_delta_step=None, max_depth=None,\n",
       "                                           min_child_weight=None, missing=nan,\n",
       "                                           monotone_constra...\n",
       "                                           scale_pos_weight=None,\n",
       "                                           subsample=None, tree_method=None,\n",
       "                                           validate_parameters=None,\n",
       "                                           verbosity=0),\n",
       "                   n_iter=50, n_jobs=-1,\n",
       "                   param_distributions={'colsample_bytree': [0.2, 0.4, 0.6,\n",
       "                                                             0.8],\n",
       "                                        'gamma': [0.0, 0.1, 0.2, 0.3, 0.4, 0.5],\n",
       "                                        'learning_rate': [0.05, 0.1, 0.15, 0.2,\n",
       "                                                          0.25, 0.3],\n",
       "                                        'max_depth': [2, 4, 6, 8, 10, 12],\n",
       "                                        'min_child_weight': [1, 3, 5, 7]},\n",
       "                   random_state=1, scoring=make_scorer(draw_f1_fun))"
      ]
     },
     "execution_count": 68,
     "metadata": {},
     "output_type": "execute_result"
    }
   ],
   "source": [
    "from sklearn.model_selection import RandomizedSearchCV\n",
    "parameters = {\n",
    " \"learning_rate\" : [0.05, 0.10, 0.15, 0.20, 0.25, 0.30],\n",
    " \"max_depth\" : [2, 4, 6, 8, 10, 12],\n",
    " \"min_child_weight\" : [1, 3, 5, 7],\n",
    " \"gamma\": [0.0, 0.1, 0.2 , 0.3, 0.4, 0.5],\n",
    " \"colsample_bytree\" : [0.2, 0.4, 0.6 , 0.8]\n",
    "}\n",
    "xgb = XGBClassifier(random_state=1, booster='gbtree', verbosity = 0)\n",
    "xgb_params_search = RandomizedSearchCV(xgb, parameters, cv = 5, n_jobs = -1, n_iter = 50, scoring = draw_f1,\n",
    "                                       random_state = 1)\n",
    "xgb_params_search.fit(X_train, y_train)"
   ]
  },
  {
   "cell_type": "code",
   "execution_count": 69,
   "id": "2131eaa3",
   "metadata": {},
   "outputs": [
    {
     "data": {
      "text/plain": [
       "{'min_child_weight': 3,\n",
       " 'max_depth': 12,\n",
       " 'learning_rate': 0.25,\n",
       " 'gamma': 0.2,\n",
       " 'colsample_bytree': 0.8}"
      ]
     },
     "execution_count": 69,
     "metadata": {},
     "output_type": "execute_result"
    }
   ],
   "source": [
    "xgb_params_search.best_params_"
   ]
  },
  {
   "cell_type": "code",
   "execution_count": 70,
   "id": "7a0b9068",
   "metadata": {},
   "outputs": [
    {
     "name": "stdout",
     "output_type": "stream",
     "text": [
      "xgb: mean = 0.9994, std = 0.0018\n"
     ]
    }
   ],
   "source": [
    "scores = cross_evaluate_draw(xgb_params_search.best_estimator_, X_train, y_train)\n",
    "print(f\"xgb: mean = {np.round(np.mean(scores), 4)}, std = {np.round(np.std(scores), 4)}\")"
   ]
  },
  {
   "cell_type": "code",
   "execution_count": 71,
   "id": "785a90aa",
   "metadata": {},
   "outputs": [
    {
     "name": "stdout",
     "output_type": "stream",
     "text": [
      "xgb: mean = -1.3287, std = 0.062\n"
     ]
    }
   ],
   "source": [
    "scores = cross_evaluate_win(xgb_params_search.best_estimator_, X_train, y_train)\n",
    "print(f\"xgb: mean = {np.round(np.mean(scores), 4)}, std = {np.round(np.std(scores), 4)}\")"
   ]
  },
  {
   "cell_type": "markdown",
   "id": "8f52a112",
   "metadata": {},
   "source": [
    "#### Optymalizacja ze względu na wygrane"
   ]
  },
  {
   "cell_type": "code",
   "execution_count": 72,
   "id": "ae9f5da1",
   "metadata": {},
   "outputs": [
    {
     "data": {
      "text/plain": [
       "RandomizedSearchCV(cv=5,\n",
       "                   estimator=XGBClassifier(base_score=None, booster='gbtree',\n",
       "                                           colsample_bylevel=None,\n",
       "                                           colsample_bynode=None,\n",
       "                                           colsample_bytree=None,\n",
       "                                           enable_categorical=False, gamma=None,\n",
       "                                           gpu_id=None, importance_type=None,\n",
       "                                           interaction_constraints=None,\n",
       "                                           learning_rate=None,\n",
       "                                           max_delta_step=None, max_depth=None,\n",
       "                                           min_child_weight=None, missing=nan,\n",
       "                                           monotone_constra...\n",
       "                                           scale_pos_weight=None,\n",
       "                                           subsample=None, tree_method=None,\n",
       "                                           validate_parameters=None,\n",
       "                                           verbosity=0),\n",
       "                   n_iter=50, n_jobs=-1,\n",
       "                   param_distributions={'colsample_bytree': [0.2, 0.4, 0.6,\n",
       "                                                             0.8],\n",
       "                                        'gamma': [0.0, 0.1, 0.2, 0.3, 0.4, 0.5],\n",
       "                                        'learning_rate': [0.05, 0.1, 0.15, 0.2,\n",
       "                                                          0.25, 0.3],\n",
       "                                        'max_depth': [2, 4, 6, 8, 10, 12],\n",
       "                                        'min_child_weight': [1, 3, 5, 7]},\n",
       "                   random_state=1, scoring=make_scorer(win_neg_rmse_fun))"
      ]
     },
     "execution_count": 72,
     "metadata": {},
     "output_type": "execute_result"
    }
   ],
   "source": [
    "parameters = {\n",
    " \"learning_rate\" : [0.05, 0.10, 0.15, 0.20, 0.25, 0.30],\n",
    " \"max_depth\" : [2, 4, 6, 8, 10, 12],\n",
    " \"min_child_weight\" : [1, 3, 5, 7],\n",
    " \"gamma\": [0.0, 0.1, 0.2 , 0.3, 0.4, 0.5],\n",
    " \"colsample_bytree\" : [0.2, 0.4, 0.6 , 0.8]\n",
    "}\n",
    "xgb = XGBClassifier(random_state = 1, booster = 'gbtree', verbosity = 0)\n",
    "xgb_params_search = RandomizedSearchCV(xgb, parameters, cv = 5, n_jobs = -1, n_iter = 50, scoring = win_neg_rmse,\n",
    "                                       random_state = 1)\n",
    "xgb_params_search.fit(X_train, y_train)"
   ]
  },
  {
   "cell_type": "code",
   "execution_count": 73,
   "id": "f62cb4d8",
   "metadata": {},
   "outputs": [
    {
     "data": {
      "text/plain": [
       "{'min_child_weight': 3,\n",
       " 'max_depth': 12,\n",
       " 'learning_rate': 0.2,\n",
       " 'gamma': 0.3,\n",
       " 'colsample_bytree': 0.8}"
      ]
     },
     "execution_count": 73,
     "metadata": {},
     "output_type": "execute_result"
    }
   ],
   "source": [
    "xgb_params_search.best_params_"
   ]
  },
  {
   "cell_type": "code",
   "execution_count": 74,
   "id": "8853134c",
   "metadata": {},
   "outputs": [
    {
     "name": "stdout",
     "output_type": "stream",
     "text": [
      "xgb: mean = -1.3371, std = 0.056\n"
     ]
    }
   ],
   "source": [
    "scores = cross_evaluate_win(xgb_params_search.best_estimator_, X_train, y_train)\n",
    "print(f\"xgb: mean = {np.round(np.mean(scores), 4)}, std = {np.round(np.std(scores), 4)}\")"
   ]
  },
  {
   "cell_type": "code",
   "execution_count": 75,
   "id": "d6104f03",
   "metadata": {},
   "outputs": [
    {
     "name": "stdout",
     "output_type": "stream",
     "text": [
      "xgb: mean = 0.9994, std = 0.0018\n"
     ]
    }
   ],
   "source": [
    "scores = cross_evaluate_draw(xgb_params_search.best_estimator_, X_train, y_train)\n",
    "print(f\"xgb: mean = {np.round(np.mean(scores), 4)}, std = {np.round(np.std(scores), 4)}\")"
   ]
  },
  {
   "cell_type": "markdown",
   "id": "13935984",
   "metadata": {},
   "source": [
    "#### Wnioski"
   ]
  },
  {
   "cell_type": "markdown",
   "id": "befc550b",
   "metadata": {},
   "source": [
    "Ani szukając optymalnych parametrów dla remisów ani dla wygranych nie znaleźliśmy lepszego modelu niż ten z domyślnymi parametrami. Najlepszą predykcję zarówno remisów jak i opytmalnej liczby ruchów do mata otrzymujemy używając domyślnych parametrów."
   ]
  },
  {
   "cell_type": "markdown",
   "id": "4860679e",
   "metadata": {},
   "source": [
    "### DecisionTreeClassifier"
   ]
  },
  {
   "cell_type": "markdown",
   "id": "0dd903b6",
   "metadata": {},
   "source": [
    "#### Optymalizacja ze względu na remisy"
   ]
  },
  {
   "cell_type": "code",
   "execution_count": 76,
   "id": "29da5bd3",
   "metadata": {},
   "outputs": [
    {
     "data": {
      "text/plain": [
       "RandomizedSearchCV(cv=5, estimator=DecisionTreeClassifier(random_state=1),\n",
       "                   n_iter=50, n_jobs=-1,\n",
       "                   param_distributions={'criterion': ['gini', 'entropy'],\n",
       "                                        'max_depth': [2, 4, 6, 8, 10, 12],\n",
       "                                        'max_features': [2, 4, 6, 8, 10],\n",
       "                                        'min_samples_leaf': [1, 2, 4]},\n",
       "                   random_state=1, scoring=make_scorer(draw_f1_fun))"
      ]
     },
     "execution_count": 76,
     "metadata": {},
     "output_type": "execute_result"
    }
   ],
   "source": [
    "parameters = {\n",
    "    \"max_depth\": [2, 4, 6, 8, 10, 12],\n",
    "    \"max_features\": [2, 4, 6, 8, 10],\n",
    "    \"min_samples_leaf\": [1, 2, 4],\n",
    "    \"criterion\": [\"gini\", \"entropy\"]\n",
    "}\n",
    "dtc = DecisionTreeClassifier(random_state = 1)\n",
    "dtc_params_search = RandomizedSearchCV(dtc, parameters, cv = 5, n_jobs = -1, n_iter = 50, scoring = draw_f1,\n",
    "                                       random_state = 1)\n",
    "dtc_params_search.fit(X_train, y_train)"
   ]
  },
  {
   "cell_type": "code",
   "execution_count": 77,
   "id": "51d6d103",
   "metadata": {},
   "outputs": [
    {
     "data": {
      "text/plain": [
       "{'min_samples_leaf': 1, 'max_features': 8, 'max_depth': 8, 'criterion': 'gini'}"
      ]
     },
     "execution_count": 77,
     "metadata": {},
     "output_type": "execute_result"
    }
   ],
   "source": [
    "dtc_params_search.best_params_"
   ]
  },
  {
   "cell_type": "code",
   "execution_count": 78,
   "id": "1ed48192",
   "metadata": {},
   "outputs": [
    {
     "name": "stdout",
     "output_type": "stream",
     "text": [
      "dtc: mean = 0.9984, std = 0.0031\n"
     ]
    }
   ],
   "source": [
    "scores = cross_evaluate_draw(dtc_params_search.best_estimator_, X_train, y_train)\n",
    "print(f\"dtc: mean = {np.round(np.mean(scores), 4)}, std = {np.round(np.std(scores), 4)}\")"
   ]
  },
  {
   "cell_type": "code",
   "execution_count": 79,
   "id": "1eb6027d",
   "metadata": {},
   "outputs": [
    {
     "name": "stdout",
     "output_type": "stream",
     "text": [
      "dtc: mean = -1.8196, std = 0.0897\n"
     ]
    }
   ],
   "source": [
    "scores = cross_evaluate_win(dtc_params_search.best_estimator_, X_train, y_train)\n",
    "print(f\"dtc: mean = {np.round(np.mean(scores), 4)}, std = {np.round(np.std(scores), 4)}\")"
   ]
  },
  {
   "cell_type": "markdown",
   "id": "3320ac49",
   "metadata": {},
   "source": [
    "#### Optymalizacja ze względu na wygrane"
   ]
  },
  {
   "cell_type": "code",
   "execution_count": 80,
   "id": "8f7c1f20",
   "metadata": {},
   "outputs": [
    {
     "data": {
      "text/plain": [
       "RandomizedSearchCV(cv=5, estimator=DecisionTreeClassifier(random_state=1),\n",
       "                   n_iter=50, n_jobs=-1,\n",
       "                   param_distributions={'criterion': ['gini', 'entropy'],\n",
       "                                        'max_depth': [2, 4, 6, 8, 10, 12],\n",
       "                                        'max_features': [2, 4, 6, 8, 10],\n",
       "                                        'min_samples_leaf': [1, 2, 4]},\n",
       "                   random_state=1, scoring=make_scorer(win_neg_rmse_fun))"
      ]
     },
     "execution_count": 80,
     "metadata": {},
     "output_type": "execute_result"
    }
   ],
   "source": [
    "parameters = {\n",
    "    \"max_depth\": [2, 4, 6, 8, 10, 12],\n",
    "    \"max_features\": [2, 4, 6, 8, 10],\n",
    "    \"min_samples_leaf\": [1, 2, 4],\n",
    "    \"criterion\": [\"gini\", \"entropy\"]\n",
    "}\n",
    "dtc = DecisionTreeClassifier(random_state = 1)\n",
    "dtc_params_search = RandomizedSearchCV(dtc, parameters, cv = 5, n_jobs = -1, n_iter = 50, scoring = win_neg_rmse,\n",
    "                                       random_state = 1)\n",
    "dtc_params_search.fit(X_train, y_train)"
   ]
  },
  {
   "cell_type": "code",
   "execution_count": 81,
   "id": "2ddfce45",
   "metadata": {},
   "outputs": [
    {
     "data": {
      "text/plain": [
       "{'min_samples_leaf': 1,\n",
       " 'max_features': 8,\n",
       " 'max_depth': 12,\n",
       " 'criterion': 'entropy'}"
      ]
     },
     "execution_count": 81,
     "metadata": {},
     "output_type": "execute_result"
    }
   ],
   "source": [
    "dtc_params_search.best_params_"
   ]
  },
  {
   "cell_type": "code",
   "execution_count": 82,
   "id": "ba7ff074",
   "metadata": {},
   "outputs": [
    {
     "name": "stdout",
     "output_type": "stream",
     "text": [
      "dtc: mean = -1.5621, std = 0.0817\n"
     ]
    }
   ],
   "source": [
    "scores = cross_evaluate_win(dtc_params_search.best_estimator_, X_train, y_train)\n",
    "print(f\"dtc: mean = {np.round(np.mean(scores), 4)}, std = {np.round(np.std(scores), 4)}\")"
   ]
  },
  {
   "cell_type": "code",
   "execution_count": 83,
   "id": "e437dec7",
   "metadata": {},
   "outputs": [
    {
     "name": "stdout",
     "output_type": "stream",
     "text": [
      "dtc: mean = 0.9964, std = 0.0053\n"
     ]
    }
   ],
   "source": [
    "scores = cross_evaluate_draw(dtc_params_search.best_estimator_, X_train, y_train)\n",
    "print(f\"dtc: mean = {np.round(np.mean(scores), 4)}, std = {np.round(np.std(scores), 4)}\")"
   ]
  },
  {
   "cell_type": "markdown",
   "id": "a78f29cb",
   "metadata": {},
   "source": [
    "#### Wnioski"
   ]
  },
  {
   "cell_type": "markdown",
   "id": "68ec5ca5",
   "metadata": {},
   "source": [
    "Ponownie nie znaleźliśmy parametrów, które miałyby lepsze wyniki niż domyślne. Zarówno do klasyfikacji remisów jak i estymacji opytmalnej liczby ruchów do mata najbardziej opłaca się użyć domyślnych parametrów."
   ]
  },
  {
   "cell_type": "markdown",
   "id": "eb61c13d",
   "metadata": {},
   "source": [
    "### RandomForestClassifier"
   ]
  },
  {
   "cell_type": "markdown",
   "id": "0291a484",
   "metadata": {},
   "source": [
    "#### Optymalizacja ze względu na remisy"
   ]
  },
  {
   "cell_type": "code",
   "execution_count": 84,
   "id": "d30fad08",
   "metadata": {},
   "outputs": [
    {
     "data": {
      "text/plain": [
       "RandomizedSearchCV(cv=5, estimator=RandomForestClassifier(random_state=1),\n",
       "                   n_iter=50, n_jobs=-1,\n",
       "                   param_distributions={'bootstrap': [True, False],\n",
       "                                        'max_depth': [6, 8, 10, 12],\n",
       "                                        'max_features': ['auto', 'sqrt'],\n",
       "                                        'min_samples_leaf': [1, 2, 4],\n",
       "                                        'min_samples_split': [1, 2, 5, 10],\n",
       "                                        'n_estimators': [400, 600, 800, 1000,\n",
       "                                                         1200]},\n",
       "                   random_state=1, scoring=make_scorer(draw_f1_fun))"
      ]
     },
     "execution_count": 84,
     "metadata": {},
     "output_type": "execute_result"
    }
   ],
   "source": [
    "parameters = {\n",
    "    'n_estimators': [400, 600, 800, 1000, 1200],\n",
    "    'max_features': ['auto', 'sqrt'],\n",
    "    'max_depth': [6, 8, 10, 12],\n",
    "    'min_samples_split': [1, 2, 5, 10],\n",
    "    'min_samples_leaf': [1, 2, 4],\n",
    "    'bootstrap': [True, False]\n",
    "}\n",
    "rfc = RandomForestClassifier(random_state = 1)\n",
    "rfc_params_search = RandomizedSearchCV(rfc, parameters, cv = 5, n_jobs = -1, n_iter = 50, scoring = draw_f1,\n",
    "                                       random_state = 1)\n",
    "rfc_params_search.fit(X_train, y_train)"
   ]
  },
  {
   "cell_type": "code",
   "execution_count": 85,
   "id": "a9d99015",
   "metadata": {},
   "outputs": [
    {
     "data": {
      "text/plain": [
       "{'n_estimators': 600,\n",
       " 'min_samples_split': 5,\n",
       " 'min_samples_leaf': 1,\n",
       " 'max_features': 'auto',\n",
       " 'max_depth': 12,\n",
       " 'bootstrap': False}"
      ]
     },
     "execution_count": 85,
     "metadata": {},
     "output_type": "execute_result"
    }
   ],
   "source": [
    "rfc_params_search.best_params_"
   ]
  },
  {
   "cell_type": "code",
   "execution_count": 86,
   "id": "e965a9f2",
   "metadata": {},
   "outputs": [
    {
     "name": "stdout",
     "output_type": "stream",
     "text": [
      "rfc: mean = 0.9955, std = 0.0058\n"
     ]
    }
   ],
   "source": [
    "scores = cross_evaluate_draw(rfc_params_search.best_estimator_, X_train, y_train)\n",
    "print(f\"rfc: mean = {np.round(np.mean(scores), 4)}, std = {np.round(np.std(scores), 4)}\")"
   ]
  },
  {
   "cell_type": "code",
   "execution_count": 87,
   "id": "8d3516af",
   "metadata": {},
   "outputs": [
    {
     "name": "stdout",
     "output_type": "stream",
     "text": [
      "rfc: mean = -1.4053, std = 0.075\n"
     ]
    }
   ],
   "source": [
    "scores = cross_evaluate_win(rfc_params_search.best_estimator_, X_train, y_train)\n",
    "print(f\"rfc: mean = {np.round(np.mean(scores), 4)}, std = {np.round(np.std(scores), 4)}\")"
   ]
  },
  {
   "cell_type": "markdown",
   "id": "1e1ea3a8",
   "metadata": {},
   "source": [
    "#### Optymalizacja ze względu na wygrane"
   ]
  },
  {
   "cell_type": "code",
   "execution_count": 88,
   "id": "34473077",
   "metadata": {},
   "outputs": [
    {
     "data": {
      "text/plain": [
       "RandomizedSearchCV(cv=5, estimator=RandomForestClassifier(random_state=1),\n",
       "                   n_iter=50, n_jobs=-1,\n",
       "                   param_distributions={'bootstrap': [True, False],\n",
       "                                        'max_depth': [6, 8, 10, 12],\n",
       "                                        'max_features': ['auto', 'sqrt'],\n",
       "                                        'min_samples_leaf': [1, 2, 4],\n",
       "                                        'min_samples_split': [1, 2, 5, 10],\n",
       "                                        'n_estimators': [400, 600, 800, 1000,\n",
       "                                                         1200]},\n",
       "                   random_state=1, scoring=make_scorer(win_neg_rmse_fun))"
      ]
     },
     "execution_count": 88,
     "metadata": {},
     "output_type": "execute_result"
    }
   ],
   "source": [
    "parameters = {\n",
    "    'n_estimators': [400, 600, 800, 1000, 1200],\n",
    "    'max_features': ['auto', 'sqrt'],\n",
    "    'max_depth': [6, 8, 10, 12],\n",
    "    'min_samples_split': [1, 2, 5, 10],\n",
    "    'min_samples_leaf': [1, 2, 4],\n",
    "    'bootstrap': [True, False]\n",
    "}\n",
    "rfc = RandomForestClassifier(random_state = 1)\n",
    "rfc_params_search = RandomizedSearchCV(rfc, parameters, cv = 5, n_jobs = -1, n_iter = 50, scoring = win_neg_rmse,\n",
    "                                       random_state = 1)\n",
    "rfc_params_search.fit(X_train, y_train)"
   ]
  },
  {
   "cell_type": "code",
   "execution_count": 89,
   "id": "402dae14",
   "metadata": {},
   "outputs": [
    {
     "data": {
      "text/plain": [
       "{'n_estimators': 1200,\n",
       " 'min_samples_split': 5,\n",
       " 'min_samples_leaf': 2,\n",
       " 'max_features': 'auto',\n",
       " 'max_depth': 12,\n",
       " 'bootstrap': False}"
      ]
     },
     "execution_count": 89,
     "metadata": {},
     "output_type": "execute_result"
    }
   ],
   "source": [
    "rfc_params_search.best_params_"
   ]
  },
  {
   "cell_type": "code",
   "execution_count": 90,
   "id": "bf50be85",
   "metadata": {},
   "outputs": [
    {
     "name": "stdout",
     "output_type": "stream",
     "text": [
      "rfc: mean = -1.4045, std = 0.0745\n"
     ]
    }
   ],
   "source": [
    "scores = cross_evaluate_win(rfc_params_search.best_estimator_, X_train, y_train)\n",
    "print(f\"rfc: mean = {np.round(np.mean(scores), 4)}, std = {np.round(np.std(scores), 4)}\")"
   ]
  },
  {
   "cell_type": "code",
   "execution_count": 91,
   "id": "d29d4703",
   "metadata": {},
   "outputs": [
    {
     "name": "stdout",
     "output_type": "stream",
     "text": [
      "rfc: mean = 0.9916, std = 0.0064\n"
     ]
    }
   ],
   "source": [
    "scores = cross_evaluate_draw(rfc_params_search.best_estimator_, X_train, y_train)\n",
    "print(f\"rfc: mean = {np.round(np.mean(scores), 4)}, std = {np.round(np.std(scores), 4)}\")"
   ]
  },
  {
   "cell_type": "markdown",
   "id": "2633c94d",
   "metadata": {},
   "source": [
    "#### Wnioski"
   ]
  },
  {
   "cell_type": "markdown",
   "id": "8ae7b685",
   "metadata": {},
   "source": [
    "Wartości parametrów wydają się rozsądne. Wartość 'n_estimators' zostały wybrane ze środka. Dla 'min_samples_split' i 'min_samples_leaf' mimo że skrajnie małe wartości okazały się optymalne to raczej nie należy dobierać niższych. 'max_depth', mimo że jest maksymalny to większy raczej lepszy nie będzie (ponieważ użwamy tylko 10 kolumn)."
   ]
  },
  {
   "cell_type": "markdown",
   "id": "71b40a96",
   "metadata": {},
   "source": [
    "W obu przypadkach otrzymaliśmy lepsze rezultaty dla predykcji liczby ruchów do mata i minimalnie gorsze dla klasyfikacji remisów. Wydaje się, że model, który optymalizował ze względu na remisy jest skuteczniejszy. Różnica między RMSE jest minimalna, a znacząco lepiej klasyfikuje remisy. Będziemy zatem użwać modelu z parametrami:\n",
    "- 'n_estimators': 600,\n",
    "- 'min_samples_split': 5,\n",
    "- 'min_samples_leaf': 1,\n",
    "- 'max_features': 'auto',\n",
    "- 'max_depth': 12,\n",
    "- 'bootstrap': False"
   ]
  },
  {
   "cell_type": "markdown",
   "id": "ee860197",
   "metadata": {},
   "source": [
    "### Stacking"
   ]
  },
  {
   "cell_type": "markdown",
   "id": "3a996ef4",
   "metadata": {},
   "source": [
    "Teraz stworzymy model oparty na 'stackingu' z powyższych modeli bazowych o najlepszych parametrach."
   ]
  },
  {
   "cell_type": "code",
   "execution_count": 94,
   "id": "ab5d42cf",
   "metadata": {},
   "outputs": [],
   "source": [
    "tuned_models = list([\n",
    "    ('dtc', DecisionTreeClassifier(random_state = 1)),\n",
    "    ('rfc', RandomForestClassifier(random_state = 1,\n",
    "            n_estimators = 600,\n",
    "            min_samples_split = 5,\n",
    "            min_samples_leaf = 1,\n",
    "            max_features = 'auto',\n",
    "            max_depth = 12,\n",
    "            bootstrap = False)\n",
    "    ),\n",
    "    ('xgb', XGBClassifier(random_state = 1, booster = 'gbtree', verbosity = 0)),\n",
    "])\n",
    "tuned_stacking = StackingClassifier(estimators = tuned_models, final_estimator = LogisticRegression(), cv=5)"
   ]
  },
  {
   "cell_type": "code",
   "execution_count": 95,
   "id": "c172d2da",
   "metadata": {},
   "outputs": [
    {
     "name": "stdout",
     "output_type": "stream",
     "text": [
      "Tuned stacking (draw): mean = 0.999, std = 0.0022\n"
     ]
    }
   ],
   "source": [
    "scores = cross_evaluate_draw(tuned_stacking, X_train, y_train)\n",
    "print(f\"Tuned stacking (draw): mean = {np.round(np.mean(scores), 4)}, std = {np.round(np.std(scores), 4)}\")"
   ]
  },
  {
   "cell_type": "code",
   "execution_count": 96,
   "id": "732a55d8",
   "metadata": {},
   "outputs": [
    {
     "name": "stdout",
     "output_type": "stream",
     "text": [
      "Tuned stacking (win): mean = -1.2566, std = 0.0663\n"
     ]
    }
   ],
   "source": [
    "scores = cross_evaluate_win(tuned_stacking, X_train, y_train)\n",
    "print(f\"Tuned stacking (win): mean = {np.round(np.mean(scores), 4)}, std = {np.round(np.std(scores), 4)}\")"
   ]
  },
  {
   "cell_type": "markdown",
   "id": "3052e579",
   "metadata": {},
   "source": [
    "Model otrzymuje praktycznie identyczne wyniki z modelem 'selected_stacking'. Mamy delikatnie lepszą predykcyjność dla liczenia liczby ruchów przy partiach wygranych, a minimalną gorszą dla partii remisowych. Ze względu na to, że patrii wygranych mamy około 9 razy więcej niż remisowych, prawdopodobnie wybierzemy model 'tuned_stacking'. Dodatkowym jego atutem jest to, że opiera się na jedynie trzech modelach bazowych, więc będzie delikatnie szybszy."
   ]
  },
  {
   "cell_type": "markdown",
   "id": "292f5e6e",
   "metadata": {},
   "source": [
    "## Testowanie modeli"
   ]
  },
  {
   "cell_type": "markdown",
   "id": "85844277",
   "metadata": {},
   "source": [
    "Pozostało przetestować modele na danych testowych."
   ]
  },
  {
   "cell_type": "code",
   "execution_count": 97,
   "id": "d65d0b5e",
   "metadata": {},
   "outputs": [
    {
     "data": {
      "text/plain": [
       "StackingClassifier(cv=5,\n",
       "                   estimators=[('dtc', DecisionTreeClassifier(random_state=1)),\n",
       "                               ('rfc',\n",
       "                                RandomForestClassifier(bootstrap=False,\n",
       "                                                       max_depth=12,\n",
       "                                                       min_samples_split=5,\n",
       "                                                       n_estimators=600,\n",
       "                                                       random_state=1)),\n",
       "                               ('xgb',\n",
       "                                XGBClassifier(base_score=None, booster='gbtree',\n",
       "                                              colsample_bylevel=None,\n",
       "                                              colsample_bynode=None,\n",
       "                                              colsample_bytree=None,\n",
       "                                              enable_categorical=False,\n",
       "                                              gamma=No...\n",
       "                                              learning_rate=None,\n",
       "                                              max_delta_step=None,\n",
       "                                              max_depth=None,\n",
       "                                              min_child_weight=None,\n",
       "                                              missing=nan,\n",
       "                                              monotone_constraints=None,\n",
       "                                              n_estimators=100, n_jobs=None,\n",
       "                                              num_parallel_tree=None,\n",
       "                                              predictor=None, random_state=1,\n",
       "                                              reg_alpha=None, reg_lambda=None,\n",
       "                                              scale_pos_weight=None,\n",
       "                                              subsample=None, tree_method=None,\n",
       "                                              validate_parameters=None,\n",
       "                                              verbosity=0))],\n",
       "                   final_estimator=LogisticRegression())"
      ]
     },
     "execution_count": 97,
     "metadata": {},
     "output_type": "execute_result"
    }
   ],
   "source": [
    "dtc = DecisionTreeClassifier(random_state = 1)\n",
    "dtc.fit(X_train, y_train)\n",
    "rfc = RandomForestClassifier(random_state = 1,\n",
    "            n_estimators = 1000,\n",
    "            min_samples_split = 5,\n",
    "            min_samples_leaf = 1,\n",
    "            max_features = 'auto',\n",
    "            max_depth = 12,\n",
    "            bootstrap = False)\n",
    "rfc.fit(X_train, y_train)\n",
    "xgb = XGBClassifier(random_state = 1, booster='gbtree', verbosity = 0)\n",
    "xgb.fit(X_train, y_train)\n",
    "tuned_stacking = StackingClassifier(estimators=tuned_models, final_estimator = LogisticRegression(), cv=5)\n",
    "tuned_stacking.fit(X_train, y_train)"
   ]
  },
  {
   "cell_type": "markdown",
   "id": "74fd7712",
   "metadata": {},
   "source": [
    "#### Decision Tree Classifier"
   ]
  },
  {
   "cell_type": "code",
   "execution_count": 98,
   "id": "dbbd42e5",
   "metadata": {},
   "outputs": [
    {
     "data": {
      "text/plain": [
       "0.9977023232065356"
      ]
     },
     "execution_count": 98,
     "metadata": {},
     "output_type": "execute_result"
    }
   ],
   "source": [
    "draw_f1_fun(dtc.predict(X_test), y_test)"
   ]
  },
  {
   "cell_type": "code",
   "execution_count": 99,
   "id": "03b0f78d",
   "metadata": {},
   "outputs": [
    {
     "data": {
      "text/plain": [
       "-1.4937260357963371"
      ]
     },
     "execution_count": 99,
     "metadata": {},
     "output_type": "execute_result"
    }
   ],
   "source": [
    "win_neg_rmse_fun(dtc.predict(X_test), y_test)"
   ]
  },
  {
   "cell_type": "markdown",
   "id": "55e46c8e",
   "metadata": {},
   "source": [
    "#### Random Forest Classifier"
   ]
  },
  {
   "cell_type": "code",
   "execution_count": 100,
   "id": "494a5a10",
   "metadata": {},
   "outputs": [
    {
     "data": {
      "text/plain": [
       "0.9943934760448522"
      ]
     },
     "execution_count": 100,
     "metadata": {},
     "output_type": "execute_result"
    }
   ],
   "source": [
    "draw_f1_fun(rfc.predict(X_test), y_test)"
   ]
  },
  {
   "cell_type": "code",
   "execution_count": 101,
   "id": "0def92d6",
   "metadata": {},
   "outputs": [
    {
     "data": {
      "text/plain": [
       "-1.3683811185276018"
      ]
     },
     "execution_count": 101,
     "metadata": {},
     "output_type": "execute_result"
    }
   ],
   "source": [
    "win_neg_rmse_fun(rfc.predict(X_test), y_test)"
   ]
  },
  {
   "cell_type": "markdown",
   "id": "2c3d08c4",
   "metadata": {},
   "source": [
    "#### XGBoost"
   ]
  },
  {
   "cell_type": "code",
   "execution_count": 102,
   "id": "87b45b1e",
   "metadata": {},
   "outputs": [
    {
     "data": {
      "text/plain": [
       "0.9979518689196109"
      ]
     },
     "execution_count": 102,
     "metadata": {},
     "output_type": "execute_result"
    }
   ],
   "source": [
    "draw_f1_fun(xgb.predict(X_test), y_test)"
   ]
  },
  {
   "cell_type": "code",
   "execution_count": 103,
   "id": "45a21057",
   "metadata": {},
   "outputs": [
    {
     "data": {
      "text/plain": [
       "-1.2661578699403202"
      ]
     },
     "execution_count": 103,
     "metadata": {},
     "output_type": "execute_result"
    }
   ],
   "source": [
    "win_neg_rmse_fun(xgb.predict(X_test), y_test)"
   ]
  },
  {
   "cell_type": "markdown",
   "id": "cc362322",
   "metadata": {},
   "source": [
    "#### Stacking Tuned"
   ]
  },
  {
   "cell_type": "code",
   "execution_count": 104,
   "id": "b71e3600",
   "metadata": {},
   "outputs": [
    {
     "data": {
      "text/plain": [
       "0.9982120051085569"
      ]
     },
     "execution_count": 104,
     "metadata": {},
     "output_type": "execute_result"
    }
   ],
   "source": [
    "draw_f1_fun(tuned_stacking.predict(X_test), y_test)"
   ]
  },
  {
   "cell_type": "code",
   "execution_count": 105,
   "id": "41ba88d3",
   "metadata": {},
   "outputs": [
    {
     "data": {
      "text/plain": [
       "-1.203922201972122"
      ]
     },
     "execution_count": 105,
     "metadata": {},
     "output_type": "execute_result"
    }
   ],
   "source": [
    "win_neg_rmse_fun(tuned_stacking.predict(X_test), y_test)"
   ]
  },
  {
   "cell_type": "markdown",
   "id": "80c855a3",
   "metadata": {},
   "source": [
    "# Podsumowanie"
   ]
  },
  {
   "cell_type": "markdown",
   "id": "27d722e6",
   "metadata": {},
   "source": [
    "Zdecydowanie najlepiej na danych testowych poradził sobie model oparty na stacking, w którym modelami bazowymi są: DecisionTreeClassifier z domyślnymi argumentami, Random Forest Classifier z wybranymi parametrami i XGBoost z domyślnymi parametrami. Meta-modelem w tym przypadku jest regresja liniowa."
   ]
  }
 ],
 "metadata": {
  "kernelspec": {
   "display_name": "Python 3 (ipykernel)",
   "language": "python",
   "name": "python3"
  },
  "language_info": {
   "codemirror_mode": {
    "name": "ipython",
    "version": 3
   },
   "file_extension": ".py",
   "mimetype": "text/x-python",
   "name": "python",
   "nbconvert_exporter": "python",
   "pygments_lexer": "ipython3",
   "version": "3.9.12"
  }
 },
 "nbformat": 4,
 "nbformat_minor": 5
}
