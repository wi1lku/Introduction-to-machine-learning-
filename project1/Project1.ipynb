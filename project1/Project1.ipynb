{
 "cells": [
  {
   "cell_type": "markdown",
   "id": "578172e7",
   "metadata": {},
   "source": [
    "# Eksploracja i preprocessing danych zbioru \"Chess king rook\"\n",
    "Julia Kaznowska, Piotr Wilczyński <br>\n",
    "Politechnika Warszawska, Wydział Matematyki i Nauk Informacyjnych, Wstęp do uczenia maszynowego"
   ]
  },
  {
   "cell_type": "markdown",
   "id": "24d045dd",
   "metadata": {},
   "source": [
    "## Import niezbędnych bibliotek oraz zbioru danych"
   ]
  },
  {
   "cell_type": "code",
   "execution_count": 1,
   "id": "a8c2ecc9",
   "metadata": {},
   "outputs": [],
   "source": [
    "import pandas as pd\n",
    "import numpy as np\n",
    "import seaborn as sns\n",
    "from matplotlib import pyplot as plt\n",
    "from sklearn.model_selection import train_test_split\n",
    "\n",
    "# zbior danych\n",
    "df = pd.read_csv(\"chess_king_rook_dataset.csv\")\n",
    "\n",
    "# wyświetlanie wizualizacji\n",
    "%matplotlib inline"
   ]
  },
  {
   "cell_type": "markdown",
   "id": "cf208889",
   "metadata": {},
   "source": [
    "Wyświetlanie wizualizacji c.d."
   ]
  },
  {
   "cell_type": "code",
   "execution_count": 2,
   "id": "f37c9f32",
   "metadata": {},
   "outputs": [
    {
     "data": {
      "application/javascript": [
       "IPython.OutputArea.prototype._should_scroll = function(lines) {\n",
       "    return false;\n",
       "}\n"
      ],
      "text/plain": [
       "<IPython.core.display.Javascript object>"
      ]
     },
     "metadata": {},
     "output_type": "display_data"
    }
   ],
   "source": [
    "%%javascript\n",
    "IPython.OutputArea.prototype._should_scroll = function(lines) {\n",
    "    return false;\n",
    "}"
   ]
  },
  {
   "cell_type": "markdown",
   "id": "f43e64fc",
   "metadata": {},
   "source": [
    "## Opis zbioru"
   ]
  },
  {
   "cell_type": "markdown",
   "id": "2dd71d7b",
   "metadata": {},
   "source": [
    "Zbiór \"Chess king rook\" zawiera dane dotyczące końcówek meczów szachowych, w których na szachownicy zostały trzy figury: biały król, czarny król i biała wieża."
   ]
  },
  {
   "cell_type": "markdown",
   "id": "7a7aa408",
   "metadata": {},
   "source": [
    "Opis kolumn znajudje się w pliku \"attributes_chess_king_rook.csv\""
   ]
  },
  {
   "cell_type": "code",
   "execution_count": 3,
   "id": "96ab854b",
   "metadata": {
    "scrolled": false
   },
   "outputs": [
    {
     "data": {
      "text/html": [
       "<div>\n",
       "<style scoped>\n",
       "    .dataframe tbody tr th:only-of-type {\n",
       "        vertical-align: middle;\n",
       "    }\n",
       "\n",
       "    .dataframe tbody tr th {\n",
       "        vertical-align: top;\n",
       "    }\n",
       "\n",
       "    .dataframe thead th {\n",
       "        text-align: right;\n",
       "    }\n",
       "</style>\n",
       "<table border=\"1\" class=\"dataframe\">\n",
       "  <thead>\n",
       "    <tr style=\"text-align: right;\">\n",
       "      <th></th>\n",
       "      <th>name</th>\n",
       "      <th>type</th>\n",
       "      <th>description</th>\n",
       "    </tr>\n",
       "  </thead>\n",
       "  <tbody>\n",
       "    <tr>\n",
       "      <th>0</th>\n",
       "      <td>white_king_file</td>\n",
       "      <td>string</td>\n",
       "      <td>Column location on the chess board of the white king</td>\n",
       "    </tr>\n",
       "    <tr>\n",
       "      <th>1</th>\n",
       "      <td>white_king_rank</td>\n",
       "      <td>string</td>\n",
       "      <td>Row location on the chess board of the white king</td>\n",
       "    </tr>\n",
       "    <tr>\n",
       "      <th>2</th>\n",
       "      <td>white_rook_file</td>\n",
       "      <td>string</td>\n",
       "      <td>Column location on the chess board of the white rook</td>\n",
       "    </tr>\n",
       "    <tr>\n",
       "      <th>3</th>\n",
       "      <td>white_rook_rank</td>\n",
       "      <td>string</td>\n",
       "      <td>Row location on the chess board of the white rook</td>\n",
       "    </tr>\n",
       "    <tr>\n",
       "      <th>4</th>\n",
       "      <td>black_king_file</td>\n",
       "      <td>string</td>\n",
       "      <td>Column location on the chess board of the black king</td>\n",
       "    </tr>\n",
       "    <tr>\n",
       "      <th>5</th>\n",
       "      <td>black_king_rank</td>\n",
       "      <td>string</td>\n",
       "      <td>Row location on the chess board of the black king</td>\n",
       "    </tr>\n",
       "    <tr>\n",
       "      <th>6</th>\n",
       "      <td>result</td>\n",
       "      <td>string</td>\n",
       "      <td>Predictor Class. optimal depth-of-win for White in 0 to 16 moves, otherwise drawn Values: {draw, zero, one, two, ..., sixteen}</td>\n",
       "    </tr>\n",
       "  </tbody>\n",
       "</table>\n",
       "</div>"
      ],
      "text/plain": [
       "              name    type  \\\n",
       "0  white_king_file  string   \n",
       "1  white_king_rank  string   \n",
       "2  white_rook_file  string   \n",
       "3  white_rook_rank  string   \n",
       "4  black_king_file  string   \n",
       "5  black_king_rank  string   \n",
       "6           result  string   \n",
       "\n",
       "                                                                                                                      description  \n",
       "0                                                                            Column location on the chess board of the white king  \n",
       "1                                                                               Row location on the chess board of the white king  \n",
       "2                                                                            Column location on the chess board of the white rook  \n",
       "3                                                                               Row location on the chess board of the white rook  \n",
       "4                                                                            Column location on the chess board of the black king  \n",
       "5                                                                               Row location on the chess board of the black king  \n",
       "6  Predictor Class. optimal depth-of-win for White in 0 to 16 moves, otherwise drawn Values: {draw, zero, one, two, ..., sixteen}  "
      ]
     },
     "metadata": {},
     "output_type": "display_data"
    }
   ],
   "source": [
    "attr = pd.read_csv(\"attributes_chess_king_rook.csv\")\n",
    "with pd.option_context('display.max_colwidth', 400):\n",
    "    display(attr)"
   ]
  },
  {
   "cell_type": "markdown",
   "id": "d5a1bd8e",
   "metadata": {},
   "source": [
    "Zobaczmy kilka pierwszych rekordów w zbiorze"
   ]
  },
  {
   "cell_type": "code",
   "execution_count": 4,
   "id": "0ba01984",
   "metadata": {
    "scrolled": false
   },
   "outputs": [
    {
     "data": {
      "text/html": [
       "<div>\n",
       "<style scoped>\n",
       "    .dataframe tbody tr th:only-of-type {\n",
       "        vertical-align: middle;\n",
       "    }\n",
       "\n",
       "    .dataframe tbody tr th {\n",
       "        vertical-align: top;\n",
       "    }\n",
       "\n",
       "    .dataframe thead th {\n",
       "        text-align: right;\n",
       "    }\n",
       "</style>\n",
       "<table border=\"1\" class=\"dataframe\">\n",
       "  <thead>\n",
       "    <tr style=\"text-align: right;\">\n",
       "      <th></th>\n",
       "      <th>white_king_file</th>\n",
       "      <th>white_king_rank</th>\n",
       "      <th>white_rook_file</th>\n",
       "      <th>white_rook_rank</th>\n",
       "      <th>black_king_file</th>\n",
       "      <th>black_king_rank</th>\n",
       "      <th>result</th>\n",
       "    </tr>\n",
       "  </thead>\n",
       "  <tbody>\n",
       "    <tr>\n",
       "      <th>0</th>\n",
       "      <td>a</td>\n",
       "      <td>1</td>\n",
       "      <td>b</td>\n",
       "      <td>3</td>\n",
       "      <td>c</td>\n",
       "      <td>2</td>\n",
       "      <td>draw</td>\n",
       "    </tr>\n",
       "    <tr>\n",
       "      <th>1</th>\n",
       "      <td>a</td>\n",
       "      <td>1</td>\n",
       "      <td>c</td>\n",
       "      <td>1</td>\n",
       "      <td>c</td>\n",
       "      <td>2</td>\n",
       "      <td>draw</td>\n",
       "    </tr>\n",
       "    <tr>\n",
       "      <th>2</th>\n",
       "      <td>a</td>\n",
       "      <td>1</td>\n",
       "      <td>c</td>\n",
       "      <td>1</td>\n",
       "      <td>d</td>\n",
       "      <td>1</td>\n",
       "      <td>draw</td>\n",
       "    </tr>\n",
       "    <tr>\n",
       "      <th>3</th>\n",
       "      <td>a</td>\n",
       "      <td>1</td>\n",
       "      <td>c</td>\n",
       "      <td>1</td>\n",
       "      <td>d</td>\n",
       "      <td>2</td>\n",
       "      <td>draw</td>\n",
       "    </tr>\n",
       "    <tr>\n",
       "      <th>4</th>\n",
       "      <td>a</td>\n",
       "      <td>1</td>\n",
       "      <td>c</td>\n",
       "      <td>2</td>\n",
       "      <td>c</td>\n",
       "      <td>1</td>\n",
       "      <td>draw</td>\n",
       "    </tr>\n",
       "  </tbody>\n",
       "</table>\n",
       "</div>"
      ],
      "text/plain": [
       "  white_king_file  white_king_rank white_rook_file  white_rook_rank  \\\n",
       "0               a                1               b                3   \n",
       "1               a                1               c                1   \n",
       "2               a                1               c                1   \n",
       "3               a                1               c                1   \n",
       "4               a                1               c                2   \n",
       "\n",
       "  black_king_file  black_king_rank result  \n",
       "0               c                2   draw  \n",
       "1               c                2   draw  \n",
       "2               d                1   draw  \n",
       "3               d                2   draw  \n",
       "4               c                1   draw  "
      ]
     },
     "execution_count": 4,
     "metadata": {},
     "output_type": "execute_result"
    }
   ],
   "source": [
    "df.head()"
   ]
  },
  {
   "cell_type": "markdown",
   "id": "f648d75e",
   "metadata": {},
   "source": [
    "Według informacji znajdujących się na stronie, na których znajdował się dane, zbiór nie powinien mieć braków. Sprawdźmy to."
   ]
  },
  {
   "cell_type": "code",
   "execution_count": 5,
   "id": "bd891708",
   "metadata": {
    "scrolled": false
   },
   "outputs": [
    {
     "name": "stdout",
     "output_type": "stream",
     "text": [
      "<class 'pandas.core.frame.DataFrame'>\n",
      "RangeIndex: 28056 entries, 0 to 28055\n",
      "Data columns (total 7 columns):\n",
      " #   Column           Non-Null Count  Dtype \n",
      "---  ------           --------------  ----- \n",
      " 0   white_king_file  28056 non-null  object\n",
      " 1   white_king_rank  28056 non-null  int64 \n",
      " 2   white_rook_file  28056 non-null  object\n",
      " 3   white_rook_rank  28056 non-null  int64 \n",
      " 4   black_king_file  28056 non-null  object\n",
      " 5   black_king_rank  28056 non-null  int64 \n",
      " 6   result           28056 non-null  object\n",
      "dtypes: int64(3), object(4)\n",
      "memory usage: 1.5+ MB\n"
     ]
    }
   ],
   "source": [
    "df.info()"
   ]
  },
  {
   "cell_type": "markdown",
   "id": "4878285c",
   "metadata": {},
   "source": [
    "Zbiór nie ma braków danych"
   ]
  },
  {
   "cell_type": "markdown",
   "id": "1cfc25af",
   "metadata": {},
   "source": [
    "Warto zauważyć, że mimo tego iż kolumy <i>white_king_rank</i>, <i>white_rook_rank</i> oraz <i>black_king_rank</i> są reprezentowane przez liczby to przyjmują one jedynie liczby całkowite od 1 do 8. Możemy traktować je jako zmienne kategoryczne. "
   ]
  },
  {
   "cell_type": "markdown",
   "id": "5ab64838",
   "metadata": {},
   "source": [
    "## Podział zbioru na zbióry do budowania, testowania i walidacji"
   ]
  },
  {
   "cell_type": "code",
   "execution_count": 6,
   "id": "b481ebfe",
   "metadata": {
    "scrolled": false
   },
   "outputs": [],
   "source": [
    "y = np.array(df[\"result\"])\n",
    "X = df.drop([\"result\"], axis = 1)\n",
    "X_train, X_val, y_train, y_val = train_test_split(\n",
    "    X, y, stratify=y, test_size=0.3, random_state=123\n",
    ")\n",
    "X_train, X_test, y_train, y_test = train_test_split(\n",
    "    X_train, y_train, stratify=y_train, test_size=0.3, random_state=123\n",
    ")"
   ]
  },
  {
   "cell_type": "code",
   "execution_count": 7,
   "id": "e8ff2ff9",
   "metadata": {
    "scrolled": false
   },
   "outputs": [
    {
     "data": {
      "text/html": [
       "<div>\n",
       "<style scoped>\n",
       "    .dataframe tbody tr th:only-of-type {\n",
       "        vertical-align: middle;\n",
       "    }\n",
       "\n",
       "    .dataframe tbody tr th {\n",
       "        vertical-align: top;\n",
       "    }\n",
       "\n",
       "    .dataframe thead th {\n",
       "        text-align: right;\n",
       "    }\n",
       "</style>\n",
       "<table border=\"1\" class=\"dataframe\">\n",
       "  <thead>\n",
       "    <tr style=\"text-align: right;\">\n",
       "      <th></th>\n",
       "      <th>white_king_file</th>\n",
       "      <th>white_king_rank</th>\n",
       "      <th>white_rook_file</th>\n",
       "      <th>white_rook_rank</th>\n",
       "      <th>black_king_file</th>\n",
       "      <th>black_king_rank</th>\n",
       "    </tr>\n",
       "  </thead>\n",
       "  <tbody>\n",
       "    <tr>\n",
       "      <th>18628</th>\n",
       "      <td>c</td>\n",
       "      <td>2</td>\n",
       "      <td>b</td>\n",
       "      <td>6</td>\n",
       "      <td>h</td>\n",
       "      <td>4</td>\n",
       "    </tr>\n",
       "    <tr>\n",
       "      <th>40</th>\n",
       "      <td>a</td>\n",
       "      <td>1</td>\n",
       "      <td>e</td>\n",
       "      <td>1</td>\n",
       "      <td>d</td>\n",
       "      <td>1</td>\n",
       "    </tr>\n",
       "    <tr>\n",
       "      <th>16021</th>\n",
       "      <td>d</td>\n",
       "      <td>3</td>\n",
       "      <td>a</td>\n",
       "      <td>2</td>\n",
       "      <td>g</td>\n",
       "      <td>4</td>\n",
       "    </tr>\n",
       "    <tr>\n",
       "      <th>15738</th>\n",
       "      <td>d</td>\n",
       "      <td>2</td>\n",
       "      <td>e</td>\n",
       "      <td>2</td>\n",
       "      <td>d</td>\n",
       "      <td>6</td>\n",
       "    </tr>\n",
       "    <tr>\n",
       "      <th>19637</th>\n",
       "      <td>d</td>\n",
       "      <td>1</td>\n",
       "      <td>d</td>\n",
       "      <td>5</td>\n",
       "      <td>g</td>\n",
       "      <td>3</td>\n",
       "    </tr>\n",
       "  </tbody>\n",
       "</table>\n",
       "</div>"
      ],
      "text/plain": [
       "      white_king_file  white_king_rank white_rook_file  white_rook_rank  \\\n",
       "18628               c                2               b                6   \n",
       "40                  a                1               e                1   \n",
       "16021               d                3               a                2   \n",
       "15738               d                2               e                2   \n",
       "19637               d                1               d                5   \n",
       "\n",
       "      black_king_file  black_king_rank  \n",
       "18628               h                4  \n",
       "40                  d                1  \n",
       "16021               g                4  \n",
       "15738               d                6  \n",
       "19637               g                3  "
      ]
     },
     "execution_count": 7,
     "metadata": {},
     "output_type": "execute_result"
    }
   ],
   "source": [
    "X_train.head()"
   ]
  },
  {
   "cell_type": "code",
   "execution_count": 8,
   "id": "7a316c57",
   "metadata": {
    "scrolled": false
   },
   "outputs": [
    {
     "data": {
      "text/plain": [
       "array(['thirteen', 'draw', 'twelve', ..., 'fourteen', 'draw', 'ten'],\n",
       "      dtype=object)"
      ]
     },
     "execution_count": 8,
     "metadata": {},
     "output_type": "execute_result"
    }
   ],
   "source": [
    "y_train"
   ]
  },
  {
   "cell_type": "code",
   "execution_count": 9,
   "id": "39ebf6a5",
   "metadata": {
    "scrolled": false
   },
   "outputs": [
    {
     "name": "stdout",
     "output_type": "stream",
     "text": [
      "(13747, 6)\n",
      "(13747,)\n",
      "(5892, 6)\n",
      "(5892,)\n",
      "(8417, 6)\n",
      "(8417,)\n"
     ]
    }
   ],
   "source": [
    "print(X_train.shape)\n",
    "print(y_train.shape)\n",
    "print(X_test.shape)\n",
    "print(y_test.shape)\n",
    "print(X_val.shape)\n",
    "print(y_val.shape)"
   ]
  },
  {
   "cell_type": "code",
   "execution_count": 10,
   "id": "f4120583",
   "metadata": {
    "scrolled": false
   },
   "outputs": [
    {
     "data": {
      "image/png": "[encoded data removed]",
      "text/plain": [
       "<Figure size 1080x360 with 3 Axes>"
      ]
     },
     "metadata": {
      "needs_background": "light"
     },
     "output_type": "display_data"
    }
   ],
   "source": [
    "# set order\n",
    "y_train = pd.Categorical(y_train, [\"draw\", \"zero\", \"one\", \"two\", \"three\", \"four\", \"five\", \"six\", \"seven\", \"eight\", \"nine\", \"ten\", \"eleven\", \"twelve\", \"thirteen\", \"fourteen\", \"fifteen\", \"sixteen\"])\n",
    "y_test = pd.Categorical(y_test, [\"draw\", \"zero\", \"one\", \"two\", \"three\", \"four\", \"five\", \"six\", \"seven\", \"eight\", \"nine\", \"ten\", \"eleven\", \"twelve\", \"thirteen\", \"fourteen\", \"fifteen\", \"sixteen\"])\n",
    "y_val = pd.Categorical(y_val, [\"draw\", \"zero\", \"one\", \"two\", \"three\", \"four\", \"five\", \"six\", \"seven\", \"eight\", \"nine\", \"ten\", \"eleven\", \"twelve\", \"thirteen\", \"fourteen\", \"fifteen\", \"sixteen\"])\n",
    "\n",
    "# plot\n",
    "fig, axes = plt.subplots(1, 3, figsize = (15, 5))\n",
    "sns.histplot(y_train, ax = axes[0])\n",
    "sns.histplot(y_test, ax = axes[1])\n",
    "sns.histplot(y_val, ax = axes[2])\n",
    "plt.sca(axes[0])\n",
    "plt.xticks(rotation = -70)\n",
    "plt.title(\"Training data\")\n",
    "plt.sca(axes[1])\n",
    "plt.xticks(rotation = -70)\n",
    "plt.title(\"Testing data\")\n",
    "plt.sca(axes[2])\n",
    "plt.xticks(rotation = -70)\n",
    "plt.title(\"Validation data\")\n",
    "plt.show()"
   ]
  },
  {
   "cell_type": "markdown",
   "id": "590d309f",
   "metadata": {},
   "source": [
    "Zbiór wydaje się być dobrze podzielony"
   ]
  },
  {
   "cell_type": "markdown",
   "id": "811cb9be",
   "metadata": {},
   "source": [
    "W dalszej części będziemy pracować na danych treningowych i sprawdzać wyniki na danych testowych"
   ]
  },
  {
   "cell_type": "markdown",
   "id": "b9dd1b3d",
   "metadata": {},
   "source": [
    "## Wstępna eksploracja"
   ]
  },
  {
   "cell_type": "markdown",
   "id": "e1663eda",
   "metadata": {},
   "source": [
    "Z racji na to, że w tej części nie będziemy jeszcze trenować modelu wygodniej będzie nam ponownie połączyć X_train i y_train w jedną ramkę (To samo dla X_test i y_test)."
   ]
  },
  {
   "cell_type": "code",
   "execution_count": 11,
   "id": "40965edf",
   "metadata": {
    "scrolled": false
   },
   "outputs": [],
   "source": [
    "df_train = X_train\n",
    "df_train['result'] = y_train\n",
    "df_test = X_test\n",
    "df_test['result'] = y_test"
   ]
  },
  {
   "cell_type": "code",
   "execution_count": 12,
   "id": "b9316da5",
   "metadata": {
    "scrolled": false
   },
   "outputs": [
    {
     "data": {
      "text/html": [
       "<div>\n",
       "<style scoped>\n",
       "    .dataframe tbody tr th:only-of-type {\n",
       "        vertical-align: middle;\n",
       "    }\n",
       "\n",
       "    .dataframe tbody tr th {\n",
       "        vertical-align: top;\n",
       "    }\n",
       "\n",
       "    .dataframe thead th {\n",
       "        text-align: right;\n",
       "    }\n",
       "</style>\n",
       "<table border=\"1\" class=\"dataframe\">\n",
       "  <thead>\n",
       "    <tr style=\"text-align: right;\">\n",
       "      <th></th>\n",
       "      <th>white_king_file</th>\n",
       "      <th>white_king_rank</th>\n",
       "      <th>white_rook_file</th>\n",
       "      <th>white_rook_rank</th>\n",
       "      <th>black_king_file</th>\n",
       "      <th>black_king_rank</th>\n",
       "      <th>result</th>\n",
       "    </tr>\n",
       "  </thead>\n",
       "  <tbody>\n",
       "    <tr>\n",
       "      <th>18628</th>\n",
       "      <td>c</td>\n",
       "      <td>2</td>\n",
       "      <td>b</td>\n",
       "      <td>6</td>\n",
       "      <td>h</td>\n",
       "      <td>4</td>\n",
       "      <td>thirteen</td>\n",
       "    </tr>\n",
       "    <tr>\n",
       "      <th>40</th>\n",
       "      <td>a</td>\n",
       "      <td>1</td>\n",
       "      <td>e</td>\n",
       "      <td>1</td>\n",
       "      <td>d</td>\n",
       "      <td>1</td>\n",
       "      <td>draw</td>\n",
       "    </tr>\n",
       "    <tr>\n",
       "      <th>16021</th>\n",
       "      <td>d</td>\n",
       "      <td>3</td>\n",
       "      <td>a</td>\n",
       "      <td>2</td>\n",
       "      <td>g</td>\n",
       "      <td>4</td>\n",
       "      <td>twelve</td>\n",
       "    </tr>\n",
       "    <tr>\n",
       "      <th>15738</th>\n",
       "      <td>d</td>\n",
       "      <td>2</td>\n",
       "      <td>e</td>\n",
       "      <td>2</td>\n",
       "      <td>d</td>\n",
       "      <td>6</td>\n",
       "      <td>twelve</td>\n",
       "    </tr>\n",
       "    <tr>\n",
       "      <th>19637</th>\n",
       "      <td>d</td>\n",
       "      <td>1</td>\n",
       "      <td>d</td>\n",
       "      <td>5</td>\n",
       "      <td>g</td>\n",
       "      <td>3</td>\n",
       "      <td>thirteen</td>\n",
       "    </tr>\n",
       "  </tbody>\n",
       "</table>\n",
       "</div>"
      ],
      "text/plain": [
       "      white_king_file  white_king_rank white_rook_file  white_rook_rank  \\\n",
       "18628               c                2               b                6   \n",
       "40                  a                1               e                1   \n",
       "16021               d                3               a                2   \n",
       "15738               d                2               e                2   \n",
       "19637               d                1               d                5   \n",
       "\n",
       "      black_king_file  black_king_rank    result  \n",
       "18628               h                4  thirteen  \n",
       "40                  d                1      draw  \n",
       "16021               g                4    twelve  \n",
       "15738               d                6    twelve  \n",
       "19637               g                3  thirteen  "
      ]
     },
     "execution_count": 12,
     "metadata": {},
     "output_type": "execute_result"
    }
   ],
   "source": [
    "df_train.head()"
   ]
  },
  {
   "cell_type": "markdown",
   "id": "5e8414bb",
   "metadata": {},
   "source": [
    "### Pozycje białego króla"
   ]
  },
  {
   "cell_type": "markdown",
   "id": "ca8b7671",
   "metadata": {},
   "source": [
    "Przeanalizujmy częstość występowania danych pól dla każdej z figur."
   ]
  },
  {
   "cell_type": "code",
   "execution_count": 13,
   "id": "97354825",
   "metadata": {
    "scrolled": false
   },
   "outputs": [
    {
     "data": {
      "text/html": [
       "<div>\n",
       "<style scoped>\n",
       "    .dataframe tbody tr th:only-of-type {\n",
       "        vertical-align: middle;\n",
       "    }\n",
       "\n",
       "    .dataframe tbody tr th {\n",
       "        vertical-align: top;\n",
       "    }\n",
       "\n",
       "    .dataframe thead th {\n",
       "        text-align: right;\n",
       "    }\n",
       "</style>\n",
       "<table border=\"1\" class=\"dataframe\">\n",
       "  <thead>\n",
       "    <tr style=\"text-align: right;\">\n",
       "      <th>white_king_file</th>\n",
       "      <th>a</th>\n",
       "      <th>b</th>\n",
       "      <th>c</th>\n",
       "      <th>d</th>\n",
       "    </tr>\n",
       "    <tr>\n",
       "      <th>white_king_rank</th>\n",
       "      <th></th>\n",
       "      <th></th>\n",
       "      <th></th>\n",
       "      <th></th>\n",
       "    </tr>\n",
       "  </thead>\n",
       "  <tbody>\n",
       "    <tr>\n",
       "      <th>1</th>\n",
       "      <td>899.0</td>\n",
       "      <td>1763.0</td>\n",
       "      <td>1736.0</td>\n",
       "      <td>1774.0</td>\n",
       "    </tr>\n",
       "    <tr>\n",
       "      <th>2</th>\n",
       "      <td>0</td>\n",
       "      <td>858.0</td>\n",
       "      <td>1640.0</td>\n",
       "      <td>1712.0</td>\n",
       "    </tr>\n",
       "    <tr>\n",
       "      <th>3</th>\n",
       "      <td>0</td>\n",
       "      <td>0</td>\n",
       "      <td>874.0</td>\n",
       "      <td>1663.0</td>\n",
       "    </tr>\n",
       "    <tr>\n",
       "      <th>4</th>\n",
       "      <td>0</td>\n",
       "      <td>0</td>\n",
       "      <td>0</td>\n",
       "      <td>828.0</td>\n",
       "    </tr>\n",
       "  </tbody>\n",
       "</table>\n",
       "</div>"
      ],
      "text/plain": [
       "white_king_file      a       b       c       d\n",
       "white_king_rank                               \n",
       "1                899.0  1763.0  1736.0  1774.0\n",
       "2                    0   858.0  1640.0  1712.0\n",
       "3                    0       0   874.0  1663.0\n",
       "4                    0       0       0   828.0"
      ]
     },
     "execution_count": 13,
     "metadata": {},
     "output_type": "execute_result"
    }
   ],
   "source": [
    "df_white_king = df_train[[\"white_king_file\", 'white_king_rank', 'result']]\n",
    "df_white_king = df_train.pivot_table(index = \"white_king_rank\",\\\n",
    "                                          columns ='white_king_file',\\\n",
    "                                          values = \"result\",\\\n",
    "                                          aggfunc='count',\\\n",
    "                                          fill_value = '0')\n",
    "df_white_king"
   ]
  },
  {
   "cell_type": "code",
   "execution_count": 14,
   "id": "38708c7e",
   "metadata": {
    "scrolled": false
   },
   "outputs": [
    {
     "data": {
      "image/png": "[encoded data removed]",
      "text/plain": [
       "<Figure size 576x504 with 2 Axes>"
      ]
     },
     "metadata": {},
     "output_type": "display_data"
    }
   ],
   "source": [
    "df_white_king[[\"e\",\"f\",\"g\",\"h\"]] = [0,0,0,0]\n",
    "df_white_king = pd.concat([df_white_king, df_white_king], axis=0, ignore_index=True)\n",
    "df_white_king.index +=1\n",
    "df_white_king.iloc[4:8,0:4] = np.zeros([4,4])\n",
    "df_white_king = df_white_king.astype(int)\n",
    "\n",
    "sns.set(rc = {'figure.figsize':(8,7)})\n",
    "g = sns.heatmap(df_white_king, annot=True, fmt=\"d\")\n",
    "g.invert_yaxis()"
   ]
  },
  {
   "cell_type": "markdown",
   "id": "bfc22d7e",
   "metadata": {},
   "source": [
    "Wnioski:\n",
    "- Biały król występuje tylko na trójkącie prostokątnym (a1, d1, d4)\n",
    "- Występuje około dwa razy rzadziej na przeciwprostokątnej"
   ]
  },
  {
   "cell_type": "markdown",
   "id": "e119b18d",
   "metadata": {},
   "source": [
    "#### Sprawdzenie dla danych testowych"
   ]
  },
  {
   "cell_type": "code",
   "execution_count": 15,
   "id": "4f1746f8",
   "metadata": {
    "scrolled": false
   },
   "outputs": [
    {
     "data": {
      "text/html": [
       "<div>\n",
       "<style scoped>\n",
       "    .dataframe tbody tr th:only-of-type {\n",
       "        vertical-align: middle;\n",
       "    }\n",
       "\n",
       "    .dataframe tbody tr th {\n",
       "        vertical-align: top;\n",
       "    }\n",
       "\n",
       "    .dataframe thead th {\n",
       "        text-align: right;\n",
       "    }\n",
       "</style>\n",
       "<table border=\"1\" class=\"dataframe\">\n",
       "  <thead>\n",
       "    <tr style=\"text-align: right;\">\n",
       "      <th>white_king_file</th>\n",
       "      <th>a</th>\n",
       "      <th>b</th>\n",
       "      <th>c</th>\n",
       "      <th>d</th>\n",
       "    </tr>\n",
       "    <tr>\n",
       "      <th>white_king_rank</th>\n",
       "      <th></th>\n",
       "      <th></th>\n",
       "      <th></th>\n",
       "      <th></th>\n",
       "    </tr>\n",
       "  </thead>\n",
       "  <tbody>\n",
       "    <tr>\n",
       "      <th>1</th>\n",
       "      <td>420.0</td>\n",
       "      <td>745.0</td>\n",
       "      <td>786.0</td>\n",
       "      <td>774.0</td>\n",
       "    </tr>\n",
       "    <tr>\n",
       "      <th>2</th>\n",
       "      <td>0</td>\n",
       "      <td>352.0</td>\n",
       "      <td>691.0</td>\n",
       "      <td>693.0</td>\n",
       "    </tr>\n",
       "    <tr>\n",
       "      <th>3</th>\n",
       "      <td>0</td>\n",
       "      <td>0</td>\n",
       "      <td>346.0</td>\n",
       "      <td>700.0</td>\n",
       "    </tr>\n",
       "    <tr>\n",
       "      <th>4</th>\n",
       "      <td>0</td>\n",
       "      <td>0</td>\n",
       "      <td>0</td>\n",
       "      <td>385.0</td>\n",
       "    </tr>\n",
       "  </tbody>\n",
       "</table>\n",
       "</div>"
      ],
      "text/plain": [
       "white_king_file      a      b      c      d\n",
       "white_king_rank                            \n",
       "1                420.0  745.0  786.0  774.0\n",
       "2                    0  352.0  691.0  693.0\n",
       "3                    0      0  346.0  700.0\n",
       "4                    0      0      0  385.0"
      ]
     },
     "execution_count": 15,
     "metadata": {},
     "output_type": "execute_result"
    }
   ],
   "source": [
    "df_white_king_test = df_test[[\"white_king_file\", 'white_king_rank', 'result']]\n",
    "df_white_king_test = df_test.pivot_table(index = \"white_king_rank\",\\\n",
    "                                          columns ='white_king_file',\\\n",
    "                                          values = \"result\",\\\n",
    "                                          aggfunc='count',\\\n",
    "                                          fill_value = '0')\n",
    "df_white_king_test"
   ]
  },
  {
   "cell_type": "code",
   "execution_count": 16,
   "id": "66e908f5",
   "metadata": {
    "scrolled": true
   },
   "outputs": [
    {
     "data": {
      "image/png": "[encoded data removed]",
      "text/plain": [
       "<Figure size 576x504 with 2 Axes>"
      ]
     },
     "metadata": {},
     "output_type": "display_data"
    }
   ],
   "source": [
    "df_white_king_test[[\"e\",\"f\",\"g\",\"h\"]] = [0,0,0,0]\n",
    "df_white_king_test = pd.concat([df_white_king_test, df_white_king_test], axis=0, ignore_index=True)\n",
    "df_white_king_test.index +=1\n",
    "df_white_king_test.iloc[4:8,0:4] = np.zeros([4,4])\n",
    "df_white_king_test = df_white_king_test.astype(int)\n",
    "\n",
    "sns.set(rc = {'figure.figsize':(8,7)})\n",
    "g = sns.heatmap(df_white_king_test, annot=True, fmt=\"d\")\n",
    "g.invert_yaxis()"
   ]
  },
  {
   "cell_type": "markdown",
   "id": "407a352b",
   "metadata": {},
   "source": [
    "Wnioski się zgadzają (a1 występuje trochę częściej ale wydaje się to być statystycznie nieistotne). Biały król występuje tylko na trójkącie prostokątnym (a1, d1, d4) oraz występuje około dwa razy rzadziej na przeciwprostokątnej"
   ]
  },
  {
   "cell_type": "markdown",
   "id": "25748e8f",
   "metadata": {},
   "source": [
    "### Pozycje białej wieży"
   ]
  },
  {
   "cell_type": "code",
   "execution_count": 17,
   "id": "956c8c4d",
   "metadata": {
    "scrolled": true
   },
   "outputs": [
    {
     "data": {
      "text/html": [
       "<div>\n",
       "<style scoped>\n",
       "    .dataframe tbody tr th:only-of-type {\n",
       "        vertical-align: middle;\n",
       "    }\n",
       "\n",
       "    .dataframe tbody tr th {\n",
       "        vertical-align: top;\n",
       "    }\n",
       "\n",
       "    .dataframe thead th {\n",
       "        text-align: right;\n",
       "    }\n",
       "</style>\n",
       "<table border=\"1\" class=\"dataframe\">\n",
       "  <thead>\n",
       "    <tr style=\"text-align: right;\">\n",
       "      <th>white_rook_file</th>\n",
       "      <th>a</th>\n",
       "      <th>b</th>\n",
       "      <th>c</th>\n",
       "      <th>d</th>\n",
       "      <th>e</th>\n",
       "      <th>f</th>\n",
       "      <th>g</th>\n",
       "      <th>h</th>\n",
       "    </tr>\n",
       "    <tr>\n",
       "      <th>white_rook_rank</th>\n",
       "      <th></th>\n",
       "      <th></th>\n",
       "      <th></th>\n",
       "      <th></th>\n",
       "      <th></th>\n",
       "      <th></th>\n",
       "      <th></th>\n",
       "      <th></th>\n",
       "    </tr>\n",
       "  </thead>\n",
       "  <tbody>\n",
       "    <tr>\n",
       "      <th>1</th>\n",
       "      <td>202</td>\n",
       "      <td>209</td>\n",
       "      <td>188</td>\n",
       "      <td>196</td>\n",
       "      <td>232</td>\n",
       "      <td>220</td>\n",
       "      <td>210</td>\n",
       "      <td>203</td>\n",
       "    </tr>\n",
       "    <tr>\n",
       "      <th>2</th>\n",
       "      <td>203</td>\n",
       "      <td>211</td>\n",
       "      <td>192</td>\n",
       "      <td>195</td>\n",
       "      <td>204</td>\n",
       "      <td>235</td>\n",
       "      <td>250</td>\n",
       "      <td>221</td>\n",
       "    </tr>\n",
       "    <tr>\n",
       "      <th>3</th>\n",
       "      <td>215</td>\n",
       "      <td>231</td>\n",
       "      <td>210</td>\n",
       "      <td>188</td>\n",
       "      <td>220</td>\n",
       "      <td>203</td>\n",
       "      <td>213</td>\n",
       "      <td>232</td>\n",
       "    </tr>\n",
       "    <tr>\n",
       "      <th>4</th>\n",
       "      <td>215</td>\n",
       "      <td>211</td>\n",
       "      <td>210</td>\n",
       "      <td>186</td>\n",
       "      <td>213</td>\n",
       "      <td>244</td>\n",
       "      <td>224</td>\n",
       "      <td>215</td>\n",
       "    </tr>\n",
       "    <tr>\n",
       "      <th>5</th>\n",
       "      <td>233</td>\n",
       "      <td>221</td>\n",
       "      <td>190</td>\n",
       "      <td>228</td>\n",
       "      <td>219</td>\n",
       "      <td>235</td>\n",
       "      <td>225</td>\n",
       "      <td>213</td>\n",
       "    </tr>\n",
       "    <tr>\n",
       "      <th>6</th>\n",
       "      <td>186</td>\n",
       "      <td>231</td>\n",
       "      <td>204</td>\n",
       "      <td>228</td>\n",
       "      <td>198</td>\n",
       "      <td>229</td>\n",
       "      <td>228</td>\n",
       "      <td>204</td>\n",
       "    </tr>\n",
       "    <tr>\n",
       "      <th>7</th>\n",
       "      <td>225</td>\n",
       "      <td>205</td>\n",
       "      <td>206</td>\n",
       "      <td>230</td>\n",
       "      <td>219</td>\n",
       "      <td>202</td>\n",
       "      <td>225</td>\n",
       "      <td>211</td>\n",
       "    </tr>\n",
       "    <tr>\n",
       "      <th>8</th>\n",
       "      <td>218</td>\n",
       "      <td>214</td>\n",
       "      <td>222</td>\n",
       "      <td>215</td>\n",
       "      <td>227</td>\n",
       "      <td>217</td>\n",
       "      <td>215</td>\n",
       "      <td>223</td>\n",
       "    </tr>\n",
       "  </tbody>\n",
       "</table>\n",
       "</div>"
      ],
      "text/plain": [
       "white_rook_file    a    b    c    d    e    f    g    h\n",
       "white_rook_rank                                        \n",
       "1                202  209  188  196  232  220  210  203\n",
       "2                203  211  192  195  204  235  250  221\n",
       "3                215  231  210  188  220  203  213  232\n",
       "4                215  211  210  186  213  244  224  215\n",
       "5                233  221  190  228  219  235  225  213\n",
       "6                186  231  204  228  198  229  228  204\n",
       "7                225  205  206  230  219  202  225  211\n",
       "8                218  214  222  215  227  217  215  223"
      ]
     },
     "execution_count": 17,
     "metadata": {},
     "output_type": "execute_result"
    }
   ],
   "source": [
    "df_white_rook = df_train[[\"white_rook_file\", 'white_rook_rank', 'result']]\n",
    "df_white_rook = df_train.pivot_table(index = \"white_rook_rank\",\\\n",
    "                                          columns ='white_rook_file',\\\n",
    "                                          values = \"result\",\\\n",
    "                                          aggfunc='count',\\\n",
    "                                          fill_value = '0')\n",
    "df_white_rook"
   ]
  },
  {
   "cell_type": "code",
   "execution_count": 18,
   "id": "023e1a79",
   "metadata": {
    "scrolled": true
   },
   "outputs": [
    {
     "data": {
      "image/png": "[encoded data removed]",
      "text/plain": [
       "<Figure size 576x504 with 2 Axes>"
      ]
     },
     "metadata": {},
     "output_type": "display_data"
    }
   ],
   "source": [
    "df_white_rook = df_white_rook.astype(int)\n",
    "sns.set(rc = {'figure.figsize':(8,7)})\n",
    "g = sns.heatmap(df_white_rook, annot=True, fmt=\"d\")\n",
    "g.invert_yaxis()\n",
    "plt.show()"
   ]
  },
  {
   "cell_type": "markdown",
   "id": "55069f26",
   "metadata": {},
   "source": [
    "Wnioski:\n",
    "- Biała wieża występuje mniej więcej z równą częstością na każdym polu. Rozstęp wynosi 250 - 186 = 64"
   ]
  },
  {
   "cell_type": "markdown",
   "id": "4e4e9f02",
   "metadata": {},
   "source": [
    "#### Sprawdzenie dla danych testowych"
   ]
  },
  {
   "cell_type": "code",
   "execution_count": 19,
   "id": "80373aec",
   "metadata": {
    "scrolled": false
   },
   "outputs": [
    {
     "data": {
      "text/html": [
       "<div>\n",
       "<style scoped>\n",
       "    .dataframe tbody tr th:only-of-type {\n",
       "        vertical-align: middle;\n",
       "    }\n",
       "\n",
       "    .dataframe tbody tr th {\n",
       "        vertical-align: top;\n",
       "    }\n",
       "\n",
       "    .dataframe thead th {\n",
       "        text-align: right;\n",
       "    }\n",
       "</style>\n",
       "<table border=\"1\" class=\"dataframe\">\n",
       "  <thead>\n",
       "    <tr style=\"text-align: right;\">\n",
       "      <th>white_rook_file</th>\n",
       "      <th>a</th>\n",
       "      <th>b</th>\n",
       "      <th>c</th>\n",
       "      <th>d</th>\n",
       "      <th>e</th>\n",
       "      <th>f</th>\n",
       "      <th>g</th>\n",
       "      <th>h</th>\n",
       "    </tr>\n",
       "    <tr>\n",
       "      <th>white_rook_rank</th>\n",
       "      <th></th>\n",
       "      <th></th>\n",
       "      <th></th>\n",
       "      <th></th>\n",
       "      <th></th>\n",
       "      <th></th>\n",
       "      <th></th>\n",
       "      <th></th>\n",
       "    </tr>\n",
       "  </thead>\n",
       "  <tbody>\n",
       "    <tr>\n",
       "      <th>1</th>\n",
       "      <td>81</td>\n",
       "      <td>88</td>\n",
       "      <td>90</td>\n",
       "      <td>68</td>\n",
       "      <td>87</td>\n",
       "      <td>97</td>\n",
       "      <td>103</td>\n",
       "      <td>92</td>\n",
       "    </tr>\n",
       "    <tr>\n",
       "      <th>2</th>\n",
       "      <td>93</td>\n",
       "      <td>84</td>\n",
       "      <td>86</td>\n",
       "      <td>90</td>\n",
       "      <td>106</td>\n",
       "      <td>78</td>\n",
       "      <td>89</td>\n",
       "      <td>93</td>\n",
       "    </tr>\n",
       "    <tr>\n",
       "      <th>3</th>\n",
       "      <td>91</td>\n",
       "      <td>99</td>\n",
       "      <td>91</td>\n",
       "      <td>85</td>\n",
       "      <td>109</td>\n",
       "      <td>110</td>\n",
       "      <td>114</td>\n",
       "      <td>103</td>\n",
       "    </tr>\n",
       "    <tr>\n",
       "      <th>4</th>\n",
       "      <td>93</td>\n",
       "      <td>100</td>\n",
       "      <td>100</td>\n",
       "      <td>83</td>\n",
       "      <td>101</td>\n",
       "      <td>84</td>\n",
       "      <td>94</td>\n",
       "      <td>89</td>\n",
       "    </tr>\n",
       "    <tr>\n",
       "      <th>5</th>\n",
       "      <td>74</td>\n",
       "      <td>106</td>\n",
       "      <td>92</td>\n",
       "      <td>78</td>\n",
       "      <td>92</td>\n",
       "      <td>91</td>\n",
       "      <td>98</td>\n",
       "      <td>80</td>\n",
       "    </tr>\n",
       "    <tr>\n",
       "      <th>6</th>\n",
       "      <td>90</td>\n",
       "      <td>83</td>\n",
       "      <td>104</td>\n",
       "      <td>90</td>\n",
       "      <td>98</td>\n",
       "      <td>82</td>\n",
       "      <td>94</td>\n",
       "      <td>96</td>\n",
       "    </tr>\n",
       "    <tr>\n",
       "      <th>7</th>\n",
       "      <td>79</td>\n",
       "      <td>106</td>\n",
       "      <td>93</td>\n",
       "      <td>76</td>\n",
       "      <td>86</td>\n",
       "      <td>94</td>\n",
       "      <td>95</td>\n",
       "      <td>93</td>\n",
       "    </tr>\n",
       "    <tr>\n",
       "      <th>8</th>\n",
       "      <td>90</td>\n",
       "      <td>103</td>\n",
       "      <td>90</td>\n",
       "      <td>85</td>\n",
       "      <td>92</td>\n",
       "      <td>99</td>\n",
       "      <td>94</td>\n",
       "      <td>98</td>\n",
       "    </tr>\n",
       "  </tbody>\n",
       "</table>\n",
       "</div>"
      ],
      "text/plain": [
       "white_rook_file   a    b    c   d    e    f    g    h\n",
       "white_rook_rank                                      \n",
       "1                81   88   90  68   87   97  103   92\n",
       "2                93   84   86  90  106   78   89   93\n",
       "3                91   99   91  85  109  110  114  103\n",
       "4                93  100  100  83  101   84   94   89\n",
       "5                74  106   92  78   92   91   98   80\n",
       "6                90   83  104  90   98   82   94   96\n",
       "7                79  106   93  76   86   94   95   93\n",
       "8                90  103   90  85   92   99   94   98"
      ]
     },
     "execution_count": 19,
     "metadata": {},
     "output_type": "execute_result"
    }
   ],
   "source": [
    "df_white_rook_test = df_test[[\"white_rook_file\", 'white_rook_rank', 'result']]\n",
    "df_white_rook_test = df_test.pivot_table(index = \"white_rook_rank\",\\\n",
    "                                          columns ='white_rook_file',\\\n",
    "                                          values = \"result\",\\\n",
    "                                          aggfunc='count',\\\n",
    "                                          fill_value = '0')\n",
    "df_white_rook_test"
   ]
  },
  {
   "cell_type": "code",
   "execution_count": 20,
   "id": "f83502c3",
   "metadata": {
    "scrolled": false
   },
   "outputs": [
    {
     "data": {
      "image/png": "[encoded data removed]",
      "text/plain": [
       "<Figure size 576x504 with 2 Axes>"
      ]
     },
     "metadata": {},
     "output_type": "display_data"
    }
   ],
   "source": [
    "df_white_rook_test = df_white_rook_test.astype(int)\n",
    "sns.set(rc = {'figure.figsize':(8,7)})\n",
    "g = sns.heatmap(df_white_rook_test, annot=True, fmt=\"d\")\n",
    "g.invert_yaxis()"
   ]
  },
  {
   "cell_type": "markdown",
   "id": "d0777e5e",
   "metadata": {},
   "source": [
    "Wieża występuję na każdym polu z mniej więcej tą samą częstością. Wniosek wydaje się być prawdziwy."
   ]
  },
  {
   "cell_type": "markdown",
   "id": "4a96c193",
   "metadata": {},
   "source": [
    "### Pozycje czarnego króla"
   ]
  },
  {
   "cell_type": "code",
   "execution_count": 21,
   "id": "f7d12ff5",
   "metadata": {
    "scrolled": false
   },
   "outputs": [
    {
     "data": {
      "text/html": [
       "<div>\n",
       "<style scoped>\n",
       "    .dataframe tbody tr th:only-of-type {\n",
       "        vertical-align: middle;\n",
       "    }\n",
       "\n",
       "    .dataframe tbody tr th {\n",
       "        vertical-align: top;\n",
       "    }\n",
       "\n",
       "    .dataframe thead th {\n",
       "        text-align: right;\n",
       "    }\n",
       "</style>\n",
       "<table border=\"1\" class=\"dataframe\">\n",
       "  <thead>\n",
       "    <tr style=\"text-align: right;\">\n",
       "      <th>black_king_file</th>\n",
       "      <th>a</th>\n",
       "      <th>b</th>\n",
       "      <th>c</th>\n",
       "      <th>d</th>\n",
       "      <th>e</th>\n",
       "      <th>f</th>\n",
       "      <th>g</th>\n",
       "      <th>h</th>\n",
       "    </tr>\n",
       "    <tr>\n",
       "      <th>black_king_rank</th>\n",
       "      <th></th>\n",
       "      <th></th>\n",
       "      <th></th>\n",
       "      <th></th>\n",
       "      <th></th>\n",
       "      <th></th>\n",
       "      <th></th>\n",
       "      <th></th>\n",
       "    </tr>\n",
       "  </thead>\n",
       "  <tbody>\n",
       "    <tr>\n",
       "      <th>1</th>\n",
       "      <td>189</td>\n",
       "      <td>154</td>\n",
       "      <td>129</td>\n",
       "      <td>180</td>\n",
       "      <td>255</td>\n",
       "      <td>300</td>\n",
       "      <td>314</td>\n",
       "      <td>327</td>\n",
       "    </tr>\n",
       "    <tr>\n",
       "      <th>2</th>\n",
       "      <td>142</td>\n",
       "      <td>108</td>\n",
       "      <td>56</td>\n",
       "      <td>110</td>\n",
       "      <td>205</td>\n",
       "      <td>302</td>\n",
       "      <td>299</td>\n",
       "      <td>303</td>\n",
       "    </tr>\n",
       "    <tr>\n",
       "      <th>3</th>\n",
       "      <td>175</td>\n",
       "      <td>149</td>\n",
       "      <td>106</td>\n",
       "      <td>137</td>\n",
       "      <td>209</td>\n",
       "      <td>307</td>\n",
       "      <td>309</td>\n",
       "      <td>299</td>\n",
       "    </tr>\n",
       "    <tr>\n",
       "      <th>4</th>\n",
       "      <td>174</td>\n",
       "      <td>186</td>\n",
       "      <td>156</td>\n",
       "      <td>171</td>\n",
       "      <td>239</td>\n",
       "      <td>317</td>\n",
       "      <td>315</td>\n",
       "      <td>315</td>\n",
       "    </tr>\n",
       "    <tr>\n",
       "      <th>5</th>\n",
       "      <td>181</td>\n",
       "      <td>184</td>\n",
       "      <td>189</td>\n",
       "      <td>186</td>\n",
       "      <td>234</td>\n",
       "      <td>310</td>\n",
       "      <td>322</td>\n",
       "      <td>319</td>\n",
       "    </tr>\n",
       "    <tr>\n",
       "      <th>6</th>\n",
       "      <td>183</td>\n",
       "      <td>189</td>\n",
       "      <td>174</td>\n",
       "      <td>177</td>\n",
       "      <td>180</td>\n",
       "      <td>254</td>\n",
       "      <td>314</td>\n",
       "      <td>292</td>\n",
       "    </tr>\n",
       "    <tr>\n",
       "      <th>7</th>\n",
       "      <td>178</td>\n",
       "      <td>188</td>\n",
       "      <td>187</td>\n",
       "      <td>160</td>\n",
       "      <td>174</td>\n",
       "      <td>174</td>\n",
       "      <td>237</td>\n",
       "      <td>307</td>\n",
       "    </tr>\n",
       "    <tr>\n",
       "      <th>8</th>\n",
       "      <td>184</td>\n",
       "      <td>172</td>\n",
       "      <td>191</td>\n",
       "      <td>186</td>\n",
       "      <td>187</td>\n",
       "      <td>179</td>\n",
       "      <td>188</td>\n",
       "      <td>230</td>\n",
       "    </tr>\n",
       "  </tbody>\n",
       "</table>\n",
       "</div>"
      ],
      "text/plain": [
       "black_king_file    a    b    c    d    e    f    g    h\n",
       "black_king_rank                                        \n",
       "1                189  154  129  180  255  300  314  327\n",
       "2                142  108   56  110  205  302  299  303\n",
       "3                175  149  106  137  209  307  309  299\n",
       "4                174  186  156  171  239  317  315  315\n",
       "5                181  184  189  186  234  310  322  319\n",
       "6                183  189  174  177  180  254  314  292\n",
       "7                178  188  187  160  174  174  237  307\n",
       "8                184  172  191  186  187  179  188  230"
      ]
     },
     "execution_count": 21,
     "metadata": {},
     "output_type": "execute_result"
    }
   ],
   "source": [
    "df_black_king = df_train[[\"black_king_file\", 'black_king_rank', 'result']]\n",
    "df_black_king = df_train.pivot_table(index = \"black_king_rank\",\\\n",
    "                                          columns ='black_king_file',\\\n",
    "                                          values = \"result\",\\\n",
    "                                          aggfunc='count',\\\n",
    "                                          fill_value = '0')\n",
    "df_black_king"
   ]
  },
  {
   "cell_type": "code",
   "execution_count": 22,
   "id": "0ed86150",
   "metadata": {
    "scrolled": false
   },
   "outputs": [
    {
     "data": {
      "image/png": "[encoded data removed]",
      "text/plain": [
       "<Figure size 576x504 with 2 Axes>"
      ]
     },
     "metadata": {},
     "output_type": "display_data"
    }
   ],
   "source": [
    "df_black_king = df_black_king.astype(int)\n",
    "sns.set(rc = {'figure.figsize':(8,7)})\n",
    "g = sns.heatmap(df_black_king, annot=True, fmt=\"d\")\n",
    "g.invert_yaxis()"
   ]
  },
  {
   "cell_type": "markdown",
   "id": "964d1fe7",
   "metadata": {},
   "source": [
    "Wnioski:\n",
    "- czarny król występuje częściej po prawej stronie (w kolumnach e-h)\n",
    "- czarny król występuje wyjątkowo rzadko na polu c2"
   ]
  },
  {
   "cell_type": "markdown",
   "id": "dfc5629e",
   "metadata": {},
   "source": [
    "#### Sprawdzenie dla danych testowych"
   ]
  },
  {
   "cell_type": "code",
   "execution_count": 23,
   "id": "a2b591f8",
   "metadata": {
    "scrolled": false
   },
   "outputs": [
    {
     "data": {
      "text/html": [
       "<div>\n",
       "<style scoped>\n",
       "    .dataframe tbody tr th:only-of-type {\n",
       "        vertical-align: middle;\n",
       "    }\n",
       "\n",
       "    .dataframe tbody tr th {\n",
       "        vertical-align: top;\n",
       "    }\n",
       "\n",
       "    .dataframe thead th {\n",
       "        text-align: right;\n",
       "    }\n",
       "</style>\n",
       "<table border=\"1\" class=\"dataframe\">\n",
       "  <thead>\n",
       "    <tr style=\"text-align: right;\">\n",
       "      <th>black_king_file</th>\n",
       "      <th>a</th>\n",
       "      <th>b</th>\n",
       "      <th>c</th>\n",
       "      <th>d</th>\n",
       "      <th>e</th>\n",
       "      <th>f</th>\n",
       "      <th>g</th>\n",
       "      <th>h</th>\n",
       "    </tr>\n",
       "    <tr>\n",
       "      <th>black_king_rank</th>\n",
       "      <th></th>\n",
       "      <th></th>\n",
       "      <th></th>\n",
       "      <th></th>\n",
       "      <th></th>\n",
       "      <th></th>\n",
       "      <th></th>\n",
       "      <th></th>\n",
       "    </tr>\n",
       "  </thead>\n",
       "  <tbody>\n",
       "    <tr>\n",
       "      <th>1</th>\n",
       "      <td>74</td>\n",
       "      <td>65</td>\n",
       "      <td>51</td>\n",
       "      <td>77</td>\n",
       "      <td>95</td>\n",
       "      <td>120</td>\n",
       "      <td>130</td>\n",
       "      <td>125</td>\n",
       "    </tr>\n",
       "    <tr>\n",
       "      <th>2</th>\n",
       "      <td>63</td>\n",
       "      <td>49</td>\n",
       "      <td>30</td>\n",
       "      <td>53</td>\n",
       "      <td>106</td>\n",
       "      <td>138</td>\n",
       "      <td>124</td>\n",
       "      <td>124</td>\n",
       "    </tr>\n",
       "    <tr>\n",
       "      <th>3</th>\n",
       "      <td>82</td>\n",
       "      <td>66</td>\n",
       "      <td>46</td>\n",
       "      <td>57</td>\n",
       "      <td>91</td>\n",
       "      <td>130</td>\n",
       "      <td>130</td>\n",
       "      <td>138</td>\n",
       "    </tr>\n",
       "    <tr>\n",
       "      <th>4</th>\n",
       "      <td>82</td>\n",
       "      <td>81</td>\n",
       "      <td>57</td>\n",
       "      <td>91</td>\n",
       "      <td>107</td>\n",
       "      <td>126</td>\n",
       "      <td>122</td>\n",
       "      <td>124</td>\n",
       "    </tr>\n",
       "    <tr>\n",
       "      <th>5</th>\n",
       "      <td>77</td>\n",
       "      <td>80</td>\n",
       "      <td>81</td>\n",
       "      <td>79</td>\n",
       "      <td>94</td>\n",
       "      <td>136</td>\n",
       "      <td>123</td>\n",
       "      <td>133</td>\n",
       "    </tr>\n",
       "    <tr>\n",
       "      <th>6</th>\n",
       "      <td>80</td>\n",
       "      <td>86</td>\n",
       "      <td>79</td>\n",
       "      <td>81</td>\n",
       "      <td>63</td>\n",
       "      <td>104</td>\n",
       "      <td>126</td>\n",
       "      <td>151</td>\n",
       "    </tr>\n",
       "    <tr>\n",
       "      <th>7</th>\n",
       "      <td>86</td>\n",
       "      <td>86</td>\n",
       "      <td>78</td>\n",
       "      <td>75</td>\n",
       "      <td>79</td>\n",
       "      <td>80</td>\n",
       "      <td>103</td>\n",
       "      <td>139</td>\n",
       "    </tr>\n",
       "    <tr>\n",
       "      <th>8</th>\n",
       "      <td>74</td>\n",
       "      <td>76</td>\n",
       "      <td>67</td>\n",
       "      <td>68</td>\n",
       "      <td>64</td>\n",
       "      <td>83</td>\n",
       "      <td>83</td>\n",
       "      <td>124</td>\n",
       "    </tr>\n",
       "  </tbody>\n",
       "</table>\n",
       "</div>"
      ],
      "text/plain": [
       "black_king_file   a   b   c   d    e    f    g    h\n",
       "black_king_rank                                    \n",
       "1                74  65  51  77   95  120  130  125\n",
       "2                63  49  30  53  106  138  124  124\n",
       "3                82  66  46  57   91  130  130  138\n",
       "4                82  81  57  91  107  126  122  124\n",
       "5                77  80  81  79   94  136  123  133\n",
       "6                80  86  79  81   63  104  126  151\n",
       "7                86  86  78  75   79   80  103  139\n",
       "8                74  76  67  68   64   83   83  124"
      ]
     },
     "execution_count": 23,
     "metadata": {},
     "output_type": "execute_result"
    }
   ],
   "source": [
    "df_black_king_test = df_test[[\"black_king_file\", 'black_king_rank', 'result']]\n",
    "df_black_king_test = df_test.pivot_table(index = \"black_king_rank\",\\\n",
    "                                          columns ='black_king_file',\\\n",
    "                                          values = \"result\",\\\n",
    "                                          aggfunc='count',\\\n",
    "                                          fill_value = '0')\n",
    "df_black_king_test"
   ]
  },
  {
   "cell_type": "code",
   "execution_count": 24,
   "id": "f99df6ab",
   "metadata": {
    "scrolled": false
   },
   "outputs": [
    {
     "data": {
      "image/png": "[encoded data removed]",
      "text/plain": [
       "<Figure size 576x504 with 2 Axes>"
      ]
     },
     "metadata": {},
     "output_type": "display_data"
    }
   ],
   "source": [
    "df_black_king_test = df_black_king_test.astype(int)\n",
    "sns.set(rc = {'figure.figsize':(8,7)})\n",
    "g = sns.heatmap(df_black_king_test, annot=True, fmt=\"d\")\n",
    "g.invert_yaxis()"
   ]
  },
  {
   "cell_type": "markdown",
   "id": "e91da42a",
   "metadata": {},
   "source": [
    "Czarny król występuje zdecydowanie częściej po prawej stronie. Dodatkowo występuje wyjątkowo rzadko na polu c3. Wnioski wydają się być prawdziwe."
   ]
  },
  {
   "cell_type": "markdown",
   "id": "aa7aa75a",
   "metadata": {},
   "source": [
    "## Analiza zależności"
   ]
  }
 ],
 "metadata": {
  "kernelspec": {
   "display_name": "Python 3 (ipykernel)",
   "language": "python",
   "name": "python3"
  },
  "language_info": {
   "codemirror_mode": {
    "name": "ipython",
    "version": 3
   },
   "file_extension": ".py",
   "mimetype": "text/x-python",
   "name": "python",
   "nbconvert_exporter": "python",
   "pygments_lexer": "ipython3",
   "version": "3.9.10"
  }
 },
 "nbformat": 4,
 "nbformat_minor": 5
}
