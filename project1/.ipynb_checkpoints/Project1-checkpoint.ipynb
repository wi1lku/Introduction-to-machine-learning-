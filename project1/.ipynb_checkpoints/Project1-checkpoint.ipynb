{
 "cells": [
  {
   "cell_type": "markdown",
   "id": "578172e7",
   "metadata": {},
   "source": [
    "# Eksploracja i preprocessing danych zbioru \"Chess king rook\"\n",
    "Julia Kaznowska, Piotr Wilczyński <br>\n",
    "Politechnika Warszawska, Wydział Matematyki i Nauk Informacyjnych, Wstęp do uczenia maszynowego"
   ]
  },
  {
   "cell_type": "markdown",
   "id": "24d045dd",
   "metadata": {},
   "source": [
    "## Import niezbędnych bibliotek oraz zbioru danych"
   ]
  },
  {
   "cell_type": "code",
   "execution_count": 132,
   "id": "7247b217",
   "metadata": {},
   "outputs": [],
   "source": [
    "import pandas as pd\n",
    "import numpy as np\n",
    "import seaborn as sns\n",
    "from matplotlib import pyplot as plt\n",
    "from sklearn.model_selection import train_test_split\n",
    "\n",
    "# zbior danych\n",
    "df = pd.read_csv(\"chess_king_rook_dataset.csv\")\n",
    "\n",
    "# wyświetlanie wizualizacji\n",
    "%matplotlib inline"
   ]
  },
  {
   "cell_type": "markdown",
   "id": "f43e64fc",
   "metadata": {},
   "source": [
    "## Opis zbioru"
   ]
  },
  {
   "cell_type": "markdown",
   "id": "2dd71d7b",
   "metadata": {},
   "source": [
    "Zbiór \"Chess king rook\" zawiera dane dotyczące końcówek meczów szachowych, w których na szachownicy zostały trzy figury: biały król, czarny król i biała wieża."
   ]
  },
  {
   "cell_type": "markdown",
   "id": "7a7aa408",
   "metadata": {},
   "source": [
    "Opis kolumn znajudje się w pliku \"attributes_chess_king_rook.csv\""
   ]
  },
  {
   "cell_type": "code",
   "execution_count": 133,
   "id": "96ab854b",
   "metadata": {},
   "outputs": [
    {
     "data": {
      "text/html": [
       "<div>\n",
       "<style scoped>\n",
       "    .dataframe tbody tr th:only-of-type {\n",
       "        vertical-align: middle;\n",
       "    }\n",
       "\n",
       "    .dataframe tbody tr th {\n",
       "        vertical-align: top;\n",
       "    }\n",
       "\n",
       "    .dataframe thead th {\n",
       "        text-align: right;\n",
       "    }\n",
       "</style>\n",
       "<table border=\"1\" class=\"dataframe\">\n",
       "  <thead>\n",
       "    <tr style=\"text-align: right;\">\n",
       "      <th></th>\n",
       "      <th>name</th>\n",
       "      <th>type</th>\n",
       "      <th>description</th>\n",
       "    </tr>\n",
       "  </thead>\n",
       "  <tbody>\n",
       "    <tr>\n",
       "      <th>0</th>\n",
       "      <td>white_king_file</td>\n",
       "      <td>string</td>\n",
       "      <td>Column location on the chess board of the white king</td>\n",
       "    </tr>\n",
       "    <tr>\n",
       "      <th>1</th>\n",
       "      <td>white_king_rank</td>\n",
       "      <td>string</td>\n",
       "      <td>Row location on the chess board of the white king</td>\n",
       "    </tr>\n",
       "    <tr>\n",
       "      <th>2</th>\n",
       "      <td>white_rook_file</td>\n",
       "      <td>string</td>\n",
       "      <td>Column location on the chess board of the white rook</td>\n",
       "    </tr>\n",
       "    <tr>\n",
       "      <th>3</th>\n",
       "      <td>white_rook_rank</td>\n",
       "      <td>string</td>\n",
       "      <td>Row location on the chess board of the white rook</td>\n",
       "    </tr>\n",
       "    <tr>\n",
       "      <th>4</th>\n",
       "      <td>black_king_file</td>\n",
       "      <td>string</td>\n",
       "      <td>Column location on the chess board of the black king</td>\n",
       "    </tr>\n",
       "    <tr>\n",
       "      <th>5</th>\n",
       "      <td>black_king_rank</td>\n",
       "      <td>string</td>\n",
       "      <td>Row location on the chess board of the black king</td>\n",
       "    </tr>\n",
       "    <tr>\n",
       "      <th>6</th>\n",
       "      <td>result</td>\n",
       "      <td>string</td>\n",
       "      <td>Predictor Class. optimal depth-of-win for White in 0 to 16 moves, otherwise drawn Values: {draw, zero, one, two, ..., sixteen}</td>\n",
       "    </tr>\n",
       "  </tbody>\n",
       "</table>\n",
       "</div>"
      ],
      "text/plain": [
       "              name    type  \\\n",
       "0  white_king_file  string   \n",
       "1  white_king_rank  string   \n",
       "2  white_rook_file  string   \n",
       "3  white_rook_rank  string   \n",
       "4  black_king_file  string   \n",
       "5  black_king_rank  string   \n",
       "6           result  string   \n",
       "\n",
       "                                                                                                                      description  \n",
       "0                                                                            Column location on the chess board of the white king  \n",
       "1                                                                               Row location on the chess board of the white king  \n",
       "2                                                                            Column location on the chess board of the white rook  \n",
       "3                                                                               Row location on the chess board of the white rook  \n",
       "4                                                                            Column location on the chess board of the black king  \n",
       "5                                                                               Row location on the chess board of the black king  \n",
       "6  Predictor Class. optimal depth-of-win for White in 0 to 16 moves, otherwise drawn Values: {draw, zero, one, two, ..., sixteen}  "
      ]
     },
     "metadata": {},
     "output_type": "display_data"
    }
   ],
   "source": [
    "attr = pd.read_csv(\"attributes_chess_king_rook.csv\")\n",
    "with pd.option_context('display.max_colwidth', 400):\n",
    "    display(attr)"
   ]
  },
  {
   "cell_type": "markdown",
   "id": "d5a1bd8e",
   "metadata": {},
   "source": [
    "Zobaczmy kilka pierwszych rekordów w zbiorze"
   ]
  },
  {
   "cell_type": "code",
   "execution_count": 134,
   "id": "0ba01984",
   "metadata": {},
   "outputs": [
    {
     "data": {
      "text/html": [
       "<div>\n",
       "<style scoped>\n",
       "    .dataframe tbody tr th:only-of-type {\n",
       "        vertical-align: middle;\n",
       "    }\n",
       "\n",
       "    .dataframe tbody tr th {\n",
       "        vertical-align: top;\n",
       "    }\n",
       "\n",
       "    .dataframe thead th {\n",
       "        text-align: right;\n",
       "    }\n",
       "</style>\n",
       "<table border=\"1\" class=\"dataframe\">\n",
       "  <thead>\n",
       "    <tr style=\"text-align: right;\">\n",
       "      <th></th>\n",
       "      <th>white_king_file</th>\n",
       "      <th>white_king_rank</th>\n",
       "      <th>white_rook_file</th>\n",
       "      <th>white_rook_rank</th>\n",
       "      <th>black_king_file</th>\n",
       "      <th>black_king_rank</th>\n",
       "      <th>result</th>\n",
       "    </tr>\n",
       "  </thead>\n",
       "  <tbody>\n",
       "    <tr>\n",
       "      <th>0</th>\n",
       "      <td>a</td>\n",
       "      <td>1</td>\n",
       "      <td>b</td>\n",
       "      <td>3</td>\n",
       "      <td>c</td>\n",
       "      <td>2</td>\n",
       "      <td>draw</td>\n",
       "    </tr>\n",
       "    <tr>\n",
       "      <th>1</th>\n",
       "      <td>a</td>\n",
       "      <td>1</td>\n",
       "      <td>c</td>\n",
       "      <td>1</td>\n",
       "      <td>c</td>\n",
       "      <td>2</td>\n",
       "      <td>draw</td>\n",
       "    </tr>\n",
       "    <tr>\n",
       "      <th>2</th>\n",
       "      <td>a</td>\n",
       "      <td>1</td>\n",
       "      <td>c</td>\n",
       "      <td>1</td>\n",
       "      <td>d</td>\n",
       "      <td>1</td>\n",
       "      <td>draw</td>\n",
       "    </tr>\n",
       "    <tr>\n",
       "      <th>3</th>\n",
       "      <td>a</td>\n",
       "      <td>1</td>\n",
       "      <td>c</td>\n",
       "      <td>1</td>\n",
       "      <td>d</td>\n",
       "      <td>2</td>\n",
       "      <td>draw</td>\n",
       "    </tr>\n",
       "    <tr>\n",
       "      <th>4</th>\n",
       "      <td>a</td>\n",
       "      <td>1</td>\n",
       "      <td>c</td>\n",
       "      <td>2</td>\n",
       "      <td>c</td>\n",
       "      <td>1</td>\n",
       "      <td>draw</td>\n",
       "    </tr>\n",
       "  </tbody>\n",
       "</table>\n",
       "</div>"
      ],
      "text/plain": [
       "  white_king_file  white_king_rank white_rook_file  white_rook_rank  \\\n",
       "0               a                1               b                3   \n",
       "1               a                1               c                1   \n",
       "2               a                1               c                1   \n",
       "3               a                1               c                1   \n",
       "4               a                1               c                2   \n",
       "\n",
       "  black_king_file  black_king_rank result  \n",
       "0               c                2   draw  \n",
       "1               c                2   draw  \n",
       "2               d                1   draw  \n",
       "3               d                2   draw  \n",
       "4               c                1   draw  "
      ]
     },
     "execution_count": 134,
     "metadata": {},
     "output_type": "execute_result"
    }
   ],
   "source": [
    "df.head()"
   ]
  },
  {
   "cell_type": "markdown",
   "id": "f648d75e",
   "metadata": {},
   "source": [
    "Według informacji znajdujących się na stronie, na których znajdował się dane, zbiór nie powinien mieć braków. Sprawdźmy to."
   ]
  },
  {
   "cell_type": "code",
   "execution_count": 135,
   "id": "bd891708",
   "metadata": {},
   "outputs": [
    {
     "name": "stdout",
     "output_type": "stream",
     "text": [
      "<class 'pandas.core.frame.DataFrame'>\n",
      "RangeIndex: 28056 entries, 0 to 28055\n",
      "Data columns (total 7 columns):\n",
      " #   Column           Non-Null Count  Dtype \n",
      "---  ------           --------------  ----- \n",
      " 0   white_king_file  28056 non-null  object\n",
      " 1   white_king_rank  28056 non-null  int64 \n",
      " 2   white_rook_file  28056 non-null  object\n",
      " 3   white_rook_rank  28056 non-null  int64 \n",
      " 4   black_king_file  28056 non-null  object\n",
      " 5   black_king_rank  28056 non-null  int64 \n",
      " 6   result           28056 non-null  object\n",
      "dtypes: int64(3), object(4)\n",
      "memory usage: 1.5+ MB\n"
     ]
    }
   ],
   "source": [
    "df.info()"
   ]
  },
  {
   "cell_type": "markdown",
   "id": "4878285c",
   "metadata": {},
   "source": [
    "Zbiór nie ma braków danych"
   ]
  },
  {
   "cell_type": "markdown",
   "id": "1cfc25af",
   "metadata": {},
   "source": [
    "Warto zauważyć, że mimo tego iż kolumy <i>white_king_rank</i>, <i>white_rook_rank</i> oraz <i>black_king_rank</i> są reprezentowane przez liczby to przyjmują one jedynie liczby całkowite od 1 do 8. Możemy traktować je jako zmienne kategoryczne. "
   ]
  },
  {
   "cell_type": "markdown",
   "id": "5ab64838",
   "metadata": {},
   "source": [
    "## Podział zbioru na zbióry do budowania, testowania i walidacji"
   ]
  },
  {
   "cell_type": "code",
   "execution_count": 136,
   "id": "b481ebfe",
   "metadata": {},
   "outputs": [],
   "source": [
    "y = np.array(df[\"result\"])\n",
    "X = df.drop([\"result\"], axis = 1)\n",
    "X_train, X_val, y_train, y_val = train_test_split(\n",
    "    X, y, stratify=y, test_size=0.3, random_state=123\n",
    ")\n",
    "X_train, X_test, y_train, y_test = train_test_split(\n",
    "    X_train, y_train, stratify=y_train, test_size=0.3, random_state=123\n",
    ")"
   ]
  },
  {
   "cell_type": "code",
   "execution_count": 137,
   "id": "e8ff2ff9",
   "metadata": {},
   "outputs": [
    {
     "data": {
      "text/html": [
       "<div>\n",
       "<style scoped>\n",
       "    .dataframe tbody tr th:only-of-type {\n",
       "        vertical-align: middle;\n",
       "    }\n",
       "\n",
       "    .dataframe tbody tr th {\n",
       "        vertical-align: top;\n",
       "    }\n",
       "\n",
       "    .dataframe thead th {\n",
       "        text-align: right;\n",
       "    }\n",
       "</style>\n",
       "<table border=\"1\" class=\"dataframe\">\n",
       "  <thead>\n",
       "    <tr style=\"text-align: right;\">\n",
       "      <th></th>\n",
       "      <th>white_king_file</th>\n",
       "      <th>white_king_rank</th>\n",
       "      <th>white_rook_file</th>\n",
       "      <th>white_rook_rank</th>\n",
       "      <th>black_king_file</th>\n",
       "      <th>black_king_rank</th>\n",
       "    </tr>\n",
       "  </thead>\n",
       "  <tbody>\n",
       "    <tr>\n",
       "      <th>18628</th>\n",
       "      <td>c</td>\n",
       "      <td>2</td>\n",
       "      <td>b</td>\n",
       "      <td>6</td>\n",
       "      <td>h</td>\n",
       "      <td>4</td>\n",
       "    </tr>\n",
       "    <tr>\n",
       "      <th>40</th>\n",
       "      <td>a</td>\n",
       "      <td>1</td>\n",
       "      <td>e</td>\n",
       "      <td>1</td>\n",
       "      <td>d</td>\n",
       "      <td>1</td>\n",
       "    </tr>\n",
       "    <tr>\n",
       "      <th>16021</th>\n",
       "      <td>d</td>\n",
       "      <td>3</td>\n",
       "      <td>a</td>\n",
       "      <td>2</td>\n",
       "      <td>g</td>\n",
       "      <td>4</td>\n",
       "    </tr>\n",
       "    <tr>\n",
       "      <th>15738</th>\n",
       "      <td>d</td>\n",
       "      <td>2</td>\n",
       "      <td>e</td>\n",
       "      <td>2</td>\n",
       "      <td>d</td>\n",
       "      <td>6</td>\n",
       "    </tr>\n",
       "    <tr>\n",
       "      <th>19637</th>\n",
       "      <td>d</td>\n",
       "      <td>1</td>\n",
       "      <td>d</td>\n",
       "      <td>5</td>\n",
       "      <td>g</td>\n",
       "      <td>3</td>\n",
       "    </tr>\n",
       "  </tbody>\n",
       "</table>\n",
       "</div>"
      ],
      "text/plain": [
       "      white_king_file  white_king_rank white_rook_file  white_rook_rank  \\\n",
       "18628               c                2               b                6   \n",
       "40                  a                1               e                1   \n",
       "16021               d                3               a                2   \n",
       "15738               d                2               e                2   \n",
       "19637               d                1               d                5   \n",
       "\n",
       "      black_king_file  black_king_rank  \n",
       "18628               h                4  \n",
       "40                  d                1  \n",
       "16021               g                4  \n",
       "15738               d                6  \n",
       "19637               g                3  "
      ]
     },
     "execution_count": 137,
     "metadata": {},
     "output_type": "execute_result"
    }
   ],
   "source": [
    "X_train.head()"
   ]
  },
  {
   "cell_type": "code",
   "execution_count": 138,
   "id": "7a316c57",
   "metadata": {},
   "outputs": [
    {
     "data": {
      "text/plain": [
       "array(['thirteen', 'draw', 'twelve', ..., 'fourteen', 'draw', 'ten'],\n",
       "      dtype=object)"
      ]
     },
     "execution_count": 138,
     "metadata": {},
     "output_type": "execute_result"
    }
   ],
   "source": [
    "y_train"
   ]
  },
  {
   "cell_type": "code",
   "execution_count": 139,
   "id": "39ebf6a5",
   "metadata": {},
   "outputs": [
    {
     "name": "stdout",
     "output_type": "stream",
     "text": [
      "(13747, 6)\n",
      "(13747,)\n",
      "(5892, 6)\n",
      "(5892,)\n",
      "(8417, 6)\n",
      "(8417,)\n"
     ]
    }
   ],
   "source": [
    "print(X_train.shape)\n",
    "print(y_train.shape)\n",
    "print(X_test.shape)\n",
    "print(y_test.shape)\n",
    "print(X_val.shape)\n",
    "print(y_val.shape)"
   ]
  },
  {
   "cell_type": "code",
   "execution_count": 140,
   "id": "f4120583",
   "metadata": {},
   "outputs": [
    {
     "name": "stdout",
     "output_type": "stream",
     "text": [
      "['thirteen' 'draw' 'twelve' ... 'fourteen' 'draw' 'ten']\n",
      "['thirteen', 'draw', 'twelve', 'twelve', 'thirteen', ..., 'fourteen', 'fourteen', 'fourteen', 'draw', 'ten']\n",
      "Length: 13747\n",
      "Categories (18, object): ['draw', 'zero', 'one', 'two', ..., 'thirteen', 'fourteen', 'fifteen', 'sixteen']\n"
     ]
    },
    {
     "data": {
      "image/png": "[encoded data removed]",
      "text/plain": [
       "<Figure size 1080x360 with 3 Axes>"
      ]
     },
     "metadata": {
      "needs_background": "light"
     },
     "output_type": "display_data"
    }
   ],
   "source": [
    "# set order\n",
    "y_train = pd.Categorical(y_train, [\"draw\", \"zero\", \"one\", \"two\", \"three\", \"four\", \"five\", \"six\", \"seven\", \"eight\", \"nine\", \"ten\", \"eleven\", \"twelve\", \"thirteen\", \"fourteen\", \"fifteen\", \"sixteen\"])\n",
    "y_test = pd.Categorical(y_test, [\"draw\", \"zero\", \"one\", \"two\", \"three\", \"four\", \"five\", \"six\", \"seven\", \"eight\", \"nine\", \"ten\", \"eleven\", \"twelve\", \"thirteen\", \"fourteen\", \"fifteen\", \"sixteen\"])\n",
    "y_val = pd.Categorical(y_val, [\"draw\", \"zero\", \"one\", \"two\", \"three\", \"four\", \"five\", \"six\", \"seven\", \"eight\", \"nine\", \"ten\", \"eleven\", \"twelve\", \"thirteen\", \"fourteen\", \"fifteen\", \"sixteen\"])\n",
    "\n",
    "# plot\n",
    "fig, axes = plt.subplots(1, 3, figsize = (15, 5))\n",
    "sns.histplot(y_train, ax = axes[0])\n",
    "sns.histplot(y_test, ax = axes[1])\n",
    "sns.histplot(y_val, ax = axes[2])\n",
    "plt.sca(axes[0])\n",
    "plt.xticks(rotation = -70)\n",
    "plt.title(\"Training data\")\n",
    "plt.sca(axes[1])\n",
    "plt.xticks(rotation = -70)\n",
    "plt.title(\"Testing data\")\n",
    "plt.sca(axes[2])\n",
    "plt.xticks(rotation = -70)\n",
    "plt.title(\"Validation data\")\n",
    "plt.show()"
   ]
  },
  {
   "cell_type": "markdown",
   "id": "590d309f",
   "metadata": {},
   "source": [
    "Zbiór wydaje się być dobrze podzielony"
   ]
  },
  {
   "cell_type": "markdown",
   "id": "811cb9be",
   "metadata": {},
   "source": [
    "W dalszej części będziemy pracować na danych treningowych i sprawdzać wyniki na danych testowych"
   ]
  },
  {
   "cell_type": "markdown",
   "id": "b9dd1b3d",
   "metadata": {},
   "source": [
    "### Wstępna eksploracja"
   ]
  },
  {
   "cell_type": "markdown",
   "id": "e1663eda",
   "metadata": {},
   "source": [
    "Z racji na to, że w tej części nie będziemy jeszcze trenować modelu wygodniej będzie nam ponownie połączyć X_train i y_train w jedną ramkę (To samo dla X_test i y_test)."
   ]
  },
  {
   "cell_type": "code",
   "execution_count": 141,
   "id": "40965edf",
   "metadata": {},
   "outputs": [],
   "source": [
    "df_train = X_train\n",
    "df_train['result'] = y_train\n",
    "df_test = X_test\n",
    "df_test['result'] = y_test"
   ]
  },
  {
   "cell_type": "markdown",
   "id": "02c974f6",
   "metadata": {},
   "source": [
    "# NOTE: uznaj jednowymiarową analizę za zrobioną. Mam na nią fajny pomysł ale spako wzywa."
   ]
  }
 ],
 "metadata": {
  "kernelspec": {
   "display_name": "Python 3 (ipykernel)",
   "language": "python",
   "name": "python3"
  },
  "language_info": {
   "codemirror_mode": {
    "name": "ipython",
    "version": 3
   },
   "file_extension": ".py",
   "mimetype": "text/x-python",
   "name": "python",
   "nbconvert_exporter": "python",
   "pygments_lexer": "ipython3",
   "version": "3.9.10"
  }
 },
 "nbformat": 4,
 "nbformat_minor": 5
}
