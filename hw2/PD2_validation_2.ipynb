{
 "cells": [
  {
   "cell_type": "code",
   "execution_count": 1,
   "id": "6824fb78",
   "metadata": {},
   "outputs": [],
   "source": [
    "import pandas as pd\n",
    "import numpy as np\n",
    "import sklearn \n",
    "import seaborn as sns\n",
    "import matplotlib.pyplot as plt\n",
    "import warnings\n",
    "warnings.filterwarnings('ignore')\n",
    "# np.random.seed(23)"
   ]
  },
  {
   "cell_type": "code",
   "execution_count": 2,
   "id": "5972319b",
   "metadata": {},
   "outputs": [],
   "source": [
    "allegro_df = pd.read_csv(\"allegro-api-transactions.csv\")"
   ]
  },
  {
   "cell_type": "code",
   "execution_count": 3,
   "id": "e23fddbe",
   "metadata": {},
   "outputs": [],
   "source": [
    "allegro_df_build = allegro_df.sample(frac=0.7, random_state=500)\n",
    "allegro_df_test = allegro_df.drop(allegro_df_build.index)"
   ]
  },
  {
   "cell_type": "markdown",
   "id": "6533cb0a",
   "metadata": {},
   "source": [
    "## Przekształcanie zmiennych ciągłych na kategoryczne"
   ]
  },
  {
   "cell_type": "markdown",
   "id": "b5668e5f",
   "metadata": {},
   "source": [
    "### Zakodowanie zmiennej celu"
   ]
  },
  {
   "cell_type": "code",
   "execution_count": 4,
   "id": "f2618124",
   "metadata": {
    "scrolled": false
   },
   "outputs": [
    {
     "data": {
      "image/png": "[encoded data removed]",
      "text/plain": [
       "<Figure size 1080x360 with 1 Axes>"
      ]
     },
     "metadata": {
      "needs_background": "light"
     },
     "output_type": "display_data"
    }
   ],
   "source": [
    "allegro_df[\"price\"].hist(bins = 100, figsize = (15, 5))\n",
    "plt.yscale('log')\n",
    "plt.show()"
   ]
  },
  {
   "cell_type": "markdown",
   "id": "855e10a1",
   "metadata": {},
   "source": [
    "Patrząc na rozkład zmiennej price logicznym wydaję się podział zmiennej na kategorie:\n",
    " - \"tanio\" - jeśli price <= 1500\n",
    " - \"przeciętna cena\" - jeśli 1500 < price <= 3000\n",
    " - \"drogo\" w przeciwnym wypadku"
   ]
  },
  {
   "cell_type": "markdown",
   "id": "4b1a0703",
   "metadata": {},
   "source": [
    " Taki podział wydaje się być bardziej pasujący niż podział na kwantyle. Budujący zdecydowali się jednak na kwantyle."
   ]
  },
  {
   "cell_type": "code",
   "execution_count": null,
   "id": "06af7466",
   "metadata": {},
   "outputs": [],
   "source": [
    "allegro_df_test_fixed['priceEncoded']=pd.qcut(allegro_df_test_fixed['price'], q=3,labels=False)"
   ]
  },
  {
   "cell_type": "markdown",
   "id": "676b80da",
   "metadata": {},
   "source": [
    "### Zakodowanie it_seller_rating i it_quantity"
   ]
  },
  {
   "cell_type": "code",
   "execution_count": 19,
   "id": "cd926ab8",
   "metadata": {},
   "outputs": [
    {
     "data": {
      "image/png": "[encoded data removed]",
      "text/plain": [
       "<Figure size 1080x360 with 1 Axes>"
      ]
     },
     "metadata": {
      "needs_background": "light"
     },
     "output_type": "display_data"
    }
   ],
   "source": [
    "allegro_df[\"it_seller_rating\"].hist(bins = 50, figsize = (15, 5))\n",
    "plt.yscale('log')\n",
    "plt.show()"
   ]
  },
  {
   "cell_type": "code",
   "execution_count": 20,
   "id": "297c4030",
   "metadata": {},
   "outputs": [
    {
     "data": {
      "image/png": "[encoded data removed]",
      "text/plain": [
       "<Figure size 1080x360 with 1 Axes>"
      ]
     },
     "metadata": {
      "needs_background": "light"
     },
     "output_type": "display_data"
    }
   ],
   "source": [
    "allegro_df[\"it_quantity\"].hist(bins = 30, figsize = (15, 5))\n",
    "plt.yscale('log')\n",
    "plt.show()"
   ]
  },
  {
   "cell_type": "markdown",
   "id": "9a2fd9d8",
   "metadata": {},
   "source": [
    "Budowniczowie ponownie zdecydowali się na podział wartości na kwantyle."
   ]
  },
  {
   "cell_type": "code",
   "execution_count": null,
   "id": "20eb4f28",
   "metadata": {},
   "outputs": [],
   "source": [
    "allegro_df_test_fixed['it_quantityEncoded'] = pd.qcut(allegro_df_test_fixed['it_quantity'], q=5,labels=False)\n",
    "allegro_df_test_fixed['it_seller_ratingEncoded'] = pd.qcut(allegro_df_test_fixed['it_seller_rating'], q=5,labels=False)"
   ]
  },
  {
   "cell_type": "markdown",
   "id": "bd1a47e6",
   "metadata": {},
   "source": [
    "## Zakodowanie zmiennych kategorycznych"
   ]
  },
  {
   "cell_type": "markdown",
   "id": "0559e380",
   "metadata": {},
   "source": [
    "### main_category i categories"
   ]
  },
  {
   "cell_type": "markdown",
   "id": "80f33d14",
   "metadata": {},
   "source": [
    "Ze zmiennej categories wyciągnięto drugą kategorię. Główna i druga kategoria zostały najpierw przetransformowane w mediany z ceny w danej kategorii a następnie zakodowane na podstawie kwantyli. Rozwiązanie wydaje się ciekawe, jednak należy przy tym zapamiętywać mediany, używanych do danych kategorii, czego budowniczy nie zrobili. Mamy teraz więcej pracy, aby je wyciągnąć, żeby móc odpowiednio przekształcić dane do walidacji. Byłoby to uciążliwe przy już wytrenowanym modelu."
   ]
  },
  {
   "cell_type": "code",
   "execution_count": null,
   "id": "1c468916",
   "metadata": {},
   "outputs": [],
   "source": [
    "median_encode = allegro_df.groupby('main_category')['price'].median()\n",
    "median_encode2 = allegro_df.groupby('second_categoryy')['price'].median()\n",
    "allegro_df_test_fixed.loc[:,'main_categoryMedian'] = allegro_df_test_fixed['main_category'].map(median_encode)\n",
    "allegro_df_test_fixed['main_categoryEncoded']=pd.qcut(allegro_df_test_fixed['main_categoryMedian'], q=5,labels=False)\n",
    "allegro_df_test_fixed.loc[:,'second_categoryMedian'] = allegro_df_test_fixed['second_categoryy'].map(median_encode2)\n",
    "allegro_df_test_fixed['second_categoryEncoded']=pd.qcut(allegro_df_test_fixed['second_categoryMedian'], q=5,labels=False)"
   ]
  },
  {
   "cell_type": "markdown",
   "id": "467d1f3a",
   "metadata": {},
   "source": [
    "### seller"
   ]
  },
  {
   "cell_type": "markdown",
   "id": "9b4aaef1",
   "metadata": {},
   "source": [
    "Budowniczowie postanowili pozbyć, się tej kolumny. W daleszej części walidcaji sprawdzimy, że był to błąd"
   ]
  },
  {
   "cell_type": "markdown",
   "id": "f4d70b55",
   "metadata": {},
   "source": [
    "### It_location"
   ]
  },
  {
   "cell_type": "markdown",
   "id": "fd5f693e",
   "metadata": {},
   "source": [
    "Tutaj budowniczowie postanowili zgrupować lokalizacje po miastach. Połączyli większe miasta w Polsce w grupy i wrzucili  mniej popularne lokalizacje do grupy 'Others'"
   ]
  },
  {
   "cell_type": "code",
   "execution_count": null,
   "id": "8a866a85",
   "metadata": {},
   "outputs": [],
   "source": [
    "allegro_df_test_fixed.loc[allegro_df_test_fixed[\"it_location\"] == \"WARSZAWA\", \"it_location\"] = \"Warszawa\"\n",
    "allegro_df_test_fixed.loc[allegro_df_test_fixed[\"it_location\"] == \"warszawa\", \"it_location\"] = \"Warszawa\"\n",
    "allegro_df_test_fixed.loc[allegro_df_test_fixed[\"it_location\"] == \"Warszawa/ Sprzedaż tylko wysyłkowa\", \"it_location\"] = \"Warszawa\"\n",
    "\n",
    "allegro_df_test_fixed.loc[allegro_df_test_fixed[\"it_location\"] == \"KRAKÓW\", \"it_location\"] = \"Kraków\"\n",
    "allegro_df_test_fixed.loc[allegro_df_test_fixed[\"it_location\"] == \"kraków\", \"it_location\"] = \"Kraków\"\n",
    "allegro_df_test_fixed.loc[allegro_df_test_fixed[\"it_location\"] == \"Kraków al. Słowackiego 40/1\", \"it_location\"] = \"Kraków\"\n",
    "allegro_df_test_fixed.loc[allegro_df_test_fixed[\"it_location\"] == \"Krakow\", \"it_location\"] = \"Kraków\"\n",
    "allegro_df_test_fixed.loc[allegro_df_test_fixed[\"it_location\"] == \"krakow\", \"it_location\"] = \"Kraków\"\n",
    "allegro_df_test_fixed.loc[allegro_df_test_fixed[\"it_location\"] == \"KRAKOW\", \"it_location\"] = \"Kraków\"\n",
    "\n",
    "allegro_df_test_fixed.loc[allegro_df_test_fixed[\"it_location\"] == \"ŁÓDŹ\", \"it_location\"] = \"Łódź\"\n",
    "allegro_df_test_fixed.loc[allegro_df_test_fixed[\"it_location\"] == \"łódź\", \"it_location\"] = \"Łódź\"\n",
    "allegro_df_test_fixed.loc[allegro_df_test_fixed[\"it_location\"] == \"lodz\", \"it_location\"] = \"Łódź\"\n",
    "allegro_df_test_fixed.loc[allegro_df_test_fixed[\"it_location\"] == \"Lodz\", \"it_location\"] = \"Łódź\"\n",
    "allegro_df_test_fixed.loc[allegro_df_test_fixed[\"it_location\"] == \"LODZ\", \"it_location\"] = \"Łódź\"\n",
    "\n",
    "allegro_df_test_fixed.loc[allegro_df_test_fixed[\"it_location\"] == \"POZNAŃ\", \"it_location\"] = \"Poznań\"\n",
    "allegro_df_test_fixed.loc[allegro_df_test_fixed[\"it_location\"] == \"poznan\", \"it_location\"] = \"Poznań\"\n",
    "allegro_df_test_fixed.loc[allegro_df_test_fixed[\"it_location\"] == \"Poznan\", \"it_location\"] = \"Poznań\"\n",
    "allegro_df_test_fixed.loc[allegro_df_test_fixed[\"it_location\"] == \"poznań\", \"it_location\"] = \"Poznań\"\n",
    "allegro_df_test_fixed.loc[allegro_df_test_fixed[\"it_location\"] == \"Poznań, ul. Obornicka 337\", \"it_location\"] = \"Poznań\"\n",
    "\n",
    "allegro_df_test_fixed.loc[allegro_df_test_fixed[\"it_location\"] == \"WROCŁAW\", \"it_location\"] = \"Wrocław\"\n",
    "allegro_df_test_fixed.loc[allegro_df_test_fixed[\"it_location\"] == \"wrocław\", \"it_location\"] = \"Wrocław\"\n",
    "allegro_df_test_fixed.loc[allegro_df_test_fixed[\"it_location\"] == \"wroclaw\", \"it_location\"] = \"Wrocław\"\n",
    "allegro_df_test_fixed.loc[allegro_df_test_fixed[\"it_location\"] == \"Wroclaw\", \"it_location\"] = \"Wrocław\"\n",
    "allegro_df_test_fixed.loc[allegro_df_test_fixed[\"it_location\"] == \"WROCLAW\", \"it_location\"] = \"Wrocław\"\n",
    "\n",
    "allegro_df_test_fixed.loc[~allegro_df_test_fixed.it_location.isin([\"Warszawa\", \"Wrocław\", \"Łódź\", \"Kraków\", \"Poznań\"]), \"it_location\"] = \"Other\""
   ]
  },
  {
   "cell_type": "code",
   "execution_count": null,
   "id": "d9bfc406",
   "metadata": {},
   "outputs": [],
   "source": [
    "allegro_df_test_fixed[\"it_location\"].value_counts()"
   ]
  },
  {
   "cell_type": "markdown",
   "id": "564f2b5a",
   "metadata": {},
   "source": [
    "# KOMENTARZ!"
   ]
  },
  {
   "cell_type": "markdown",
   "id": "78af26d5",
   "metadata": {},
   "source": [
    "Następnie zostało przeprowadzone kodowanie label_encoderem"
   ]
  },
  {
   "cell_type": "code",
   "execution_count": null,
   "id": "3fb25212",
   "metadata": {},
   "outputs": [],
   "source": [
    "! pip install category_encoders \n",
    "import category_encoders as ce\n",
    "from sklearn.preprocessing import LabelEncoder\n",
    "\n",
    "allegro_df_build_fixed['it_location'] = LabelEncoder().fit_transform(allegro_df_build_fixed.it_location)\n",
    "allegro_df_build_fixed"
   ]
  },
  {
   "cell_type": "markdown",
   "id": "0ed1529a",
   "metadata": {},
   "source": [
    "## Model na otrzymanych danych"
   ]
  },
  {
   "cell_type": "markdown",
   "id": "453af5d7",
   "metadata": {},
   "source": [
    "Import bibliotek"
   ]
  },
  {
   "cell_type": "code",
   "execution_count": 43,
   "id": "d9bdfebe",
   "metadata": {},
   "outputs": [],
   "source": [
    "from sklearn.tree import DecisionTreeClassifier\n",
    "from sklearn.svm import SVC\n",
    "from sklearn.model_selection import cross_val_score\n",
    "from sklearn.dummy import DummyClassifier\n",
    "from sklearn.preprocessing import OrdinalEncoder "
   ]
  },
  {
   "cell_type": "markdown",
   "id": "2d31a42b",
   "metadata": {},
   "source": [
    "Funkcja wypisująca wyniki"
   ]
  },
  {
   "cell_type": "code",
   "execution_count": 26,
   "id": "06c8faed",
   "metadata": {},
   "outputs": [],
   "source": [
    "def display_scores(scores):\n",
    "    print(\"Wyniki:\", scores)\n",
    "    print(\"Średnia:\", scores.mean())\n",
    "    print(\"Odchylenie standardowe:\", scores.std())"
   ]
  },
  {
   "cell_type": "markdown",
   "id": "6d37c726",
   "metadata": {},
   "source": [
    "Podział ramki"
   ]
  },
  {
   "cell_type": "code",
   "execution_count": 41,
   "id": "6c0de3d6",
   "metadata": {},
   "outputs": [],
   "source": [
    "df_build_all = pd.read_csv(\"pd2.csv\", index_col = 0) # wyeksportowana ramka po preprocessingu budowniczych\n",
    "df_build = df_build_all.loc[:,['pay_option_on_delivery','pay_option_transfer','it_is_allegro_standard','it_is_brand_zone','main_categoryEncoded','second_categoryEncoded', 'it_quantityEncoded',\n",
    "       'it_seller_ratingEncoded','it_location', 'priceEncoded']]\n",
    "X_build = df_build.drop(\"priceEncoded\", axis = 1)\n",
    "y_build = df_build.priceEncoded"
   ]
  },
  {
   "cell_type": "markdown",
   "id": "a6104892",
   "metadata": {},
   "source": [
    "### Dummy"
   ]
  },
  {
   "cell_type": "code",
   "execution_count": 28,
   "id": "f21d4a68",
   "metadata": {},
   "outputs": [],
   "source": [
    "dc = DummyClassifier(strategy='uniform', random_state=32)\n",
    "dc.fit(X_build, y_build)\n",
    "dummy_scores_build = cross_val_score(dc, X_build, y_build, scoring='accuracy', cv = 10)\n",
    "#dummy_scores_test = cross_val_score(dc, X_test, y_test, scoring='accuracy', cv = 10)"
   ]
  },
  {
   "cell_type": "code",
   "execution_count": 29,
   "id": "e48ef734",
   "metadata": {},
   "outputs": [
    {
     "name": "stdout",
     "output_type": "stream",
     "text": [
      "Wyniki: [0.33358098 0.33275549 0.33267294 0.33201255 0.3296599  0.3303752\n",
      " 0.33285178 0.33186115 0.33305816 0.3361126 ]\n",
      "Średnia: 0.3324940740419544\n",
      "Odchylenie standardowe: 0.0016726094721823065\n"
     ]
    }
   ],
   "source": [
    "display_scores(dummy_scores_build)"
   ]
  },
  {
   "cell_type": "code",
   "execution_count": 31,
   "id": "f4fcc69f",
   "metadata": {},
   "outputs": [],
   "source": [
    "#display_scores(dummy_scores_test)"
   ]
  },
  {
   "cell_type": "markdown",
   "id": "b27abbfa",
   "metadata": {},
   "source": [
    "### Drzewa decyzyjne"
   ]
  },
  {
   "cell_type": "code",
   "execution_count": 32,
   "id": "97f946b9",
   "metadata": {},
   "outputs": [],
   "source": [
    "tree_clas = DecisionTreeClassifier()\n",
    "tree_clas.fit(X_build, y_build)\n",
    "tree_scores_build = cross_val_score(tree_clas, X_build, y_build, scoring='accuracy', cv = 10)\n",
    "#tree_scores_test = cross_val_score(tree_clas, X_test, y_test, scoring='accuracy', cv = 10)"
   ]
  },
  {
   "cell_type": "code",
   "execution_count": 33,
   "id": "20bd3d7e",
   "metadata": {},
   "outputs": [
    {
     "name": "stdout",
     "output_type": "stream",
     "text": [
      "Wyniki: [0.54750702 0.54998349 0.54907545 0.55506026 0.54742447 0.55079044\n",
      " 0.54847897 0.54649771 0.55070789 0.54868535]\n",
      "Średnia: 0.5494211043435623\n",
      "Odchylenie standardowe: 0.0023106755309405752\n"
     ]
    }
   ],
   "source": [
    "display_scores(tree_scores_build)"
   ]
  },
  {
   "cell_type": "code",
   "execution_count": null,
   "id": "c4df25c0",
   "metadata": {},
   "outputs": [],
   "source": [
    "#display_scores(tree_scores_test)"
   ]
  },
  {
   "cell_type": "markdown",
   "id": "b390eeb3",
   "metadata": {},
   "source": [
    "### SVC"
   ]
  },
  {
   "cell_type": "code",
   "execution_count": null,
   "id": "b511d10a",
   "metadata": {},
   "outputs": [],
   "source": [
    "# długo się liczy\n",
    "#svc_clas = SVC()\n",
    "#svc_clas.fit(X_build, y_build)\n",
    "#svc_scores_build = cross_val_score(svc_clas, X_build, y_build, scoring='accuracy', cv = 10)\n",
    "#svc_scores_test = cross_val_score(svc_clas, X_test, y_test, scoring='accuracy', cv = 10)"
   ]
  },
  {
   "cell_type": "code",
   "execution_count": null,
   "id": "d93904ab",
   "metadata": {},
   "outputs": [],
   "source": [
    "#display_scores(svc_scores_build)"
   ]
  },
  {
   "cell_type": "code",
   "execution_count": null,
   "id": "976aaf33",
   "metadata": {},
   "outputs": [],
   "source": [
    "#display_scores(svc_scores_test)"
   ]
  },
  {
   "cell_type": "markdown",
   "id": "f9a52d44",
   "metadata": {},
   "source": [
    "### Ustalanie wartości predykcyjnej kolumn"
   ]
  },
  {
   "cell_type": "markdown",
   "id": "b87cdee5",
   "metadata": {},
   "source": [
    "Sprawdzimy predykcyjność tych kolumn, które zostały \"niestandardowo\" zakodowane."
   ]
  },
  {
   "cell_type": "markdown",
   "id": "428edd85",
   "metadata": {},
   "source": [
    "#### it_location"
   ]
  },
  {
   "cell_type": "code",
   "execution_count": 35,
   "id": "2da905cf",
   "metadata": {},
   "outputs": [],
   "source": [
    "X_build_temp = X_build.drop([\"it_location\"], axis = 1)\n",
    "#X_test_temp = X_test.drop([\"it_location\"], axis = 1)\n",
    "\n",
    "tree_clas = DecisionTreeClassifier()\n",
    "tree_clas.fit(X_build_temp, y_build)\n",
    "tree_scores_build_temp = cross_val_score(tree_clas, X_build_temp, y_build, scoring='accuracy', cv = 10)\n",
    "#tree_scores_test_temp = cross_val_score(tree_clas, X_test_temp, y_test, scoring='accuracy', cv = 10)"
   ]
  },
  {
   "cell_type": "code",
   "execution_count": 36,
   "id": "6bce848e",
   "metadata": {},
   "outputs": [
    {
     "name": "stdout",
     "output_type": "stream",
     "text": [
      "Wyniki: [0.47044742 0.47238732 0.47395575 0.47779429 0.47606076 0.4741817\n",
      " 0.47773146 0.47649317 0.47455318 0.47863953]\n",
      "Średnia: 0.47522445764835064\n",
      "Odchylenie standardowe: 0.0024673443121159106\n"
     ]
    }
   ],
   "source": [
    "display_scores(tree_scores_build_temp)"
   ]
  },
  {
   "cell_type": "code",
   "execution_count": null,
   "id": "ba8097bf",
   "metadata": {},
   "outputs": [],
   "source": [
    "#display_scores(tree_scores_test_temp)"
   ]
  },
  {
   "cell_type": "markdown",
   "id": "77c387e1",
   "metadata": {},
   "source": [
    "Bez kolumny \"it_location\" model gorzej przewiduje zmienną celu. Zatem została ona poprawnie zakodowana. Oczywiście w miarę możliwości."
   ]
  },
  {
   "cell_type": "markdown",
   "id": "cf48c33c",
   "metadata": {},
   "source": [
    "#### categories"
   ]
  },
  {
   "cell_type": "code",
   "execution_count": 38,
   "id": "23242d4e",
   "metadata": {},
   "outputs": [],
   "source": [
    "X_build_temp = X_build.drop([\"second_categoryEncoded\"], axis = 1)\n",
    "#X_test_temp = X_test.drop([\"second_categoryEncoded\"], axis = 1)\n",
    "\n",
    "tree_clas = DecisionTreeClassifier()\n",
    "tree_clas.fit(X_build_temp, y_build)\n",
    "tree_scores_build_temp = cross_val_score(tree_clas, X_build_temp, y_build, scoring='accuracy', cv = 10)\n",
    "#tree_scores_test_temp = cross_val_score(tree_clas, X_test_temp, y_test, scoring='accuracy', cv = 10)"
   ]
  },
  {
   "cell_type": "code",
   "execution_count": 39,
   "id": "c153d94f",
   "metadata": {},
   "outputs": [
    {
     "name": "stdout",
     "output_type": "stream",
     "text": [
      "Wyniki: [0.48237576 0.48320125 0.48827803 0.4928595  0.48980518 0.48714244\n",
      " 0.48767904 0.48697734 0.48417055 0.49098114]\n",
      "Średnia: 0.48734702390007334\n",
      "Odchylenie standardowe: 0.0032059795111924897\n"
     ]
    }
   ],
   "source": [
    "display_scores(tree_scores_build_temp)"
   ]
  },
  {
   "cell_type": "code",
   "execution_count": null,
   "id": "8f97c5cb",
   "metadata": {},
   "outputs": [],
   "source": [
    "#display_scores(tree_scores_test_temp)"
   ]
  },
  {
   "cell_type": "markdown",
   "id": "6c015d10",
   "metadata": {},
   "source": [
    "Bez kolumny \"second_categoryEncoded\" model gorzej przewiduje zmienną celu. Zatem została ona poprawnie zakodowana."
   ]
  },
  {
   "cell_type": "markdown",
   "id": "71c1355e",
   "metadata": {},
   "source": [
    "#### seller"
   ]
  },
  {
   "cell_type": "code",
   "execution_count": 45,
   "id": "a89cf491",
   "metadata": {},
   "outputs": [],
   "source": [
    "X_build_temp = X_build.copy()\n",
    "X_build_temp[\"seller\"] = df_build_all[\"seller\"]\n",
    "\n",
    "ordinal_encoder = OrdinalEncoder()\n",
    "X_build_temp[\"seller\"] = ordinal_encoder.fit_transform(X_build_temp[[\"seller\"]])\n",
    "\n",
    "tree_clas = DecisionTreeClassifier()\n",
    "tree_clas.fit(X_build_temp, y_build)\n",
    "tree_scores_build_temp = cross_val_score(tree_clas, X_build_temp, y_build, scoring='accuracy', cv = 10)\n",
    "#tree_scores_test_temp = cross_val_score(tree_clas, X_test_temp, y_test, scoring='accuracy', cv = 10)"
   ]
  },
  {
   "cell_type": "code",
   "execution_count": 46,
   "id": "de73b25b",
   "metadata": {},
   "outputs": [
    {
     "name": "stdout",
     "output_type": "stream",
     "text": [
      "Wyniki: [0.63818722 0.6401684  0.64070497 0.63893016 0.63810467 0.63676889\n",
      " 0.63420977 0.63041235 0.63066001 0.63660379]\n",
      "Średnia: 0.6364750233399645\n",
      "Odchylenie standardowe: 0.0034489609893888647\n"
     ]
    }
   ],
   "source": [
    "display_scores(tree_scores_build_temp)"
   ]
  },
  {
   "cell_type": "code",
   "execution_count": null,
   "id": "8bf7f46a",
   "metadata": {},
   "outputs": [],
   "source": [
    "#display_scores(tree_scores_test_temp)"
   ]
  },
  {
   "cell_type": "markdown",
   "id": "3ff0b87d",
   "metadata": {},
   "source": [
    "Jak widać przez usunięcie sprzedawców z ramki, dane budowniczych tracą dużo wartościwych informacji. Model działa lepiej, gdy zostawimy te kolumnę, nawet zakodowaną tak trywialnie jak Ordinary Encoderem"
   ]
  }
 ],
 "metadata": {
  "kernelspec": {
   "display_name": "Python 3 (ipykernel)",
   "language": "python",
   "name": "python3"
  },
  "language_info": {
   "codemirror_mode": {
    "name": "ipython",
    "version": 3
   },
   "file_extension": ".py",
   "mimetype": "text/x-python",
   "name": "python",
   "nbconvert_exporter": "python",
   "pygments_lexer": "ipython3",
   "version": "3.9.11"
  }
 },
 "nbformat": 4,
 "nbformat_minor": 5
}
