{
 "cells": [
  {
   "cell_type": "markdown",
   "id": "79bbfa5f",
   "metadata": {},
   "source": [
    "# Walidacja klasyfikacji zbioru danych allegro-api-transaction.\n",
    "Julia Kaznowska, Piotr Wilczyński <br>\n",
    "25/03/2022 <br>\n",
    "Politechnika Warszawska, Wydział Matematyki i Nauk Informacyjnych, Wstęp do uczenia maszynowego"
   ]
  },
  {
   "cell_type": "markdown",
   "id": "509f250b",
   "metadata": {},
   "source": [
    "## Import niezbędnych bibliotek oraz zbioru danych"
   ]
  },
  {
   "cell_type": "code",
   "execution_count": 1,
   "id": "fd93a464",
   "metadata": {},
   "outputs": [],
   "source": [
    "import pandas as pd\n",
    "import numpy as np\n",
    "import sklearn \n",
    "import seaborn as sns\n",
    "import matplotlib.pyplot as plt\n",
    "import warnings\n",
    "warnings.filterwarnings('ignore')\n",
    "np.random.seed(23)\n",
    "\n",
    "# zbior danych\n",
    "allegro_df = pd.read_csv('.\\\\allegro-api-transactions.csv')"
   ]
  },
  {
   "cell_type": "markdown",
   "id": "599c22c7",
   "metadata": {},
   "source": [
    "## Podział na dane do budowy i walidacji"
   ]
  },
  {
   "cell_type": "markdown",
   "id": "003954cc",
   "metadata": {},
   "source": [
    "Do analizy dostaliśmy następujący podział danych:"
   ]
  },
  {
   "cell_type": "code",
   "execution_count": 2,
   "id": "eaf1ae06",
   "metadata": {},
   "outputs": [],
   "source": [
    "allegro_df_build = allegro_df.sample(frac=0.7, random_state=500)\n",
    "allegro_df_test = allegro_df.drop(allegro_df_build.index)"
   ]
  },
  {
   "cell_type": "markdown",
   "id": "aa425f5f",
   "metadata": {},
   "source": [
    "W naszej opinii lepszy byłby podział warstwowy po zmiennej celu, aczkolwiek aktualnie nie jesteśmy w stanie tego zmienić. Dodatkowo widać, że budowniczy nie wydzielili części zbioru, do testowania swoich wniosków."
   ]
  },
  {
   "cell_type": "code",
   "execution_count": 3,
   "id": "f4b51052",
   "metadata": {},
   "outputs": [],
   "source": [
    "allegro_df_test.reset_index(drop = True, inplace = True)"
   ]
  },
  {
   "cell_type": "markdown",
   "id": "eb4862e4",
   "metadata": {},
   "source": [
    "## Przegląd ramki danych"
   ]
  },
  {
   "cell_type": "markdown",
   "id": "ecccbbbc",
   "metadata": {},
   "source": [
    "Zobaczmy kolumny zbioru i jakiego są typu:"
   ]
  },
  {
   "cell_type": "code",
   "execution_count": 4,
   "id": "16126c0d",
   "metadata": {
    "scrolled": true
   },
   "outputs": [
    {
     "name": "stdout",
     "output_type": "stream",
     "text": [
      "<class 'pandas.core.frame.DataFrame'>\n",
      "RangeIndex: 126006 entries, 0 to 126005\n",
      "Data columns (total 14 columns):\n",
      " #   Column                  Non-Null Count   Dtype  \n",
      "---  ------                  --------------   -----  \n",
      " 0   lp                      126006 non-null  int64  \n",
      " 1   date                    126006 non-null  object \n",
      " 2   item_id                 126006 non-null  int64  \n",
      " 3   categories              126006 non-null  object \n",
      " 4   pay_option_on_delivery  126006 non-null  int64  \n",
      " 5   pay_option_transfer     126006 non-null  int64  \n",
      " 6   seller                  126006 non-null  object \n",
      " 7   price                   126006 non-null  float64\n",
      " 8   it_is_allegro_standard  126006 non-null  int64  \n",
      " 9   it_quantity             126006 non-null  int64  \n",
      " 10  it_is_brand_zone        126006 non-null  int64  \n",
      " 11  it_seller_rating        126006 non-null  int64  \n",
      " 12  it_location             126006 non-null  object \n",
      " 13  main_category           126006 non-null  object \n",
      "dtypes: float64(1), int64(8), object(5)\n",
      "memory usage: 13.5+ MB\n"
     ]
    }
   ],
   "source": [
    "allegro_df_test.info()"
   ]
  },
  {
   "cell_type": "markdown",
   "id": "383979ef",
   "metadata": {},
   "source": [
    "Ramka składa się z 14 kolumn i 126006 rekordów. Zobaczmy jej pierwsze rekordy."
   ]
  },
  {
   "cell_type": "code",
   "execution_count": 5,
   "id": "76303d45",
   "metadata": {
    "scrolled": true
   },
   "outputs": [
    {
     "data": {
      "text/html": [
       "<div>\n",
       "<style scoped>\n",
       "    .dataframe tbody tr th:only-of-type {\n",
       "        vertical-align: middle;\n",
       "    }\n",
       "\n",
       "    .dataframe tbody tr th {\n",
       "        vertical-align: top;\n",
       "    }\n",
       "\n",
       "    .dataframe thead th {\n",
       "        text-align: right;\n",
       "    }\n",
       "</style>\n",
       "<table border=\"1\" class=\"dataframe\">\n",
       "  <thead>\n",
       "    <tr style=\"text-align: right;\">\n",
       "      <th></th>\n",
       "      <th>lp</th>\n",
       "      <th>date</th>\n",
       "      <th>item_id</th>\n",
       "      <th>categories</th>\n",
       "      <th>pay_option_on_delivery</th>\n",
       "      <th>pay_option_transfer</th>\n",
       "      <th>seller</th>\n",
       "      <th>price</th>\n",
       "      <th>it_is_allegro_standard</th>\n",
       "      <th>it_quantity</th>\n",
       "      <th>it_is_brand_zone</th>\n",
       "      <th>it_seller_rating</th>\n",
       "      <th>it_location</th>\n",
       "      <th>main_category</th>\n",
       "    </tr>\n",
       "  </thead>\n",
       "  <tbody>\n",
       "    <tr>\n",
       "      <th>0</th>\n",
       "      <td>1</td>\n",
       "      <td>2016-04-03 15:35:26</td>\n",
       "      <td>4773181874</td>\n",
       "      <td>['Odzież, Obuwie, Dodatki', 'Bielizna damska',...</td>\n",
       "      <td>1</td>\n",
       "      <td>1</td>\n",
       "      <td>InwestycjeNET</td>\n",
       "      <td>4.90</td>\n",
       "      <td>1</td>\n",
       "      <td>9288</td>\n",
       "      <td>0</td>\n",
       "      <td>12428</td>\n",
       "      <td>Warszawa</td>\n",
       "      <td>Odzież, Obuwie, Dodatki</td>\n",
       "    </tr>\n",
       "    <tr>\n",
       "      <th>1</th>\n",
       "      <td>3</td>\n",
       "      <td>2016-04-03 19:55:44</td>\n",
       "      <td>4783971474</td>\n",
       "      <td>['Książki i Komiksy', 'Poradniki i albumy', 'Z...</td>\n",
       "      <td>1</td>\n",
       "      <td>1</td>\n",
       "      <td>Matfel1</td>\n",
       "      <td>18.50</td>\n",
       "      <td>0</td>\n",
       "      <td>971</td>\n",
       "      <td>0</td>\n",
       "      <td>15006</td>\n",
       "      <td>Wola Krzysztoporska</td>\n",
       "      <td>Książki i Komiksy</td>\n",
       "    </tr>\n",
       "    <tr>\n",
       "      <th>2</th>\n",
       "      <td>5</td>\n",
       "      <td>2016-04-03 16:31:01</td>\n",
       "      <td>4790991674</td>\n",
       "      <td>['Odzież, Obuwie, Dodatki', 'Bielizna damska',...</td>\n",
       "      <td>1</td>\n",
       "      <td>1</td>\n",
       "      <td>Noemi-bielizna</td>\n",
       "      <td>10.99</td>\n",
       "      <td>1</td>\n",
       "      <td>742</td>\n",
       "      <td>0</td>\n",
       "      <td>39371</td>\n",
       "      <td>GĄBIN</td>\n",
       "      <td>Odzież, Obuwie, Dodatki</td>\n",
       "    </tr>\n",
       "    <tr>\n",
       "      <th>3</th>\n",
       "      <td>6</td>\n",
       "      <td>2016-04-03 17:56:11</td>\n",
       "      <td>4790991674</td>\n",
       "      <td>['Odzież, Obuwie, Dodatki', 'Bielizna damska',...</td>\n",
       "      <td>1</td>\n",
       "      <td>1</td>\n",
       "      <td>Noemi-bielizna</td>\n",
       "      <td>10.99</td>\n",
       "      <td>1</td>\n",
       "      <td>742</td>\n",
       "      <td>0</td>\n",
       "      <td>39371</td>\n",
       "      <td>GĄBIN</td>\n",
       "      <td>Odzież, Obuwie, Dodatki</td>\n",
       "    </tr>\n",
       "    <tr>\n",
       "      <th>4</th>\n",
       "      <td>7</td>\n",
       "      <td>2016-04-03 11:58:55</td>\n",
       "      <td>4824025074</td>\n",
       "      <td>['Biżuteria i Zegarki', 'Zegarki', 'Dziecięce']</td>\n",
       "      <td>1</td>\n",
       "      <td>1</td>\n",
       "      <td>handel_barbo</td>\n",
       "      <td>28.99</td>\n",
       "      <td>1</td>\n",
       "      <td>886</td>\n",
       "      <td>0</td>\n",
       "      <td>4287</td>\n",
       "      <td>Legionowo</td>\n",
       "      <td>Biżuteria i Zegarki</td>\n",
       "    </tr>\n",
       "  </tbody>\n",
       "</table>\n",
       "</div>"
      ],
      "text/plain": [
       "   lp                 date     item_id  \\\n",
       "0   1  2016-04-03 15:35:26  4773181874   \n",
       "1   3  2016-04-03 19:55:44  4783971474   \n",
       "2   5  2016-04-03 16:31:01  4790991674   \n",
       "3   6  2016-04-03 17:56:11  4790991674   \n",
       "4   7  2016-04-03 11:58:55  4824025074   \n",
       "\n",
       "                                          categories  pay_option_on_delivery  \\\n",
       "0  ['Odzież, Obuwie, Dodatki', 'Bielizna damska',...                       1   \n",
       "1  ['Książki i Komiksy', 'Poradniki i albumy', 'Z...                       1   \n",
       "2  ['Odzież, Obuwie, Dodatki', 'Bielizna damska',...                       1   \n",
       "3  ['Odzież, Obuwie, Dodatki', 'Bielizna damska',...                       1   \n",
       "4    ['Biżuteria i Zegarki', 'Zegarki', 'Dziecięce']                       1   \n",
       "\n",
       "   pay_option_transfer          seller  price  it_is_allegro_standard  \\\n",
       "0                    1   InwestycjeNET   4.90                       1   \n",
       "1                    1         Matfel1  18.50                       0   \n",
       "2                    1  Noemi-bielizna  10.99                       1   \n",
       "3                    1  Noemi-bielizna  10.99                       1   \n",
       "4                    1    handel_barbo  28.99                       1   \n",
       "\n",
       "   it_quantity  it_is_brand_zone  it_seller_rating          it_location  \\\n",
       "0         9288                 0             12428             Warszawa   \n",
       "1          971                 0             15006  Wola Krzysztoporska   \n",
       "2          742                 0             39371                GĄBIN   \n",
       "3          742                 0             39371                GĄBIN   \n",
       "4          886                 0              4287            Legionowo   \n",
       "\n",
       "             main_category  \n",
       "0  Odzież, Obuwie, Dodatki  \n",
       "1        Książki i Komiksy  \n",
       "2  Odzież, Obuwie, Dodatki  \n",
       "3  Odzież, Obuwie, Dodatki  \n",
       "4      Biżuteria i Zegarki  "
      ]
     },
     "execution_count": 5,
     "metadata": {},
     "output_type": "execute_result"
    }
   ],
   "source": [
    "allegro_df_test.head()"
   ]
  },
  {
   "cell_type": "markdown",
   "id": "e1e7fe73",
   "metadata": {},
   "source": [
    "### Wstępne braki danych"
   ]
  },
  {
   "cell_type": "code",
   "execution_count": 6,
   "id": "f14a77b0",
   "metadata": {},
   "outputs": [
    {
     "data": {
      "text/plain": [
       "lp                        0\n",
       "date                      0\n",
       "item_id                   0\n",
       "categories                0\n",
       "pay_option_on_delivery    0\n",
       "pay_option_transfer       0\n",
       "seller                    0\n",
       "price                     0\n",
       "it_is_allegro_standard    0\n",
       "it_quantity               0\n",
       "it_is_brand_zone          0\n",
       "it_seller_rating          0\n",
       "it_location               0\n",
       "main_category             0\n",
       "dtype: int64"
      ]
     },
     "execution_count": 6,
     "metadata": {},
     "output_type": "execute_result"
    }
   ],
   "source": [
    "allegro_df_test.isnull().sum()"
   ]
  },
  {
   "cell_type": "code",
   "execution_count": 7,
   "id": "13b2afea",
   "metadata": {},
   "outputs": [
    {
     "data": {
      "text/plain": [
       "(array([], dtype=int64), array([], dtype=int64))"
      ]
     },
     "execution_count": 7,
     "metadata": {},
     "output_type": "execute_result"
    }
   ],
   "source": [
    "np.where(allegro_df_test.applymap(lambda x: x == ''))"
   ]
  },
  {
   "cell_type": "markdown",
   "id": "c86fae98",
   "metadata": {},
   "source": [
    "Wstępny przegląd zbioru wykazał, że w ramce nie ma oczywistych braków danych (w postaci null bądź pustych pól)."
   ]
  },
  {
   "cell_type": "markdown",
   "id": "56e09a94",
   "metadata": {},
   "source": [
    "## Analiza jednowymiarowa"
   ]
  },
  {
   "cell_type": "markdown",
   "id": "bbe17d74",
   "metadata": {},
   "source": [
    "### lp"
   ]
  },
  {
   "cell_type": "code",
   "execution_count": 8,
   "id": "c03b982f",
   "metadata": {},
   "outputs": [
    {
     "data": {
      "text/plain": [
       "126006"
      ]
     },
     "execution_count": 8,
     "metadata": {},
     "output_type": "execute_result"
    }
   ],
   "source": [
    "allegro_df_test['lp'].unique().__len__()"
   ]
  },
  {
   "cell_type": "markdown",
   "id": "4ed10cdf",
   "metadata": {},
   "source": [
    "Zmienna unikalna dla każdego rekordu, nie będziemy jej brać pod uwagę przy konstrukcji modelu."
   ]
  },
  {
   "cell_type": "markdown",
   "id": "bfd40385",
   "metadata": {},
   "source": [
    "### date"
   ]
  },
  {
   "cell_type": "code",
   "execution_count": 9,
   "id": "d420c00a",
   "metadata": {},
   "outputs": [
    {
     "data": {
      "text/plain": [
       "2016-04-03 22:32:33    64\n",
       "2016-04-03 22:32:46    48\n",
       "2016-04-03 10:55:30    44\n",
       "2016-04-03 20:16:30    40\n",
       "2016-04-03 16:44:50    40\n",
       "                       ..\n",
       "2016-04-03 08:39:30     1\n",
       "2016-04-03 07:21:48     1\n",
       "2016-04-03 15:34:47     1\n",
       "2016-04-03 22:58:20     1\n",
       "2016-04-03 00:04:44     1\n",
       "Name: date, Length: 30839, dtype: int64"
      ]
     },
     "execution_count": 9,
     "metadata": {},
     "output_type": "execute_result"
    }
   ],
   "source": [
    "allegro_df_test[\"date\"].value_counts()"
   ]
  },
  {
   "cell_type": "markdown",
   "id": "1619ea01",
   "metadata": {},
   "source": [
    "W tym miejscu (w przeciwieństwie do budowniczych) uznaliśmy, że pochopne usuwanie tej kolumny może nie być dobrym posunięciem. Ceny mogą kształtować się inaczej ze względu na rok, na skutek chociażby inflacji. Najpierw sprawdzimy zatem, czy wszystkie rekordy pochodzą z tego samego roku."
   ]
  },
  {
   "cell_type": "code",
   "execution_count": 10,
   "id": "498227b7",
   "metadata": {},
   "outputs": [
    {
     "data": {
      "text/plain": [
       "2016    126006\n",
       "Name: date, dtype: int64"
      ]
     },
     "execution_count": 10,
     "metadata": {},
     "output_type": "execute_result"
    }
   ],
   "source": [
    "pd.DatetimeIndex(allegro_df_test['date']).year.value_counts()"
   ]
  },
  {
   "cell_type": "code",
   "execution_count": 11,
   "id": "c9228684",
   "metadata": {},
   "outputs": [
    {
     "data": {
      "text/plain": [
       "4    126006\n",
       "Name: date, dtype: int64"
      ]
     },
     "execution_count": 11,
     "metadata": {},
     "output_type": "execute_result"
    }
   ],
   "source": [
    "pd.DatetimeIndex(allegro_df_test['date']).month.value_counts()"
   ]
  },
  {
   "cell_type": "code",
   "execution_count": 12,
   "id": "40ef2839",
   "metadata": {},
   "outputs": [
    {
     "data": {
      "text/plain": [
       "3    126006\n",
       "Name: date, dtype: int64"
      ]
     },
     "execution_count": 12,
     "metadata": {},
     "output_type": "execute_result"
    }
   ],
   "source": [
    "pd.DatetimeIndex(allegro_df_test['date']).day.value_counts()"
   ]
  },
  {
   "cell_type": "markdown",
   "id": "a0387a84",
   "metadata": {},
   "source": [
    "Dzięki temu wiemy, że wszystkie rekordy pochodzą z tego samego dnia - zmienna ta zatem nie powinna mieć większego wpływu na model."
   ]
  },
  {
   "cell_type": "markdown",
   "id": "4790a8bf",
   "metadata": {},
   "source": [
    "### item_id"
   ]
  },
  {
   "cell_type": "code",
   "execution_count": 13,
   "id": "c57cee6c",
   "metadata": {},
   "outputs": [
    {
     "data": {
      "text/plain": [
       "6095133176    35\n",
       "6061413744    30\n",
       "6073551689    26\n",
       "6076113230    23\n",
       "6091540894    23\n",
       "              ..\n",
       "6000128475     1\n",
       "5998886275     1\n",
       "5997934675     1\n",
       "5996624675     1\n",
       "6099361407     1\n",
       "Name: item_id, Length: 112748, dtype: int64"
      ]
     },
     "execution_count": 13,
     "metadata": {},
     "output_type": "execute_result"
    }
   ],
   "source": [
    "allegro_df_test[\"item_id\"].value_counts()"
   ]
  },
  {
   "cell_type": "markdown",
   "id": "032b7457",
   "metadata": {},
   "source": [
    "Występują powtarzające się przedmioty. "
   ]
  },
  {
   "cell_type": "code",
   "execution_count": 14,
   "id": "2cb5465d",
   "metadata": {},
   "outputs": [
    {
     "data": {
      "text/html": [
       "<div>\n",
       "<style scoped>\n",
       "    .dataframe tbody tr th:only-of-type {\n",
       "        vertical-align: middle;\n",
       "    }\n",
       "\n",
       "    .dataframe tbody tr th {\n",
       "        vertical-align: top;\n",
       "    }\n",
       "\n",
       "    .dataframe thead th {\n",
       "        text-align: right;\n",
       "    }\n",
       "</style>\n",
       "<table border=\"1\" class=\"dataframe\">\n",
       "  <thead>\n",
       "    <tr style=\"text-align: right;\">\n",
       "      <th></th>\n",
       "      <th>lp</th>\n",
       "      <th>date</th>\n",
       "      <th>item_id</th>\n",
       "      <th>categories</th>\n",
       "      <th>pay_option_on_delivery</th>\n",
       "      <th>pay_option_transfer</th>\n",
       "      <th>seller</th>\n",
       "      <th>price</th>\n",
       "      <th>it_is_allegro_standard</th>\n",
       "      <th>it_quantity</th>\n",
       "      <th>it_is_brand_zone</th>\n",
       "      <th>it_seller_rating</th>\n",
       "      <th>it_location</th>\n",
       "      <th>main_category</th>\n",
       "    </tr>\n",
       "  </thead>\n",
       "  <tbody>\n",
       "    <tr>\n",
       "      <th>7247</th>\n",
       "      <td>24025</td>\n",
       "      <td>2016-04-03 18:52:46</td>\n",
       "      <td>6095133176</td>\n",
       "      <td>['Gry', 'Gry online (MMO)', 'Pozostałe']</td>\n",
       "      <td>0</td>\n",
       "      <td>1</td>\n",
       "      <td>Pixelobsessions</td>\n",
       "      <td>3.45</td>\n",
       "      <td>0</td>\n",
       "      <td>10366</td>\n",
       "      <td>0</td>\n",
       "      <td>1298</td>\n",
       "      <td>Lewes</td>\n",
       "      <td>Gry</td>\n",
       "    </tr>\n",
       "    <tr>\n",
       "      <th>7248</th>\n",
       "      <td>24028</td>\n",
       "      <td>2016-04-03 11:59:11</td>\n",
       "      <td>6095133176</td>\n",
       "      <td>['Gry', 'Gry online (MMO)', 'Pozostałe']</td>\n",
       "      <td>0</td>\n",
       "      <td>1</td>\n",
       "      <td>Pixelobsessions</td>\n",
       "      <td>3.45</td>\n",
       "      <td>0</td>\n",
       "      <td>10366</td>\n",
       "      <td>0</td>\n",
       "      <td>1298</td>\n",
       "      <td>Lewes</td>\n",
       "      <td>Gry</td>\n",
       "    </tr>\n",
       "    <tr>\n",
       "      <th>7249</th>\n",
       "      <td>24032</td>\n",
       "      <td>2016-04-03 00:39:40</td>\n",
       "      <td>6095133176</td>\n",
       "      <td>['Gry', 'Gry online (MMO)', 'Pozostałe']</td>\n",
       "      <td>0</td>\n",
       "      <td>1</td>\n",
       "      <td>Pixelobsessions</td>\n",
       "      <td>3.45</td>\n",
       "      <td>0</td>\n",
       "      <td>10366</td>\n",
       "      <td>0</td>\n",
       "      <td>1298</td>\n",
       "      <td>Lewes</td>\n",
       "      <td>Gry</td>\n",
       "    </tr>\n",
       "    <tr>\n",
       "      <th>7250</th>\n",
       "      <td>24033</td>\n",
       "      <td>2016-04-03 16:39:44</td>\n",
       "      <td>6095133176</td>\n",
       "      <td>['Gry', 'Gry online (MMO)', 'Pozostałe']</td>\n",
       "      <td>0</td>\n",
       "      <td>1</td>\n",
       "      <td>Pixelobsessions</td>\n",
       "      <td>3.45</td>\n",
       "      <td>0</td>\n",
       "      <td>10366</td>\n",
       "      <td>0</td>\n",
       "      <td>1298</td>\n",
       "      <td>Lewes</td>\n",
       "      <td>Gry</td>\n",
       "    </tr>\n",
       "    <tr>\n",
       "      <th>7251</th>\n",
       "      <td>24036</td>\n",
       "      <td>2016-04-03 20:19:14</td>\n",
       "      <td>6095133176</td>\n",
       "      <td>['Gry', 'Gry online (MMO)', 'Pozostałe']</td>\n",
       "      <td>0</td>\n",
       "      <td>1</td>\n",
       "      <td>Pixelobsessions</td>\n",
       "      <td>3.45</td>\n",
       "      <td>0</td>\n",
       "      <td>10366</td>\n",
       "      <td>0</td>\n",
       "      <td>1298</td>\n",
       "      <td>Lewes</td>\n",
       "      <td>Gry</td>\n",
       "    </tr>\n",
       "  </tbody>\n",
       "</table>\n",
       "</div>"
      ],
      "text/plain": [
       "         lp                 date     item_id  \\\n",
       "7247  24025  2016-04-03 18:52:46  6095133176   \n",
       "7248  24028  2016-04-03 11:59:11  6095133176   \n",
       "7249  24032  2016-04-03 00:39:40  6095133176   \n",
       "7250  24033  2016-04-03 16:39:44  6095133176   \n",
       "7251  24036  2016-04-03 20:19:14  6095133176   \n",
       "\n",
       "                                    categories  pay_option_on_delivery  \\\n",
       "7247  ['Gry', 'Gry online (MMO)', 'Pozostałe']                       0   \n",
       "7248  ['Gry', 'Gry online (MMO)', 'Pozostałe']                       0   \n",
       "7249  ['Gry', 'Gry online (MMO)', 'Pozostałe']                       0   \n",
       "7250  ['Gry', 'Gry online (MMO)', 'Pozostałe']                       0   \n",
       "7251  ['Gry', 'Gry online (MMO)', 'Pozostałe']                       0   \n",
       "\n",
       "      pay_option_transfer           seller  price  it_is_allegro_standard  \\\n",
       "7247                    1  Pixelobsessions   3.45                       0   \n",
       "7248                    1  Pixelobsessions   3.45                       0   \n",
       "7249                    1  Pixelobsessions   3.45                       0   \n",
       "7250                    1  Pixelobsessions   3.45                       0   \n",
       "7251                    1  Pixelobsessions   3.45                       0   \n",
       "\n",
       "      it_quantity  it_is_brand_zone  it_seller_rating it_location  \\\n",
       "7247        10366                 0              1298       Lewes   \n",
       "7248        10366                 0              1298       Lewes   \n",
       "7249        10366                 0              1298       Lewes   \n",
       "7250        10366                 0              1298       Lewes   \n",
       "7251        10366                 0              1298       Lewes   \n",
       "\n",
       "     main_category  \n",
       "7247           Gry  \n",
       "7248           Gry  \n",
       "7249           Gry  \n",
       "7250           Gry  \n",
       "7251           Gry  "
      ]
     },
     "execution_count": 14,
     "metadata": {},
     "output_type": "execute_result"
    }
   ],
   "source": [
    "allegro_df_test.loc[allegro_df_test['item_id']==6095133176].head()"
   ]
  },
  {
   "cell_type": "markdown",
   "id": "1424121f",
   "metadata": {},
   "source": [
    "Tak jak u budowniczych, występują duplikaty różniące się jedynie <i>lp</i> i <i>date</i>. Warto byłoby je usunąć. Miejsce usunięcia tych duplikatów (w trakcie analizy danych) nie wydaje się być najlepsze, jednak na szczęście z poprzednich kolumn nie będziemy korzystać. "
   ]
  },
  {
   "cell_type": "code",
   "execution_count": 15,
   "id": "f1b59c74",
   "metadata": {},
   "outputs": [
    {
     "data": {
      "text/plain": [
       "112748"
      ]
     },
     "execution_count": 15,
     "metadata": {},
     "output_type": "execute_result"
    }
   ],
   "source": [
    "allegro_df_test.loc[:, ~allegro_df_test.columns.isin(['date','lp'])].drop_duplicates().__len__()"
   ]
  },
  {
   "cell_type": "code",
   "execution_count": 16,
   "id": "40b1489c",
   "metadata": {},
   "outputs": [],
   "source": [
    "allegro_df_test = allegro_df_test.loc[:, ~allegro_df_test.columns.isin(['date','lp'])].drop_duplicates()"
   ]
  },
  {
   "cell_type": "markdown",
   "id": "76f3a853",
   "metadata": {},
   "source": [
    "Ramka pomniejszyła się o ponad 10 tysięcy rekordów."
   ]
  },
  {
   "cell_type": "markdown",
   "id": "41f12829",
   "metadata": {},
   "source": [
    "## categories"
   ]
  },
  {
   "cell_type": "code",
   "execution_count": 17,
   "id": "8f67b776",
   "metadata": {
    "scrolled": true
   },
   "outputs": [
    {
     "data": {
      "text/plain": [
       "['Dom i Ogród', 'Ogród', 'Rośliny', 'Rośliny owocowe']                                                     823\n",
       "['Dom i Ogród', 'Ogród', 'Rośliny', 'Bulwy, cebulki, kłącza']                                              702\n",
       "['Odzież, Obuwie, Dodatki', 'Odzież damska', 'Sukienki']                                                   647\n",
       "['Dom i Ogród', 'Ogród', 'Rośliny', 'Drzewa i krzewy liściaste']                                           640\n",
       "['Telefony i Akcesoria', 'Akcesoria GSM', 'Folie ochronne na LCD']                                         616\n",
       "                                                                                                          ... \n",
       "['Odzież, Obuwie, Dodatki', 'Odzież i bielizna męska', 'Komplety']                                           1\n",
       "['Kolekcje', 'Filatelistyka', 'Tematyczne', 'Religia i Papież', 'Osobowości', 'Pozostałe', 'Pozostałe']      1\n",
       "['Motoryzacja', 'Samochody', 'Dostawcze (do 3.5 t)', 'Mercedes-Benz']                                        1\n",
       "['Kolekcje', 'Filatelistyka', 'Tematyczne', 'Fauna', 'Pozostałe']                                            1\n",
       "['Filmy', 'Kasety wideo', 'Horrory']                                                                         1\n",
       "Name: categories, Length: 7231, dtype: int64"
      ]
     },
     "execution_count": 17,
     "metadata": {},
     "output_type": "execute_result"
    }
   ],
   "source": [
    "allegro_df_test[\"categories\"].value_counts()"
   ]
  },
  {
   "cell_type": "markdown",
   "id": "e0ee9f0c",
   "metadata": {},
   "source": [
    "Analogicznie do budowniczych, rozbiciem kategorii zajmiemy się później."
   ]
  },
  {
   "cell_type": "markdown",
   "id": "4edbba56",
   "metadata": {},
   "source": [
    "### pay_option_on_delivery"
   ]
  },
  {
   "cell_type": "code",
   "execution_count": 18,
   "id": "4ba4eff0",
   "metadata": {},
   "outputs": [
    {
     "data": {
      "text/plain": [
       "1    99283\n",
       "0    13465\n",
       "Name: pay_option_on_delivery, dtype: int64"
      ]
     },
     "execution_count": 18,
     "metadata": {},
     "output_type": "execute_result"
    }
   ],
   "source": [
    "allegro_df_test[\"pay_option_on_delivery\"].value_counts()"
   ]
  },
  {
   "cell_type": "code",
   "execution_count": 19,
   "id": "3d3c819b",
   "metadata": {
    "scrolled": false
   },
   "outputs": [
    {
     "data": {
      "text/plain": [
       "<AxesSubplot:>"
      ]
     },
     "execution_count": 19,
     "metadata": {},
     "output_type": "execute_result"
    },
    {
     "data": {
      "image/png": "[encoded data removed]",
      "text/plain": [
       "<Figure size 432x288 with 1 Axes>"
      ]
     },
     "metadata": {
      "needs_background": "light"
     },
     "output_type": "display_data"
    }
   ],
   "source": [
    "allegro_df_test[\"pay_option_on_delivery\"].value_counts().plot(kind = \"barh\")"
   ]
  },
  {
   "cell_type": "markdown",
   "id": "ad456dd2",
   "metadata": {},
   "source": [
    "Widzimy, że zdecydowana większość ofert posiada opcję zapłaty przy dostawie."
   ]
  },
  {
   "cell_type": "markdown",
   "id": "9e99191c",
   "metadata": {},
   "source": [
    "### pay_option_transfer"
   ]
  },
  {
   "cell_type": "code",
   "execution_count": 20,
   "id": "2c68ebb8",
   "metadata": {
    "scrolled": true
   },
   "outputs": [
    {
     "data": {
      "text/plain": [
       "1    91719\n",
       "0    21029\n",
       "Name: pay_option_transfer, dtype: int64"
      ]
     },
     "execution_count": 20,
     "metadata": {},
     "output_type": "execute_result"
    }
   ],
   "source": [
    "allegro_df_test[\"pay_option_transfer\"].value_counts()"
   ]
  },
  {
   "cell_type": "code",
   "execution_count": 21,
   "id": "068bed45",
   "metadata": {
    "scrolled": true
   },
   "outputs": [
    {
     "data": {
      "text/plain": [
       "<AxesSubplot:>"
      ]
     },
     "execution_count": 21,
     "metadata": {},
     "output_type": "execute_result"
    },
    {
     "data": {
      "image/png": "[encoded data removed]",
      "text/plain": [
       "<Figure size 432x288 with 1 Axes>"
      ]
     },
     "metadata": {
      "needs_background": "light"
     },
     "output_type": "display_data"
    }
   ],
   "source": [
    "allegro_df_test[\"pay_option_transfer\"].value_counts().plot(kind = \"barh\")"
   ]
  },
  {
   "cell_type": "markdown",
   "id": "c70d0b53",
   "metadata": {},
   "source": [
    "Widzimy, że zdecydowana większość ofert posiada opcję zapłaty przelewem."
   ]
  },
  {
   "cell_type": "markdown",
   "id": "e0470a23",
   "metadata": {},
   "source": [
    "### seller"
   ]
  },
  {
   "cell_type": "code",
   "execution_count": 22,
   "id": "8c994240",
   "metadata": {
    "scrolled": true
   },
   "outputs": [
    {
     "data": {
      "text/plain": [
       "Allegro           331\n",
       "darmarsklep       262\n",
       "Aros_pl           249\n",
       "sklepogrodnik     246\n",
       "ezebra_pl         240\n",
       "                 ... \n",
       "joko97              1\n",
       "exlibris_pass4      1\n",
       "reniferek24         1\n",
       "junior26            1\n",
       "arti_barti          1\n",
       "Name: seller, Length: 29685, dtype: int64"
      ]
     },
     "execution_count": 22,
     "metadata": {},
     "output_type": "execute_result"
    }
   ],
   "source": [
    "allegro_df_test[\"seller\"].value_counts()"
   ]
  },
  {
   "cell_type": "code",
   "execution_count": 23,
   "id": "75a83a21",
   "metadata": {
    "scrolled": true
   },
   "outputs": [
    {
     "data": {
      "text/plain": [
       "<AxesSubplot:xlabel='counts', ylabel='Count'>"
      ]
     },
     "execution_count": 23,
     "metadata": {},
     "output_type": "execute_result"
    },
    {
     "data": {
      "image/png": "[encoded data removed]",
      "text/plain": [
       "<Figure size 432x288 with 1 Axes>"
      ]
     },
     "metadata": {
      "needs_background": "light"
     },
     "output_type": "display_data"
    }
   ],
   "source": [
    "sns.histplot(data=allegro_df_test.groupby([\"seller\"]).size().reset_index(name=\"counts\"),x=\"counts\", binwidth=10)"
   ]
  },
  {
   "cell_type": "code",
   "execution_count": 24,
   "id": "1dc8b501",
   "metadata": {
    "scrolled": true
   },
   "outputs": [
    {
     "data": {
      "text/plain": [
       "0.6462769595549679"
      ]
     },
     "execution_count": 24,
     "metadata": {},
     "output_type": "execute_result"
    }
   ],
   "source": [
    "df2 = allegro_df_test.groupby([\"seller\"]).size().reset_index(name=\"counts\").sort_values(by=\"counts\", ascending=False)\n",
    "df2.loc[df2['counts']<15].__len__()/43862"
   ]
  },
  {
   "cell_type": "markdown",
   "id": "a550cb36",
   "metadata": {},
   "source": [
    "W przeciwieństwie do budowniczych, na zbiorze walidacyjnym około 64% sprzedających ma poniżej 15 ofert. Opisywanie rozkładu tej zmiennej jako samo sprawdzanie liczby ofert raczej nie ma większego sensu po uprzednim usunięciu ofert z duplikowanymi przedmiotami. Należało by zwrócić uwagę, że jest to rozkład unikalnych ofert."
   ]
  },
  {
   "cell_type": "markdown",
   "id": "712a6e58",
   "metadata": {},
   "source": [
    "Dobrym pomysłem wydaje się również dodanie boxplota, który może dać dodatkowy wgląd w rozkład danych."
   ]
  },
  {
   "cell_type": "code",
   "execution_count": 25,
   "id": "d3500ca0",
   "metadata": {},
   "outputs": [],
   "source": [
    "df3 = allegro_df_test.groupby([\"seller\"]).size().reset_index(name=\"counts\")"
   ]
  },
  {
   "cell_type": "code",
   "execution_count": 26,
   "id": "af938161",
   "metadata": {
    "scrolled": true
   },
   "outputs": [
    {
     "data": {
      "image/png": "[encoded data removed]",
      "text/plain": [
       "<Figure size 432x288 with 1 Axes>"
      ]
     },
     "metadata": {
      "needs_background": "light"
     },
     "output_type": "display_data"
    }
   ],
   "source": [
    "sns.boxplot(x = df3[\"counts\"])\n",
    "plt.show()"
   ]
  },
  {
   "cell_type": "markdown",
   "id": "fac62027",
   "metadata": {},
   "source": [
    "Jak widzimy, występuje tutaj bardzo dużo outlierów, przez które również boxplot staje się niezbyt czytelny. Dobrym wyjściem byłoby zatem dodanie również podstawowych informacji o rozkładzie zmiennych."
   ]
  },
  {
   "cell_type": "code",
   "execution_count": 27,
   "id": "9ac0b312",
   "metadata": {},
   "outputs": [
    {
     "data": {
      "text/plain": [
       "count    29685.000000\n",
       "mean         3.798147\n",
       "std          8.733593\n",
       "min          1.000000\n",
       "25%          1.000000\n",
       "50%          1.000000\n",
       "75%          3.000000\n",
       "max        331.000000\n",
       "Name: counts, dtype: float64"
      ]
     },
     "execution_count": 27,
     "metadata": {},
     "output_type": "execute_result"
    }
   ],
   "source": [
    "df3[\"counts\"].describe()"
   ]
  },
  {
   "cell_type": "markdown",
   "id": "1b770d5b",
   "metadata": {},
   "source": [
    "Nie zgadzamy się również z usunięciem tej kolumny ze zbioru danych bez sprawdzenia jej wpływu na predykcyjność modelu. Różni sprzedawcy mogą sprzedawać towary z tych samych kategorii, ale o różnej jakości, bądź po prostu droższe produkty. Warto będzie się jeszcze przyjrzeć tej zmiennej."
   ]
  },
  {
   "cell_type": "markdown",
   "id": "f8a213da",
   "metadata": {},
   "source": [
    "### price"
   ]
  },
  {
   "cell_type": "code",
   "execution_count": 28,
   "id": "c9cf7e79",
   "metadata": {},
   "outputs": [
    {
     "data": {
      "image/png": "[encoded data removed]",
      "text/plain": [
       "<Figure size 1080x360 with 1 Axes>"
      ]
     },
     "metadata": {
      "needs_background": "light"
     },
     "output_type": "display_data"
    }
   ],
   "source": [
    "allegro_df[\"price\"].hist(bins = 100, figsize = (15, 5))\n",
    "plt.yscale('log')\n",
    "plt.show()"
   ]
  },
  {
   "cell_type": "code",
   "execution_count": 29,
   "id": "6e20ac12",
   "metadata": {},
   "outputs": [
    {
     "data": {
      "text/plain": [
       "1.00         2010\n",
       "9.99         1239\n",
       "19.99        1122\n",
       "99.00         928\n",
       "15.00         866\n",
       "             ... \n",
       "20.57           1\n",
       "94.57           1\n",
       "94.66           1\n",
       "94.77           1\n",
       "119000.00       1\n",
       "Name: price, Length: 6184, dtype: int64"
      ]
     },
     "execution_count": 29,
     "metadata": {},
     "output_type": "execute_result"
    }
   ],
   "source": [
    "allegro_df_test[\"price\"].sort_values().value_counts()"
   ]
  },
  {
   "cell_type": "markdown",
   "id": "71c644d6",
   "metadata": {},
   "source": [
    "Najczęściej występujące ceny są takie same jak u budowniczych."
   ]
  },
  {
   "cell_type": "markdown",
   "id": "6ed113d7",
   "metadata": {},
   "source": [
    "Następnie sprawdzamy częstość występowania ceny 0."
   ]
  },
  {
   "cell_type": "code",
   "execution_count": 30,
   "id": "71063bc2",
   "metadata": {},
   "outputs": [
    {
     "data": {
      "text/plain": [
       "10"
      ]
     },
     "execution_count": 30,
     "metadata": {},
     "output_type": "execute_result"
    }
   ],
   "source": [
    "allegro_df_test[\"price\"].eq(0).sum()"
   ]
  },
  {
   "cell_type": "markdown",
   "id": "3fb77ab8",
   "metadata": {},
   "source": [
    "Do analizy tego wyniku budowniczowie wracają w późniejszej części raportu, zatem zrobimy to samo."
   ]
  },
  {
   "cell_type": "code",
   "execution_count": 31,
   "id": "9d2c33d3",
   "metadata": {},
   "outputs": [
    {
     "data": {
      "text/plain": [
       "count    112748.000000\n",
       "mean         80.058988\n",
       "std         556.099404\n",
       "min           0.000000\n",
       "25%           9.000000\n",
       "50%          25.000000\n",
       "75%          69.000000\n",
       "max      119000.000000\n",
       "Name: price, dtype: float64"
      ]
     },
     "execution_count": 31,
     "metadata": {},
     "output_type": "execute_result"
    }
   ],
   "source": [
    "allegro_df_test[\"price\"].describe()"
   ]
  },
  {
   "cell_type": "markdown",
   "id": "eb298316",
   "metadata": {},
   "source": [
    "Rozkład ceny w zbiorze walidacyjnym wydaje się być podobnym do próbki do budowania. Widzimy jednak, że wartość maksymalna jest dużo większa. Sprawdźmy, który to produkt."
   ]
  },
  {
   "cell_type": "code",
   "execution_count": 32,
   "id": "77a9b121",
   "metadata": {},
   "outputs": [
    {
     "data": {
      "text/html": [
       "<div>\n",
       "<style scoped>\n",
       "    .dataframe tbody tr th:only-of-type {\n",
       "        vertical-align: middle;\n",
       "    }\n",
       "\n",
       "    .dataframe tbody tr th {\n",
       "        vertical-align: top;\n",
       "    }\n",
       "\n",
       "    .dataframe thead th {\n",
       "        text-align: right;\n",
       "    }\n",
       "</style>\n",
       "<table border=\"1\" class=\"dataframe\">\n",
       "  <thead>\n",
       "    <tr style=\"text-align: right;\">\n",
       "      <th></th>\n",
       "      <th>item_id</th>\n",
       "      <th>categories</th>\n",
       "      <th>pay_option_on_delivery</th>\n",
       "      <th>pay_option_transfer</th>\n",
       "      <th>seller</th>\n",
       "      <th>price</th>\n",
       "      <th>it_is_allegro_standard</th>\n",
       "      <th>it_quantity</th>\n",
       "      <th>it_is_brand_zone</th>\n",
       "      <th>it_seller_rating</th>\n",
       "      <th>it_location</th>\n",
       "      <th>main_category</th>\n",
       "    </tr>\n",
       "  </thead>\n",
       "  <tbody>\n",
       "    <tr>\n",
       "      <th>13064</th>\n",
       "      <td>6080258883</td>\n",
       "      <td>['Motoryzacja', 'Samochody', 'Ciężarowe (pow. ...</td>\n",
       "      <td>1</td>\n",
       "      <td>0</td>\n",
       "      <td>POLTRANS-Matysek</td>\n",
       "      <td>119000.0</td>\n",
       "      <td>0</td>\n",
       "      <td>0</td>\n",
       "      <td>0</td>\n",
       "      <td>9</td>\n",
       "      <td>bodzentyn</td>\n",
       "      <td>Motoryzacja</td>\n",
       "    </tr>\n",
       "  </tbody>\n",
       "</table>\n",
       "</div>"
      ],
      "text/plain": [
       "          item_id                                         categories  \\\n",
       "13064  6080258883  ['Motoryzacja', 'Samochody', 'Ciężarowe (pow. ...   \n",
       "\n",
       "       pay_option_on_delivery  pay_option_transfer            seller  \\\n",
       "13064                       1                    0  POLTRANS-Matysek   \n",
       "\n",
       "          price  it_is_allegro_standard  it_quantity  it_is_brand_zone  \\\n",
       "13064  119000.0                       0            0                 0   \n",
       "\n",
       "       it_seller_rating it_location main_category  \n",
       "13064                 9   bodzentyn   Motoryzacja  "
      ]
     },
     "execution_count": 32,
     "metadata": {},
     "output_type": "execute_result"
    }
   ],
   "source": [
    "allegro_df_test.loc[allegro_df_test.price == allegro_df_test.price.max()]"
   ]
  },
  {
   "cell_type": "markdown",
   "id": "46fbea56",
   "metadata": {},
   "source": [
    "Jest to samochód ciężarowy."
   ]
  },
  {
   "cell_type": "markdown",
   "id": "325ff49a",
   "metadata": {},
   "source": [
    "Dodatkowym atutem byłoby również dodanie boxplota dla tej zmiennej."
   ]
  },
  {
   "cell_type": "code",
   "execution_count": 33,
   "id": "dcf84419",
   "metadata": {
    "scrolled": true
   },
   "outputs": [
    {
     "data": {
      "image/png": "[encoded data removed]",
      "text/plain": [
       "<Figure size 432x288 with 1 Axes>"
      ]
     },
     "metadata": {
      "needs_background": "light"
     },
     "output_type": "display_data"
    }
   ],
   "source": [
    "g = sns.boxplot(x = allegro_df_test[\"price\"])\n",
    "g.set_xscale('log')\n",
    "plt.show()"
   ]
  },
  {
   "cell_type": "markdown",
   "id": "954815b4",
   "metadata": {},
   "source": [
    "Tutaj również, podobnie jak przy liczbie przedmiotów sprzedawanych przez sprzedawcę, istnieje wiele outlierów. Dla większych wartości są one jednak mniej skupione."
   ]
  },
  {
   "cell_type": "markdown",
   "id": "05d63410",
   "metadata": {},
   "source": [
    "### it_is_allegro_standard"
   ]
  },
  {
   "cell_type": "code",
   "execution_count": 34,
   "id": "21ca76dd",
   "metadata": {},
   "outputs": [
    {
     "data": {
      "text/plain": [
       "1    66351\n",
       "0    46397\n",
       "Name: it_is_allegro_standard, dtype: int64"
      ]
     },
     "execution_count": 34,
     "metadata": {},
     "output_type": "execute_result"
    }
   ],
   "source": [
    "allegro_df_test[\"it_is_allegro_standard\"].value_counts()"
   ]
  },
  {
   "cell_type": "code",
   "execution_count": 35,
   "id": "4d25844b",
   "metadata": {},
   "outputs": [
    {
     "data": {
      "text/plain": [
       "<AxesSubplot:>"
      ]
     },
     "execution_count": 35,
     "metadata": {},
     "output_type": "execute_result"
    },
    {
     "data": {
      "image/png": "[encoded data removed]",
      "text/plain": [
       "<Figure size 432x288 with 1 Axes>"
      ]
     },
     "metadata": {
      "needs_background": "light"
     },
     "output_type": "display_data"
    }
   ],
   "source": [
    "allegro_df_test[\"it_is_allegro_standard\"].value_counts().plot(kind = \"barh\")"
   ]
  },
  {
   "cell_type": "markdown",
   "id": "9d193ccf",
   "metadata": {},
   "source": [
    "Tak jak u budowniczych, większość przedmiotów posiada standard allegro."
   ]
  },
  {
   "cell_type": "markdown",
   "id": "199f2fd6",
   "metadata": {},
   "source": [
    "### it_quantity"
   ]
  },
  {
   "cell_type": "code",
   "execution_count": 36,
   "id": "e1d8ce49",
   "metadata": {},
   "outputs": [
    {
     "data": {
      "text/plain": [
       "0        17926\n",
       "1         3275\n",
       "2         2462\n",
       "3         2166\n",
       "4         2002\n",
       "         ...  \n",
       "88177        1\n",
       "9345         1\n",
       "96371        1\n",
       "48504        1\n",
       "30024        1\n",
       "Name: it_quantity, Length: 5425, dtype: int64"
      ]
     },
     "execution_count": 36,
     "metadata": {},
     "output_type": "execute_result"
    }
   ],
   "source": [
    "allegro_df_test[\"it_quantity\"].value_counts()"
   ]
  },
  {
   "cell_type": "code",
   "execution_count": 37,
   "id": "077753bd",
   "metadata": {},
   "outputs": [
    {
     "data": {
      "text/plain": [
       "count    112748.000000\n",
       "mean       5759.046901\n",
       "std       21746.445552\n",
       "min           0.000000\n",
       "25%           5.000000\n",
       "50%          81.000000\n",
       "75%         908.000000\n",
       "max       99999.000000\n",
       "Name: it_quantity, dtype: float64"
      ]
     },
     "execution_count": 37,
     "metadata": {},
     "output_type": "execute_result"
    }
   ],
   "source": [
    "allegro_df_test[\"it_quantity\"].describe()"
   ]
  },
  {
   "cell_type": "markdown",
   "id": "0b443f51",
   "metadata": {},
   "source": [
    "Rozkład zmiennej <i>it_quantity</i> trochę różni się od zbioru do budowania. Największą różnicę zauważamy dla średniej. "
   ]
  },
  {
   "cell_type": "code",
   "execution_count": 38,
   "id": "d67bad4b",
   "metadata": {},
   "outputs": [
    {
     "data": {
      "text/plain": [
       "17926"
      ]
     },
     "execution_count": 38,
     "metadata": {},
     "output_type": "execute_result"
    }
   ],
   "source": [
    "allegro_df_test[\"it_quantity\"].eq(0).sum()"
   ]
  },
  {
   "cell_type": "code",
   "execution_count": 39,
   "id": "e102b049",
   "metadata": {},
   "outputs": [
    {
     "data": {
      "text/plain": [
       "94"
      ]
     },
     "execution_count": 39,
     "metadata": {},
     "output_type": "execute_result"
    }
   ],
   "source": [
    "allegro_df_test[\"it_quantity\"].eq(99999).sum()"
   ]
  },
  {
   "cell_type": "markdown",
   "id": "6f019557",
   "metadata": {},
   "source": [
    "Podobnie jak dla zmiennej <i>price</i>, budowniczowie zdecydowali się na analizę tych wartości w dalszej części raportu."
   ]
  },
  {
   "cell_type": "code",
   "execution_count": 40,
   "id": "a170e6e1",
   "metadata": {
    "scrolled": true
   },
   "outputs": [
    {
     "data": {
      "image/png": "[encoded data removed]",
      "text/plain": [
       "<Figure size 432x288 with 1 Axes>"
      ]
     },
     "metadata": {
      "needs_background": "light"
     },
     "output_type": "display_data"
    }
   ],
   "source": [
    "sns.histplot(allegro_df_test,x='it_quantity')\n",
    "plt.show()"
   ]
  },
  {
   "cell_type": "markdown",
   "id": "e47d7550",
   "metadata": {},
   "source": [
    "Histogram ten nie daje nam zbyt wielu informacji na temat zmiennej. Argument binwidth nie jest do niej odpowiednio dobrany. Można również użyć logarytmu na osi y."
   ]
  },
  {
   "cell_type": "code",
   "execution_count": 41,
   "id": "61b19609",
   "metadata": {},
   "outputs": [
    {
     "data": {
      "image/png": "[encoded data removed]",
      "text/plain": [
       "<Figure size 432x288 with 1 Axes>"
      ]
     },
     "metadata": {
      "needs_background": "light"
     },
     "output_type": "display_data"
    }
   ],
   "source": [
    "g = sns.histplot(allegro_df_test, x='it_quantity', bins = 50)\n",
    "g.set_yscale('log')\n",
    "plt.show()"
   ]
  },
  {
   "cell_type": "markdown",
   "id": "10657210",
   "metadata": {},
   "source": [
    "### it_is_brand_zone"
   ]
  },
  {
   "cell_type": "code",
   "execution_count": 42,
   "id": "0dd49fc1",
   "metadata": {},
   "outputs": [
    {
     "data": {
      "text/plain": [
       "0    111075\n",
       "1      1673\n",
       "Name: it_is_brand_zone, dtype: int64"
      ]
     },
     "execution_count": 42,
     "metadata": {},
     "output_type": "execute_result"
    }
   ],
   "source": [
    "allegro_df_test[\"it_is_brand_zone\"].value_counts()"
   ]
  },
  {
   "cell_type": "code",
   "execution_count": 43,
   "id": "0921205e",
   "metadata": {},
   "outputs": [
    {
     "data": {
      "text/plain": [
       "<AxesSubplot:>"
      ]
     },
     "execution_count": 43,
     "metadata": {},
     "output_type": "execute_result"
    },
    {
     "data": {
      "image/png": "[encoded data removed]",
      "text/plain": [
       "<Figure size 432x288 with 1 Axes>"
      ]
     },
     "metadata": {
      "needs_background": "light"
     },
     "output_type": "display_data"
    }
   ],
   "source": [
    "allegro_df_test[\"it_is_brand_zone\"].value_counts().plot(kind = \"barh\")"
   ]
  },
  {
   "cell_type": "markdown",
   "id": "5a6ef6c2",
   "metadata": {},
   "source": [
    "Tak jak u budowniczych, przeważająca liczba rekordów posiada flagę 0."
   ]
  },
  {
   "cell_type": "markdown",
   "id": "54ec04fc",
   "metadata": {},
   "source": [
    "### it_seller_rating"
   ]
  },
  {
   "cell_type": "code",
   "execution_count": 44,
   "id": "6a9e0135",
   "metadata": {},
   "outputs": [
    {
     "data": {
      "text/plain": [
       "0        143\n",
       "1        107\n",
       "4         84\n",
       "6         84\n",
       "2         83\n",
       "        ... \n",
       "3842       1\n",
       "58130      1\n",
       "12577      1\n",
       "66298      1\n",
       "30754      1\n",
       "Name: it_seller_rating, Length: 31283, dtype: int64"
      ]
     },
     "execution_count": 44,
     "metadata": {},
     "output_type": "execute_result"
    }
   ],
   "source": [
    "allegro_df_test[\"it_seller_rating\"].value_counts()"
   ]
  },
  {
   "cell_type": "code",
   "execution_count": 45,
   "id": "549ca6c4",
   "metadata": {},
   "outputs": [
    {
     "data": {
      "text/plain": [
       "count    112748.000000\n",
       "mean      19378.283845\n",
       "std       35537.536941\n",
       "min          -1.000000\n",
       "25%        1525.000000\n",
       "50%        6418.000000\n",
       "75%       20112.000000\n",
       "max      292074.000000\n",
       "Name: it_seller_rating, dtype: float64"
      ]
     },
     "execution_count": 45,
     "metadata": {},
     "output_type": "execute_result"
    }
   ],
   "source": [
    "allegro_df_test[\"it_seller_rating\"].describe()"
   ]
  },
  {
   "cell_type": "code",
   "execution_count": 46,
   "id": "a79f72f4",
   "metadata": {},
   "outputs": [
    {
     "data": {
      "text/plain": [
       "1"
      ]
     },
     "execution_count": 46,
     "metadata": {},
     "output_type": "execute_result"
    }
   ],
   "source": [
    "allegro_df_test[\"it_seller_rating\"].lt(0).sum()"
   ]
  },
  {
   "cell_type": "markdown",
   "id": "f645a4f0",
   "metadata": {},
   "source": [
    "O wartości -1 budowniczowie wypowiadają się w dalszej części raportu."
   ]
  },
  {
   "cell_type": "markdown",
   "id": "07aafe84",
   "metadata": {},
   "source": [
    "W tym miejscu budowniczowie zdecydowali się z jakiejś przyczyny pokazać histogram dla innej zmiennej niż omawiana (dodatkowo z usuniętymi outlierami)."
   ]
  },
  {
   "cell_type": "code",
   "execution_count": 47,
   "id": "b811f841",
   "metadata": {},
   "outputs": [
    {
     "name": "stdout",
     "output_type": "stream",
     "text": [
      "1\n"
     ]
    },
    {
     "data": {
      "image/png": "[encoded data removed]",
      "text/plain": [
       "<Figure size 432x288 with 1 Axes>"
      ]
     },
     "metadata": {
      "needs_background": "light"
     },
     "output_type": "display_data"
    }
   ],
   "source": [
    "it_quantities = allegro_df_test['it_quantity']\n",
    "\n",
    "upper_lim =it_quantities.quantile(.90)\n",
    "lower_lim =it_quantities.quantile(.00)\n",
    "\n",
    "data_percentile2 =it_quantities[(it_quantities < upper_lim) & (it_quantities > lower_lim)]\n",
    "print(data_percentile2.min())\n",
    "sns.histplot(data=data_percentile2,binwidth=10)\n",
    "plt.show()"
   ]
  },
  {
   "cell_type": "markdown",
   "id": "6bd8c7e6",
   "metadata": {},
   "source": [
    "Wykres rzeczywiście przedstawia się bardziej czytelnie, jest jednak delikatnie spóźniony."
   ]
  },
  {
   "cell_type": "markdown",
   "id": "d4855842",
   "metadata": {},
   "source": [
    "Histogram dla zmiennej <i>it_seller_rating</i> przedstawia się następująco:"
   ]
  },
  {
   "cell_type": "code",
   "execution_count": 48,
   "id": "12f7e186",
   "metadata": {},
   "outputs": [
    {
     "data": {
      "image/png": "[encoded data removed]",
      "text/plain": [
       "<Figure size 432x288 with 1 Axes>"
      ]
     },
     "metadata": {
      "needs_background": "light"
     },
     "output_type": "display_data"
    }
   ],
   "source": [
    "g = sns.histplot(allegro_df_test,x='it_seller_rating', bins = 50)\n",
    "g.set_yscale('log')\n",
    "plt.show()"
   ]
  },
  {
   "cell_type": "markdown",
   "id": "240cefaf",
   "metadata": {},
   "source": [
    "Wykres ten jest mocno skośny w prawo. Zobaczmy rozkład danych na boxplocie."
   ]
  },
  {
   "cell_type": "code",
   "execution_count": 49,
   "id": "a4a10aea",
   "metadata": {},
   "outputs": [
    {
     "data": {
      "image/png": "[encoded data removed]",
      "text/plain": [
       "<Figure size 432x288 with 1 Axes>"
      ]
     },
     "metadata": {
      "needs_background": "light"
     },
     "output_type": "display_data"
    }
   ],
   "source": [
    "g = sns.boxplot(x = allegro_df_test[\"it_seller_rating\"])\n",
    "g.set_xscale('log')\n",
    "plt.show()"
   ]
  },
  {
   "cell_type": "markdown",
   "id": "a9c8ab89",
   "metadata": {},
   "source": [
    "Boxplot dalej ma wiele outlierów, jest jednak odrobinę czytelniejszy od tych dla poprzednich zmiennych."
   ]
  },
  {
   "cell_type": "markdown",
   "id": "50639786",
   "metadata": {},
   "source": [
    "### it_location"
   ]
  },
  {
   "cell_type": "code",
   "execution_count": 50,
   "id": "604bbf69",
   "metadata": {},
   "outputs": [
    {
     "data": {
      "text/plain": [
       "Warszawa                           6420\n",
       "Kraków                             4141\n",
       "Łódź                               2896\n",
       "Poznań                             2723\n",
       "Wrocław                            2392\n",
       "                                   ... \n",
       "Parzniew                              1\n",
       "Lgota Mokrzesz                        1\n",
       "Wojcieszków                           1\n",
       "KONSTANCIN-JEZIORNA 502-020-799       1\n",
       "Miłkowice                             1\n",
       "Name: it_location, Length: 6692, dtype: int64"
      ]
     },
     "execution_count": 50,
     "metadata": {},
     "output_type": "execute_result"
    }
   ],
   "source": [
    "allegro_df_test[\"it_location\"].value_counts()"
   ]
  },
  {
   "cell_type": "markdown",
   "id": "a7dd4f57",
   "metadata": {},
   "source": [
    "Widzimy ponad 6,5 tysiąca różnych lokalizacji. Najprawdopodobniej część z nich będzie można złączyć, ale objaśnianiem tego budowniczowie zajęli się później. "
   ]
  },
  {
   "cell_type": "markdown",
   "id": "a2d59ad6",
   "metadata": {},
   "source": [
    "Budowniczowie postanawiają usunąć z danych rekordy, w których lokalizacja jest pustym strigiem albo zawiera tylko znaki interpunkcyjne i liczby. Prawdopodobnie lepszym rozwiązaniem byłoby wrzucenie takich wartości do odzielnej kategorii 'Brak lokalizacji'."
   ]
  },
  {
   "cell_type": "code",
   "execution_count": 51,
   "id": "6bb09e23",
   "metadata": {},
   "outputs": [],
   "source": [
    "fake_values1 = '!\"#$%&\\'()*+.:;<=>?@[\\\\]^_`{|}~@'\n",
    "fake_values2 = '!\"#$%&\\'()*+,-./:;<=>?@[\\\\]^_`{|}~ 1234567890'\n",
    "tmp1 = allegro_df_test[\"it_location\"].map((lambda v: any(char in v for char in fake_values1)))"
   ]
  },
  {
   "cell_type": "markdown",
   "id": "ec194207",
   "metadata": {},
   "source": [
    "### main_category"
   ]
  },
  {
   "cell_type": "code",
   "execution_count": 52,
   "id": "4532b7ca",
   "metadata": {},
   "outputs": [
    {
     "data": {
      "text/plain": [
       "Dom i Ogród                            23724\n",
       "Odzież, Obuwie, Dodatki                14350\n",
       "Motoryzacja                            13066\n",
       "Dla Dzieci                             11454\n",
       "Sport i Turystyka                       7474\n",
       "Uroda                                   7245\n",
       "RTV i AGD                               5547\n",
       "Telefony i Akcesoria                    5144\n",
       "Komputery                               3694\n",
       "Zdrowie                                 3484\n",
       "Książki i Komiksy                       3328\n",
       "Delikatesy                              2212\n",
       "Rękodzieło                              1871\n",
       "Kolekcje                                1794\n",
       "Przemysł                                1729\n",
       "Biżuteria i Zegarki                     1647\n",
       "Gry                                     1633\n",
       "Biuro i Reklama                          889\n",
       "Fotografia                               706\n",
       "Muzyka                                   573\n",
       "Antyki i Sztuka                          365\n",
       "Filmy                                    276\n",
       "Konsole i automaty                       233\n",
       "Instrumenty                              171\n",
       "Sprzęt estradowy, studyjny i DJ-ski      114\n",
       "Bilety                                    25\n",
       "Name: main_category, dtype: int64"
      ]
     },
     "execution_count": 52,
     "metadata": {},
     "output_type": "execute_result"
    }
   ],
   "source": [
    "allegro_df_test[\"main_category\"].value_counts()"
   ]
  },
  {
   "cell_type": "markdown",
   "id": "9f1ccd33",
   "metadata": {},
   "source": [
    "Cztery najczęstsze kategorie pokrywają się ze zbiorem do budowania. "
   ]
  },
  {
   "cell_type": "markdown",
   "id": "e47c5996",
   "metadata": {},
   "source": [
    "## Braki danych"
   ]
  },
  {
   "cell_type": "markdown",
   "id": "0c74cd40",
   "metadata": {},
   "source": [
    "Wnioski (co do braków danych) z analizy jednowymiarowej pokrywają się:\n",
    "1. Zmienna \"price\" przyjmuje wartości zerowe.\n",
    "2. Zmienna \"it_quanity\" przyjmuje wartości zerowe.\n",
    "3. Zmienna \"it_seller_rating\" przyjmuje wartości ujemne."
   ]
  },
  {
   "cell_type": "markdown",
   "id": "ec62b33f",
   "metadata": {},
   "source": [
    "Podpunkt 4. (Zmienna \"it_location\" zawiera dużo błędnych danych (prawdopodobnie użytkownik mógł ustawić tę wartość na dowolny ciąg charów ASCII) najprawdopodobniej również jest prawdziwy, aczkolwiek nigdzie wcześniej nie jest przedstawiona żadna błędna wartość."
   ]
  },
  {
   "cell_type": "markdown",
   "id": "bcfc61b4",
   "metadata": {},
   "source": [
    "### price"
   ]
  },
  {
   "cell_type": "code",
   "execution_count": 53,
   "id": "4540016d",
   "metadata": {},
   "outputs": [
    {
     "data": {
      "text/plain": [
       "10"
      ]
     },
     "execution_count": 53,
     "metadata": {},
     "output_type": "execute_result"
    }
   ],
   "source": [
    "allegro_df_test[\"price\"].eq(0).sum()"
   ]
  },
  {
   "cell_type": "markdown",
   "id": "c7bbf352",
   "metadata": {},
   "source": [
    "Darmowe przedmioty rzeczywiście wydają się być podejrzane."
   ]
  },
  {
   "cell_type": "code",
   "execution_count": 54,
   "id": "6e15e0d4",
   "metadata": {},
   "outputs": [
    {
     "data": {
      "text/html": [
       "<div>\n",
       "<style scoped>\n",
       "    .dataframe tbody tr th:only-of-type {\n",
       "        vertical-align: middle;\n",
       "    }\n",
       "\n",
       "    .dataframe tbody tr th {\n",
       "        vertical-align: top;\n",
       "    }\n",
       "\n",
       "    .dataframe thead th {\n",
       "        text-align: right;\n",
       "    }\n",
       "</style>\n",
       "<table border=\"1\" class=\"dataframe\">\n",
       "  <thead>\n",
       "    <tr style=\"text-align: right;\">\n",
       "      <th></th>\n",
       "      <th>item_id</th>\n",
       "      <th>categories</th>\n",
       "      <th>pay_option_on_delivery</th>\n",
       "      <th>pay_option_transfer</th>\n",
       "      <th>seller</th>\n",
       "      <th>price</th>\n",
       "      <th>it_is_allegro_standard</th>\n",
       "      <th>it_quantity</th>\n",
       "      <th>it_is_brand_zone</th>\n",
       "      <th>it_seller_rating</th>\n",
       "      <th>it_location</th>\n",
       "      <th>main_category</th>\n",
       "    </tr>\n",
       "  </thead>\n",
       "  <tbody>\n",
       "    <tr>\n",
       "      <th>52921</th>\n",
       "      <td>6087034161</td>\n",
       "      <td>['Odzież, Obuwie, Dodatki', 'Galanteria i doda...</td>\n",
       "      <td>1</td>\n",
       "      <td>1</td>\n",
       "      <td>alleloombard647</td>\n",
       "      <td>0.0</td>\n",
       "      <td>0</td>\n",
       "      <td>0</td>\n",
       "      <td>0</td>\n",
       "      <td>21</td>\n",
       "      <td>Biała Podlaska</td>\n",
       "      <td>Odzież, Obuwie, Dodatki</td>\n",
       "    </tr>\n",
       "    <tr>\n",
       "      <th>54886</th>\n",
       "      <td>6090900154</td>\n",
       "      <td>['Odzież, Obuwie, Dodatki', 'Obuwie', 'Damskie...</td>\n",
       "      <td>0</td>\n",
       "      <td>0</td>\n",
       "      <td>ojanuszczak</td>\n",
       "      <td>0.0</td>\n",
       "      <td>0</td>\n",
       "      <td>0</td>\n",
       "      <td>0</td>\n",
       "      <td>12</td>\n",
       "      <td>Puławy</td>\n",
       "      <td>Odzież, Obuwie, Dodatki</td>\n",
       "    </tr>\n",
       "    <tr>\n",
       "      <th>54902</th>\n",
       "      <td>6093716954</td>\n",
       "      <td>['Sport i Turystyka', 'Rowery i akcesoria', 'R...</td>\n",
       "      <td>1</td>\n",
       "      <td>0</td>\n",
       "      <td>Jaareckii</td>\n",
       "      <td>0.0</td>\n",
       "      <td>0</td>\n",
       "      <td>0</td>\n",
       "      <td>0</td>\n",
       "      <td>34</td>\n",
       "      <td>Zielona Góra</td>\n",
       "      <td>Sport i Turystyka</td>\n",
       "    </tr>\n",
       "    <tr>\n",
       "      <th>91606</th>\n",
       "      <td>6095509255</td>\n",
       "      <td>['Komputery', 'Komputery stacjonarne']</td>\n",
       "      <td>1</td>\n",
       "      <td>1</td>\n",
       "      <td>gigusd</td>\n",
       "      <td>0.0</td>\n",
       "      <td>0</td>\n",
       "      <td>0</td>\n",
       "      <td>0</td>\n",
       "      <td>523</td>\n",
       "      <td>Łobez</td>\n",
       "      <td>Komputery</td>\n",
       "    </tr>\n",
       "    <tr>\n",
       "      <th>94069</th>\n",
       "      <td>6088787851</td>\n",
       "      <td>['Telefony i Akcesoria', 'Telefony komórkowe',...</td>\n",
       "      <td>0</td>\n",
       "      <td>0</td>\n",
       "      <td>Madzitka23</td>\n",
       "      <td>0.0</td>\n",
       "      <td>0</td>\n",
       "      <td>0</td>\n",
       "      <td>0</td>\n",
       "      <td>77</td>\n",
       "      <td>Wągrowiec</td>\n",
       "      <td>Telefony i Akcesoria</td>\n",
       "    </tr>\n",
       "  </tbody>\n",
       "</table>\n",
       "</div>"
      ],
      "text/plain": [
       "          item_id                                         categories  \\\n",
       "52921  6087034161  ['Odzież, Obuwie, Dodatki', 'Galanteria i doda...   \n",
       "54886  6090900154  ['Odzież, Obuwie, Dodatki', 'Obuwie', 'Damskie...   \n",
       "54902  6093716954  ['Sport i Turystyka', 'Rowery i akcesoria', 'R...   \n",
       "91606  6095509255             ['Komputery', 'Komputery stacjonarne']   \n",
       "94069  6088787851  ['Telefony i Akcesoria', 'Telefony komórkowe',...   \n",
       "\n",
       "       pay_option_on_delivery  pay_option_transfer           seller  price  \\\n",
       "52921                       1                    1  alleloombard647    0.0   \n",
       "54886                       0                    0      ojanuszczak    0.0   \n",
       "54902                       1                    0        Jaareckii    0.0   \n",
       "91606                       1                    1           gigusd    0.0   \n",
       "94069                       0                    0       Madzitka23    0.0   \n",
       "\n",
       "       it_is_allegro_standard  it_quantity  it_is_brand_zone  \\\n",
       "52921                       0            0                 0   \n",
       "54886                       0            0                 0   \n",
       "54902                       0            0                 0   \n",
       "91606                       0            0                 0   \n",
       "94069                       0            0                 0   \n",
       "\n",
       "       it_seller_rating     it_location            main_category  \n",
       "52921                21  Biała Podlaska  Odzież, Obuwie, Dodatki  \n",
       "54886                12          Puławy  Odzież, Obuwie, Dodatki  \n",
       "54902                34    Zielona Góra        Sport i Turystyka  \n",
       "91606               523           Łobez                Komputery  \n",
       "94069                77       Wągrowiec     Telefony i Akcesoria  "
      ]
     },
     "execution_count": 54,
     "metadata": {},
     "output_type": "execute_result"
    }
   ],
   "source": [
    "price_zero = allegro_df_test.loc[allegro_df_test[\"price\"] == 0]\n",
    "price_zero.head()"
   ]
  },
  {
   "cell_type": "markdown",
   "id": "a66a1fb5",
   "metadata": {},
   "source": [
    "W tym przypadku rekordy (nie kolumny) najprawdopodobniej można usunąć. Jest ich niewiele i raczej nie wpłyną pozytywnie na jakość modelu."
   ]
  },
  {
   "cell_type": "code",
   "execution_count": 55,
   "id": "1b353193",
   "metadata": {},
   "outputs": [
    {
     "name": "stdout",
     "output_type": "stream",
     "text": [
      "(112738, 12)\n",
      "(112738, 12)\n"
     ]
    },
    {
     "data": {
      "text/html": [
       "<div>\n",
       "<style scoped>\n",
       "    .dataframe tbody tr th:only-of-type {\n",
       "        vertical-align: middle;\n",
       "    }\n",
       "\n",
       "    .dataframe tbody tr th {\n",
       "        vertical-align: top;\n",
       "    }\n",
       "\n",
       "    .dataframe thead th {\n",
       "        text-align: right;\n",
       "    }\n",
       "</style>\n",
       "<table border=\"1\" class=\"dataframe\">\n",
       "  <thead>\n",
       "    <tr style=\"text-align: right;\">\n",
       "      <th></th>\n",
       "      <th>item_id</th>\n",
       "      <th>categories</th>\n",
       "      <th>pay_option_on_delivery</th>\n",
       "      <th>pay_option_transfer</th>\n",
       "      <th>seller</th>\n",
       "      <th>price</th>\n",
       "      <th>it_is_allegro_standard</th>\n",
       "      <th>it_quantity</th>\n",
       "      <th>it_is_brand_zone</th>\n",
       "      <th>it_seller_rating</th>\n",
       "      <th>it_location</th>\n",
       "      <th>main_category</th>\n",
       "    </tr>\n",
       "  </thead>\n",
       "  <tbody>\n",
       "    <tr>\n",
       "      <th>0</th>\n",
       "      <td>4773181874</td>\n",
       "      <td>['Odzież, Obuwie, Dodatki', 'Bielizna damska',...</td>\n",
       "      <td>1</td>\n",
       "      <td>1</td>\n",
       "      <td>InwestycjeNET</td>\n",
       "      <td>4.90</td>\n",
       "      <td>1</td>\n",
       "      <td>9288</td>\n",
       "      <td>0</td>\n",
       "      <td>12428</td>\n",
       "      <td>Warszawa</td>\n",
       "      <td>Odzież, Obuwie, Dodatki</td>\n",
       "    </tr>\n",
       "    <tr>\n",
       "      <th>1</th>\n",
       "      <td>4783971474</td>\n",
       "      <td>['Książki i Komiksy', 'Poradniki i albumy', 'Z...</td>\n",
       "      <td>1</td>\n",
       "      <td>1</td>\n",
       "      <td>Matfel1</td>\n",
       "      <td>18.50</td>\n",
       "      <td>0</td>\n",
       "      <td>971</td>\n",
       "      <td>0</td>\n",
       "      <td>15006</td>\n",
       "      <td>Wola Krzysztoporska</td>\n",
       "      <td>Książki i Komiksy</td>\n",
       "    </tr>\n",
       "    <tr>\n",
       "      <th>2</th>\n",
       "      <td>4790991674</td>\n",
       "      <td>['Odzież, Obuwie, Dodatki', 'Bielizna damska',...</td>\n",
       "      <td>1</td>\n",
       "      <td>1</td>\n",
       "      <td>Noemi-bielizna</td>\n",
       "      <td>10.99</td>\n",
       "      <td>1</td>\n",
       "      <td>742</td>\n",
       "      <td>0</td>\n",
       "      <td>39371</td>\n",
       "      <td>GĄBIN</td>\n",
       "      <td>Odzież, Obuwie, Dodatki</td>\n",
       "    </tr>\n",
       "    <tr>\n",
       "      <th>4</th>\n",
       "      <td>4824025074</td>\n",
       "      <td>['Biżuteria i Zegarki', 'Zegarki', 'Dziecięce']</td>\n",
       "      <td>1</td>\n",
       "      <td>1</td>\n",
       "      <td>handel_barbo</td>\n",
       "      <td>28.99</td>\n",
       "      <td>1</td>\n",
       "      <td>886</td>\n",
       "      <td>0</td>\n",
       "      <td>4287</td>\n",
       "      <td>Legionowo</td>\n",
       "      <td>Biżuteria i Zegarki</td>\n",
       "    </tr>\n",
       "    <tr>\n",
       "      <th>5</th>\n",
       "      <td>4828603874</td>\n",
       "      <td>['RTV i AGD', 'Kamery', 'Zasilanie', 'Zasilacze']</td>\n",
       "      <td>1</td>\n",
       "      <td>1</td>\n",
       "      <td>e-trade-com-pl</td>\n",
       "      <td>45.00</td>\n",
       "      <td>1</td>\n",
       "      <td>4</td>\n",
       "      <td>0</td>\n",
       "      <td>15561</td>\n",
       "      <td>Warszawa</td>\n",
       "      <td>RTV i AGD</td>\n",
       "    </tr>\n",
       "  </tbody>\n",
       "</table>\n",
       "</div>"
      ],
      "text/plain": [
       "      item_id                                         categories  \\\n",
       "0  4773181874  ['Odzież, Obuwie, Dodatki', 'Bielizna damska',...   \n",
       "1  4783971474  ['Książki i Komiksy', 'Poradniki i albumy', 'Z...   \n",
       "2  4790991674  ['Odzież, Obuwie, Dodatki', 'Bielizna damska',...   \n",
       "4  4824025074    ['Biżuteria i Zegarki', 'Zegarki', 'Dziecięce']   \n",
       "5  4828603874  ['RTV i AGD', 'Kamery', 'Zasilanie', 'Zasilacze']   \n",
       "\n",
       "   pay_option_on_delivery  pay_option_transfer          seller  price  \\\n",
       "0                       1                    1   InwestycjeNET   4.90   \n",
       "1                       1                    1         Matfel1  18.50   \n",
       "2                       1                    1  Noemi-bielizna  10.99   \n",
       "4                       1                    1    handel_barbo  28.99   \n",
       "5                       1                    1  e-trade-com-pl  45.00   \n",
       "\n",
       "   it_is_allegro_standard  it_quantity  it_is_brand_zone  it_seller_rating  \\\n",
       "0                       1         9288                 0             12428   \n",
       "1                       0          971                 0             15006   \n",
       "2                       1          742                 0             39371   \n",
       "4                       1          886                 0              4287   \n",
       "5                       1            4                 0             15561   \n",
       "\n",
       "           it_location            main_category  \n",
       "0             Warszawa  Odzież, Obuwie, Dodatki  \n",
       "1  Wola Krzysztoporska        Książki i Komiksy  \n",
       "2                GĄBIN  Odzież, Obuwie, Dodatki  \n",
       "4            Legionowo      Biżuteria i Zegarki  \n",
       "5             Warszawa                RTV i AGD  "
      ]
     },
     "execution_count": 55,
     "metadata": {},
     "output_type": "execute_result"
    }
   ],
   "source": [
    "allegro_df_test_fixed = allegro_df_test[allegro_df_test.price != 0]\n",
    "print(allegro_df_test_fixed.shape)\n",
    "print(allegro_df_test_fixed.shape)\n",
    "allegro_df_test_fixed.head()"
   ]
  },
  {
   "cell_type": "markdown",
   "id": "6e1f1cbb",
   "metadata": {},
   "source": [
    "Uzasadnienie usunięcia danych pokrywa się z wnioskami budowniczych. Tutaj jednak można kłócić się z miejscem usuwania rekordów - a konkretniej przypisywania ich do nowej tabelki, podczas gdy dalsze braki danych wykrywane są na podstawie starej."
   ]
  },
  {
   "cell_type": "markdown",
   "id": "548f901a",
   "metadata": {},
   "source": [
    "### it_quantity"
   ]
  },
  {
   "cell_type": "markdown",
   "id": "c3c04ed8",
   "metadata": {},
   "source": [
    "Budowniczowie zdecydowali się na powtórzenie w tym miejscu analizy jednoczynnikowej dla tej zmiennej."
   ]
  },
  {
   "cell_type": "code",
   "execution_count": 56,
   "id": "ada6a975",
   "metadata": {},
   "outputs": [
    {
     "data": {
      "text/plain": [
       "17926"
      ]
     },
     "execution_count": 56,
     "metadata": {},
     "output_type": "execute_result"
    }
   ],
   "source": [
    "allegro_df_test[\"it_quantity\"].eq(0).sum()"
   ]
  },
  {
   "cell_type": "code",
   "execution_count": 57,
   "id": "5a03d619",
   "metadata": {},
   "outputs": [
    {
     "data": {
      "text/plain": [
       "94"
      ]
     },
     "execution_count": 57,
     "metadata": {},
     "output_type": "execute_result"
    }
   ],
   "source": [
    "allegro_df_test[\"it_quantity\"].eq(99999).sum()"
   ]
  },
  {
   "cell_type": "code",
   "execution_count": 58,
   "id": "868af3f9",
   "metadata": {},
   "outputs": [
    {
     "data": {
      "text/plain": [
       "0        17926\n",
       "1         3275\n",
       "2         2462\n",
       "3         2166\n",
       "4         2002\n",
       "         ...  \n",
       "88177        1\n",
       "9345         1\n",
       "96371        1\n",
       "48504        1\n",
       "30024        1\n",
       "Name: it_quantity, Length: 5425, dtype: int64"
      ]
     },
     "execution_count": 58,
     "metadata": {},
     "output_type": "execute_result"
    }
   ],
   "source": [
    "allegro_df_test[\"it_quantity\"].value_counts()"
   ]
  },
  {
   "cell_type": "markdown",
   "id": "c03b3a08",
   "metadata": {},
   "source": [
    "Zgadzamy się jednak z analizą tych danych oraz ścieżką obraną przez budowniczych. 0 może być domyślną watrością a rekordów jest za dużo na ich usunięcie. Zamiana 0 na 1 jest jednak podejrzana. Możliwe że rekordy te reprezentują jakieś ogłoszenia na allegro, wtedy jest to zupełnie inna klasa ofert. Zmiana 0 na 1 może wpływać negatywnie na jakość modelu."
   ]
  },
  {
   "cell_type": "code",
   "execution_count": 59,
   "id": "28d68720",
   "metadata": {
    "scrolled": true
   },
   "outputs": [
    {
     "data": {
      "text/html": [
       "<div>\n",
       "<style scoped>\n",
       "    .dataframe tbody tr th:only-of-type {\n",
       "        vertical-align: middle;\n",
       "    }\n",
       "\n",
       "    .dataframe tbody tr th {\n",
       "        vertical-align: top;\n",
       "    }\n",
       "\n",
       "    .dataframe thead th {\n",
       "        text-align: right;\n",
       "    }\n",
       "</style>\n",
       "<table border=\"1\" class=\"dataframe\">\n",
       "  <thead>\n",
       "    <tr style=\"text-align: right;\">\n",
       "      <th></th>\n",
       "      <th>item_id</th>\n",
       "      <th>categories</th>\n",
       "      <th>pay_option_on_delivery</th>\n",
       "      <th>pay_option_transfer</th>\n",
       "      <th>seller</th>\n",
       "      <th>price</th>\n",
       "      <th>it_is_allegro_standard</th>\n",
       "      <th>it_quantity</th>\n",
       "      <th>it_is_brand_zone</th>\n",
       "      <th>it_seller_rating</th>\n",
       "      <th>it_location</th>\n",
       "      <th>main_category</th>\n",
       "    </tr>\n",
       "  </thead>\n",
       "  <tbody>\n",
       "    <tr>\n",
       "      <th>0</th>\n",
       "      <td>4773181874</td>\n",
       "      <td>['Odzież, Obuwie, Dodatki', 'Bielizna damska',...</td>\n",
       "      <td>1</td>\n",
       "      <td>1</td>\n",
       "      <td>InwestycjeNET</td>\n",
       "      <td>4.90</td>\n",
       "      <td>1</td>\n",
       "      <td>9288</td>\n",
       "      <td>0</td>\n",
       "      <td>12428</td>\n",
       "      <td>Warszawa</td>\n",
       "      <td>Odzież, Obuwie, Dodatki</td>\n",
       "    </tr>\n",
       "    <tr>\n",
       "      <th>1</th>\n",
       "      <td>4783971474</td>\n",
       "      <td>['Książki i Komiksy', 'Poradniki i albumy', 'Z...</td>\n",
       "      <td>1</td>\n",
       "      <td>1</td>\n",
       "      <td>Matfel1</td>\n",
       "      <td>18.50</td>\n",
       "      <td>0</td>\n",
       "      <td>971</td>\n",
       "      <td>0</td>\n",
       "      <td>15006</td>\n",
       "      <td>Wola Krzysztoporska</td>\n",
       "      <td>Książki i Komiksy</td>\n",
       "    </tr>\n",
       "    <tr>\n",
       "      <th>2</th>\n",
       "      <td>4790991674</td>\n",
       "      <td>['Odzież, Obuwie, Dodatki', 'Bielizna damska',...</td>\n",
       "      <td>1</td>\n",
       "      <td>1</td>\n",
       "      <td>Noemi-bielizna</td>\n",
       "      <td>10.99</td>\n",
       "      <td>1</td>\n",
       "      <td>742</td>\n",
       "      <td>0</td>\n",
       "      <td>39371</td>\n",
       "      <td>GĄBIN</td>\n",
       "      <td>Odzież, Obuwie, Dodatki</td>\n",
       "    </tr>\n",
       "    <tr>\n",
       "      <th>4</th>\n",
       "      <td>4824025074</td>\n",
       "      <td>['Biżuteria i Zegarki', 'Zegarki', 'Dziecięce']</td>\n",
       "      <td>1</td>\n",
       "      <td>1</td>\n",
       "      <td>handel_barbo</td>\n",
       "      <td>28.99</td>\n",
       "      <td>1</td>\n",
       "      <td>886</td>\n",
       "      <td>0</td>\n",
       "      <td>4287</td>\n",
       "      <td>Legionowo</td>\n",
       "      <td>Biżuteria i Zegarki</td>\n",
       "    </tr>\n",
       "    <tr>\n",
       "      <th>5</th>\n",
       "      <td>4828603874</td>\n",
       "      <td>['RTV i AGD', 'Kamery', 'Zasilanie', 'Zasilacze']</td>\n",
       "      <td>1</td>\n",
       "      <td>1</td>\n",
       "      <td>e-trade-com-pl</td>\n",
       "      <td>45.00</td>\n",
       "      <td>1</td>\n",
       "      <td>4</td>\n",
       "      <td>0</td>\n",
       "      <td>15561</td>\n",
       "      <td>Warszawa</td>\n",
       "      <td>RTV i AGD</td>\n",
       "    </tr>\n",
       "  </tbody>\n",
       "</table>\n",
       "</div>"
      ],
      "text/plain": [
       "      item_id                                         categories  \\\n",
       "0  4773181874  ['Odzież, Obuwie, Dodatki', 'Bielizna damska',...   \n",
       "1  4783971474  ['Książki i Komiksy', 'Poradniki i albumy', 'Z...   \n",
       "2  4790991674  ['Odzież, Obuwie, Dodatki', 'Bielizna damska',...   \n",
       "4  4824025074    ['Biżuteria i Zegarki', 'Zegarki', 'Dziecięce']   \n",
       "5  4828603874  ['RTV i AGD', 'Kamery', 'Zasilanie', 'Zasilacze']   \n",
       "\n",
       "   pay_option_on_delivery  pay_option_transfer          seller  price  \\\n",
       "0                       1                    1   InwestycjeNET   4.90   \n",
       "1                       1                    1         Matfel1  18.50   \n",
       "2                       1                    1  Noemi-bielizna  10.99   \n",
       "4                       1                    1    handel_barbo  28.99   \n",
       "5                       1                    1  e-trade-com-pl  45.00   \n",
       "\n",
       "   it_is_allegro_standard  it_quantity  it_is_brand_zone  it_seller_rating  \\\n",
       "0                       1         9288                 0             12428   \n",
       "1                       0          971                 0             15006   \n",
       "2                       1          742                 0             39371   \n",
       "4                       1          886                 0              4287   \n",
       "5                       1            4                 0             15561   \n",
       "\n",
       "           it_location            main_category  \n",
       "0             Warszawa  Odzież, Obuwie, Dodatki  \n",
       "1  Wola Krzysztoporska        Książki i Komiksy  \n",
       "2                GĄBIN  Odzież, Obuwie, Dodatki  \n",
       "4            Legionowo      Biżuteria i Zegarki  \n",
       "5             Warszawa                RTV i AGD  "
      ]
     },
     "execution_count": 59,
     "metadata": {},
     "output_type": "execute_result"
    }
   ],
   "source": [
    "allegro_df_test_fixed.loc[allegro_df_test_fixed[\"it_quantity\"] == 0, \"it_quantity\"] = 1\n",
    "allegro_df_test_fixed.head()"
   ]
  },
  {
   "cell_type": "code",
   "execution_count": 60,
   "id": "909d9b60",
   "metadata": {},
   "outputs": [
    {
     "data": {
      "text/plain": [
       "1        21191\n",
       "2         2462\n",
       "3         2166\n",
       "4         2002\n",
       "9         1576\n",
       "         ...  \n",
       "2687         1\n",
       "97759        1\n",
       "8909         1\n",
       "8459         1\n",
       "30024        1\n",
       "Name: it_quantity, Length: 5424, dtype: int64"
      ]
     },
     "execution_count": 60,
     "metadata": {},
     "output_type": "execute_result"
    }
   ],
   "source": [
    "allegro_df_test_fixed[\"it_quantity\"].value_counts()"
   ]
  },
  {
   "cell_type": "markdown",
   "id": "8a69d59b",
   "metadata": {},
   "source": [
    "### it_seller_rating"
   ]
  },
  {
   "cell_type": "code",
   "execution_count": 61,
   "id": "1203ee23",
   "metadata": {},
   "outputs": [
    {
     "data": {
      "text/plain": [
       "1"
      ]
     },
     "execution_count": 61,
     "metadata": {},
     "output_type": "execute_result"
    }
   ],
   "source": [
    "allegro_df_test[\"it_seller_rating\"].lt(0).sum()"
   ]
  },
  {
   "cell_type": "markdown",
   "id": "e206b4fa",
   "metadata": {},
   "source": [
    "W naszym zbiorze występuje tylko 1 rekord o wartości -1. Jeśli nie jesteśmy w stanie zinterpretować tej wartości, najlepiej będzie ją usunąć."
   ]
  },
  {
   "cell_type": "code",
   "execution_count": 62,
   "id": "5f231b9e",
   "metadata": {},
   "outputs": [
    {
     "data": {
      "text/plain": [
       "count    112738.000000\n",
       "mean      19379.993117\n",
       "std       35538.649554\n",
       "min           0.000000\n",
       "25%        1526.000000\n",
       "50%        6420.000000\n",
       "75%       20119.000000\n",
       "max      292074.000000\n",
       "Name: it_seller_rating, dtype: float64"
      ]
     },
     "execution_count": 62,
     "metadata": {},
     "output_type": "execute_result"
    }
   ],
   "source": [
    "allegro_df_test_fixed.loc[allegro_df_test_fixed[\"it_seller_rating\"].lt(0), \"it_seller_rating\"] = 0\n",
    "allegro_df_test_fixed[\"it_seller_rating\"].describe()"
   ]
  },
  {
   "cell_type": "markdown",
   "id": "d1bcf88f",
   "metadata": {},
   "source": [
    "### it_location"
   ]
  },
  {
   "cell_type": "code",
   "execution_count": 63,
   "id": "acdac552",
   "metadata": {},
   "outputs": [
    {
     "name": "stdout",
     "output_type": "stream",
     "text": [
      "555\n",
      "555\n",
      "559\n"
     ]
    }
   ],
   "source": [
    "allegro_df_test_fixed[\"it_location_raw\"] = allegro_df_test_fixed['it_location'].str.replace('[^\\w\\s]','')\n",
    "print((allegro_df_test_fixed.it_location_raw == \"\").sum())\n",
    "allegro_df_test_fixed.it_location_raw = allegro_df_test_fixed.it_location_raw.str.replace(' ', '')\n",
    "print((allegro_df_test_fixed.it_location_raw == \"\").sum())\n",
    "allegro_df_test_fixed.it_location_raw = allegro_df_test_fixed.it_location_raw.str.replace('\\d+', '')\n",
    "print((allegro_df_test_fixed.it_location_raw == \"\").sum())"
   ]
  },
  {
   "cell_type": "markdown",
   "id": "8835d415",
   "metadata": {},
   "source": [
    "Sam pomysł wypisywania liczby \"uszkodzonych\" danych jest dobry, wypisywanie jej jednak przy każdym przekształceniu jest trochę mylące. Nie popieramy również usuwania tych rekordów. Lepszym rozwiązaniem byłoby stworzenie nowej wartości typu \"brak\"."
   ]
  },
  {
   "cell_type": "code",
   "execution_count": 64,
   "id": "3db3ae06",
   "metadata": {},
   "outputs": [
    {
     "name": "stdout",
     "output_type": "stream",
     "text": [
      "(112738, 13)\n",
      "(112179, 13)\n"
     ]
    }
   ],
   "source": [
    "print(allegro_df_test_fixed.shape)\n",
    "allegro_df_test_fixed = allegro_df_test_fixed[allegro_df_test_fixed.it_location_raw != \"\"]\n",
    "print(allegro_df_test_fixed.shape)"
   ]
  },
  {
   "cell_type": "markdown",
   "id": "7e0b2f44",
   "metadata": {},
   "source": [
    "## Przekształcanie zmiennych ciągłych na kategoryczne"
   ]
  },
  {
   "cell_type": "markdown",
   "id": "dc001c81",
   "metadata": {},
   "source": [
    "### Zakodowanie zmiennej celu"
   ]
  },
  {
   "cell_type": "code",
   "execution_count": 65,
   "id": "34b53845",
   "metadata": {
    "scrolled": false
   },
   "outputs": [
    {
     "data": {
      "image/png": "[encoded data removed]",
      "text/plain": [
       "<Figure size 1080x360 with 1 Axes>"
      ]
     },
     "metadata": {
      "needs_background": "light"
     },
     "output_type": "display_data"
    }
   ],
   "source": [
    "allegro_df[\"price\"].hist(bins = 100, figsize = (15, 5))\n",
    "plt.yscale('log')\n",
    "plt.show()"
   ]
  },
  {
   "cell_type": "markdown",
   "id": "6ff8236c",
   "metadata": {},
   "source": [
    "Patrząc na rozkład zmiennej price logicznym wydaje się podział zmiennej na kategorie:\n",
    " - \"tanio\" - jeśli price <= 1500\n",
    " - \"przeciętna cena\" - jeśli 1500 < price <= 3000\n",
    " - \"drogo\" w przeciwnym wypadku"
   ]
  },
  {
   "cell_type": "markdown",
   "id": "29923b95",
   "metadata": {},
   "source": [
    " Taki podział wydaje się być bardziej pasujący niż podział na kwantyle. Budujący zdecydowali się jednak na kwantyle."
   ]
  },
  {
   "cell_type": "code",
   "execution_count": 66,
   "id": "5d76ac75",
   "metadata": {},
   "outputs": [],
   "source": [
    "allegro_df_test_fixed['priceEncoded']=pd.qcut(allegro_df_test_fixed['price'], q=3,labels=False)"
   ]
  },
  {
   "cell_type": "markdown",
   "id": "2e2d245d",
   "metadata": {},
   "source": [
    "### Zakodowanie it_seller_rating i it_quantity"
   ]
  },
  {
   "cell_type": "code",
   "execution_count": 67,
   "id": "e7e726bb",
   "metadata": {},
   "outputs": [
    {
     "data": {
      "image/png": "[encoded data removed]",
      "text/plain": [
       "<Figure size 1080x360 with 1 Axes>"
      ]
     },
     "metadata": {
      "needs_background": "light"
     },
     "output_type": "display_data"
    }
   ],
   "source": [
    "allegro_df[\"it_seller_rating\"].hist(bins = 50, figsize = (15, 5))\n",
    "plt.yscale('log')\n",
    "plt.show()"
   ]
  },
  {
   "cell_type": "code",
   "execution_count": 68,
   "id": "b574e698",
   "metadata": {},
   "outputs": [
    {
     "data": {
      "image/png": "[encoded data removed]",
      "text/plain": [
       "<Figure size 1080x360 with 1 Axes>"
      ]
     },
     "metadata": {
      "needs_background": "light"
     },
     "output_type": "display_data"
    }
   ],
   "source": [
    "allegro_df[\"it_quantity\"].hist(bins = 30, figsize = (15, 5))\n",
    "plt.yscale('log')\n",
    "plt.show()"
   ]
  },
  {
   "cell_type": "markdown",
   "id": "3664c39f",
   "metadata": {},
   "source": [
    "Budowniczowie ponownie zdecydowali się na podział wartości na kwantyle."
   ]
  },
  {
   "cell_type": "code",
   "execution_count": 69,
   "id": "5920593f",
   "metadata": {},
   "outputs": [],
   "source": [
    "allegro_df_test_fixed['it_quantityEncoded'] = pd.qcut(allegro_df_test_fixed['it_quantity'], q=5,labels=False)\n",
    "allegro_df_test_fixed['it_seller_ratingEncoded'] = pd.qcut(allegro_df_test_fixed['it_seller_rating'], q=5,labels=False)"
   ]
  },
  {
   "cell_type": "markdown",
   "id": "4e2237fb",
   "metadata": {},
   "source": [
    "## Zakodowanie zmiennych kategorycznych"
   ]
  },
  {
   "cell_type": "markdown",
   "id": "d9d2e1d4",
   "metadata": {},
   "source": [
    "### main_category i categories"
   ]
  },
  {
   "cell_type": "markdown",
   "id": "7df8b86e",
   "metadata": {},
   "source": [
    "Ze zmiennej categories wyciągnięto drugą kategorię. Główna i druga kategoria zostały najpierw przetransformowane w mediany z ceny w danej kategorii a następnie zakodowane na podstawie kwantyli. Rozwiązanie wydaje się ciekawe, jednak należy przy tym zapamiętywać mediany, używanych do danych kategorii, czego budowniczy nie zrobili. Mamy teraz więcej pracy, aby je wyciągnąć, żeby móc odpowiednio przekształcić dane do walidacji. Byłoby to uciążliwe przy już wytrenowanym modelu."
   ]
  },
  {
   "cell_type": "code",
   "execution_count": 70,
   "id": "056f3fbe",
   "metadata": {},
   "outputs": [],
   "source": [
    "import ast\n",
    "mainCategories = []\n",
    "Categories2 = []\n",
    "for cat in allegro_df_test_fixed['categories']:\n",
    "    listka = ast.literal_eval(cat)\n",
    "    mainCategories.append(listka[0])\n",
    "    Categories2.append(listka[1])\n",
    "allegro_df_test_fixed['second_category'] = Categories2\n",
    "\n",
    "mainCategories = []\n",
    "Categories2 = []\n",
    "for cat in allegro_df['categories']:\n",
    "    listka = ast.literal_eval(cat)\n",
    "    mainCategories.append(listka[0])\n",
    "    Categories2.append(listka[1])\n",
    "allegro_df['second_category'] = Categories2"
   ]
  },
  {
   "cell_type": "code",
   "execution_count": 71,
   "id": "aee35f16",
   "metadata": {},
   "outputs": [],
   "source": [
    "median_encode = allegro_df.groupby('main_category')['price'].median()\n",
    "median_encode2 = allegro_df.groupby('second_category')['price'].median()\n",
    "allegro_df_test_fixed.loc[:,'main_categoryMedian'] = allegro_df_test_fixed['main_category'].map(median_encode)\n",
    "allegro_df_test_fixed['main_categoryEncoded']=pd.qcut(allegro_df_test_fixed['main_categoryMedian'], q=5,labels=False)\n",
    "allegro_df_test_fixed.loc[:,'second_categoryMedian'] = allegro_df_test_fixed['second_category'].map(median_encode2)\n",
    "allegro_df_test_fixed['second_categoryEncoded']=pd.qcut(allegro_df_test_fixed['second_categoryMedian'], q=5,labels=False)"
   ]
  },
  {
   "cell_type": "markdown",
   "id": "0859af82",
   "metadata": {},
   "source": [
    "### seller"
   ]
  },
  {
   "cell_type": "markdown",
   "id": "b2a0c34d",
   "metadata": {},
   "source": [
    "Budowniczowie postanowili pozbyć, się tej kolumny. W daleszej części walidcaji sprawdzimy, czy był to błąd"
   ]
  },
  {
   "cell_type": "markdown",
   "id": "9ab7e12f",
   "metadata": {},
   "source": [
    "### It_location"
   ]
  },
  {
   "cell_type": "markdown",
   "id": "574442ac",
   "metadata": {},
   "source": [
    "Tutaj budowniczowie postanowili zgrupować lokalizacje po miastach. Połączyli większe miasta w Polsce w grupy i wrzucili  mniej popularne lokalizacje do grupy 'Others'"
   ]
  },
  {
   "cell_type": "code",
   "execution_count": 72,
   "id": "4da140b0",
   "metadata": {},
   "outputs": [],
   "source": [
    "allegro_df_test_fixed.loc[allegro_df_test_fixed[\"it_location\"] == \"WARSZAWA\", \"it_location\"] = \"Warszawa\"\n",
    "allegro_df_test_fixed.loc[allegro_df_test_fixed[\"it_location\"] == \"warszawa\", \"it_location\"] = \"Warszawa\"\n",
    "allegro_df_test_fixed.loc[allegro_df_test_fixed[\"it_location\"] == \"Warszawa/ Sprzedaż tylko wysyłkowa\", \"it_location\"] = \"Warszawa\"\n",
    "\n",
    "allegro_df_test_fixed.loc[allegro_df_test_fixed[\"it_location\"] == \"KRAKÓW\", \"it_location\"] = \"Kraków\"\n",
    "allegro_df_test_fixed.loc[allegro_df_test_fixed[\"it_location\"] == \"kraków\", \"it_location\"] = \"Kraków\"\n",
    "allegro_df_test_fixed.loc[allegro_df_test_fixed[\"it_location\"] == \"Kraków al. Słowackiego 40/1\", \"it_location\"] = \"Kraków\"\n",
    "allegro_df_test_fixed.loc[allegro_df_test_fixed[\"it_location\"] == \"Krakow\", \"it_location\"] = \"Kraków\"\n",
    "allegro_df_test_fixed.loc[allegro_df_test_fixed[\"it_location\"] == \"krakow\", \"it_location\"] = \"Kraków\"\n",
    "allegro_df_test_fixed.loc[allegro_df_test_fixed[\"it_location\"] == \"KRAKOW\", \"it_location\"] = \"Kraków\"\n",
    "\n",
    "allegro_df_test_fixed.loc[allegro_df_test_fixed[\"it_location\"] == \"ŁÓDŹ\", \"it_location\"] = \"Łódź\"\n",
    "allegro_df_test_fixed.loc[allegro_df_test_fixed[\"it_location\"] == \"łódź\", \"it_location\"] = \"Łódź\"\n",
    "allegro_df_test_fixed.loc[allegro_df_test_fixed[\"it_location\"] == \"lodz\", \"it_location\"] = \"Łódź\"\n",
    "allegro_df_test_fixed.loc[allegro_df_test_fixed[\"it_location\"] == \"Lodz\", \"it_location\"] = \"Łódź\"\n",
    "allegro_df_test_fixed.loc[allegro_df_test_fixed[\"it_location\"] == \"LODZ\", \"it_location\"] = \"Łódź\"\n",
    "\n",
    "allegro_df_test_fixed.loc[allegro_df_test_fixed[\"it_location\"] == \"POZNAŃ\", \"it_location\"] = \"Poznań\"\n",
    "allegro_df_test_fixed.loc[allegro_df_test_fixed[\"it_location\"] == \"poznan\", \"it_location\"] = \"Poznań\"\n",
    "allegro_df_test_fixed.loc[allegro_df_test_fixed[\"it_location\"] == \"Poznan\", \"it_location\"] = \"Poznań\"\n",
    "allegro_df_test_fixed.loc[allegro_df_test_fixed[\"it_location\"] == \"poznań\", \"it_location\"] = \"Poznań\"\n",
    "allegro_df_test_fixed.loc[allegro_df_test_fixed[\"it_location\"] == \"Poznań, ul. Obornicka 337\", \"it_location\"] = \"Poznań\"\n",
    "\n",
    "allegro_df_test_fixed.loc[allegro_df_test_fixed[\"it_location\"] == \"WROCŁAW\", \"it_location\"] = \"Wrocław\"\n",
    "allegro_df_test_fixed.loc[allegro_df_test_fixed[\"it_location\"] == \"wrocław\", \"it_location\"] = \"Wrocław\"\n",
    "allegro_df_test_fixed.loc[allegro_df_test_fixed[\"it_location\"] == \"wroclaw\", \"it_location\"] = \"Wrocław\"\n",
    "allegro_df_test_fixed.loc[allegro_df_test_fixed[\"it_location\"] == \"Wroclaw\", \"it_location\"] = \"Wrocław\"\n",
    "allegro_df_test_fixed.loc[allegro_df_test_fixed[\"it_location\"] == \"WROCLAW\", \"it_location\"] = \"Wrocław\"\n",
    "\n",
    "allegro_df_test_fixed.loc[~allegro_df_test_fixed.it_location.isin([\"Warszawa\", \"Wrocław\", \"Łódź\", \"Kraków\", \"Poznań\"]), \"it_location\"] = \"Other\""
   ]
  },
  {
   "cell_type": "code",
   "execution_count": 73,
   "id": "ab65feb9",
   "metadata": {},
   "outputs": [
    {
     "data": {
      "text/plain": [
       "Other       91012\n",
       "Warszawa     7424\n",
       "Kraków       4652\n",
       "Łódź         3325\n",
       "Poznań       2973\n",
       "Wrocław      2793\n",
       "Name: it_location, dtype: int64"
      ]
     },
     "execution_count": 73,
     "metadata": {},
     "output_type": "execute_result"
    }
   ],
   "source": [
    "allegro_df_test_fixed[\"it_location\"].value_counts()"
   ]
  },
  {
   "cell_type": "markdown",
   "id": "1babd2d7",
   "metadata": {},
   "source": [
    "Problemem zapewne będzie przeważający udział klasy 'Other'."
   ]
  },
  {
   "cell_type": "code",
   "execution_count": 74,
   "id": "ce311636",
   "metadata": {},
   "outputs": [
    {
     "data": {
      "text/plain": [
       "0.811310494834149"
      ]
     },
     "execution_count": 74,
     "metadata": {},
     "output_type": "execute_result"
    }
   ],
   "source": [
    "allegro_df_test_fixed[\"it_location\"].value_counts()[allegro_df_test_fixed[\"it_location\"].value_counts().index.tolist()[0]]/allegro_df_test_fixed[\"it_location\"].value_counts().sum()"
   ]
  },
  {
   "cell_type": "markdown",
   "id": "abb1cee3",
   "metadata": {},
   "source": [
    "Ponad 80% rekordów otrzymało kategorię 'Other'."
   ]
  },
  {
   "cell_type": "markdown",
   "id": "08fb603d",
   "metadata": {},
   "source": [
    "Następnie zostało przeprowadzone kodowanie label_encoderem"
   ]
  },
  {
   "cell_type": "code",
   "execution_count": 75,
   "id": "167716d7",
   "metadata": {},
   "outputs": [
    {
     "name": "stdout",
     "output_type": "stream",
     "text": [
      "Requirement already satisfied: category_encoders in c:\\users\\piotr\\appdata\\local\\packages\\pythonsoftwarefoundation.python.3.9_qbz5n2kfra8p0\\localcache\\local-packages\\python39\\site-packages (2.4.0)\n",
      "Requirement already satisfied: scikit-learn>=0.20.0 in c:\\users\\piotr\\appdata\\local\\packages\\pythonsoftwarefoundation.python.3.9_qbz5n2kfra8p0\\localcache\\local-packages\\python39\\site-packages (from category_encoders) (1.0.2)\n",
      "Requirement already satisfied: scipy>=1.0.0 in c:\\users\\piotr\\appdata\\local\\packages\\pythonsoftwarefoundation.python.3.9_qbz5n2kfra8p0\\localcache\\local-packages\\python39\\site-packages (from category_encoders) (1.8.0)\n",
      "Requirement already satisfied: numpy>=1.14.0 in c:\\users\\piotr\\appdata\\local\\packages\\pythonsoftwarefoundation.python.3.9_qbz5n2kfra8p0\\localcache\\local-packages\\python39\\site-packages (from category_encoders) (1.22.2)\n",
      "Requirement already satisfied: patsy>=0.5.1 in c:\\users\\piotr\\appdata\\local\\packages\\pythonsoftwarefoundation.python.3.9_qbz5n2kfra8p0\\localcache\\local-packages\\python39\\site-packages (from category_encoders) (0.5.2)\n",
      "Requirement already satisfied: statsmodels>=0.9.0 in c:\\users\\piotr\\appdata\\local\\packages\\pythonsoftwarefoundation.python.3.9_qbz5n2kfra8p0\\localcache\\local-packages\\python39\\site-packages (from category_encoders) (0.13.2)\n",
      "Requirement already satisfied: pandas>=0.21.1 in c:\\users\\piotr\\appdata\\local\\packages\\pythonsoftwarefoundation.python.3.9_qbz5n2kfra8p0\\localcache\\local-packages\\python39\\site-packages (from category_encoders) (1.3.5)\n",
      "Requirement already satisfied: python-dateutil>=2.7.3 in c:\\users\\piotr\\appdata\\local\\packages\\pythonsoftwarefoundation.python.3.9_qbz5n2kfra8p0\\localcache\\local-packages\\python39\\site-packages (from pandas>=0.21.1->category_encoders) (2.8.2)\n",
      "Requirement already satisfied: pytz>=2017.3 in c:\\users\\piotr\\appdata\\local\\packages\\pythonsoftwarefoundation.python.3.9_qbz5n2kfra8p0\\localcache\\local-packages\\python39\\site-packages (from pandas>=0.21.1->category_encoders) (2021.3)\n",
      "Requirement already satisfied: six in c:\\users\\piotr\\appdata\\local\\packages\\pythonsoftwarefoundation.python.3.9_qbz5n2kfra8p0\\localcache\\local-packages\\python39\\site-packages (from patsy>=0.5.1->category_encoders) (1.16.0)\n",
      "Requirement already satisfied: threadpoolctl>=2.0.0 in c:\\users\\piotr\\appdata\\local\\packages\\pythonsoftwarefoundation.python.3.9_qbz5n2kfra8p0\\localcache\\local-packages\\python39\\site-packages (from scikit-learn>=0.20.0->category_encoders) (3.1.0)\n",
      "Requirement already satisfied: joblib>=0.11 in c:\\users\\piotr\\appdata\\local\\packages\\pythonsoftwarefoundation.python.3.9_qbz5n2kfra8p0\\localcache\\local-packages\\python39\\site-packages (from scikit-learn>=0.20.0->category_encoders) (1.0.1)\n",
      "Requirement already satisfied: packaging>=21.3 in c:\\users\\piotr\\appdata\\local\\packages\\pythonsoftwarefoundation.python.3.9_qbz5n2kfra8p0\\localcache\\local-packages\\python39\\site-packages (from statsmodels>=0.9.0->category_encoders) (21.3)\n",
      "Requirement already satisfied: pyparsing!=3.0.5,>=2.0.2 in c:\\users\\piotr\\appdata\\local\\packages\\pythonsoftwarefoundation.python.3.9_qbz5n2kfra8p0\\localcache\\local-packages\\python39\\site-packages (from packaging>=21.3->statsmodels>=0.9.0->category_encoders) (3.0.7)\n"
     ]
    },
    {
     "name": "stderr",
     "output_type": "stream",
     "text": [
      "WARNING: You are using pip version 22.0.3; however, version 22.0.4 is available.\n",
      "You should consider upgrading via the 'C:\\Users\\piotr\\AppData\\Local\\Microsoft\\WindowsApps\\PythonSoftwareFoundation.Python.3.9_qbz5n2kfra8p0\\python.exe -m pip install --upgrade pip' command.\n"
     ]
    },
    {
     "data": {
      "text/html": [
       "<div>\n",
       "<style scoped>\n",
       "    .dataframe tbody tr th:only-of-type {\n",
       "        vertical-align: middle;\n",
       "    }\n",
       "\n",
       "    .dataframe tbody tr th {\n",
       "        vertical-align: top;\n",
       "    }\n",
       "\n",
       "    .dataframe thead th {\n",
       "        text-align: right;\n",
       "    }\n",
       "</style>\n",
       "<table border=\"1\" class=\"dataframe\">\n",
       "  <thead>\n",
       "    <tr style=\"text-align: right;\">\n",
       "      <th></th>\n",
       "      <th>item_id</th>\n",
       "      <th>categories</th>\n",
       "      <th>pay_option_on_delivery</th>\n",
       "      <th>pay_option_transfer</th>\n",
       "      <th>seller</th>\n",
       "      <th>price</th>\n",
       "      <th>it_is_allegro_standard</th>\n",
       "      <th>it_quantity</th>\n",
       "      <th>it_is_brand_zone</th>\n",
       "      <th>it_seller_rating</th>\n",
       "      <th>...</th>\n",
       "      <th>main_category</th>\n",
       "      <th>it_location_raw</th>\n",
       "      <th>priceEncoded</th>\n",
       "      <th>it_quantityEncoded</th>\n",
       "      <th>it_seller_ratingEncoded</th>\n",
       "      <th>second_category</th>\n",
       "      <th>main_categoryMedian</th>\n",
       "      <th>main_categoryEncoded</th>\n",
       "      <th>second_categoryMedian</th>\n",
       "      <th>second_categoryEncoded</th>\n",
       "    </tr>\n",
       "  </thead>\n",
       "  <tbody>\n",
       "    <tr>\n",
       "      <th>0</th>\n",
       "      <td>4773181874</td>\n",
       "      <td>['Odzież, Obuwie, Dodatki', 'Bielizna damska',...</td>\n",
       "      <td>1</td>\n",
       "      <td>1</td>\n",
       "      <td>InwestycjeNET</td>\n",
       "      <td>4.90</td>\n",
       "      <td>1</td>\n",
       "      <td>9288</td>\n",
       "      <td>0</td>\n",
       "      <td>12428</td>\n",
       "      <td>...</td>\n",
       "      <td>Odzież, Obuwie, Dodatki</td>\n",
       "      <td>Warszawa</td>\n",
       "      <td>0</td>\n",
       "      <td>4</td>\n",
       "      <td>3</td>\n",
       "      <td>Bielizna damska</td>\n",
       "      <td>42.90</td>\n",
       "      <td>4</td>\n",
       "      <td>14.990</td>\n",
       "      <td>1</td>\n",
       "    </tr>\n",
       "    <tr>\n",
       "      <th>1</th>\n",
       "      <td>4783971474</td>\n",
       "      <td>['Książki i Komiksy', 'Poradniki i albumy', 'Z...</td>\n",
       "      <td>1</td>\n",
       "      <td>1</td>\n",
       "      <td>Matfel1</td>\n",
       "      <td>18.50</td>\n",
       "      <td>0</td>\n",
       "      <td>971</td>\n",
       "      <td>0</td>\n",
       "      <td>15006</td>\n",
       "      <td>...</td>\n",
       "      <td>Książki i Komiksy</td>\n",
       "      <td>WolaKrzysztoporska</td>\n",
       "      <td>1</td>\n",
       "      <td>4</td>\n",
       "      <td>3</td>\n",
       "      <td>Poradniki i albumy</td>\n",
       "      <td>19.00</td>\n",
       "      <td>1</td>\n",
       "      <td>21.920</td>\n",
       "      <td>2</td>\n",
       "    </tr>\n",
       "    <tr>\n",
       "      <th>2</th>\n",
       "      <td>4790991674</td>\n",
       "      <td>['Odzież, Obuwie, Dodatki', 'Bielizna damska',...</td>\n",
       "      <td>1</td>\n",
       "      <td>1</td>\n",
       "      <td>Noemi-bielizna</td>\n",
       "      <td>10.99</td>\n",
       "      <td>1</td>\n",
       "      <td>742</td>\n",
       "      <td>0</td>\n",
       "      <td>39371</td>\n",
       "      <td>...</td>\n",
       "      <td>Odzież, Obuwie, Dodatki</td>\n",
       "      <td>GĄBIN</td>\n",
       "      <td>0</td>\n",
       "      <td>3</td>\n",
       "      <td>4</td>\n",
       "      <td>Bielizna damska</td>\n",
       "      <td>42.90</td>\n",
       "      <td>4</td>\n",
       "      <td>14.990</td>\n",
       "      <td>1</td>\n",
       "    </tr>\n",
       "    <tr>\n",
       "      <th>4</th>\n",
       "      <td>4824025074</td>\n",
       "      <td>['Biżuteria i Zegarki', 'Zegarki', 'Dziecięce']</td>\n",
       "      <td>1</td>\n",
       "      <td>1</td>\n",
       "      <td>handel_barbo</td>\n",
       "      <td>28.99</td>\n",
       "      <td>1</td>\n",
       "      <td>886</td>\n",
       "      <td>0</td>\n",
       "      <td>4287</td>\n",
       "      <td>...</td>\n",
       "      <td>Biżuteria i Zegarki</td>\n",
       "      <td>Legionowo</td>\n",
       "      <td>1</td>\n",
       "      <td>3</td>\n",
       "      <td>2</td>\n",
       "      <td>Zegarki</td>\n",
       "      <td>14.69</td>\n",
       "      <td>0</td>\n",
       "      <td>26.995</td>\n",
       "      <td>2</td>\n",
       "    </tr>\n",
       "    <tr>\n",
       "      <th>5</th>\n",
       "      <td>4828603874</td>\n",
       "      <td>['RTV i AGD', 'Kamery', 'Zasilanie', 'Zasilacze']</td>\n",
       "      <td>1</td>\n",
       "      <td>1</td>\n",
       "      <td>e-trade-com-pl</td>\n",
       "      <td>45.00</td>\n",
       "      <td>1</td>\n",
       "      <td>4</td>\n",
       "      <td>0</td>\n",
       "      <td>15561</td>\n",
       "      <td>...</td>\n",
       "      <td>RTV i AGD</td>\n",
       "      <td>Warszawa</td>\n",
       "      <td>1</td>\n",
       "      <td>1</td>\n",
       "      <td>3</td>\n",
       "      <td>Kamery</td>\n",
       "      <td>27.00</td>\n",
       "      <td>2</td>\n",
       "      <td>54.845</td>\n",
       "      <td>4</td>\n",
       "    </tr>\n",
       "  </tbody>\n",
       "</table>\n",
       "<p>5 rows × 21 columns</p>\n",
       "</div>"
      ],
      "text/plain": [
       "      item_id                                         categories  \\\n",
       "0  4773181874  ['Odzież, Obuwie, Dodatki', 'Bielizna damska',...   \n",
       "1  4783971474  ['Książki i Komiksy', 'Poradniki i albumy', 'Z...   \n",
       "2  4790991674  ['Odzież, Obuwie, Dodatki', 'Bielizna damska',...   \n",
       "4  4824025074    ['Biżuteria i Zegarki', 'Zegarki', 'Dziecięce']   \n",
       "5  4828603874  ['RTV i AGD', 'Kamery', 'Zasilanie', 'Zasilacze']   \n",
       "\n",
       "   pay_option_on_delivery  pay_option_transfer          seller  price  \\\n",
       "0                       1                    1   InwestycjeNET   4.90   \n",
       "1                       1                    1         Matfel1  18.50   \n",
       "2                       1                    1  Noemi-bielizna  10.99   \n",
       "4                       1                    1    handel_barbo  28.99   \n",
       "5                       1                    1  e-trade-com-pl  45.00   \n",
       "\n",
       "   it_is_allegro_standard  it_quantity  it_is_brand_zone  it_seller_rating  \\\n",
       "0                       1         9288                 0             12428   \n",
       "1                       0          971                 0             15006   \n",
       "2                       1          742                 0             39371   \n",
       "4                       1          886                 0              4287   \n",
       "5                       1            4                 0             15561   \n",
       "\n",
       "   ...            main_category     it_location_raw priceEncoded  \\\n",
       "0  ...  Odzież, Obuwie, Dodatki            Warszawa            0   \n",
       "1  ...        Książki i Komiksy  WolaKrzysztoporska            1   \n",
       "2  ...  Odzież, Obuwie, Dodatki               GĄBIN            0   \n",
       "4  ...      Biżuteria i Zegarki           Legionowo            1   \n",
       "5  ...                RTV i AGD            Warszawa            1   \n",
       "\n",
       "   it_quantityEncoded  it_seller_ratingEncoded     second_category  \\\n",
       "0                   4                        3     Bielizna damska   \n",
       "1                   4                        3  Poradniki i albumy   \n",
       "2                   3                        4     Bielizna damska   \n",
       "4                   3                        2             Zegarki   \n",
       "5                   1                        3              Kamery   \n",
       "\n",
       "  main_categoryMedian  main_categoryEncoded  second_categoryMedian  \\\n",
       "0               42.90                     4                 14.990   \n",
       "1               19.00                     1                 21.920   \n",
       "2               42.90                     4                 14.990   \n",
       "4               14.69                     0                 26.995   \n",
       "5               27.00                     2                 54.845   \n",
       "\n",
       "   second_categoryEncoded  \n",
       "0                       1  \n",
       "1                       2  \n",
       "2                       1  \n",
       "4                       2  \n",
       "5                       4  \n",
       "\n",
       "[5 rows x 21 columns]"
      ]
     },
     "execution_count": 75,
     "metadata": {},
     "output_type": "execute_result"
    }
   ],
   "source": [
    "! pip install category_encoders \n",
    "import category_encoders as ce\n",
    "from sklearn.preprocessing import LabelEncoder\n",
    "\n",
    "allegro_df_test_fixed['it_location'] = LabelEncoder().fit_transform(allegro_df_test_fixed.it_location)\n",
    "allegro_df_test_fixed.head()"
   ]
  },
  {
   "cell_type": "markdown",
   "id": "cb30cbfb",
   "metadata": {},
   "source": [
    "## Model na otrzymanych danych"
   ]
  },
  {
   "cell_type": "markdown",
   "id": "b58e7788",
   "metadata": {},
   "source": [
    "Import bibliotek"
   ]
  },
  {
   "cell_type": "code",
   "execution_count": 76,
   "id": "f4ed10ad",
   "metadata": {},
   "outputs": [],
   "source": [
    "from sklearn.tree import DecisionTreeClassifier\n",
    "from sklearn.svm import SVC\n",
    "from sklearn.model_selection import cross_val_score\n",
    "from sklearn.dummy import DummyClassifier\n",
    "from sklearn.preprocessing import OrdinalEncoder "
   ]
  },
  {
   "cell_type": "markdown",
   "id": "efffd66a",
   "metadata": {},
   "source": [
    "Funkcja wypisująca wyniki"
   ]
  },
  {
   "cell_type": "code",
   "execution_count": 77,
   "id": "7382e8d6",
   "metadata": {},
   "outputs": [],
   "source": [
    "def display_scores(scores):\n",
    "    print(\"Wyniki:\", scores)\n",
    "    print(\"Średnia:\", scores.mean())\n",
    "    print(\"Odchylenie standardowe:\", scores.std())"
   ]
  },
  {
   "cell_type": "markdown",
   "id": "0074f3dc",
   "metadata": {},
   "source": [
    "Podział ramki"
   ]
  },
  {
   "cell_type": "code",
   "execution_count": 78,
   "id": "949c3212",
   "metadata": {},
   "outputs": [],
   "source": [
    "df_build_all = pd.read_csv(\"pd2.csv\", index_col = 0) # wyeksportowana ramka po preprocessingu budowniczych\n",
    "df_build = df_build_all.loc[:,['pay_option_on_delivery','pay_option_transfer','it_is_allegro_standard','it_is_brand_zone','main_categoryEncoded','second_categoryEncoded', 'it_quantityEncoded',\n",
    "       'it_seller_ratingEncoded','it_location', 'priceEncoded']]\n",
    "X_build = df_build.drop(\"priceEncoded\", axis = 1)\n",
    "y_build = df_build.priceEncoded\n",
    "\n",
    "X_test = allegro_df_test_fixed.loc[:,['pay_option_on_delivery','pay_option_transfer','it_is_allegro_standard','it_is_brand_zone','main_categoryEncoded','second_categoryEncoded', 'it_quantityEncoded',\n",
    "       'it_seller_ratingEncoded','it_location', 'priceEncoded']]\n",
    "X_test = X_test.drop(\"priceEncoded\", axis = 1)\n",
    "y_test = allegro_df_test_fixed.priceEncoded"
   ]
  },
  {
   "cell_type": "markdown",
   "id": "a7808b96",
   "metadata": {},
   "source": [
    "### Dummy"
   ]
  },
  {
   "cell_type": "code",
   "execution_count": 79,
   "id": "d59e592e",
   "metadata": {},
   "outputs": [],
   "source": [
    "dc = DummyClassifier(strategy='uniform', random_state=32)\n",
    "dc.fit(X_build, y_build)\n",
    "dummy_scores_build = cross_val_score(dc, X_build, y_build, scoring='accuracy', cv = 10)\n",
    "dummy_scores_test = cross_val_score(dc, X_test, y_test, scoring='accuracy', cv = 10)"
   ]
  },
  {
   "cell_type": "code",
   "execution_count": 80,
   "id": "e3b5c605",
   "metadata": {},
   "outputs": [
    {
     "name": "stdout",
     "output_type": "stream",
     "text": [
      "Wyniki: [0.33358098 0.33275549 0.33267294 0.33201255 0.3296599  0.3303752\n",
      " 0.33285178 0.33186115 0.33305816 0.3361126 ]\n",
      "Średnia: 0.3324940740419544\n",
      "Odchylenie standardowe: 0.0016726094721823065\n"
     ]
    }
   ],
   "source": [
    "display_scores(dummy_scores_build)"
   ]
  },
  {
   "cell_type": "code",
   "execution_count": 81,
   "id": "db5c2364",
   "metadata": {},
   "outputs": [
    {
     "name": "stdout",
     "output_type": "stream",
     "text": [
      "Wyniki: [0.33891959 0.33125334 0.33098592 0.34043502 0.32982706 0.33954359\n",
      " 0.3282225  0.33232305 0.3347299  0.33368993]\n",
      "Średnia: 0.33399299063946264\n",
      "Odchylenie standardowe: 0.004089077064174033\n"
     ]
    }
   ],
   "source": [
    "display_scores(dummy_scores_test)"
   ]
  },
  {
   "cell_type": "markdown",
   "id": "452bd05b",
   "metadata": {},
   "source": [
    "### Drzewa decyzyjne"
   ]
  },
  {
   "cell_type": "code",
   "execution_count": 82,
   "id": "27c30b6c",
   "metadata": {},
   "outputs": [],
   "source": [
    "tree_clas = DecisionTreeClassifier()\n",
    "tree_clas.fit(X_build, y_build)\n",
    "tree_scores_build = cross_val_score(tree_clas, X_build, y_build, scoring='accuracy', cv = 10)\n",
    "tree_scores_test = cross_val_score(tree_clas, X_test, y_test, scoring='accuracy', cv = 10)"
   ]
  },
  {
   "cell_type": "code",
   "execution_count": 83,
   "id": "837de0e8",
   "metadata": {},
   "outputs": [
    {
     "name": "stdout",
     "output_type": "stream",
     "text": [
      "Wyniki: [0.54754829 0.55014859 0.5493231  0.55497771 0.54742447 0.55083172\n",
      " 0.54847897 0.54662154 0.55091427 0.54868535]\n",
      "Średnia: 0.5494954000819079\n",
      "Odchylenie standardowe: 0.002287780670681969\n"
     ]
    }
   ],
   "source": [
    "display_scores(tree_scores_build)"
   ]
  },
  {
   "cell_type": "code",
   "execution_count": 84,
   "id": "382c131a",
   "metadata": {},
   "outputs": [
    {
     "name": "stdout",
     "output_type": "stream",
     "text": [
      "Wyniki: [0.54118381 0.54385809 0.54466037 0.54608665 0.54091638 0.5413621\n",
      " 0.54055981 0.54867178 0.54885006 0.54087546]\n",
      "Średnia: 0.5437024503071572\n",
      "Odchylenie standardowe: 0.003086573365766049\n"
     ]
    }
   ],
   "source": [
    "display_scores(tree_scores_test)"
   ]
  },
  {
   "cell_type": "markdown",
   "id": "5be5d2bb",
   "metadata": {},
   "source": [
    "### Ustalanie wartości predykcyjnej kolumn"
   ]
  },
  {
   "cell_type": "markdown",
   "id": "7a1a2fc9",
   "metadata": {},
   "source": [
    "Sprawdzimy predykcyjność tych kolumn, które zostały \"niestandardowo\" zakodowane."
   ]
  },
  {
   "cell_type": "markdown",
   "id": "32776c78",
   "metadata": {},
   "source": [
    "#### it_location"
   ]
  },
  {
   "cell_type": "code",
   "execution_count": 88,
   "id": "c935ecee",
   "metadata": {},
   "outputs": [],
   "source": [
    "X_build_temp = X_build.drop([\"it_location\"], axis = 1)\n",
    "X_test_temp = X_test.drop([\"it_location\"], axis = 1)\n",
    "\n",
    "tree_clas = DecisionTreeClassifier()\n",
    "tree_clas.fit(X_build_temp, y_build)\n",
    "tree_scores_build_temp = cross_val_score(tree_clas, X_build_temp, y_build, scoring='accuracy', cv = 10)\n",
    "tree_scores_test_temp = cross_val_score(tree_clas, X_test_temp, y_test, scoring='accuracy', cv = 10)"
   ]
  },
  {
   "cell_type": "code",
   "execution_count": 89,
   "id": "c36225c7",
   "metadata": {},
   "outputs": [
    {
     "name": "stdout",
     "output_type": "stream",
     "text": [
      "Wyniki: [0.54061417 0.53855044 0.53999505 0.54581476 0.53702328 0.53964585\n",
      " 0.5419986  0.5381599  0.54336071 0.54018244]\n",
      "Średnia: 0.5405345193474693\n",
      "Odchylenie standardowe: 0.0024723892795137834\n"
     ]
    }
   ],
   "source": [
    "display_scores(tree_scores_build_temp)"
   ]
  },
  {
   "cell_type": "code",
   "execution_count": 90,
   "id": "c0f140e0",
   "metadata": {},
   "outputs": [
    {
     "name": "stdout",
     "output_type": "stream",
     "text": [
      "Wyniki: [0.53886611 0.54145124 0.53993582 0.54154038 0.5436798  0.53975753\n",
      " 0.54118381 0.54038153 0.54902835 0.538825  ]\n",
      "Średnia: 0.541464956543036\n",
      "Odchylenie standardowe: 0.002869601103769617\n"
     ]
    }
   ],
   "source": [
    "display_scores(tree_scores_test_temp)"
   ]
  },
  {
   "cell_type": "markdown",
   "id": "310251b5",
   "metadata": {},
   "source": [
    "Bez kolumny \"it_location\" model gorzej przewiduje zmienną celu. Zatem została ona poprawnie zakodowana. Oczywiście w miarę możliwości."
   ]
  },
  {
   "cell_type": "markdown",
   "id": "1b4bf3a6",
   "metadata": {},
   "source": [
    "#### categories"
   ]
  },
  {
   "cell_type": "code",
   "execution_count": 91,
   "id": "01ed6803",
   "metadata": {},
   "outputs": [],
   "source": [
    "X_build_temp = X_build.drop([\"second_categoryEncoded\"], axis = 1)\n",
    "X_test_temp = X_test.drop([\"second_categoryEncoded\"], axis = 1)\n",
    "\n",
    "tree_clas = DecisionTreeClassifier()\n",
    "tree_clas.fit(X_build_temp, y_build)\n",
    "tree_scores_build_temp = cross_val_score(tree_clas, X_build_temp, y_build, scoring='accuracy', cv = 10)\n",
    "tree_scores_test_temp = cross_val_score(tree_clas, X_test_temp, y_test, scoring='accuracy', cv = 10)"
   ]
  },
  {
   "cell_type": "code",
   "execution_count": 92,
   "id": "3865f3b4",
   "metadata": {
    "scrolled": true
   },
   "outputs": [
    {
     "name": "stdout",
     "output_type": "stream",
     "text": [
      "Wyniki: [0.48233449 0.48315998 0.48827803 0.49281823 0.48980518 0.48714244\n",
      " 0.48763776 0.48697734 0.48412928 0.49093986]\n",
      "Średnia: 0.4873222586539582\n",
      "Odchylenie standardowe: 0.0032096650863660814\n"
     ]
    }
   ],
   "source": [
    "display_scores(tree_scores_build_temp)"
   ]
  },
  {
   "cell_type": "code",
   "execution_count": 93,
   "id": "fb529436",
   "metadata": {},
   "outputs": [
    {
     "name": "stdout",
     "output_type": "stream",
     "text": [
      "Wyniki: [0.48502407 0.48520235 0.4834195  0.48725263 0.48056695 0.48725263\n",
      " 0.47495097 0.48440007 0.47771439 0.47775698]\n",
      "Średnia: 0.4823540538150831\n",
      "Odchylenie standardowe: 0.004113566084281598\n"
     ]
    }
   ],
   "source": [
    "display_scores(tree_scores_test_temp)"
   ]
  },
  {
   "cell_type": "markdown",
   "id": "6ea2beaf",
   "metadata": {},
   "source": [
    "Bez kolumny \"second_categoryEncoded\" model gorzej przewiduje zmienną celu. Zatem została ona poprawnie zakodowana."
   ]
  },
  {
   "cell_type": "markdown",
   "id": "2b64676c",
   "metadata": {},
   "source": [
    "#### seller"
   ]
  },
  {
   "cell_type": "code",
   "execution_count": 94,
   "id": "c5e0f604",
   "metadata": {},
   "outputs": [],
   "source": [
    "X_build_temp = X_build.copy()\n",
    "X_build_temp[\"seller\"] = df_build_all[\"seller\"]\n",
    "\n",
    "ordinal_encoder = OrdinalEncoder()\n",
    "X_build_temp[\"seller\"] = ordinal_encoder.fit_transform(X_build_temp[[\"seller\"]])\n",
    "\n",
    "tree_clas = DecisionTreeClassifier()\n",
    "tree_clas.fit(X_build_temp, y_build)\n",
    "tree_scores_build_temp = cross_val_score(tree_clas, X_build_temp, y_build, scoring='accuracy', cv = 10)\n",
    "tree_scores_test_temp = cross_val_score(tree_clas, X_test_temp, y_test, scoring='accuracy', cv = 10)"
   ]
  },
  {
   "cell_type": "code",
   "execution_count": 95,
   "id": "533a12a1",
   "metadata": {
    "scrolled": true
   },
   "outputs": [
    {
     "name": "stdout",
     "output_type": "stream",
     "text": [
      "Wyniki: [0.63888889 0.6404986  0.64008585 0.64004458 0.63760938 0.63767697\n",
      " 0.63313658 0.62991703 0.6318983  0.63586082]\n",
      "Średnia: 0.6365616992310615\n",
      "Odchylenie standardowe: 0.0035486346180663387\n"
     ]
    }
   ],
   "source": [
    "display_scores(tree_scores_build_temp)"
   ]
  },
  {
   "cell_type": "code",
   "execution_count": 96,
   "id": "c0fd7f32",
   "metadata": {},
   "outputs": [
    {
     "name": "stdout",
     "output_type": "stream",
     "text": [
      "Wyniki: [0.48493493 0.48511321 0.48359779 0.48716349 0.48065609 0.48725263\n",
      " 0.47495097 0.48448921 0.4775361  0.47766783]\n",
      "Średnia: 0.48233622453044767\n",
      "Odchylenie standardowe: 0.004127532575185978\n"
     ]
    }
   ],
   "source": [
    "display_scores(tree_scores_test_temp)"
   ]
  },
  {
   "cell_type": "markdown",
   "id": "f9be3773",
   "metadata": {},
   "source": [
    "Jak widać bez usuwania nazwy sprzedawcy dostajemy lepsze wyniki dla danych, na których budowaliśmy model, ale gorsze na danych walidacyjnych. Możliwe, że model jest przetrenowany, lub nazwa sprzedawcy nie przenosi istotnych informacji."
   ]
  }
 ],
 "metadata": {
  "kernelspec": {
   "display_name": "Python 3 (ipykernel)",
   "language": "python",
   "name": "python3"
  },
  "language_info": {
   "codemirror_mode": {
    "name": "ipython",
    "version": 3
   },
   "file_extension": ".py",
   "mimetype": "text/x-python",
   "name": "python",
   "nbconvert_exporter": "python",
   "pygments_lexer": "ipython3",
   "version": "3.9.11"
  }
 },
 "nbformat": 4,
 "nbformat_minor": 5
}
