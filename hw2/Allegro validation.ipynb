{
 "cells": [
  {
   "cell_type": "markdown",
   "metadata": {},
   "source": [
    "# Walidacja klasyfikacji zbioru danych allegro-api-transaction.\n",
    "Julia Kaznowska, Piotr Wilczyński <br>\n",
    "25/03/2022 <br>\n",
    "Politechnika Warszawska, Wydział Matematyki i Nauk Informacyjnych, Wstęp do uczenia maszynowego"
   ]
  },
  {
   "cell_type": "markdown",
   "metadata": {},
   "source": [
    "## Import niezbędnych bibliotek oraz zbioru danych"
   ]
  },
  {
   "cell_type": "code",
   "execution_count": 152,
   "metadata": {},
   "outputs": [],
   "source": [
    "import pandas as pd\n",
    "import numpy as np\n",
    "import sklearn \n",
    "from sklearn.datasets import load_boston\n",
    "import seaborn as sns\n",
    "import matplotlib.pyplot as plt\n",
    "import matplotlib\n",
    "import warnings\n",
    "warnings.filterwarnings('ignore')\n",
    "np.random.seed(23)\n",
    "\n",
    "# zbior danych\n",
    "allegro_df = pd.read_csv('.\\\\allegro-api-transactions.csv')"
   ]
  },
  {
   "cell_type": "markdown",
   "metadata": {},
   "source": [
    "## Podział na dane do budowy i walidacji"
   ]
  },
  {
   "cell_type": "markdown",
   "metadata": {},
   "source": [
    "Do analizy dostaliśmy następujący podział danych:"
   ]
  },
  {
   "cell_type": "code",
   "execution_count": 153,
   "metadata": {},
   "outputs": [],
   "source": [
    "allegro_df_build = allegro_df.sample(frac=0.7, random_state=500)\n",
    "allegro_df_test = allegro_df.drop(allegro_df_build.index)"
   ]
  },
  {
   "cell_type": "markdown",
   "metadata": {},
   "source": [
    "W naszej opinii lepszy byłby podział warstwowy po zmiennej celu, aczkolwiek aktualnie nie jesteśmy w stanie tego zmienić."
   ]
  },
  {
   "cell_type": "code",
   "execution_count": 154,
   "metadata": {},
   "outputs": [],
   "source": [
    "allegro_df_test.reset_index(drop = True, inplace = True)"
   ]
  },
  {
   "cell_type": "markdown",
   "metadata": {},
   "source": [
    "## Przegląd ramki danych"
   ]
  },
  {
   "cell_type": "markdown",
   "metadata": {},
   "source": [
    "Zobaczmy kolumny zbioru i jakiego są typu:"
   ]
  },
  {
   "cell_type": "code",
   "execution_count": 155,
   "metadata": {
    "scrolled": true
   },
   "outputs": [
    {
     "name": "stdout",
     "output_type": "stream",
     "text": [
      "<class 'pandas.core.frame.DataFrame'>\n",
      "RangeIndex: 126006 entries, 0 to 126005\n",
      "Data columns (total 14 columns):\n",
      " #   Column                  Non-Null Count   Dtype  \n",
      "---  ------                  --------------   -----  \n",
      " 0   lp                      126006 non-null  int64  \n",
      " 1   date                    126006 non-null  object \n",
      " 2   item_id                 126006 non-null  int64  \n",
      " 3   categories              126006 non-null  object \n",
      " 4   pay_option_on_delivery  126006 non-null  int64  \n",
      " 5   pay_option_transfer     126006 non-null  int64  \n",
      " 6   seller                  126006 non-null  object \n",
      " 7   price                   126006 non-null  float64\n",
      " 8   it_is_allegro_standard  126006 non-null  int64  \n",
      " 9   it_quantity             126006 non-null  int64  \n",
      " 10  it_is_brand_zone        126006 non-null  int64  \n",
      " 11  it_seller_rating        126006 non-null  int64  \n",
      " 12  it_location             126006 non-null  object \n",
      " 13  main_category           126006 non-null  object \n",
      "dtypes: float64(1), int64(8), object(5)\n",
      "memory usage: 13.5+ MB\n"
     ]
    }
   ],
   "source": [
    "allegro_df_test.info()"
   ]
  },
  {
   "cell_type": "markdown",
   "metadata": {},
   "source": [
    "Ramka składa się z 14 kolumn i 126006 rekordów. Zobaczmy jej pierwsze rekordy."
   ]
  },
  {
   "cell_type": "code",
   "execution_count": 156,
   "metadata": {
    "scrolled": true
   },
   "outputs": [
    {
     "data": {
      "text/html": [
       "<div>\n",
       "<style scoped>\n",
       "    .dataframe tbody tr th:only-of-type {\n",
       "        vertical-align: middle;\n",
       "    }\n",
       "\n",
       "    .dataframe tbody tr th {\n",
       "        vertical-align: top;\n",
       "    }\n",
       "\n",
       "    .dataframe thead th {\n",
       "        text-align: right;\n",
       "    }\n",
       "</style>\n",
       "<table border=\"1\" class=\"dataframe\">\n",
       "  <thead>\n",
       "    <tr style=\"text-align: right;\">\n",
       "      <th></th>\n",
       "      <th>lp</th>\n",
       "      <th>date</th>\n",
       "      <th>item_id</th>\n",
       "      <th>categories</th>\n",
       "      <th>pay_option_on_delivery</th>\n",
       "      <th>pay_option_transfer</th>\n",
       "      <th>seller</th>\n",
       "      <th>price</th>\n",
       "      <th>it_is_allegro_standard</th>\n",
       "      <th>it_quantity</th>\n",
       "      <th>it_is_brand_zone</th>\n",
       "      <th>it_seller_rating</th>\n",
       "      <th>it_location</th>\n",
       "      <th>main_category</th>\n",
       "    </tr>\n",
       "  </thead>\n",
       "  <tbody>\n",
       "    <tr>\n",
       "      <th>0</th>\n",
       "      <td>1</td>\n",
       "      <td>2016-04-03 15:35:26</td>\n",
       "      <td>4773181874</td>\n",
       "      <td>['Odzież, Obuwie, Dodatki', 'Bielizna damska',...</td>\n",
       "      <td>1</td>\n",
       "      <td>1</td>\n",
       "      <td>InwestycjeNET</td>\n",
       "      <td>4.90</td>\n",
       "      <td>1</td>\n",
       "      <td>9288</td>\n",
       "      <td>0</td>\n",
       "      <td>12428</td>\n",
       "      <td>Warszawa</td>\n",
       "      <td>Odzież, Obuwie, Dodatki</td>\n",
       "    </tr>\n",
       "    <tr>\n",
       "      <th>1</th>\n",
       "      <td>3</td>\n",
       "      <td>2016-04-03 19:55:44</td>\n",
       "      <td>4783971474</td>\n",
       "      <td>['Książki i Komiksy', 'Poradniki i albumy', 'Z...</td>\n",
       "      <td>1</td>\n",
       "      <td>1</td>\n",
       "      <td>Matfel1</td>\n",
       "      <td>18.50</td>\n",
       "      <td>0</td>\n",
       "      <td>971</td>\n",
       "      <td>0</td>\n",
       "      <td>15006</td>\n",
       "      <td>Wola Krzysztoporska</td>\n",
       "      <td>Książki i Komiksy</td>\n",
       "    </tr>\n",
       "    <tr>\n",
       "      <th>2</th>\n",
       "      <td>5</td>\n",
       "      <td>2016-04-03 16:31:01</td>\n",
       "      <td>4790991674</td>\n",
       "      <td>['Odzież, Obuwie, Dodatki', 'Bielizna damska',...</td>\n",
       "      <td>1</td>\n",
       "      <td>1</td>\n",
       "      <td>Noemi-bielizna</td>\n",
       "      <td>10.99</td>\n",
       "      <td>1</td>\n",
       "      <td>742</td>\n",
       "      <td>0</td>\n",
       "      <td>39371</td>\n",
       "      <td>GĄBIN</td>\n",
       "      <td>Odzież, Obuwie, Dodatki</td>\n",
       "    </tr>\n",
       "    <tr>\n",
       "      <th>3</th>\n",
       "      <td>6</td>\n",
       "      <td>2016-04-03 17:56:11</td>\n",
       "      <td>4790991674</td>\n",
       "      <td>['Odzież, Obuwie, Dodatki', 'Bielizna damska',...</td>\n",
       "      <td>1</td>\n",
       "      <td>1</td>\n",
       "      <td>Noemi-bielizna</td>\n",
       "      <td>10.99</td>\n",
       "      <td>1</td>\n",
       "      <td>742</td>\n",
       "      <td>0</td>\n",
       "      <td>39371</td>\n",
       "      <td>GĄBIN</td>\n",
       "      <td>Odzież, Obuwie, Dodatki</td>\n",
       "    </tr>\n",
       "    <tr>\n",
       "      <th>4</th>\n",
       "      <td>7</td>\n",
       "      <td>2016-04-03 11:58:55</td>\n",
       "      <td>4824025074</td>\n",
       "      <td>['Biżuteria i Zegarki', 'Zegarki', 'Dziecięce']</td>\n",
       "      <td>1</td>\n",
       "      <td>1</td>\n",
       "      <td>handel_barbo</td>\n",
       "      <td>28.99</td>\n",
       "      <td>1</td>\n",
       "      <td>886</td>\n",
       "      <td>0</td>\n",
       "      <td>4287</td>\n",
       "      <td>Legionowo</td>\n",
       "      <td>Biżuteria i Zegarki</td>\n",
       "    </tr>\n",
       "  </tbody>\n",
       "</table>\n",
       "</div>"
      ],
      "text/plain": [
       "   lp                 date     item_id  \\\n",
       "0   1  2016-04-03 15:35:26  4773181874   \n",
       "1   3  2016-04-03 19:55:44  4783971474   \n",
       "2   5  2016-04-03 16:31:01  4790991674   \n",
       "3   6  2016-04-03 17:56:11  4790991674   \n",
       "4   7  2016-04-03 11:58:55  4824025074   \n",
       "\n",
       "                                          categories  pay_option_on_delivery  \\\n",
       "0  ['Odzież, Obuwie, Dodatki', 'Bielizna damska',...                       1   \n",
       "1  ['Książki i Komiksy', 'Poradniki i albumy', 'Z...                       1   \n",
       "2  ['Odzież, Obuwie, Dodatki', 'Bielizna damska',...                       1   \n",
       "3  ['Odzież, Obuwie, Dodatki', 'Bielizna damska',...                       1   \n",
       "4    ['Biżuteria i Zegarki', 'Zegarki', 'Dziecięce']                       1   \n",
       "\n",
       "   pay_option_transfer          seller  price  it_is_allegro_standard  \\\n",
       "0                    1   InwestycjeNET   4.90                       1   \n",
       "1                    1         Matfel1  18.50                       0   \n",
       "2                    1  Noemi-bielizna  10.99                       1   \n",
       "3                    1  Noemi-bielizna  10.99                       1   \n",
       "4                    1    handel_barbo  28.99                       1   \n",
       "\n",
       "   it_quantity  it_is_brand_zone  it_seller_rating          it_location  \\\n",
       "0         9288                 0             12428             Warszawa   \n",
       "1          971                 0             15006  Wola Krzysztoporska   \n",
       "2          742                 0             39371                GĄBIN   \n",
       "3          742                 0             39371                GĄBIN   \n",
       "4          886                 0              4287            Legionowo   \n",
       "\n",
       "             main_category  \n",
       "0  Odzież, Obuwie, Dodatki  \n",
       "1        Książki i Komiksy  \n",
       "2  Odzież, Obuwie, Dodatki  \n",
       "3  Odzież, Obuwie, Dodatki  \n",
       "4      Biżuteria i Zegarki  "
      ]
     },
     "execution_count": 156,
     "metadata": {},
     "output_type": "execute_result"
    }
   ],
   "source": [
    "allegro_df_test.head()"
   ]
  },
  {
   "cell_type": "markdown",
   "metadata": {},
   "source": [
    "### Wstępne braki danych"
   ]
  },
  {
   "cell_type": "code",
   "execution_count": 157,
   "metadata": {},
   "outputs": [
    {
     "data": {
      "text/plain": [
       "lp                        0\n",
       "date                      0\n",
       "item_id                   0\n",
       "categories                0\n",
       "pay_option_on_delivery    0\n",
       "pay_option_transfer       0\n",
       "seller                    0\n",
       "price                     0\n",
       "it_is_allegro_standard    0\n",
       "it_quantity               0\n",
       "it_is_brand_zone          0\n",
       "it_seller_rating          0\n",
       "it_location               0\n",
       "main_category             0\n",
       "dtype: int64"
      ]
     },
     "execution_count": 157,
     "metadata": {},
     "output_type": "execute_result"
    }
   ],
   "source": [
    "allegro_df_test.isnull().sum()"
   ]
  },
  {
   "cell_type": "code",
   "execution_count": 158,
   "metadata": {},
   "outputs": [
    {
     "data": {
      "text/plain": [
       "(array([], dtype=int64), array([], dtype=int64))"
      ]
     },
     "execution_count": 158,
     "metadata": {},
     "output_type": "execute_result"
    }
   ],
   "source": [
    "np.where(allegro_df_test.applymap(lambda x: x == ''))"
   ]
  },
  {
   "cell_type": "markdown",
   "metadata": {},
   "source": [
    "Wstępny przegląd zbioru wykazał, że w ramce nie ma oczywistych braków danych (w postaci null bądź pustych pól)."
   ]
  },
  {
   "cell_type": "markdown",
   "metadata": {},
   "source": [
    "## Analiza jednowymiarowa"
   ]
  },
  {
   "cell_type": "markdown",
   "metadata": {},
   "source": [
    "### lp"
   ]
  },
  {
   "cell_type": "code",
   "execution_count": 159,
   "metadata": {},
   "outputs": [
    {
     "data": {
      "text/plain": [
       "126006"
      ]
     },
     "execution_count": 159,
     "metadata": {},
     "output_type": "execute_result"
    }
   ],
   "source": [
    "allegro_df_test['lp'].unique().__len__()"
   ]
  },
  {
   "cell_type": "markdown",
   "metadata": {},
   "source": [
    "Zmienna unikalna dla każdego rekordu, nie będziemy jej brać pod uwagę przy konstrukcji modelu."
   ]
  },
  {
   "cell_type": "markdown",
   "metadata": {},
   "source": [
    "### date"
   ]
  },
  {
   "cell_type": "code",
   "execution_count": 160,
   "metadata": {},
   "outputs": [
    {
     "data": {
      "text/plain": [
       "2016-04-03 22:32:33    64\n",
       "2016-04-03 22:32:46    48\n",
       "2016-04-03 10:55:30    44\n",
       "2016-04-03 20:16:30    40\n",
       "2016-04-03 16:44:50    40\n",
       "                       ..\n",
       "2016-04-03 16:08:45     1\n",
       "2016-04-03 21:42:21     1\n",
       "2016-04-03 22:57:35     1\n",
       "2016-04-03 16:22:56     1\n",
       "2016-04-03 23:22:53     1\n",
       "Name: date, Length: 30839, dtype: int64"
      ]
     },
     "execution_count": 160,
     "metadata": {},
     "output_type": "execute_result"
    }
   ],
   "source": [
    "allegro_df_test[\"date\"].value_counts()"
   ]
  },
  {
   "cell_type": "markdown",
   "metadata": {},
   "source": [
    "W tym miejscu (w przeciwieństwie do budowniczych) uznaliśmy, że usuwanie tej kolumny może nie być dobrym posunięciem. Ceny mogą kształtować się inaczej ze względu na rok, na skutek chociażby inflacji. Najpierw sprawdzimy zatem, czy wszystkie rekordy pochodzą z tego samego roku."
   ]
  },
  {
   "cell_type": "code",
   "execution_count": 161,
   "metadata": {},
   "outputs": [
    {
     "data": {
      "text/plain": [
       "2016    126006\n",
       "Name: date, dtype: int64"
      ]
     },
     "execution_count": 161,
     "metadata": {},
     "output_type": "execute_result"
    }
   ],
   "source": [
    "pd.DatetimeIndex(allegro_df_test['date']).year.value_counts()"
   ]
  },
  {
   "cell_type": "code",
   "execution_count": 162,
   "metadata": {},
   "outputs": [
    {
     "data": {
      "text/plain": [
       "4    126006\n",
       "Name: date, dtype: int64"
      ]
     },
     "execution_count": 162,
     "metadata": {},
     "output_type": "execute_result"
    }
   ],
   "source": [
    "pd.DatetimeIndex(allegro_df_test['date']).month.value_counts()"
   ]
  },
  {
   "cell_type": "code",
   "execution_count": 163,
   "metadata": {},
   "outputs": [
    {
     "data": {
      "text/plain": [
       "3    126006\n",
       "Name: date, dtype: int64"
      ]
     },
     "execution_count": 163,
     "metadata": {},
     "output_type": "execute_result"
    }
   ],
   "source": [
    "pd.DatetimeIndex(allegro_df_test['date']).day.value_counts()"
   ]
  },
  {
   "cell_type": "markdown",
   "metadata": {},
   "source": [
    "Dzięki temu wiemy, że wszystkie rekordy pochodzą z tego samego dnia - zmienna ta zatem nie powinna mieć większego wpływu na model."
   ]
  },
  {
   "cell_type": "markdown",
   "metadata": {},
   "source": [
    "### item_id"
   ]
  },
  {
   "cell_type": "code",
   "execution_count": 164,
   "metadata": {},
   "outputs": [
    {
     "data": {
      "text/plain": [
       "6095133176    35\n",
       "6061413744    30\n",
       "6073551689    26\n",
       "6076113230    23\n",
       "6091540894    23\n",
       "              ..\n",
       "5589631668     1\n",
       "5556605622     1\n",
       "6083795647     1\n",
       "6045870785     1\n",
       "5524168708     1\n",
       "Name: item_id, Length: 112748, dtype: int64"
      ]
     },
     "execution_count": 164,
     "metadata": {},
     "output_type": "execute_result"
    }
   ],
   "source": [
    "allegro_df_test[\"item_id\"].value_counts()"
   ]
  },
  {
   "cell_type": "markdown",
   "metadata": {},
   "source": [
    "Występują powtarzające się przedmioty. "
   ]
  },
  {
   "cell_type": "code",
   "execution_count": 165,
   "metadata": {},
   "outputs": [
    {
     "data": {
      "text/html": [
       "<div>\n",
       "<style scoped>\n",
       "    .dataframe tbody tr th:only-of-type {\n",
       "        vertical-align: middle;\n",
       "    }\n",
       "\n",
       "    .dataframe tbody tr th {\n",
       "        vertical-align: top;\n",
       "    }\n",
       "\n",
       "    .dataframe thead th {\n",
       "        text-align: right;\n",
       "    }\n",
       "</style>\n",
       "<table border=\"1\" class=\"dataframe\">\n",
       "  <thead>\n",
       "    <tr style=\"text-align: right;\">\n",
       "      <th></th>\n",
       "      <th>lp</th>\n",
       "      <th>date</th>\n",
       "      <th>item_id</th>\n",
       "      <th>categories</th>\n",
       "      <th>pay_option_on_delivery</th>\n",
       "      <th>pay_option_transfer</th>\n",
       "      <th>seller</th>\n",
       "      <th>price</th>\n",
       "      <th>it_is_allegro_standard</th>\n",
       "      <th>it_quantity</th>\n",
       "      <th>it_is_brand_zone</th>\n",
       "      <th>it_seller_rating</th>\n",
       "      <th>it_location</th>\n",
       "      <th>main_category</th>\n",
       "    </tr>\n",
       "  </thead>\n",
       "  <tbody>\n",
       "    <tr>\n",
       "      <th>7247</th>\n",
       "      <td>24025</td>\n",
       "      <td>2016-04-03 18:52:46</td>\n",
       "      <td>6095133176</td>\n",
       "      <td>['Gry', 'Gry online (MMO)', 'Pozostałe']</td>\n",
       "      <td>0</td>\n",
       "      <td>1</td>\n",
       "      <td>Pixelobsessions</td>\n",
       "      <td>3.45</td>\n",
       "      <td>0</td>\n",
       "      <td>10366</td>\n",
       "      <td>0</td>\n",
       "      <td>1298</td>\n",
       "      <td>Lewes</td>\n",
       "      <td>Gry</td>\n",
       "    </tr>\n",
       "    <tr>\n",
       "      <th>7248</th>\n",
       "      <td>24028</td>\n",
       "      <td>2016-04-03 11:59:11</td>\n",
       "      <td>6095133176</td>\n",
       "      <td>['Gry', 'Gry online (MMO)', 'Pozostałe']</td>\n",
       "      <td>0</td>\n",
       "      <td>1</td>\n",
       "      <td>Pixelobsessions</td>\n",
       "      <td>3.45</td>\n",
       "      <td>0</td>\n",
       "      <td>10366</td>\n",
       "      <td>0</td>\n",
       "      <td>1298</td>\n",
       "      <td>Lewes</td>\n",
       "      <td>Gry</td>\n",
       "    </tr>\n",
       "    <tr>\n",
       "      <th>7249</th>\n",
       "      <td>24032</td>\n",
       "      <td>2016-04-03 00:39:40</td>\n",
       "      <td>6095133176</td>\n",
       "      <td>['Gry', 'Gry online (MMO)', 'Pozostałe']</td>\n",
       "      <td>0</td>\n",
       "      <td>1</td>\n",
       "      <td>Pixelobsessions</td>\n",
       "      <td>3.45</td>\n",
       "      <td>0</td>\n",
       "      <td>10366</td>\n",
       "      <td>0</td>\n",
       "      <td>1298</td>\n",
       "      <td>Lewes</td>\n",
       "      <td>Gry</td>\n",
       "    </tr>\n",
       "    <tr>\n",
       "      <th>7250</th>\n",
       "      <td>24033</td>\n",
       "      <td>2016-04-03 16:39:44</td>\n",
       "      <td>6095133176</td>\n",
       "      <td>['Gry', 'Gry online (MMO)', 'Pozostałe']</td>\n",
       "      <td>0</td>\n",
       "      <td>1</td>\n",
       "      <td>Pixelobsessions</td>\n",
       "      <td>3.45</td>\n",
       "      <td>0</td>\n",
       "      <td>10366</td>\n",
       "      <td>0</td>\n",
       "      <td>1298</td>\n",
       "      <td>Lewes</td>\n",
       "      <td>Gry</td>\n",
       "    </tr>\n",
       "    <tr>\n",
       "      <th>7251</th>\n",
       "      <td>24036</td>\n",
       "      <td>2016-04-03 20:19:14</td>\n",
       "      <td>6095133176</td>\n",
       "      <td>['Gry', 'Gry online (MMO)', 'Pozostałe']</td>\n",
       "      <td>0</td>\n",
       "      <td>1</td>\n",
       "      <td>Pixelobsessions</td>\n",
       "      <td>3.45</td>\n",
       "      <td>0</td>\n",
       "      <td>10366</td>\n",
       "      <td>0</td>\n",
       "      <td>1298</td>\n",
       "      <td>Lewes</td>\n",
       "      <td>Gry</td>\n",
       "    </tr>\n",
       "  </tbody>\n",
       "</table>\n",
       "</div>"
      ],
      "text/plain": [
       "         lp                 date     item_id  \\\n",
       "7247  24025  2016-04-03 18:52:46  6095133176   \n",
       "7248  24028  2016-04-03 11:59:11  6095133176   \n",
       "7249  24032  2016-04-03 00:39:40  6095133176   \n",
       "7250  24033  2016-04-03 16:39:44  6095133176   \n",
       "7251  24036  2016-04-03 20:19:14  6095133176   \n",
       "\n",
       "                                    categories  pay_option_on_delivery  \\\n",
       "7247  ['Gry', 'Gry online (MMO)', 'Pozostałe']                       0   \n",
       "7248  ['Gry', 'Gry online (MMO)', 'Pozostałe']                       0   \n",
       "7249  ['Gry', 'Gry online (MMO)', 'Pozostałe']                       0   \n",
       "7250  ['Gry', 'Gry online (MMO)', 'Pozostałe']                       0   \n",
       "7251  ['Gry', 'Gry online (MMO)', 'Pozostałe']                       0   \n",
       "\n",
       "      pay_option_transfer           seller  price  it_is_allegro_standard  \\\n",
       "7247                    1  Pixelobsessions   3.45                       0   \n",
       "7248                    1  Pixelobsessions   3.45                       0   \n",
       "7249                    1  Pixelobsessions   3.45                       0   \n",
       "7250                    1  Pixelobsessions   3.45                       0   \n",
       "7251                    1  Pixelobsessions   3.45                       0   \n",
       "\n",
       "      it_quantity  it_is_brand_zone  it_seller_rating it_location  \\\n",
       "7247        10366                 0              1298       Lewes   \n",
       "7248        10366                 0              1298       Lewes   \n",
       "7249        10366                 0              1298       Lewes   \n",
       "7250        10366                 0              1298       Lewes   \n",
       "7251        10366                 0              1298       Lewes   \n",
       "\n",
       "     main_category  \n",
       "7247           Gry  \n",
       "7248           Gry  \n",
       "7249           Gry  \n",
       "7250           Gry  \n",
       "7251           Gry  "
      ]
     },
     "execution_count": 165,
     "metadata": {},
     "output_type": "execute_result"
    }
   ],
   "source": [
    "allegro_df_test.loc[allegro_df_test['item_id']==6095133176].head()"
   ]
  },
  {
   "cell_type": "markdown",
   "metadata": {},
   "source": [
    "Tak jak u budowniczych, występują duplikaty różniące się jedynie <i>lp</i> i <i>date</i>. Warto byłoby je usunąć. Miejsce usunięcia tych duplikatów (w trakcie analizy danych) nie wydaje się być najlepsze, jednak na szczęście z poprzednich kolumn nie będziemy korzystać. "
   ]
  },
  {
   "cell_type": "code",
   "execution_count": 166,
   "metadata": {},
   "outputs": [
    {
     "data": {
      "text/plain": [
       "112748"
      ]
     },
     "execution_count": 166,
     "metadata": {},
     "output_type": "execute_result"
    }
   ],
   "source": [
    "allegro_df_test.loc[:, ~allegro_df_test.columns.isin(['date','lp'])].drop_duplicates().__len__()"
   ]
  },
  {
   "cell_type": "code",
   "execution_count": 167,
   "metadata": {},
   "outputs": [],
   "source": [
    "allegro_df_test = allegro_df_test.loc[:, ~allegro_df_test.columns.isin(['date','lp'])].drop_duplicates()"
   ]
  },
  {
   "cell_type": "markdown",
   "metadata": {},
   "source": [
    "Ramka pomniejszyła się o ponad 10 tysięcy rekordów."
   ]
  },
  {
   "cell_type": "markdown",
   "metadata": {},
   "source": [
    "## categories"
   ]
  },
  {
   "cell_type": "code",
   "execution_count": 168,
   "metadata": {
    "scrolled": true
   },
   "outputs": [
    {
     "data": {
      "text/plain": [
       "['Dom i Ogród', 'Ogród', 'Rośliny', 'Rośliny owocowe']                                                  823\n",
       "['Dom i Ogród', 'Ogród', 'Rośliny', 'Bulwy, cebulki, kłącza']                                           702\n",
       "['Odzież, Obuwie, Dodatki', 'Odzież damska', 'Sukienki']                                                647\n",
       "['Dom i Ogród', 'Ogród', 'Rośliny', 'Drzewa i krzewy liściaste']                                        640\n",
       "['Telefony i Akcesoria', 'Akcesoria GSM', 'Folie ochronne na LCD']                                      616\n",
       "                                                                                                       ... \n",
       "['RTV i AGD', 'Sprzęt audio dla domu', 'Odtwarzacze CD i MD', 'Jednopłytowe', 'Sony']                     1\n",
       "['RTV i AGD', 'Elektronika', 'Elektronika', 'Chemia dla elektroniki', 'Izolacja', 'Zalewy, lakiery']      1\n",
       "['Biuro i Reklama', 'Akcesoria biurowe', 'Pieczątki i akcesoria', 'Gumki do pieczątek']                   1\n",
       "['Dla Dzieci', 'Odzież', 'Sweterki', 'Rozmiar 122']                                                       1\n",
       "['Sport i Turystyka', 'Sporty drużynowe', 'Piłka ręczna', 'Pozostałe']                                    1\n",
       "Name: categories, Length: 7231, dtype: int64"
      ]
     },
     "execution_count": 168,
     "metadata": {},
     "output_type": "execute_result"
    }
   ],
   "source": [
    "allegro_df_test[\"categories\"].value_counts()"
   ]
  },
  {
   "cell_type": "markdown",
   "metadata": {},
   "source": [
    "Analogicznie do budowniczych, rozbiciem kategorii zajmiemy się później."
   ]
  },
  {
   "cell_type": "markdown",
   "metadata": {},
   "source": [
    "### pay_option_on_delivery"
   ]
  },
  {
   "cell_type": "code",
   "execution_count": 169,
   "metadata": {},
   "outputs": [
    {
     "data": {
      "text/plain": [
       "1    99283\n",
       "0    13465\n",
       "Name: pay_option_on_delivery, dtype: int64"
      ]
     },
     "execution_count": 169,
     "metadata": {},
     "output_type": "execute_result"
    }
   ],
   "source": [
    "allegro_df_test[\"pay_option_on_delivery\"].value_counts()"
   ]
  },
  {
   "cell_type": "code",
   "execution_count": 170,
   "metadata": {
    "scrolled": false
   },
   "outputs": [
    {
     "data": {
      "text/plain": [
       "<AxesSubplot:>"
      ]
     },
     "execution_count": 170,
     "metadata": {},
     "output_type": "execute_result"
    },
    {
     "data": {
      "image/png": "[encoded data removed]",
      "text/plain": [
       "<Figure size 432x288 with 1 Axes>"
      ]
     },
     "metadata": {
      "needs_background": "light"
     },
     "output_type": "display_data"
    }
   ],
   "source": [
    "allegro_df_test[\"pay_option_on_delivery\"].value_counts().plot(kind = \"barh\")"
   ]
  },
  {
   "cell_type": "markdown",
   "metadata": {},
   "source": [
    "Widzimy, że zdecydowana większość ofert posiada opcję zapłaty przy dostawie."
   ]
  },
  {
   "cell_type": "markdown",
   "metadata": {},
   "source": [
    "### pay_option_transfer"
   ]
  },
  {
   "cell_type": "code",
   "execution_count": 171,
   "metadata": {},
   "outputs": [
    {
     "data": {
      "text/plain": [
       "1    91719\n",
       "0    21029\n",
       "Name: pay_option_transfer, dtype: int64"
      ]
     },
     "execution_count": 171,
     "metadata": {},
     "output_type": "execute_result"
    }
   ],
   "source": [
    "allegro_df_test[\"pay_option_transfer\"].value_counts()"
   ]
  },
  {
   "cell_type": "code",
   "execution_count": 172,
   "metadata": {
    "scrolled": true
   },
   "outputs": [
    {
     "data": {
      "text/plain": [
       "<AxesSubplot:>"
      ]
     },
     "execution_count": 172,
     "metadata": {},
     "output_type": "execute_result"
    },
    {
     "data": {
      "image/png": "[encoded data removed]",
      "text/plain": [
       "<Figure size 432x288 with 1 Axes>"
      ]
     },
     "metadata": {
      "needs_background": "light"
     },
     "output_type": "display_data"
    }
   ],
   "source": [
    "allegro_df_test[\"pay_option_transfer\"].value_counts().plot(kind = \"barh\")"
   ]
  },
  {
   "cell_type": "markdown",
   "metadata": {},
   "source": [
    "Widzimy, że zdecydowana większość ofert posiada opcję zapłaty przelewem."
   ]
  },
  {
   "cell_type": "markdown",
   "metadata": {},
   "source": [
    "### seller"
   ]
  },
  {
   "cell_type": "code",
   "execution_count": 173,
   "metadata": {
    "scrolled": true
   },
   "outputs": [
    {
     "data": {
      "text/plain": [
       "Allegro          331\n",
       "darmarsklep      262\n",
       "Aros_pl          249\n",
       "sklepogrodnik    246\n",
       "ezebra_pl        240\n",
       "                ... \n",
       "piter8883          1\n",
       "micdab30           1\n",
       "NW34BN             1\n",
       "Capri10            1\n",
       "eviva666           1\n",
       "Name: seller, Length: 29685, dtype: int64"
      ]
     },
     "execution_count": 173,
     "metadata": {},
     "output_type": "execute_result"
    }
   ],
   "source": [
    "allegro_df_test[\"seller\"].value_counts()"
   ]
  },
  {
   "cell_type": "code",
   "execution_count": 174,
   "metadata": {
    "scrolled": true
   },
   "outputs": [
    {
     "data": {
      "text/plain": [
       "<AxesSubplot:xlabel='counts', ylabel='Count'>"
      ]
     },
     "execution_count": 174,
     "metadata": {},
     "output_type": "execute_result"
    },
    {
     "data": {
      "image/png": "[encoded data removed]",
      "text/plain": [
       "<Figure size 432x288 with 1 Axes>"
      ]
     },
     "metadata": {
      "needs_background": "light"
     },
     "output_type": "display_data"
    }
   ],
   "source": [
    "sns.histplot(data=allegro_df_test.groupby([\"seller\"]).size().reset_index(name=\"counts\"),x=\"counts\", binwidth=10)"
   ]
  },
  {
   "cell_type": "code",
   "execution_count": 175,
   "metadata": {
    "scrolled": true
   },
   "outputs": [
    {
     "data": {
      "text/plain": [
       "0.6462769595549679"
      ]
     },
     "execution_count": 175,
     "metadata": {},
     "output_type": "execute_result"
    }
   ],
   "source": [
    "df2 = allegro_df_test.groupby([\"seller\"]).size().reset_index(name=\"counts\").sort_values(by=\"counts\", ascending=False)\n",
    "df2.loc[df2['counts']<15].__len__()/43862"
   ]
  },
  {
   "cell_type": "markdown",
   "metadata": {},
   "source": [
    "W przeciwieństwie do budowniczych, na zbiorze walidacyjnym około 64% sprzedających ma poniżej 15 ofert. Opisywanie rozkładu tej zmiennej jako samo sprawdzanie liczby ofert raczej nie ma większego sensu po uprzednim usunięciu ofert z duplikowanymi przedmiotami. Należało by zwrócić uwagę, że jest to rozkład unikalnych ofert."
   ]
  },
  {
   "cell_type": "markdown",
   "metadata": {},
   "source": [
    "Dobrym pomysłem wydaje się również dodanie boxplota, który może dać dodatkowy wgląd w rozkład danych."
   ]
  },
  {
   "cell_type": "code",
   "execution_count": 176,
   "metadata": {},
   "outputs": [],
   "source": [
    "df3 = allegro_df_test.groupby([\"seller\"]).size().reset_index(name=\"counts\")"
   ]
  },
  {
   "cell_type": "code",
   "execution_count": 177,
   "metadata": {
    "scrolled": true
   },
   "outputs": [
    {
     "data": {
      "image/png": "[encoded data removed]",
      "text/plain": [
       "<Figure size 432x288 with 1 Axes>"
      ]
     },
     "metadata": {
      "needs_background": "light"
     },
     "output_type": "display_data"
    }
   ],
   "source": [
    "sns.boxplot(x = df3[\"counts\"])\n",
    "plt.show()"
   ]
  },
  {
   "cell_type": "markdown",
   "metadata": {},
   "source": [
    "Jak widzimy, występuje tutaj bardzo dużo outlierów, przez które również boxplot staje się niezbyt czytelny. Dobrym wyjściem byłoby zatem dodanie również podstawowych informacji o rozkładzie zmiennych."
   ]
  },
  {
   "cell_type": "code",
   "execution_count": 178,
   "metadata": {},
   "outputs": [
    {
     "data": {
      "text/plain": [
       "count    29685.000000\n",
       "mean         3.798147\n",
       "std          8.733593\n",
       "min          1.000000\n",
       "25%          1.000000\n",
       "50%          1.000000\n",
       "75%          3.000000\n",
       "max        331.000000\n",
       "Name: counts, dtype: float64"
      ]
     },
     "execution_count": 178,
     "metadata": {},
     "output_type": "execute_result"
    }
   ],
   "source": [
    "df3[\"counts\"].describe()"
   ]
  },
  {
   "cell_type": "markdown",
   "metadata": {},
   "source": [
    "### price"
   ]
  },
  {
   "cell_type": "code",
   "execution_count": 179,
   "metadata": {},
   "outputs": [
    {
     "data": {
      "text/plain": [
       "<AxesSubplot:>"
      ]
     },
     "execution_count": 179,
     "metadata": {},
     "output_type": "execute_result"
    },
    {
     "data": {
      "image/png": "[encoded data removed]",
      "text/plain": [
       "<Figure size 432x288 with 1 Axes>"
      ]
     },
     "metadata": {
      "needs_background": "light"
     },
     "output_type": "display_data"
    }
   ],
   "source": [
    "allegro_df_test[\"price\"].hist()"
   ]
  },
  {
   "cell_type": "code",
   "execution_count": 180,
   "metadata": {},
   "outputs": [
    {
     "data": {
      "text/plain": [
       "1.00       2010\n",
       "9.99       1239\n",
       "19.99      1122\n",
       "99.00       928\n",
       "15.00       866\n",
       "           ... \n",
       "22.25         1\n",
       "259.30        1\n",
       "312.42        1\n",
       "1119.00       1\n",
       "1259.90       1\n",
       "Name: price, Length: 6184, dtype: int64"
      ]
     },
     "execution_count": 180,
     "metadata": {},
     "output_type": "execute_result"
    }
   ],
   "source": [
    "allegro_df_test[\"price\"].sort_values().value_counts()"
   ]
  },
  {
   "cell_type": "markdown",
   "metadata": {},
   "source": [
    "Najczęściej występujące ceny są takie same jak u budowniczych."
   ]
  },
  {
   "cell_type": "markdown",
   "metadata": {},
   "source": [
    "Następnie sprawdzamy częstość występowania ceny 0."
   ]
  },
  {
   "cell_type": "code",
   "execution_count": 181,
   "metadata": {},
   "outputs": [
    {
     "data": {
      "text/plain": [
       "10"
      ]
     },
     "execution_count": 181,
     "metadata": {},
     "output_type": "execute_result"
    }
   ],
   "source": [
    "allegro_df_test[\"price\"].eq(0).sum()"
   ]
  },
  {
   "cell_type": "markdown",
   "metadata": {},
   "source": [
    "Do analizy tego wyniku budowniczowie wracają w późniejszej części raportu, zatem zrobimy to samo."
   ]
  },
  {
   "cell_type": "code",
   "execution_count": 182,
   "metadata": {},
   "outputs": [
    {
     "data": {
      "text/plain": [
       "count    112748.000000\n",
       "mean         80.058988\n",
       "std         556.099404\n",
       "min           0.000000\n",
       "25%           9.000000\n",
       "50%          25.000000\n",
       "75%          69.000000\n",
       "max      119000.000000\n",
       "Name: price, dtype: float64"
      ]
     },
     "execution_count": 182,
     "metadata": {},
     "output_type": "execute_result"
    }
   ],
   "source": [
    "allegro_df_test[\"price\"].describe()"
   ]
  },
  {
   "cell_type": "markdown",
   "metadata": {},
   "source": [
    "Rozkład ceny w zbiorze walidacyjnym wydaje się być podobnym do próbki do budowania."
   ]
  },
  {
   "cell_type": "markdown",
   "metadata": {},
   "source": [
    "Dodatkowym atutem byłoby również dodanie boxplota dla tej zmiennej."
   ]
  },
  {
   "cell_type": "code",
   "execution_count": 183,
   "metadata": {
    "scrolled": true
   },
   "outputs": [
    {
     "data": {
      "image/png": "[encoded data removed]",
      "text/plain": [
       "<Figure size 432x288 with 1 Axes>"
      ]
     },
     "metadata": {
      "needs_background": "light"
     },
     "output_type": "display_data"
    }
   ],
   "source": [
    "sns.boxplot(x = allegro_df_test[\"price\"])\n",
    "plt.show()"
   ]
  },
  {
   "cell_type": "markdown",
   "metadata": {},
   "source": [
    "Tutaj również, podobnie jak przy liczbie przedmiotów sprzedawanych przez sprzedawcę, istnieje wiele outlierów. Dla większych wartości są one jednak mniej skupione."
   ]
  },
  {
   "cell_type": "markdown",
   "metadata": {},
   "source": [
    "### it_is_allegro_standard"
   ]
  },
  {
   "cell_type": "code",
   "execution_count": 184,
   "metadata": {},
   "outputs": [
    {
     "data": {
      "text/plain": [
       "1    66351\n",
       "0    46397\n",
       "Name: it_is_allegro_standard, dtype: int64"
      ]
     },
     "execution_count": 184,
     "metadata": {},
     "output_type": "execute_result"
    }
   ],
   "source": [
    "allegro_df_test[\"it_is_allegro_standard\"].value_counts()"
   ]
  },
  {
   "cell_type": "code",
   "execution_count": 185,
   "metadata": {},
   "outputs": [
    {
     "data": {
      "text/plain": [
       "<AxesSubplot:>"
      ]
     },
     "execution_count": 185,
     "metadata": {},
     "output_type": "execute_result"
    },
    {
     "data": {
      "image/png": "[encoded data removed]",
      "text/plain": [
       "<Figure size 432x288 with 1 Axes>"
      ]
     },
     "metadata": {
      "needs_background": "light"
     },
     "output_type": "display_data"
    }
   ],
   "source": [
    "allegro_df_test[\"it_is_allegro_standard\"].value_counts().plot(kind = \"barh\")"
   ]
  },
  {
   "cell_type": "markdown",
   "metadata": {},
   "source": [
    "Tak jak u budowniczych, większość przedmiotów posiada standard allegro."
   ]
  },
  {
   "cell_type": "markdown",
   "metadata": {},
   "source": [
    "### it_quantity"
   ]
  },
  {
   "cell_type": "code",
   "execution_count": 186,
   "metadata": {},
   "outputs": [
    {
     "data": {
      "text/plain": [
       "0        17926\n",
       "1         3275\n",
       "2         2462\n",
       "3         2166\n",
       "4         2002\n",
       "         ...  \n",
       "4318         1\n",
       "2269         1\n",
       "8408         1\n",
       "1015         1\n",
       "98856        1\n",
       "Name: it_quantity, Length: 5425, dtype: int64"
      ]
     },
     "execution_count": 186,
     "metadata": {},
     "output_type": "execute_result"
    }
   ],
   "source": [
    "allegro_df_test[\"it_quantity\"].value_counts()"
   ]
  },
  {
   "cell_type": "code",
   "execution_count": 187,
   "metadata": {},
   "outputs": [
    {
     "data": {
      "text/plain": [
       "count    112748.000000\n",
       "mean       5759.046901\n",
       "std       21746.445552\n",
       "min           0.000000\n",
       "25%           5.000000\n",
       "50%          81.000000\n",
       "75%         908.000000\n",
       "max       99999.000000\n",
       "Name: it_quantity, dtype: float64"
      ]
     },
     "execution_count": 187,
     "metadata": {},
     "output_type": "execute_result"
    }
   ],
   "source": [
    "allegro_df_test[\"it_quantity\"].describe()"
   ]
  },
  {
   "cell_type": "markdown",
   "metadata": {},
   "source": [
    "Rozkład zmiennej <i>it_quantity</i> trochę różni się od zbioru do budowania. Największą różnicę zauważamy dla średniej. "
   ]
  },
  {
   "cell_type": "code",
   "execution_count": 188,
   "metadata": {},
   "outputs": [
    {
     "data": {
      "text/plain": [
       "17926"
      ]
     },
     "execution_count": 188,
     "metadata": {},
     "output_type": "execute_result"
    }
   ],
   "source": [
    "allegro_df_test[\"it_quantity\"].eq(0).sum()"
   ]
  },
  {
   "cell_type": "code",
   "execution_count": 189,
   "metadata": {},
   "outputs": [
    {
     "data": {
      "text/plain": [
       "94"
      ]
     },
     "execution_count": 189,
     "metadata": {},
     "output_type": "execute_result"
    }
   ],
   "source": [
    "allegro_df_test[\"it_quantity\"].eq(99999).sum()"
   ]
  },
  {
   "cell_type": "markdown",
   "metadata": {},
   "source": [
    "Podobnie jak dla zmiennej <i>price</i>, budowniczowie zdecydowali się na analizę tych wartości w dalszej części raportu."
   ]
  },
  {
   "cell_type": "code",
   "execution_count": 190,
   "metadata": {},
   "outputs": [
    {
     "data": {
      "text/plain": [
       "<AxesSubplot:xlabel='it_quantity', ylabel='Count'>"
      ]
     },
     "execution_count": 190,
     "metadata": {},
     "output_type": "execute_result"
    },
    {
     "data": {
      "image/png": "[encoded data removed]",
      "text/plain": [
       "<Figure size 432x288 with 1 Axes>"
      ]
     },
     "metadata": {
      "needs_background": "light"
     },
     "output_type": "display_data"
    }
   ],
   "source": [
    "sns.histplot(allegro_df_test,x='it_quantity')"
   ]
  },
  {
   "cell_type": "markdown",
   "metadata": {},
   "source": [
    "Histogram ten nie daje nam zbyt wielu informacji na temat zmiennej. Argument binwidth nie jest do niej odpowiednio dobrany."
   ]
  },
  {
   "cell_type": "code",
   "execution_count": 191,
   "metadata": {},
   "outputs": [
    {
     "data": {
      "text/plain": [
       "<AxesSubplot:>"
      ]
     },
     "execution_count": 191,
     "metadata": {},
     "output_type": "execute_result"
    },
    {
     "data": {
      "image/png": "[encoded data removed]",
      "text/plain": [
       "<Figure size 432x288 with 1 Axes>"
      ]
     },
     "metadata": {
      "needs_background": "light"
     },
     "output_type": "display_data"
    }
   ],
   "source": [
    "allegro_df_test[\"it_quantity\"].hist()"
   ]
  },
  {
   "cell_type": "markdown",
   "metadata": {},
   "source": [
    "Na powyższym histogramie widać odrobinę więcej, wiemy jednak, że najpewniej występuje tu sporo outlierów, co warto przedstawić na boxplocie."
   ]
  },
  {
   "cell_type": "code",
   "execution_count": 192,
   "metadata": {},
   "outputs": [
    {
     "data": {
      "image/png": "[encoded data removed]",
      "text/plain": [
       "<Figure size 432x288 with 1 Axes>"
      ]
     },
     "metadata": {
      "needs_background": "light"
     },
     "output_type": "display_data"
    }
   ],
   "source": [
    "sns.boxplot(x = allegro_df_test[\"it_quantity\"])\n",
    "plt.show()"
   ]
  },
  {
   "cell_type": "markdown",
   "metadata": {},
   "source": [
    "### it_is_brand_zone"
   ]
  },
  {
   "cell_type": "code",
   "execution_count": 193,
   "metadata": {},
   "outputs": [
    {
     "data": {
      "text/plain": [
       "0    111075\n",
       "1      1673\n",
       "Name: it_is_brand_zone, dtype: int64"
      ]
     },
     "execution_count": 193,
     "metadata": {},
     "output_type": "execute_result"
    }
   ],
   "source": [
    "allegro_df_test[\"it_is_brand_zone\"].value_counts()"
   ]
  },
  {
   "cell_type": "code",
   "execution_count": 194,
   "metadata": {},
   "outputs": [
    {
     "data": {
      "text/plain": [
       "<AxesSubplot:>"
      ]
     },
     "execution_count": 194,
     "metadata": {},
     "output_type": "execute_result"
    },
    {
     "data": {
      "image/png": "[encoded data removed]",
      "text/plain": [
       "<Figure size 432x288 with 1 Axes>"
      ]
     },
     "metadata": {
      "needs_background": "light"
     },
     "output_type": "display_data"
    }
   ],
   "source": [
    "allegro_df_test[\"it_is_brand_zone\"].value_counts().plot(kind = \"barh\")"
   ]
  },
  {
   "cell_type": "markdown",
   "metadata": {},
   "source": [
    "Tak jak u budowniczych, przeważająca liczba rekordów posiada flagę 0."
   ]
  },
  {
   "cell_type": "markdown",
   "metadata": {},
   "source": [
    "### it_seller_rating"
   ]
  },
  {
   "cell_type": "code",
   "execution_count": 195,
   "metadata": {},
   "outputs": [
    {
     "data": {
      "text/plain": [
       "0        143\n",
       "1        107\n",
       "6         84\n",
       "4         84\n",
       "2         83\n",
       "        ... \n",
       "33611      1\n",
       "90935      1\n",
       "86044      1\n",
       "43039      1\n",
       "13041      1\n",
       "Name: it_seller_rating, Length: 31283, dtype: int64"
      ]
     },
     "execution_count": 195,
     "metadata": {},
     "output_type": "execute_result"
    }
   ],
   "source": [
    "allegro_df_test[\"it_seller_rating\"].value_counts()"
   ]
  },
  {
   "cell_type": "code",
   "execution_count": 196,
   "metadata": {},
   "outputs": [
    {
     "data": {
      "text/plain": [
       "count    112748.000000\n",
       "mean      19378.283845\n",
       "std       35537.536941\n",
       "min          -1.000000\n",
       "25%        1525.000000\n",
       "50%        6418.000000\n",
       "75%       20112.000000\n",
       "max      292074.000000\n",
       "Name: it_seller_rating, dtype: float64"
      ]
     },
     "execution_count": 196,
     "metadata": {},
     "output_type": "execute_result"
    }
   ],
   "source": [
    "allegro_df_test[\"it_seller_rating\"].describe()"
   ]
  },
  {
   "cell_type": "code",
   "execution_count": 197,
   "metadata": {},
   "outputs": [
    {
     "data": {
      "text/plain": [
       "1"
      ]
     },
     "execution_count": 197,
     "metadata": {},
     "output_type": "execute_result"
    }
   ],
   "source": [
    "allegro_df_test[\"it_seller_rating\"].lt(0).sum()"
   ]
  },
  {
   "cell_type": "markdown",
   "metadata": {},
   "source": [
    "O wartości -1 budowniczowie wypowiadają się w dalszej części raportu."
   ]
  },
  {
   "cell_type": "markdown",
   "metadata": {},
   "source": [
    "W tym miejscu budowniczowie zdecydowali się z jakiejś przyczyny pokazać histogram dla innej zmiennej niż omawiana (dodatkowo z usuniętymi outlierami)."
   ]
  },
  {
   "cell_type": "code",
   "execution_count": 198,
   "metadata": {},
   "outputs": [
    {
     "name": "stdout",
     "output_type": "stream",
     "text": [
      "1\n"
     ]
    },
    {
     "data": {
      "text/plain": [
       "<AxesSubplot:xlabel='it_quantity', ylabel='Count'>"
      ]
     },
     "execution_count": 198,
     "metadata": {},
     "output_type": "execute_result"
    },
    {
     "data": {
      "image/png": "[encoded data removed]",
      "text/plain": [
       "<Figure size 432x288 with 1 Axes>"
      ]
     },
     "metadata": {
      "needs_background": "light"
     },
     "output_type": "display_data"
    }
   ],
   "source": [
    "it_quantities = allegro_df_test['it_quantity']\n",
    "\n",
    "upper_lim =it_quantities.quantile(.90)\n",
    "lower_lim =it_quantities.quantile(.00)\n",
    "\n",
    "data_percentile2 =it_quantities[(it_quantities < upper_lim) & (it_quantities > lower_lim)]\n",
    "print(data_percentile2.min())\n",
    "sns.histplot(data=data_percentile2,binwidth=10)"
   ]
  },
  {
   "cell_type": "markdown",
   "metadata": {},
   "source": [
    "Wykres rzeczywiście przedstawia się bardziej czytelnie, jest jednak delikatnie spóźniony."
   ]
  },
  {
   "cell_type": "markdown",
   "metadata": {},
   "source": [
    "Histogram dla zmiennej <i>it_seller_rating</i> przedstawia się następująco:"
   ]
  },
  {
   "cell_type": "code",
   "execution_count": 199,
   "metadata": {},
   "outputs": [
    {
     "data": {
      "text/plain": [
       "<AxesSubplot:>"
      ]
     },
     "execution_count": 199,
     "metadata": {},
     "output_type": "execute_result"
    },
    {
     "data": {
      "image/png": "[encoded data removed]",
      "text/plain": [
       "<Figure size 432x288 with 1 Axes>"
      ]
     },
     "metadata": {
      "needs_background": "light"
     },
     "output_type": "display_data"
    }
   ],
   "source": [
    "allegro_df_test[\"it_seller_rating\"].hist()"
   ]
  },
  {
   "cell_type": "markdown",
   "metadata": {},
   "source": [
    "Wykres ten jest mocno skośny w prawo. Zobaczmy rozkład danych na boxplocie."
   ]
  },
  {
   "cell_type": "code",
   "execution_count": 200,
   "metadata": {},
   "outputs": [
    {
     "data": {
      "image/png": "[encoded data removed]",
      "text/plain": [
       "<Figure size 432x288 with 1 Axes>"
      ]
     },
     "metadata": {
      "needs_background": "light"
     },
     "output_type": "display_data"
    }
   ],
   "source": [
    "sns.boxplot(x = allegro_df_test[\"it_seller_rating\"])\n",
    "plt.show()"
   ]
  },
  {
   "cell_type": "markdown",
   "metadata": {},
   "source": [
    "Boxplot dalej ma wiele outlierów, jest jednak odrobinę czytelniejszy od tych dla poprzednich zmiennych."
   ]
  },
  {
   "cell_type": "markdown",
   "metadata": {},
   "source": [
    "### it_location"
   ]
  },
  {
   "cell_type": "code",
   "execution_count": 201,
   "metadata": {},
   "outputs": [
    {
     "data": {
      "text/plain": [
       "Warszawa                         6420\n",
       "Kraków                           4141\n",
       "Łódź                             2896\n",
       "Poznań                           2723\n",
       "Wrocław                          2392\n",
       "                                 ... \n",
       "Kraków okolice - Jerzmanowice       1\n",
       "Czeszewo                            1\n",
       "Czarnowąsy                          1\n",
       "PODŁĘŻE                             1\n",
       "Łagów k/ Zgorzelca                  1\n",
       "Name: it_location, Length: 6692, dtype: int64"
      ]
     },
     "execution_count": 201,
     "metadata": {},
     "output_type": "execute_result"
    }
   ],
   "source": [
    "allegro_df_test[\"it_location\"].value_counts()"
   ]
  },
  {
   "cell_type": "markdown",
   "metadata": {},
   "source": [
    "Widzimy ponad 6,5 tysiąca różnych lokalizacji. Najprawdopodobniej część z nich będzie można złączyć, ale objaśnianiem tego budowniczowie zajęli się później. "
   ]
  },
  {
   "cell_type": "markdown",
   "metadata": {},
   "source": [
    "Z jakiegoś powodu budowniczowie zdecydowali się na wstawienie w tym miejscu następującego fragmentu kodu:"
   ]
  },
  {
   "cell_type": "code",
   "execution_count": 202,
   "metadata": {},
   "outputs": [],
   "source": [
    "fake_values1 = '!\"#$%&\\'()*+.:;<=>?@[\\\\]^_`{|}~@'\n",
    "fake_values2 = '!\"#$%&\\'()*+,-./:;<=>?@[\\\\]^_`{|}~ 1234567890'\n",
    "tmp1 = allegro_df_test[\"it_location\"].map((lambda v: any(char in v for char in fake_values1)))"
   ]
  },
  {
   "cell_type": "markdown",
   "metadata": {},
   "source": [
    "### main_category"
   ]
  },
  {
   "cell_type": "code",
   "execution_count": 203,
   "metadata": {},
   "outputs": [
    {
     "data": {
      "text/plain": [
       "Dom i Ogród                            23724\n",
       "Odzież, Obuwie, Dodatki                14350\n",
       "Motoryzacja                            13066\n",
       "Dla Dzieci                             11454\n",
       "Sport i Turystyka                       7474\n",
       "Uroda                                   7245\n",
       "RTV i AGD                               5547\n",
       "Telefony i Akcesoria                    5144\n",
       "Komputery                               3694\n",
       "Zdrowie                                 3484\n",
       "Książki i Komiksy                       3328\n",
       "Delikatesy                              2212\n",
       "Rękodzieło                              1871\n",
       "Kolekcje                                1794\n",
       "Przemysł                                1729\n",
       "Biżuteria i Zegarki                     1647\n",
       "Gry                                     1633\n",
       "Biuro i Reklama                          889\n",
       "Fotografia                               706\n",
       "Muzyka                                   573\n",
       "Antyki i Sztuka                          365\n",
       "Filmy                                    276\n",
       "Konsole i automaty                       233\n",
       "Instrumenty                              171\n",
       "Sprzęt estradowy, studyjny i DJ-ski      114\n",
       "Bilety                                    25\n",
       "Name: main_category, dtype: int64"
      ]
     },
     "execution_count": 203,
     "metadata": {},
     "output_type": "execute_result"
    }
   ],
   "source": [
    "allegro_df_test[\"main_category\"].value_counts()"
   ]
  },
  {
   "cell_type": "markdown",
   "metadata": {},
   "source": [
    "Cztery najczęstsze kategorie pokrywają się ze zbiorem do budowania. "
   ]
  },
  {
   "cell_type": "markdown",
   "metadata": {},
   "source": [
    "## Braki danych"
   ]
  },
  {
   "cell_type": "markdown",
   "metadata": {},
   "source": [
    "Wnioski (co do braków danych) z analizy jednowymiarowej pokrywają się:\n",
    "1. Zmienna \"price\" przyjmuje wartości zerowe.\n",
    "2. Zmienna \"it_quanity\" przyjmuje wartości zerowe.\n",
    "3. Zmienna \"it_seller_rating\" przyjmuje wartości ujemne."
   ]
  },
  {
   "cell_type": "markdown",
   "metadata": {},
   "source": [
    "Podpunkt 4. (Zmienna \"it_location\" zawiera dużo błędnych danych (prawdopodobnie użytkownik mógł ustawić tę wartość na dowolny ciąg charów ASCII) najprawdopodobniej również jest prawdziwy, aczkolwiek nigdzie wcześniej nie jest przedstawiona żadna błędna wartość."
   ]
  },
  {
   "cell_type": "markdown",
   "metadata": {},
   "source": [
    "### price"
   ]
  },
  {
   "cell_type": "code",
   "execution_count": 204,
   "metadata": {},
   "outputs": [
    {
     "data": {
      "text/plain": [
       "10"
      ]
     },
     "execution_count": 204,
     "metadata": {},
     "output_type": "execute_result"
    }
   ],
   "source": [
    "allegro_df_test[\"price\"].eq(0).sum()"
   ]
  },
  {
   "cell_type": "markdown",
   "metadata": {},
   "source": [
    "Darmowe przedmioty rzeczywiście wydają się być podejrzanymi."
   ]
  },
  {
   "cell_type": "code",
   "execution_count": 205,
   "metadata": {},
   "outputs": [
    {
     "data": {
      "text/html": [
       "<div>\n",
       "<style scoped>\n",
       "    .dataframe tbody tr th:only-of-type {\n",
       "        vertical-align: middle;\n",
       "    }\n",
       "\n",
       "    .dataframe tbody tr th {\n",
       "        vertical-align: top;\n",
       "    }\n",
       "\n",
       "    .dataframe thead th {\n",
       "        text-align: right;\n",
       "    }\n",
       "</style>\n",
       "<table border=\"1\" class=\"dataframe\">\n",
       "  <thead>\n",
       "    <tr style=\"text-align: right;\">\n",
       "      <th></th>\n",
       "      <th>item_id</th>\n",
       "      <th>categories</th>\n",
       "      <th>pay_option_on_delivery</th>\n",
       "      <th>pay_option_transfer</th>\n",
       "      <th>seller</th>\n",
       "      <th>price</th>\n",
       "      <th>it_is_allegro_standard</th>\n",
       "      <th>it_quantity</th>\n",
       "      <th>it_is_brand_zone</th>\n",
       "      <th>it_seller_rating</th>\n",
       "      <th>it_location</th>\n",
       "      <th>main_category</th>\n",
       "    </tr>\n",
       "  </thead>\n",
       "  <tbody>\n",
       "    <tr>\n",
       "      <th>52921</th>\n",
       "      <td>6087034161</td>\n",
       "      <td>['Odzież, Obuwie, Dodatki', 'Galanteria i doda...</td>\n",
       "      <td>1</td>\n",
       "      <td>1</td>\n",
       "      <td>alleloombard647</td>\n",
       "      <td>0.0</td>\n",
       "      <td>0</td>\n",
       "      <td>0</td>\n",
       "      <td>0</td>\n",
       "      <td>21</td>\n",
       "      <td>Biała Podlaska</td>\n",
       "      <td>Odzież, Obuwie, Dodatki</td>\n",
       "    </tr>\n",
       "    <tr>\n",
       "      <th>54886</th>\n",
       "      <td>6090900154</td>\n",
       "      <td>['Odzież, Obuwie, Dodatki', 'Obuwie', 'Damskie...</td>\n",
       "      <td>0</td>\n",
       "      <td>0</td>\n",
       "      <td>ojanuszczak</td>\n",
       "      <td>0.0</td>\n",
       "      <td>0</td>\n",
       "      <td>0</td>\n",
       "      <td>0</td>\n",
       "      <td>12</td>\n",
       "      <td>Puławy</td>\n",
       "      <td>Odzież, Obuwie, Dodatki</td>\n",
       "    </tr>\n",
       "    <tr>\n",
       "      <th>54902</th>\n",
       "      <td>6093716954</td>\n",
       "      <td>['Sport i Turystyka', 'Rowery i akcesoria', 'R...</td>\n",
       "      <td>1</td>\n",
       "      <td>0</td>\n",
       "      <td>Jaareckii</td>\n",
       "      <td>0.0</td>\n",
       "      <td>0</td>\n",
       "      <td>0</td>\n",
       "      <td>0</td>\n",
       "      <td>34</td>\n",
       "      <td>Zielona Góra</td>\n",
       "      <td>Sport i Turystyka</td>\n",
       "    </tr>\n",
       "    <tr>\n",
       "      <th>91606</th>\n",
       "      <td>6095509255</td>\n",
       "      <td>['Komputery', 'Komputery stacjonarne']</td>\n",
       "      <td>1</td>\n",
       "      <td>1</td>\n",
       "      <td>gigusd</td>\n",
       "      <td>0.0</td>\n",
       "      <td>0</td>\n",
       "      <td>0</td>\n",
       "      <td>0</td>\n",
       "      <td>523</td>\n",
       "      <td>Łobez</td>\n",
       "      <td>Komputery</td>\n",
       "    </tr>\n",
       "    <tr>\n",
       "      <th>94069</th>\n",
       "      <td>6088787851</td>\n",
       "      <td>['Telefony i Akcesoria', 'Telefony komórkowe',...</td>\n",
       "      <td>0</td>\n",
       "      <td>0</td>\n",
       "      <td>Madzitka23</td>\n",
       "      <td>0.0</td>\n",
       "      <td>0</td>\n",
       "      <td>0</td>\n",
       "      <td>0</td>\n",
       "      <td>77</td>\n",
       "      <td>Wągrowiec</td>\n",
       "      <td>Telefony i Akcesoria</td>\n",
       "    </tr>\n",
       "  </tbody>\n",
       "</table>\n",
       "</div>"
      ],
      "text/plain": [
       "          item_id                                         categories  \\\n",
       "52921  6087034161  ['Odzież, Obuwie, Dodatki', 'Galanteria i doda...   \n",
       "54886  6090900154  ['Odzież, Obuwie, Dodatki', 'Obuwie', 'Damskie...   \n",
       "54902  6093716954  ['Sport i Turystyka', 'Rowery i akcesoria', 'R...   \n",
       "91606  6095509255             ['Komputery', 'Komputery stacjonarne']   \n",
       "94069  6088787851  ['Telefony i Akcesoria', 'Telefony komórkowe',...   \n",
       "\n",
       "       pay_option_on_delivery  pay_option_transfer           seller  price  \\\n",
       "52921                       1                    1  alleloombard647    0.0   \n",
       "54886                       0                    0      ojanuszczak    0.0   \n",
       "54902                       1                    0        Jaareckii    0.0   \n",
       "91606                       1                    1           gigusd    0.0   \n",
       "94069                       0                    0       Madzitka23    0.0   \n",
       "\n",
       "       it_is_allegro_standard  it_quantity  it_is_brand_zone  \\\n",
       "52921                       0            0                 0   \n",
       "54886                       0            0                 0   \n",
       "54902                       0            0                 0   \n",
       "91606                       0            0                 0   \n",
       "94069                       0            0                 0   \n",
       "\n",
       "       it_seller_rating     it_location            main_category  \n",
       "52921                21  Biała Podlaska  Odzież, Obuwie, Dodatki  \n",
       "54886                12          Puławy  Odzież, Obuwie, Dodatki  \n",
       "54902                34    Zielona Góra        Sport i Turystyka  \n",
       "91606               523           Łobez                Komputery  \n",
       "94069                77       Wągrowiec     Telefony i Akcesoria  "
      ]
     },
     "execution_count": 205,
     "metadata": {},
     "output_type": "execute_result"
    }
   ],
   "source": [
    "price_zero = allegro_df_test.loc[allegro_df_test[\"price\"] == 0]\n",
    "price_zero.head()"
   ]
  },
  {
   "cell_type": "markdown",
   "metadata": {},
   "source": [
    "W tym przypadku rekordy (nie kolumny) najprawdopodobniej można usunąć."
   ]
  },
  {
   "cell_type": "code",
   "execution_count": 206,
   "metadata": {},
   "outputs": [
    {
     "name": "stdout",
     "output_type": "stream",
     "text": [
      "(112738, 12)\n",
      "(112738, 12)\n"
     ]
    },
    {
     "data": {
      "text/html": [
       "<div>\n",
       "<style scoped>\n",
       "    .dataframe tbody tr th:only-of-type {\n",
       "        vertical-align: middle;\n",
       "    }\n",
       "\n",
       "    .dataframe tbody tr th {\n",
       "        vertical-align: top;\n",
       "    }\n",
       "\n",
       "    .dataframe thead th {\n",
       "        text-align: right;\n",
       "    }\n",
       "</style>\n",
       "<table border=\"1\" class=\"dataframe\">\n",
       "  <thead>\n",
       "    <tr style=\"text-align: right;\">\n",
       "      <th></th>\n",
       "      <th>item_id</th>\n",
       "      <th>categories</th>\n",
       "      <th>pay_option_on_delivery</th>\n",
       "      <th>pay_option_transfer</th>\n",
       "      <th>seller</th>\n",
       "      <th>price</th>\n",
       "      <th>it_is_allegro_standard</th>\n",
       "      <th>it_quantity</th>\n",
       "      <th>it_is_brand_zone</th>\n",
       "      <th>it_seller_rating</th>\n",
       "      <th>it_location</th>\n",
       "      <th>main_category</th>\n",
       "    </tr>\n",
       "  </thead>\n",
       "  <tbody>\n",
       "    <tr>\n",
       "      <th>0</th>\n",
       "      <td>4773181874</td>\n",
       "      <td>['Odzież, Obuwie, Dodatki', 'Bielizna damska',...</td>\n",
       "      <td>1</td>\n",
       "      <td>1</td>\n",
       "      <td>InwestycjeNET</td>\n",
       "      <td>4.90</td>\n",
       "      <td>1</td>\n",
       "      <td>9288</td>\n",
       "      <td>0</td>\n",
       "      <td>12428</td>\n",
       "      <td>Warszawa</td>\n",
       "      <td>Odzież, Obuwie, Dodatki</td>\n",
       "    </tr>\n",
       "    <tr>\n",
       "      <th>1</th>\n",
       "      <td>4783971474</td>\n",
       "      <td>['Książki i Komiksy', 'Poradniki i albumy', 'Z...</td>\n",
       "      <td>1</td>\n",
       "      <td>1</td>\n",
       "      <td>Matfel1</td>\n",
       "      <td>18.50</td>\n",
       "      <td>0</td>\n",
       "      <td>971</td>\n",
       "      <td>0</td>\n",
       "      <td>15006</td>\n",
       "      <td>Wola Krzysztoporska</td>\n",
       "      <td>Książki i Komiksy</td>\n",
       "    </tr>\n",
       "    <tr>\n",
       "      <th>2</th>\n",
       "      <td>4790991674</td>\n",
       "      <td>['Odzież, Obuwie, Dodatki', 'Bielizna damska',...</td>\n",
       "      <td>1</td>\n",
       "      <td>1</td>\n",
       "      <td>Noemi-bielizna</td>\n",
       "      <td>10.99</td>\n",
       "      <td>1</td>\n",
       "      <td>742</td>\n",
       "      <td>0</td>\n",
       "      <td>39371</td>\n",
       "      <td>GĄBIN</td>\n",
       "      <td>Odzież, Obuwie, Dodatki</td>\n",
       "    </tr>\n",
       "    <tr>\n",
       "      <th>4</th>\n",
       "      <td>4824025074</td>\n",
       "      <td>['Biżuteria i Zegarki', 'Zegarki', 'Dziecięce']</td>\n",
       "      <td>1</td>\n",
       "      <td>1</td>\n",
       "      <td>handel_barbo</td>\n",
       "      <td>28.99</td>\n",
       "      <td>1</td>\n",
       "      <td>886</td>\n",
       "      <td>0</td>\n",
       "      <td>4287</td>\n",
       "      <td>Legionowo</td>\n",
       "      <td>Biżuteria i Zegarki</td>\n",
       "    </tr>\n",
       "    <tr>\n",
       "      <th>5</th>\n",
       "      <td>4828603874</td>\n",
       "      <td>['RTV i AGD', 'Kamery', 'Zasilanie', 'Zasilacze']</td>\n",
       "      <td>1</td>\n",
       "      <td>1</td>\n",
       "      <td>e-trade-com-pl</td>\n",
       "      <td>45.00</td>\n",
       "      <td>1</td>\n",
       "      <td>4</td>\n",
       "      <td>0</td>\n",
       "      <td>15561</td>\n",
       "      <td>Warszawa</td>\n",
       "      <td>RTV i AGD</td>\n",
       "    </tr>\n",
       "  </tbody>\n",
       "</table>\n",
       "</div>"
      ],
      "text/plain": [
       "      item_id                                         categories  \\\n",
       "0  4773181874  ['Odzież, Obuwie, Dodatki', 'Bielizna damska',...   \n",
       "1  4783971474  ['Książki i Komiksy', 'Poradniki i albumy', 'Z...   \n",
       "2  4790991674  ['Odzież, Obuwie, Dodatki', 'Bielizna damska',...   \n",
       "4  4824025074    ['Biżuteria i Zegarki', 'Zegarki', 'Dziecięce']   \n",
       "5  4828603874  ['RTV i AGD', 'Kamery', 'Zasilanie', 'Zasilacze']   \n",
       "\n",
       "   pay_option_on_delivery  pay_option_transfer          seller  price  \\\n",
       "0                       1                    1   InwestycjeNET   4.90   \n",
       "1                       1                    1         Matfel1  18.50   \n",
       "2                       1                    1  Noemi-bielizna  10.99   \n",
       "4                       1                    1    handel_barbo  28.99   \n",
       "5                       1                    1  e-trade-com-pl  45.00   \n",
       "\n",
       "   it_is_allegro_standard  it_quantity  it_is_brand_zone  it_seller_rating  \\\n",
       "0                       1         9288                 0             12428   \n",
       "1                       0          971                 0             15006   \n",
       "2                       1          742                 0             39371   \n",
       "4                       1          886                 0              4287   \n",
       "5                       1            4                 0             15561   \n",
       "\n",
       "           it_location            main_category  \n",
       "0             Warszawa  Odzież, Obuwie, Dodatki  \n",
       "1  Wola Krzysztoporska        Książki i Komiksy  \n",
       "2                GĄBIN  Odzież, Obuwie, Dodatki  \n",
       "4            Legionowo      Biżuteria i Zegarki  \n",
       "5             Warszawa                RTV i AGD  "
      ]
     },
     "execution_count": 206,
     "metadata": {},
     "output_type": "execute_result"
    }
   ],
   "source": [
    "allegro_df_test_fixed = allegro_df_test[allegro_df_test.price != 0]\n",
    "print(allegro_df_test_fixed.shape)\n",
    "print(allegro_df_test_fixed.shape)\n",
    "allegro_df_test_fixed.head()"
   ]
  },
  {
   "cell_type": "markdown",
   "metadata": {},
   "source": [
    "Uzasadnienie usunięcia danych pokrywa się z wnioskami budowniczych. Tutaj jednak można kłócić się z miejscem usuwania rekordów - a konkretniej przypisywania ich do nowej tabelki, podczas gdy dalsze braki danych wykrywane są na podstawie starej."
   ]
  },
  {
   "cell_type": "markdown",
   "metadata": {},
   "source": [
    "### it_quantity"
   ]
  },
  {
   "cell_type": "markdown",
   "metadata": {},
   "source": [
    "Budowniczowie zdecydowali się na powtórzenie w tym miejscu analizy jednoczynnikowej dla tej zmiennej."
   ]
  },
  {
   "cell_type": "code",
   "execution_count": 207,
   "metadata": {},
   "outputs": [
    {
     "data": {
      "text/plain": [
       "17926"
      ]
     },
     "execution_count": 207,
     "metadata": {},
     "output_type": "execute_result"
    }
   ],
   "source": [
    "allegro_df_test[\"it_quantity\"].eq(0).sum()"
   ]
  },
  {
   "cell_type": "code",
   "execution_count": 208,
   "metadata": {},
   "outputs": [
    {
     "data": {
      "text/plain": [
       "94"
      ]
     },
     "execution_count": 208,
     "metadata": {},
     "output_type": "execute_result"
    }
   ],
   "source": [
    "allegro_df_test[\"it_quantity\"].eq(99999).sum()"
   ]
  },
  {
   "cell_type": "code",
   "execution_count": 209,
   "metadata": {},
   "outputs": [
    {
     "data": {
      "text/plain": [
       "0        17926\n",
       "1         3275\n",
       "2         2462\n",
       "3         2166\n",
       "4         2002\n",
       "         ...  \n",
       "4318         1\n",
       "2269         1\n",
       "8408         1\n",
       "1015         1\n",
       "98856        1\n",
       "Name: it_quantity, Length: 5425, dtype: int64"
      ]
     },
     "execution_count": 209,
     "metadata": {},
     "output_type": "execute_result"
    }
   ],
   "source": [
    "allegro_df_test[\"it_quantity\"].value_counts()"
   ]
  },
  {
   "cell_type": "markdown",
   "metadata": {},
   "source": [
    "Zgadzamy się jednak z analizą tych danych oraz ścieżką obraną przez budowniczych. 0 może być domyślną watrością a rekordów jest za dużo na ich usunięcie. "
   ]
  },
  {
   "cell_type": "code",
   "execution_count": 210,
   "metadata": {
    "scrolled": true
   },
   "outputs": [
    {
     "data": {
      "text/html": [
       "<div>\n",
       "<style scoped>\n",
       "    .dataframe tbody tr th:only-of-type {\n",
       "        vertical-align: middle;\n",
       "    }\n",
       "\n",
       "    .dataframe tbody tr th {\n",
       "        vertical-align: top;\n",
       "    }\n",
       "\n",
       "    .dataframe thead th {\n",
       "        text-align: right;\n",
       "    }\n",
       "</style>\n",
       "<table border=\"1\" class=\"dataframe\">\n",
       "  <thead>\n",
       "    <tr style=\"text-align: right;\">\n",
       "      <th></th>\n",
       "      <th>item_id</th>\n",
       "      <th>categories</th>\n",
       "      <th>pay_option_on_delivery</th>\n",
       "      <th>pay_option_transfer</th>\n",
       "      <th>seller</th>\n",
       "      <th>price</th>\n",
       "      <th>it_is_allegro_standard</th>\n",
       "      <th>it_quantity</th>\n",
       "      <th>it_is_brand_zone</th>\n",
       "      <th>it_seller_rating</th>\n",
       "      <th>it_location</th>\n",
       "      <th>main_category</th>\n",
       "    </tr>\n",
       "  </thead>\n",
       "  <tbody>\n",
       "    <tr>\n",
       "      <th>0</th>\n",
       "      <td>4773181874</td>\n",
       "      <td>['Odzież, Obuwie, Dodatki', 'Bielizna damska',...</td>\n",
       "      <td>1</td>\n",
       "      <td>1</td>\n",
       "      <td>InwestycjeNET</td>\n",
       "      <td>4.90</td>\n",
       "      <td>1</td>\n",
       "      <td>9288</td>\n",
       "      <td>0</td>\n",
       "      <td>12428</td>\n",
       "      <td>Warszawa</td>\n",
       "      <td>Odzież, Obuwie, Dodatki</td>\n",
       "    </tr>\n",
       "    <tr>\n",
       "      <th>1</th>\n",
       "      <td>4783971474</td>\n",
       "      <td>['Książki i Komiksy', 'Poradniki i albumy', 'Z...</td>\n",
       "      <td>1</td>\n",
       "      <td>1</td>\n",
       "      <td>Matfel1</td>\n",
       "      <td>18.50</td>\n",
       "      <td>0</td>\n",
       "      <td>971</td>\n",
       "      <td>0</td>\n",
       "      <td>15006</td>\n",
       "      <td>Wola Krzysztoporska</td>\n",
       "      <td>Książki i Komiksy</td>\n",
       "    </tr>\n",
       "    <tr>\n",
       "      <th>2</th>\n",
       "      <td>4790991674</td>\n",
       "      <td>['Odzież, Obuwie, Dodatki', 'Bielizna damska',...</td>\n",
       "      <td>1</td>\n",
       "      <td>1</td>\n",
       "      <td>Noemi-bielizna</td>\n",
       "      <td>10.99</td>\n",
       "      <td>1</td>\n",
       "      <td>742</td>\n",
       "      <td>0</td>\n",
       "      <td>39371</td>\n",
       "      <td>GĄBIN</td>\n",
       "      <td>Odzież, Obuwie, Dodatki</td>\n",
       "    </tr>\n",
       "    <tr>\n",
       "      <th>4</th>\n",
       "      <td>4824025074</td>\n",
       "      <td>['Biżuteria i Zegarki', 'Zegarki', 'Dziecięce']</td>\n",
       "      <td>1</td>\n",
       "      <td>1</td>\n",
       "      <td>handel_barbo</td>\n",
       "      <td>28.99</td>\n",
       "      <td>1</td>\n",
       "      <td>886</td>\n",
       "      <td>0</td>\n",
       "      <td>4287</td>\n",
       "      <td>Legionowo</td>\n",
       "      <td>Biżuteria i Zegarki</td>\n",
       "    </tr>\n",
       "    <tr>\n",
       "      <th>5</th>\n",
       "      <td>4828603874</td>\n",
       "      <td>['RTV i AGD', 'Kamery', 'Zasilanie', 'Zasilacze']</td>\n",
       "      <td>1</td>\n",
       "      <td>1</td>\n",
       "      <td>e-trade-com-pl</td>\n",
       "      <td>45.00</td>\n",
       "      <td>1</td>\n",
       "      <td>4</td>\n",
       "      <td>0</td>\n",
       "      <td>15561</td>\n",
       "      <td>Warszawa</td>\n",
       "      <td>RTV i AGD</td>\n",
       "    </tr>\n",
       "  </tbody>\n",
       "</table>\n",
       "</div>"
      ],
      "text/plain": [
       "      item_id                                         categories  \\\n",
       "0  4773181874  ['Odzież, Obuwie, Dodatki', 'Bielizna damska',...   \n",
       "1  4783971474  ['Książki i Komiksy', 'Poradniki i albumy', 'Z...   \n",
       "2  4790991674  ['Odzież, Obuwie, Dodatki', 'Bielizna damska',...   \n",
       "4  4824025074    ['Biżuteria i Zegarki', 'Zegarki', 'Dziecięce']   \n",
       "5  4828603874  ['RTV i AGD', 'Kamery', 'Zasilanie', 'Zasilacze']   \n",
       "\n",
       "   pay_option_on_delivery  pay_option_transfer          seller  price  \\\n",
       "0                       1                    1   InwestycjeNET   4.90   \n",
       "1                       1                    1         Matfel1  18.50   \n",
       "2                       1                    1  Noemi-bielizna  10.99   \n",
       "4                       1                    1    handel_barbo  28.99   \n",
       "5                       1                    1  e-trade-com-pl  45.00   \n",
       "\n",
       "   it_is_allegro_standard  it_quantity  it_is_brand_zone  it_seller_rating  \\\n",
       "0                       1         9288                 0             12428   \n",
       "1                       0          971                 0             15006   \n",
       "2                       1          742                 0             39371   \n",
       "4                       1          886                 0              4287   \n",
       "5                       1            4                 0             15561   \n",
       "\n",
       "           it_location            main_category  \n",
       "0             Warszawa  Odzież, Obuwie, Dodatki  \n",
       "1  Wola Krzysztoporska        Książki i Komiksy  \n",
       "2                GĄBIN  Odzież, Obuwie, Dodatki  \n",
       "4            Legionowo      Biżuteria i Zegarki  \n",
       "5             Warszawa                RTV i AGD  "
      ]
     },
     "execution_count": 210,
     "metadata": {},
     "output_type": "execute_result"
    }
   ],
   "source": [
    "allegro_df_test_fixed.loc[allegro_df_test_fixed[\"it_quantity\"] == 0, \"it_quantity\"] = 1\n",
    "allegro_df_test_fixed.head()"
   ]
  },
  {
   "cell_type": "code",
   "execution_count": 211,
   "metadata": {},
   "outputs": [
    {
     "data": {
      "text/plain": [
       "1        21191\n",
       "2         2462\n",
       "3         2166\n",
       "4         2002\n",
       "9         1576\n",
       "         ...  \n",
       "98603        1\n",
       "8479         1\n",
       "8118         1\n",
       "2330         1\n",
       "98352        1\n",
       "Name: it_quantity, Length: 5424, dtype: int64"
      ]
     },
     "execution_count": 211,
     "metadata": {},
     "output_type": "execute_result"
    }
   ],
   "source": [
    "allegro_df_test_fixed[\"it_quantity\"].value_counts()"
   ]
  },
  {
   "cell_type": "markdown",
   "metadata": {},
   "source": [
    "### it_seller_rating"
   ]
  },
  {
   "cell_type": "code",
   "execution_count": 212,
   "metadata": {},
   "outputs": [
    {
     "data": {
      "text/plain": [
       "1"
      ]
     },
     "execution_count": 212,
     "metadata": {},
     "output_type": "execute_result"
    }
   ],
   "source": [
    "allegro_df_test[\"it_seller_rating\"].lt(0).sum()"
   ]
  },
  {
   "cell_type": "markdown",
   "metadata": {},
   "source": [
    "W naszym zbiorze występuje tylko 1 rekord o wartości -1. Jeśli nie jesteśmy w stanie zinterpretować tej wartości, najlepiej będzie ją usunąć."
   ]
  },
  {
   "cell_type": "code",
   "execution_count": 213,
   "metadata": {},
   "outputs": [
    {
     "data": {
      "text/plain": [
       "count    112738.000000\n",
       "mean      19379.993117\n",
       "std       35538.649554\n",
       "min           0.000000\n",
       "25%        1526.000000\n",
       "50%        6420.000000\n",
       "75%       20119.000000\n",
       "max      292074.000000\n",
       "Name: it_seller_rating, dtype: float64"
      ]
     },
     "execution_count": 213,
     "metadata": {},
     "output_type": "execute_result"
    }
   ],
   "source": [
    "allegro_df_test_fixed.loc[allegro_df_test_fixed[\"it_seller_rating\"].lt(0), \"it_seller_rating\"] = 0\n",
    "allegro_df_test_fixed[\"it_seller_rating\"].describe()"
   ]
  },
  {
   "cell_type": "markdown",
   "metadata": {},
   "source": [
    "### it_location"
   ]
  },
  {
   "cell_type": "code",
   "execution_count": 214,
   "metadata": {},
   "outputs": [
    {
     "data": {
      "text/plain": [
       "4"
      ]
     },
     "execution_count": 214,
     "metadata": {},
     "output_type": "execute_result"
    }
   ],
   "source": [
    "(allegro_df_test_fixed.it_location == \"Londyn\").sum()"
   ]
  },
  {
   "cell_type": "markdown",
   "metadata": {},
   "source": [
    "Z jakiegoś powodu budowniczowie połączyli wpisywanie dowolnego ciągu znaków z miastem Londyn. "
   ]
  },
  {
   "cell_type": "code",
   "execution_count": 215,
   "metadata": {},
   "outputs": [
    {
     "name": "stdout",
     "output_type": "stream",
     "text": [
      "555\n",
      "555\n",
      "559\n"
     ]
    }
   ],
   "source": [
    "allegro_df_test_fixed[\"it_location_raw\"] = allegro_df_test_fixed['it_location'].str.replace('[^\\w\\s]','')\n",
    "print((allegro_df_test_fixed.it_location_raw == \"\").sum())\n",
    "allegro_df_test_fixed.it_location_raw = allegro_df_test_fixed.it_location_raw.str.replace(' ', '')\n",
    "print((allegro_df_test_fixed.it_location_raw == \"\").sum())\n",
    "allegro_df_test_fixed.it_location_raw = allegro_df_test_fixed.it_location_raw.str.replace('\\d+', '')\n",
    "print((allegro_df_test_fixed.it_location_raw == \"\").sum())"
   ]
  },
  {
   "cell_type": "markdown",
   "metadata": {},
   "source": [
    "Sam pomysł wypisywania liczby \"uszkodzonych\" danych jest dobry, wypisywanie jej jednak przy każdym przekształceniu jest trochę mylące. Nie popieramy również usuwania tych rekordów. Lepszym rozwiązaniem byłoby stworzenie nowej wartości typu \"brak\"."
   ]
  },
  {
   "cell_type": "code",
   "execution_count": 216,
   "metadata": {},
   "outputs": [
    {
     "name": "stdout",
     "output_type": "stream",
     "text": [
      "(112738, 13)\n",
      "(112179, 13)\n"
     ]
    }
   ],
   "source": [
    "print(allegro_df_test_fixed.shape)\n",
    "allegro_df_test_fixed = allegro_df_test_fixed[allegro_df_test_fixed.it_location_raw != \"\"]\n",
    "print(allegro_df_test_fixed.shape)"
   ]
  },
  {
   "cell_type": "markdown",
   "metadata": {},
   "source": [
    "## Przekształcenie zmiennych ciągłych na kategoryczne"
   ]
  },
  {
   "cell_type": "markdown",
   "metadata": {},
   "source": [
    "### Zakodowanie zmiennej celu"
   ]
  },
  {
   "cell_type": "code",
   "execution_count": 217,
   "metadata": {},
   "outputs": [
    {
     "data": {
      "text/html": [
       "<div>\n",
       "<style scoped>\n",
       "    .dataframe tbody tr th:only-of-type {\n",
       "        vertical-align: middle;\n",
       "    }\n",
       "\n",
       "    .dataframe tbody tr th {\n",
       "        vertical-align: top;\n",
       "    }\n",
       "\n",
       "    .dataframe thead th {\n",
       "        text-align: right;\n",
       "    }\n",
       "</style>\n",
       "<table border=\"1\" class=\"dataframe\">\n",
       "  <thead>\n",
       "    <tr style=\"text-align: right;\">\n",
       "      <th></th>\n",
       "      <th>item_id</th>\n",
       "      <th>categories</th>\n",
       "      <th>pay_option_on_delivery</th>\n",
       "      <th>pay_option_transfer</th>\n",
       "      <th>seller</th>\n",
       "      <th>price</th>\n",
       "      <th>it_is_allegro_standard</th>\n",
       "      <th>it_quantity</th>\n",
       "      <th>it_is_brand_zone</th>\n",
       "      <th>it_seller_rating</th>\n",
       "      <th>it_location</th>\n",
       "      <th>main_category</th>\n",
       "      <th>it_location_raw</th>\n",
       "      <th>priceEncoded</th>\n",
       "    </tr>\n",
       "  </thead>\n",
       "  <tbody>\n",
       "    <tr>\n",
       "      <th>0</th>\n",
       "      <td>4773181874</td>\n",
       "      <td>['Odzież, Obuwie, Dodatki', 'Bielizna damska',...</td>\n",
       "      <td>1</td>\n",
       "      <td>1</td>\n",
       "      <td>InwestycjeNET</td>\n",
       "      <td>4.90</td>\n",
       "      <td>1</td>\n",
       "      <td>9288</td>\n",
       "      <td>0</td>\n",
       "      <td>12428</td>\n",
       "      <td>Warszawa</td>\n",
       "      <td>Odzież, Obuwie, Dodatki</td>\n",
       "      <td>Warszawa</td>\n",
       "      <td>0</td>\n",
       "    </tr>\n",
       "    <tr>\n",
       "      <th>1</th>\n",
       "      <td>4783971474</td>\n",
       "      <td>['Książki i Komiksy', 'Poradniki i albumy', 'Z...</td>\n",
       "      <td>1</td>\n",
       "      <td>1</td>\n",
       "      <td>Matfel1</td>\n",
       "      <td>18.50</td>\n",
       "      <td>0</td>\n",
       "      <td>971</td>\n",
       "      <td>0</td>\n",
       "      <td>15006</td>\n",
       "      <td>Wola Krzysztoporska</td>\n",
       "      <td>Książki i Komiksy</td>\n",
       "      <td>WolaKrzysztoporska</td>\n",
       "      <td>1</td>\n",
       "    </tr>\n",
       "    <tr>\n",
       "      <th>2</th>\n",
       "      <td>4790991674</td>\n",
       "      <td>['Odzież, Obuwie, Dodatki', 'Bielizna damska',...</td>\n",
       "      <td>1</td>\n",
       "      <td>1</td>\n",
       "      <td>Noemi-bielizna</td>\n",
       "      <td>10.99</td>\n",
       "      <td>1</td>\n",
       "      <td>742</td>\n",
       "      <td>0</td>\n",
       "      <td>39371</td>\n",
       "      <td>GĄBIN</td>\n",
       "      <td>Odzież, Obuwie, Dodatki</td>\n",
       "      <td>GĄBIN</td>\n",
       "      <td>0</td>\n",
       "    </tr>\n",
       "    <tr>\n",
       "      <th>4</th>\n",
       "      <td>4824025074</td>\n",
       "      <td>['Biżuteria i Zegarki', 'Zegarki', 'Dziecięce']</td>\n",
       "      <td>1</td>\n",
       "      <td>1</td>\n",
       "      <td>handel_barbo</td>\n",
       "      <td>28.99</td>\n",
       "      <td>1</td>\n",
       "      <td>886</td>\n",
       "      <td>0</td>\n",
       "      <td>4287</td>\n",
       "      <td>Legionowo</td>\n",
       "      <td>Biżuteria i Zegarki</td>\n",
       "      <td>Legionowo</td>\n",
       "      <td>1</td>\n",
       "    </tr>\n",
       "    <tr>\n",
       "      <th>5</th>\n",
       "      <td>4828603874</td>\n",
       "      <td>['RTV i AGD', 'Kamery', 'Zasilanie', 'Zasilacze']</td>\n",
       "      <td>1</td>\n",
       "      <td>1</td>\n",
       "      <td>e-trade-com-pl</td>\n",
       "      <td>45.00</td>\n",
       "      <td>1</td>\n",
       "      <td>4</td>\n",
       "      <td>0</td>\n",
       "      <td>15561</td>\n",
       "      <td>Warszawa</td>\n",
       "      <td>RTV i AGD</td>\n",
       "      <td>Warszawa</td>\n",
       "      <td>1</td>\n",
       "    </tr>\n",
       "  </tbody>\n",
       "</table>\n",
       "</div>"
      ],
      "text/plain": [
       "      item_id                                         categories  \\\n",
       "0  4773181874  ['Odzież, Obuwie, Dodatki', 'Bielizna damska',...   \n",
       "1  4783971474  ['Książki i Komiksy', 'Poradniki i albumy', 'Z...   \n",
       "2  4790991674  ['Odzież, Obuwie, Dodatki', 'Bielizna damska',...   \n",
       "4  4824025074    ['Biżuteria i Zegarki', 'Zegarki', 'Dziecięce']   \n",
       "5  4828603874  ['RTV i AGD', 'Kamery', 'Zasilanie', 'Zasilacze']   \n",
       "\n",
       "   pay_option_on_delivery  pay_option_transfer          seller  price  \\\n",
       "0                       1                    1   InwestycjeNET   4.90   \n",
       "1                       1                    1         Matfel1  18.50   \n",
       "2                       1                    1  Noemi-bielizna  10.99   \n",
       "4                       1                    1    handel_barbo  28.99   \n",
       "5                       1                    1  e-trade-com-pl  45.00   \n",
       "\n",
       "   it_is_allegro_standard  it_quantity  it_is_brand_zone  it_seller_rating  \\\n",
       "0                       1         9288                 0             12428   \n",
       "1                       0          971                 0             15006   \n",
       "2                       1          742                 0             39371   \n",
       "4                       1          886                 0              4287   \n",
       "5                       1            4                 0             15561   \n",
       "\n",
       "           it_location            main_category     it_location_raw  \\\n",
       "0             Warszawa  Odzież, Obuwie, Dodatki            Warszawa   \n",
       "1  Wola Krzysztoporska        Książki i Komiksy  WolaKrzysztoporska   \n",
       "2                GĄBIN  Odzież, Obuwie, Dodatki               GĄBIN   \n",
       "4            Legionowo      Biżuteria i Zegarki           Legionowo   \n",
       "5             Warszawa                RTV i AGD            Warszawa   \n",
       "\n",
       "   priceEncoded  \n",
       "0             0  \n",
       "1             1  \n",
       "2             0  \n",
       "4             1  \n",
       "5             1  "
      ]
     },
     "execution_count": 217,
     "metadata": {},
     "output_type": "execute_result"
    }
   ],
   "source": [
    "allegro_df_test_fixed['priceEncoded']=pd.qcut(allegro_df_test_fixed['price'], q=3,labels=False)\n",
    "allegro_df_test_fixed.head()"
   ]
  },
  {
   "cell_type": "markdown",
   "metadata": {},
   "source": [
    "### Zakodowanie it_seller_rating i it_quantity"
   ]
  },
  {
   "cell_type": "code",
   "execution_count": 218,
   "metadata": {},
   "outputs": [],
   "source": [
    "allegro_df_test_fixed['it_quantityEncoded']=pd.qcut(allegro_df_test_fixed['it_quantity'], q=5,labels=False)\n",
    "allegro_df_test_fixed['it_seller_ratingEncoded']=pd.qcut(allegro_df_test_fixed['it_seller_rating'], q=5,labels=False)"
   ]
  },
  {
   "cell_type": "code",
   "execution_count": 219,
   "metadata": {},
   "outputs": [
    {
     "data": {
      "text/html": [
       "<div>\n",
       "<style scoped>\n",
       "    .dataframe tbody tr th:only-of-type {\n",
       "        vertical-align: middle;\n",
       "    }\n",
       "\n",
       "    .dataframe tbody tr th {\n",
       "        vertical-align: top;\n",
       "    }\n",
       "\n",
       "    .dataframe thead th {\n",
       "        text-align: right;\n",
       "    }\n",
       "</style>\n",
       "<table border=\"1\" class=\"dataframe\">\n",
       "  <thead>\n",
       "    <tr style=\"text-align: right;\">\n",
       "      <th></th>\n",
       "      <th>item_id</th>\n",
       "      <th>categories</th>\n",
       "      <th>pay_option_on_delivery</th>\n",
       "      <th>pay_option_transfer</th>\n",
       "      <th>seller</th>\n",
       "      <th>price</th>\n",
       "      <th>it_is_allegro_standard</th>\n",
       "      <th>it_quantity</th>\n",
       "      <th>it_is_brand_zone</th>\n",
       "      <th>it_seller_rating</th>\n",
       "      <th>it_location</th>\n",
       "      <th>main_category</th>\n",
       "      <th>it_location_raw</th>\n",
       "      <th>priceEncoded</th>\n",
       "      <th>it_quantityEncoded</th>\n",
       "      <th>it_seller_ratingEncoded</th>\n",
       "    </tr>\n",
       "  </thead>\n",
       "  <tbody>\n",
       "    <tr>\n",
       "      <th>0</th>\n",
       "      <td>4773181874</td>\n",
       "      <td>['Odzież, Obuwie, Dodatki', 'Bielizna damska',...</td>\n",
       "      <td>1</td>\n",
       "      <td>1</td>\n",
       "      <td>InwestycjeNET</td>\n",
       "      <td>4.90</td>\n",
       "      <td>1</td>\n",
       "      <td>9288</td>\n",
       "      <td>0</td>\n",
       "      <td>12428</td>\n",
       "      <td>Warszawa</td>\n",
       "      <td>Odzież, Obuwie, Dodatki</td>\n",
       "      <td>Warszawa</td>\n",
       "      <td>0</td>\n",
       "      <td>4</td>\n",
       "      <td>3</td>\n",
       "    </tr>\n",
       "    <tr>\n",
       "      <th>1</th>\n",
       "      <td>4783971474</td>\n",
       "      <td>['Książki i Komiksy', 'Poradniki i albumy', 'Z...</td>\n",
       "      <td>1</td>\n",
       "      <td>1</td>\n",
       "      <td>Matfel1</td>\n",
       "      <td>18.50</td>\n",
       "      <td>0</td>\n",
       "      <td>971</td>\n",
       "      <td>0</td>\n",
       "      <td>15006</td>\n",
       "      <td>Wola Krzysztoporska</td>\n",
       "      <td>Książki i Komiksy</td>\n",
       "      <td>WolaKrzysztoporska</td>\n",
       "      <td>1</td>\n",
       "      <td>4</td>\n",
       "      <td>3</td>\n",
       "    </tr>\n",
       "    <tr>\n",
       "      <th>2</th>\n",
       "      <td>4790991674</td>\n",
       "      <td>['Odzież, Obuwie, Dodatki', 'Bielizna damska',...</td>\n",
       "      <td>1</td>\n",
       "      <td>1</td>\n",
       "      <td>Noemi-bielizna</td>\n",
       "      <td>10.99</td>\n",
       "      <td>1</td>\n",
       "      <td>742</td>\n",
       "      <td>0</td>\n",
       "      <td>39371</td>\n",
       "      <td>GĄBIN</td>\n",
       "      <td>Odzież, Obuwie, Dodatki</td>\n",
       "      <td>GĄBIN</td>\n",
       "      <td>0</td>\n",
       "      <td>3</td>\n",
       "      <td>4</td>\n",
       "    </tr>\n",
       "    <tr>\n",
       "      <th>4</th>\n",
       "      <td>4824025074</td>\n",
       "      <td>['Biżuteria i Zegarki', 'Zegarki', 'Dziecięce']</td>\n",
       "      <td>1</td>\n",
       "      <td>1</td>\n",
       "      <td>handel_barbo</td>\n",
       "      <td>28.99</td>\n",
       "      <td>1</td>\n",
       "      <td>886</td>\n",
       "      <td>0</td>\n",
       "      <td>4287</td>\n",
       "      <td>Legionowo</td>\n",
       "      <td>Biżuteria i Zegarki</td>\n",
       "      <td>Legionowo</td>\n",
       "      <td>1</td>\n",
       "      <td>3</td>\n",
       "      <td>2</td>\n",
       "    </tr>\n",
       "    <tr>\n",
       "      <th>5</th>\n",
       "      <td>4828603874</td>\n",
       "      <td>['RTV i AGD', 'Kamery', 'Zasilanie', 'Zasilacze']</td>\n",
       "      <td>1</td>\n",
       "      <td>1</td>\n",
       "      <td>e-trade-com-pl</td>\n",
       "      <td>45.00</td>\n",
       "      <td>1</td>\n",
       "      <td>4</td>\n",
       "      <td>0</td>\n",
       "      <td>15561</td>\n",
       "      <td>Warszawa</td>\n",
       "      <td>RTV i AGD</td>\n",
       "      <td>Warszawa</td>\n",
       "      <td>1</td>\n",
       "      <td>1</td>\n",
       "      <td>3</td>\n",
       "    </tr>\n",
       "    <tr>\n",
       "      <th>...</th>\n",
       "      <td>...</td>\n",
       "      <td>...</td>\n",
       "      <td>...</td>\n",
       "      <td>...</td>\n",
       "      <td>...</td>\n",
       "      <td>...</td>\n",
       "      <td>...</td>\n",
       "      <td>...</td>\n",
       "      <td>...</td>\n",
       "      <td>...</td>\n",
       "      <td>...</td>\n",
       "      <td>...</td>\n",
       "      <td>...</td>\n",
       "      <td>...</td>\n",
       "      <td>...</td>\n",
       "      <td>...</td>\n",
       "    </tr>\n",
       "    <tr>\n",
       "      <th>126001</th>\n",
       "      <td>6098643807</td>\n",
       "      <td>['Motoryzacja', 'Chemia', 'Oleje silnikowe', '...</td>\n",
       "      <td>1</td>\n",
       "      <td>1</td>\n",
       "      <td>FILTRY_Gdansk</td>\n",
       "      <td>228.99</td>\n",
       "      <td>1</td>\n",
       "      <td>11</td>\n",
       "      <td>0</td>\n",
       "      <td>26880</td>\n",
       "      <td>GDANSK</td>\n",
       "      <td>Motoryzacja</td>\n",
       "      <td>GDANSK</td>\n",
       "      <td>2</td>\n",
       "      <td>1</td>\n",
       "      <td>4</td>\n",
       "    </tr>\n",
       "    <tr>\n",
       "      <th>126002</th>\n",
       "      <td>6098828007</td>\n",
       "      <td>['Dla Dzieci', 'Obuwie', 'Sportowe']</td>\n",
       "      <td>1</td>\n",
       "      <td>1</td>\n",
       "      <td>Sklep_Adrenalina</td>\n",
       "      <td>35.00</td>\n",
       "      <td>0</td>\n",
       "      <td>1</td>\n",
       "      <td>0</td>\n",
       "      <td>4421</td>\n",
       "      <td>Zalesie</td>\n",
       "      <td>Dla Dzieci</td>\n",
       "      <td>Zalesie</td>\n",
       "      <td>1</td>\n",
       "      <td>0</td>\n",
       "      <td>2</td>\n",
       "    </tr>\n",
       "    <tr>\n",
       "      <th>126003</th>\n",
       "      <td>6099072807</td>\n",
       "      <td>['Odzież, Obuwie, Dodatki', 'Galanteria i doda...</td>\n",
       "      <td>0</td>\n",
       "      <td>0</td>\n",
       "      <td>katarzynasz2012</td>\n",
       "      <td>400.00</td>\n",
       "      <td>0</td>\n",
       "      <td>1</td>\n",
       "      <td>0</td>\n",
       "      <td>409</td>\n",
       "      <td>des plaines</td>\n",
       "      <td>Odzież, Obuwie, Dodatki</td>\n",
       "      <td>desplaines</td>\n",
       "      <td>2</td>\n",
       "      <td>0</td>\n",
       "      <td>0</td>\n",
       "    </tr>\n",
       "    <tr>\n",
       "      <th>126004</th>\n",
       "      <td>6099074607</td>\n",
       "      <td>['Dla Dzieci', 'Zabawki', 'Maskotki', 'Interak...</td>\n",
       "      <td>1</td>\n",
       "      <td>1</td>\n",
       "      <td>arti_barti</td>\n",
       "      <td>200.00</td>\n",
       "      <td>0</td>\n",
       "      <td>1</td>\n",
       "      <td>0</td>\n",
       "      <td>59</td>\n",
       "      <td>Miłkowice</td>\n",
       "      <td>Dla Dzieci</td>\n",
       "      <td>Miłkowice</td>\n",
       "      <td>2</td>\n",
       "      <td>0</td>\n",
       "      <td>0</td>\n",
       "    </tr>\n",
       "    <tr>\n",
       "      <th>126005</th>\n",
       "      <td>6099361407</td>\n",
       "      <td>['Muzyka', 'Płyty kompaktowe', 'Rap, Hip-Hop',...</td>\n",
       "      <td>1</td>\n",
       "      <td>1</td>\n",
       "      <td>kult-kulturka</td>\n",
       "      <td>200.00</td>\n",
       "      <td>1</td>\n",
       "      <td>1</td>\n",
       "      <td>0</td>\n",
       "      <td>1324</td>\n",
       "      <td>ŁAŃCUT</td>\n",
       "      <td>Muzyka</td>\n",
       "      <td>ŁAŃCUT</td>\n",
       "      <td>2</td>\n",
       "      <td>0</td>\n",
       "      <td>1</td>\n",
       "    </tr>\n",
       "  </tbody>\n",
       "</table>\n",
       "<p>112179 rows × 16 columns</p>\n",
       "</div>"
      ],
      "text/plain": [
       "           item_id                                         categories  \\\n",
       "0       4773181874  ['Odzież, Obuwie, Dodatki', 'Bielizna damska',...   \n",
       "1       4783971474  ['Książki i Komiksy', 'Poradniki i albumy', 'Z...   \n",
       "2       4790991674  ['Odzież, Obuwie, Dodatki', 'Bielizna damska',...   \n",
       "4       4824025074    ['Biżuteria i Zegarki', 'Zegarki', 'Dziecięce']   \n",
       "5       4828603874  ['RTV i AGD', 'Kamery', 'Zasilanie', 'Zasilacze']   \n",
       "...            ...                                                ...   \n",
       "126001  6098643807  ['Motoryzacja', 'Chemia', 'Oleje silnikowe', '...   \n",
       "126002  6098828007               ['Dla Dzieci', 'Obuwie', 'Sportowe']   \n",
       "126003  6099072807  ['Odzież, Obuwie, Dodatki', 'Galanteria i doda...   \n",
       "126004  6099074607  ['Dla Dzieci', 'Zabawki', 'Maskotki', 'Interak...   \n",
       "126005  6099361407  ['Muzyka', 'Płyty kompaktowe', 'Rap, Hip-Hop',...   \n",
       "\n",
       "        pay_option_on_delivery  pay_option_transfer            seller   price  \\\n",
       "0                            1                    1     InwestycjeNET    4.90   \n",
       "1                            1                    1           Matfel1   18.50   \n",
       "2                            1                    1    Noemi-bielizna   10.99   \n",
       "4                            1                    1      handel_barbo   28.99   \n",
       "5                            1                    1    e-trade-com-pl   45.00   \n",
       "...                        ...                  ...               ...     ...   \n",
       "126001                       1                    1     FILTRY_Gdansk  228.99   \n",
       "126002                       1                    1  Sklep_Adrenalina   35.00   \n",
       "126003                       0                    0   katarzynasz2012  400.00   \n",
       "126004                       1                    1        arti_barti  200.00   \n",
       "126005                       1                    1     kult-kulturka  200.00   \n",
       "\n",
       "        it_is_allegro_standard  it_quantity  it_is_brand_zone  \\\n",
       "0                            1         9288                 0   \n",
       "1                            0          971                 0   \n",
       "2                            1          742                 0   \n",
       "4                            1          886                 0   \n",
       "5                            1            4                 0   \n",
       "...                        ...          ...               ...   \n",
       "126001                       1           11                 0   \n",
       "126002                       0            1                 0   \n",
       "126003                       0            1                 0   \n",
       "126004                       0            1                 0   \n",
       "126005                       1            1                 0   \n",
       "\n",
       "        it_seller_rating          it_location            main_category  \\\n",
       "0                  12428             Warszawa  Odzież, Obuwie, Dodatki   \n",
       "1                  15006  Wola Krzysztoporska        Książki i Komiksy   \n",
       "2                  39371                GĄBIN  Odzież, Obuwie, Dodatki   \n",
       "4                   4287            Legionowo      Biżuteria i Zegarki   \n",
       "5                  15561             Warszawa                RTV i AGD   \n",
       "...                  ...                  ...                      ...   \n",
       "126001             26880               GDANSK              Motoryzacja   \n",
       "126002              4421              Zalesie               Dla Dzieci   \n",
       "126003               409          des plaines  Odzież, Obuwie, Dodatki   \n",
       "126004                59            Miłkowice               Dla Dzieci   \n",
       "126005              1324               ŁAŃCUT                   Muzyka   \n",
       "\n",
       "           it_location_raw  priceEncoded  it_quantityEncoded  \\\n",
       "0                 Warszawa             0                   4   \n",
       "1       WolaKrzysztoporska             1                   4   \n",
       "2                    GĄBIN             0                   3   \n",
       "4                Legionowo             1                   3   \n",
       "5                 Warszawa             1                   1   \n",
       "...                    ...           ...                 ...   \n",
       "126001              GDANSK             2                   1   \n",
       "126002             Zalesie             1                   0   \n",
       "126003          desplaines             2                   0   \n",
       "126004           Miłkowice             2                   0   \n",
       "126005              ŁAŃCUT             2                   0   \n",
       "\n",
       "        it_seller_ratingEncoded  \n",
       "0                             3  \n",
       "1                             3  \n",
       "2                             4  \n",
       "4                             2  \n",
       "5                             3  \n",
       "...                         ...  \n",
       "126001                        4  \n",
       "126002                        2  \n",
       "126003                        0  \n",
       "126004                        0  \n",
       "126005                        1  \n",
       "\n",
       "[112179 rows x 16 columns]"
      ]
     },
     "execution_count": 219,
     "metadata": {},
     "output_type": "execute_result"
    }
   ],
   "source": [
    "allegro_df_test_fixed"
   ]
  },
  {
   "cell_type": "markdown",
   "metadata": {},
   "source": [
    "Kodowanie zmiennych poprzez kwantyle wydaje się być dobrym wyjściem. Jeszcze lepiej byłoby jednak, gdybyśmy pracowali jedynie na potrzebnych nam kolumnach (z jakiegoś powodu zmienna <i>date</i> dostała usunięta, natomiast zmienna <i> id</i> już nie; po zakodowaniu zmiennych nie są potrzebne również ich podstawowe wartości)."
   ]
  }
 ],
 "metadata": {
  "kernelspec": {
   "display_name": "Python 3",
   "language": "python",
   "name": "python3"
  },
  "language_info": {
   "codemirror_mode": {
    "name": "ipython",
    "version": 3
   },
   "file_extension": ".py",
   "mimetype": "text/x-python",
   "name": "python",
   "nbconvert_exporter": "python",
   "pygments_lexer": "ipython3",
   "version": "3.8.5"
  }
 },
 "nbformat": 4,
 "nbformat_minor": 4
}
