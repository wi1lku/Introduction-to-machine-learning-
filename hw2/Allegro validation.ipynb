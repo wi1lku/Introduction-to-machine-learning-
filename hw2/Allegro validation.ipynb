{
 "cells": [
  {
   "cell_type": "markdown",
   "metadata": {},
   "source": [
    "# Walidacja klasyfikacji zbioru danych allegro-api-transaction.\n",
    "Julia Kaznowska, Piotr Wilczyński <br>\n",
    "25/03/2022 <br>\n",
    "Politechnika Warszawska, Wydział Matematyki i Nauk Informacyjnych, Wstęp do uczenia maszynowego"
   ]
  },
  {
   "cell_type": "markdown",
   "metadata": {},
   "source": [
    "## Import niezbędnych bibliotek oraz zbioru danych"
   ]
  },
  {
   "cell_type": "code",
   "execution_count": 1,
   "metadata": {},
   "outputs": [],
   "source": [
    "import pandas as pd\n",
    "import numpy as np\n",
    "import sklearn \n",
    "from sklearn.datasets import load_boston\n",
    "import seaborn as sns\n",
    "import matplotlib.pyplot as plt\n",
    "import matplotlib\n",
    "import warnings\n",
    "warnings.filterwarnings('ignore')\n",
    "np.random.seed(23)\n",
    "\n",
    "# zbior danych\n",
    "allegro_df = pd.read_csv('.\\\\allegro-api-transactions.csv')"
   ]
  },
  {
   "cell_type": "markdown",
   "metadata": {},
   "source": [
    "## Podział na dane do budowy i walidacji"
   ]
  },
  {
   "cell_type": "markdown",
   "metadata": {},
   "source": [
    "Do analizy dostaliśmy następujący podział danych:"
   ]
  },
  {
   "cell_type": "code",
   "execution_count": 2,
   "metadata": {},
   "outputs": [],
   "source": [
    "allegro_df_build = allegro_df.sample(frac=0.7, random_state=500)\n",
    "allegro_df_test = allegro_df.drop(allegro_df_build.index)"
   ]
  },
  {
   "cell_type": "markdown",
   "metadata": {},
   "source": [
    "W naszej opinii lepszy byłby podział warstwowy po zmiennej celu, aczkolwiek aktualnie nie jesteśmy w stanie tego zmienić."
   ]
  },
  {
   "cell_type": "code",
   "execution_count": 7,
   "metadata": {},
   "outputs": [],
   "source": [
    "allegro_df_test.reset_index(drop = True, inplace = True)"
   ]
  },
  {
   "cell_type": "markdown",
   "metadata": {},
   "source": [
    "## Przegląd ramki danych"
   ]
  },
  {
   "cell_type": "markdown",
   "metadata": {},
   "source": [
    "Zobaczmy kolumny zbioru i jakiego są typu:"
   ]
  },
  {
   "cell_type": "code",
   "execution_count": 10,
   "metadata": {
    "scrolled": true
   },
   "outputs": [
    {
     "name": "stdout",
     "output_type": "stream",
     "text": [
      "<class 'pandas.core.frame.DataFrame'>\n",
      "RangeIndex: 126006 entries, 0 to 126005\n",
      "Data columns (total 14 columns):\n",
      " #   Column                  Non-Null Count   Dtype  \n",
      "---  ------                  --------------   -----  \n",
      " 0   lp                      126006 non-null  int64  \n",
      " 1   date                    126006 non-null  object \n",
      " 2   item_id                 126006 non-null  int64  \n",
      " 3   categories              126006 non-null  object \n",
      " 4   pay_option_on_delivery  126006 non-null  int64  \n",
      " 5   pay_option_transfer     126006 non-null  int64  \n",
      " 6   seller                  126006 non-null  object \n",
      " 7   price                   126006 non-null  float64\n",
      " 8   it_is_allegro_standard  126006 non-null  int64  \n",
      " 9   it_quantity             126006 non-null  int64  \n",
      " 10  it_is_brand_zone        126006 non-null  int64  \n",
      " 11  it_seller_rating        126006 non-null  int64  \n",
      " 12  it_location             126006 non-null  object \n",
      " 13  main_category           126006 non-null  object \n",
      "dtypes: float64(1), int64(8), object(5)\n",
      "memory usage: 13.5+ MB\n"
     ]
    }
   ],
   "source": [
    "allegro_df_test.info()"
   ]
  },
  {
   "cell_type": "markdown",
   "metadata": {},
   "source": [
    "Ramka składa się z 14 kolumn i 126006 rekordów. Zobaczmy jej pierwsze rekordy."
   ]
  },
  {
   "cell_type": "code",
   "execution_count": 11,
   "metadata": {
    "scrolled": true
   },
   "outputs": [
    {
     "data": {
      "text/html": [
       "<div>\n",
       "<style scoped>\n",
       "    .dataframe tbody tr th:only-of-type {\n",
       "        vertical-align: middle;\n",
       "    }\n",
       "\n",
       "    .dataframe tbody tr th {\n",
       "        vertical-align: top;\n",
       "    }\n",
       "\n",
       "    .dataframe thead th {\n",
       "        text-align: right;\n",
       "    }\n",
       "</style>\n",
       "<table border=\"1\" class=\"dataframe\">\n",
       "  <thead>\n",
       "    <tr style=\"text-align: right;\">\n",
       "      <th></th>\n",
       "      <th>lp</th>\n",
       "      <th>date</th>\n",
       "      <th>item_id</th>\n",
       "      <th>categories</th>\n",
       "      <th>pay_option_on_delivery</th>\n",
       "      <th>pay_option_transfer</th>\n",
       "      <th>seller</th>\n",
       "      <th>price</th>\n",
       "      <th>it_is_allegro_standard</th>\n",
       "      <th>it_quantity</th>\n",
       "      <th>it_is_brand_zone</th>\n",
       "      <th>it_seller_rating</th>\n",
       "      <th>it_location</th>\n",
       "      <th>main_category</th>\n",
       "    </tr>\n",
       "  </thead>\n",
       "  <tbody>\n",
       "    <tr>\n",
       "      <th>0</th>\n",
       "      <td>1</td>\n",
       "      <td>2016-04-03 15:35:26</td>\n",
       "      <td>4773181874</td>\n",
       "      <td>['Odzież, Obuwie, Dodatki', 'Bielizna damska',...</td>\n",
       "      <td>1</td>\n",
       "      <td>1</td>\n",
       "      <td>InwestycjeNET</td>\n",
       "      <td>4.90</td>\n",
       "      <td>1</td>\n",
       "      <td>9288</td>\n",
       "      <td>0</td>\n",
       "      <td>12428</td>\n",
       "      <td>Warszawa</td>\n",
       "      <td>Odzież, Obuwie, Dodatki</td>\n",
       "    </tr>\n",
       "    <tr>\n",
       "      <th>1</th>\n",
       "      <td>3</td>\n",
       "      <td>2016-04-03 19:55:44</td>\n",
       "      <td>4783971474</td>\n",
       "      <td>['Książki i Komiksy', 'Poradniki i albumy', 'Z...</td>\n",
       "      <td>1</td>\n",
       "      <td>1</td>\n",
       "      <td>Matfel1</td>\n",
       "      <td>18.50</td>\n",
       "      <td>0</td>\n",
       "      <td>971</td>\n",
       "      <td>0</td>\n",
       "      <td>15006</td>\n",
       "      <td>Wola Krzysztoporska</td>\n",
       "      <td>Książki i Komiksy</td>\n",
       "    </tr>\n",
       "    <tr>\n",
       "      <th>2</th>\n",
       "      <td>5</td>\n",
       "      <td>2016-04-03 16:31:01</td>\n",
       "      <td>4790991674</td>\n",
       "      <td>['Odzież, Obuwie, Dodatki', 'Bielizna damska',...</td>\n",
       "      <td>1</td>\n",
       "      <td>1</td>\n",
       "      <td>Noemi-bielizna</td>\n",
       "      <td>10.99</td>\n",
       "      <td>1</td>\n",
       "      <td>742</td>\n",
       "      <td>0</td>\n",
       "      <td>39371</td>\n",
       "      <td>GĄBIN</td>\n",
       "      <td>Odzież, Obuwie, Dodatki</td>\n",
       "    </tr>\n",
       "    <tr>\n",
       "      <th>3</th>\n",
       "      <td>6</td>\n",
       "      <td>2016-04-03 17:56:11</td>\n",
       "      <td>4790991674</td>\n",
       "      <td>['Odzież, Obuwie, Dodatki', 'Bielizna damska',...</td>\n",
       "      <td>1</td>\n",
       "      <td>1</td>\n",
       "      <td>Noemi-bielizna</td>\n",
       "      <td>10.99</td>\n",
       "      <td>1</td>\n",
       "      <td>742</td>\n",
       "      <td>0</td>\n",
       "      <td>39371</td>\n",
       "      <td>GĄBIN</td>\n",
       "      <td>Odzież, Obuwie, Dodatki</td>\n",
       "    </tr>\n",
       "    <tr>\n",
       "      <th>4</th>\n",
       "      <td>7</td>\n",
       "      <td>2016-04-03 11:58:55</td>\n",
       "      <td>4824025074</td>\n",
       "      <td>['Biżuteria i Zegarki', 'Zegarki', 'Dziecięce']</td>\n",
       "      <td>1</td>\n",
       "      <td>1</td>\n",
       "      <td>handel_barbo</td>\n",
       "      <td>28.99</td>\n",
       "      <td>1</td>\n",
       "      <td>886</td>\n",
       "      <td>0</td>\n",
       "      <td>4287</td>\n",
       "      <td>Legionowo</td>\n",
       "      <td>Biżuteria i Zegarki</td>\n",
       "    </tr>\n",
       "  </tbody>\n",
       "</table>\n",
       "</div>"
      ],
      "text/plain": [
       "   lp                 date     item_id  \\\n",
       "0   1  2016-04-03 15:35:26  4773181874   \n",
       "1   3  2016-04-03 19:55:44  4783971474   \n",
       "2   5  2016-04-03 16:31:01  4790991674   \n",
       "3   6  2016-04-03 17:56:11  4790991674   \n",
       "4   7  2016-04-03 11:58:55  4824025074   \n",
       "\n",
       "                                          categories  pay_option_on_delivery  \\\n",
       "0  ['Odzież, Obuwie, Dodatki', 'Bielizna damska',...                       1   \n",
       "1  ['Książki i Komiksy', 'Poradniki i albumy', 'Z...                       1   \n",
       "2  ['Odzież, Obuwie, Dodatki', 'Bielizna damska',...                       1   \n",
       "3  ['Odzież, Obuwie, Dodatki', 'Bielizna damska',...                       1   \n",
       "4    ['Biżuteria i Zegarki', 'Zegarki', 'Dziecięce']                       1   \n",
       "\n",
       "   pay_option_transfer          seller  price  it_is_allegro_standard  \\\n",
       "0                    1   InwestycjeNET   4.90                       1   \n",
       "1                    1         Matfel1  18.50                       0   \n",
       "2                    1  Noemi-bielizna  10.99                       1   \n",
       "3                    1  Noemi-bielizna  10.99                       1   \n",
       "4                    1    handel_barbo  28.99                       1   \n",
       "\n",
       "   it_quantity  it_is_brand_zone  it_seller_rating          it_location  \\\n",
       "0         9288                 0             12428             Warszawa   \n",
       "1          971                 0             15006  Wola Krzysztoporska   \n",
       "2          742                 0             39371                GĄBIN   \n",
       "3          742                 0             39371                GĄBIN   \n",
       "4          886                 0              4287            Legionowo   \n",
       "\n",
       "             main_category  \n",
       "0  Odzież, Obuwie, Dodatki  \n",
       "1        Książki i Komiksy  \n",
       "2  Odzież, Obuwie, Dodatki  \n",
       "3  Odzież, Obuwie, Dodatki  \n",
       "4      Biżuteria i Zegarki  "
      ]
     },
     "execution_count": 11,
     "metadata": {},
     "output_type": "execute_result"
    }
   ],
   "source": [
    "allegro_df_test.head()"
   ]
  },
  {
   "cell_type": "markdown",
   "metadata": {},
   "source": [
    "### Wstępne braki danych"
   ]
  },
  {
   "cell_type": "code",
   "execution_count": 12,
   "metadata": {},
   "outputs": [
    {
     "data": {
      "text/plain": [
       "lp                        0\n",
       "date                      0\n",
       "item_id                   0\n",
       "categories                0\n",
       "pay_option_on_delivery    0\n",
       "pay_option_transfer       0\n",
       "seller                    0\n",
       "price                     0\n",
       "it_is_allegro_standard    0\n",
       "it_quantity               0\n",
       "it_is_brand_zone          0\n",
       "it_seller_rating          0\n",
       "it_location               0\n",
       "main_category             0\n",
       "dtype: int64"
      ]
     },
     "execution_count": 12,
     "metadata": {},
     "output_type": "execute_result"
    }
   ],
   "source": [
    "allegro_df_test.isnull().sum()"
   ]
  },
  {
   "cell_type": "code",
   "execution_count": 14,
   "metadata": {},
   "outputs": [
    {
     "data": {
      "text/plain": [
       "(array([], dtype=int64), array([], dtype=int64))"
      ]
     },
     "execution_count": 14,
     "metadata": {},
     "output_type": "execute_result"
    }
   ],
   "source": [
    "np.where(allegro_df_test.applymap(lambda x: x == ''))"
   ]
  },
  {
   "cell_type": "markdown",
   "metadata": {},
   "source": [
    "Wstępny przegląd zbioru wykazał, że w ramce nie ma oczywistych braków danych (w postaci null bądź pustych pól)."
   ]
  },
  {
   "cell_type": "markdown",
   "metadata": {},
   "source": [
    "## Analiza jednowymiarowa"
   ]
  },
  {
   "cell_type": "markdown",
   "metadata": {},
   "source": [
    "### lp"
   ]
  },
  {
   "cell_type": "code",
   "execution_count": 15,
   "metadata": {},
   "outputs": [
    {
     "data": {
      "text/plain": [
       "126006"
      ]
     },
     "execution_count": 15,
     "metadata": {},
     "output_type": "execute_result"
    }
   ],
   "source": [
    "allegro_df_test['lp'].unique().__len__()"
   ]
  },
  {
   "cell_type": "markdown",
   "metadata": {},
   "source": [
    "Zmienna unikalna dla każdego rekordu, nie będziemy jej brać pod uwagę przy konstrukcji modelu."
   ]
  },
  {
   "cell_type": "markdown",
   "metadata": {},
   "source": [
    "### date"
   ]
  },
  {
   "cell_type": "code",
   "execution_count": 17,
   "metadata": {},
   "outputs": [
    {
     "data": {
      "text/plain": [
       "2016-04-03 22:32:33    64\n",
       "2016-04-03 22:32:46    48\n",
       "2016-04-03 10:55:30    44\n",
       "2016-04-03 16:44:50    40\n",
       "2016-04-03 20:16:30    40\n",
       "                       ..\n",
       "2016-04-03 07:11:54     1\n",
       "2016-04-03 11:02:55     1\n",
       "2016-04-03 10:51:52     1\n",
       "2016-04-03 10:06:59     1\n",
       "2016-04-03 10:21:24     1\n",
       "Name: date, Length: 30839, dtype: int64"
      ]
     },
     "execution_count": 17,
     "metadata": {},
     "output_type": "execute_result"
    }
   ],
   "source": [
    "allegro_df_test[\"date\"].value_counts()"
   ]
  },
  {
   "cell_type": "markdown",
   "metadata": {},
   "source": [
    "W tym miejscu (w przeciwieństwie do budowniczych) uznaliśmy, że usuwanie tej kolumny może nie być dobrym posunięciem. Ceny mogą kształtować się inaczej ze względu na rok, na skutek chociażby inflacji. Najpierw sprawdzimy zatem, czy wszystkie rekordy pochodzą z tego samego roku."
   ]
  },
  {
   "cell_type": "code",
   "execution_count": 20,
   "metadata": {},
   "outputs": [
    {
     "data": {
      "text/plain": [
       "2016    126006\n",
       "Name: date, dtype: int64"
      ]
     },
     "execution_count": 20,
     "metadata": {},
     "output_type": "execute_result"
    }
   ],
   "source": [
    "pd.DatetimeIndex(allegro_df_test['date']).year.value_counts()"
   ]
  },
  {
   "cell_type": "code",
   "execution_count": 21,
   "metadata": {},
   "outputs": [
    {
     "data": {
      "text/plain": [
       "4    126006\n",
       "Name: date, dtype: int64"
      ]
     },
     "execution_count": 21,
     "metadata": {},
     "output_type": "execute_result"
    }
   ],
   "source": [
    "pd.DatetimeIndex(allegro_df_test['date']).month.value_counts()"
   ]
  },
  {
   "cell_type": "code",
   "execution_count": 22,
   "metadata": {},
   "outputs": [
    {
     "data": {
      "text/plain": [
       "3    126006\n",
       "Name: date, dtype: int64"
      ]
     },
     "execution_count": 22,
     "metadata": {},
     "output_type": "execute_result"
    }
   ],
   "source": [
    "pd.DatetimeIndex(allegro_df_test['date']).day.value_counts()"
   ]
  },
  {
   "cell_type": "markdown",
   "metadata": {},
   "source": [
    "Dzięki temu wiemy, że wszystkie rekordy pochodzą z tego samego dnia - zmienna ta zatem nie powinna mieć większego wpływu na model."
   ]
  },
  {
   "cell_type": "markdown",
   "metadata": {},
   "source": [
    "### item_id"
   ]
  },
  {
   "cell_type": "code",
   "execution_count": 23,
   "metadata": {},
   "outputs": [
    {
     "data": {
      "text/plain": [
       "6095133176    35\n",
       "6061413744    30\n",
       "6073551689    26\n",
       "6076113230    23\n",
       "6091540894    23\n",
       "              ..\n",
       "5589631668     1\n",
       "5556605622     1\n",
       "6083795647     1\n",
       "6045870785     1\n",
       "5524168708     1\n",
       "Name: item_id, Length: 112748, dtype: int64"
      ]
     },
     "execution_count": 23,
     "metadata": {},
     "output_type": "execute_result"
    }
   ],
   "source": [
    "allegro_df_test[\"item_id\"].value_counts()"
   ]
  },
  {
   "cell_type": "markdown",
   "metadata": {},
   "source": [
    "Występują powtarzające się przykłady. Według nas jednak usuwanie zduplikowanych rekordów nie jest najlepszym pomysłem, ponieważ może wpłynąć na model."
   ]
  },
  {
   "cell_type": "markdown",
   "metadata": {},
   "source": [
    "# DOGADAJ TO"
   ]
  },
  {
   "cell_type": "markdown",
   "metadata": {},
   "source": [
    "## categories"
   ]
  },
  {
   "cell_type": "code",
   "execution_count": 25,
   "metadata": {
    "scrolled": true
   },
   "outputs": [
    {
     "data": {
      "text/plain": [
       "['Dom i Ogród', 'Ogród', 'Rośliny', 'Rośliny owocowe']                                                                          1141\n",
       "['Dom i Ogród', 'Ogród', 'Rośliny', 'Bulwy, cebulki, kłącza']                                                                    826\n",
       "['Dom i Ogród', 'Ogród', 'Rośliny', 'Drzewa i krzewy liściaste']                                                                 816\n",
       "['Odzież, Obuwie, Dodatki', 'Odzież damska', 'Sukienki']                                                                         743\n",
       "['Motoryzacja', 'Opony', 'Opony samochodowe', 'Letnie']                                                                          708\n",
       "                                                                                                                                ... \n",
       "['Dom i Ogród', 'Ogród', 'Narzędzia ogrodnicze', 'Noże ogrodnicze']                                                                1\n",
       "['Kolekcje', 'Filatelistyka', 'Tematyczne', 'Religia i Papież', 'Obiekty i miejsca', 'Pozostałe']                                  1\n",
       "['Rękodzieło', 'Przedmioty ręcznie wykonane', 'Bransoletki']                                                                       1\n",
       "['Biuro i Reklama', 'Akcesoria biurowe', 'Pozostałe']                                                                              1\n",
       "['Motoryzacja', 'Narzędzia i sprzęt warsztatowy', 'Narzędzia specjalistyczne', 'Obsługa kół i ogumienia', 'Ciśnieniomierze']       1\n",
       "Name: categories, Length: 7231, dtype: int64"
      ]
     },
     "execution_count": 25,
     "metadata": {},
     "output_type": "execute_result"
    }
   ],
   "source": [
    "allegro_df_test[\"categories\"].value_counts()"
   ]
  },
  {
   "cell_type": "markdown",
   "metadata": {},
   "source": [
    "Analogicznie do budowniczych, rozbiciem kategorii zajmiemy się później."
   ]
  },
  {
   "cell_type": "markdown",
   "metadata": {},
   "source": [
    "### pay_option_on_delivery"
   ]
  },
  {
   "cell_type": "code",
   "execution_count": 26,
   "metadata": {},
   "outputs": [
    {
     "data": {
      "text/plain": [
       "1    110560\n",
       "0     15446\n",
       "Name: pay_option_on_delivery, dtype: int64"
      ]
     },
     "execution_count": 26,
     "metadata": {},
     "output_type": "execute_result"
    }
   ],
   "source": [
    "allegro_df_test[\"pay_option_on_delivery\"].value_counts()"
   ]
  },
  {
   "cell_type": "code",
   "execution_count": 27,
   "metadata": {
    "scrolled": false
   },
   "outputs": [
    {
     "data": {
      "text/plain": [
       "<AxesSubplot:>"
      ]
     },
     "execution_count": 27,
     "metadata": {},
     "output_type": "execute_result"
    },
    {
     "data": {
      "image/png": "[encoded data removed]",
      "text/plain": [
       "<Figure size 432x288 with 1 Axes>"
      ]
     },
     "metadata": {
      "needs_background": "light"
     },
     "output_type": "display_data"
    }
   ],
   "source": [
    "allegro_df_test[\"pay_option_on_delivery\"].value_counts().plot(kind = \"barh\")"
   ]
  },
  {
   "cell_type": "markdown",
   "metadata": {},
   "source": [
    "Widzimy, że zdecydowana większość ofert posiada opcję zapłaty przy dostawie."
   ]
  }
 ],
 "metadata": {
  "kernelspec": {
   "display_name": "Python 3",
   "language": "python",
   "name": "python3"
  },
  "language_info": {
   "codemirror_mode": {
    "name": "ipython",
    "version": 3
   },
   "file_extension": ".py",
   "mimetype": "text/x-python",
   "name": "python",
   "nbconvert_exporter": "python",
   "pygments_lexer": "ipython3",
   "version": "3.8.5"
  }
 },
 "nbformat": 4,
 "nbformat_minor": 4
}
