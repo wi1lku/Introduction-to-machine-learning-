{
  "cells": [
    {
      "cell_type": "markdown",
      "id": "91e144d5",
      "metadata": {
        "id": "91e144d5"
      },
      "source": [
        "# Praca domowa 2"
      ]
    },
    {
      "cell_type": "markdown",
      "id": "8023ab72",
      "metadata": {
        "id": "8023ab72"
      },
      "source": [
        "## Autorzy: Jan Skwarek, Daniel Tytkowski"
      ]
    },
    {
      "cell_type": "markdown",
      "id": "0321e39b",
      "metadata": {
        "id": "0321e39b"
      },
      "source": [
        "## Wstęp"
      ]
    },
    {
      "cell_type": "markdown",
      "id": "7dd1a16a",
      "metadata": {
        "id": "7dd1a16a"
      },
      "source": [
        "Zacznijmy od zaimportowania niezbędnych pakietów."
      ]
    },
    {
      "cell_type": "code",
      "execution_count": 1,
      "id": "dc5c80cc",
      "metadata": {
        "id": "dc5c80cc"
      },
      "outputs": [],
      "source": [
        "import pandas as pd\n",
        "import numpy as np\n",
        "import sklearn \n",
        "from sklearn.datasets import load_boston\n",
        "import seaborn as sns\n",
        "import matplotlib.pyplot as plt\n",
        "import matplotlib\n",
        "import warnings\n",
        "warnings.filterwarnings('ignore')\n",
        "# np.random.seed(23)"
      ]
    },
    {
      "cell_type": "markdown",
      "id": "c6c5f6b6",
      "metadata": {
        "id": "c6c5f6b6"
      },
      "source": [
        "Zajmijmy się teraz naszym plikiem z danymi."
      ]
    },
    {
      "cell_type": "code",
      "source": [
        "from google.colab import drive\n",
        "drive.mount('/content/drive')"
      ],
      "metadata": {
        "id": "vZstkDQ8BoM3",
        "colab": {
          "base_uri": "https://localhost:8080/"
        },
        "outputId": "f4b8894a-e057-49f8-ade3-c895ed4c4db9"
      },
      "id": "vZstkDQ8BoM3",
      "execution_count": 2,
      "outputs": [
        {
          "output_type": "stream",
          "name": "stdout",
          "text": [
            "Drive already mounted at /content/drive; to attempt to forcibly remount, call drive.mount(\"/content/drive\", force_remount=True).\n"
          ]
        }
      ]
    },
    {
      "cell_type": "code",
      "source": [
        "!wget https://download1503.mediafire.com/5sc68ehhickg/9anh0e4165zmwcx/allegro-api-transactions.csv\n",
        "allegro_df = pd.read_csv(\"allegro-api-transactions.csv\")"
      ],
      "metadata": {
        "id": "hoB0RRXW-LYe",
        "colab": {
          "base_uri": "https://localhost:8080/",
          "height": 548
        },
        "outputId": "669b01ea-6916-400f-8680-e633dc09c76e"
      },
      "id": "hoB0RRXW-LYe",
      "execution_count": 17,
      "outputs": [
        {
          "output_type": "stream",
          "name": "stdout",
          "text": [
            "--2022-03-23 17:09:02--  https://download1503.mediafire.com/5sc68ehhickg/9anh0e4165zmwcx/allegro-api-transactions.csv\n",
            "Resolving download1503.mediafire.com (download1503.mediafire.com)... 205.196.123.191\n",
            "Connecting to download1503.mediafire.com (download1503.mediafire.com)|205.196.123.191|:443... connected.\n",
            "HTTP request sent, awaiting response... 302 Found\n",
            "Location: http://www.mediafire.com/download_repair.php?flag=4&dkey=5sc68ehhick&qkey=9anh0e4165zmwcx&ip=34%2E91%2E80%2E91 [following]\n",
            "--2022-03-23 17:09:02--  http://www.mediafire.com/download_repair.php?flag=4&dkey=5sc68ehhick&qkey=9anh0e4165zmwcx&ip=34%2E91%2E80%2E91\n",
            "Resolving www.mediafire.com (www.mediafire.com)... 104.16.202.237, 104.16.203.237\n",
            "Connecting to www.mediafire.com (www.mediafire.com)|104.16.202.237|:80... connected.\n",
            "HTTP request sent, awaiting response... 200 OK\n",
            "Length: unspecified [text/html]\n",
            "Saving to: ‘allegro-api-transactions.csv.2’\n",
            "\n",
            "allegro-api-transac     [ <=>                ]  43.19K  --.-KB/s    in 0.02s   \n",
            "\n",
            "2022-03-23 17:09:03 (2.28 MB/s) - ‘allegro-api-transactions.csv.2’ saved [44227]\n",
            "\n"
          ]
        },
        {
          "output_type": "error",
          "ename": "ParserError",
          "evalue": "ignored",
          "traceback": [
            "\u001b[0;31m---------------------------------------------------------------------------\u001b[0m",
            "\u001b[0;31mParserError\u001b[0m                               Traceback (most recent call last)",
            "\u001b[0;32m<ipython-input-17-0b1e8d7b5fa7>\u001b[0m in \u001b[0;36m<module>\u001b[0;34m()\u001b[0m\n\u001b[1;32m      1\u001b[0m \u001b[0mget_ipython\u001b[0m\u001b[0;34m(\u001b[0m\u001b[0;34m)\u001b[0m\u001b[0;34m.\u001b[0m\u001b[0msystem\u001b[0m\u001b[0;34m(\u001b[0m\u001b[0;34m'wget https://download1503.mediafire.com/5sc68ehhickg/9anh0e4165zmwcx/allegro-api-transactions.csv'\u001b[0m\u001b[0;34m)\u001b[0m\u001b[0;34m\u001b[0m\u001b[0;34m\u001b[0m\u001b[0m\n\u001b[0;32m----> 2\u001b[0;31m \u001b[0mallegro_df\u001b[0m \u001b[0;34m=\u001b[0m \u001b[0mpd\u001b[0m\u001b[0;34m.\u001b[0m\u001b[0mread_csv\u001b[0m\u001b[0;34m(\u001b[0m\u001b[0;34m\"allegro-api-transactions.csv\"\u001b[0m\u001b[0;34m)\u001b[0m\u001b[0;34m\u001b[0m\u001b[0;34m\u001b[0m\u001b[0m\n\u001b[0m",
            "\u001b[0;32m/usr/local/lib/python3.7/dist-packages/pandas/util/_decorators.py\u001b[0m in \u001b[0;36mwrapper\u001b[0;34m(*args, **kwargs)\u001b[0m\n\u001b[1;32m    309\u001b[0m                     \u001b[0mstacklevel\u001b[0m\u001b[0;34m=\u001b[0m\u001b[0mstacklevel\u001b[0m\u001b[0;34m,\u001b[0m\u001b[0;34m\u001b[0m\u001b[0;34m\u001b[0m\u001b[0m\n\u001b[1;32m    310\u001b[0m                 )\n\u001b[0;32m--> 311\u001b[0;31m             \u001b[0;32mreturn\u001b[0m \u001b[0mfunc\u001b[0m\u001b[0;34m(\u001b[0m\u001b[0;34m*\u001b[0m\u001b[0margs\u001b[0m\u001b[0;34m,\u001b[0m \u001b[0;34m**\u001b[0m\u001b[0mkwargs\u001b[0m\u001b[0;34m)\u001b[0m\u001b[0;34m\u001b[0m\u001b[0;34m\u001b[0m\u001b[0m\n\u001b[0m\u001b[1;32m    312\u001b[0m \u001b[0;34m\u001b[0m\u001b[0m\n\u001b[1;32m    313\u001b[0m         \u001b[0;32mreturn\u001b[0m \u001b[0mwrapper\u001b[0m\u001b[0;34m\u001b[0m\u001b[0;34m\u001b[0m\u001b[0m\n",
            "\u001b[0;32m/usr/local/lib/python3.7/dist-packages/pandas/io/parsers/readers.py\u001b[0m in \u001b[0;36mread_csv\u001b[0;34m(filepath_or_buffer, sep, delimiter, header, names, index_col, usecols, squeeze, prefix, mangle_dupe_cols, dtype, engine, converters, true_values, false_values, skipinitialspace, skiprows, skipfooter, nrows, na_values, keep_default_na, na_filter, verbose, skip_blank_lines, parse_dates, infer_datetime_format, keep_date_col, date_parser, dayfirst, cache_dates, iterator, chunksize, compression, thousands, decimal, lineterminator, quotechar, quoting, doublequote, escapechar, comment, encoding, encoding_errors, dialect, error_bad_lines, warn_bad_lines, on_bad_lines, delim_whitespace, low_memory, memory_map, float_precision, storage_options)\u001b[0m\n\u001b[1;32m    584\u001b[0m     \u001b[0mkwds\u001b[0m\u001b[0;34m.\u001b[0m\u001b[0mupdate\u001b[0m\u001b[0;34m(\u001b[0m\u001b[0mkwds_defaults\u001b[0m\u001b[0;34m)\u001b[0m\u001b[0;34m\u001b[0m\u001b[0;34m\u001b[0m\u001b[0m\n\u001b[1;32m    585\u001b[0m \u001b[0;34m\u001b[0m\u001b[0m\n\u001b[0;32m--> 586\u001b[0;31m     \u001b[0;32mreturn\u001b[0m \u001b[0m_read\u001b[0m\u001b[0;34m(\u001b[0m\u001b[0mfilepath_or_buffer\u001b[0m\u001b[0;34m,\u001b[0m \u001b[0mkwds\u001b[0m\u001b[0;34m)\u001b[0m\u001b[0;34m\u001b[0m\u001b[0;34m\u001b[0m\u001b[0m\n\u001b[0m\u001b[1;32m    587\u001b[0m \u001b[0;34m\u001b[0m\u001b[0m\n\u001b[1;32m    588\u001b[0m \u001b[0;34m\u001b[0m\u001b[0m\n",
            "\u001b[0;32m/usr/local/lib/python3.7/dist-packages/pandas/io/parsers/readers.py\u001b[0m in \u001b[0;36m_read\u001b[0;34m(filepath_or_buffer, kwds)\u001b[0m\n\u001b[1;32m    486\u001b[0m \u001b[0;34m\u001b[0m\u001b[0m\n\u001b[1;32m    487\u001b[0m     \u001b[0;32mwith\u001b[0m \u001b[0mparser\u001b[0m\u001b[0;34m:\u001b[0m\u001b[0;34m\u001b[0m\u001b[0;34m\u001b[0m\u001b[0m\n\u001b[0;32m--> 488\u001b[0;31m         \u001b[0;32mreturn\u001b[0m \u001b[0mparser\u001b[0m\u001b[0;34m.\u001b[0m\u001b[0mread\u001b[0m\u001b[0;34m(\u001b[0m\u001b[0mnrows\u001b[0m\u001b[0;34m)\u001b[0m\u001b[0;34m\u001b[0m\u001b[0;34m\u001b[0m\u001b[0m\n\u001b[0m\u001b[1;32m    489\u001b[0m \u001b[0;34m\u001b[0m\u001b[0m\n\u001b[1;32m    490\u001b[0m \u001b[0;34m\u001b[0m\u001b[0m\n",
            "\u001b[0;32m/usr/local/lib/python3.7/dist-packages/pandas/io/parsers/readers.py\u001b[0m in \u001b[0;36mread\u001b[0;34m(self, nrows)\u001b[0m\n\u001b[1;32m   1045\u001b[0m     \u001b[0;32mdef\u001b[0m \u001b[0mread\u001b[0m\u001b[0;34m(\u001b[0m\u001b[0mself\u001b[0m\u001b[0;34m,\u001b[0m \u001b[0mnrows\u001b[0m\u001b[0;34m=\u001b[0m\u001b[0;32mNone\u001b[0m\u001b[0;34m)\u001b[0m\u001b[0;34m:\u001b[0m\u001b[0;34m\u001b[0m\u001b[0;34m\u001b[0m\u001b[0m\n\u001b[1;32m   1046\u001b[0m         \u001b[0mnrows\u001b[0m \u001b[0;34m=\u001b[0m \u001b[0mvalidate_integer\u001b[0m\u001b[0;34m(\u001b[0m\u001b[0;34m\"nrows\"\u001b[0m\u001b[0;34m,\u001b[0m \u001b[0mnrows\u001b[0m\u001b[0;34m)\u001b[0m\u001b[0;34m\u001b[0m\u001b[0;34m\u001b[0m\u001b[0m\n\u001b[0;32m-> 1047\u001b[0;31m         \u001b[0mindex\u001b[0m\u001b[0;34m,\u001b[0m \u001b[0mcolumns\u001b[0m\u001b[0;34m,\u001b[0m \u001b[0mcol_dict\u001b[0m \u001b[0;34m=\u001b[0m \u001b[0mself\u001b[0m\u001b[0;34m.\u001b[0m\u001b[0m_engine\u001b[0m\u001b[0;34m.\u001b[0m\u001b[0mread\u001b[0m\u001b[0;34m(\u001b[0m\u001b[0mnrows\u001b[0m\u001b[0;34m)\u001b[0m\u001b[0;34m\u001b[0m\u001b[0;34m\u001b[0m\u001b[0m\n\u001b[0m\u001b[1;32m   1048\u001b[0m \u001b[0;34m\u001b[0m\u001b[0m\n\u001b[1;32m   1049\u001b[0m         \u001b[0;32mif\u001b[0m \u001b[0mindex\u001b[0m \u001b[0;32mis\u001b[0m \u001b[0;32mNone\u001b[0m\u001b[0;34m:\u001b[0m\u001b[0;34m\u001b[0m\u001b[0;34m\u001b[0m\u001b[0m\n",
            "\u001b[0;32m/usr/local/lib/python3.7/dist-packages/pandas/io/parsers/c_parser_wrapper.py\u001b[0m in \u001b[0;36mread\u001b[0;34m(self, nrows)\u001b[0m\n\u001b[1;32m    222\u001b[0m         \u001b[0;32mtry\u001b[0m\u001b[0;34m:\u001b[0m\u001b[0;34m\u001b[0m\u001b[0;34m\u001b[0m\u001b[0m\n\u001b[1;32m    223\u001b[0m             \u001b[0;32mif\u001b[0m \u001b[0mself\u001b[0m\u001b[0;34m.\u001b[0m\u001b[0mlow_memory\u001b[0m\u001b[0;34m:\u001b[0m\u001b[0;34m\u001b[0m\u001b[0;34m\u001b[0m\u001b[0m\n\u001b[0;32m--> 224\u001b[0;31m                 \u001b[0mchunks\u001b[0m \u001b[0;34m=\u001b[0m \u001b[0mself\u001b[0m\u001b[0;34m.\u001b[0m\u001b[0m_reader\u001b[0m\u001b[0;34m.\u001b[0m\u001b[0mread_low_memory\u001b[0m\u001b[0;34m(\u001b[0m\u001b[0mnrows\u001b[0m\u001b[0;34m)\u001b[0m\u001b[0;34m\u001b[0m\u001b[0;34m\u001b[0m\u001b[0m\n\u001b[0m\u001b[1;32m    225\u001b[0m                 \u001b[0;31m# destructive to chunks\u001b[0m\u001b[0;34m\u001b[0m\u001b[0;34m\u001b[0m\u001b[0;34m\u001b[0m\u001b[0m\n\u001b[1;32m    226\u001b[0m                 \u001b[0mdata\u001b[0m \u001b[0;34m=\u001b[0m \u001b[0m_concatenate_chunks\u001b[0m\u001b[0;34m(\u001b[0m\u001b[0mchunks\u001b[0m\u001b[0;34m)\u001b[0m\u001b[0;34m\u001b[0m\u001b[0;34m\u001b[0m\u001b[0m\n",
            "\u001b[0;32m/usr/local/lib/python3.7/dist-packages/pandas/_libs/parsers.pyx\u001b[0m in \u001b[0;36mpandas._libs.parsers.TextReader.read_low_memory\u001b[0;34m()\u001b[0m\n",
            "\u001b[0;32m/usr/local/lib/python3.7/dist-packages/pandas/_libs/parsers.pyx\u001b[0m in \u001b[0;36mpandas._libs.parsers.TextReader._read_rows\u001b[0;34m()\u001b[0m\n",
            "\u001b[0;32m/usr/local/lib/python3.7/dist-packages/pandas/_libs/parsers.pyx\u001b[0m in \u001b[0;36mpandas._libs.parsers.TextReader._tokenize_rows\u001b[0;34m()\u001b[0m\n",
            "\u001b[0;32m/usr/local/lib/python3.7/dist-packages/pandas/_libs/parsers.pyx\u001b[0m in \u001b[0;36mpandas._libs.parsers.raise_parser_error\u001b[0;34m()\u001b[0m\n",
            "\u001b[0;31mParserError\u001b[0m: Error tokenizing data. C error: Expected 1 fields in line 3, saw 24\n"
          ]
        }
      ]
    },
    {
      "cell_type": "code",
      "source": [
        "allegro_df = pd.read_csv('/content/drive/MyDrive/allegro-api-transactions.csv')"
      ],
      "metadata": {
        "id": "t-7I-646v4Gb"
      },
      "id": "t-7I-646v4Gb",
      "execution_count": 3,
      "outputs": []
    },
    {
      "cell_type": "markdown",
      "id": "cc47d17e",
      "metadata": {
        "id": "cc47d17e"
      },
      "source": [
        "Dokonajmy podziału na część testową oraz część do budowania."
      ]
    },
    {
      "cell_type": "code",
      "execution_count": 4,
      "id": "95023c1e",
      "metadata": {
        "id": "95023c1e"
      },
      "outputs": [],
      "source": [
        "allegro_df_build = allegro_df.sample(frac=0.7, random_state=500)\n",
        "allegro_df_test = allegro_df.drop(allegro_df_build.index)"
      ]
    },
    {
      "cell_type": "markdown",
      "id": "3e890b8d",
      "metadata": {
        "id": "3e890b8d"
      },
      "source": [
        "Dokonajmy wstępnego przeglądu danych:"
      ]
    },
    {
      "cell_type": "code",
      "execution_count": 24,
      "id": "3b050341",
      "metadata": {
        "id": "3b050341",
        "outputId": "6cfe9634-1a0f-41bd-aee1-636d2019df5d",
        "colab": {
          "base_uri": "https://localhost:8080/",
          "height": 1000
        }
      },
      "outputs": [
        {
          "output_type": "execute_result",
          "data": {
            "text/plain": [
              "            lp                 date     item_id  \\\n",
              "180801  180801  2016-04-03 18:44:12  6095890163   \n",
              "169056  169056  2016-04-03 18:01:31  5813383000   \n",
              "168488  168488  2016-04-03 16:09:15  5152635000   \n",
              "59047    59047  2016-04-03 20:14:14  5604048299   \n",
              "69298    69298  2016-04-03 16:53:52  6097217991   \n",
              "...        ...                  ...         ...   \n",
              "47298    47298  2016-04-03 13:30:41  6060699085   \n",
              "19298    19298  2016-04-03 20:10:45  6085705574   \n",
              "6633      6633  2016-04-03 11:21:11  4999195279   \n",
              "59636    59636  2016-04-03 20:16:53  5973304699   \n",
              "324976  324976  2016-04-03 17:22:47  5288105241   \n",
              "\n",
              "                                               categories  \\\n",
              "180801     ['Kolekcje', 'Birofilistyka', 'Gadżety piwne']   \n",
              "169056  ['Uroda', 'Kosmetyki pielęgnacyjne', 'Ciało', ...   \n",
              "168488  ['Kolekcje', 'Modelarstwo', 'Materiały modelar...   \n",
              "59047   ['Biuro i Reklama', 'Artykuły piśmiennicze', '...   \n",
              "69298   ['Muzyka', 'Płyty kompaktowe', 'Rock', 'Zagran...   \n",
              "...                                                   ...   \n",
              "47298   ['Dom i Ogród', 'Ogród', 'Rośliny', 'Drzewa i ...   \n",
              "19298                ['Fotografia', 'Obiektywy', 'Nikon']   \n",
              "6633    ['Komputery', 'Części do laptopów', 'Klawiatury']   \n",
              "59636   ['Przemysł', 'Materiały i akcesoria', 'Budowni...   \n",
              "324976  ['Dom i Ogród', 'Wyposażenie', 'Oświetlenie', ...   \n",
              "\n",
              "        pay_option_on_delivery  pay_option_transfer          seller    price  \\\n",
              "180801                       0                    1    Afrikakorps1     4.00   \n",
              "169056                       1                    1  kosmet_galeria    14.95   \n",
              "168488                       1                    1      modelas123     7.80   \n",
              "59047                        1                    1    papiermix-pl     3.30   \n",
              "69298                        0                    1       janekpogi    24.00   \n",
              "...                        ...                  ...             ...      ...   \n",
              "47298                        1                    1  Arek_Milkowski    10.00   \n",
              "19298                        1                    1      juha2-foto  1349.00   \n",
              "6633                         1                    1    KRZYMARK_ZDW    69.99   \n",
              "59636                        1                    1      arbi1_2008     1.40   \n",
              "324976                       1                    1         Pmichal     5.79   \n",
              "\n",
              "        it_is_allegro_standard  it_quantity  it_is_brand_zone  \\\n",
              "180801                       0            0                 0   \n",
              "169056                       1            0                 0   \n",
              "168488                       0          970                 0   \n",
              "59047                        0          971                 0   \n",
              "69298                        0            0                 0   \n",
              "...                        ...          ...               ...   \n",
              "47298                        0           20                 0   \n",
              "19298                        1            0                 0   \n",
              "6633                         1          997                 0   \n",
              "59636                        0            0                 0   \n",
              "324976                       1          334                 0   \n",
              "\n",
              "        it_seller_rating          it_location    main_category  \n",
              "180801               747              Miastko         Kolekcje  \n",
              "169056              4303             Warszawa            Uroda  \n",
              "168488             20202               Krosno         Kolekcje  \n",
              "59047               3572           Głuchołazy  Biuro i Reklama  \n",
              "69298                568               Tarnów           Muzyka  \n",
              "...                  ...                  ...              ...  \n",
              "47298                367              WSCHOWA      Dom i Ogród  \n",
              "19298                947  Międzyrzec Podlaski       Fotografia  \n",
              "6633              100041                 Łódź        Komputery  \n",
              "59636                513          Cała Polska         Przemysł  \n",
              "324976              2384             Warszawa      Dom i Ogród  \n",
              "\n",
              "[294014 rows x 14 columns]"
            ],
            "text/html": [
              "\n",
              "  <div id=\"df-bfedee25-cb1d-4300-b282-5e6633ce74b1\">\n",
              "    <div class=\"colab-df-container\">\n",
              "      <div>\n",
              "<style scoped>\n",
              "    .dataframe tbody tr th:only-of-type {\n",
              "        vertical-align: middle;\n",
              "    }\n",
              "\n",
              "    .dataframe tbody tr th {\n",
              "        vertical-align: top;\n",
              "    }\n",
              "\n",
              "    .dataframe thead th {\n",
              "        text-align: right;\n",
              "    }\n",
              "</style>\n",
              "<table border=\"1\" class=\"dataframe\">\n",
              "  <thead>\n",
              "    <tr style=\"text-align: right;\">\n",
              "      <th></th>\n",
              "      <th>lp</th>\n",
              "      <th>date</th>\n",
              "      <th>item_id</th>\n",
              "      <th>categories</th>\n",
              "      <th>pay_option_on_delivery</th>\n",
              "      <th>pay_option_transfer</th>\n",
              "      <th>seller</th>\n",
              "      <th>price</th>\n",
              "      <th>it_is_allegro_standard</th>\n",
              "      <th>it_quantity</th>\n",
              "      <th>it_is_brand_zone</th>\n",
              "      <th>it_seller_rating</th>\n",
              "      <th>it_location</th>\n",
              "      <th>main_category</th>\n",
              "    </tr>\n",
              "  </thead>\n",
              "  <tbody>\n",
              "    <tr>\n",
              "      <th>180801</th>\n",
              "      <td>180801</td>\n",
              "      <td>2016-04-03 18:44:12</td>\n",
              "      <td>6095890163</td>\n",
              "      <td>['Kolekcje', 'Birofilistyka', 'Gadżety piwne']</td>\n",
              "      <td>0</td>\n",
              "      <td>1</td>\n",
              "      <td>Afrikakorps1</td>\n",
              "      <td>4.00</td>\n",
              "      <td>0</td>\n",
              "      <td>0</td>\n",
              "      <td>0</td>\n",
              "      <td>747</td>\n",
              "      <td>Miastko</td>\n",
              "      <td>Kolekcje</td>\n",
              "    </tr>\n",
              "    <tr>\n",
              "      <th>169056</th>\n",
              "      <td>169056</td>\n",
              "      <td>2016-04-03 18:01:31</td>\n",
              "      <td>5813383000</td>\n",
              "      <td>['Uroda', 'Kosmetyki pielęgnacyjne', 'Ciało', ...</td>\n",
              "      <td>1</td>\n",
              "      <td>1</td>\n",
              "      <td>kosmet_galeria</td>\n",
              "      <td>14.95</td>\n",
              "      <td>1</td>\n",
              "      <td>0</td>\n",
              "      <td>0</td>\n",
              "      <td>4303</td>\n",
              "      <td>Warszawa</td>\n",
              "      <td>Uroda</td>\n",
              "    </tr>\n",
              "    <tr>\n",
              "      <th>168488</th>\n",
              "      <td>168488</td>\n",
              "      <td>2016-04-03 16:09:15</td>\n",
              "      <td>5152635000</td>\n",
              "      <td>['Kolekcje', 'Modelarstwo', 'Materiały modelar...</td>\n",
              "      <td>1</td>\n",
              "      <td>1</td>\n",
              "      <td>modelas123</td>\n",
              "      <td>7.80</td>\n",
              "      <td>0</td>\n",
              "      <td>970</td>\n",
              "      <td>0</td>\n",
              "      <td>20202</td>\n",
              "      <td>Krosno</td>\n",
              "      <td>Kolekcje</td>\n",
              "    </tr>\n",
              "    <tr>\n",
              "      <th>59047</th>\n",
              "      <td>59047</td>\n",
              "      <td>2016-04-03 20:14:14</td>\n",
              "      <td>5604048299</td>\n",
              "      <td>['Biuro i Reklama', 'Artykuły piśmiennicze', '...</td>\n",
              "      <td>1</td>\n",
              "      <td>1</td>\n",
              "      <td>papiermix-pl</td>\n",
              "      <td>3.30</td>\n",
              "      <td>0</td>\n",
              "      <td>971</td>\n",
              "      <td>0</td>\n",
              "      <td>3572</td>\n",
              "      <td>Głuchołazy</td>\n",
              "      <td>Biuro i Reklama</td>\n",
              "    </tr>\n",
              "    <tr>\n",
              "      <th>69298</th>\n",
              "      <td>69298</td>\n",
              "      <td>2016-04-03 16:53:52</td>\n",
              "      <td>6097217991</td>\n",
              "      <td>['Muzyka', 'Płyty kompaktowe', 'Rock', 'Zagran...</td>\n",
              "      <td>0</td>\n",
              "      <td>1</td>\n",
              "      <td>janekpogi</td>\n",
              "      <td>24.00</td>\n",
              "      <td>0</td>\n",
              "      <td>0</td>\n",
              "      <td>0</td>\n",
              "      <td>568</td>\n",
              "      <td>Tarnów</td>\n",
              "      <td>Muzyka</td>\n",
              "    </tr>\n",
              "    <tr>\n",
              "      <th>...</th>\n",
              "      <td>...</td>\n",
              "      <td>...</td>\n",
              "      <td>...</td>\n",
              "      <td>...</td>\n",
              "      <td>...</td>\n",
              "      <td>...</td>\n",
              "      <td>...</td>\n",
              "      <td>...</td>\n",
              "      <td>...</td>\n",
              "      <td>...</td>\n",
              "      <td>...</td>\n",
              "      <td>...</td>\n",
              "      <td>...</td>\n",
              "      <td>...</td>\n",
              "    </tr>\n",
              "    <tr>\n",
              "      <th>47298</th>\n",
              "      <td>47298</td>\n",
              "      <td>2016-04-03 13:30:41</td>\n",
              "      <td>6060699085</td>\n",
              "      <td>['Dom i Ogród', 'Ogród', 'Rośliny', 'Drzewa i ...</td>\n",
              "      <td>1</td>\n",
              "      <td>1</td>\n",
              "      <td>Arek_Milkowski</td>\n",
              "      <td>10.00</td>\n",
              "      <td>0</td>\n",
              "      <td>20</td>\n",
              "      <td>0</td>\n",
              "      <td>367</td>\n",
              "      <td>WSCHOWA</td>\n",
              "      <td>Dom i Ogród</td>\n",
              "    </tr>\n",
              "    <tr>\n",
              "      <th>19298</th>\n",
              "      <td>19298</td>\n",
              "      <td>2016-04-03 20:10:45</td>\n",
              "      <td>6085705574</td>\n",
              "      <td>['Fotografia', 'Obiektywy', 'Nikon']</td>\n",
              "      <td>1</td>\n",
              "      <td>1</td>\n",
              "      <td>juha2-foto</td>\n",
              "      <td>1349.00</td>\n",
              "      <td>1</td>\n",
              "      <td>0</td>\n",
              "      <td>0</td>\n",
              "      <td>947</td>\n",
              "      <td>Międzyrzec Podlaski</td>\n",
              "      <td>Fotografia</td>\n",
              "    </tr>\n",
              "    <tr>\n",
              "      <th>6633</th>\n",
              "      <td>6633</td>\n",
              "      <td>2016-04-03 11:21:11</td>\n",
              "      <td>4999195279</td>\n",
              "      <td>['Komputery', 'Części do laptopów', 'Klawiatury']</td>\n",
              "      <td>1</td>\n",
              "      <td>1</td>\n",
              "      <td>KRZYMARK_ZDW</td>\n",
              "      <td>69.99</td>\n",
              "      <td>1</td>\n",
              "      <td>997</td>\n",
              "      <td>0</td>\n",
              "      <td>100041</td>\n",
              "      <td>Łódź</td>\n",
              "      <td>Komputery</td>\n",
              "    </tr>\n",
              "    <tr>\n",
              "      <th>59636</th>\n",
              "      <td>59636</td>\n",
              "      <td>2016-04-03 20:16:53</td>\n",
              "      <td>5973304699</td>\n",
              "      <td>['Przemysł', 'Materiały i akcesoria', 'Budowni...</td>\n",
              "      <td>1</td>\n",
              "      <td>1</td>\n",
              "      <td>arbi1_2008</td>\n",
              "      <td>1.40</td>\n",
              "      <td>0</td>\n",
              "      <td>0</td>\n",
              "      <td>0</td>\n",
              "      <td>513</td>\n",
              "      <td>Cała Polska</td>\n",
              "      <td>Przemysł</td>\n",
              "    </tr>\n",
              "    <tr>\n",
              "      <th>324976</th>\n",
              "      <td>324976</td>\n",
              "      <td>2016-04-03 17:22:47</td>\n",
              "      <td>5288105241</td>\n",
              "      <td>['Dom i Ogród', 'Wyposażenie', 'Oświetlenie', ...</td>\n",
              "      <td>1</td>\n",
              "      <td>1</td>\n",
              "      <td>Pmichal</td>\n",
              "      <td>5.79</td>\n",
              "      <td>1</td>\n",
              "      <td>334</td>\n",
              "      <td>0</td>\n",
              "      <td>2384</td>\n",
              "      <td>Warszawa</td>\n",
              "      <td>Dom i Ogród</td>\n",
              "    </tr>\n",
              "  </tbody>\n",
              "</table>\n",
              "<p>294014 rows × 14 columns</p>\n",
              "</div>\n",
              "      <button class=\"colab-df-convert\" onclick=\"convertToInteractive('df-bfedee25-cb1d-4300-b282-5e6633ce74b1')\"\n",
              "              title=\"Convert this dataframe to an interactive table.\"\n",
              "              style=\"display:none;\">\n",
              "        \n",
              "  <svg xmlns=\"http://www.w3.org/2000/svg\" height=\"24px\"viewBox=\"0 0 24 24\"\n",
              "       width=\"24px\">\n",
              "    <path d=\"M0 0h24v24H0V0z\" fill=\"none\"/>\n",
              "    <path d=\"M18.56 5.44l.94 2.06.94-2.06 2.06-.94-2.06-.94-.94-2.06-.94 2.06-2.06.94zm-11 1L8.5 8.5l.94-2.06 2.06-.94-2.06-.94L8.5 2.5l-.94 2.06-2.06.94zm10 10l.94 2.06.94-2.06 2.06-.94-2.06-.94-.94-2.06-.94 2.06-2.06.94z\"/><path d=\"M17.41 7.96l-1.37-1.37c-.4-.4-.92-.59-1.43-.59-.52 0-1.04.2-1.43.59L10.3 9.45l-7.72 7.72c-.78.78-.78 2.05 0 2.83L4 21.41c.39.39.9.59 1.41.59.51 0 1.02-.2 1.41-.59l7.78-7.78 2.81-2.81c.8-.78.8-2.07 0-2.86zM5.41 20L4 18.59l7.72-7.72 1.47 1.35L5.41 20z\"/>\n",
              "  </svg>\n",
              "      </button>\n",
              "      \n",
              "  <style>\n",
              "    .colab-df-container {\n",
              "      display:flex;\n",
              "      flex-wrap:wrap;\n",
              "      gap: 12px;\n",
              "    }\n",
              "\n",
              "    .colab-df-convert {\n",
              "      background-color: #E8F0FE;\n",
              "      border: none;\n",
              "      border-radius: 50%;\n",
              "      cursor: pointer;\n",
              "      display: none;\n",
              "      fill: #1967D2;\n",
              "      height: 32px;\n",
              "      padding: 0 0 0 0;\n",
              "      width: 32px;\n",
              "    }\n",
              "\n",
              "    .colab-df-convert:hover {\n",
              "      background-color: #E2EBFA;\n",
              "      box-shadow: 0px 1px 2px rgba(60, 64, 67, 0.3), 0px 1px 3px 1px rgba(60, 64, 67, 0.15);\n",
              "      fill: #174EA6;\n",
              "    }\n",
              "\n",
              "    [theme=dark] .colab-df-convert {\n",
              "      background-color: #3B4455;\n",
              "      fill: #D2E3FC;\n",
              "    }\n",
              "\n",
              "    [theme=dark] .colab-df-convert:hover {\n",
              "      background-color: #434B5C;\n",
              "      box-shadow: 0px 1px 3px 1px rgba(0, 0, 0, 0.15);\n",
              "      filter: drop-shadow(0px 1px 2px rgba(0, 0, 0, 0.3));\n",
              "      fill: #FFFFFF;\n",
              "    }\n",
              "  </style>\n",
              "\n",
              "      <script>\n",
              "        const buttonEl =\n",
              "          document.querySelector('#df-bfedee25-cb1d-4300-b282-5e6633ce74b1 button.colab-df-convert');\n",
              "        buttonEl.style.display =\n",
              "          google.colab.kernel.accessAllowed ? 'block' : 'none';\n",
              "\n",
              "        async function convertToInteractive(key) {\n",
              "          const element = document.querySelector('#df-bfedee25-cb1d-4300-b282-5e6633ce74b1');\n",
              "          const dataTable =\n",
              "            await google.colab.kernel.invokeFunction('convertToInteractive',\n",
              "                                                     [key], {});\n",
              "          if (!dataTable) return;\n",
              "\n",
              "          const docLinkHtml = 'Like what you see? Visit the ' +\n",
              "            '<a target=\"_blank\" href=https://colab.research.google.com/notebooks/data_table.ipynb>data table notebook</a>'\n",
              "            + ' to learn more about interactive tables.';\n",
              "          element.innerHTML = '';\n",
              "          dataTable['output_type'] = 'display_data';\n",
              "          await google.colab.output.renderOutput(dataTable, element);\n",
              "          const docLink = document.createElement('div');\n",
              "          docLink.innerHTML = docLinkHtml;\n",
              "          element.appendChild(docLink);\n",
              "        }\n",
              "      </script>\n",
              "    </div>\n",
              "  </div>\n",
              "  "
            ]
          },
          "metadata": {},
          "execution_count": 24
        }
      ],
      "source": [
        "allegro_df_build"
      ]
    },
    {
      "cell_type": "code",
      "execution_count": null,
      "id": "581dfa34",
      "metadata": {
        "id": "581dfa34",
        "outputId": "93f86a39-e241-4126-dc55-2c34a3b65dad",
        "colab": {
          "base_uri": "https://localhost:8080/",
          "height": 1000
        }
      },
      "outputs": [
        {
          "output_type": "execute_result",
          "data": {
            "text/plain": [
              "            lp                 date     item_id  \\\n",
              "180801  180801  2016-04-03 18:44:12  6095890163   \n",
              "169056  169056  2016-04-03 18:01:31  5813383000   \n",
              "168488  168488  2016-04-03 16:09:15  5152635000   \n",
              "59047    59047  2016-04-03 20:14:14  5604048299   \n",
              "69298    69298  2016-04-03 16:53:52  6097217991   \n",
              "194622  194622  2016-04-03 17:33:05  6001070212   \n",
              "117505  117505  2016-04-03 21:12:41  5687634664   \n",
              "406589  406589  2016-04-03 15:12:34  5817896705   \n",
              "98405    98405  2016-04-03 14:44:13  5955730489   \n",
              "27867    27867  2016-04-03 18:55:11  6069971182   \n",
              "\n",
              "                                               categories  \\\n",
              "180801     ['Kolekcje', 'Birofilistyka', 'Gadżety piwne']   \n",
              "169056  ['Uroda', 'Kosmetyki pielęgnacyjne', 'Ciało', ...   \n",
              "168488  ['Kolekcje', 'Modelarstwo', 'Materiały modelar...   \n",
              "59047   ['Biuro i Reklama', 'Artykuły piśmiennicze', '...   \n",
              "69298   ['Muzyka', 'Płyty kompaktowe', 'Rock', 'Zagran...   \n",
              "194622  ['Motoryzacja', 'Opony', 'Opony samochodowe', ...   \n",
              "117505  ['Odzież, Obuwie, Dodatki', 'Odzież i bielizna...   \n",
              "406589  ['Telefony i Akcesoria', 'Akcesoria GSM', 'Fol...   \n",
              "98405   ['Odzież, Obuwie, Dodatki', 'Obuwie', 'Akcesor...   \n",
              "27867   ['Książki i Komiksy', 'Poradniki i albumy', 'P...   \n",
              "\n",
              "        pay_option_on_delivery  pay_option_transfer           seller   price  \\\n",
              "180801                       0                    1     Afrikakorps1    4.00   \n",
              "169056                       1                    1   kosmet_galeria   14.95   \n",
              "168488                       1                    1       modelas123    7.80   \n",
              "59047                        1                    1     papiermix-pl    3.30   \n",
              "69298                        0                    1        janekpogi   24.00   \n",
              "194622                       1                    1    wwwAUTO-RADpl  880.00   \n",
              "117505                       1                    1         MR-SPORT  117.99   \n",
              "406589                       1                    1         EKLIK_PL   19.99   \n",
              "98405                        1                    0  sklep_dbamobuty    4.90   \n",
              "27867                        1                    1         korob_pl   19.99   \n",
              "\n",
              "        it_is_allegro_standard  it_quantity  it_is_brand_zone  \\\n",
              "180801                       0            0                 0   \n",
              "169056                       1            0                 0   \n",
              "168488                       0          970                 0   \n",
              "59047                        0          971                 0   \n",
              "69298                        0            0                 0   \n",
              "194622                       1            8                 0   \n",
              "117505                       0          210                 0   \n",
              "406589                       1          986                 0   \n",
              "98405                        0          474                 0   \n",
              "27867                        1           51                 0   \n",
              "\n",
              "        it_seller_rating   it_location            main_category  \n",
              "180801               747       Miastko                 Kolekcje  \n",
              "169056              4303      Warszawa                    Uroda  \n",
              "168488             20202        Krosno                 Kolekcje  \n",
              "59047               3572    Głuchołazy          Biuro i Reklama  \n",
              "69298                568        Tarnów                   Muzyka  \n",
              "194622              5821      Warszawa              Motoryzacja  \n",
              "117505             45034     Bydgoszcz  Odzież, Obuwie, Dodatki  \n",
              "406589             26470  Zielona Góra     Telefony i Akcesoria  \n",
              "98405               3056      Warszawa  Odzież, Obuwie, Dodatki  \n",
              "27867             228498          ŁÓDŹ        Książki i Komiksy  "
            ],
            "text/html": [
              "\n",
              "  <div id=\"df-58c31242-218b-4b05-80aa-034c66caf246\">\n",
              "    <div class=\"colab-df-container\">\n",
              "      <div>\n",
              "<style scoped>\n",
              "    .dataframe tbody tr th:only-of-type {\n",
              "        vertical-align: middle;\n",
              "    }\n",
              "\n",
              "    .dataframe tbody tr th {\n",
              "        vertical-align: top;\n",
              "    }\n",
              "\n",
              "    .dataframe thead th {\n",
              "        text-align: right;\n",
              "    }\n",
              "</style>\n",
              "<table border=\"1\" class=\"dataframe\">\n",
              "  <thead>\n",
              "    <tr style=\"text-align: right;\">\n",
              "      <th></th>\n",
              "      <th>lp</th>\n",
              "      <th>date</th>\n",
              "      <th>item_id</th>\n",
              "      <th>categories</th>\n",
              "      <th>pay_option_on_delivery</th>\n",
              "      <th>pay_option_transfer</th>\n",
              "      <th>seller</th>\n",
              "      <th>price</th>\n",
              "      <th>it_is_allegro_standard</th>\n",
              "      <th>it_quantity</th>\n",
              "      <th>it_is_brand_zone</th>\n",
              "      <th>it_seller_rating</th>\n",
              "      <th>it_location</th>\n",
              "      <th>main_category</th>\n",
              "    </tr>\n",
              "  </thead>\n",
              "  <tbody>\n",
              "    <tr>\n",
              "      <th>180801</th>\n",
              "      <td>180801</td>\n",
              "      <td>2016-04-03 18:44:12</td>\n",
              "      <td>6095890163</td>\n",
              "      <td>['Kolekcje', 'Birofilistyka', 'Gadżety piwne']</td>\n",
              "      <td>0</td>\n",
              "      <td>1</td>\n",
              "      <td>Afrikakorps1</td>\n",
              "      <td>4.00</td>\n",
              "      <td>0</td>\n",
              "      <td>0</td>\n",
              "      <td>0</td>\n",
              "      <td>747</td>\n",
              "      <td>Miastko</td>\n",
              "      <td>Kolekcje</td>\n",
              "    </tr>\n",
              "    <tr>\n",
              "      <th>169056</th>\n",
              "      <td>169056</td>\n",
              "      <td>2016-04-03 18:01:31</td>\n",
              "      <td>5813383000</td>\n",
              "      <td>['Uroda', 'Kosmetyki pielęgnacyjne', 'Ciało', ...</td>\n",
              "      <td>1</td>\n",
              "      <td>1</td>\n",
              "      <td>kosmet_galeria</td>\n",
              "      <td>14.95</td>\n",
              "      <td>1</td>\n",
              "      <td>0</td>\n",
              "      <td>0</td>\n",
              "      <td>4303</td>\n",
              "      <td>Warszawa</td>\n",
              "      <td>Uroda</td>\n",
              "    </tr>\n",
              "    <tr>\n",
              "      <th>168488</th>\n",
              "      <td>168488</td>\n",
              "      <td>2016-04-03 16:09:15</td>\n",
              "      <td>5152635000</td>\n",
              "      <td>['Kolekcje', 'Modelarstwo', 'Materiały modelar...</td>\n",
              "      <td>1</td>\n",
              "      <td>1</td>\n",
              "      <td>modelas123</td>\n",
              "      <td>7.80</td>\n",
              "      <td>0</td>\n",
              "      <td>970</td>\n",
              "      <td>0</td>\n",
              "      <td>20202</td>\n",
              "      <td>Krosno</td>\n",
              "      <td>Kolekcje</td>\n",
              "    </tr>\n",
              "    <tr>\n",
              "      <th>59047</th>\n",
              "      <td>59047</td>\n",
              "      <td>2016-04-03 20:14:14</td>\n",
              "      <td>5604048299</td>\n",
              "      <td>['Biuro i Reklama', 'Artykuły piśmiennicze', '...</td>\n",
              "      <td>1</td>\n",
              "      <td>1</td>\n",
              "      <td>papiermix-pl</td>\n",
              "      <td>3.30</td>\n",
              "      <td>0</td>\n",
              "      <td>971</td>\n",
              "      <td>0</td>\n",
              "      <td>3572</td>\n",
              "      <td>Głuchołazy</td>\n",
              "      <td>Biuro i Reklama</td>\n",
              "    </tr>\n",
              "    <tr>\n",
              "      <th>69298</th>\n",
              "      <td>69298</td>\n",
              "      <td>2016-04-03 16:53:52</td>\n",
              "      <td>6097217991</td>\n",
              "      <td>['Muzyka', 'Płyty kompaktowe', 'Rock', 'Zagran...</td>\n",
              "      <td>0</td>\n",
              "      <td>1</td>\n",
              "      <td>janekpogi</td>\n",
              "      <td>24.00</td>\n",
              "      <td>0</td>\n",
              "      <td>0</td>\n",
              "      <td>0</td>\n",
              "      <td>568</td>\n",
              "      <td>Tarnów</td>\n",
              "      <td>Muzyka</td>\n",
              "    </tr>\n",
              "    <tr>\n",
              "      <th>194622</th>\n",
              "      <td>194622</td>\n",
              "      <td>2016-04-03 17:33:05</td>\n",
              "      <td>6001070212</td>\n",
              "      <td>['Motoryzacja', 'Opony', 'Opony samochodowe', ...</td>\n",
              "      <td>1</td>\n",
              "      <td>1</td>\n",
              "      <td>wwwAUTO-RADpl</td>\n",
              "      <td>880.00</td>\n",
              "      <td>1</td>\n",
              "      <td>8</td>\n",
              "      <td>0</td>\n",
              "      <td>5821</td>\n",
              "      <td>Warszawa</td>\n",
              "      <td>Motoryzacja</td>\n",
              "    </tr>\n",
              "    <tr>\n",
              "      <th>117505</th>\n",
              "      <td>117505</td>\n",
              "      <td>2016-04-03 21:12:41</td>\n",
              "      <td>5687634664</td>\n",
              "      <td>['Odzież, Obuwie, Dodatki', 'Odzież i bielizna...</td>\n",
              "      <td>1</td>\n",
              "      <td>1</td>\n",
              "      <td>MR-SPORT</td>\n",
              "      <td>117.99</td>\n",
              "      <td>0</td>\n",
              "      <td>210</td>\n",
              "      <td>0</td>\n",
              "      <td>45034</td>\n",
              "      <td>Bydgoszcz</td>\n",
              "      <td>Odzież, Obuwie, Dodatki</td>\n",
              "    </tr>\n",
              "    <tr>\n",
              "      <th>406589</th>\n",
              "      <td>406589</td>\n",
              "      <td>2016-04-03 15:12:34</td>\n",
              "      <td>5817896705</td>\n",
              "      <td>['Telefony i Akcesoria', 'Akcesoria GSM', 'Fol...</td>\n",
              "      <td>1</td>\n",
              "      <td>1</td>\n",
              "      <td>EKLIK_PL</td>\n",
              "      <td>19.99</td>\n",
              "      <td>1</td>\n",
              "      <td>986</td>\n",
              "      <td>0</td>\n",
              "      <td>26470</td>\n",
              "      <td>Zielona Góra</td>\n",
              "      <td>Telefony i Akcesoria</td>\n",
              "    </tr>\n",
              "    <tr>\n",
              "      <th>98405</th>\n",
              "      <td>98405</td>\n",
              "      <td>2016-04-03 14:44:13</td>\n",
              "      <td>5955730489</td>\n",
              "      <td>['Odzież, Obuwie, Dodatki', 'Obuwie', 'Akcesor...</td>\n",
              "      <td>1</td>\n",
              "      <td>0</td>\n",
              "      <td>sklep_dbamobuty</td>\n",
              "      <td>4.90</td>\n",
              "      <td>0</td>\n",
              "      <td>474</td>\n",
              "      <td>0</td>\n",
              "      <td>3056</td>\n",
              "      <td>Warszawa</td>\n",
              "      <td>Odzież, Obuwie, Dodatki</td>\n",
              "    </tr>\n",
              "    <tr>\n",
              "      <th>27867</th>\n",
              "      <td>27867</td>\n",
              "      <td>2016-04-03 18:55:11</td>\n",
              "      <td>6069971182</td>\n",
              "      <td>['Książki i Komiksy', 'Poradniki i albumy', 'P...</td>\n",
              "      <td>1</td>\n",
              "      <td>1</td>\n",
              "      <td>korob_pl</td>\n",
              "      <td>19.99</td>\n",
              "      <td>1</td>\n",
              "      <td>51</td>\n",
              "      <td>0</td>\n",
              "      <td>228498</td>\n",
              "      <td>ŁÓDŹ</td>\n",
              "      <td>Książki i Komiksy</td>\n",
              "    </tr>\n",
              "  </tbody>\n",
              "</table>\n",
              "</div>\n",
              "      <button class=\"colab-df-convert\" onclick=\"convertToInteractive('df-58c31242-218b-4b05-80aa-034c66caf246')\"\n",
              "              title=\"Convert this dataframe to an interactive table.\"\n",
              "              style=\"display:none;\">\n",
              "        \n",
              "  <svg xmlns=\"http://www.w3.org/2000/svg\" height=\"24px\"viewBox=\"0 0 24 24\"\n",
              "       width=\"24px\">\n",
              "    <path d=\"M0 0h24v24H0V0z\" fill=\"none\"/>\n",
              "    <path d=\"M18.56 5.44l.94 2.06.94-2.06 2.06-.94-2.06-.94-.94-2.06-.94 2.06-2.06.94zm-11 1L8.5 8.5l.94-2.06 2.06-.94-2.06-.94L8.5 2.5l-.94 2.06-2.06.94zm10 10l.94 2.06.94-2.06 2.06-.94-2.06-.94-.94-2.06-.94 2.06-2.06.94z\"/><path d=\"M17.41 7.96l-1.37-1.37c-.4-.4-.92-.59-1.43-.59-.52 0-1.04.2-1.43.59L10.3 9.45l-7.72 7.72c-.78.78-.78 2.05 0 2.83L4 21.41c.39.39.9.59 1.41.59.51 0 1.02-.2 1.41-.59l7.78-7.78 2.81-2.81c.8-.78.8-2.07 0-2.86zM5.41 20L4 18.59l7.72-7.72 1.47 1.35L5.41 20z\"/>\n",
              "  </svg>\n",
              "      </button>\n",
              "      \n",
              "  <style>\n",
              "    .colab-df-container {\n",
              "      display:flex;\n",
              "      flex-wrap:wrap;\n",
              "      gap: 12px;\n",
              "    }\n",
              "\n",
              "    .colab-df-convert {\n",
              "      background-color: #E8F0FE;\n",
              "      border: none;\n",
              "      border-radius: 50%;\n",
              "      cursor: pointer;\n",
              "      display: none;\n",
              "      fill: #1967D2;\n",
              "      height: 32px;\n",
              "      padding: 0 0 0 0;\n",
              "      width: 32px;\n",
              "    }\n",
              "\n",
              "    .colab-df-convert:hover {\n",
              "      background-color: #E2EBFA;\n",
              "      box-shadow: 0px 1px 2px rgba(60, 64, 67, 0.3), 0px 1px 3px 1px rgba(60, 64, 67, 0.15);\n",
              "      fill: #174EA6;\n",
              "    }\n",
              "\n",
              "    [theme=dark] .colab-df-convert {\n",
              "      background-color: #3B4455;\n",
              "      fill: #D2E3FC;\n",
              "    }\n",
              "\n",
              "    [theme=dark] .colab-df-convert:hover {\n",
              "      background-color: #434B5C;\n",
              "      box-shadow: 0px 1px 3px 1px rgba(0, 0, 0, 0.15);\n",
              "      filter: drop-shadow(0px 1px 2px rgba(0, 0, 0, 0.3));\n",
              "      fill: #FFFFFF;\n",
              "    }\n",
              "  </style>\n",
              "\n",
              "      <script>\n",
              "        const buttonEl =\n",
              "          document.querySelector('#df-58c31242-218b-4b05-80aa-034c66caf246 button.colab-df-convert');\n",
              "        buttonEl.style.display =\n",
              "          google.colab.kernel.accessAllowed ? 'block' : 'none';\n",
              "\n",
              "        async function convertToInteractive(key) {\n",
              "          const element = document.querySelector('#df-58c31242-218b-4b05-80aa-034c66caf246');\n",
              "          const dataTable =\n",
              "            await google.colab.kernel.invokeFunction('convertToInteractive',\n",
              "                                                     [key], {});\n",
              "          if (!dataTable) return;\n",
              "\n",
              "          const docLinkHtml = 'Like what you see? Visit the ' +\n",
              "            '<a target=\"_blank\" href=https://colab.research.google.com/notebooks/data_table.ipynb>data table notebook</a>'\n",
              "            + ' to learn more about interactive tables.';\n",
              "          element.innerHTML = '';\n",
              "          dataTable['output_type'] = 'display_data';\n",
              "          await google.colab.output.renderOutput(dataTable, element);\n",
              "          const docLink = document.createElement('div');\n",
              "          docLink.innerHTML = docLinkHtml;\n",
              "          element.appendChild(docLink);\n",
              "        }\n",
              "      </script>\n",
              "    </div>\n",
              "  </div>\n",
              "  "
            ]
          },
          "metadata": {},
          "execution_count": 6
        }
      ],
      "source": [
        "allegro_df_build.head(10)"
      ]
    },
    {
      "cell_type": "code",
      "execution_count": null,
      "id": "2e4cc8bc",
      "metadata": {
        "id": "2e4cc8bc",
        "outputId": "706f7a1b-2f84-43d3-ee27-fc22469c80eb",
        "colab": {
          "base_uri": "https://localhost:8080/"
        }
      },
      "outputs": [
        {
          "output_type": "stream",
          "name": "stdout",
          "text": [
            "<class 'pandas.core.frame.DataFrame'>\n",
            "Int64Index: 294014 entries, 180801 to 324976\n",
            "Data columns (total 14 columns):\n",
            " #   Column                  Non-Null Count   Dtype  \n",
            "---  ------                  --------------   -----  \n",
            " 0   lp                      294014 non-null  int64  \n",
            " 1   date                    294014 non-null  object \n",
            " 2   item_id                 294014 non-null  int64  \n",
            " 3   categories              294014 non-null  object \n",
            " 4   pay_option_on_delivery  294014 non-null  int64  \n",
            " 5   pay_option_transfer     294014 non-null  int64  \n",
            " 6   seller                  294014 non-null  object \n",
            " 7   price                   294014 non-null  float64\n",
            " 8   it_is_allegro_standard  294014 non-null  int64  \n",
            " 9   it_quantity             294014 non-null  int64  \n",
            " 10  it_is_brand_zone        294014 non-null  int64  \n",
            " 11  it_seller_rating        294014 non-null  int64  \n",
            " 12  it_location             294014 non-null  object \n",
            " 13  main_category           294014 non-null  object \n",
            "dtypes: float64(1), int64(8), object(5)\n",
            "memory usage: 33.6+ MB\n"
          ]
        }
      ],
      "source": [
        "allegro_df_build.info()"
      ]
    },
    {
      "cell_type": "code",
      "execution_count": null,
      "id": "dca2ee61",
      "metadata": {
        "id": "dca2ee61",
        "outputId": "80c97cde-4842-4d6f-81c8-54fbc64c45c8",
        "colab": {
          "base_uri": "https://localhost:8080/"
        }
      },
      "outputs": [
        {
          "output_type": "execute_result",
          "data": {
            "text/plain": [
              "lp                        0\n",
              "date                      0\n",
              "item_id                   0\n",
              "categories                0\n",
              "pay_option_on_delivery    0\n",
              "pay_option_transfer       0\n",
              "seller                    0\n",
              "price                     0\n",
              "it_is_allegro_standard    0\n",
              "it_quantity               0\n",
              "it_is_brand_zone          0\n",
              "it_seller_rating          0\n",
              "it_location               0\n",
              "main_category             0\n",
              "dtype: int64"
            ]
          },
          "metadata": {},
          "execution_count": 8
        }
      ],
      "source": [
        "allegro_df_build.isnull().sum()"
      ]
    },
    {
      "cell_type": "code",
      "execution_count": null,
      "id": "f9da33c6",
      "metadata": {
        "id": "f9da33c6",
        "outputId": "6d6d3387-2f9e-4c3f-a13c-825fa30fa959",
        "colab": {
          "base_uri": "https://localhost:8080/"
        }
      },
      "outputs": [
        {
          "output_type": "execute_result",
          "data": {
            "text/plain": [
              "(array([], dtype=int64), array([], dtype=int64))"
            ]
          },
          "metadata": {},
          "execution_count": 9
        }
      ],
      "source": [
        "np.where(allegro_df_build.applymap(lambda x: x == ''))"
      ]
    },
    {
      "cell_type": "markdown",
      "id": "ceeb31a0",
      "metadata": {
        "id": "ceeb31a0"
      },
      "source": [
        "## Analiza jednowymiarowa"
      ]
    },
    {
      "cell_type": "markdown",
      "id": "15781398",
      "metadata": {
        "id": "15781398"
      },
      "source": [
        "Funkcja info() pokazała nam, że w zbiorze nie znajdują się nulle. Nie oznacza to jednak, że nie występują w nim braki danych (w postaci, być może, \"śmieciowych wartości\"). Przyjrzyjmy się każdej zmiennej (jest ich stosunkowo niewiele)."
      ]
    },
    {
      "cell_type": "markdown",
      "id": "54695839",
      "metadata": {
        "id": "54695839"
      },
      "source": [
        "### lp"
      ]
    },
    {
      "cell_type": "code",
      "source": [
        "allegro_df_build['lp'].unique().__len__()"
      ],
      "metadata": {
        "colab": {
          "base_uri": "https://localhost:8080/"
        },
        "id": "gxxfT7AUCYGu",
        "outputId": "f83a3d0c-2314-49bb-e3d1-1f6d4abdf38b"
      },
      "id": "gxxfT7AUCYGu",
      "execution_count": null,
      "outputs": [
        {
          "output_type": "execute_result",
          "data": {
            "text/plain": [
              "294014"
            ]
          },
          "metadata": {},
          "execution_count": 10
        }
      ]
    },
    {
      "cell_type": "markdown",
      "source": [
        "Zmienna unikalna dla każdego rekordu, nie bierzemy pod uwagę przy konstrukcji modelu."
      ],
      "metadata": {
        "id": "BRUZSUohCOf1"
      },
      "id": "BRUZSUohCOf1"
    },
    {
      "cell_type": "markdown",
      "id": "1f59b63e",
      "metadata": {
        "id": "1f59b63e"
      },
      "source": [
        "### date"
      ]
    },
    {
      "cell_type": "markdown",
      "source": [
        "Również zmienna bez sensownego sastosowania w modelu."
      ],
      "metadata": {
        "id": "YU3JLD_pClV3"
      },
      "id": "YU3JLD_pClV3"
    },
    {
      "cell_type": "code",
      "execution_count": null,
      "id": "5e3c00b2",
      "metadata": {
        "id": "5e3c00b2",
        "outputId": "f77718f9-58de-40c6-debd-3b1821c48fe3",
        "colab": {
          "base_uri": "https://localhost:8080/"
        }
      },
      "outputs": [
        {
          "output_type": "execute_result",
          "data": {
            "text/plain": [
              "2016-04-03 22:32:33    153\n",
              "2016-04-03 20:16:26     98\n",
              "2016-04-03 20:16:30     94\n",
              "2016-04-03 20:48:32     92\n",
              "2016-04-03 22:32:28     90\n",
              "                      ... \n",
              "2016-04-03 07:22:18      1\n",
              "2016-04-03 08:33:01      1\n",
              "2016-04-03 21:15:33      1\n",
              "2016-04-03 01:17:58      1\n",
              "2016-04-03 15:40:42      1\n",
              "Name: date, Length: 36802, dtype: int64"
            ]
          },
          "metadata": {},
          "execution_count": 11
        }
      ],
      "source": [
        "allegro_df_build[\"date\"].value_counts()"
      ]
    },
    {
      "cell_type": "markdown",
      "id": "8813041b",
      "metadata": {
        "id": "8813041b"
      },
      "source": [
        "### item_id"
      ]
    },
    {
      "cell_type": "markdown",
      "source": [
        "Widzimy, że te same przedmioty pojawiają się kilka razy."
      ],
      "metadata": {
        "id": "pPhREQVzCwkD"
      },
      "id": "pPhREQVzCwkD"
    },
    {
      "cell_type": "code",
      "execution_count": null,
      "id": "b9cab0d3",
      "metadata": {
        "id": "b9cab0d3",
        "outputId": "9796e903-2d3c-40f9-ca97-749beaaa84d5",
        "colab": {
          "base_uri": "https://localhost:8080/"
        }
      },
      "outputs": [
        {
          "output_type": "execute_result",
          "data": {
            "text/plain": [
              "6061413744    81\n",
              "5794943389    65\n",
              "6076113230    63\n",
              "6095133176    62\n",
              "6073551689    57\n",
              "              ..\n",
              "6083679405     1\n",
              "5436340586     1\n",
              "6040273663     1\n",
              "6087291692     1\n",
              "5288105241     1\n",
              "Name: item_id, Length: 243588, dtype: int64"
            ]
          },
          "metadata": {},
          "execution_count": 12
        }
      ],
      "source": [
        "allegro_df_build[\"item_id\"].value_counts()"
      ]
    },
    {
      "cell_type": "code",
      "source": [
        "allegro_df_build.loc[allegro_df_build['item_id']==6061413744]"
      ],
      "metadata": {
        "colab": {
          "base_uri": "https://localhost:8080/",
          "height": 1000
        },
        "id": "mBYS6RVNC5KF",
        "outputId": "ddb2d5d4-3a78-43d5-b5cb-d0d34d276db5"
      },
      "id": "mBYS6RVNC5KF",
      "execution_count": null,
      "outputs": [
        {
          "output_type": "execute_result",
          "data": {
            "text/plain": [
              "            lp                 date     item_id  \\\n",
              "212028  212028  2016-04-03 17:38:42  6061413744   \n",
              "211961  211961  2016-04-03 19:45:55  6061413744   \n",
              "211983  211983  2016-04-03 12:14:56  6061413744   \n",
              "211997  211997  2016-04-03 09:37:46  6061413744   \n",
              "211939  211939  2016-04-03 23:47:36  6061413744   \n",
              "...        ...                  ...         ...   \n",
              "211994  211994  2016-04-03 20:47:31  6061413744   \n",
              "211972  211972  2016-04-03 22:17:58  6061413744   \n",
              "211988  211988  2016-04-03 19:19:46  6061413744   \n",
              "211998  211998  2016-04-03 23:52:46  6061413744   \n",
              "211954  211954  2016-04-03 11:41:11  6061413744   \n",
              "\n",
              "                                               categories  \\\n",
              "212028  ['Odzież, Obuwie, Dodatki', 'Obuwie', 'Damskie...   \n",
              "211961  ['Odzież, Obuwie, Dodatki', 'Obuwie', 'Damskie...   \n",
              "211983  ['Odzież, Obuwie, Dodatki', 'Obuwie', 'Damskie...   \n",
              "211997  ['Odzież, Obuwie, Dodatki', 'Obuwie', 'Damskie...   \n",
              "211939  ['Odzież, Obuwie, Dodatki', 'Obuwie', 'Damskie...   \n",
              "...                                                   ...   \n",
              "211994  ['Odzież, Obuwie, Dodatki', 'Obuwie', 'Damskie...   \n",
              "211972  ['Odzież, Obuwie, Dodatki', 'Obuwie', 'Damskie...   \n",
              "211988  ['Odzież, Obuwie, Dodatki', 'Obuwie', 'Damskie...   \n",
              "211998  ['Odzież, Obuwie, Dodatki', 'Obuwie', 'Damskie...   \n",
              "211954  ['Odzież, Obuwie, Dodatki', 'Obuwie', 'Damskie...   \n",
              "\n",
              "        pay_option_on_delivery  pay_option_transfer           seller  price  \\\n",
              "212028                       1                    1  SmA_adidas_orig  229.0   \n",
              "211961                       1                    1  SmA_adidas_orig  229.0   \n",
              "211983                       1                    1  SmA_adidas_orig  229.0   \n",
              "211997                       1                    1  SmA_adidas_orig  229.0   \n",
              "211939                       1                    1  SmA_adidas_orig  229.0   \n",
              "...                        ...                  ...              ...    ...   \n",
              "211994                       1                    1  SmA_adidas_orig  229.0   \n",
              "211972                       1                    1  SmA_adidas_orig  229.0   \n",
              "211988                       1                    1  SmA_adidas_orig  229.0   \n",
              "211998                       1                    1  SmA_adidas_orig  229.0   \n",
              "211954                       1                    1  SmA_adidas_orig  229.0   \n",
              "\n",
              "        it_is_allegro_standard  it_quantity  it_is_brand_zone  \\\n",
              "212028                       1          344                 1   \n",
              "211961                       1          344                 1   \n",
              "211983                       1          344                 1   \n",
              "211997                       1          344                 1   \n",
              "211939                       1          344                 1   \n",
              "...                        ...          ...               ...   \n",
              "211994                       1          344                 1   \n",
              "211972                       1          344                 1   \n",
              "211988                       1          344                 1   \n",
              "211998                       1          344                 1   \n",
              "211954                       1          344                 1   \n",
              "\n",
              "        it_seller_rating it_location            main_category  \n",
              "212028             10470    Internet  Odzież, Obuwie, Dodatki  \n",
              "211961             10470    Internet  Odzież, Obuwie, Dodatki  \n",
              "211983             10470    Internet  Odzież, Obuwie, Dodatki  \n",
              "211997             10470    Internet  Odzież, Obuwie, Dodatki  \n",
              "211939             10470    Internet  Odzież, Obuwie, Dodatki  \n",
              "...                  ...         ...                      ...  \n",
              "211994             10470    Internet  Odzież, Obuwie, Dodatki  \n",
              "211972             10470    Internet  Odzież, Obuwie, Dodatki  \n",
              "211988             10470    Internet  Odzież, Obuwie, Dodatki  \n",
              "211998             10470    Internet  Odzież, Obuwie, Dodatki  \n",
              "211954             10470    Internet  Odzież, Obuwie, Dodatki  \n",
              "\n",
              "[81 rows x 14 columns]"
            ],
            "text/html": [
              "\n",
              "  <div id=\"df-5ac7e97f-acea-43dd-8ea9-feb228294ed7\">\n",
              "    <div class=\"colab-df-container\">\n",
              "      <div>\n",
              "<style scoped>\n",
              "    .dataframe tbody tr th:only-of-type {\n",
              "        vertical-align: middle;\n",
              "    }\n",
              "\n",
              "    .dataframe tbody tr th {\n",
              "        vertical-align: top;\n",
              "    }\n",
              "\n",
              "    .dataframe thead th {\n",
              "        text-align: right;\n",
              "    }\n",
              "</style>\n",
              "<table border=\"1\" class=\"dataframe\">\n",
              "  <thead>\n",
              "    <tr style=\"text-align: right;\">\n",
              "      <th></th>\n",
              "      <th>lp</th>\n",
              "      <th>date</th>\n",
              "      <th>item_id</th>\n",
              "      <th>categories</th>\n",
              "      <th>pay_option_on_delivery</th>\n",
              "      <th>pay_option_transfer</th>\n",
              "      <th>seller</th>\n",
              "      <th>price</th>\n",
              "      <th>it_is_allegro_standard</th>\n",
              "      <th>it_quantity</th>\n",
              "      <th>it_is_brand_zone</th>\n",
              "      <th>it_seller_rating</th>\n",
              "      <th>it_location</th>\n",
              "      <th>main_category</th>\n",
              "    </tr>\n",
              "  </thead>\n",
              "  <tbody>\n",
              "    <tr>\n",
              "      <th>212028</th>\n",
              "      <td>212028</td>\n",
              "      <td>2016-04-03 17:38:42</td>\n",
              "      <td>6061413744</td>\n",
              "      <td>['Odzież, Obuwie, Dodatki', 'Obuwie', 'Damskie...</td>\n",
              "      <td>1</td>\n",
              "      <td>1</td>\n",
              "      <td>SmA_adidas_orig</td>\n",
              "      <td>229.0</td>\n",
              "      <td>1</td>\n",
              "      <td>344</td>\n",
              "      <td>1</td>\n",
              "      <td>10470</td>\n",
              "      <td>Internet</td>\n",
              "      <td>Odzież, Obuwie, Dodatki</td>\n",
              "    </tr>\n",
              "    <tr>\n",
              "      <th>211961</th>\n",
              "      <td>211961</td>\n",
              "      <td>2016-04-03 19:45:55</td>\n",
              "      <td>6061413744</td>\n",
              "      <td>['Odzież, Obuwie, Dodatki', 'Obuwie', 'Damskie...</td>\n",
              "      <td>1</td>\n",
              "      <td>1</td>\n",
              "      <td>SmA_adidas_orig</td>\n",
              "      <td>229.0</td>\n",
              "      <td>1</td>\n",
              "      <td>344</td>\n",
              "      <td>1</td>\n",
              "      <td>10470</td>\n",
              "      <td>Internet</td>\n",
              "      <td>Odzież, Obuwie, Dodatki</td>\n",
              "    </tr>\n",
              "    <tr>\n",
              "      <th>211983</th>\n",
              "      <td>211983</td>\n",
              "      <td>2016-04-03 12:14:56</td>\n",
              "      <td>6061413744</td>\n",
              "      <td>['Odzież, Obuwie, Dodatki', 'Obuwie', 'Damskie...</td>\n",
              "      <td>1</td>\n",
              "      <td>1</td>\n",
              "      <td>SmA_adidas_orig</td>\n",
              "      <td>229.0</td>\n",
              "      <td>1</td>\n",
              "      <td>344</td>\n",
              "      <td>1</td>\n",
              "      <td>10470</td>\n",
              "      <td>Internet</td>\n",
              "      <td>Odzież, Obuwie, Dodatki</td>\n",
              "    </tr>\n",
              "    <tr>\n",
              "      <th>211997</th>\n",
              "      <td>211997</td>\n",
              "      <td>2016-04-03 09:37:46</td>\n",
              "      <td>6061413744</td>\n",
              "      <td>['Odzież, Obuwie, Dodatki', 'Obuwie', 'Damskie...</td>\n",
              "      <td>1</td>\n",
              "      <td>1</td>\n",
              "      <td>SmA_adidas_orig</td>\n",
              "      <td>229.0</td>\n",
              "      <td>1</td>\n",
              "      <td>344</td>\n",
              "      <td>1</td>\n",
              "      <td>10470</td>\n",
              "      <td>Internet</td>\n",
              "      <td>Odzież, Obuwie, Dodatki</td>\n",
              "    </tr>\n",
              "    <tr>\n",
              "      <th>211939</th>\n",
              "      <td>211939</td>\n",
              "      <td>2016-04-03 23:47:36</td>\n",
              "      <td>6061413744</td>\n",
              "      <td>['Odzież, Obuwie, Dodatki', 'Obuwie', 'Damskie...</td>\n",
              "      <td>1</td>\n",
              "      <td>1</td>\n",
              "      <td>SmA_adidas_orig</td>\n",
              "      <td>229.0</td>\n",
              "      <td>1</td>\n",
              "      <td>344</td>\n",
              "      <td>1</td>\n",
              "      <td>10470</td>\n",
              "      <td>Internet</td>\n",
              "      <td>Odzież, Obuwie, Dodatki</td>\n",
              "    </tr>\n",
              "    <tr>\n",
              "      <th>...</th>\n",
              "      <td>...</td>\n",
              "      <td>...</td>\n",
              "      <td>...</td>\n",
              "      <td>...</td>\n",
              "      <td>...</td>\n",
              "      <td>...</td>\n",
              "      <td>...</td>\n",
              "      <td>...</td>\n",
              "      <td>...</td>\n",
              "      <td>...</td>\n",
              "      <td>...</td>\n",
              "      <td>...</td>\n",
              "      <td>...</td>\n",
              "      <td>...</td>\n",
              "    </tr>\n",
              "    <tr>\n",
              "      <th>211994</th>\n",
              "      <td>211994</td>\n",
              "      <td>2016-04-03 20:47:31</td>\n",
              "      <td>6061413744</td>\n",
              "      <td>['Odzież, Obuwie, Dodatki', 'Obuwie', 'Damskie...</td>\n",
              "      <td>1</td>\n",
              "      <td>1</td>\n",
              "      <td>SmA_adidas_orig</td>\n",
              "      <td>229.0</td>\n",
              "      <td>1</td>\n",
              "      <td>344</td>\n",
              "      <td>1</td>\n",
              "      <td>10470</td>\n",
              "      <td>Internet</td>\n",
              "      <td>Odzież, Obuwie, Dodatki</td>\n",
              "    </tr>\n",
              "    <tr>\n",
              "      <th>211972</th>\n",
              "      <td>211972</td>\n",
              "      <td>2016-04-03 22:17:58</td>\n",
              "      <td>6061413744</td>\n",
              "      <td>['Odzież, Obuwie, Dodatki', 'Obuwie', 'Damskie...</td>\n",
              "      <td>1</td>\n",
              "      <td>1</td>\n",
              "      <td>SmA_adidas_orig</td>\n",
              "      <td>229.0</td>\n",
              "      <td>1</td>\n",
              "      <td>344</td>\n",
              "      <td>1</td>\n",
              "      <td>10470</td>\n",
              "      <td>Internet</td>\n",
              "      <td>Odzież, Obuwie, Dodatki</td>\n",
              "    </tr>\n",
              "    <tr>\n",
              "      <th>211988</th>\n",
              "      <td>211988</td>\n",
              "      <td>2016-04-03 19:19:46</td>\n",
              "      <td>6061413744</td>\n",
              "      <td>['Odzież, Obuwie, Dodatki', 'Obuwie', 'Damskie...</td>\n",
              "      <td>1</td>\n",
              "      <td>1</td>\n",
              "      <td>SmA_adidas_orig</td>\n",
              "      <td>229.0</td>\n",
              "      <td>1</td>\n",
              "      <td>344</td>\n",
              "      <td>1</td>\n",
              "      <td>10470</td>\n",
              "      <td>Internet</td>\n",
              "      <td>Odzież, Obuwie, Dodatki</td>\n",
              "    </tr>\n",
              "    <tr>\n",
              "      <th>211998</th>\n",
              "      <td>211998</td>\n",
              "      <td>2016-04-03 23:52:46</td>\n",
              "      <td>6061413744</td>\n",
              "      <td>['Odzież, Obuwie, Dodatki', 'Obuwie', 'Damskie...</td>\n",
              "      <td>1</td>\n",
              "      <td>1</td>\n",
              "      <td>SmA_adidas_orig</td>\n",
              "      <td>229.0</td>\n",
              "      <td>1</td>\n",
              "      <td>344</td>\n",
              "      <td>1</td>\n",
              "      <td>10470</td>\n",
              "      <td>Internet</td>\n",
              "      <td>Odzież, Obuwie, Dodatki</td>\n",
              "    </tr>\n",
              "    <tr>\n",
              "      <th>211954</th>\n",
              "      <td>211954</td>\n",
              "      <td>2016-04-03 11:41:11</td>\n",
              "      <td>6061413744</td>\n",
              "      <td>['Odzież, Obuwie, Dodatki', 'Obuwie', 'Damskie...</td>\n",
              "      <td>1</td>\n",
              "      <td>1</td>\n",
              "      <td>SmA_adidas_orig</td>\n",
              "      <td>229.0</td>\n",
              "      <td>1</td>\n",
              "      <td>344</td>\n",
              "      <td>1</td>\n",
              "      <td>10470</td>\n",
              "      <td>Internet</td>\n",
              "      <td>Odzież, Obuwie, Dodatki</td>\n",
              "    </tr>\n",
              "  </tbody>\n",
              "</table>\n",
              "<p>81 rows × 14 columns</p>\n",
              "</div>\n",
              "      <button class=\"colab-df-convert\" onclick=\"convertToInteractive('df-5ac7e97f-acea-43dd-8ea9-feb228294ed7')\"\n",
              "              title=\"Convert this dataframe to an interactive table.\"\n",
              "              style=\"display:none;\">\n",
              "        \n",
              "  <svg xmlns=\"http://www.w3.org/2000/svg\" height=\"24px\"viewBox=\"0 0 24 24\"\n",
              "       width=\"24px\">\n",
              "    <path d=\"M0 0h24v24H0V0z\" fill=\"none\"/>\n",
              "    <path d=\"M18.56 5.44l.94 2.06.94-2.06 2.06-.94-2.06-.94-.94-2.06-.94 2.06-2.06.94zm-11 1L8.5 8.5l.94-2.06 2.06-.94-2.06-.94L8.5 2.5l-.94 2.06-2.06.94zm10 10l.94 2.06.94-2.06 2.06-.94-2.06-.94-.94-2.06-.94 2.06-2.06.94z\"/><path d=\"M17.41 7.96l-1.37-1.37c-.4-.4-.92-.59-1.43-.59-.52 0-1.04.2-1.43.59L10.3 9.45l-7.72 7.72c-.78.78-.78 2.05 0 2.83L4 21.41c.39.39.9.59 1.41.59.51 0 1.02-.2 1.41-.59l7.78-7.78 2.81-2.81c.8-.78.8-2.07 0-2.86zM5.41 20L4 18.59l7.72-7.72 1.47 1.35L5.41 20z\"/>\n",
              "  </svg>\n",
              "      </button>\n",
              "      \n",
              "  <style>\n",
              "    .colab-df-container {\n",
              "      display:flex;\n",
              "      flex-wrap:wrap;\n",
              "      gap: 12px;\n",
              "    }\n",
              "\n",
              "    .colab-df-convert {\n",
              "      background-color: #E8F0FE;\n",
              "      border: none;\n",
              "      border-radius: 50%;\n",
              "      cursor: pointer;\n",
              "      display: none;\n",
              "      fill: #1967D2;\n",
              "      height: 32px;\n",
              "      padding: 0 0 0 0;\n",
              "      width: 32px;\n",
              "    }\n",
              "\n",
              "    .colab-df-convert:hover {\n",
              "      background-color: #E2EBFA;\n",
              "      box-shadow: 0px 1px 2px rgba(60, 64, 67, 0.3), 0px 1px 3px 1px rgba(60, 64, 67, 0.15);\n",
              "      fill: #174EA6;\n",
              "    }\n",
              "\n",
              "    [theme=dark] .colab-df-convert {\n",
              "      background-color: #3B4455;\n",
              "      fill: #D2E3FC;\n",
              "    }\n",
              "\n",
              "    [theme=dark] .colab-df-convert:hover {\n",
              "      background-color: #434B5C;\n",
              "      box-shadow: 0px 1px 3px 1px rgba(0, 0, 0, 0.15);\n",
              "      filter: drop-shadow(0px 1px 2px rgba(0, 0, 0, 0.3));\n",
              "      fill: #FFFFFF;\n",
              "    }\n",
              "  </style>\n",
              "\n",
              "      <script>\n",
              "        const buttonEl =\n",
              "          document.querySelector('#df-5ac7e97f-acea-43dd-8ea9-feb228294ed7 button.colab-df-convert');\n",
              "        buttonEl.style.display =\n",
              "          google.colab.kernel.accessAllowed ? 'block' : 'none';\n",
              "\n",
              "        async function convertToInteractive(key) {\n",
              "          const element = document.querySelector('#df-5ac7e97f-acea-43dd-8ea9-feb228294ed7');\n",
              "          const dataTable =\n",
              "            await google.colab.kernel.invokeFunction('convertToInteractive',\n",
              "                                                     [key], {});\n",
              "          if (!dataTable) return;\n",
              "\n",
              "          const docLinkHtml = 'Like what you see? Visit the ' +\n",
              "            '<a target=\"_blank\" href=https://colab.research.google.com/notebooks/data_table.ipynb>data table notebook</a>'\n",
              "            + ' to learn more about interactive tables.';\n",
              "          element.innerHTML = '';\n",
              "          dataTable['output_type'] = 'display_data';\n",
              "          await google.colab.output.renderOutput(dataTable, element);\n",
              "          const docLink = document.createElement('div');\n",
              "          docLink.innerHTML = docLinkHtml;\n",
              "          element.appendChild(docLink);\n",
              "        }\n",
              "      </script>\n",
              "    </div>\n",
              "  </div>\n",
              "  "
            ]
          },
          "metadata": {},
          "execution_count": 13
        }
      ]
    },
    {
      "cell_type": "markdown",
      "source": [
        "Widzimy, że ten sam produkt pojawia się w kilku ofertach. Właściwie są to te same oferty, różnią się tylko datą. Być może sensowne by było usunąć duplikaty."
      ],
      "metadata": {
        "id": "yufxfguTDGOU"
      },
      "id": "yufxfguTDGOU"
    },
    {
      "cell_type": "code",
      "source": [
        "allegro_df_build.loc[:, ~allegro_df_build.columns.isin(['date','lp'])].drop_duplicates().__len__()"
      ],
      "metadata": {
        "colab": {
          "base_uri": "https://localhost:8080/"
        },
        "id": "9cx6eKbavUlk",
        "outputId": "f6ae03ff-fd6c-48f3-e3ff-c7ee4906d321"
      },
      "id": "9cx6eKbavUlk",
      "execution_count": 81,
      "outputs": [
        {
          "output_type": "execute_result",
          "data": {
            "text/plain": [
              "243588"
            ]
          },
          "metadata": {},
          "execution_count": 81
        }
      ]
    },
    {
      "cell_type": "markdown",
      "source": [
        "Nie biorąc pod uwagę daty i lp zmniejszamy liczbę rekordów o prawie 50 tys."
      ],
      "metadata": {
        "id": "C3d1T428xIC8"
      },
      "id": "C3d1T428xIC8"
    },
    {
      "cell_type": "code",
      "source": [
        "allegro_df_build = allegro_df_build.loc[:, ~allegro_df_build.columns.isin(['date','lp'])].drop_duplicates()"
      ],
      "metadata": {
        "id": "mLDmQSfbxSJU"
      },
      "id": "mLDmQSfbxSJU",
      "execution_count": 82,
      "outputs": []
    },
    {
      "cell_type": "markdown",
      "id": "9b48a40b",
      "metadata": {
        "id": "9b48a40b"
      },
      "source": [
        "### categories"
      ]
    },
    {
      "cell_type": "markdown",
      "source": [
        "Rozbiciem list zajmiemy się przy zakodowywaniu."
      ],
      "metadata": {
        "id": "25chh_ACDzcn"
      },
      "id": "25chh_ACDzcn"
    },
    {
      "cell_type": "code",
      "execution_count": 33,
      "id": "4f7fa19d",
      "metadata": {
        "id": "4f7fa19d",
        "outputId": "6af6ef37-453a-4c0b-dccd-e8f24c43c2b7",
        "colab": {
          "base_uri": "https://localhost:8080/"
        }
      },
      "outputs": [
        {
          "output_type": "execute_result",
          "data": {
            "text/plain": [
              "['Dom i Ogród', 'Ogród', 'Rośliny', 'Rośliny owocowe']                                                         1598\n",
              "['Dom i Ogród', 'Ogród', 'Rośliny', 'Bulwy, cebulki, kłącza']                                                  1440\n",
              "['Odzież, Obuwie, Dodatki', 'Odzież damska', 'Sukienki']                                                       1423\n",
              "['Telefony i Akcesoria', 'Akcesoria GSM', 'Folie ochronne na LCD']                                             1338\n",
              "['Dom i Ogród', 'Ogród', 'Rośliny', 'Drzewa i krzewy liściaste']                                               1334\n",
              "                                                                                                               ... \n",
              "['Sport i Turystyka', 'Sporty wodne', 'Pływanie', 'Fajki, maski, płetwy', 'Fajki']                                1\n",
              "['Kolekcje', 'Numizmatyka', 'Polska 1916 - 1945', '1916 - 1922']                                                  1\n",
              "['Sport i Turystyka', 'Sporty wodne', 'Nurkowanie', 'Balast']                                                     1\n",
              "['Telefony i Akcesoria', 'Akcesoria GSM', 'Akcesoria i części serwisowe', 'Akcesoria serwisowe', 'Pincety']       1\n",
              "['Sport i Turystyka', 'Sporty wodne', 'Nurkowanie', 'Butle i zawory']                                             1\n",
              "Name: categories, Length: 8546, dtype: int64"
            ]
          },
          "metadata": {},
          "execution_count": 33
        }
      ],
      "source": [
        "allegro_df_build[\"categories\"].value_counts()"
      ]
    },
    {
      "cell_type": "markdown",
      "id": "fd90d9c5",
      "metadata": {
        "id": "fd90d9c5"
      },
      "source": [
        "### pay_option_on_delivery"
      ]
    },
    {
      "cell_type": "code",
      "execution_count": 34,
      "id": "f3facf34",
      "metadata": {
        "id": "f3facf34",
        "outputId": "43742ade-3a44-45ed-aec9-1e04f3cbff50",
        "colab": {
          "base_uri": "https://localhost:8080/"
        }
      },
      "outputs": [
        {
          "output_type": "execute_result",
          "data": {
            "text/plain": [
              "1    214397\n",
              "0     29191\n",
              "Name: pay_option_on_delivery, dtype: int64"
            ]
          },
          "metadata": {},
          "execution_count": 34
        }
      ],
      "source": [
        "allegro_df_build[\"pay_option_on_delivery\"].value_counts()"
      ]
    },
    {
      "cell_type": "code",
      "source": [
        "sns.countplot(data=allegro_df_build, x=\"pay_option_on_delivery\")"
      ],
      "metadata": {
        "colab": {
          "base_uri": "https://localhost:8080/",
          "height": 297
        },
        "id": "HG72tp2mD56l",
        "outputId": "b343a64c-b368-4bff-ad04-45c45e18adc3"
      },
      "id": "HG72tp2mD56l",
      "execution_count": 35,
      "outputs": [
        {
          "output_type": "execute_result",
          "data": {
            "text/plain": [
              "<matplotlib.axes._subplots.AxesSubplot at 0x7efe2a4c1610>"
            ]
          },
          "metadata": {},
          "execution_count": 35
        },
        {
          "output_type": "display_data",
          "data": {
            "text/plain": [
              "<Figure size 432x288 with 1 Axes>"
            ],
            "image/png": "[encoded data removed]"
          },
          "metadata": {
            "needs_background": "light"
          }
        }
      ]
    },
    {
      "cell_type": "markdown",
      "id": "e93e9668",
      "metadata": {
        "id": "e93e9668"
      },
      "source": [
        "### pay_option_transfer"
      ]
    },
    {
      "cell_type": "code",
      "execution_count": 36,
      "id": "848d72f5",
      "metadata": {
        "id": "848d72f5",
        "outputId": "784fec2f-74a5-4ccb-a7f3-ab6d87a7c136",
        "colab": {
          "base_uri": "https://localhost:8080/"
        }
      },
      "outputs": [
        {
          "output_type": "execute_result",
          "data": {
            "text/plain": [
              "1    198402\n",
              "0     45186\n",
              "Name: pay_option_transfer, dtype: int64"
            ]
          },
          "metadata": {},
          "execution_count": 36
        }
      ],
      "source": [
        "allegro_df_build[\"pay_option_transfer\"].value_counts()"
      ]
    },
    {
      "cell_type": "code",
      "source": [
        "sns.countplot(data=allegro_df_build, x=\"pay_option_transfer\")"
      ],
      "metadata": {
        "colab": {
          "base_uri": "https://localhost:8080/",
          "height": 297
        },
        "id": "CSz1NrMiEEK6",
        "outputId": "633aaa11-3cc9-45a8-c30d-3bf103b40d60"
      },
      "id": "CSz1NrMiEEK6",
      "execution_count": 37,
      "outputs": [
        {
          "output_type": "execute_result",
          "data": {
            "text/plain": [
              "<matplotlib.axes._subplots.AxesSubplot at 0x7efe2a4570d0>"
            ]
          },
          "metadata": {},
          "execution_count": 37
        },
        {
          "output_type": "display_data",
          "data": {
            "text/plain": [
              "<Figure size 432x288 with 1 Axes>"
            ],
            "image/png": "[encoded data removed]"
          },
          "metadata": {
            "needs_background": "light"
          }
        }
      ]
    },
    {
      "cell_type": "markdown",
      "id": "a4560da0",
      "metadata": {
        "id": "a4560da0"
      },
      "source": [
        "### seller"
      ]
    },
    {
      "cell_type": "code",
      "execution_count": 38,
      "id": "f3c2952a",
      "metadata": {
        "id": "f3c2952a",
        "outputId": "8d52800a-1dbf-44b4-d48b-d6e416f312c7",
        "colab": {
          "base_uri": "https://localhost:8080/"
        }
      },
      "outputs": [
        {
          "output_type": "execute_result",
          "data": {
            "text/plain": [
              "Allegro          666\n",
              "Aros_pl          518\n",
              "ezebra_pl        491\n",
              "sklepogrodnik    470\n",
              "BENEK195         467\n",
              "                ... \n",
              "Getboxik           1\n",
              "alfombra11         1\n",
              "radnar_art         1\n",
              "c5tetrus           1\n",
              "juha2-foto         1\n",
              "Name: seller, Length: 43862, dtype: int64"
            ]
          },
          "metadata": {},
          "execution_count": 38
        }
      ],
      "source": [
        "allegro_df_build[\"seller\"].value_counts()"
      ]
    },
    {
      "cell_type": "code",
      "source": [
        "sns.histplot(data=allegro_df_build.groupby([\"seller\"]).size().reset_index(name=\"counts\"),x=\"counts\", binwidth=10)"
      ],
      "metadata": {
        "colab": {
          "base_uri": "https://localhost:8080/",
          "height": 296
        },
        "id": "EeziOZTfEKFO",
        "outputId": "4cef9fed-aafc-4293-e61e-e2f09884d8db"
      },
      "id": "EeziOZTfEKFO",
      "execution_count": 39,
      "outputs": [
        {
          "output_type": "execute_result",
          "data": {
            "text/plain": [
              "<matplotlib.axes._subplots.AxesSubplot at 0x7efe29f8c290>"
            ]
          },
          "metadata": {},
          "execution_count": 39
        },
        {
          "output_type": "display_data",
          "data": {
            "text/plain": [
              "<Figure size 432x288 with 1 Axes>"
            ],
            "image/png": "[encoded data removed]"
          },
          "metadata": {
            "needs_background": "light"
          }
        }
      ]
    },
    {
      "cell_type": "code",
      "source": [
        "df2 = allegro_df_build.groupby([\"seller\"]).size().reset_index(name=\"counts\").sort_values(by=\"counts\", ascending=False)\n",
        "df2.loc[df2['counts']<15].__len__()/43862"
      ],
      "metadata": {
        "colab": {
          "base_uri": "https://localhost:8080/"
        },
        "id": "WQaeOZsIEuPY",
        "outputId": "4b8dc073-77c8-4951-b9f5-26e0ec19830c"
      },
      "id": "WQaeOZsIEuPY",
      "execution_count": 40,
      "outputs": [
        {
          "output_type": "execute_result",
          "data": {
            "text/plain": [
              "0.9213670147280105"
            ]
          },
          "metadata": {},
          "execution_count": 40
        }
      ]
    },
    {
      "cell_type": "markdown",
      "source": [
        "90% sprzedawców ma poniżej 15 ofert."
      ],
      "metadata": {
        "id": "5HY83_G0Fcs5"
      },
      "id": "5HY83_G0Fcs5"
    },
    {
      "cell_type": "markdown",
      "id": "adee463a",
      "metadata": {
        "id": "adee463a"
      },
      "source": [
        "### price"
      ]
    },
    {
      "cell_type": "code",
      "execution_count": 41,
      "id": "10472147",
      "metadata": {
        "id": "10472147",
        "outputId": "fa85cfa3-3edd-460e-e81f-ac0a197e8624",
        "colab": {
          "base_uri": "https://localhost:8080/",
          "height": 282
        }
      },
      "outputs": [
        {
          "output_type": "execute_result",
          "data": {
            "text/plain": [
              "<matplotlib.axes._subplots.AxesSubplot at 0x7efe29d55650>"
            ]
          },
          "metadata": {},
          "execution_count": 41
        },
        {
          "output_type": "display_data",
          "data": {
            "text/plain": [
              "<Figure size 432x288 with 1 Axes>"
            ],
            "image/png": "[encoded data removed]"
          },
          "metadata": {
            "needs_background": "light"
          }
        }
      ],
      "source": [
        "allegro_df_build[\"price\"].hist()"
      ]
    },
    {
      "cell_type": "code",
      "execution_count": null,
      "id": "5b157cc9",
      "metadata": {
        "id": "5b157cc9",
        "outputId": "c53ba6a5-6222-4e03-e2a0-07c76c8b4fb9",
        "colab": {
          "base_uri": "https://localhost:8080/"
        }
      },
      "outputs": [
        {
          "output_type": "execute_result",
          "data": {
            "text/plain": [
              "1.00        5584\n",
              "9.99        3068\n",
              "19.99       2957\n",
              "99.00       2510\n",
              "15.00       2447\n",
              "            ... \n",
              "94.43          1\n",
              "94.48          1\n",
              "94.49          1\n",
              "94.61          1\n",
              "64900.00       1\n",
              "Name: price, Length: 8554, dtype: int64"
            ]
          },
          "metadata": {},
          "execution_count": 23
        }
      ],
      "source": [
        "allegro_df_build[\"price\"].sort_values().value_counts()"
      ]
    },
    {
      "cell_type": "code",
      "execution_count": null,
      "id": "84b67bb4",
      "metadata": {
        "id": "84b67bb4",
        "outputId": "64eadab8-f1f6-4dca-94cf-1feab3071926",
        "colab": {
          "base_uri": "https://localhost:8080/"
        }
      },
      "outputs": [
        {
          "output_type": "execute_result",
          "data": {
            "text/plain": [
              "22"
            ]
          },
          "metadata": {},
          "execution_count": 24
        }
      ],
      "source": [
        "allegro_df_build[\"price\"].eq(0).sum()"
      ]
    },
    {
      "cell_type": "code",
      "execution_count": null,
      "id": "81b6f2f9",
      "metadata": {
        "id": "81b6f2f9",
        "outputId": "d62bfd90-2125-4d3b-e9c4-f94b963e106b",
        "colab": {
          "base_uri": "https://localhost:8080/"
        }
      },
      "outputs": [
        {
          "output_type": "execute_result",
          "data": {
            "text/plain": [
              "count    294014.000000\n",
              "mean         76.040235\n",
              "std         313.547677\n",
              "min           0.000000\n",
              "25%           9.000000\n",
              "50%          24.990000\n",
              "75%          68.000000\n",
              "max       64900.000000\n",
              "Name: price, dtype: float64"
            ]
          },
          "metadata": {},
          "execution_count": 25
        }
      ],
      "source": [
        "allegro_df_build[\"price\"].describe()"
      ]
    },
    {
      "cell_type": "markdown",
      "id": "8889a150",
      "metadata": {
        "id": "8889a150"
      },
      "source": [
        "### it_is_allegro_standard"
      ]
    },
    {
      "cell_type": "code",
      "execution_count": null,
      "id": "dbe14ee5",
      "metadata": {
        "id": "dbe14ee5",
        "outputId": "7fd583b7-8e0a-40b8-f45f-5a905ddc744a",
        "colab": {
          "base_uri": "https://localhost:8080/"
        }
      },
      "outputs": [
        {
          "output_type": "execute_result",
          "data": {
            "text/plain": [
              "1    171487\n",
              "0    122527\n",
              "Name: it_is_allegro_standard, dtype: int64"
            ]
          },
          "metadata": {},
          "execution_count": 26
        }
      ],
      "source": [
        "allegro_df_build[\"it_is_allegro_standard\"].value_counts()"
      ]
    },
    {
      "cell_type": "code",
      "source": [
        "sns.countplot(data=allegro_df_build, x=\"it_is_allegro_standard\")"
      ],
      "metadata": {
        "colab": {
          "base_uri": "https://localhost:8080/",
          "height": 72
        },
        "id": "E5YW9IEpF2Ob",
        "outputId": "e1492430-cab5-46f2-a7f8-07190baa2b1f"
      },
      "id": "E5YW9IEpF2Ob",
      "execution_count": null,
      "outputs": [
        {
          "output_type": "execute_result",
          "data": {
            "text/plain": [
              "<matplotlib.axes._subplots.AxesSubplot at 0x7f0c0f2b4450>"
            ]
          },
          "metadata": {},
          "execution_count": 27
        },
        {
          "output_type": "display_data",
          "data": {
            "text/plain": [
              "<Figure size 432x288 with 1 Axes>"
            ],
            "image/png": "[encoded data removed]"
          },
          "metadata": {
            "needs_background": "light"
          }
        }
      ]
    },
    {
      "cell_type": "markdown",
      "id": "3a54644b",
      "metadata": {
        "id": "3a54644b"
      },
      "source": [
        "### it_quantity"
      ]
    },
    {
      "cell_type": "code",
      "execution_count": null,
      "id": "e77306a0",
      "metadata": {
        "id": "e77306a0",
        "outputId": "a4871fdc-1f17-4938-c4f8-c8147bf17649",
        "colab": {
          "base_uri": "https://localhost:8080/"
        }
      },
      "outputs": [
        {
          "output_type": "execute_result",
          "data": {
            "text/plain": [
              "0        44549\n",
              "1         7979\n",
              "2         6048\n",
              "3         5014\n",
              "4         4809\n",
              "         ...  \n",
              "2795         1\n",
              "1104         1\n",
              "10048        1\n",
              "8904         1\n",
              "19958        1\n",
              "Name: it_quantity, Length: 6759, dtype: int64"
            ]
          },
          "metadata": {},
          "execution_count": 28
        }
      ],
      "source": [
        "allegro_df_build[\"it_quantity\"].value_counts()"
      ]
    },
    {
      "cell_type": "code",
      "execution_count": null,
      "id": "947186cd",
      "metadata": {
        "id": "947186cd",
        "outputId": "a81313cd-582f-40fc-d794-a5bf0e2b2d2f",
        "colab": {
          "base_uri": "https://localhost:8080/"
        }
      },
      "outputs": [
        {
          "output_type": "execute_result",
          "data": {
            "text/plain": [
              "count    294014.000000\n",
              "mean       6741.857092\n",
              "std       23374.735062\n",
              "min           0.000000\n",
              "25%           6.000000\n",
              "50%          94.000000\n",
              "75%         930.000000\n",
              "max       99999.000000\n",
              "Name: it_quantity, dtype: float64"
            ]
          },
          "metadata": {},
          "execution_count": 29
        }
      ],
      "source": [
        "allegro_df_build[\"it_quantity\"].describe()"
      ]
    },
    {
      "cell_type": "code",
      "execution_count": null,
      "id": "3c286c9f",
      "metadata": {
        "id": "3c286c9f",
        "outputId": "c9dc3ef5-a4aa-4859-8299-c9214691ddbe",
        "colab": {
          "base_uri": "https://localhost:8080/"
        }
      },
      "outputs": [
        {
          "output_type": "execute_result",
          "data": {
            "text/plain": [
              "44549"
            ]
          },
          "metadata": {},
          "execution_count": 30
        }
      ],
      "source": [
        "allegro_df_build[\"it_quantity\"].eq(0).sum()"
      ]
    },
    {
      "cell_type": "code",
      "execution_count": null,
      "id": "d0c89d0f",
      "metadata": {
        "id": "d0c89d0f",
        "outputId": "560d875f-edf0-4fc1-8dff-11fec00cf2bc",
        "colab": {
          "base_uri": "https://localhost:8080/"
        }
      },
      "outputs": [
        {
          "output_type": "execute_result",
          "data": {
            "text/plain": [
              "246"
            ]
          },
          "metadata": {},
          "execution_count": 31
        }
      ],
      "source": [
        "allegro_df_build[\"it_quantity\"].eq(99999).sum()"
      ]
    },
    {
      "cell_type": "code",
      "source": [
        "sns.histplot(allegro_df_build,x='it_quantity')"
      ],
      "metadata": {
        "colab": {
          "base_uri": "https://localhost:8080/",
          "height": 72
        },
        "id": "pgaeCqJVGEz4",
        "outputId": "a321dec1-a9bc-4476-c7af-7003afddb498"
      },
      "id": "pgaeCqJVGEz4",
      "execution_count": null,
      "outputs": [
        {
          "output_type": "execute_result",
          "data": {
            "text/plain": [
              "<matplotlib.axes._subplots.AxesSubplot at 0x7f0c0f2f14d0>"
            ]
          },
          "metadata": {},
          "execution_count": 32
        },
        {
          "output_type": "display_data",
          "data": {
            "text/plain": [
              "<Figure size 432x288 with 1 Axes>"
            ],
            "image/png": "[encoded data removed]"
          },
          "metadata": {
            "needs_background": "light"
          }
        }
      ]
    },
    {
      "cell_type": "markdown",
      "id": "fa46e398",
      "metadata": {
        "id": "fa46e398"
      },
      "source": [
        "### it_is_brand_zone"
      ]
    },
    {
      "cell_type": "code",
      "execution_count": null,
      "id": "797ee6ea",
      "metadata": {
        "id": "797ee6ea",
        "outputId": "2bba1455-6a94-4eed-afeb-5906294274fa",
        "colab": {
          "base_uri": "https://localhost:8080/"
        }
      },
      "outputs": [
        {
          "output_type": "execute_result",
          "data": {
            "text/plain": [
              "0    289102\n",
              "1      4912\n",
              "Name: it_is_brand_zone, dtype: int64"
            ]
          },
          "metadata": {},
          "execution_count": 33
        }
      ],
      "source": [
        "allegro_df_build[\"it_is_brand_zone\"].value_counts()"
      ]
    },
    {
      "cell_type": "code",
      "source": [
        "sns.countplot(data=allegro_df_build, x=\"it_is_brand_zone\")"
      ],
      "metadata": {
        "colab": {
          "base_uri": "https://localhost:8080/",
          "height": 72
        },
        "id": "uXs1q1i_Gc-9",
        "outputId": "dfde16f4-bdeb-4006-b159-57401b83b4e0"
      },
      "id": "uXs1q1i_Gc-9",
      "execution_count": null,
      "outputs": [
        {
          "output_type": "execute_result",
          "data": {
            "text/plain": [
              "<matplotlib.axes._subplots.AxesSubplot at 0x7f0c0cc7f490>"
            ]
          },
          "metadata": {},
          "execution_count": 34
        },
        {
          "output_type": "display_data",
          "data": {
            "text/plain": [
              "<Figure size 432x288 with 1 Axes>"
            ],
            "image/png": "[encoded data removed]"
          },
          "metadata": {
            "needs_background": "light"
          }
        }
      ]
    },
    {
      "cell_type": "markdown",
      "id": "7366dc96",
      "metadata": {
        "id": "7366dc96"
      },
      "source": [
        "### it_seller_rating"
      ]
    },
    {
      "cell_type": "code",
      "execution_count": null,
      "id": "bd7c8e1e",
      "metadata": {
        "id": "bd7c8e1e",
        "outputId": "1f313899-b114-44d7-e75f-67e207eb3361",
        "colab": {
          "base_uri": "https://localhost:8080/"
        }
      },
      "outputs": [
        {
          "output_type": "execute_result",
          "data": {
            "text/plain": [
              "0         397\n",
              "1         332\n",
              "2         235\n",
              "4         233\n",
              "3         214\n",
              "         ... \n",
              "153793      1\n",
              "16071       1\n",
              "15663       1\n",
              "133556      1\n",
              "45692       1\n",
              "Name: it_seller_rating, Length: 41805, dtype: int64"
            ]
          },
          "metadata": {},
          "execution_count": 35
        }
      ],
      "source": [
        "allegro_df_build[\"it_seller_rating\"].value_counts()"
      ]
    },
    {
      "cell_type": "code",
      "execution_count": null,
      "id": "59e44d00",
      "metadata": {
        "id": "59e44d00",
        "outputId": "37255729-c8ef-45e8-d79a-c60d37be2652",
        "colab": {
          "base_uri": "https://localhost:8080/"
        }
      },
      "outputs": [
        {
          "output_type": "execute_result",
          "data": {
            "text/plain": [
              "count    294014.000000\n",
              "mean      20395.421779\n",
              "std       36703.494601\n",
              "min          -1.000000\n",
              "25%        1574.000000\n",
              "50%        6691.000000\n",
              "75%       20969.000000\n",
              "max      292074.000000\n",
              "Name: it_seller_rating, dtype: float64"
            ]
          },
          "metadata": {},
          "execution_count": 36
        }
      ],
      "source": [
        "allegro_df_build[\"it_seller_rating\"].describe()"
      ]
    },
    {
      "cell_type": "code",
      "execution_count": null,
      "id": "59fe818e",
      "metadata": {
        "id": "59fe818e",
        "outputId": "e2a67327-6deb-4783-bc4c-04448c5cdf73",
        "colab": {
          "base_uri": "https://localhost:8080/"
        }
      },
      "outputs": [
        {
          "output_type": "execute_result",
          "data": {
            "text/plain": [
              "6"
            ]
          },
          "metadata": {},
          "execution_count": 37
        }
      ],
      "source": [
        "allegro_df_build[\"it_seller_rating\"].lt(0).sum()"
      ]
    },
    {
      "cell_type": "markdown",
      "source": [
        "Histogram totalnie nieczytelny dla wszystkich danych. Musimy sporą część obciąć."
      ],
      "metadata": {
        "id": "trRj2zVdGw8I"
      },
      "id": "trRj2zVdGw8I"
    },
    {
      "cell_type": "code",
      "source": [
        "it_quantities = allegro_df_build['it_quantity']\n",
        "\n",
        "upper_lim =it_quantities.quantile(.90)\n",
        "lower_lim =it_quantities.quantile(.00)\n",
        "\n",
        "data_percentile2 =it_quantities[(it_quantities < upper_lim) & (it_quantities > lower_lim)]\n",
        "print(data_percentile2.min())\n",
        "sns.histplot(data=data_percentile2,binwidth=10)"
      ],
      "metadata": {
        "colab": {
          "base_uri": "https://localhost:8080/",
          "height": 89
        },
        "id": "PKzNJGN3G4b0",
        "outputId": "da459404-7bca-4c6e-c161-adb3f008f915"
      },
      "id": "PKzNJGN3G4b0",
      "execution_count": null,
      "outputs": [
        {
          "output_type": "stream",
          "name": "stdout",
          "text": [
            "1\n"
          ]
        },
        {
          "output_type": "execute_result",
          "data": {
            "text/plain": [
              "<matplotlib.axes._subplots.AxesSubplot at 0x7f0c0c9fee50>"
            ]
          },
          "metadata": {},
          "execution_count": 38
        },
        {
          "output_type": "display_data",
          "data": {
            "text/plain": [
              "<Figure size 432x288 with 1 Axes>"
            ],
            "image/png": "[encoded data removed]"
          },
          "metadata": {
            "needs_background": "light"
          }
        }
      ]
    },
    {
      "cell_type": "markdown",
      "id": "94b4924d",
      "metadata": {
        "id": "94b4924d"
      },
      "source": [
        "### it_location"
      ]
    },
    {
      "cell_type": "code",
      "execution_count": null,
      "id": "9a9fa869",
      "metadata": {
        "id": "9a9fa869",
        "outputId": "573149af-ffd4-4976-964a-82434d6e3e9c",
        "colab": {
          "base_uri": "https://localhost:8080/"
        }
      },
      "outputs": [
        {
          "output_type": "execute_result",
          "data": {
            "text/plain": [
              "Warszawa             16271\n",
              "Kraków               10587\n",
              "Łódź                  7638\n",
              "Poznań                7443\n",
              "Wrocław               5999\n",
              "                     ...  \n",
              "Warszawa ŁOMIANKI        1\n",
              "Gdańsk-Szczecin          1\n",
              "Lidzbark Welski          1\n",
              "kargowa                  1\n",
              "Rzeszów DĘBICA           1\n",
              "Name: it_location, Length: 8961, dtype: int64"
            ]
          },
          "metadata": {},
          "execution_count": 39
        }
      ],
      "source": [
        "allegro_df_build[\"it_location\"].value_counts()"
      ]
    },
    {
      "cell_type": "code",
      "execution_count": null,
      "id": "8f2d014d",
      "metadata": {
        "id": "8f2d014d"
      },
      "outputs": [],
      "source": [
        "fake_values1 = '!\"#$%&\\'()*+.:;<=>?@[\\\\]^_`{|}~@'\n",
        "fake_values2 = '!\"#$%&\\'()*+,-./:;<=>?@[\\\\]^_`{|}~ 1234567890'\n",
        "tmp1 = allegro_df_build[\"it_location\"].map((lambda v: any(char in v for char in fake_values1)))\n"
      ]
    },
    {
      "cell_type": "markdown",
      "id": "593d85d2",
      "metadata": {
        "id": "593d85d2"
      },
      "source": [
        "### main_category"
      ]
    },
    {
      "cell_type": "code",
      "execution_count": null,
      "id": "d3a4e8c4",
      "metadata": {
        "id": "d3a4e8c4",
        "outputId": "b830b8da-7961-40ca-a67b-55966a0dfd18",
        "colab": {
          "base_uri": "https://localhost:8080/"
        }
      },
      "outputs": [
        {
          "output_type": "execute_result",
          "data": {
            "text/plain": [
              "Dom i Ogród                            63932\n",
              "Odzież, Obuwie, Dodatki                37938\n",
              "Motoryzacja                            32104\n",
              "Dla Dzieci                             29415\n",
              "Uroda                                  19619\n",
              "Sport i Turystyka                      19305\n",
              "RTV i AGD                              14222\n",
              "Telefony i Akcesoria                   13883\n",
              "Komputery                              10179\n",
              "Zdrowie                                 9202\n",
              "Książki i Komiksy                       8111\n",
              "Delikatesy                              5590\n",
              "Gry                                     5007\n",
              "Rękodzieło                              4600\n",
              "Kolekcje                                4307\n",
              "Przemysł                                4150\n",
              "Biżuteria i Zegarki                     4066\n",
              "Biuro i Reklama                         2252\n",
              "Fotografia                              1620\n",
              "Muzyka                                  1374\n",
              "Antyki i Sztuka                          844\n",
              "Konsole i automaty                       744\n",
              "Filmy                                    721\n",
              "Instrumenty                              442\n",
              "Sprzęt estradowy, studyjny i DJ-ski      299\n",
              "Bilety                                    86\n",
              "Nieruchomości                              2\n",
              "Name: main_category, dtype: int64"
            ]
          },
          "metadata": {},
          "execution_count": 41
        }
      ],
      "source": [
        "allegro_df_build[\"main_category\"].value_counts()"
      ]
    },
    {
      "cell_type": "markdown",
      "id": "ea9e004f",
      "metadata": {
        "id": "ea9e004f"
      },
      "source": [
        "## Braki danych"
      ]
    },
    {
      "cell_type": "markdown",
      "id": "1fa87add",
      "metadata": {
        "id": "1fa87add"
      },
      "source": [
        "Wstępna analiza jednowymiarowa pokazała nam braki danych w czterech miejscach:\n",
        "1. Zmienna \"price\" przyjmuje wartości zerowe.\n",
        "2. Zmienna \"it_quanity\" przyjmuje wartości zerowe.\n",
        "3. Zmienna \"it_seller_rating\" przyjmuje wartości ujemne.\n",
        "4. Zmienna \"it_location\" zawiera dużo błędnych danych (prawdopodobnie użytkownik mógł ustawić tę wartość na dowolny ciąg charów ASCII)."
      ]
    },
    {
      "cell_type": "markdown",
      "id": "6ab530de",
      "metadata": {
        "id": "6ab530de"
      },
      "source": [
        "### price"
      ]
    },
    {
      "cell_type": "markdown",
      "id": "6f0f1eec",
      "metadata": {
        "id": "6f0f1eec"
      },
      "source": [
        "Zmienna \"price\" przyjmuje w niektórych miejscach wartości zerowe. Jest to dość zastanawiające i problematyczne. Na Allegro nie ma darmowych artykułów. Może to wynikać z tego, że niektóre oferty miały tak naprawdę charakter ogłoszeń (być może przekierowujących do innego serwisu lub zawierające kontakt do sprzedającego)."
      ]
    },
    {
      "cell_type": "code",
      "execution_count": 42,
      "id": "d7d88284",
      "metadata": {
        "id": "d7d88284",
        "outputId": "05d583dc-29a1-4dcd-f5c0-9bdff2c5ebae",
        "colab": {
          "base_uri": "https://localhost:8080/"
        }
      },
      "outputs": [
        {
          "output_type": "execute_result",
          "data": {
            "text/plain": [
              "22"
            ]
          },
          "metadata": {},
          "execution_count": 42
        }
      ],
      "source": [
        "allegro_df_build[\"price\"].eq(0).sum()"
      ]
    },
    {
      "cell_type": "markdown",
      "id": "bc701136",
      "metadata": {
        "id": "bc701136"
      },
      "source": [
        "Mamy dwadzieścia dwie wartości zerowe w kolumnie \"price\". Przyjrzyjmy się niektórym z nich."
      ]
    },
    {
      "cell_type": "code",
      "execution_count": 43,
      "id": "756146a3",
      "metadata": {
        "id": "756146a3",
        "outputId": "8f08bd6b-0023-44d1-e2ff-1f0b6acb38c3",
        "colab": {
          "base_uri": "https://localhost:8080/",
          "height": 523
        }
      },
      "outputs": [
        {
          "output_type": "execute_result",
          "data": {
            "text/plain": [
              "           item_id                                         categories  \\\n",
              "363166  6095529423  ['Dla Dzieci', 'Odzież', 'Kurtki, płaszcze', '...   \n",
              "243672  6098659857           ['Gry', 'Komputerowe PC', 'Strzelaniny']   \n",
              "417758  6084335204   ['Fotografia', 'Sprzęt optyczny', 'Noktowizory']   \n",
              "218624  6097628433  ['Dla Dzieci', 'Rowery i pojazdy', 'Rowery tra...   \n",
              "45669   6096818482  ['Książki i Komiksy', 'Czasopisma', 'Internet,...   \n",
              "\n",
              "        pay_option_on_delivery  pay_option_transfer     seller  price  \\\n",
              "363166                       0                    1    Dajdi83    0.0   \n",
              "243672                       0                    1     mall94    0.0   \n",
              "417758                       1                    0   10Perkoz    0.0   \n",
              "218624                       1                    1  rudeczko1    0.0   \n",
              "45669                        1                    1     jsandd    0.0   \n",
              "\n",
              "        it_is_allegro_standard  it_quantity  it_is_brand_zone  \\\n",
              "363166                       0            0                 0   \n",
              "243672                       0            0                 0   \n",
              "417758                       0            0                 0   \n",
              "218624                       0            0                 0   \n",
              "45669                        0            0                 0   \n",
              "\n",
              "        it_seller_rating it_location      main_category  \n",
              "363166                 4      Gdańsk         Dla Dzieci  \n",
              "243672                29    Warszawa                Gry  \n",
              "417758               150  Inowrocław         Fotografia  \n",
              "218624                49       mosty         Dla Dzieci  \n",
              "45669                  0    Warszawa  Książki i Komiksy  "
            ],
            "text/html": [
              "\n",
              "  <div id=\"df-8426d222-3b6b-42bb-88c0-19bfadec28de\">\n",
              "    <div class=\"colab-df-container\">\n",
              "      <div>\n",
              "<style scoped>\n",
              "    .dataframe tbody tr th:only-of-type {\n",
              "        vertical-align: middle;\n",
              "    }\n",
              "\n",
              "    .dataframe tbody tr th {\n",
              "        vertical-align: top;\n",
              "    }\n",
              "\n",
              "    .dataframe thead th {\n",
              "        text-align: right;\n",
              "    }\n",
              "</style>\n",
              "<table border=\"1\" class=\"dataframe\">\n",
              "  <thead>\n",
              "    <tr style=\"text-align: right;\">\n",
              "      <th></th>\n",
              "      <th>item_id</th>\n",
              "      <th>categories</th>\n",
              "      <th>pay_option_on_delivery</th>\n",
              "      <th>pay_option_transfer</th>\n",
              "      <th>seller</th>\n",
              "      <th>price</th>\n",
              "      <th>it_is_allegro_standard</th>\n",
              "      <th>it_quantity</th>\n",
              "      <th>it_is_brand_zone</th>\n",
              "      <th>it_seller_rating</th>\n",
              "      <th>it_location</th>\n",
              "      <th>main_category</th>\n",
              "    </tr>\n",
              "  </thead>\n",
              "  <tbody>\n",
              "    <tr>\n",
              "      <th>363166</th>\n",
              "      <td>6095529423</td>\n",
              "      <td>['Dla Dzieci', 'Odzież', 'Kurtki, płaszcze', '...</td>\n",
              "      <td>0</td>\n",
              "      <td>1</td>\n",
              "      <td>Dajdi83</td>\n",
              "      <td>0.0</td>\n",
              "      <td>0</td>\n",
              "      <td>0</td>\n",
              "      <td>0</td>\n",
              "      <td>4</td>\n",
              "      <td>Gdańsk</td>\n",
              "      <td>Dla Dzieci</td>\n",
              "    </tr>\n",
              "    <tr>\n",
              "      <th>243672</th>\n",
              "      <td>6098659857</td>\n",
              "      <td>['Gry', 'Komputerowe PC', 'Strzelaniny']</td>\n",
              "      <td>0</td>\n",
              "      <td>1</td>\n",
              "      <td>mall94</td>\n",
              "      <td>0.0</td>\n",
              "      <td>0</td>\n",
              "      <td>0</td>\n",
              "      <td>0</td>\n",
              "      <td>29</td>\n",
              "      <td>Warszawa</td>\n",
              "      <td>Gry</td>\n",
              "    </tr>\n",
              "    <tr>\n",
              "      <th>417758</th>\n",
              "      <td>6084335204</td>\n",
              "      <td>['Fotografia', 'Sprzęt optyczny', 'Noktowizory']</td>\n",
              "      <td>1</td>\n",
              "      <td>0</td>\n",
              "      <td>10Perkoz</td>\n",
              "      <td>0.0</td>\n",
              "      <td>0</td>\n",
              "      <td>0</td>\n",
              "      <td>0</td>\n",
              "      <td>150</td>\n",
              "      <td>Inowrocław</td>\n",
              "      <td>Fotografia</td>\n",
              "    </tr>\n",
              "    <tr>\n",
              "      <th>218624</th>\n",
              "      <td>6097628433</td>\n",
              "      <td>['Dla Dzieci', 'Rowery i pojazdy', 'Rowery tra...</td>\n",
              "      <td>1</td>\n",
              "      <td>1</td>\n",
              "      <td>rudeczko1</td>\n",
              "      <td>0.0</td>\n",
              "      <td>0</td>\n",
              "      <td>0</td>\n",
              "      <td>0</td>\n",
              "      <td>49</td>\n",
              "      <td>mosty</td>\n",
              "      <td>Dla Dzieci</td>\n",
              "    </tr>\n",
              "    <tr>\n",
              "      <th>45669</th>\n",
              "      <td>6096818482</td>\n",
              "      <td>['Książki i Komiksy', 'Czasopisma', 'Internet,...</td>\n",
              "      <td>1</td>\n",
              "      <td>1</td>\n",
              "      <td>jsandd</td>\n",
              "      <td>0.0</td>\n",
              "      <td>0</td>\n",
              "      <td>0</td>\n",
              "      <td>0</td>\n",
              "      <td>0</td>\n",
              "      <td>Warszawa</td>\n",
              "      <td>Książki i Komiksy</td>\n",
              "    </tr>\n",
              "  </tbody>\n",
              "</table>\n",
              "</div>\n",
              "      <button class=\"colab-df-convert\" onclick=\"convertToInteractive('df-8426d222-3b6b-42bb-88c0-19bfadec28de')\"\n",
              "              title=\"Convert this dataframe to an interactive table.\"\n",
              "              style=\"display:none;\">\n",
              "        \n",
              "  <svg xmlns=\"http://www.w3.org/2000/svg\" height=\"24px\"viewBox=\"0 0 24 24\"\n",
              "       width=\"24px\">\n",
              "    <path d=\"M0 0h24v24H0V0z\" fill=\"none\"/>\n",
              "    <path d=\"M18.56 5.44l.94 2.06.94-2.06 2.06-.94-2.06-.94-.94-2.06-.94 2.06-2.06.94zm-11 1L8.5 8.5l.94-2.06 2.06-.94-2.06-.94L8.5 2.5l-.94 2.06-2.06.94zm10 10l.94 2.06.94-2.06 2.06-.94-2.06-.94-.94-2.06-.94 2.06-2.06.94z\"/><path d=\"M17.41 7.96l-1.37-1.37c-.4-.4-.92-.59-1.43-.59-.52 0-1.04.2-1.43.59L10.3 9.45l-7.72 7.72c-.78.78-.78 2.05 0 2.83L4 21.41c.39.39.9.59 1.41.59.51 0 1.02-.2 1.41-.59l7.78-7.78 2.81-2.81c.8-.78.8-2.07 0-2.86zM5.41 20L4 18.59l7.72-7.72 1.47 1.35L5.41 20z\"/>\n",
              "  </svg>\n",
              "      </button>\n",
              "      \n",
              "  <style>\n",
              "    .colab-df-container {\n",
              "      display:flex;\n",
              "      flex-wrap:wrap;\n",
              "      gap: 12px;\n",
              "    }\n",
              "\n",
              "    .colab-df-convert {\n",
              "      background-color: #E8F0FE;\n",
              "      border: none;\n",
              "      border-radius: 50%;\n",
              "      cursor: pointer;\n",
              "      display: none;\n",
              "      fill: #1967D2;\n",
              "      height: 32px;\n",
              "      padding: 0 0 0 0;\n",
              "      width: 32px;\n",
              "    }\n",
              "\n",
              "    .colab-df-convert:hover {\n",
              "      background-color: #E2EBFA;\n",
              "      box-shadow: 0px 1px 2px rgba(60, 64, 67, 0.3), 0px 1px 3px 1px rgba(60, 64, 67, 0.15);\n",
              "      fill: #174EA6;\n",
              "    }\n",
              "\n",
              "    [theme=dark] .colab-df-convert {\n",
              "      background-color: #3B4455;\n",
              "      fill: #D2E3FC;\n",
              "    }\n",
              "\n",
              "    [theme=dark] .colab-df-convert:hover {\n",
              "      background-color: #434B5C;\n",
              "      box-shadow: 0px 1px 3px 1px rgba(0, 0, 0, 0.15);\n",
              "      filter: drop-shadow(0px 1px 2px rgba(0, 0, 0, 0.3));\n",
              "      fill: #FFFFFF;\n",
              "    }\n",
              "  </style>\n",
              "\n",
              "      <script>\n",
              "        const buttonEl =\n",
              "          document.querySelector('#df-8426d222-3b6b-42bb-88c0-19bfadec28de button.colab-df-convert');\n",
              "        buttonEl.style.display =\n",
              "          google.colab.kernel.accessAllowed ? 'block' : 'none';\n",
              "\n",
              "        async function convertToInteractive(key) {\n",
              "          const element = document.querySelector('#df-8426d222-3b6b-42bb-88c0-19bfadec28de');\n",
              "          const dataTable =\n",
              "            await google.colab.kernel.invokeFunction('convertToInteractive',\n",
              "                                                     [key], {});\n",
              "          if (!dataTable) return;\n",
              "\n",
              "          const docLinkHtml = 'Like what you see? Visit the ' +\n",
              "            '<a target=\"_blank\" href=https://colab.research.google.com/notebooks/data_table.ipynb>data table notebook</a>'\n",
              "            + ' to learn more about interactive tables.';\n",
              "          element.innerHTML = '';\n",
              "          dataTable['output_type'] = 'display_data';\n",
              "          await google.colab.output.renderOutput(dataTable, element);\n",
              "          const docLink = document.createElement('div');\n",
              "          docLink.innerHTML = docLinkHtml;\n",
              "          element.appendChild(docLink);\n",
              "        }\n",
              "      </script>\n",
              "    </div>\n",
              "  </div>\n",
              "  "
            ]
          },
          "metadata": {},
          "execution_count": 43
        }
      ],
      "source": [
        "price_zero = allegro_df_build.loc[allegro_df_build[\"price\"] == 0]\n",
        "price_zero.head()"
      ]
    },
    {
      "cell_type": "markdown",
      "id": "fc03e14e",
      "metadata": {
        "id": "fc03e14e"
      },
      "source": [
        "Nic ciekawego z tego nie wynika. Skoro kolumn jest bardzo mała ilość - można je usunąć."
      ]
    },
    {
      "cell_type": "code",
      "execution_count": 5,
      "id": "e215e9a5",
      "metadata": {
        "id": "e215e9a5",
        "outputId": "4f545c2c-cad9-4f92-c3bb-b6d780ac2892",
        "colab": {
          "base_uri": "https://localhost:8080/",
          "height": 591
        }
      },
      "outputs": [
        {
          "output_type": "stream",
          "name": "stdout",
          "text": [
            "(293992, 14)\n",
            "(294014, 14)\n"
          ]
        },
        {
          "output_type": "execute_result",
          "data": {
            "text/plain": [
              "            lp                 date     item_id  \\\n",
              "180801  180801  2016-04-03 18:44:12  6095890163   \n",
              "169056  169056  2016-04-03 18:01:31  5813383000   \n",
              "168488  168488  2016-04-03 16:09:15  5152635000   \n",
              "59047    59047  2016-04-03 20:14:14  5604048299   \n",
              "69298    69298  2016-04-03 16:53:52  6097217991   \n",
              "\n",
              "                                               categories  \\\n",
              "180801     ['Kolekcje', 'Birofilistyka', 'Gadżety piwne']   \n",
              "169056  ['Uroda', 'Kosmetyki pielęgnacyjne', 'Ciało', ...   \n",
              "168488  ['Kolekcje', 'Modelarstwo', 'Materiały modelar...   \n",
              "59047   ['Biuro i Reklama', 'Artykuły piśmiennicze', '...   \n",
              "69298   ['Muzyka', 'Płyty kompaktowe', 'Rock', 'Zagran...   \n",
              "\n",
              "        pay_option_on_delivery  pay_option_transfer          seller  price  \\\n",
              "180801                       0                    1    Afrikakorps1   4.00   \n",
              "169056                       1                    1  kosmet_galeria  14.95   \n",
              "168488                       1                    1      modelas123   7.80   \n",
              "59047                        1                    1    papiermix-pl   3.30   \n",
              "69298                        0                    1       janekpogi  24.00   \n",
              "\n",
              "        it_is_allegro_standard  it_quantity  it_is_brand_zone  \\\n",
              "180801                       0            0                 0   \n",
              "169056                       1            0                 0   \n",
              "168488                       0          970                 0   \n",
              "59047                        0          971                 0   \n",
              "69298                        0            0                 0   \n",
              "\n",
              "        it_seller_rating it_location    main_category  \n",
              "180801               747     Miastko         Kolekcje  \n",
              "169056              4303    Warszawa            Uroda  \n",
              "168488             20202      Krosno         Kolekcje  \n",
              "59047               3572  Głuchołazy  Biuro i Reklama  \n",
              "69298                568      Tarnów           Muzyka  "
            ],
            "text/html": [
              "\n",
              "  <div id=\"df-a9096084-b96d-4733-ad5d-528ee53f39c4\">\n",
              "    <div class=\"colab-df-container\">\n",
              "      <div>\n",
              "<style scoped>\n",
              "    .dataframe tbody tr th:only-of-type {\n",
              "        vertical-align: middle;\n",
              "    }\n",
              "\n",
              "    .dataframe tbody tr th {\n",
              "        vertical-align: top;\n",
              "    }\n",
              "\n",
              "    .dataframe thead th {\n",
              "        text-align: right;\n",
              "    }\n",
              "</style>\n",
              "<table border=\"1\" class=\"dataframe\">\n",
              "  <thead>\n",
              "    <tr style=\"text-align: right;\">\n",
              "      <th></th>\n",
              "      <th>lp</th>\n",
              "      <th>date</th>\n",
              "      <th>item_id</th>\n",
              "      <th>categories</th>\n",
              "      <th>pay_option_on_delivery</th>\n",
              "      <th>pay_option_transfer</th>\n",
              "      <th>seller</th>\n",
              "      <th>price</th>\n",
              "      <th>it_is_allegro_standard</th>\n",
              "      <th>it_quantity</th>\n",
              "      <th>it_is_brand_zone</th>\n",
              "      <th>it_seller_rating</th>\n",
              "      <th>it_location</th>\n",
              "      <th>main_category</th>\n",
              "    </tr>\n",
              "  </thead>\n",
              "  <tbody>\n",
              "    <tr>\n",
              "      <th>180801</th>\n",
              "      <td>180801</td>\n",
              "      <td>2016-04-03 18:44:12</td>\n",
              "      <td>6095890163</td>\n",
              "      <td>['Kolekcje', 'Birofilistyka', 'Gadżety piwne']</td>\n",
              "      <td>0</td>\n",
              "      <td>1</td>\n",
              "      <td>Afrikakorps1</td>\n",
              "      <td>4.00</td>\n",
              "      <td>0</td>\n",
              "      <td>0</td>\n",
              "      <td>0</td>\n",
              "      <td>747</td>\n",
              "      <td>Miastko</td>\n",
              "      <td>Kolekcje</td>\n",
              "    </tr>\n",
              "    <tr>\n",
              "      <th>169056</th>\n",
              "      <td>169056</td>\n",
              "      <td>2016-04-03 18:01:31</td>\n",
              "      <td>5813383000</td>\n",
              "      <td>['Uroda', 'Kosmetyki pielęgnacyjne', 'Ciało', ...</td>\n",
              "      <td>1</td>\n",
              "      <td>1</td>\n",
              "      <td>kosmet_galeria</td>\n",
              "      <td>14.95</td>\n",
              "      <td>1</td>\n",
              "      <td>0</td>\n",
              "      <td>0</td>\n",
              "      <td>4303</td>\n",
              "      <td>Warszawa</td>\n",
              "      <td>Uroda</td>\n",
              "    </tr>\n",
              "    <tr>\n",
              "      <th>168488</th>\n",
              "      <td>168488</td>\n",
              "      <td>2016-04-03 16:09:15</td>\n",
              "      <td>5152635000</td>\n",
              "      <td>['Kolekcje', 'Modelarstwo', 'Materiały modelar...</td>\n",
              "      <td>1</td>\n",
              "      <td>1</td>\n",
              "      <td>modelas123</td>\n",
              "      <td>7.80</td>\n",
              "      <td>0</td>\n",
              "      <td>970</td>\n",
              "      <td>0</td>\n",
              "      <td>20202</td>\n",
              "      <td>Krosno</td>\n",
              "      <td>Kolekcje</td>\n",
              "    </tr>\n",
              "    <tr>\n",
              "      <th>59047</th>\n",
              "      <td>59047</td>\n",
              "      <td>2016-04-03 20:14:14</td>\n",
              "      <td>5604048299</td>\n",
              "      <td>['Biuro i Reklama', 'Artykuły piśmiennicze', '...</td>\n",
              "      <td>1</td>\n",
              "      <td>1</td>\n",
              "      <td>papiermix-pl</td>\n",
              "      <td>3.30</td>\n",
              "      <td>0</td>\n",
              "      <td>971</td>\n",
              "      <td>0</td>\n",
              "      <td>3572</td>\n",
              "      <td>Głuchołazy</td>\n",
              "      <td>Biuro i Reklama</td>\n",
              "    </tr>\n",
              "    <tr>\n",
              "      <th>69298</th>\n",
              "      <td>69298</td>\n",
              "      <td>2016-04-03 16:53:52</td>\n",
              "      <td>6097217991</td>\n",
              "      <td>['Muzyka', 'Płyty kompaktowe', 'Rock', 'Zagran...</td>\n",
              "      <td>0</td>\n",
              "      <td>1</td>\n",
              "      <td>janekpogi</td>\n",
              "      <td>24.00</td>\n",
              "      <td>0</td>\n",
              "      <td>0</td>\n",
              "      <td>0</td>\n",
              "      <td>568</td>\n",
              "      <td>Tarnów</td>\n",
              "      <td>Muzyka</td>\n",
              "    </tr>\n",
              "  </tbody>\n",
              "</table>\n",
              "</div>\n",
              "      <button class=\"colab-df-convert\" onclick=\"convertToInteractive('df-a9096084-b96d-4733-ad5d-528ee53f39c4')\"\n",
              "              title=\"Convert this dataframe to an interactive table.\"\n",
              "              style=\"display:none;\">\n",
              "        \n",
              "  <svg xmlns=\"http://www.w3.org/2000/svg\" height=\"24px\"viewBox=\"0 0 24 24\"\n",
              "       width=\"24px\">\n",
              "    <path d=\"M0 0h24v24H0V0z\" fill=\"none\"/>\n",
              "    <path d=\"M18.56 5.44l.94 2.06.94-2.06 2.06-.94-2.06-.94-.94-2.06-.94 2.06-2.06.94zm-11 1L8.5 8.5l.94-2.06 2.06-.94-2.06-.94L8.5 2.5l-.94 2.06-2.06.94zm10 10l.94 2.06.94-2.06 2.06-.94-2.06-.94-.94-2.06-.94 2.06-2.06.94z\"/><path d=\"M17.41 7.96l-1.37-1.37c-.4-.4-.92-.59-1.43-.59-.52 0-1.04.2-1.43.59L10.3 9.45l-7.72 7.72c-.78.78-.78 2.05 0 2.83L4 21.41c.39.39.9.59 1.41.59.51 0 1.02-.2 1.41-.59l7.78-7.78 2.81-2.81c.8-.78.8-2.07 0-2.86zM5.41 20L4 18.59l7.72-7.72 1.47 1.35L5.41 20z\"/>\n",
              "  </svg>\n",
              "      </button>\n",
              "      \n",
              "  <style>\n",
              "    .colab-df-container {\n",
              "      display:flex;\n",
              "      flex-wrap:wrap;\n",
              "      gap: 12px;\n",
              "    }\n",
              "\n",
              "    .colab-df-convert {\n",
              "      background-color: #E8F0FE;\n",
              "      border: none;\n",
              "      border-radius: 50%;\n",
              "      cursor: pointer;\n",
              "      display: none;\n",
              "      fill: #1967D2;\n",
              "      height: 32px;\n",
              "      padding: 0 0 0 0;\n",
              "      width: 32px;\n",
              "    }\n",
              "\n",
              "    .colab-df-convert:hover {\n",
              "      background-color: #E2EBFA;\n",
              "      box-shadow: 0px 1px 2px rgba(60, 64, 67, 0.3), 0px 1px 3px 1px rgba(60, 64, 67, 0.15);\n",
              "      fill: #174EA6;\n",
              "    }\n",
              "\n",
              "    [theme=dark] .colab-df-convert {\n",
              "      background-color: #3B4455;\n",
              "      fill: #D2E3FC;\n",
              "    }\n",
              "\n",
              "    [theme=dark] .colab-df-convert:hover {\n",
              "      background-color: #434B5C;\n",
              "      box-shadow: 0px 1px 3px 1px rgba(0, 0, 0, 0.15);\n",
              "      filter: drop-shadow(0px 1px 2px rgba(0, 0, 0, 0.3));\n",
              "      fill: #FFFFFF;\n",
              "    }\n",
              "  </style>\n",
              "\n",
              "      <script>\n",
              "        const buttonEl =\n",
              "          document.querySelector('#df-a9096084-b96d-4733-ad5d-528ee53f39c4 button.colab-df-convert');\n",
              "        buttonEl.style.display =\n",
              "          google.colab.kernel.accessAllowed ? 'block' : 'none';\n",
              "\n",
              "        async function convertToInteractive(key) {\n",
              "          const element = document.querySelector('#df-a9096084-b96d-4733-ad5d-528ee53f39c4');\n",
              "          const dataTable =\n",
              "            await google.colab.kernel.invokeFunction('convertToInteractive',\n",
              "                                                     [key], {});\n",
              "          if (!dataTable) return;\n",
              "\n",
              "          const docLinkHtml = 'Like what you see? Visit the ' +\n",
              "            '<a target=\"_blank\" href=https://colab.research.google.com/notebooks/data_table.ipynb>data table notebook</a>'\n",
              "            + ' to learn more about interactive tables.';\n",
              "          element.innerHTML = '';\n",
              "          dataTable['output_type'] = 'display_data';\n",
              "          await google.colab.output.renderOutput(dataTable, element);\n",
              "          const docLink = document.createElement('div');\n",
              "          docLink.innerHTML = docLinkHtml;\n",
              "          element.appendChild(docLink);\n",
              "        }\n",
              "      </script>\n",
              "    </div>\n",
              "  </div>\n",
              "  "
            ]
          },
          "metadata": {},
          "execution_count": 5
        }
      ],
      "source": [
        "allegro_df_build_fixed = allegro_df_build[allegro_df_build.price != 0]\n",
        "print(allegro_df_build_fixed.shape)\n",
        "print(allegro_df_build.shape)\n",
        "allegro_df_build_fixed.head()"
      ]
    },
    {
      "cell_type": "markdown",
      "id": "c2fe8e1b",
      "metadata": {
        "id": "c2fe8e1b"
      },
      "source": [
        "Postanowiliśmy usunąć te \"problematyczne\" rzędy. Istnieje jednak oczywiście możliwość, że wystawione przedmioty faktycznie były dostępne za darmo. W takim wypadku nie można uznać tego za brak danych. Nie mają jednak wtedy one żadnej wartości predykcyjnej, jest ich bardzo mało, więc postanowiliśmy je po prostu usunąć. Dlaczego nie wstawiliśmy mediany lub następnej najmniejszej wartości? Postanowiliśmy, że lepiej będzie jej usunąć, ponieważ są to dane wątpliwej wartości - prawdopodobnie niezgodne z regulaminem Allegro (skoro jest ich tak mało w momencie pobrania zbioru, dane z \"price\" = 0 mogą być szybko usuwane). Jak już wspomnieliśmy wcześniej mogą być to po prostu ogłoszenia, czy inny spam przekierowujący w inne miejsce, który nie został jeszcze zdjęty z serwisu."
      ]
    },
    {
      "cell_type": "markdown",
      "id": "c0d9905f",
      "metadata": {
        "id": "c0d9905f"
      },
      "source": [
        "### it_quantity"
      ]
    },
    {
      "cell_type": "markdown",
      "id": "8962be70",
      "metadata": {
        "id": "8962be70"
      },
      "source": [
        "Kolejną problematyczną zmienną jest zmienna \"it_quantity\". Również zawiera ona zera - jest to conajmniej dziwne. Nie można sprzedać przedmiotu, który nie istnieje."
      ]
    },
    {
      "cell_type": "code",
      "execution_count": 45,
      "id": "fa4fc717",
      "metadata": {
        "id": "fa4fc717",
        "outputId": "24f55f40-029b-4e26-c2a6-bfbb8d0c6057",
        "colab": {
          "base_uri": "https://localhost:8080/"
        }
      },
      "outputs": [
        {
          "output_type": "execute_result",
          "data": {
            "text/plain": [
              "40870"
            ]
          },
          "metadata": {},
          "execution_count": 45
        }
      ],
      "source": [
        "allegro_df_build[\"it_quantity\"].eq(0).sum()"
      ]
    },
    {
      "cell_type": "markdown",
      "id": "8c60a992",
      "metadata": {
        "id": "8c60a992"
      },
      "source": [
        "Mamy bardzo dużo takich rekordów. Oznacza to, że jest to wręcz trend na Allegro. Być może jest to domyślna wartość przy wystawieniu przedmiotu."
      ]
    },
    {
      "cell_type": "code",
      "execution_count": 46,
      "id": "49d65043",
      "metadata": {
        "id": "49d65043",
        "outputId": "84a37899-616b-467e-b3e5-b5cc994884a8",
        "colab": {
          "base_uri": "https://localhost:8080/"
        }
      },
      "outputs": [
        {
          "output_type": "execute_result",
          "data": {
            "text/plain": [
              "246"
            ]
          },
          "metadata": {},
          "execution_count": 46
        }
      ],
      "source": [
        "allegro_df_build[\"it_quantity\"].eq(99999).sum()"
      ]
    },
    {
      "cell_type": "markdown",
      "id": "026a03f5",
      "metadata": {
        "id": "026a03f5"
      },
      "source": [
        " Z kolei 99999 to maksymalna wartość jaką może przyjąć ta zmienna. Może to oznaczać sczapeczkowanie. Nie jest to jednak brak danych."
      ]
    },
    {
      "cell_type": "code",
      "execution_count": 47,
      "id": "ac23bb73",
      "metadata": {
        "id": "ac23bb73",
        "outputId": "23f31f0b-897e-4443-d16e-fc23bf6cac82",
        "colab": {
          "base_uri": "https://localhost:8080/"
        }
      },
      "outputs": [
        {
          "output_type": "execute_result",
          "data": {
            "text/plain": [
              "0        40870\n",
              "1         7522\n",
              "2         5757\n",
              "3         4767\n",
              "4         4557\n",
              "         ...  \n",
              "10284        1\n",
              "95685        1\n",
              "1015         1\n",
              "46246        1\n",
              "19958        1\n",
              "Name: it_quantity, Length: 6759, dtype: int64"
            ]
          },
          "metadata": {},
          "execution_count": 47
        }
      ],
      "source": [
        "allegro_df_build[\"it_quantity\"].value_counts()"
      ]
    },
    {
      "cell_type": "markdown",
      "id": "bcbfedcd",
      "metadata": {
        "id": "bcbfedcd"
      },
      "source": [
        "Mamy kilka ścieżek do wyboru. Możemy te wartości zostawić, możemy zastąpić je modą (następną najpopularniejszą wartością), możemy też użyć średniej. My, biorąc pod uwagę wszystki czynniki, zdecydowaliśmy się zastąpić te zera następną najpopularniejszą wartością, a więc jedynką. Mogłoby się wydawać z autopsji, że serwis Allegro jest zdominowany przez ogłoszenia odnośnie sprzedaży pojedyńczych przedmiotów - zbiór jednak pokazuje coś diametralnie innego. Jeżeli \"zero\" to domyślna wartość proponowana przez serwis, to całkiem możliwe, że osoby, które nie prowadzą sklepu, chcą po prostu sprzedać pojedynczy przedmiot, po prostu zostawiają to pole puste. Wstawienie więc w miejsce zera kolejnej najpopularniejszej wartości (którą szczęśliwie jest jedynka) ma według nas lepsze uzasadnienie odzwierciedlające rzeczywistość niż wstawienie mediany (która wynosi prawie 7 tysięcy)). Rzędów jest na tyle dużo, że nie ma mowy o ich usunięciu."
      ]
    },
    {
      "cell_type": "code",
      "execution_count": 48,
      "id": "e200c10d",
      "metadata": {
        "id": "e200c10d",
        "outputId": "b7ee6c7b-f189-4ea9-bf33-f2866750a9da",
        "colab": {
          "base_uri": "https://localhost:8080/",
          "height": 557
        }
      },
      "outputs": [
        {
          "output_type": "execute_result",
          "data": {
            "text/plain": [
              "           item_id                                         categories  \\\n",
              "180801  6095890163     ['Kolekcje', 'Birofilistyka', 'Gadżety piwne']   \n",
              "169056  5813383000  ['Uroda', 'Kosmetyki pielęgnacyjne', 'Ciało', ...   \n",
              "168488  5152635000  ['Kolekcje', 'Modelarstwo', 'Materiały modelar...   \n",
              "59047   5604048299  ['Biuro i Reklama', 'Artykuły piśmiennicze', '...   \n",
              "69298   6097217991  ['Muzyka', 'Płyty kompaktowe', 'Rock', 'Zagran...   \n",
              "\n",
              "        pay_option_on_delivery  pay_option_transfer          seller  price  \\\n",
              "180801                       0                    1    Afrikakorps1   4.00   \n",
              "169056                       1                    1  kosmet_galeria  14.95   \n",
              "168488                       1                    1      modelas123   7.80   \n",
              "59047                        1                    1    papiermix-pl   3.30   \n",
              "69298                        0                    1       janekpogi  24.00   \n",
              "\n",
              "        it_is_allegro_standard  it_quantity  it_is_brand_zone  \\\n",
              "180801                       0            1                 0   \n",
              "169056                       1            1                 0   \n",
              "168488                       0          970                 0   \n",
              "59047                        0          971                 0   \n",
              "69298                        0            1                 0   \n",
              "\n",
              "        it_seller_rating it_location    main_category  \n",
              "180801               747     Miastko         Kolekcje  \n",
              "169056              4303    Warszawa            Uroda  \n",
              "168488             20202      Krosno         Kolekcje  \n",
              "59047               3572  Głuchołazy  Biuro i Reklama  \n",
              "69298                568      Tarnów           Muzyka  "
            ],
            "text/html": [
              "\n",
              "  <div id=\"df-1950a2b3-272b-4c50-818b-49b3adf98bea\">\n",
              "    <div class=\"colab-df-container\">\n",
              "      <div>\n",
              "<style scoped>\n",
              "    .dataframe tbody tr th:only-of-type {\n",
              "        vertical-align: middle;\n",
              "    }\n",
              "\n",
              "    .dataframe tbody tr th {\n",
              "        vertical-align: top;\n",
              "    }\n",
              "\n",
              "    .dataframe thead th {\n",
              "        text-align: right;\n",
              "    }\n",
              "</style>\n",
              "<table border=\"1\" class=\"dataframe\">\n",
              "  <thead>\n",
              "    <tr style=\"text-align: right;\">\n",
              "      <th></th>\n",
              "      <th>item_id</th>\n",
              "      <th>categories</th>\n",
              "      <th>pay_option_on_delivery</th>\n",
              "      <th>pay_option_transfer</th>\n",
              "      <th>seller</th>\n",
              "      <th>price</th>\n",
              "      <th>it_is_allegro_standard</th>\n",
              "      <th>it_quantity</th>\n",
              "      <th>it_is_brand_zone</th>\n",
              "      <th>it_seller_rating</th>\n",
              "      <th>it_location</th>\n",
              "      <th>main_category</th>\n",
              "    </tr>\n",
              "  </thead>\n",
              "  <tbody>\n",
              "    <tr>\n",
              "      <th>180801</th>\n",
              "      <td>6095890163</td>\n",
              "      <td>['Kolekcje', 'Birofilistyka', 'Gadżety piwne']</td>\n",
              "      <td>0</td>\n",
              "      <td>1</td>\n",
              "      <td>Afrikakorps1</td>\n",
              "      <td>4.00</td>\n",
              "      <td>0</td>\n",
              "      <td>1</td>\n",
              "      <td>0</td>\n",
              "      <td>747</td>\n",
              "      <td>Miastko</td>\n",
              "      <td>Kolekcje</td>\n",
              "    </tr>\n",
              "    <tr>\n",
              "      <th>169056</th>\n",
              "      <td>5813383000</td>\n",
              "      <td>['Uroda', 'Kosmetyki pielęgnacyjne', 'Ciało', ...</td>\n",
              "      <td>1</td>\n",
              "      <td>1</td>\n",
              "      <td>kosmet_galeria</td>\n",
              "      <td>14.95</td>\n",
              "      <td>1</td>\n",
              "      <td>1</td>\n",
              "      <td>0</td>\n",
              "      <td>4303</td>\n",
              "      <td>Warszawa</td>\n",
              "      <td>Uroda</td>\n",
              "    </tr>\n",
              "    <tr>\n",
              "      <th>168488</th>\n",
              "      <td>5152635000</td>\n",
              "      <td>['Kolekcje', 'Modelarstwo', 'Materiały modelar...</td>\n",
              "      <td>1</td>\n",
              "      <td>1</td>\n",
              "      <td>modelas123</td>\n",
              "      <td>7.80</td>\n",
              "      <td>0</td>\n",
              "      <td>970</td>\n",
              "      <td>0</td>\n",
              "      <td>20202</td>\n",
              "      <td>Krosno</td>\n",
              "      <td>Kolekcje</td>\n",
              "    </tr>\n",
              "    <tr>\n",
              "      <th>59047</th>\n",
              "      <td>5604048299</td>\n",
              "      <td>['Biuro i Reklama', 'Artykuły piśmiennicze', '...</td>\n",
              "      <td>1</td>\n",
              "      <td>1</td>\n",
              "      <td>papiermix-pl</td>\n",
              "      <td>3.30</td>\n",
              "      <td>0</td>\n",
              "      <td>971</td>\n",
              "      <td>0</td>\n",
              "      <td>3572</td>\n",
              "      <td>Głuchołazy</td>\n",
              "      <td>Biuro i Reklama</td>\n",
              "    </tr>\n",
              "    <tr>\n",
              "      <th>69298</th>\n",
              "      <td>6097217991</td>\n",
              "      <td>['Muzyka', 'Płyty kompaktowe', 'Rock', 'Zagran...</td>\n",
              "      <td>0</td>\n",
              "      <td>1</td>\n",
              "      <td>janekpogi</td>\n",
              "      <td>24.00</td>\n",
              "      <td>0</td>\n",
              "      <td>1</td>\n",
              "      <td>0</td>\n",
              "      <td>568</td>\n",
              "      <td>Tarnów</td>\n",
              "      <td>Muzyka</td>\n",
              "    </tr>\n",
              "  </tbody>\n",
              "</table>\n",
              "</div>\n",
              "      <button class=\"colab-df-convert\" onclick=\"convertToInteractive('df-1950a2b3-272b-4c50-818b-49b3adf98bea')\"\n",
              "              title=\"Convert this dataframe to an interactive table.\"\n",
              "              style=\"display:none;\">\n",
              "        \n",
              "  <svg xmlns=\"http://www.w3.org/2000/svg\" height=\"24px\"viewBox=\"0 0 24 24\"\n",
              "       width=\"24px\">\n",
              "    <path d=\"M0 0h24v24H0V0z\" fill=\"none\"/>\n",
              "    <path d=\"M18.56 5.44l.94 2.06.94-2.06 2.06-.94-2.06-.94-.94-2.06-.94 2.06-2.06.94zm-11 1L8.5 8.5l.94-2.06 2.06-.94-2.06-.94L8.5 2.5l-.94 2.06-2.06.94zm10 10l.94 2.06.94-2.06 2.06-.94-2.06-.94-.94-2.06-.94 2.06-2.06.94z\"/><path d=\"M17.41 7.96l-1.37-1.37c-.4-.4-.92-.59-1.43-.59-.52 0-1.04.2-1.43.59L10.3 9.45l-7.72 7.72c-.78.78-.78 2.05 0 2.83L4 21.41c.39.39.9.59 1.41.59.51 0 1.02-.2 1.41-.59l7.78-7.78 2.81-2.81c.8-.78.8-2.07 0-2.86zM5.41 20L4 18.59l7.72-7.72 1.47 1.35L5.41 20z\"/>\n",
              "  </svg>\n",
              "      </button>\n",
              "      \n",
              "  <style>\n",
              "    .colab-df-container {\n",
              "      display:flex;\n",
              "      flex-wrap:wrap;\n",
              "      gap: 12px;\n",
              "    }\n",
              "\n",
              "    .colab-df-convert {\n",
              "      background-color: #E8F0FE;\n",
              "      border: none;\n",
              "      border-radius: 50%;\n",
              "      cursor: pointer;\n",
              "      display: none;\n",
              "      fill: #1967D2;\n",
              "      height: 32px;\n",
              "      padding: 0 0 0 0;\n",
              "      width: 32px;\n",
              "    }\n",
              "\n",
              "    .colab-df-convert:hover {\n",
              "      background-color: #E2EBFA;\n",
              "      box-shadow: 0px 1px 2px rgba(60, 64, 67, 0.3), 0px 1px 3px 1px rgba(60, 64, 67, 0.15);\n",
              "      fill: #174EA6;\n",
              "    }\n",
              "\n",
              "    [theme=dark] .colab-df-convert {\n",
              "      background-color: #3B4455;\n",
              "      fill: #D2E3FC;\n",
              "    }\n",
              "\n",
              "    [theme=dark] .colab-df-convert:hover {\n",
              "      background-color: #434B5C;\n",
              "      box-shadow: 0px 1px 3px 1px rgba(0, 0, 0, 0.15);\n",
              "      filter: drop-shadow(0px 1px 2px rgba(0, 0, 0, 0.3));\n",
              "      fill: #FFFFFF;\n",
              "    }\n",
              "  </style>\n",
              "\n",
              "      <script>\n",
              "        const buttonEl =\n",
              "          document.querySelector('#df-1950a2b3-272b-4c50-818b-49b3adf98bea button.colab-df-convert');\n",
              "        buttonEl.style.display =\n",
              "          google.colab.kernel.accessAllowed ? 'block' : 'none';\n",
              "\n",
              "        async function convertToInteractive(key) {\n",
              "          const element = document.querySelector('#df-1950a2b3-272b-4c50-818b-49b3adf98bea');\n",
              "          const dataTable =\n",
              "            await google.colab.kernel.invokeFunction('convertToInteractive',\n",
              "                                                     [key], {});\n",
              "          if (!dataTable) return;\n",
              "\n",
              "          const docLinkHtml = 'Like what you see? Visit the ' +\n",
              "            '<a target=\"_blank\" href=https://colab.research.google.com/notebooks/data_table.ipynb>data table notebook</a>'\n",
              "            + ' to learn more about interactive tables.';\n",
              "          element.innerHTML = '';\n",
              "          dataTable['output_type'] = 'display_data';\n",
              "          await google.colab.output.renderOutput(dataTable, element);\n",
              "          const docLink = document.createElement('div');\n",
              "          docLink.innerHTML = docLinkHtml;\n",
              "          element.appendChild(docLink);\n",
              "        }\n",
              "      </script>\n",
              "    </div>\n",
              "  </div>\n",
              "  "
            ]
          },
          "metadata": {},
          "execution_count": 48
        }
      ],
      "source": [
        "#allegro_df_build_fixed2 = allegro_df_build.loc[allegro_df_build[\"it_quantity\"] ==  0]\n",
        "#allegro_df_build_fixed2 = allegro_df_build\n",
        "allegro_df_build_fixed.loc[allegro_df_build_fixed[\"it_quantity\"] == 0, \"it_quantity\"] = 1\n",
        "allegro_df_build_fixed.head()"
      ]
    },
    {
      "cell_type": "code",
      "execution_count": 49,
      "id": "0a262ca7",
      "metadata": {
        "id": "0a262ca7",
        "outputId": "e2205c64-e40a-4aba-9559-005e7c8be9d0",
        "colab": {
          "base_uri": "https://localhost:8080/"
        }
      },
      "outputs": [
        {
          "output_type": "execute_result",
          "data": {
            "text/plain": [
              "1        48370\n",
              "2         5757\n",
              "3         4767\n",
              "4         4557\n",
              "9         3571\n",
              "         ...  \n",
              "98529        1\n",
              "9148         1\n",
              "2402         1\n",
              "98152        1\n",
              "19958        1\n",
              "Name: it_quantity, Length: 6758, dtype: int64"
            ]
          },
          "metadata": {},
          "execution_count": 49
        }
      ],
      "source": [
        "allegro_df_build_fixed[\"it_quantity\"].value_counts()"
      ]
    },
    {
      "cell_type": "markdown",
      "id": "3493ce7b",
      "metadata": {
        "id": "3493ce7b"
      },
      "source": [
        "### it_seller_rating"
      ]
    },
    {
      "cell_type": "markdown",
      "id": "84ba0691",
      "metadata": {
        "id": "84ba0691"
      },
      "source": [
        "Kolumna \"it_seller_rating\" zawiera kilka wartości ujemnych."
      ]
    },
    {
      "cell_type": "code",
      "execution_count": 50,
      "id": "7437d49c",
      "metadata": {
        "id": "7437d49c",
        "outputId": "d3c7e38c-861c-4d12-f953-debc99d16214",
        "colab": {
          "base_uri": "https://localhost:8080/"
        }
      },
      "outputs": [
        {
          "output_type": "execute_result",
          "data": {
            "text/plain": [
              "4"
            ]
          },
          "metadata": {},
          "execution_count": 50
        }
      ],
      "source": [
        "allegro_df_build[\"it_seller_rating\"].lt(0).sum()"
      ]
    },
    {
      "cell_type": "markdown",
      "id": "6986bf72",
      "metadata": {
        "id": "6986bf72"
      },
      "source": [
        "Ciężko powiedzieć co to oznacza. Mogą być to konta usunięte, zbanowane, może być też to swojego rodzaju bug. Jest tylko sześć takich ogłoszeń. Nie wiemy jednak co to w ogólnym wypadku oznacza więc najrozsądniej będzie podnieść te problematyczne wartości ujemne do zera. Warto dodać, że wszystki te wartości ujemne to liczby \"-1\". Być może sensownie byłoby też usunąć rzędy z takimi wartościami (jest ich zaledwie sześć)."
      ]
    },
    {
      "cell_type": "code",
      "execution_count": 51,
      "id": "31bd5500",
      "metadata": {
        "id": "31bd5500",
        "outputId": "b3816994-a5aa-4a08-a10a-40ccc3683359",
        "colab": {
          "base_uri": "https://localhost:8080/"
        }
      },
      "outputs": [
        {
          "output_type": "execute_result",
          "data": {
            "text/plain": [
              "count    243566.000000\n",
              "mean      18779.516049\n",
              "std       34967.500671\n",
              "min           0.000000\n",
              "25%        1439.000000\n",
              "50%        6062.000000\n",
              "75%       19355.000000\n",
              "max      292074.000000\n",
              "Name: it_seller_rating, dtype: float64"
            ]
          },
          "metadata": {},
          "execution_count": 51
        }
      ],
      "source": [
        "allegro_df_build_fixed.loc[allegro_df_build_fixed[\"it_seller_rating\"].lt(0), \"it_seller_rating\"] = 0\n",
        "allegro_df_build_fixed[\"it_seller_rating\"].describe()"
      ]
    },
    {
      "cell_type": "markdown",
      "id": "d7bd4ef4",
      "metadata": {
        "id": "d7bd4ef4"
      },
      "source": [
        "### it_location"
      ]
    },
    {
      "cell_type": "markdown",
      "id": "2cb887be",
      "metadata": {
        "id": "2cb887be"
      },
      "source": [
        "Kolumna \"it_location\" zawiera dużo \"śmieciowych\" wartości. Użytkownicy prawdopodobnie mogli nadawać tej zmiennej wartości samodzielnie poprzez wpisanie dowolnego ciągu charów ASCII z klawiatury."
      ]
    },
    {
      "cell_type": "code",
      "execution_count": 52,
      "id": "41abdb36",
      "metadata": {
        "id": "41abdb36",
        "outputId": "c862977c-7bbb-43d3-db8b-d090e29e06ad",
        "colab": {
          "base_uri": "https://localhost:8080/"
        }
      },
      "outputs": [
        {
          "output_type": "execute_result",
          "data": {
            "text/plain": [
              "20"
            ]
          },
          "metadata": {},
          "execution_count": 52
        }
      ],
      "source": [
        "(allegro_df_build_fixed.it_location == \"Londyn\").sum()"
      ]
    },
    {
      "cell_type": "markdown",
      "id": "938cb810",
      "metadata": {
        "id": "938cb810"
      },
      "source": [
        "Trudno oszacować w tym wypadku braki danych. W zbiorze znajdują się również zagraniczne adresy, a nie sposób jest znać wszystkie miasta na świecie. Ciężko jest nam stwiedzić czy \"Hjingwan\" to przypadkowy ciąg znaków, czy może jakieś miasto w Chinach. Musimy więc przepuszczać każdą wartość, która zawiera litery. Odrzucić natomiast można z całą pewnością puste stringi oraz takie, które zawierają tylko i wyłącznie znaki interpunkcyjne czy same liczby."
      ]
    },
    {
      "cell_type": "code",
      "execution_count": 53,
      "id": "20fc3281",
      "metadata": {
        "id": "20fc3281",
        "outputId": "bf78249f-0f26-495d-85c2-2ff27c9ffe98",
        "colab": {
          "base_uri": "https://localhost:8080/"
        }
      },
      "outputs": [
        {
          "output_type": "stream",
          "name": "stdout",
          "text": [
            "1280\n",
            "1283\n",
            "1291\n"
          ]
        }
      ],
      "source": [
        "allegro_df_build_fixed[\"it_location_raw\"] = allegro_df_build_fixed['it_location'].str.replace('[^\\w\\s]','')\n",
        "print((allegro_df_build_fixed.it_location_raw == \"\").sum())\n",
        "allegro_df_build_fixed.it_location_raw = allegro_df_build_fixed.it_location_raw.str.replace(' ', '')\n",
        "print((allegro_df_build_fixed.it_location_raw == \"\").sum())\n",
        "allegro_df_build_fixed.it_location_raw = allegro_df_build_fixed.it_location_raw.str.replace('\\d+', '')\n",
        "print((allegro_df_build_fixed.it_location_raw == \"\").sum())"
      ]
    },
    {
      "cell_type": "markdown",
      "id": "4ba01d61",
      "metadata": {
        "id": "4ba01d61"
      },
      "source": [
        "Mamy 1392 wiersze, w których znajdują się jedynie znaki interpunkcyjne i liczby. Możemy je usunąć."
      ]
    },
    {
      "cell_type": "code",
      "execution_count": 54,
      "id": "38a6e226",
      "metadata": {
        "id": "38a6e226",
        "outputId": "41f337c7-810a-4b3c-e89a-0c22207dd35a",
        "colab": {
          "base_uri": "https://localhost:8080/"
        }
      },
      "outputs": [
        {
          "output_type": "stream",
          "name": "stdout",
          "text": [
            "(243566, 13)\n",
            "(242275, 13)\n"
          ]
        }
      ],
      "source": [
        "print(allegro_df_build_fixed.shape)\n",
        "allegro_df_build_fixed = allegro_df_build_fixed[allegro_df_build_fixed.it_location_raw != \"\"]\n",
        "print(allegro_df_build_fixed.shape)"
      ]
    },
    {
      "cell_type": "markdown",
      "id": "5c6fea40",
      "metadata": {
        "id": "5c6fea40"
      },
      "source": [
        "## Przekształcenie zmiennych ciągłych na kategoryczne"
      ]
    },
    {
      "cell_type": "markdown",
      "source": [
        "### Zakodowanie zmiennej celu"
      ],
      "metadata": {
        "id": "JD6e1E7uHHpR"
      },
      "id": "JD6e1E7uHHpR"
    },
    {
      "cell_type": "markdown",
      "source": [
        "Robimy to dzieląć na 3 części funkcją pd.qcut."
      ],
      "metadata": {
        "id": "y_st5hFCHOw1"
      },
      "id": "y_st5hFCHOw1"
    },
    {
      "cell_type": "code",
      "source": [
        "allegro_df_build_fixed['priceEncoded']=pd.qcut(allegro_df_build_fixed['price'], q=3,labels=False)\n",
        "allegro_df_build_fixed.head(10)"
      ],
      "metadata": {
        "id": "7gVwOtYs106y",
        "colab": {
          "base_uri": "https://localhost:8080/",
          "height": 1000
        },
        "outputId": "e53fc1b3-a89a-4a3a-dbac-c1ace14e758f"
      },
      "id": "7gVwOtYs106y",
      "execution_count": 46,
      "outputs": [
        {
          "output_type": "execute_result",
          "data": {
            "text/plain": [
              "            lp                 date     item_id  \\\n",
              "180801  180801  2016-04-03 18:44:12  6095890163   \n",
              "169056  169056  2016-04-03 18:01:31  5813383000   \n",
              "168488  168488  2016-04-03 16:09:15  5152635000   \n",
              "59047    59047  2016-04-03 20:14:14  5604048299   \n",
              "69298    69298  2016-04-03 16:53:52  6097217991   \n",
              "194622  194622  2016-04-03 17:33:05  6001070212   \n",
              "117505  117505  2016-04-03 21:12:41  5687634664   \n",
              "406589  406589  2016-04-03 15:12:34  5817896705   \n",
              "98405    98405  2016-04-03 14:44:13  5955730489   \n",
              "27867    27867  2016-04-03 18:55:11  6069971182   \n",
              "\n",
              "                                               categories  \\\n",
              "180801     ['Kolekcje', 'Birofilistyka', 'Gadżety piwne']   \n",
              "169056  ['Uroda', 'Kosmetyki pielęgnacyjne', 'Ciało', ...   \n",
              "168488  ['Kolekcje', 'Modelarstwo', 'Materiały modelar...   \n",
              "59047   ['Biuro i Reklama', 'Artykuły piśmiennicze', '...   \n",
              "69298   ['Muzyka', 'Płyty kompaktowe', 'Rock', 'Zagran...   \n",
              "194622  ['Motoryzacja', 'Opony', 'Opony samochodowe', ...   \n",
              "117505  ['Odzież, Obuwie, Dodatki', 'Odzież i bielizna...   \n",
              "406589  ['Telefony i Akcesoria', 'Akcesoria GSM', 'Fol...   \n",
              "98405   ['Odzież, Obuwie, Dodatki', 'Obuwie', 'Akcesor...   \n",
              "27867   ['Książki i Komiksy', 'Poradniki i albumy', 'P...   \n",
              "\n",
              "        pay_option_on_delivery  pay_option_transfer           seller   price  \\\n",
              "180801                       0                    1     Afrikakorps1    4.00   \n",
              "169056                       1                    1   kosmet_galeria   14.95   \n",
              "168488                       1                    1       modelas123    7.80   \n",
              "59047                        1                    1     papiermix-pl    3.30   \n",
              "69298                        0                    1        janekpogi   24.00   \n",
              "194622                       1                    1    wwwAUTO-RADpl  880.00   \n",
              "117505                       1                    1         MR-SPORT  117.99   \n",
              "406589                       1                    1         EKLIK_PL   19.99   \n",
              "98405                        1                    0  sklep_dbamobuty    4.90   \n",
              "27867                        1                    1         korob_pl   19.99   \n",
              "\n",
              "        it_is_allegro_standard  it_quantity  ...  it_location  \\\n",
              "180801                       0            0  ...            1   \n",
              "169056                       1            0  ...            3   \n",
              "168488                       0          970  ...            1   \n",
              "59047                        0          971  ...            1   \n",
              "69298                        0            0  ...            1   \n",
              "194622                       1            8  ...            3   \n",
              "117505                       0          210  ...            1   \n",
              "406589                       1          986  ...            1   \n",
              "98405                        0          474  ...            3   \n",
              "27867                        1           51  ...            5   \n",
              "\n",
              "                  main_category         second_categoryy main_categoryMedian  \\\n",
              "180801                 Kolekcje            Birofilistyka               11.99   \n",
              "169056                    Uroda  Kosmetyki pielęgnacyjne               15.49   \n",
              "168488                 Kolekcje              Modelarstwo               11.99   \n",
              "59047           Biuro i Reklama    Artykuły piśmiennicze               11.80   \n",
              "69298                    Muzyka         Płyty kompaktowe               29.00   \n",
              "194622              Motoryzacja                    Opony               37.36   \n",
              "117505  Odzież, Obuwie, Dodatki  Odzież i bielizna męska               42.90   \n",
              "406589     Telefony i Akcesoria            Akcesoria GSM               19.73   \n",
              "98405   Odzież, Obuwie, Dodatki                   Obuwie               42.90   \n",
              "27867         Książki i Komiksy       Poradniki i albumy               19.00   \n",
              "\n",
              "       main_categoryEncoded  second_categoryMedian  second_categoryEncoded  \\\n",
              "180801                    0                  5.000                       0   \n",
              "169056                    0                 19.600                       1   \n",
              "168488                    0                 20.000                       1   \n",
              "59047                     0                  5.725                       0   \n",
              "69298                     2                 27.990                       2   \n",
              "194622                    3                483.000                       4   \n",
              "117505                    4                 47.000                       4   \n",
              "406589                    1                 16.500                       1   \n",
              "98405                     4                 99.000                       4   \n",
              "27867                     1                 21.900                       2   \n",
              "\n",
              "        it_quantityEncoded  it_seller_ratingEncoded  priceEncoded  \n",
              "180801                   0                        0             0  \n",
              "169056                   0                        2             1  \n",
              "168488                   3                        3             0  \n",
              "59047                    3                        1             0  \n",
              "69298                    0                        0             1  \n",
              "194622                   1                        2             2  \n",
              "117505                   2                        4             2  \n",
              "406589                   4                        3             1  \n",
              "98405                    3                        1             0  \n",
              "27867                    2                        4             1  \n",
              "\n",
              "[10 rows x 22 columns]"
            ],
            "text/html": [
              "\n",
              "  <div id=\"df-be333d57-a4d0-40b6-afd3-5504859c4559\">\n",
              "    <div class=\"colab-df-container\">\n",
              "      <div>\n",
              "<style scoped>\n",
              "    .dataframe tbody tr th:only-of-type {\n",
              "        vertical-align: middle;\n",
              "    }\n",
              "\n",
              "    .dataframe tbody tr th {\n",
              "        vertical-align: top;\n",
              "    }\n",
              "\n",
              "    .dataframe thead th {\n",
              "        text-align: right;\n",
              "    }\n",
              "</style>\n",
              "<table border=\"1\" class=\"dataframe\">\n",
              "  <thead>\n",
              "    <tr style=\"text-align: right;\">\n",
              "      <th></th>\n",
              "      <th>lp</th>\n",
              "      <th>date</th>\n",
              "      <th>item_id</th>\n",
              "      <th>categories</th>\n",
              "      <th>pay_option_on_delivery</th>\n",
              "      <th>pay_option_transfer</th>\n",
              "      <th>seller</th>\n",
              "      <th>price</th>\n",
              "      <th>it_is_allegro_standard</th>\n",
              "      <th>it_quantity</th>\n",
              "      <th>...</th>\n",
              "      <th>it_location</th>\n",
              "      <th>main_category</th>\n",
              "      <th>second_categoryy</th>\n",
              "      <th>main_categoryMedian</th>\n",
              "      <th>main_categoryEncoded</th>\n",
              "      <th>second_categoryMedian</th>\n",
              "      <th>second_categoryEncoded</th>\n",
              "      <th>it_quantityEncoded</th>\n",
              "      <th>it_seller_ratingEncoded</th>\n",
              "      <th>priceEncoded</th>\n",
              "    </tr>\n",
              "  </thead>\n",
              "  <tbody>\n",
              "    <tr>\n",
              "      <th>180801</th>\n",
              "      <td>180801</td>\n",
              "      <td>2016-04-03 18:44:12</td>\n",
              "      <td>6095890163</td>\n",
              "      <td>['Kolekcje', 'Birofilistyka', 'Gadżety piwne']</td>\n",
              "      <td>0</td>\n",
              "      <td>1</td>\n",
              "      <td>Afrikakorps1</td>\n",
              "      <td>4.00</td>\n",
              "      <td>0</td>\n",
              "      <td>0</td>\n",
              "      <td>...</td>\n",
              "      <td>1</td>\n",
              "      <td>Kolekcje</td>\n",
              "      <td>Birofilistyka</td>\n",
              "      <td>11.99</td>\n",
              "      <td>0</td>\n",
              "      <td>5.000</td>\n",
              "      <td>0</td>\n",
              "      <td>0</td>\n",
              "      <td>0</td>\n",
              "      <td>0</td>\n",
              "    </tr>\n",
              "    <tr>\n",
              "      <th>169056</th>\n",
              "      <td>169056</td>\n",
              "      <td>2016-04-03 18:01:31</td>\n",
              "      <td>5813383000</td>\n",
              "      <td>['Uroda', 'Kosmetyki pielęgnacyjne', 'Ciało', ...</td>\n",
              "      <td>1</td>\n",
              "      <td>1</td>\n",
              "      <td>kosmet_galeria</td>\n",
              "      <td>14.95</td>\n",
              "      <td>1</td>\n",
              "      <td>0</td>\n",
              "      <td>...</td>\n",
              "      <td>3</td>\n",
              "      <td>Uroda</td>\n",
              "      <td>Kosmetyki pielęgnacyjne</td>\n",
              "      <td>15.49</td>\n",
              "      <td>0</td>\n",
              "      <td>19.600</td>\n",
              "      <td>1</td>\n",
              "      <td>0</td>\n",
              "      <td>2</td>\n",
              "      <td>1</td>\n",
              "    </tr>\n",
              "    <tr>\n",
              "      <th>168488</th>\n",
              "      <td>168488</td>\n",
              "      <td>2016-04-03 16:09:15</td>\n",
              "      <td>5152635000</td>\n",
              "      <td>['Kolekcje', 'Modelarstwo', 'Materiały modelar...</td>\n",
              "      <td>1</td>\n",
              "      <td>1</td>\n",
              "      <td>modelas123</td>\n",
              "      <td>7.80</td>\n",
              "      <td>0</td>\n",
              "      <td>970</td>\n",
              "      <td>...</td>\n",
              "      <td>1</td>\n",
              "      <td>Kolekcje</td>\n",
              "      <td>Modelarstwo</td>\n",
              "      <td>11.99</td>\n",
              "      <td>0</td>\n",
              "      <td>20.000</td>\n",
              "      <td>1</td>\n",
              "      <td>3</td>\n",
              "      <td>3</td>\n",
              "      <td>0</td>\n",
              "    </tr>\n",
              "    <tr>\n",
              "      <th>59047</th>\n",
              "      <td>59047</td>\n",
              "      <td>2016-04-03 20:14:14</td>\n",
              "      <td>5604048299</td>\n",
              "      <td>['Biuro i Reklama', 'Artykuły piśmiennicze', '...</td>\n",
              "      <td>1</td>\n",
              "      <td>1</td>\n",
              "      <td>papiermix-pl</td>\n",
              "      <td>3.30</td>\n",
              "      <td>0</td>\n",
              "      <td>971</td>\n",
              "      <td>...</td>\n",
              "      <td>1</td>\n",
              "      <td>Biuro i Reklama</td>\n",
              "      <td>Artykuły piśmiennicze</td>\n",
              "      <td>11.80</td>\n",
              "      <td>0</td>\n",
              "      <td>5.725</td>\n",
              "      <td>0</td>\n",
              "      <td>3</td>\n",
              "      <td>1</td>\n",
              "      <td>0</td>\n",
              "    </tr>\n",
              "    <tr>\n",
              "      <th>69298</th>\n",
              "      <td>69298</td>\n",
              "      <td>2016-04-03 16:53:52</td>\n",
              "      <td>6097217991</td>\n",
              "      <td>['Muzyka', 'Płyty kompaktowe', 'Rock', 'Zagran...</td>\n",
              "      <td>0</td>\n",
              "      <td>1</td>\n",
              "      <td>janekpogi</td>\n",
              "      <td>24.00</td>\n",
              "      <td>0</td>\n",
              "      <td>0</td>\n",
              "      <td>...</td>\n",
              "      <td>1</td>\n",
              "      <td>Muzyka</td>\n",
              "      <td>Płyty kompaktowe</td>\n",
              "      <td>29.00</td>\n",
              "      <td>2</td>\n",
              "      <td>27.990</td>\n",
              "      <td>2</td>\n",
              "      <td>0</td>\n",
              "      <td>0</td>\n",
              "      <td>1</td>\n",
              "    </tr>\n",
              "    <tr>\n",
              "      <th>194622</th>\n",
              "      <td>194622</td>\n",
              "      <td>2016-04-03 17:33:05</td>\n",
              "      <td>6001070212</td>\n",
              "      <td>['Motoryzacja', 'Opony', 'Opony samochodowe', ...</td>\n",
              "      <td>1</td>\n",
              "      <td>1</td>\n",
              "      <td>wwwAUTO-RADpl</td>\n",
              "      <td>880.00</td>\n",
              "      <td>1</td>\n",
              "      <td>8</td>\n",
              "      <td>...</td>\n",
              "      <td>3</td>\n",
              "      <td>Motoryzacja</td>\n",
              "      <td>Opony</td>\n",
              "      <td>37.36</td>\n",
              "      <td>3</td>\n",
              "      <td>483.000</td>\n",
              "      <td>4</td>\n",
              "      <td>1</td>\n",
              "      <td>2</td>\n",
              "      <td>2</td>\n",
              "    </tr>\n",
              "    <tr>\n",
              "      <th>117505</th>\n",
              "      <td>117505</td>\n",
              "      <td>2016-04-03 21:12:41</td>\n",
              "      <td>5687634664</td>\n",
              "      <td>['Odzież, Obuwie, Dodatki', 'Odzież i bielizna...</td>\n",
              "      <td>1</td>\n",
              "      <td>1</td>\n",
              "      <td>MR-SPORT</td>\n",
              "      <td>117.99</td>\n",
              "      <td>0</td>\n",
              "      <td>210</td>\n",
              "      <td>...</td>\n",
              "      <td>1</td>\n",
              "      <td>Odzież, Obuwie, Dodatki</td>\n",
              "      <td>Odzież i bielizna męska</td>\n",
              "      <td>42.90</td>\n",
              "      <td>4</td>\n",
              "      <td>47.000</td>\n",
              "      <td>4</td>\n",
              "      <td>2</td>\n",
              "      <td>4</td>\n",
              "      <td>2</td>\n",
              "    </tr>\n",
              "    <tr>\n",
              "      <th>406589</th>\n",
              "      <td>406589</td>\n",
              "      <td>2016-04-03 15:12:34</td>\n",
              "      <td>5817896705</td>\n",
              "      <td>['Telefony i Akcesoria', 'Akcesoria GSM', 'Fol...</td>\n",
              "      <td>1</td>\n",
              "      <td>1</td>\n",
              "      <td>EKLIK_PL</td>\n",
              "      <td>19.99</td>\n",
              "      <td>1</td>\n",
              "      <td>986</td>\n",
              "      <td>...</td>\n",
              "      <td>1</td>\n",
              "      <td>Telefony i Akcesoria</td>\n",
              "      <td>Akcesoria GSM</td>\n",
              "      <td>19.73</td>\n",
              "      <td>1</td>\n",
              "      <td>16.500</td>\n",
              "      <td>1</td>\n",
              "      <td>4</td>\n",
              "      <td>3</td>\n",
              "      <td>1</td>\n",
              "    </tr>\n",
              "    <tr>\n",
              "      <th>98405</th>\n",
              "      <td>98405</td>\n",
              "      <td>2016-04-03 14:44:13</td>\n",
              "      <td>5955730489</td>\n",
              "      <td>['Odzież, Obuwie, Dodatki', 'Obuwie', 'Akcesor...</td>\n",
              "      <td>1</td>\n",
              "      <td>0</td>\n",
              "      <td>sklep_dbamobuty</td>\n",
              "      <td>4.90</td>\n",
              "      <td>0</td>\n",
              "      <td>474</td>\n",
              "      <td>...</td>\n",
              "      <td>3</td>\n",
              "      <td>Odzież, Obuwie, Dodatki</td>\n",
              "      <td>Obuwie</td>\n",
              "      <td>42.90</td>\n",
              "      <td>4</td>\n",
              "      <td>99.000</td>\n",
              "      <td>4</td>\n",
              "      <td>3</td>\n",
              "      <td>1</td>\n",
              "      <td>0</td>\n",
              "    </tr>\n",
              "    <tr>\n",
              "      <th>27867</th>\n",
              "      <td>27867</td>\n",
              "      <td>2016-04-03 18:55:11</td>\n",
              "      <td>6069971182</td>\n",
              "      <td>['Książki i Komiksy', 'Poradniki i albumy', 'P...</td>\n",
              "      <td>1</td>\n",
              "      <td>1</td>\n",
              "      <td>korob_pl</td>\n",
              "      <td>19.99</td>\n",
              "      <td>1</td>\n",
              "      <td>51</td>\n",
              "      <td>...</td>\n",
              "      <td>5</td>\n",
              "      <td>Książki i Komiksy</td>\n",
              "      <td>Poradniki i albumy</td>\n",
              "      <td>19.00</td>\n",
              "      <td>1</td>\n",
              "      <td>21.900</td>\n",
              "      <td>2</td>\n",
              "      <td>2</td>\n",
              "      <td>4</td>\n",
              "      <td>1</td>\n",
              "    </tr>\n",
              "  </tbody>\n",
              "</table>\n",
              "<p>10 rows × 22 columns</p>\n",
              "</div>\n",
              "      <button class=\"colab-df-convert\" onclick=\"convertToInteractive('df-be333d57-a4d0-40b6-afd3-5504859c4559')\"\n",
              "              title=\"Convert this dataframe to an interactive table.\"\n",
              "              style=\"display:none;\">\n",
              "        \n",
              "  <svg xmlns=\"http://www.w3.org/2000/svg\" height=\"24px\"viewBox=\"0 0 24 24\"\n",
              "       width=\"24px\">\n",
              "    <path d=\"M0 0h24v24H0V0z\" fill=\"none\"/>\n",
              "    <path d=\"M18.56 5.44l.94 2.06.94-2.06 2.06-.94-2.06-.94-.94-2.06-.94 2.06-2.06.94zm-11 1L8.5 8.5l.94-2.06 2.06-.94-2.06-.94L8.5 2.5l-.94 2.06-2.06.94zm10 10l.94 2.06.94-2.06 2.06-.94-2.06-.94-.94-2.06-.94 2.06-2.06.94z\"/><path d=\"M17.41 7.96l-1.37-1.37c-.4-.4-.92-.59-1.43-.59-.52 0-1.04.2-1.43.59L10.3 9.45l-7.72 7.72c-.78.78-.78 2.05 0 2.83L4 21.41c.39.39.9.59 1.41.59.51 0 1.02-.2 1.41-.59l7.78-7.78 2.81-2.81c.8-.78.8-2.07 0-2.86zM5.41 20L4 18.59l7.72-7.72 1.47 1.35L5.41 20z\"/>\n",
              "  </svg>\n",
              "      </button>\n",
              "      \n",
              "  <style>\n",
              "    .colab-df-container {\n",
              "      display:flex;\n",
              "      flex-wrap:wrap;\n",
              "      gap: 12px;\n",
              "    }\n",
              "\n",
              "    .colab-df-convert {\n",
              "      background-color: #E8F0FE;\n",
              "      border: none;\n",
              "      border-radius: 50%;\n",
              "      cursor: pointer;\n",
              "      display: none;\n",
              "      fill: #1967D2;\n",
              "      height: 32px;\n",
              "      padding: 0 0 0 0;\n",
              "      width: 32px;\n",
              "    }\n",
              "\n",
              "    .colab-df-convert:hover {\n",
              "      background-color: #E2EBFA;\n",
              "      box-shadow: 0px 1px 2px rgba(60, 64, 67, 0.3), 0px 1px 3px 1px rgba(60, 64, 67, 0.15);\n",
              "      fill: #174EA6;\n",
              "    }\n",
              "\n",
              "    [theme=dark] .colab-df-convert {\n",
              "      background-color: #3B4455;\n",
              "      fill: #D2E3FC;\n",
              "    }\n",
              "\n",
              "    [theme=dark] .colab-df-convert:hover {\n",
              "      background-color: #434B5C;\n",
              "      box-shadow: 0px 1px 3px 1px rgba(0, 0, 0, 0.15);\n",
              "      filter: drop-shadow(0px 1px 2px rgba(0, 0, 0, 0.3));\n",
              "      fill: #FFFFFF;\n",
              "    }\n",
              "  </style>\n",
              "\n",
              "      <script>\n",
              "        const buttonEl =\n",
              "          document.querySelector('#df-be333d57-a4d0-40b6-afd3-5504859c4559 button.colab-df-convert');\n",
              "        buttonEl.style.display =\n",
              "          google.colab.kernel.accessAllowed ? 'block' : 'none';\n",
              "\n",
              "        async function convertToInteractive(key) {\n",
              "          const element = document.querySelector('#df-be333d57-a4d0-40b6-afd3-5504859c4559');\n",
              "          const dataTable =\n",
              "            await google.colab.kernel.invokeFunction('convertToInteractive',\n",
              "                                                     [key], {});\n",
              "          if (!dataTable) return;\n",
              "\n",
              "          const docLinkHtml = 'Like what you see? Visit the ' +\n",
              "            '<a target=\"_blank\" href=https://colab.research.google.com/notebooks/data_table.ipynb>data table notebook</a>'\n",
              "            + ' to learn more about interactive tables.';\n",
              "          element.innerHTML = '';\n",
              "          dataTable['output_type'] = 'display_data';\n",
              "          await google.colab.output.renderOutput(dataTable, element);\n",
              "          const docLink = document.createElement('div');\n",
              "          docLink.innerHTML = docLinkHtml;\n",
              "          element.appendChild(docLink);\n",
              "        }\n",
              "      </script>\n",
              "    </div>\n",
              "  </div>\n",
              "  "
            ]
          },
          "metadata": {},
          "execution_count": 46
        }
      ]
    },
    {
      "cell_type": "markdown",
      "source": [
        "### Zakodowanie it_seller_rating i it_quantity"
      ],
      "metadata": {
        "id": "xKGVAOZrH01_"
      },
      "id": "xKGVAOZrH01_"
    },
    {
      "cell_type": "markdown",
      "source": [
        "W analogiczny sposób. Możemy podzielić na więcej kwantyli."
      ],
      "metadata": {
        "id": "5DUQmoz2OLag"
      },
      "id": "5DUQmoz2OLag"
    },
    {
      "cell_type": "code",
      "source": [
        "allegro_df_build_fixed['it_quantityEncoded']=pd.qcut(allegro_df_build_fixed['it_quantity'], q=5,labels=False)\n",
        "allegro_df_build_fixed['it_seller_ratingEncoded']=pd.qcut(allegro_df_build_fixed['it_seller_rating'], q=5,labels=False)"
      ],
      "metadata": {
        "id": "Nfs6T2i0IBf0"
      },
      "id": "Nfs6T2i0IBf0",
      "execution_count": 45,
      "outputs": []
    },
    {
      "cell_type": "code",
      "source": [
        "allegro_df_build_fixed"
      ],
      "metadata": {
        "colab": {
          "base_uri": "https://localhost:8080/",
          "height": 1000
        },
        "id": "gJO7ZRPMIVmM",
        "outputId": "8f075afc-4cf1-4a28-b182-0426726a97f2"
      },
      "id": "gJO7ZRPMIVmM",
      "execution_count": 59,
      "outputs": [
        {
          "output_type": "execute_result",
          "data": {
            "text/plain": [
              "           item_id                                         categories  \\\n",
              "180801  6095890163     ['Kolekcje', 'Birofilistyka', 'Gadżety piwne']   \n",
              "169056  5813383000  ['Uroda', 'Kosmetyki pielęgnacyjne', 'Ciało', ...   \n",
              "168488  5152635000  ['Kolekcje', 'Modelarstwo', 'Materiały modelar...   \n",
              "59047   5604048299  ['Biuro i Reklama', 'Artykuły piśmiennicze', '...   \n",
              "69298   6097217991  ['Muzyka', 'Płyty kompaktowe', 'Rock', 'Zagran...   \n",
              "...            ...                                                ...   \n",
              "47298   6060699085  ['Dom i Ogród', 'Ogród', 'Rośliny', 'Drzewa i ...   \n",
              "19298   6085705574               ['Fotografia', 'Obiektywy', 'Nikon']   \n",
              "6633    4999195279  ['Komputery', 'Części do laptopów', 'Klawiatury']   \n",
              "59636   5973304699  ['Przemysł', 'Materiały i akcesoria', 'Budowni...   \n",
              "324976  5288105241  ['Dom i Ogród', 'Wyposażenie', 'Oświetlenie', ...   \n",
              "\n",
              "        pay_option_on_delivery  pay_option_transfer          seller    price  \\\n",
              "180801                       0                    1    Afrikakorps1     4.00   \n",
              "169056                       1                    1  kosmet_galeria    14.95   \n",
              "168488                       1                    1      modelas123     7.80   \n",
              "59047                        1                    1    papiermix-pl     3.30   \n",
              "69298                        0                    1       janekpogi    24.00   \n",
              "...                        ...                  ...             ...      ...   \n",
              "47298                        1                    1  Arek_Milkowski    10.00   \n",
              "19298                        1                    1      juha2-foto  1349.00   \n",
              "6633                         1                    1    KRZYMARK_ZDW    69.99   \n",
              "59636                        1                    1      arbi1_2008     1.40   \n",
              "324976                       1                    1         Pmichal     5.79   \n",
              "\n",
              "        it_is_allegro_standard  it_quantity  it_is_brand_zone  \\\n",
              "180801                       0            1                 0   \n",
              "169056                       1            1                 0   \n",
              "168488                       0          970                 0   \n",
              "59047                        0          971                 0   \n",
              "69298                        0            1                 0   \n",
              "...                        ...          ...               ...   \n",
              "47298                        0           20                 0   \n",
              "19298                        1            1                 0   \n",
              "6633                         1          997                 0   \n",
              "59636                        0            1                 0   \n",
              "324976                       1          334                 0   \n",
              "\n",
              "        it_seller_rating          it_location    main_category  \\\n",
              "180801               747              Miastko         Kolekcje   \n",
              "169056              4303             Warszawa            Uroda   \n",
              "168488             20202               Krosno         Kolekcje   \n",
              "59047               3572           Głuchołazy  Biuro i Reklama   \n",
              "69298                568               Tarnów           Muzyka   \n",
              "...                  ...                  ...              ...   \n",
              "47298                367              WSCHOWA      Dom i Ogród   \n",
              "19298                947  Międzyrzec Podlaski       Fotografia   \n",
              "6633              100041                 Łódź        Komputery   \n",
              "59636                513          Cała Polska         Przemysł   \n",
              "324976              2384             Warszawa      Dom i Ogród   \n",
              "\n",
              "           it_location_raw  priceEncoded  it_quantityEncoded  \\\n",
              "180801             Miastko             0                   0   \n",
              "169056            Warszawa             1                   0   \n",
              "168488              Krosno             0                   4   \n",
              "59047           Głuchołazy             0                   4   \n",
              "69298               Tarnów             1                   0   \n",
              "...                    ...           ...                 ...   \n",
              "47298              WSCHOWA             0                   1   \n",
              "19298   MiędzyrzecPodlaski             2                   0   \n",
              "6633                  Łódź             2                   4   \n",
              "59636           CałaPolska             0                   0   \n",
              "324976            Warszawa             0                   3   \n",
              "\n",
              "        it_seller_ratingEncoded  \n",
              "180801                        0  \n",
              "169056                        2  \n",
              "168488                        3  \n",
              "59047                         1  \n",
              "69298                         0  \n",
              "...                         ...  \n",
              "47298                         0  \n",
              "19298                         0  \n",
              "6633                          4  \n",
              "59636                         0  \n",
              "324976                        1  \n",
              "\n",
              "[242275 rows x 16 columns]"
            ],
            "text/html": [
              "\n",
              "  <div id=\"df-fb41a41d-d65d-4aca-a206-54b320bba612\">\n",
              "    <div class=\"colab-df-container\">\n",
              "      <div>\n",
              "<style scoped>\n",
              "    .dataframe tbody tr th:only-of-type {\n",
              "        vertical-align: middle;\n",
              "    }\n",
              "\n",
              "    .dataframe tbody tr th {\n",
              "        vertical-align: top;\n",
              "    }\n",
              "\n",
              "    .dataframe thead th {\n",
              "        text-align: right;\n",
              "    }\n",
              "</style>\n",
              "<table border=\"1\" class=\"dataframe\">\n",
              "  <thead>\n",
              "    <tr style=\"text-align: right;\">\n",
              "      <th></th>\n",
              "      <th>item_id</th>\n",
              "      <th>categories</th>\n",
              "      <th>pay_option_on_delivery</th>\n",
              "      <th>pay_option_transfer</th>\n",
              "      <th>seller</th>\n",
              "      <th>price</th>\n",
              "      <th>it_is_allegro_standard</th>\n",
              "      <th>it_quantity</th>\n",
              "      <th>it_is_brand_zone</th>\n",
              "      <th>it_seller_rating</th>\n",
              "      <th>it_location</th>\n",
              "      <th>main_category</th>\n",
              "      <th>it_location_raw</th>\n",
              "      <th>priceEncoded</th>\n",
              "      <th>it_quantityEncoded</th>\n",
              "      <th>it_seller_ratingEncoded</th>\n",
              "    </tr>\n",
              "  </thead>\n",
              "  <tbody>\n",
              "    <tr>\n",
              "      <th>180801</th>\n",
              "      <td>6095890163</td>\n",
              "      <td>['Kolekcje', 'Birofilistyka', 'Gadżety piwne']</td>\n",
              "      <td>0</td>\n",
              "      <td>1</td>\n",
              "      <td>Afrikakorps1</td>\n",
              "      <td>4.00</td>\n",
              "      <td>0</td>\n",
              "      <td>1</td>\n",
              "      <td>0</td>\n",
              "      <td>747</td>\n",
              "      <td>Miastko</td>\n",
              "      <td>Kolekcje</td>\n",
              "      <td>Miastko</td>\n",
              "      <td>0</td>\n",
              "      <td>0</td>\n",
              "      <td>0</td>\n",
              "    </tr>\n",
              "    <tr>\n",
              "      <th>169056</th>\n",
              "      <td>5813383000</td>\n",
              "      <td>['Uroda', 'Kosmetyki pielęgnacyjne', 'Ciało', ...</td>\n",
              "      <td>1</td>\n",
              "      <td>1</td>\n",
              "      <td>kosmet_galeria</td>\n",
              "      <td>14.95</td>\n",
              "      <td>1</td>\n",
              "      <td>1</td>\n",
              "      <td>0</td>\n",
              "      <td>4303</td>\n",
              "      <td>Warszawa</td>\n",
              "      <td>Uroda</td>\n",
              "      <td>Warszawa</td>\n",
              "      <td>1</td>\n",
              "      <td>0</td>\n",
              "      <td>2</td>\n",
              "    </tr>\n",
              "    <tr>\n",
              "      <th>168488</th>\n",
              "      <td>5152635000</td>\n",
              "      <td>['Kolekcje', 'Modelarstwo', 'Materiały modelar...</td>\n",
              "      <td>1</td>\n",
              "      <td>1</td>\n",
              "      <td>modelas123</td>\n",
              "      <td>7.80</td>\n",
              "      <td>0</td>\n",
              "      <td>970</td>\n",
              "      <td>0</td>\n",
              "      <td>20202</td>\n",
              "      <td>Krosno</td>\n",
              "      <td>Kolekcje</td>\n",
              "      <td>Krosno</td>\n",
              "      <td>0</td>\n",
              "      <td>4</td>\n",
              "      <td>3</td>\n",
              "    </tr>\n",
              "    <tr>\n",
              "      <th>59047</th>\n",
              "      <td>5604048299</td>\n",
              "      <td>['Biuro i Reklama', 'Artykuły piśmiennicze', '...</td>\n",
              "      <td>1</td>\n",
              "      <td>1</td>\n",
              "      <td>papiermix-pl</td>\n",
              "      <td>3.30</td>\n",
              "      <td>0</td>\n",
              "      <td>971</td>\n",
              "      <td>0</td>\n",
              "      <td>3572</td>\n",
              "      <td>Głuchołazy</td>\n",
              "      <td>Biuro i Reklama</td>\n",
              "      <td>Głuchołazy</td>\n",
              "      <td>0</td>\n",
              "      <td>4</td>\n",
              "      <td>1</td>\n",
              "    </tr>\n",
              "    <tr>\n",
              "      <th>69298</th>\n",
              "      <td>6097217991</td>\n",
              "      <td>['Muzyka', 'Płyty kompaktowe', 'Rock', 'Zagran...</td>\n",
              "      <td>0</td>\n",
              "      <td>1</td>\n",
              "      <td>janekpogi</td>\n",
              "      <td>24.00</td>\n",
              "      <td>0</td>\n",
              "      <td>1</td>\n",
              "      <td>0</td>\n",
              "      <td>568</td>\n",
              "      <td>Tarnów</td>\n",
              "      <td>Muzyka</td>\n",
              "      <td>Tarnów</td>\n",
              "      <td>1</td>\n",
              "      <td>0</td>\n",
              "      <td>0</td>\n",
              "    </tr>\n",
              "    <tr>\n",
              "      <th>...</th>\n",
              "      <td>...</td>\n",
              "      <td>...</td>\n",
              "      <td>...</td>\n",
              "      <td>...</td>\n",
              "      <td>...</td>\n",
              "      <td>...</td>\n",
              "      <td>...</td>\n",
              "      <td>...</td>\n",
              "      <td>...</td>\n",
              "      <td>...</td>\n",
              "      <td>...</td>\n",
              "      <td>...</td>\n",
              "      <td>...</td>\n",
              "      <td>...</td>\n",
              "      <td>...</td>\n",
              "      <td>...</td>\n",
              "    </tr>\n",
              "    <tr>\n",
              "      <th>47298</th>\n",
              "      <td>6060699085</td>\n",
              "      <td>['Dom i Ogród', 'Ogród', 'Rośliny', 'Drzewa i ...</td>\n",
              "      <td>1</td>\n",
              "      <td>1</td>\n",
              "      <td>Arek_Milkowski</td>\n",
              "      <td>10.00</td>\n",
              "      <td>0</td>\n",
              "      <td>20</td>\n",
              "      <td>0</td>\n",
              "      <td>367</td>\n",
              "      <td>WSCHOWA</td>\n",
              "      <td>Dom i Ogród</td>\n",
              "      <td>WSCHOWA</td>\n",
              "      <td>0</td>\n",
              "      <td>1</td>\n",
              "      <td>0</td>\n",
              "    </tr>\n",
              "    <tr>\n",
              "      <th>19298</th>\n",
              "      <td>6085705574</td>\n",
              "      <td>['Fotografia', 'Obiektywy', 'Nikon']</td>\n",
              "      <td>1</td>\n",
              "      <td>1</td>\n",
              "      <td>juha2-foto</td>\n",
              "      <td>1349.00</td>\n",
              "      <td>1</td>\n",
              "      <td>1</td>\n",
              "      <td>0</td>\n",
              "      <td>947</td>\n",
              "      <td>Międzyrzec Podlaski</td>\n",
              "      <td>Fotografia</td>\n",
              "      <td>MiędzyrzecPodlaski</td>\n",
              "      <td>2</td>\n",
              "      <td>0</td>\n",
              "      <td>0</td>\n",
              "    </tr>\n",
              "    <tr>\n",
              "      <th>6633</th>\n",
              "      <td>4999195279</td>\n",
              "      <td>['Komputery', 'Części do laptopów', 'Klawiatury']</td>\n",
              "      <td>1</td>\n",
              "      <td>1</td>\n",
              "      <td>KRZYMARK_ZDW</td>\n",
              "      <td>69.99</td>\n",
              "      <td>1</td>\n",
              "      <td>997</td>\n",
              "      <td>0</td>\n",
              "      <td>100041</td>\n",
              "      <td>Łódź</td>\n",
              "      <td>Komputery</td>\n",
              "      <td>Łódź</td>\n",
              "      <td>2</td>\n",
              "      <td>4</td>\n",
              "      <td>4</td>\n",
              "    </tr>\n",
              "    <tr>\n",
              "      <th>59636</th>\n",
              "      <td>5973304699</td>\n",
              "      <td>['Przemysł', 'Materiały i akcesoria', 'Budowni...</td>\n",
              "      <td>1</td>\n",
              "      <td>1</td>\n",
              "      <td>arbi1_2008</td>\n",
              "      <td>1.40</td>\n",
              "      <td>0</td>\n",
              "      <td>1</td>\n",
              "      <td>0</td>\n",
              "      <td>513</td>\n",
              "      <td>Cała Polska</td>\n",
              "      <td>Przemysł</td>\n",
              "      <td>CałaPolska</td>\n",
              "      <td>0</td>\n",
              "      <td>0</td>\n",
              "      <td>0</td>\n",
              "    </tr>\n",
              "    <tr>\n",
              "      <th>324976</th>\n",
              "      <td>5288105241</td>\n",
              "      <td>['Dom i Ogród', 'Wyposażenie', 'Oświetlenie', ...</td>\n",
              "      <td>1</td>\n",
              "      <td>1</td>\n",
              "      <td>Pmichal</td>\n",
              "      <td>5.79</td>\n",
              "      <td>1</td>\n",
              "      <td>334</td>\n",
              "      <td>0</td>\n",
              "      <td>2384</td>\n",
              "      <td>Warszawa</td>\n",
              "      <td>Dom i Ogród</td>\n",
              "      <td>Warszawa</td>\n",
              "      <td>0</td>\n",
              "      <td>3</td>\n",
              "      <td>1</td>\n",
              "    </tr>\n",
              "  </tbody>\n",
              "</table>\n",
              "<p>242275 rows × 16 columns</p>\n",
              "</div>\n",
              "      <button class=\"colab-df-convert\" onclick=\"convertToInteractive('df-fb41a41d-d65d-4aca-a206-54b320bba612')\"\n",
              "              title=\"Convert this dataframe to an interactive table.\"\n",
              "              style=\"display:none;\">\n",
              "        \n",
              "  <svg xmlns=\"http://www.w3.org/2000/svg\" height=\"24px\"viewBox=\"0 0 24 24\"\n",
              "       width=\"24px\">\n",
              "    <path d=\"M0 0h24v24H0V0z\" fill=\"none\"/>\n",
              "    <path d=\"M18.56 5.44l.94 2.06.94-2.06 2.06-.94-2.06-.94-.94-2.06-.94 2.06-2.06.94zm-11 1L8.5 8.5l.94-2.06 2.06-.94-2.06-.94L8.5 2.5l-.94 2.06-2.06.94zm10 10l.94 2.06.94-2.06 2.06-.94-2.06-.94-.94-2.06-.94 2.06-2.06.94z\"/><path d=\"M17.41 7.96l-1.37-1.37c-.4-.4-.92-.59-1.43-.59-.52 0-1.04.2-1.43.59L10.3 9.45l-7.72 7.72c-.78.78-.78 2.05 0 2.83L4 21.41c.39.39.9.59 1.41.59.51 0 1.02-.2 1.41-.59l7.78-7.78 2.81-2.81c.8-.78.8-2.07 0-2.86zM5.41 20L4 18.59l7.72-7.72 1.47 1.35L5.41 20z\"/>\n",
              "  </svg>\n",
              "      </button>\n",
              "      \n",
              "  <style>\n",
              "    .colab-df-container {\n",
              "      display:flex;\n",
              "      flex-wrap:wrap;\n",
              "      gap: 12px;\n",
              "    }\n",
              "\n",
              "    .colab-df-convert {\n",
              "      background-color: #E8F0FE;\n",
              "      border: none;\n",
              "      border-radius: 50%;\n",
              "      cursor: pointer;\n",
              "      display: none;\n",
              "      fill: #1967D2;\n",
              "      height: 32px;\n",
              "      padding: 0 0 0 0;\n",
              "      width: 32px;\n",
              "    }\n",
              "\n",
              "    .colab-df-convert:hover {\n",
              "      background-color: #E2EBFA;\n",
              "      box-shadow: 0px 1px 2px rgba(60, 64, 67, 0.3), 0px 1px 3px 1px rgba(60, 64, 67, 0.15);\n",
              "      fill: #174EA6;\n",
              "    }\n",
              "\n",
              "    [theme=dark] .colab-df-convert {\n",
              "      background-color: #3B4455;\n",
              "      fill: #D2E3FC;\n",
              "    }\n",
              "\n",
              "    [theme=dark] .colab-df-convert:hover {\n",
              "      background-color: #434B5C;\n",
              "      box-shadow: 0px 1px 3px 1px rgba(0, 0, 0, 0.15);\n",
              "      filter: drop-shadow(0px 1px 2px rgba(0, 0, 0, 0.3));\n",
              "      fill: #FFFFFF;\n",
              "    }\n",
              "  </style>\n",
              "\n",
              "      <script>\n",
              "        const buttonEl =\n",
              "          document.querySelector('#df-fb41a41d-d65d-4aca-a206-54b320bba612 button.colab-df-convert');\n",
              "        buttonEl.style.display =\n",
              "          google.colab.kernel.accessAllowed ? 'block' : 'none';\n",
              "\n",
              "        async function convertToInteractive(key) {\n",
              "          const element = document.querySelector('#df-fb41a41d-d65d-4aca-a206-54b320bba612');\n",
              "          const dataTable =\n",
              "            await google.colab.kernel.invokeFunction('convertToInteractive',\n",
              "                                                     [key], {});\n",
              "          if (!dataTable) return;\n",
              "\n",
              "          const docLinkHtml = 'Like what you see? Visit the ' +\n",
              "            '<a target=\"_blank\" href=https://colab.research.google.com/notebooks/data_table.ipynb>data table notebook</a>'\n",
              "            + ' to learn more about interactive tables.';\n",
              "          element.innerHTML = '';\n",
              "          dataTable['output_type'] = 'display_data';\n",
              "          await google.colab.output.renderOutput(dataTable, element);\n",
              "          const docLink = document.createElement('div');\n",
              "          docLink.innerHTML = docLinkHtml;\n",
              "          element.appendChild(docLink);\n",
              "        }\n",
              "      </script>\n",
              "    </div>\n",
              "  </div>\n",
              "  "
            ]
          },
          "metadata": {},
          "execution_count": 59
        }
      ]
    },
    {
      "cell_type": "markdown",
      "source": [
        "## Zakodowanie zmiennych kategorycznych"
      ],
      "metadata": {
        "id": "F4sUKHk1IgoN"
      },
      "id": "F4sUKHk1IgoN"
    },
    {
      "cell_type": "markdown",
      "source": [
        "### main_category i categories"
      ],
      "metadata": {
        "id": "StAbgdKZIkUj"
      },
      "id": "StAbgdKZIkUj"
    },
    {
      "cell_type": "markdown",
      "source": [
        "main_category to poprostu pierwsza wartość z ciągu kategorii z kolumny categories. Możemy zejść do drugiego poziomu i zakodować Binary Encodem nazwę drugiej kategorii. Stosując inne podjeście moglibyśmy zejść jeszcze niżej i np. zastępować nazwę kategorii medianą lub średnią ceną w danej kategorii, potem podzielić jak zmienną celu lub na więcej kategorii. I tak i tak musimy zacząć od utworzenia list danych poziomów kategorii. Problem nastąpi przy schodzniu niżej niż dwie kategorie, ponieważ najkrótsze listy kategorii są długości 2. Inny problem pojawiłby się przy takim podejściu gdyby w danych testowych pojawiły się nowe kategorie. Dodatkowo jest wiele kategorii w których jest tylko jedna oferta. Plusem zakodowania jako średnia cena jest połączenie kategorii w podobne grupy cenowe.\n",
        "\n",
        "Main_category możemy zakodować jako średnia cena tej kategorii."
      ],
      "metadata": {
        "id": "Uo6b-nZ2Iq1A"
      },
      "id": "Uo6b-nZ2Iq1A"
    },
    {
      "cell_type": "code",
      "source": [
        "import ast\n",
        "mainCategories = []\n",
        "Categories2 = []\n",
        "for cat in allegro_df_build_fixed['categories']:\n",
        "    listka = ast.literal_eval(cat)\n",
        "    mainCategories.append(listka[0])\n",
        "    Categories2.append(listka[1])"
      ],
      "metadata": {
        "id": "HnB4JcncKxdE"
      },
      "id": "HnB4JcncKxdE",
      "execution_count": 9,
      "outputs": []
    },
    {
      "cell_type": "code",
      "source": [
        "allegro_df_build_fixed['second_categoryy'] = Categories2"
      ],
      "metadata": {
        "id": "MNZW1wK_LYdO"
      },
      "id": "MNZW1wK_LYdO",
      "execution_count": 22,
      "outputs": []
    },
    {
      "cell_type": "code",
      "source": [
        "pd.Series(Categories2).unique().__len__()"
      ],
      "metadata": {
        "colab": {
          "base_uri": "https://localhost:8080/"
        },
        "id": "G6y6FU7YLlw6",
        "outputId": "a7622497-e19a-497d-a5fe-e0916879a1d6"
      },
      "id": "G6y6FU7YLlw6",
      "execution_count": 16,
      "outputs": [
        {
          "output_type": "execute_result",
          "data": {
            "text/plain": [
              "263"
            ]
          },
          "metadata": {},
          "execution_count": 16
        }
      ]
    },
    {
      "cell_type": "code",
      "source": [
        "allegro_df_build_fixed.head()"
      ],
      "metadata": {
        "colab": {
          "base_uri": "https://localhost:8080/",
          "height": 557
        },
        "id": "wA8kKa57zlSs",
        "outputId": "327d9807-6a34-4633-b4d6-37ee4bc83192"
      },
      "id": "wA8kKa57zlSs",
      "execution_count": 23,
      "outputs": [
        {
          "output_type": "execute_result",
          "data": {
            "text/plain": [
              "            lp                 date     item_id  \\\n",
              "180801  180801  2016-04-03 18:44:12  6095890163   \n",
              "169056  169056  2016-04-03 18:01:31  5813383000   \n",
              "168488  168488  2016-04-03 16:09:15  5152635000   \n",
              "59047    59047  2016-04-03 20:14:14  5604048299   \n",
              "69298    69298  2016-04-03 16:53:52  6097217991   \n",
              "\n",
              "                                               categories  \\\n",
              "180801     ['Kolekcje', 'Birofilistyka', 'Gadżety piwne']   \n",
              "169056  ['Uroda', 'Kosmetyki pielęgnacyjne', 'Ciało', ...   \n",
              "168488  ['Kolekcje', 'Modelarstwo', 'Materiały modelar...   \n",
              "59047   ['Biuro i Reklama', 'Artykuły piśmiennicze', '...   \n",
              "69298   ['Muzyka', 'Płyty kompaktowe', 'Rock', 'Zagran...   \n",
              "\n",
              "        pay_option_on_delivery  pay_option_transfer          seller  price  \\\n",
              "180801                       0                    1    Afrikakorps1   4.00   \n",
              "169056                       1                    1  kosmet_galeria  14.95   \n",
              "168488                       1                    1      modelas123   7.80   \n",
              "59047                        1                    1    papiermix-pl   3.30   \n",
              "69298                        0                    1       janekpogi  24.00   \n",
              "\n",
              "        it_is_allegro_standard  it_quantity  it_is_brand_zone  \\\n",
              "180801                       0            0                 0   \n",
              "169056                       1            0                 0   \n",
              "168488                       0          970                 0   \n",
              "59047                        0          971                 0   \n",
              "69298                        0            0                 0   \n",
              "\n",
              "        it_seller_rating it_location    main_category  \\\n",
              "180801               747     Miastko         Kolekcje   \n",
              "169056              4303    Warszawa            Uroda   \n",
              "168488             20202      Krosno         Kolekcje   \n",
              "59047               3572  Głuchołazy  Biuro i Reklama   \n",
              "69298                568      Tarnów           Muzyka   \n",
              "\n",
              "               second_categoryy  main_categoryMedian  main_categoryEncoded  \\\n",
              "180801            Birofilistyka                11.99                     0   \n",
              "169056  Kosmetyki pielęgnacyjne                15.49                     0   \n",
              "168488              Modelarstwo                11.99                     0   \n",
              "59047     Artykuły piśmiennicze                11.80                     0   \n",
              "69298          Płyty kompaktowe                29.00                     2   \n",
              "\n",
              "        second_categoryMedian  second_categoryEncoded  \n",
              "180801                  5.000                       0  \n",
              "169056                 19.600                       1  \n",
              "168488                 20.000                       1  \n",
              "59047                   5.725                       0  \n",
              "69298                  27.990                       2  "
            ],
            "text/html": [
              "\n",
              "  <div id=\"df-59541760-f7c2-42cc-b74b-93b9785aa943\">\n",
              "    <div class=\"colab-df-container\">\n",
              "      <div>\n",
              "<style scoped>\n",
              "    .dataframe tbody tr th:only-of-type {\n",
              "        vertical-align: middle;\n",
              "    }\n",
              "\n",
              "    .dataframe tbody tr th {\n",
              "        vertical-align: top;\n",
              "    }\n",
              "\n",
              "    .dataframe thead th {\n",
              "        text-align: right;\n",
              "    }\n",
              "</style>\n",
              "<table border=\"1\" class=\"dataframe\">\n",
              "  <thead>\n",
              "    <tr style=\"text-align: right;\">\n",
              "      <th></th>\n",
              "      <th>lp</th>\n",
              "      <th>date</th>\n",
              "      <th>item_id</th>\n",
              "      <th>categories</th>\n",
              "      <th>pay_option_on_delivery</th>\n",
              "      <th>pay_option_transfer</th>\n",
              "      <th>seller</th>\n",
              "      <th>price</th>\n",
              "      <th>it_is_allegro_standard</th>\n",
              "      <th>it_quantity</th>\n",
              "      <th>it_is_brand_zone</th>\n",
              "      <th>it_seller_rating</th>\n",
              "      <th>it_location</th>\n",
              "      <th>main_category</th>\n",
              "      <th>second_categoryy</th>\n",
              "      <th>main_categoryMedian</th>\n",
              "      <th>main_categoryEncoded</th>\n",
              "      <th>second_categoryMedian</th>\n",
              "      <th>second_categoryEncoded</th>\n",
              "    </tr>\n",
              "  </thead>\n",
              "  <tbody>\n",
              "    <tr>\n",
              "      <th>180801</th>\n",
              "      <td>180801</td>\n",
              "      <td>2016-04-03 18:44:12</td>\n",
              "      <td>6095890163</td>\n",
              "      <td>['Kolekcje', 'Birofilistyka', 'Gadżety piwne']</td>\n",
              "      <td>0</td>\n",
              "      <td>1</td>\n",
              "      <td>Afrikakorps1</td>\n",
              "      <td>4.00</td>\n",
              "      <td>0</td>\n",
              "      <td>0</td>\n",
              "      <td>0</td>\n",
              "      <td>747</td>\n",
              "      <td>Miastko</td>\n",
              "      <td>Kolekcje</td>\n",
              "      <td>Birofilistyka</td>\n",
              "      <td>11.99</td>\n",
              "      <td>0</td>\n",
              "      <td>5.000</td>\n",
              "      <td>0</td>\n",
              "    </tr>\n",
              "    <tr>\n",
              "      <th>169056</th>\n",
              "      <td>169056</td>\n",
              "      <td>2016-04-03 18:01:31</td>\n",
              "      <td>5813383000</td>\n",
              "      <td>['Uroda', 'Kosmetyki pielęgnacyjne', 'Ciało', ...</td>\n",
              "      <td>1</td>\n",
              "      <td>1</td>\n",
              "      <td>kosmet_galeria</td>\n",
              "      <td>14.95</td>\n",
              "      <td>1</td>\n",
              "      <td>0</td>\n",
              "      <td>0</td>\n",
              "      <td>4303</td>\n",
              "      <td>Warszawa</td>\n",
              "      <td>Uroda</td>\n",
              "      <td>Kosmetyki pielęgnacyjne</td>\n",
              "      <td>15.49</td>\n",
              "      <td>0</td>\n",
              "      <td>19.600</td>\n",
              "      <td>1</td>\n",
              "    </tr>\n",
              "    <tr>\n",
              "      <th>168488</th>\n",
              "      <td>168488</td>\n",
              "      <td>2016-04-03 16:09:15</td>\n",
              "      <td>5152635000</td>\n",
              "      <td>['Kolekcje', 'Modelarstwo', 'Materiały modelar...</td>\n",
              "      <td>1</td>\n",
              "      <td>1</td>\n",
              "      <td>modelas123</td>\n",
              "      <td>7.80</td>\n",
              "      <td>0</td>\n",
              "      <td>970</td>\n",
              "      <td>0</td>\n",
              "      <td>20202</td>\n",
              "      <td>Krosno</td>\n",
              "      <td>Kolekcje</td>\n",
              "      <td>Modelarstwo</td>\n",
              "      <td>11.99</td>\n",
              "      <td>0</td>\n",
              "      <td>20.000</td>\n",
              "      <td>1</td>\n",
              "    </tr>\n",
              "    <tr>\n",
              "      <th>59047</th>\n",
              "      <td>59047</td>\n",
              "      <td>2016-04-03 20:14:14</td>\n",
              "      <td>5604048299</td>\n",
              "      <td>['Biuro i Reklama', 'Artykuły piśmiennicze', '...</td>\n",
              "      <td>1</td>\n",
              "      <td>1</td>\n",
              "      <td>papiermix-pl</td>\n",
              "      <td>3.30</td>\n",
              "      <td>0</td>\n",
              "      <td>971</td>\n",
              "      <td>0</td>\n",
              "      <td>3572</td>\n",
              "      <td>Głuchołazy</td>\n",
              "      <td>Biuro i Reklama</td>\n",
              "      <td>Artykuły piśmiennicze</td>\n",
              "      <td>11.80</td>\n",
              "      <td>0</td>\n",
              "      <td>5.725</td>\n",
              "      <td>0</td>\n",
              "    </tr>\n",
              "    <tr>\n",
              "      <th>69298</th>\n",
              "      <td>69298</td>\n",
              "      <td>2016-04-03 16:53:52</td>\n",
              "      <td>6097217991</td>\n",
              "      <td>['Muzyka', 'Płyty kompaktowe', 'Rock', 'Zagran...</td>\n",
              "      <td>0</td>\n",
              "      <td>1</td>\n",
              "      <td>janekpogi</td>\n",
              "      <td>24.00</td>\n",
              "      <td>0</td>\n",
              "      <td>0</td>\n",
              "      <td>0</td>\n",
              "      <td>568</td>\n",
              "      <td>Tarnów</td>\n",
              "      <td>Muzyka</td>\n",
              "      <td>Płyty kompaktowe</td>\n",
              "      <td>29.00</td>\n",
              "      <td>2</td>\n",
              "      <td>27.990</td>\n",
              "      <td>2</td>\n",
              "    </tr>\n",
              "  </tbody>\n",
              "</table>\n",
              "</div>\n",
              "      <button class=\"colab-df-convert\" onclick=\"convertToInteractive('df-59541760-f7c2-42cc-b74b-93b9785aa943')\"\n",
              "              title=\"Convert this dataframe to an interactive table.\"\n",
              "              style=\"display:none;\">\n",
              "        \n",
              "  <svg xmlns=\"http://www.w3.org/2000/svg\" height=\"24px\"viewBox=\"0 0 24 24\"\n",
              "       width=\"24px\">\n",
              "    <path d=\"M0 0h24v24H0V0z\" fill=\"none\"/>\n",
              "    <path d=\"M18.56 5.44l.94 2.06.94-2.06 2.06-.94-2.06-.94-.94-2.06-.94 2.06-2.06.94zm-11 1L8.5 8.5l.94-2.06 2.06-.94-2.06-.94L8.5 2.5l-.94 2.06-2.06.94zm10 10l.94 2.06.94-2.06 2.06-.94-2.06-.94-.94-2.06-.94 2.06-2.06.94z\"/><path d=\"M17.41 7.96l-1.37-1.37c-.4-.4-.92-.59-1.43-.59-.52 0-1.04.2-1.43.59L10.3 9.45l-7.72 7.72c-.78.78-.78 2.05 0 2.83L4 21.41c.39.39.9.59 1.41.59.51 0 1.02-.2 1.41-.59l7.78-7.78 2.81-2.81c.8-.78.8-2.07 0-2.86zM5.41 20L4 18.59l7.72-7.72 1.47 1.35L5.41 20z\"/>\n",
              "  </svg>\n",
              "      </button>\n",
              "      \n",
              "  <style>\n",
              "    .colab-df-container {\n",
              "      display:flex;\n",
              "      flex-wrap:wrap;\n",
              "      gap: 12px;\n",
              "    }\n",
              "\n",
              "    .colab-df-convert {\n",
              "      background-color: #E8F0FE;\n",
              "      border: none;\n",
              "      border-radius: 50%;\n",
              "      cursor: pointer;\n",
              "      display: none;\n",
              "      fill: #1967D2;\n",
              "      height: 32px;\n",
              "      padding: 0 0 0 0;\n",
              "      width: 32px;\n",
              "    }\n",
              "\n",
              "    .colab-df-convert:hover {\n",
              "      background-color: #E2EBFA;\n",
              "      box-shadow: 0px 1px 2px rgba(60, 64, 67, 0.3), 0px 1px 3px 1px rgba(60, 64, 67, 0.15);\n",
              "      fill: #174EA6;\n",
              "    }\n",
              "\n",
              "    [theme=dark] .colab-df-convert {\n",
              "      background-color: #3B4455;\n",
              "      fill: #D2E3FC;\n",
              "    }\n",
              "\n",
              "    [theme=dark] .colab-df-convert:hover {\n",
              "      background-color: #434B5C;\n",
              "      box-shadow: 0px 1px 3px 1px rgba(0, 0, 0, 0.15);\n",
              "      filter: drop-shadow(0px 1px 2px rgba(0, 0, 0, 0.3));\n",
              "      fill: #FFFFFF;\n",
              "    }\n",
              "  </style>\n",
              "\n",
              "      <script>\n",
              "        const buttonEl =\n",
              "          document.querySelector('#df-59541760-f7c2-42cc-b74b-93b9785aa943 button.colab-df-convert');\n",
              "        buttonEl.style.display =\n",
              "          google.colab.kernel.accessAllowed ? 'block' : 'none';\n",
              "\n",
              "        async function convertToInteractive(key) {\n",
              "          const element = document.querySelector('#df-59541760-f7c2-42cc-b74b-93b9785aa943');\n",
              "          const dataTable =\n",
              "            await google.colab.kernel.invokeFunction('convertToInteractive',\n",
              "                                                     [key], {});\n",
              "          if (!dataTable) return;\n",
              "\n",
              "          const docLinkHtml = 'Like what you see? Visit the ' +\n",
              "            '<a target=\"_blank\" href=https://colab.research.google.com/notebooks/data_table.ipynb>data table notebook</a>'\n",
              "            + ' to learn more about interactive tables.';\n",
              "          element.innerHTML = '';\n",
              "          dataTable['output_type'] = 'display_data';\n",
              "          await google.colab.output.renderOutput(dataTable, element);\n",
              "          const docLink = document.createElement('div');\n",
              "          docLink.innerHTML = docLinkHtml;\n",
              "          element.appendChild(docLink);\n",
              "        }\n",
              "      </script>\n",
              "    </div>\n",
              "  </div>\n",
              "  "
            ]
          },
          "metadata": {},
          "execution_count": 23
        }
      ]
    },
    {
      "cell_type": "code",
      "source": [
        "median_encode = allegro_df_build_fixed.groupby('main_category')['price'].median()\n",
        "allegro_df_build_fixed.loc[:,'main_categoryMedian'] = allegro_df_build_fixed['main_category'].map(median_encode)\n",
        "allegro_df_build_fixed['main_categoryEncoded']=pd.qcut(allegro_df_build_fixed['main_categoryMedian'], q=5,labels=False)"
      ],
      "metadata": {
        "id": "1juVVX8WFeNJ"
      },
      "id": "1juVVX8WFeNJ",
      "execution_count": 24,
      "outputs": []
    },
    {
      "cell_type": "code",
      "source": [
        "median_encode2 = allegro_df_build_fixed.groupby('second_categoryy')['price'].median()\n",
        "allegro_df_build_fixed.loc[:,'second_categoryMedian'] = allegro_df_build_fixed['second_categoryy'].map(median_encode2)\n",
        "allegro_df_build_fixed['second_categoryEncoded']=pd.qcut(allegro_df_build_fixed['second_categoryMedian'], q=5,labels=False)"
      ],
      "metadata": {
        "id": "zgwJaZXTF2U6"
      },
      "id": "zgwJaZXTF2U6",
      "execution_count": 25,
      "outputs": []
    },
    {
      "cell_type": "code",
      "source": [
        "allegro_df_build_fixed"
      ],
      "metadata": {
        "colab": {
          "base_uri": "https://localhost:8080/",
          "height": 1000
        },
        "id": "4F6sFuebGHu6",
        "outputId": "416cf9a4-6253-44cd-c024-2944e2a6d4a3"
      },
      "id": "4F6sFuebGHu6",
      "execution_count": 26,
      "outputs": [
        {
          "output_type": "execute_result",
          "data": {
            "text/plain": [
              "            lp                 date     item_id  \\\n",
              "180801  180801  2016-04-03 18:44:12  6095890163   \n",
              "169056  169056  2016-04-03 18:01:31  5813383000   \n",
              "168488  168488  2016-04-03 16:09:15  5152635000   \n",
              "59047    59047  2016-04-03 20:14:14  5604048299   \n",
              "69298    69298  2016-04-03 16:53:52  6097217991   \n",
              "...        ...                  ...         ...   \n",
              "47298    47298  2016-04-03 13:30:41  6060699085   \n",
              "19298    19298  2016-04-03 20:10:45  6085705574   \n",
              "6633      6633  2016-04-03 11:21:11  4999195279   \n",
              "59636    59636  2016-04-03 20:16:53  5973304699   \n",
              "324976  324976  2016-04-03 17:22:47  5288105241   \n",
              "\n",
              "                                               categories  \\\n",
              "180801     ['Kolekcje', 'Birofilistyka', 'Gadżety piwne']   \n",
              "169056  ['Uroda', 'Kosmetyki pielęgnacyjne', 'Ciało', ...   \n",
              "168488  ['Kolekcje', 'Modelarstwo', 'Materiały modelar...   \n",
              "59047   ['Biuro i Reklama', 'Artykuły piśmiennicze', '...   \n",
              "69298   ['Muzyka', 'Płyty kompaktowe', 'Rock', 'Zagran...   \n",
              "...                                                   ...   \n",
              "47298   ['Dom i Ogród', 'Ogród', 'Rośliny', 'Drzewa i ...   \n",
              "19298                ['Fotografia', 'Obiektywy', 'Nikon']   \n",
              "6633    ['Komputery', 'Części do laptopów', 'Klawiatury']   \n",
              "59636   ['Przemysł', 'Materiały i akcesoria', 'Budowni...   \n",
              "324976  ['Dom i Ogród', 'Wyposażenie', 'Oświetlenie', ...   \n",
              "\n",
              "        pay_option_on_delivery  pay_option_transfer          seller    price  \\\n",
              "180801                       0                    1    Afrikakorps1     4.00   \n",
              "169056                       1                    1  kosmet_galeria    14.95   \n",
              "168488                       1                    1      modelas123     7.80   \n",
              "59047                        1                    1    papiermix-pl     3.30   \n",
              "69298                        0                    1       janekpogi    24.00   \n",
              "...                        ...                  ...             ...      ...   \n",
              "47298                        1                    1  Arek_Milkowski    10.00   \n",
              "19298                        1                    1      juha2-foto  1349.00   \n",
              "6633                         1                    1    KRZYMARK_ZDW    69.99   \n",
              "59636                        1                    1      arbi1_2008     1.40   \n",
              "324976                       1                    1         Pmichal     5.79   \n",
              "\n",
              "        it_is_allegro_standard  it_quantity  it_is_brand_zone  \\\n",
              "180801                       0            0                 0   \n",
              "169056                       1            0                 0   \n",
              "168488                       0          970                 0   \n",
              "59047                        0          971                 0   \n",
              "69298                        0            0                 0   \n",
              "...                        ...          ...               ...   \n",
              "47298                        0           20                 0   \n",
              "19298                        1            0                 0   \n",
              "6633                         1          997                 0   \n",
              "59636                        0            0                 0   \n",
              "324976                       1          334                 0   \n",
              "\n",
              "        it_seller_rating          it_location    main_category  \\\n",
              "180801               747              Miastko         Kolekcje   \n",
              "169056              4303             Warszawa            Uroda   \n",
              "168488             20202               Krosno         Kolekcje   \n",
              "59047               3572           Głuchołazy  Biuro i Reklama   \n",
              "69298                568               Tarnów           Muzyka   \n",
              "...                  ...                  ...              ...   \n",
              "47298                367              WSCHOWA      Dom i Ogród   \n",
              "19298                947  Międzyrzec Podlaski       Fotografia   \n",
              "6633              100041                 Łódź        Komputery   \n",
              "59636                513          Cała Polska         Przemysł   \n",
              "324976              2384             Warszawa      Dom i Ogród   \n",
              "\n",
              "               second_categoryy  main_categoryMedian  main_categoryEncoded  \\\n",
              "180801            Birofilistyka                11.99                     0   \n",
              "169056  Kosmetyki pielęgnacyjne                15.49                     0   \n",
              "168488              Modelarstwo                11.99                     0   \n",
              "59047     Artykuły piśmiennicze                11.80                     0   \n",
              "69298          Płyty kompaktowe                29.00                     2   \n",
              "...                         ...                  ...                   ...   \n",
              "47298                     Ogród                18.00                     0   \n",
              "19298                 Obiektywy                29.00                     2   \n",
              "6633         Części do laptopów                33.99                     3   \n",
              "59636     Materiały i akcesoria                18.00                     0   \n",
              "324976              Wyposażenie                18.00                     0   \n",
              "\n",
              "        second_categoryMedian  second_categoryEncoded  \n",
              "180801                  5.000                       0  \n",
              "169056                 19.600                       1  \n",
              "168488                 20.000                       1  \n",
              "59047                   5.725                       0  \n",
              "69298                  27.990                       2  \n",
              "...                       ...                     ...  \n",
              "47298                  12.000                       0  \n",
              "19298                 425.000                       4  \n",
              "6633                   49.000                       4  \n",
              "59636                  14.000                       1  \n",
              "324976                 20.000                       1  \n",
              "\n",
              "[293992 rows x 19 columns]"
            ],
            "text/html": [
              "\n",
              "  <div id=\"df-0b4d1c04-d8e7-4bb2-8321-e6126ae16a82\">\n",
              "    <div class=\"colab-df-container\">\n",
              "      <div>\n",
              "<style scoped>\n",
              "    .dataframe tbody tr th:only-of-type {\n",
              "        vertical-align: middle;\n",
              "    }\n",
              "\n",
              "    .dataframe tbody tr th {\n",
              "        vertical-align: top;\n",
              "    }\n",
              "\n",
              "    .dataframe thead th {\n",
              "        text-align: right;\n",
              "    }\n",
              "</style>\n",
              "<table border=\"1\" class=\"dataframe\">\n",
              "  <thead>\n",
              "    <tr style=\"text-align: right;\">\n",
              "      <th></th>\n",
              "      <th>lp</th>\n",
              "      <th>date</th>\n",
              "      <th>item_id</th>\n",
              "      <th>categories</th>\n",
              "      <th>pay_option_on_delivery</th>\n",
              "      <th>pay_option_transfer</th>\n",
              "      <th>seller</th>\n",
              "      <th>price</th>\n",
              "      <th>it_is_allegro_standard</th>\n",
              "      <th>it_quantity</th>\n",
              "      <th>it_is_brand_zone</th>\n",
              "      <th>it_seller_rating</th>\n",
              "      <th>it_location</th>\n",
              "      <th>main_category</th>\n",
              "      <th>second_categoryy</th>\n",
              "      <th>main_categoryMedian</th>\n",
              "      <th>main_categoryEncoded</th>\n",
              "      <th>second_categoryMedian</th>\n",
              "      <th>second_categoryEncoded</th>\n",
              "    </tr>\n",
              "  </thead>\n",
              "  <tbody>\n",
              "    <tr>\n",
              "      <th>180801</th>\n",
              "      <td>180801</td>\n",
              "      <td>2016-04-03 18:44:12</td>\n",
              "      <td>6095890163</td>\n",
              "      <td>['Kolekcje', 'Birofilistyka', 'Gadżety piwne']</td>\n",
              "      <td>0</td>\n",
              "      <td>1</td>\n",
              "      <td>Afrikakorps1</td>\n",
              "      <td>4.00</td>\n",
              "      <td>0</td>\n",
              "      <td>0</td>\n",
              "      <td>0</td>\n",
              "      <td>747</td>\n",
              "      <td>Miastko</td>\n",
              "      <td>Kolekcje</td>\n",
              "      <td>Birofilistyka</td>\n",
              "      <td>11.99</td>\n",
              "      <td>0</td>\n",
              "      <td>5.000</td>\n",
              "      <td>0</td>\n",
              "    </tr>\n",
              "    <tr>\n",
              "      <th>169056</th>\n",
              "      <td>169056</td>\n",
              "      <td>2016-04-03 18:01:31</td>\n",
              "      <td>5813383000</td>\n",
              "      <td>['Uroda', 'Kosmetyki pielęgnacyjne', 'Ciało', ...</td>\n",
              "      <td>1</td>\n",
              "      <td>1</td>\n",
              "      <td>kosmet_galeria</td>\n",
              "      <td>14.95</td>\n",
              "      <td>1</td>\n",
              "      <td>0</td>\n",
              "      <td>0</td>\n",
              "      <td>4303</td>\n",
              "      <td>Warszawa</td>\n",
              "      <td>Uroda</td>\n",
              "      <td>Kosmetyki pielęgnacyjne</td>\n",
              "      <td>15.49</td>\n",
              "      <td>0</td>\n",
              "      <td>19.600</td>\n",
              "      <td>1</td>\n",
              "    </tr>\n",
              "    <tr>\n",
              "      <th>168488</th>\n",
              "      <td>168488</td>\n",
              "      <td>2016-04-03 16:09:15</td>\n",
              "      <td>5152635000</td>\n",
              "      <td>['Kolekcje', 'Modelarstwo', 'Materiały modelar...</td>\n",
              "      <td>1</td>\n",
              "      <td>1</td>\n",
              "      <td>modelas123</td>\n",
              "      <td>7.80</td>\n",
              "      <td>0</td>\n",
              "      <td>970</td>\n",
              "      <td>0</td>\n",
              "      <td>20202</td>\n",
              "      <td>Krosno</td>\n",
              "      <td>Kolekcje</td>\n",
              "      <td>Modelarstwo</td>\n",
              "      <td>11.99</td>\n",
              "      <td>0</td>\n",
              "      <td>20.000</td>\n",
              "      <td>1</td>\n",
              "    </tr>\n",
              "    <tr>\n",
              "      <th>59047</th>\n",
              "      <td>59047</td>\n",
              "      <td>2016-04-03 20:14:14</td>\n",
              "      <td>5604048299</td>\n",
              "      <td>['Biuro i Reklama', 'Artykuły piśmiennicze', '...</td>\n",
              "      <td>1</td>\n",
              "      <td>1</td>\n",
              "      <td>papiermix-pl</td>\n",
              "      <td>3.30</td>\n",
              "      <td>0</td>\n",
              "      <td>971</td>\n",
              "      <td>0</td>\n",
              "      <td>3572</td>\n",
              "      <td>Głuchołazy</td>\n",
              "      <td>Biuro i Reklama</td>\n",
              "      <td>Artykuły piśmiennicze</td>\n",
              "      <td>11.80</td>\n",
              "      <td>0</td>\n",
              "      <td>5.725</td>\n",
              "      <td>0</td>\n",
              "    </tr>\n",
              "    <tr>\n",
              "      <th>69298</th>\n",
              "      <td>69298</td>\n",
              "      <td>2016-04-03 16:53:52</td>\n",
              "      <td>6097217991</td>\n",
              "      <td>['Muzyka', 'Płyty kompaktowe', 'Rock', 'Zagran...</td>\n",
              "      <td>0</td>\n",
              "      <td>1</td>\n",
              "      <td>janekpogi</td>\n",
              "      <td>24.00</td>\n",
              "      <td>0</td>\n",
              "      <td>0</td>\n",
              "      <td>0</td>\n",
              "      <td>568</td>\n",
              "      <td>Tarnów</td>\n",
              "      <td>Muzyka</td>\n",
              "      <td>Płyty kompaktowe</td>\n",
              "      <td>29.00</td>\n",
              "      <td>2</td>\n",
              "      <td>27.990</td>\n",
              "      <td>2</td>\n",
              "    </tr>\n",
              "    <tr>\n",
              "      <th>...</th>\n",
              "      <td>...</td>\n",
              "      <td>...</td>\n",
              "      <td>...</td>\n",
              "      <td>...</td>\n",
              "      <td>...</td>\n",
              "      <td>...</td>\n",
              "      <td>...</td>\n",
              "      <td>...</td>\n",
              "      <td>...</td>\n",
              "      <td>...</td>\n",
              "      <td>...</td>\n",
              "      <td>...</td>\n",
              "      <td>...</td>\n",
              "      <td>...</td>\n",
              "      <td>...</td>\n",
              "      <td>...</td>\n",
              "      <td>...</td>\n",
              "      <td>...</td>\n",
              "      <td>...</td>\n",
              "    </tr>\n",
              "    <tr>\n",
              "      <th>47298</th>\n",
              "      <td>47298</td>\n",
              "      <td>2016-04-03 13:30:41</td>\n",
              "      <td>6060699085</td>\n",
              "      <td>['Dom i Ogród', 'Ogród', 'Rośliny', 'Drzewa i ...</td>\n",
              "      <td>1</td>\n",
              "      <td>1</td>\n",
              "      <td>Arek_Milkowski</td>\n",
              "      <td>10.00</td>\n",
              "      <td>0</td>\n",
              "      <td>20</td>\n",
              "      <td>0</td>\n",
              "      <td>367</td>\n",
              "      <td>WSCHOWA</td>\n",
              "      <td>Dom i Ogród</td>\n",
              "      <td>Ogród</td>\n",
              "      <td>18.00</td>\n",
              "      <td>0</td>\n",
              "      <td>12.000</td>\n",
              "      <td>0</td>\n",
              "    </tr>\n",
              "    <tr>\n",
              "      <th>19298</th>\n",
              "      <td>19298</td>\n",
              "      <td>2016-04-03 20:10:45</td>\n",
              "      <td>6085705574</td>\n",
              "      <td>['Fotografia', 'Obiektywy', 'Nikon']</td>\n",
              "      <td>1</td>\n",
              "      <td>1</td>\n",
              "      <td>juha2-foto</td>\n",
              "      <td>1349.00</td>\n",
              "      <td>1</td>\n",
              "      <td>0</td>\n",
              "      <td>0</td>\n",
              "      <td>947</td>\n",
              "      <td>Międzyrzec Podlaski</td>\n",
              "      <td>Fotografia</td>\n",
              "      <td>Obiektywy</td>\n",
              "      <td>29.00</td>\n",
              "      <td>2</td>\n",
              "      <td>425.000</td>\n",
              "      <td>4</td>\n",
              "    </tr>\n",
              "    <tr>\n",
              "      <th>6633</th>\n",
              "      <td>6633</td>\n",
              "      <td>2016-04-03 11:21:11</td>\n",
              "      <td>4999195279</td>\n",
              "      <td>['Komputery', 'Części do laptopów', 'Klawiatury']</td>\n",
              "      <td>1</td>\n",
              "      <td>1</td>\n",
              "      <td>KRZYMARK_ZDW</td>\n",
              "      <td>69.99</td>\n",
              "      <td>1</td>\n",
              "      <td>997</td>\n",
              "      <td>0</td>\n",
              "      <td>100041</td>\n",
              "      <td>Łódź</td>\n",
              "      <td>Komputery</td>\n",
              "      <td>Części do laptopów</td>\n",
              "      <td>33.99</td>\n",
              "      <td>3</td>\n",
              "      <td>49.000</td>\n",
              "      <td>4</td>\n",
              "    </tr>\n",
              "    <tr>\n",
              "      <th>59636</th>\n",
              "      <td>59636</td>\n",
              "      <td>2016-04-03 20:16:53</td>\n",
              "      <td>5973304699</td>\n",
              "      <td>['Przemysł', 'Materiały i akcesoria', 'Budowni...</td>\n",
              "      <td>1</td>\n",
              "      <td>1</td>\n",
              "      <td>arbi1_2008</td>\n",
              "      <td>1.40</td>\n",
              "      <td>0</td>\n",
              "      <td>0</td>\n",
              "      <td>0</td>\n",
              "      <td>513</td>\n",
              "      <td>Cała Polska</td>\n",
              "      <td>Przemysł</td>\n",
              "      <td>Materiały i akcesoria</td>\n",
              "      <td>18.00</td>\n",
              "      <td>0</td>\n",
              "      <td>14.000</td>\n",
              "      <td>1</td>\n",
              "    </tr>\n",
              "    <tr>\n",
              "      <th>324976</th>\n",
              "      <td>324976</td>\n",
              "      <td>2016-04-03 17:22:47</td>\n",
              "      <td>5288105241</td>\n",
              "      <td>['Dom i Ogród', 'Wyposażenie', 'Oświetlenie', ...</td>\n",
              "      <td>1</td>\n",
              "      <td>1</td>\n",
              "      <td>Pmichal</td>\n",
              "      <td>5.79</td>\n",
              "      <td>1</td>\n",
              "      <td>334</td>\n",
              "      <td>0</td>\n",
              "      <td>2384</td>\n",
              "      <td>Warszawa</td>\n",
              "      <td>Dom i Ogród</td>\n",
              "      <td>Wyposażenie</td>\n",
              "      <td>18.00</td>\n",
              "      <td>0</td>\n",
              "      <td>20.000</td>\n",
              "      <td>1</td>\n",
              "    </tr>\n",
              "  </tbody>\n",
              "</table>\n",
              "<p>293992 rows × 19 columns</p>\n",
              "</div>\n",
              "      <button class=\"colab-df-convert\" onclick=\"convertToInteractive('df-0b4d1c04-d8e7-4bb2-8321-e6126ae16a82')\"\n",
              "              title=\"Convert this dataframe to an interactive table.\"\n",
              "              style=\"display:none;\">\n",
              "        \n",
              "  <svg xmlns=\"http://www.w3.org/2000/svg\" height=\"24px\"viewBox=\"0 0 24 24\"\n",
              "       width=\"24px\">\n",
              "    <path d=\"M0 0h24v24H0V0z\" fill=\"none\"/>\n",
              "    <path d=\"M18.56 5.44l.94 2.06.94-2.06 2.06-.94-2.06-.94-.94-2.06-.94 2.06-2.06.94zm-11 1L8.5 8.5l.94-2.06 2.06-.94-2.06-.94L8.5 2.5l-.94 2.06-2.06.94zm10 10l.94 2.06.94-2.06 2.06-.94-2.06-.94-.94-2.06-.94 2.06-2.06.94z\"/><path d=\"M17.41 7.96l-1.37-1.37c-.4-.4-.92-.59-1.43-.59-.52 0-1.04.2-1.43.59L10.3 9.45l-7.72 7.72c-.78.78-.78 2.05 0 2.83L4 21.41c.39.39.9.59 1.41.59.51 0 1.02-.2 1.41-.59l7.78-7.78 2.81-2.81c.8-.78.8-2.07 0-2.86zM5.41 20L4 18.59l7.72-7.72 1.47 1.35L5.41 20z\"/>\n",
              "  </svg>\n",
              "      </button>\n",
              "      \n",
              "  <style>\n",
              "    .colab-df-container {\n",
              "      display:flex;\n",
              "      flex-wrap:wrap;\n",
              "      gap: 12px;\n",
              "    }\n",
              "\n",
              "    .colab-df-convert {\n",
              "      background-color: #E8F0FE;\n",
              "      border: none;\n",
              "      border-radius: 50%;\n",
              "      cursor: pointer;\n",
              "      display: none;\n",
              "      fill: #1967D2;\n",
              "      height: 32px;\n",
              "      padding: 0 0 0 0;\n",
              "      width: 32px;\n",
              "    }\n",
              "\n",
              "    .colab-df-convert:hover {\n",
              "      background-color: #E2EBFA;\n",
              "      box-shadow: 0px 1px 2px rgba(60, 64, 67, 0.3), 0px 1px 3px 1px rgba(60, 64, 67, 0.15);\n",
              "      fill: #174EA6;\n",
              "    }\n",
              "\n",
              "    [theme=dark] .colab-df-convert {\n",
              "      background-color: #3B4455;\n",
              "      fill: #D2E3FC;\n",
              "    }\n",
              "\n",
              "    [theme=dark] .colab-df-convert:hover {\n",
              "      background-color: #434B5C;\n",
              "      box-shadow: 0px 1px 3px 1px rgba(0, 0, 0, 0.15);\n",
              "      filter: drop-shadow(0px 1px 2px rgba(0, 0, 0, 0.3));\n",
              "      fill: #FFFFFF;\n",
              "    }\n",
              "  </style>\n",
              "\n",
              "      <script>\n",
              "        const buttonEl =\n",
              "          document.querySelector('#df-0b4d1c04-d8e7-4bb2-8321-e6126ae16a82 button.colab-df-convert');\n",
              "        buttonEl.style.display =\n",
              "          google.colab.kernel.accessAllowed ? 'block' : 'none';\n",
              "\n",
              "        async function convertToInteractive(key) {\n",
              "          const element = document.querySelector('#df-0b4d1c04-d8e7-4bb2-8321-e6126ae16a82');\n",
              "          const dataTable =\n",
              "            await google.colab.kernel.invokeFunction('convertToInteractive',\n",
              "                                                     [key], {});\n",
              "          if (!dataTable) return;\n",
              "\n",
              "          const docLinkHtml = 'Like what you see? Visit the ' +\n",
              "            '<a target=\"_blank\" href=https://colab.research.google.com/notebooks/data_table.ipynb>data table notebook</a>'\n",
              "            + ' to learn more about interactive tables.';\n",
              "          element.innerHTML = '';\n",
              "          dataTable['output_type'] = 'display_data';\n",
              "          await google.colab.output.renderOutput(dataTable, element);\n",
              "          const docLink = document.createElement('div');\n",
              "          docLink.innerHTML = docLinkHtml;\n",
              "          element.appendChild(docLink);\n",
              "        }\n",
              "      </script>\n",
              "    </div>\n",
              "  </div>\n",
              "  "
            ]
          },
          "metadata": {},
          "execution_count": 26
        }
      ]
    },
    {
      "cell_type": "markdown",
      "source": [
        "### seller"
      ],
      "metadata": {
        "id": "ZrdHUmbfMd1g"
      },
      "id": "ZrdHUmbfMd1g"
    },
    {
      "cell_type": "code",
      "source": [
        "allegro_df_build_fixed.groupby([\"seller\"]).size().reset_index(name=\"counts\").sort_values(by=\"counts\", ascending=False).head(10)"
      ],
      "metadata": {
        "colab": {
          "base_uri": "https://localhost:8080/",
          "height": 359
        },
        "id": "I_AG4xeMBh1f",
        "outputId": "0986ea88-243d-4ea8-e4fd-68645d18738f"
      },
      "id": "I_AG4xeMBh1f",
      "execution_count": 67,
      "outputs": [
        {
          "output_type": "execute_result",
          "data": {
            "text/plain": [
              "              seller  counts\n",
              "1650         Allegro     666\n",
              "1968         Aros_pl     518\n",
              "24273      ezebra_pl     491\n",
              "38285  sklepogrodnik     470\n",
              "2343        BENEK195     467\n",
              "21752    darmarsklep     462\n",
              "28858   kosmetyki_ck     381\n",
              "33088  motostacja_pl     380\n",
              "28820       korob_pl     340\n",
              "14176      Swip_2009     339"
            ],
            "text/html": [
              "\n",
              "  <div id=\"df-ed53ac6f-b2ea-4e44-a34f-d79c2fe24283\">\n",
              "    <div class=\"colab-df-container\">\n",
              "      <div>\n",
              "<style scoped>\n",
              "    .dataframe tbody tr th:only-of-type {\n",
              "        vertical-align: middle;\n",
              "    }\n",
              "\n",
              "    .dataframe tbody tr th {\n",
              "        vertical-align: top;\n",
              "    }\n",
              "\n",
              "    .dataframe thead th {\n",
              "        text-align: right;\n",
              "    }\n",
              "</style>\n",
              "<table border=\"1\" class=\"dataframe\">\n",
              "  <thead>\n",
              "    <tr style=\"text-align: right;\">\n",
              "      <th></th>\n",
              "      <th>seller</th>\n",
              "      <th>counts</th>\n",
              "    </tr>\n",
              "  </thead>\n",
              "  <tbody>\n",
              "    <tr>\n",
              "      <th>1650</th>\n",
              "      <td>Allegro</td>\n",
              "      <td>666</td>\n",
              "    </tr>\n",
              "    <tr>\n",
              "      <th>1968</th>\n",
              "      <td>Aros_pl</td>\n",
              "      <td>518</td>\n",
              "    </tr>\n",
              "    <tr>\n",
              "      <th>24273</th>\n",
              "      <td>ezebra_pl</td>\n",
              "      <td>491</td>\n",
              "    </tr>\n",
              "    <tr>\n",
              "      <th>38285</th>\n",
              "      <td>sklepogrodnik</td>\n",
              "      <td>470</td>\n",
              "    </tr>\n",
              "    <tr>\n",
              "      <th>2343</th>\n",
              "      <td>BENEK195</td>\n",
              "      <td>467</td>\n",
              "    </tr>\n",
              "    <tr>\n",
              "      <th>21752</th>\n",
              "      <td>darmarsklep</td>\n",
              "      <td>462</td>\n",
              "    </tr>\n",
              "    <tr>\n",
              "      <th>28858</th>\n",
              "      <td>kosmetyki_ck</td>\n",
              "      <td>381</td>\n",
              "    </tr>\n",
              "    <tr>\n",
              "      <th>33088</th>\n",
              "      <td>motostacja_pl</td>\n",
              "      <td>380</td>\n",
              "    </tr>\n",
              "    <tr>\n",
              "      <th>28820</th>\n",
              "      <td>korob_pl</td>\n",
              "      <td>340</td>\n",
              "    </tr>\n",
              "    <tr>\n",
              "      <th>14176</th>\n",
              "      <td>Swip_2009</td>\n",
              "      <td>339</td>\n",
              "    </tr>\n",
              "  </tbody>\n",
              "</table>\n",
              "</div>\n",
              "      <button class=\"colab-df-convert\" onclick=\"convertToInteractive('df-ed53ac6f-b2ea-4e44-a34f-d79c2fe24283')\"\n",
              "              title=\"Convert this dataframe to an interactive table.\"\n",
              "              style=\"display:none;\">\n",
              "        \n",
              "  <svg xmlns=\"http://www.w3.org/2000/svg\" height=\"24px\"viewBox=\"0 0 24 24\"\n",
              "       width=\"24px\">\n",
              "    <path d=\"M0 0h24v24H0V0z\" fill=\"none\"/>\n",
              "    <path d=\"M18.56 5.44l.94 2.06.94-2.06 2.06-.94-2.06-.94-.94-2.06-.94 2.06-2.06.94zm-11 1L8.5 8.5l.94-2.06 2.06-.94-2.06-.94L8.5 2.5l-.94 2.06-2.06.94zm10 10l.94 2.06.94-2.06 2.06-.94-2.06-.94-.94-2.06-.94 2.06-2.06.94z\"/><path d=\"M17.41 7.96l-1.37-1.37c-.4-.4-.92-.59-1.43-.59-.52 0-1.04.2-1.43.59L10.3 9.45l-7.72 7.72c-.78.78-.78 2.05 0 2.83L4 21.41c.39.39.9.59 1.41.59.51 0 1.02-.2 1.41-.59l7.78-7.78 2.81-2.81c.8-.78.8-2.07 0-2.86zM5.41 20L4 18.59l7.72-7.72 1.47 1.35L5.41 20z\"/>\n",
              "  </svg>\n",
              "      </button>\n",
              "      \n",
              "  <style>\n",
              "    .colab-df-container {\n",
              "      display:flex;\n",
              "      flex-wrap:wrap;\n",
              "      gap: 12px;\n",
              "    }\n",
              "\n",
              "    .colab-df-convert {\n",
              "      background-color: #E8F0FE;\n",
              "      border: none;\n",
              "      border-radius: 50%;\n",
              "      cursor: pointer;\n",
              "      display: none;\n",
              "      fill: #1967D2;\n",
              "      height: 32px;\n",
              "      padding: 0 0 0 0;\n",
              "      width: 32px;\n",
              "    }\n",
              "\n",
              "    .colab-df-convert:hover {\n",
              "      background-color: #E2EBFA;\n",
              "      box-shadow: 0px 1px 2px rgba(60, 64, 67, 0.3), 0px 1px 3px 1px rgba(60, 64, 67, 0.15);\n",
              "      fill: #174EA6;\n",
              "    }\n",
              "\n",
              "    [theme=dark] .colab-df-convert {\n",
              "      background-color: #3B4455;\n",
              "      fill: #D2E3FC;\n",
              "    }\n",
              "\n",
              "    [theme=dark] .colab-df-convert:hover {\n",
              "      background-color: #434B5C;\n",
              "      box-shadow: 0px 1px 3px 1px rgba(0, 0, 0, 0.15);\n",
              "      filter: drop-shadow(0px 1px 2px rgba(0, 0, 0, 0.3));\n",
              "      fill: #FFFFFF;\n",
              "    }\n",
              "  </style>\n",
              "\n",
              "      <script>\n",
              "        const buttonEl =\n",
              "          document.querySelector('#df-ed53ac6f-b2ea-4e44-a34f-d79c2fe24283 button.colab-df-convert');\n",
              "        buttonEl.style.display =\n",
              "          google.colab.kernel.accessAllowed ? 'block' : 'none';\n",
              "\n",
              "        async function convertToInteractive(key) {\n",
              "          const element = document.querySelector('#df-ed53ac6f-b2ea-4e44-a34f-d79c2fe24283');\n",
              "          const dataTable =\n",
              "            await google.colab.kernel.invokeFunction('convertToInteractive',\n",
              "                                                     [key], {});\n",
              "          if (!dataTable) return;\n",
              "\n",
              "          const docLinkHtml = 'Like what you see? Visit the ' +\n",
              "            '<a target=\"_blank\" href=https://colab.research.google.com/notebooks/data_table.ipynb>data table notebook</a>'\n",
              "            + ' to learn more about interactive tables.';\n",
              "          element.innerHTML = '';\n",
              "          dataTable['output_type'] = 'display_data';\n",
              "          await google.colab.output.renderOutput(dataTable, element);\n",
              "          const docLink = document.createElement('div');\n",
              "          docLink.innerHTML = docLinkHtml;\n",
              "          element.appendChild(docLink);\n",
              "        }\n",
              "      </script>\n",
              "    </div>\n",
              "  </div>\n",
              "  "
            ]
          },
          "metadata": {},
          "execution_count": 67
        }
      ]
    },
    {
      "cell_type": "markdown",
      "source": [
        "Napewno nie musimy każdego sprzedawcy zakodowaywać unikalnymi wartościami. Największy sprzedawca ma około blisko 500 ofert. Jednocześnie większość sprzedawców ma bardzo mało ofert. Ci więksi to mogą być sklepy z różnymi produktami. Wydaję się, że to słaba zmienna. Raczej nie ma dużego wpływu na model. Znów moglibyśmy zakodować sprzedawce jako średnia cena jego produktów. Jednak może dojść dużo nowych sprzedawców i nie będzie wiadomo jak je zakodować. Nie bierzemy tej zmiennej pod uwagę w modelu."
      ],
      "metadata": {
        "id": "3IpyKyXiMfQ-"
      },
      "id": "3IpyKyXiMfQ-"
    },
    {
      "cell_type": "markdown",
      "source": [
        "### It_location"
      ],
      "metadata": {
        "id": "8Pk96Mt9NynK"
      },
      "id": "8Pk96Mt9NynK"
    },
    {
      "cell_type": "markdown",
      "source": [
        "Zacznijmy od małego preprocessingu. Pogrupujmy nazwy ozanaczające de facto to samo do jednej kategorii."
      ],
      "metadata": {
        "id": "Qxh52DycRGLa"
      },
      "id": "Qxh52DycRGLa"
    },
    {
      "cell_type": "code",
      "source": [
        "allegro_df_build_fixed[\"it_location\"].value_counts().index.tolist()[:30]"
      ],
      "metadata": {
        "colab": {
          "base_uri": "https://localhost:8080/"
        },
        "id": "x6lc5MtiN4jK",
        "outputId": "a8fac9d8-d0ec-48da-a2be-a3c7b6cd18a9"
      },
      "id": "x6lc5MtiN4jK",
      "execution_count": 27,
      "outputs": [
        {
          "output_type": "execute_result",
          "data": {
            "text/plain": [
              "['Warszawa',\n",
              " 'Kraków',\n",
              " 'Łódź',\n",
              " 'Poznań',\n",
              " 'Wrocław',\n",
              " 'Białystok',\n",
              " 'Lublin',\n",
              " 'Rzeszów',\n",
              " 'Kielce',\n",
              " 'Częstochowa',\n",
              " 'Internet',\n",
              " 'Gdańsk',\n",
              " 'INTERNET',\n",
              " 'Szczecin',\n",
              " 'Katowice',\n",
              " 'Bydgoszcz',\n",
              " 'Koszalin',\n",
              " 'Zielona Góra',\n",
              " 'Gdynia',\n",
              " 'WARSZAWA',\n",
              " 'internet',\n",
              " 'Dębica',\n",
              " 'Bielsko-Biała',\n",
              " 'Cała Polska',\n",
              " 'Radom',\n",
              " 'Polska',\n",
              " 'Toruń',\n",
              " 'Chrzypsko Wielkie',\n",
              " 'Tarnowskie Góry',\n",
              " 'kobylnica']"
            ]
          },
          "metadata": {},
          "execution_count": 27
        }
      ]
    },
    {
      "cell_type": "code",
      "source": [
        "allegro_df_build_fixed[\"it_location\"].value_counts().values.tolist()[:30]"
      ],
      "metadata": {
        "colab": {
          "base_uri": "https://localhost:8080/"
        },
        "id": "IuxLe_iYSg9z",
        "outputId": "35aaf3ce-e80f-4d5b-f591-b57fa9026967"
      },
      "id": "IuxLe_iYSg9z",
      "execution_count": 28,
      "outputs": [
        {
          "output_type": "execute_result",
          "data": {
            "text/plain": [
              "[16268,\n",
              " 10587,\n",
              " 7638,\n",
              " 7443,\n",
              " 5996,\n",
              " 5069,\n",
              " 4654,\n",
              " 4246,\n",
              " 4077,\n",
              " 3982,\n",
              " 3145,\n",
              " 2824,\n",
              " 2814,\n",
              " 2744,\n",
              " 2589,\n",
              " 2578,\n",
              " 2265,\n",
              " 2154,\n",
              " 2004,\n",
              " 1885,\n",
              " 1779,\n",
              " 1719,\n",
              " 1567,\n",
              " 1562,\n",
              " 1455,\n",
              " 1450,\n",
              " 1411,\n",
              " 1358,\n",
              " 1313,\n",
              " 1301]"
            ]
          },
          "metadata": {},
          "execution_count": 28
        }
      ]
    },
    {
      "cell_type": "markdown",
      "source": [
        "\"WARSZAWA\" oznacza to samo co \"Warszawa\". Wrzućmy tego typu rekordy do jednej kategorii. Postąpmy podobnie dla czterech kolejnych (nie licząc Warszawy) najpopularniejszych wartości zmiennej."
      ],
      "metadata": {
        "id": "i4ZV0un3S_DZ"
      },
      "id": "i4ZV0un3S_DZ"
    },
    {
      "cell_type": "code",
      "source": [
        "locations = allegro_df_build_fixed[['it_location']].groupby(['it_location']).size().sort_values(ascending=False).reset_index()\n",
        "locations.columns = ['it_location', 'count']\n",
        "locations.loc[locations['it_location'].apply(lambda x:'warszawa' in x.lower())]"
      ],
      "metadata": {
        "colab": {
          "base_uri": "https://localhost:8080/",
          "height": 419
        },
        "id": "Osx5wApnTKN_",
        "outputId": "d92ec963-24a3-45f5-b69f-073f8d4461e3"
      },
      "id": "Osx5wApnTKN_",
      "execution_count": 29,
      "outputs": [
        {
          "output_type": "execute_result",
          "data": {
            "text/plain": [
              "                             it_location  count\n",
              "0                               Warszawa  16268\n",
              "19                              WARSZAWA   1885\n",
              "47                              warszawa    800\n",
              "187   Warszawa/ Sprzedaż tylko wysyłkowa    227\n",
              "392                   Warszawa, Katowice    108\n",
              "...                                  ...    ...\n",
              "8670      Siedlce Warszawa Serock Otwock      1\n",
              "8717          Skierniewice Warszawa Łódź      1\n",
              "8765                      JANKI,Warszawa      1\n",
              "8777           JABŁONNA,WROCŁAW,WARSZAWA      1\n",
              "8793          Trojanów Garwolin Warszawa      1\n",
              "\n",
              "[332 rows x 2 columns]"
            ],
            "text/html": [
              "\n",
              "  <div id=\"df-65cd7f64-a829-42ca-9816-eb94f6140a43\">\n",
              "    <div class=\"colab-df-container\">\n",
              "      <div>\n",
              "<style scoped>\n",
              "    .dataframe tbody tr th:only-of-type {\n",
              "        vertical-align: middle;\n",
              "    }\n",
              "\n",
              "    .dataframe tbody tr th {\n",
              "        vertical-align: top;\n",
              "    }\n",
              "\n",
              "    .dataframe thead th {\n",
              "        text-align: right;\n",
              "    }\n",
              "</style>\n",
              "<table border=\"1\" class=\"dataframe\">\n",
              "  <thead>\n",
              "    <tr style=\"text-align: right;\">\n",
              "      <th></th>\n",
              "      <th>it_location</th>\n",
              "      <th>count</th>\n",
              "    </tr>\n",
              "  </thead>\n",
              "  <tbody>\n",
              "    <tr>\n",
              "      <th>0</th>\n",
              "      <td>Warszawa</td>\n",
              "      <td>16268</td>\n",
              "    </tr>\n",
              "    <tr>\n",
              "      <th>19</th>\n",
              "      <td>WARSZAWA</td>\n",
              "      <td>1885</td>\n",
              "    </tr>\n",
              "    <tr>\n",
              "      <th>47</th>\n",
              "      <td>warszawa</td>\n",
              "      <td>800</td>\n",
              "    </tr>\n",
              "    <tr>\n",
              "      <th>187</th>\n",
              "      <td>Warszawa/ Sprzedaż tylko wysyłkowa</td>\n",
              "      <td>227</td>\n",
              "    </tr>\n",
              "    <tr>\n",
              "      <th>392</th>\n",
              "      <td>Warszawa, Katowice</td>\n",
              "      <td>108</td>\n",
              "    </tr>\n",
              "    <tr>\n",
              "      <th>...</th>\n",
              "      <td>...</td>\n",
              "      <td>...</td>\n",
              "    </tr>\n",
              "    <tr>\n",
              "      <th>8670</th>\n",
              "      <td>Siedlce Warszawa Serock Otwock</td>\n",
              "      <td>1</td>\n",
              "    </tr>\n",
              "    <tr>\n",
              "      <th>8717</th>\n",
              "      <td>Skierniewice Warszawa Łódź</td>\n",
              "      <td>1</td>\n",
              "    </tr>\n",
              "    <tr>\n",
              "      <th>8765</th>\n",
              "      <td>JANKI,Warszawa</td>\n",
              "      <td>1</td>\n",
              "    </tr>\n",
              "    <tr>\n",
              "      <th>8777</th>\n",
              "      <td>JABŁONNA,WROCŁAW,WARSZAWA</td>\n",
              "      <td>1</td>\n",
              "    </tr>\n",
              "    <tr>\n",
              "      <th>8793</th>\n",
              "      <td>Trojanów Garwolin Warszawa</td>\n",
              "      <td>1</td>\n",
              "    </tr>\n",
              "  </tbody>\n",
              "</table>\n",
              "<p>332 rows × 2 columns</p>\n",
              "</div>\n",
              "      <button class=\"colab-df-convert\" onclick=\"convertToInteractive('df-65cd7f64-a829-42ca-9816-eb94f6140a43')\"\n",
              "              title=\"Convert this dataframe to an interactive table.\"\n",
              "              style=\"display:none;\">\n",
              "        \n",
              "  <svg xmlns=\"http://www.w3.org/2000/svg\" height=\"24px\"viewBox=\"0 0 24 24\"\n",
              "       width=\"24px\">\n",
              "    <path d=\"M0 0h24v24H0V0z\" fill=\"none\"/>\n",
              "    <path d=\"M18.56 5.44l.94 2.06.94-2.06 2.06-.94-2.06-.94-.94-2.06-.94 2.06-2.06.94zm-11 1L8.5 8.5l.94-2.06 2.06-.94-2.06-.94L8.5 2.5l-.94 2.06-2.06.94zm10 10l.94 2.06.94-2.06 2.06-.94-2.06-.94-.94-2.06-.94 2.06-2.06.94z\"/><path d=\"M17.41 7.96l-1.37-1.37c-.4-.4-.92-.59-1.43-.59-.52 0-1.04.2-1.43.59L10.3 9.45l-7.72 7.72c-.78.78-.78 2.05 0 2.83L4 21.41c.39.39.9.59 1.41.59.51 0 1.02-.2 1.41-.59l7.78-7.78 2.81-2.81c.8-.78.8-2.07 0-2.86zM5.41 20L4 18.59l7.72-7.72 1.47 1.35L5.41 20z\"/>\n",
              "  </svg>\n",
              "      </button>\n",
              "      \n",
              "  <style>\n",
              "    .colab-df-container {\n",
              "      display:flex;\n",
              "      flex-wrap:wrap;\n",
              "      gap: 12px;\n",
              "    }\n",
              "\n",
              "    .colab-df-convert {\n",
              "      background-color: #E8F0FE;\n",
              "      border: none;\n",
              "      border-radius: 50%;\n",
              "      cursor: pointer;\n",
              "      display: none;\n",
              "      fill: #1967D2;\n",
              "      height: 32px;\n",
              "      padding: 0 0 0 0;\n",
              "      width: 32px;\n",
              "    }\n",
              "\n",
              "    .colab-df-convert:hover {\n",
              "      background-color: #E2EBFA;\n",
              "      box-shadow: 0px 1px 2px rgba(60, 64, 67, 0.3), 0px 1px 3px 1px rgba(60, 64, 67, 0.15);\n",
              "      fill: #174EA6;\n",
              "    }\n",
              "\n",
              "    [theme=dark] .colab-df-convert {\n",
              "      background-color: #3B4455;\n",
              "      fill: #D2E3FC;\n",
              "    }\n",
              "\n",
              "    [theme=dark] .colab-df-convert:hover {\n",
              "      background-color: #434B5C;\n",
              "      box-shadow: 0px 1px 3px 1px rgba(0, 0, 0, 0.15);\n",
              "      filter: drop-shadow(0px 1px 2px rgba(0, 0, 0, 0.3));\n",
              "      fill: #FFFFFF;\n",
              "    }\n",
              "  </style>\n",
              "\n",
              "      <script>\n",
              "        const buttonEl =\n",
              "          document.querySelector('#df-65cd7f64-a829-42ca-9816-eb94f6140a43 button.colab-df-convert');\n",
              "        buttonEl.style.display =\n",
              "          google.colab.kernel.accessAllowed ? 'block' : 'none';\n",
              "\n",
              "        async function convertToInteractive(key) {\n",
              "          const element = document.querySelector('#df-65cd7f64-a829-42ca-9816-eb94f6140a43');\n",
              "          const dataTable =\n",
              "            await google.colab.kernel.invokeFunction('convertToInteractive',\n",
              "                                                     [key], {});\n",
              "          if (!dataTable) return;\n",
              "\n",
              "          const docLinkHtml = 'Like what you see? Visit the ' +\n",
              "            '<a target=\"_blank\" href=https://colab.research.google.com/notebooks/data_table.ipynb>data table notebook</a>'\n",
              "            + ' to learn more about interactive tables.';\n",
              "          element.innerHTML = '';\n",
              "          dataTable['output_type'] = 'display_data';\n",
              "          await google.colab.output.renderOutput(dataTable, element);\n",
              "          const docLink = document.createElement('div');\n",
              "          docLink.innerHTML = docLinkHtml;\n",
              "          element.appendChild(docLink);\n",
              "        }\n",
              "      </script>\n",
              "    </div>\n",
              "  </div>\n",
              "  "
            ]
          },
          "metadata": {},
          "execution_count": 29
        }
      ]
    },
    {
      "cell_type": "markdown",
      "source": [
        "Cztery najpopularniejsze tutaj wartości wyglądają na to samo. Inne mają niekiedy podane kilka miast lub wsie pod Warszawą, więc lepiej nic z nimi nie robić. Oczywiście rozwiązanie zaprezentowane tutaj to tak zwane \"szybkie rozwiązanie\". Gdyby mielibyśmy większy zasób czasowy to prawdopodobnie pobralibyśmy ramkę danych z miastami i ich wielkościami i pogrupowalibyśmy po wielkości miejsca zamieszkania."
      ],
      "metadata": {
        "id": "Dyqo5b-FUXjg"
      },
      "id": "Dyqo5b-FUXjg"
    },
    {
      "cell_type": "code",
      "source": [
        "allegro_df_build_fixed.loc[allegro_df_build_fixed[\"it_location\"] == \"WARSZAWA\", \"it_location\"] = \"Warszawa\"\n",
        "allegro_df_build_fixed.loc[allegro_df_build_fixed[\"it_location\"] == \"warszawa\", \"it_location\"] = \"Warszawa\"\n",
        "allegro_df_build_fixed.loc[allegro_df_build_fixed[\"it_location\"] == \"Warszawa/ Sprzedaż tylko wysyłkowa\", \"it_location\"] = \"Warszawa\""
      ],
      "metadata": {
        "id": "-iDRiFrHWihX"
      },
      "id": "-iDRiFrHWihX",
      "execution_count": 30,
      "outputs": []
    },
    {
      "cell_type": "code",
      "source": [
        "allegro_df_build_fixed[\"it_location\"].value_counts()"
      ],
      "metadata": {
        "colab": {
          "base_uri": "https://localhost:8080/"
        },
        "id": "OMgkgd_iW8ws",
        "outputId": "1113c727-bd13-491c-fe73-35eaeea054aa"
      },
      "id": "OMgkgd_iW8ws",
      "execution_count": 31,
      "outputs": [
        {
          "output_type": "execute_result",
          "data": {
            "text/plain": [
              "Warszawa                             19180\n",
              "Kraków                               10587\n",
              "Łódź                                  7638\n",
              "Poznań                                7443\n",
              "Wrocław                               5996\n",
              "                                     ...  \n",
              "WARSZAWA Janki                           1\n",
              "Pępice                                   1\n",
              "Gdańsk Sopot Elbląg Tczew Malbork        1\n",
              "Kamińsk                                  1\n",
              "Rzeszów DĘBICA                           1\n",
              "Name: it_location, Length: 8956, dtype: int64"
            ]
          },
          "metadata": {},
          "execution_count": 31
        }
      ]
    },
    {
      "cell_type": "code",
      "source": [
        "locations = allegro_df_build_fixed[['it_location']].groupby(['it_location']).size().sort_values(ascending=False).reset_index()\n",
        "locations.columns = ['it_location', 'count']\n",
        "locations.loc[locations['it_location'].apply(lambda x:'kraków' in x.lower())]"
      ],
      "metadata": {
        "colab": {
          "base_uri": "https://localhost:8080/",
          "height": 419
        },
        "id": "QsxpvEeSXVZY",
        "outputId": "ef9075c0-a0b5-4927-8b0a-66720e58dfd9"
      },
      "id": "QsxpvEeSXVZY",
      "execution_count": 32,
      "outputs": [
        {
          "output_type": "execute_result",
          "data": {
            "text/plain": [
              "                             it_location  count\n",
              "1                                 Kraków  10587\n",
              "41                                KRAKÓW    867\n",
              "250                               kraków    176\n",
              "348                          Kraków Łódź    122\n",
              "367          Kraków al. Słowackiego 40/1    115\n",
              "...                                  ...    ...\n",
              "8724        KRAKÓW, Tatarska 5 / #4T0500      1\n",
              "8802           Trzebinia Chrzanów Kraków      1\n",
              "8817                    Tenczynek/Kraków      1\n",
              "8869  Szczecin, Kraków, Poznań, Katowice      1\n",
              "8898  Szczecin, Poznań, Katowice, Kraków      1\n",
              "\n",
              "[198 rows x 2 columns]"
            ],
            "text/html": [
              "\n",
              "  <div id=\"df-50f8aa35-abd6-48ad-b49e-038168586239\">\n",
              "    <div class=\"colab-df-container\">\n",
              "      <div>\n",
              "<style scoped>\n",
              "    .dataframe tbody tr th:only-of-type {\n",
              "        vertical-align: middle;\n",
              "    }\n",
              "\n",
              "    .dataframe tbody tr th {\n",
              "        vertical-align: top;\n",
              "    }\n",
              "\n",
              "    .dataframe thead th {\n",
              "        text-align: right;\n",
              "    }\n",
              "</style>\n",
              "<table border=\"1\" class=\"dataframe\">\n",
              "  <thead>\n",
              "    <tr style=\"text-align: right;\">\n",
              "      <th></th>\n",
              "      <th>it_location</th>\n",
              "      <th>count</th>\n",
              "    </tr>\n",
              "  </thead>\n",
              "  <tbody>\n",
              "    <tr>\n",
              "      <th>1</th>\n",
              "      <td>Kraków</td>\n",
              "      <td>10587</td>\n",
              "    </tr>\n",
              "    <tr>\n",
              "      <th>41</th>\n",
              "      <td>KRAKÓW</td>\n",
              "      <td>867</td>\n",
              "    </tr>\n",
              "    <tr>\n",
              "      <th>250</th>\n",
              "      <td>kraków</td>\n",
              "      <td>176</td>\n",
              "    </tr>\n",
              "    <tr>\n",
              "      <th>348</th>\n",
              "      <td>Kraków Łódź</td>\n",
              "      <td>122</td>\n",
              "    </tr>\n",
              "    <tr>\n",
              "      <th>367</th>\n",
              "      <td>Kraków al. Słowackiego 40/1</td>\n",
              "      <td>115</td>\n",
              "    </tr>\n",
              "    <tr>\n",
              "      <th>...</th>\n",
              "      <td>...</td>\n",
              "      <td>...</td>\n",
              "    </tr>\n",
              "    <tr>\n",
              "      <th>8724</th>\n",
              "      <td>KRAKÓW, Tatarska 5 / #4T0500</td>\n",
              "      <td>1</td>\n",
              "    </tr>\n",
              "    <tr>\n",
              "      <th>8802</th>\n",
              "      <td>Trzebinia Chrzanów Kraków</td>\n",
              "      <td>1</td>\n",
              "    </tr>\n",
              "    <tr>\n",
              "      <th>8817</th>\n",
              "      <td>Tenczynek/Kraków</td>\n",
              "      <td>1</td>\n",
              "    </tr>\n",
              "    <tr>\n",
              "      <th>8869</th>\n",
              "      <td>Szczecin, Kraków, Poznań, Katowice</td>\n",
              "      <td>1</td>\n",
              "    </tr>\n",
              "    <tr>\n",
              "      <th>8898</th>\n",
              "      <td>Szczecin, Poznań, Katowice, Kraków</td>\n",
              "      <td>1</td>\n",
              "    </tr>\n",
              "  </tbody>\n",
              "</table>\n",
              "<p>198 rows × 2 columns</p>\n",
              "</div>\n",
              "      <button class=\"colab-df-convert\" onclick=\"convertToInteractive('df-50f8aa35-abd6-48ad-b49e-038168586239')\"\n",
              "              title=\"Convert this dataframe to an interactive table.\"\n",
              "              style=\"display:none;\">\n",
              "        \n",
              "  <svg xmlns=\"http://www.w3.org/2000/svg\" height=\"24px\"viewBox=\"0 0 24 24\"\n",
              "       width=\"24px\">\n",
              "    <path d=\"M0 0h24v24H0V0z\" fill=\"none\"/>\n",
              "    <path d=\"M18.56 5.44l.94 2.06.94-2.06 2.06-.94-2.06-.94-.94-2.06-.94 2.06-2.06.94zm-11 1L8.5 8.5l.94-2.06 2.06-.94-2.06-.94L8.5 2.5l-.94 2.06-2.06.94zm10 10l.94 2.06.94-2.06 2.06-.94-2.06-.94-.94-2.06-.94 2.06-2.06.94z\"/><path d=\"M17.41 7.96l-1.37-1.37c-.4-.4-.92-.59-1.43-.59-.52 0-1.04.2-1.43.59L10.3 9.45l-7.72 7.72c-.78.78-.78 2.05 0 2.83L4 21.41c.39.39.9.59 1.41.59.51 0 1.02-.2 1.41-.59l7.78-7.78 2.81-2.81c.8-.78.8-2.07 0-2.86zM5.41 20L4 18.59l7.72-7.72 1.47 1.35L5.41 20z\"/>\n",
              "  </svg>\n",
              "      </button>\n",
              "      \n",
              "  <style>\n",
              "    .colab-df-container {\n",
              "      display:flex;\n",
              "      flex-wrap:wrap;\n",
              "      gap: 12px;\n",
              "    }\n",
              "\n",
              "    .colab-df-convert {\n",
              "      background-color: #E8F0FE;\n",
              "      border: none;\n",
              "      border-radius: 50%;\n",
              "      cursor: pointer;\n",
              "      display: none;\n",
              "      fill: #1967D2;\n",
              "      height: 32px;\n",
              "      padding: 0 0 0 0;\n",
              "      width: 32px;\n",
              "    }\n",
              "\n",
              "    .colab-df-convert:hover {\n",
              "      background-color: #E2EBFA;\n",
              "      box-shadow: 0px 1px 2px rgba(60, 64, 67, 0.3), 0px 1px 3px 1px rgba(60, 64, 67, 0.15);\n",
              "      fill: #174EA6;\n",
              "    }\n",
              "\n",
              "    [theme=dark] .colab-df-convert {\n",
              "      background-color: #3B4455;\n",
              "      fill: #D2E3FC;\n",
              "    }\n",
              "\n",
              "    [theme=dark] .colab-df-convert:hover {\n",
              "      background-color: #434B5C;\n",
              "      box-shadow: 0px 1px 3px 1px rgba(0, 0, 0, 0.15);\n",
              "      filter: drop-shadow(0px 1px 2px rgba(0, 0, 0, 0.3));\n",
              "      fill: #FFFFFF;\n",
              "    }\n",
              "  </style>\n",
              "\n",
              "      <script>\n",
              "        const buttonEl =\n",
              "          document.querySelector('#df-50f8aa35-abd6-48ad-b49e-038168586239 button.colab-df-convert');\n",
              "        buttonEl.style.display =\n",
              "          google.colab.kernel.accessAllowed ? 'block' : 'none';\n",
              "\n",
              "        async function convertToInteractive(key) {\n",
              "          const element = document.querySelector('#df-50f8aa35-abd6-48ad-b49e-038168586239');\n",
              "          const dataTable =\n",
              "            await google.colab.kernel.invokeFunction('convertToInteractive',\n",
              "                                                     [key], {});\n",
              "          if (!dataTable) return;\n",
              "\n",
              "          const docLinkHtml = 'Like what you see? Visit the ' +\n",
              "            '<a target=\"_blank\" href=https://colab.research.google.com/notebooks/data_table.ipynb>data table notebook</a>'\n",
              "            + ' to learn more about interactive tables.';\n",
              "          element.innerHTML = '';\n",
              "          dataTable['output_type'] = 'display_data';\n",
              "          await google.colab.output.renderOutput(dataTable, element);\n",
              "          const docLink = document.createElement('div');\n",
              "          docLink.innerHTML = docLinkHtml;\n",
              "          element.appendChild(docLink);\n",
              "        }\n",
              "      </script>\n",
              "    </div>\n",
              "  </div>\n",
              "  "
            ]
          },
          "metadata": {},
          "execution_count": 32
        }
      ]
    },
    {
      "cell_type": "code",
      "source": [
        "allegro_df_build_fixed.loc[allegro_df_build_fixed[\"it_location\"] == \"KRAKÓW\", \"it_location\"] = \"Kraków\"\n",
        "allegro_df_build_fixed.loc[allegro_df_build_fixed[\"it_location\"] == \"kraków\", \"it_location\"] = \"Kraków\"\n",
        "allegro_df_build_fixed.loc[allegro_df_build_fixed[\"it_location\"] == \"Kraków al. Słowackiego 40/1\", \"it_location\"] = \"Kraków\"\n",
        "allegro_df_build_fixed.loc[allegro_df_build_fixed[\"it_location\"] == \"Krakow\", \"it_location\"] = \"Kraków\"\n",
        "allegro_df_build_fixed.loc[allegro_df_build_fixed[\"it_location\"] == \"krakow\", \"it_location\"] = \"Kraków\"\n",
        "allegro_df_build_fixed.loc[allegro_df_build_fixed[\"it_location\"] == \"KRAKOW\", \"it_location\"] = \"Kraków\""
      ],
      "metadata": {
        "id": "EYafEhTvXgK3"
      },
      "id": "EYafEhTvXgK3",
      "execution_count": 33,
      "outputs": []
    },
    {
      "cell_type": "code",
      "source": [
        "locations = allegro_df_build_fixed[['it_location']].groupby(['it_location']).size().sort_values(ascending=False).reset_index()\n",
        "locations.columns = ['it_location', 'count']\n",
        "locations.loc[locations['it_location'].apply(lambda x:'łódź' in x.lower())]"
      ],
      "metadata": {
        "id": "xm_MsHOnX7Nr",
        "outputId": "2c637aed-2559-4e5e-f2bd-a07f7652c26b",
        "colab": {
          "base_uri": "https://localhost:8080/",
          "height": 419
        }
      },
      "id": "xm_MsHOnX7Nr",
      "execution_count": 34,
      "outputs": [
        {
          "output_type": "execute_result",
          "data": {
            "text/plain": [
              "                              it_location  count\n",
              "2                                    Łódź   7638\n",
              "39                                   ŁÓDŹ    954\n",
              "345                           Kraków Łódź    122\n",
              "421                                  łódź    102\n",
              "593             Tomaszów Mazowiecki, Łódź     66\n",
              "...                                   ...    ...\n",
              "8590               Stare Krasnodęby, Łódź      1\n",
              "8597  KATOWICE KRAKÓW WROCŁAW TARNÓW ŁÓDŹ      1\n",
              "8668           Skierniewice Warszawa Łódź      1\n",
              "8876                         Jeżów / Łódź      1\n",
              "8946                       Janówka - Łódź      1\n",
              "\n",
              "[114 rows x 2 columns]"
            ],
            "text/html": [
              "\n",
              "  <div id=\"df-d512740e-df23-4106-8825-37c37134cc35\">\n",
              "    <div class=\"colab-df-container\">\n",
              "      <div>\n",
              "<style scoped>\n",
              "    .dataframe tbody tr th:only-of-type {\n",
              "        vertical-align: middle;\n",
              "    }\n",
              "\n",
              "    .dataframe tbody tr th {\n",
              "        vertical-align: top;\n",
              "    }\n",
              "\n",
              "    .dataframe thead th {\n",
              "        text-align: right;\n",
              "    }\n",
              "</style>\n",
              "<table border=\"1\" class=\"dataframe\">\n",
              "  <thead>\n",
              "    <tr style=\"text-align: right;\">\n",
              "      <th></th>\n",
              "      <th>it_location</th>\n",
              "      <th>count</th>\n",
              "    </tr>\n",
              "  </thead>\n",
              "  <tbody>\n",
              "    <tr>\n",
              "      <th>2</th>\n",
              "      <td>Łódź</td>\n",
              "      <td>7638</td>\n",
              "    </tr>\n",
              "    <tr>\n",
              "      <th>39</th>\n",
              "      <td>ŁÓDŹ</td>\n",
              "      <td>954</td>\n",
              "    </tr>\n",
              "    <tr>\n",
              "      <th>345</th>\n",
              "      <td>Kraków Łódź</td>\n",
              "      <td>122</td>\n",
              "    </tr>\n",
              "    <tr>\n",
              "      <th>421</th>\n",
              "      <td>łódź</td>\n",
              "      <td>102</td>\n",
              "    </tr>\n",
              "    <tr>\n",
              "      <th>593</th>\n",
              "      <td>Tomaszów Mazowiecki, Łódź</td>\n",
              "      <td>66</td>\n",
              "    </tr>\n",
              "    <tr>\n",
              "      <th>...</th>\n",
              "      <td>...</td>\n",
              "      <td>...</td>\n",
              "    </tr>\n",
              "    <tr>\n",
              "      <th>8590</th>\n",
              "      <td>Stare Krasnodęby, Łódź</td>\n",
              "      <td>1</td>\n",
              "    </tr>\n",
              "    <tr>\n",
              "      <th>8597</th>\n",
              "      <td>KATOWICE KRAKÓW WROCŁAW TARNÓW ŁÓDŹ</td>\n",
              "      <td>1</td>\n",
              "    </tr>\n",
              "    <tr>\n",
              "      <th>8668</th>\n",
              "      <td>Skierniewice Warszawa Łódź</td>\n",
              "      <td>1</td>\n",
              "    </tr>\n",
              "    <tr>\n",
              "      <th>8876</th>\n",
              "      <td>Jeżów / Łódź</td>\n",
              "      <td>1</td>\n",
              "    </tr>\n",
              "    <tr>\n",
              "      <th>8946</th>\n",
              "      <td>Janówka - Łódź</td>\n",
              "      <td>1</td>\n",
              "    </tr>\n",
              "  </tbody>\n",
              "</table>\n",
              "<p>114 rows × 2 columns</p>\n",
              "</div>\n",
              "      <button class=\"colab-df-convert\" onclick=\"convertToInteractive('df-d512740e-df23-4106-8825-37c37134cc35')\"\n",
              "              title=\"Convert this dataframe to an interactive table.\"\n",
              "              style=\"display:none;\">\n",
              "        \n",
              "  <svg xmlns=\"http://www.w3.org/2000/svg\" height=\"24px\"viewBox=\"0 0 24 24\"\n",
              "       width=\"24px\">\n",
              "    <path d=\"M0 0h24v24H0V0z\" fill=\"none\"/>\n",
              "    <path d=\"M18.56 5.44l.94 2.06.94-2.06 2.06-.94-2.06-.94-.94-2.06-.94 2.06-2.06.94zm-11 1L8.5 8.5l.94-2.06 2.06-.94-2.06-.94L8.5 2.5l-.94 2.06-2.06.94zm10 10l.94 2.06.94-2.06 2.06-.94-2.06-.94-.94-2.06-.94 2.06-2.06.94z\"/><path d=\"M17.41 7.96l-1.37-1.37c-.4-.4-.92-.59-1.43-.59-.52 0-1.04.2-1.43.59L10.3 9.45l-7.72 7.72c-.78.78-.78 2.05 0 2.83L4 21.41c.39.39.9.59 1.41.59.51 0 1.02-.2 1.41-.59l7.78-7.78 2.81-2.81c.8-.78.8-2.07 0-2.86zM5.41 20L4 18.59l7.72-7.72 1.47 1.35L5.41 20z\"/>\n",
              "  </svg>\n",
              "      </button>\n",
              "      \n",
              "  <style>\n",
              "    .colab-df-container {\n",
              "      display:flex;\n",
              "      flex-wrap:wrap;\n",
              "      gap: 12px;\n",
              "    }\n",
              "\n",
              "    .colab-df-convert {\n",
              "      background-color: #E8F0FE;\n",
              "      border: none;\n",
              "      border-radius: 50%;\n",
              "      cursor: pointer;\n",
              "      display: none;\n",
              "      fill: #1967D2;\n",
              "      height: 32px;\n",
              "      padding: 0 0 0 0;\n",
              "      width: 32px;\n",
              "    }\n",
              "\n",
              "    .colab-df-convert:hover {\n",
              "      background-color: #E2EBFA;\n",
              "      box-shadow: 0px 1px 2px rgba(60, 64, 67, 0.3), 0px 1px 3px 1px rgba(60, 64, 67, 0.15);\n",
              "      fill: #174EA6;\n",
              "    }\n",
              "\n",
              "    [theme=dark] .colab-df-convert {\n",
              "      background-color: #3B4455;\n",
              "      fill: #D2E3FC;\n",
              "    }\n",
              "\n",
              "    [theme=dark] .colab-df-convert:hover {\n",
              "      background-color: #434B5C;\n",
              "      box-shadow: 0px 1px 3px 1px rgba(0, 0, 0, 0.15);\n",
              "      filter: drop-shadow(0px 1px 2px rgba(0, 0, 0, 0.3));\n",
              "      fill: #FFFFFF;\n",
              "    }\n",
              "  </style>\n",
              "\n",
              "      <script>\n",
              "        const buttonEl =\n",
              "          document.querySelector('#df-d512740e-df23-4106-8825-37c37134cc35 button.colab-df-convert');\n",
              "        buttonEl.style.display =\n",
              "          google.colab.kernel.accessAllowed ? 'block' : 'none';\n",
              "\n",
              "        async function convertToInteractive(key) {\n",
              "          const element = document.querySelector('#df-d512740e-df23-4106-8825-37c37134cc35');\n",
              "          const dataTable =\n",
              "            await google.colab.kernel.invokeFunction('convertToInteractive',\n",
              "                                                     [key], {});\n",
              "          if (!dataTable) return;\n",
              "\n",
              "          const docLinkHtml = 'Like what you see? Visit the ' +\n",
              "            '<a target=\"_blank\" href=https://colab.research.google.com/notebooks/data_table.ipynb>data table notebook</a>'\n",
              "            + ' to learn more about interactive tables.';\n",
              "          element.innerHTML = '';\n",
              "          dataTable['output_type'] = 'display_data';\n",
              "          await google.colab.output.renderOutput(dataTable, element);\n",
              "          const docLink = document.createElement('div');\n",
              "          docLink.innerHTML = docLinkHtml;\n",
              "          element.appendChild(docLink);\n",
              "        }\n",
              "      </script>\n",
              "    </div>\n",
              "  </div>\n",
              "  "
            ]
          },
          "metadata": {},
          "execution_count": 34
        }
      ]
    },
    {
      "cell_type": "code",
      "source": [
        "allegro_df_build_fixed.loc[allegro_df_build_fixed[\"it_location\"] == \"ŁÓDŹ\", \"it_location\"] = \"Łódź\"\n",
        "allegro_df_build_fixed.loc[allegro_df_build_fixed[\"it_location\"] == \"łódź\", \"it_location\"] = \"Łódź\"\n",
        "allegro_df_build_fixed.loc[allegro_df_build_fixed[\"it_location\"] == \"lodz\", \"it_location\"] = \"Łódź\"\n",
        "allegro_df_build_fixed.loc[allegro_df_build_fixed[\"it_location\"] == \"Lodz\", \"it_location\"] = \"Łódź\"\n",
        "allegro_df_build_fixed.loc[allegro_df_build_fixed[\"it_location\"] == \"LODZ\", \"it_location\"] = \"Łódź\""
      ],
      "metadata": {
        "id": "lCJ_dFlga9x3"
      },
      "id": "lCJ_dFlga9x3",
      "execution_count": 35,
      "outputs": []
    },
    {
      "cell_type": "code",
      "source": [
        "locations = allegro_df_build_fixed[['it_location']].groupby(['it_location']).size().sort_values(ascending=False).reset_index()\n",
        "locations.columns = ['it_location', 'count']\n",
        "locations.loc[locations['it_location'].apply(lambda x:'poznań' in x.lower())]"
      ],
      "metadata": {
        "colab": {
          "base_uri": "https://localhost:8080/",
          "height": 419
        },
        "id": "8YHcZEgzbY8C",
        "outputId": "5d8495e7-0da6-4365-c013-2ce2eb94e3b6"
      },
      "id": "8YHcZEgzbY8C",
      "execution_count": 36,
      "outputs": [
        {
          "output_type": "execute_result",
          "data": {
            "text/plain": [
              "                             it_location  count\n",
              "3                                 Poznań   7443\n",
              "120                               POZNAŃ    317\n",
              "518                               poznań     81\n",
              "663                      Poznań-Skórzewo     59\n",
              "969            Poznań, ul. Obornicka 337     36\n",
              "...                                  ...    ...\n",
              "8833  Szczecin, Kraków, Poznań, Katowice      1\n",
              "8858      Szczecin Sopot Poznań Katowice      1\n",
              "8871            Stróżewo Chodzież Poznań      1\n",
              "8879               Suchy Las (k. Poznań)      1\n",
              "8888  Szczecin, Poznań, Katowice, Kraków      1\n",
              "\n",
              "[133 rows x 2 columns]"
            ],
            "text/html": [
              "\n",
              "  <div id=\"df-82f2f7a5-bb5d-4b10-b3f3-33b4e5e4ba1d\">\n",
              "    <div class=\"colab-df-container\">\n",
              "      <div>\n",
              "<style scoped>\n",
              "    .dataframe tbody tr th:only-of-type {\n",
              "        vertical-align: middle;\n",
              "    }\n",
              "\n",
              "    .dataframe tbody tr th {\n",
              "        vertical-align: top;\n",
              "    }\n",
              "\n",
              "    .dataframe thead th {\n",
              "        text-align: right;\n",
              "    }\n",
              "</style>\n",
              "<table border=\"1\" class=\"dataframe\">\n",
              "  <thead>\n",
              "    <tr style=\"text-align: right;\">\n",
              "      <th></th>\n",
              "      <th>it_location</th>\n",
              "      <th>count</th>\n",
              "    </tr>\n",
              "  </thead>\n",
              "  <tbody>\n",
              "    <tr>\n",
              "      <th>3</th>\n",
              "      <td>Poznań</td>\n",
              "      <td>7443</td>\n",
              "    </tr>\n",
              "    <tr>\n",
              "      <th>120</th>\n",
              "      <td>POZNAŃ</td>\n",
              "      <td>317</td>\n",
              "    </tr>\n",
              "    <tr>\n",
              "      <th>518</th>\n",
              "      <td>poznań</td>\n",
              "      <td>81</td>\n",
              "    </tr>\n",
              "    <tr>\n",
              "      <th>663</th>\n",
              "      <td>Poznań-Skórzewo</td>\n",
              "      <td>59</td>\n",
              "    </tr>\n",
              "    <tr>\n",
              "      <th>969</th>\n",
              "      <td>Poznań, ul. Obornicka 337</td>\n",
              "      <td>36</td>\n",
              "    </tr>\n",
              "    <tr>\n",
              "      <th>...</th>\n",
              "      <td>...</td>\n",
              "      <td>...</td>\n",
              "    </tr>\n",
              "    <tr>\n",
              "      <th>8833</th>\n",
              "      <td>Szczecin, Kraków, Poznań, Katowice</td>\n",
              "      <td>1</td>\n",
              "    </tr>\n",
              "    <tr>\n",
              "      <th>8858</th>\n",
              "      <td>Szczecin Sopot Poznań Katowice</td>\n",
              "      <td>1</td>\n",
              "    </tr>\n",
              "    <tr>\n",
              "      <th>8871</th>\n",
              "      <td>Stróżewo Chodzież Poznań</td>\n",
              "      <td>1</td>\n",
              "    </tr>\n",
              "    <tr>\n",
              "      <th>8879</th>\n",
              "      <td>Suchy Las (k. Poznań)</td>\n",
              "      <td>1</td>\n",
              "    </tr>\n",
              "    <tr>\n",
              "      <th>8888</th>\n",
              "      <td>Szczecin, Poznań, Katowice, Kraków</td>\n",
              "      <td>1</td>\n",
              "    </tr>\n",
              "  </tbody>\n",
              "</table>\n",
              "<p>133 rows × 2 columns</p>\n",
              "</div>\n",
              "      <button class=\"colab-df-convert\" onclick=\"convertToInteractive('df-82f2f7a5-bb5d-4b10-b3f3-33b4e5e4ba1d')\"\n",
              "              title=\"Convert this dataframe to an interactive table.\"\n",
              "              style=\"display:none;\">\n",
              "        \n",
              "  <svg xmlns=\"http://www.w3.org/2000/svg\" height=\"24px\"viewBox=\"0 0 24 24\"\n",
              "       width=\"24px\">\n",
              "    <path d=\"M0 0h24v24H0V0z\" fill=\"none\"/>\n",
              "    <path d=\"M18.56 5.44l.94 2.06.94-2.06 2.06-.94-2.06-.94-.94-2.06-.94 2.06-2.06.94zm-11 1L8.5 8.5l.94-2.06 2.06-.94-2.06-.94L8.5 2.5l-.94 2.06-2.06.94zm10 10l.94 2.06.94-2.06 2.06-.94-2.06-.94-.94-2.06-.94 2.06-2.06.94z\"/><path d=\"M17.41 7.96l-1.37-1.37c-.4-.4-.92-.59-1.43-.59-.52 0-1.04.2-1.43.59L10.3 9.45l-7.72 7.72c-.78.78-.78 2.05 0 2.83L4 21.41c.39.39.9.59 1.41.59.51 0 1.02-.2 1.41-.59l7.78-7.78 2.81-2.81c.8-.78.8-2.07 0-2.86zM5.41 20L4 18.59l7.72-7.72 1.47 1.35L5.41 20z\"/>\n",
              "  </svg>\n",
              "      </button>\n",
              "      \n",
              "  <style>\n",
              "    .colab-df-container {\n",
              "      display:flex;\n",
              "      flex-wrap:wrap;\n",
              "      gap: 12px;\n",
              "    }\n",
              "\n",
              "    .colab-df-convert {\n",
              "      background-color: #E8F0FE;\n",
              "      border: none;\n",
              "      border-radius: 50%;\n",
              "      cursor: pointer;\n",
              "      display: none;\n",
              "      fill: #1967D2;\n",
              "      height: 32px;\n",
              "      padding: 0 0 0 0;\n",
              "      width: 32px;\n",
              "    }\n",
              "\n",
              "    .colab-df-convert:hover {\n",
              "      background-color: #E2EBFA;\n",
              "      box-shadow: 0px 1px 2px rgba(60, 64, 67, 0.3), 0px 1px 3px 1px rgba(60, 64, 67, 0.15);\n",
              "      fill: #174EA6;\n",
              "    }\n",
              "\n",
              "    [theme=dark] .colab-df-convert {\n",
              "      background-color: #3B4455;\n",
              "      fill: #D2E3FC;\n",
              "    }\n",
              "\n",
              "    [theme=dark] .colab-df-convert:hover {\n",
              "      background-color: #434B5C;\n",
              "      box-shadow: 0px 1px 3px 1px rgba(0, 0, 0, 0.15);\n",
              "      filter: drop-shadow(0px 1px 2px rgba(0, 0, 0, 0.3));\n",
              "      fill: #FFFFFF;\n",
              "    }\n",
              "  </style>\n",
              "\n",
              "      <script>\n",
              "        const buttonEl =\n",
              "          document.querySelector('#df-82f2f7a5-bb5d-4b10-b3f3-33b4e5e4ba1d button.colab-df-convert');\n",
              "        buttonEl.style.display =\n",
              "          google.colab.kernel.accessAllowed ? 'block' : 'none';\n",
              "\n",
              "        async function convertToInteractive(key) {\n",
              "          const element = document.querySelector('#df-82f2f7a5-bb5d-4b10-b3f3-33b4e5e4ba1d');\n",
              "          const dataTable =\n",
              "            await google.colab.kernel.invokeFunction('convertToInteractive',\n",
              "                                                     [key], {});\n",
              "          if (!dataTable) return;\n",
              "\n",
              "          const docLinkHtml = 'Like what you see? Visit the ' +\n",
              "            '<a target=\"_blank\" href=https://colab.research.google.com/notebooks/data_table.ipynb>data table notebook</a>'\n",
              "            + ' to learn more about interactive tables.';\n",
              "          element.innerHTML = '';\n",
              "          dataTable['output_type'] = 'display_data';\n",
              "          await google.colab.output.renderOutput(dataTable, element);\n",
              "          const docLink = document.createElement('div');\n",
              "          docLink.innerHTML = docLinkHtml;\n",
              "          element.appendChild(docLink);\n",
              "        }\n",
              "      </script>\n",
              "    </div>\n",
              "  </div>\n",
              "  "
            ]
          },
          "metadata": {},
          "execution_count": 36
        }
      ]
    },
    {
      "cell_type": "code",
      "source": [
        "allegro_df_build_fixed.loc[allegro_df_build_fixed[\"it_location\"] == \"POZNAŃ\", \"it_location\"] = \"Poznań\"\n",
        "allegro_df_build_fixed.loc[allegro_df_build_fixed[\"it_location\"] == \"poznan\", \"it_location\"] = \"Poznań\"\n",
        "allegro_df_build_fixed.loc[allegro_df_build_fixed[\"it_location\"] == \"Poznan\", \"it_location\"] = \"Poznań\"\n",
        "allegro_df_build_fixed.loc[allegro_df_build_fixed[\"it_location\"] == \"poznań\", \"it_location\"] = \"Poznań\"\n",
        "allegro_df_build_fixed.loc[allegro_df_build_fixed[\"it_location\"] == \"Poznań, ul. Obornicka 337\", \"it_location\"] = \"Poznań\""
      ],
      "metadata": {
        "id": "2Y0A7btrblAf"
      },
      "id": "2Y0A7btrblAf",
      "execution_count": 37,
      "outputs": []
    },
    {
      "cell_type": "code",
      "source": [
        "locations = allegro_df_build_fixed[['it_location']].groupby(['it_location']).size().sort_values(ascending=False).reset_index()\n",
        "locations.columns = ['it_location', 'count']\n",
        "locations.loc[locations['it_location'].apply(lambda x:'wrocław' in x.lower())]"
      ],
      "metadata": {
        "colab": {
          "base_uri": "https://localhost:8080/",
          "height": 419
        },
        "id": "DhTnh24ob7vD",
        "outputId": "ca02dbe1-2117-4a37-a83b-ccb644148c22"
      },
      "id": "DhTnh24ob7vD",
      "execution_count": 38,
      "outputs": [
        {
          "output_type": "execute_result",
          "data": {
            "text/plain": [
              "                              it_location  count\n",
              "4                                 Wrocław   5996\n",
              "59                                WROCŁAW    605\n",
              "99                             Inowrocław    383\n",
              "203                               wrocław    202\n",
              "418               Czernica koło Wrocławia    101\n",
              "...                                   ...    ...\n",
              "8579  KATOWICE KRAKÓW WROCŁAW TARNÓW ŁÓDŹ      1\n",
              "8591            Stargard Wrocław Warszawa      1\n",
              "8618                     Sieradz, Wrocław      1\n",
              "8751            JABŁONNA,WROCŁAW,WARSZAWA      1\n",
              "8840                      Syców - Wrocław      1\n",
              "\n",
              "[140 rows x 2 columns]"
            ],
            "text/html": [
              "\n",
              "  <div id=\"df-cdb64918-6117-44ce-84ab-7ed461854216\">\n",
              "    <div class=\"colab-df-container\">\n",
              "      <div>\n",
              "<style scoped>\n",
              "    .dataframe tbody tr th:only-of-type {\n",
              "        vertical-align: middle;\n",
              "    }\n",
              "\n",
              "    .dataframe tbody tr th {\n",
              "        vertical-align: top;\n",
              "    }\n",
              "\n",
              "    .dataframe thead th {\n",
              "        text-align: right;\n",
              "    }\n",
              "</style>\n",
              "<table border=\"1\" class=\"dataframe\">\n",
              "  <thead>\n",
              "    <tr style=\"text-align: right;\">\n",
              "      <th></th>\n",
              "      <th>it_location</th>\n",
              "      <th>count</th>\n",
              "    </tr>\n",
              "  </thead>\n",
              "  <tbody>\n",
              "    <tr>\n",
              "      <th>4</th>\n",
              "      <td>Wrocław</td>\n",
              "      <td>5996</td>\n",
              "    </tr>\n",
              "    <tr>\n",
              "      <th>59</th>\n",
              "      <td>WROCŁAW</td>\n",
              "      <td>605</td>\n",
              "    </tr>\n",
              "    <tr>\n",
              "      <th>99</th>\n",
              "      <td>Inowrocław</td>\n",
              "      <td>383</td>\n",
              "    </tr>\n",
              "    <tr>\n",
              "      <th>203</th>\n",
              "      <td>wrocław</td>\n",
              "      <td>202</td>\n",
              "    </tr>\n",
              "    <tr>\n",
              "      <th>418</th>\n",
              "      <td>Czernica koło Wrocławia</td>\n",
              "      <td>101</td>\n",
              "    </tr>\n",
              "    <tr>\n",
              "      <th>...</th>\n",
              "      <td>...</td>\n",
              "      <td>...</td>\n",
              "    </tr>\n",
              "    <tr>\n",
              "      <th>8579</th>\n",
              "      <td>KATOWICE KRAKÓW WROCŁAW TARNÓW ŁÓDŹ</td>\n",
              "      <td>1</td>\n",
              "    </tr>\n",
              "    <tr>\n",
              "      <th>8591</th>\n",
              "      <td>Stargard Wrocław Warszawa</td>\n",
              "      <td>1</td>\n",
              "    </tr>\n",
              "    <tr>\n",
              "      <th>8618</th>\n",
              "      <td>Sieradz, Wrocław</td>\n",
              "      <td>1</td>\n",
              "    </tr>\n",
              "    <tr>\n",
              "      <th>8751</th>\n",
              "      <td>JABŁONNA,WROCŁAW,WARSZAWA</td>\n",
              "      <td>1</td>\n",
              "    </tr>\n",
              "    <tr>\n",
              "      <th>8840</th>\n",
              "      <td>Syców - Wrocław</td>\n",
              "      <td>1</td>\n",
              "    </tr>\n",
              "  </tbody>\n",
              "</table>\n",
              "<p>140 rows × 2 columns</p>\n",
              "</div>\n",
              "      <button class=\"colab-df-convert\" onclick=\"convertToInteractive('df-cdb64918-6117-44ce-84ab-7ed461854216')\"\n",
              "              title=\"Convert this dataframe to an interactive table.\"\n",
              "              style=\"display:none;\">\n",
              "        \n",
              "  <svg xmlns=\"http://www.w3.org/2000/svg\" height=\"24px\"viewBox=\"0 0 24 24\"\n",
              "       width=\"24px\">\n",
              "    <path d=\"M0 0h24v24H0V0z\" fill=\"none\"/>\n",
              "    <path d=\"M18.56 5.44l.94 2.06.94-2.06 2.06-.94-2.06-.94-.94-2.06-.94 2.06-2.06.94zm-11 1L8.5 8.5l.94-2.06 2.06-.94-2.06-.94L8.5 2.5l-.94 2.06-2.06.94zm10 10l.94 2.06.94-2.06 2.06-.94-2.06-.94-.94-2.06-.94 2.06-2.06.94z\"/><path d=\"M17.41 7.96l-1.37-1.37c-.4-.4-.92-.59-1.43-.59-.52 0-1.04.2-1.43.59L10.3 9.45l-7.72 7.72c-.78.78-.78 2.05 0 2.83L4 21.41c.39.39.9.59 1.41.59.51 0 1.02-.2 1.41-.59l7.78-7.78 2.81-2.81c.8-.78.8-2.07 0-2.86zM5.41 20L4 18.59l7.72-7.72 1.47 1.35L5.41 20z\"/>\n",
              "  </svg>\n",
              "      </button>\n",
              "      \n",
              "  <style>\n",
              "    .colab-df-container {\n",
              "      display:flex;\n",
              "      flex-wrap:wrap;\n",
              "      gap: 12px;\n",
              "    }\n",
              "\n",
              "    .colab-df-convert {\n",
              "      background-color: #E8F0FE;\n",
              "      border: none;\n",
              "      border-radius: 50%;\n",
              "      cursor: pointer;\n",
              "      display: none;\n",
              "      fill: #1967D2;\n",
              "      height: 32px;\n",
              "      padding: 0 0 0 0;\n",
              "      width: 32px;\n",
              "    }\n",
              "\n",
              "    .colab-df-convert:hover {\n",
              "      background-color: #E2EBFA;\n",
              "      box-shadow: 0px 1px 2px rgba(60, 64, 67, 0.3), 0px 1px 3px 1px rgba(60, 64, 67, 0.15);\n",
              "      fill: #174EA6;\n",
              "    }\n",
              "\n",
              "    [theme=dark] .colab-df-convert {\n",
              "      background-color: #3B4455;\n",
              "      fill: #D2E3FC;\n",
              "    }\n",
              "\n",
              "    [theme=dark] .colab-df-convert:hover {\n",
              "      background-color: #434B5C;\n",
              "      box-shadow: 0px 1px 3px 1px rgba(0, 0, 0, 0.15);\n",
              "      filter: drop-shadow(0px 1px 2px rgba(0, 0, 0, 0.3));\n",
              "      fill: #FFFFFF;\n",
              "    }\n",
              "  </style>\n",
              "\n",
              "      <script>\n",
              "        const buttonEl =\n",
              "          document.querySelector('#df-cdb64918-6117-44ce-84ab-7ed461854216 button.colab-df-convert');\n",
              "        buttonEl.style.display =\n",
              "          google.colab.kernel.accessAllowed ? 'block' : 'none';\n",
              "\n",
              "        async function convertToInteractive(key) {\n",
              "          const element = document.querySelector('#df-cdb64918-6117-44ce-84ab-7ed461854216');\n",
              "          const dataTable =\n",
              "            await google.colab.kernel.invokeFunction('convertToInteractive',\n",
              "                                                     [key], {});\n",
              "          if (!dataTable) return;\n",
              "\n",
              "          const docLinkHtml = 'Like what you see? Visit the ' +\n",
              "            '<a target=\"_blank\" href=https://colab.research.google.com/notebooks/data_table.ipynb>data table notebook</a>'\n",
              "            + ' to learn more about interactive tables.';\n",
              "          element.innerHTML = '';\n",
              "          dataTable['output_type'] = 'display_data';\n",
              "          await google.colab.output.renderOutput(dataTable, element);\n",
              "          const docLink = document.createElement('div');\n",
              "          docLink.innerHTML = docLinkHtml;\n",
              "          element.appendChild(docLink);\n",
              "        }\n",
              "      </script>\n",
              "    </div>\n",
              "  </div>\n",
              "  "
            ]
          },
          "metadata": {},
          "execution_count": 38
        }
      ]
    },
    {
      "cell_type": "code",
      "source": [
        "allegro_df_build_fixed.loc[allegro_df_build_fixed[\"it_location\"] == \"WROCŁAW\", \"it_location\"] = \"Wrocław\"\n",
        "allegro_df_build_fixed.loc[allegro_df_build_fixed[\"it_location\"] == \"wrocław\", \"it_location\"] = \"Wrocław\"\n",
        "allegro_df_build_fixed.loc[allegro_df_build_fixed[\"it_location\"] == \"wroclaw\", \"it_location\"] = \"Wrocław\"\n",
        "allegro_df_build_fixed.loc[allegro_df_build_fixed[\"it_location\"] == \"Wroclaw\", \"it_location\"] = \"Wrocław\"\n",
        "allegro_df_build_fixed.loc[allegro_df_build_fixed[\"it_location\"] == \"WROCLAW\", \"it_location\"] = \"Wrocław\""
      ],
      "metadata": {
        "id": "wFUEAatgcE51"
      },
      "id": "wFUEAatgcE51",
      "execution_count": 39,
      "outputs": []
    },
    {
      "cell_type": "code",
      "source": [
        "allegro_df_build_fixed[\"it_location\"].value_counts()"
      ],
      "metadata": {
        "colab": {
          "base_uri": "https://localhost:8080/"
        },
        "id": "PtUqYrZBcoaW",
        "outputId": "6214c347-227c-4464-e38c-4b3d70dfbbed"
      },
      "id": "PtUqYrZBcoaW",
      "execution_count": 40,
      "outputs": [
        {
          "output_type": "execute_result",
          "data": {
            "text/plain": [
              "Warszawa             19180\n",
              "Kraków               12004\n",
              "Łódź                  8760\n",
              "Poznań                8034\n",
              "Wrocław               6965\n",
              "                     ...  \n",
              "Warszawa ŁOMIANKI        1\n",
              "Gdańsk-Szczecin          1\n",
              "Lidzbark Welski          1\n",
              "kargowa                  1\n",
              "Rzeszów DĘBICA           1\n",
              "Name: it_location, Length: 8935, dtype: int64"
            ]
          },
          "metadata": {},
          "execution_count": 40
        }
      ]
    },
    {
      "cell_type": "code",
      "source": [
        "allegro_df_build_fixed.loc[~allegro_df_build_fixed.it_location.isin([\"Warszawa\", \"Wrocław\", \"Łódź\", \"Kraków\", \"Poznań\"]), \"it_location\"] = \"Other\""
      ],
      "metadata": {
        "id": "jbCnKb1Qc4nF"
      },
      "id": "jbCnKb1Qc4nF",
      "execution_count": 41,
      "outputs": []
    },
    {
      "cell_type": "markdown",
      "source": [
        "Jakby było więcej czasu, uogólnilibyśmy ten algorytm, żeby możliwie dla wszystkich miast tworzył poprawne nazwy."
      ],
      "metadata": {
        "id": "E6Fz0CC9t0vg"
      },
      "id": "E6Fz0CC9t0vg"
    },
    {
      "cell_type": "code",
      "source": [
        "allegro_df_build_fixed[\"it_location\"].value_counts()"
      ],
      "metadata": {
        "colab": {
          "base_uri": "https://localhost:8080/"
        },
        "id": "nw0lQK3Cd9WL",
        "outputId": "ebfd2d51-daea-4bb7-f200-976d948b0ee9"
      },
      "id": "nw0lQK3Cd9WL",
      "execution_count": 42,
      "outputs": [
        {
          "output_type": "execute_result",
          "data": {
            "text/plain": [
              "Other       239049\n",
              "Warszawa     19180\n",
              "Kraków       12004\n",
              "Łódź          8760\n",
              "Poznań        8034\n",
              "Wrocław       6965\n",
              "Name: it_location, dtype: int64"
            ]
          },
          "metadata": {},
          "execution_count": 42
        }
      ]
    },
    {
      "cell_type": "markdown",
      "source": [
        "Zakodowanie label encoderem"
      ],
      "metadata": {
        "id": "w4owmJTGCT3k"
      },
      "id": "w4owmJTGCT3k"
    },
    {
      "cell_type": "code",
      "source": [
        "! pip install category_encoders \n",
        "import category_encoders as ce\n",
        "from sklearn.preprocessing import LabelEncoder"
      ],
      "metadata": {
        "colab": {
          "base_uri": "https://localhost:8080/"
        },
        "id": "LMnIg1H0DoQX",
        "outputId": "82fb0923-3a67-4b08-c624-ad3aa281288f"
      },
      "id": "LMnIg1H0DoQX",
      "execution_count": 43,
      "outputs": [
        {
          "output_type": "stream",
          "name": "stdout",
          "text": [
            "Requirement already satisfied: category_encoders in /usr/local/lib/python3.7/dist-packages (2.4.0)\n",
            "Requirement already satisfied: numpy>=1.14.0 in /usr/local/lib/python3.7/dist-packages (from category_encoders) (1.21.5)\n",
            "Requirement already satisfied: statsmodels>=0.9.0 in /usr/local/lib/python3.7/dist-packages (from category_encoders) (0.10.2)\n",
            "Requirement already satisfied: scipy>=1.0.0 in /usr/local/lib/python3.7/dist-packages (from category_encoders) (1.4.1)\n",
            "Requirement already satisfied: patsy>=0.5.1 in /usr/local/lib/python3.7/dist-packages (from category_encoders) (0.5.2)\n",
            "Requirement already satisfied: scikit-learn>=0.20.0 in /usr/local/lib/python3.7/dist-packages (from category_encoders) (1.0.2)\n",
            "Requirement already satisfied: pandas>=0.21.1 in /usr/local/lib/python3.7/dist-packages (from category_encoders) (1.3.5)\n",
            "Requirement already satisfied: python-dateutil>=2.7.3 in /usr/local/lib/python3.7/dist-packages (from pandas>=0.21.1->category_encoders) (2.8.2)\n",
            "Requirement already satisfied: pytz>=2017.3 in /usr/local/lib/python3.7/dist-packages (from pandas>=0.21.1->category_encoders) (2018.9)\n",
            "Requirement already satisfied: six in /usr/local/lib/python3.7/dist-packages (from patsy>=0.5.1->category_encoders) (1.15.0)\n",
            "Requirement already satisfied: joblib>=0.11 in /usr/local/lib/python3.7/dist-packages (from scikit-learn>=0.20.0->category_encoders) (1.1.0)\n",
            "Requirement already satisfied: threadpoolctl>=2.0.0 in /usr/local/lib/python3.7/dist-packages (from scikit-learn>=0.20.0->category_encoders) (3.1.0)\n"
          ]
        }
      ]
    },
    {
      "cell_type": "code",
      "source": [
        "allegro_df_build_fixed['it_location'] = LabelEncoder().fit_transform(allegro_df_build_fixed.it_location)\n",
        "allegro_df_build_fixed"
      ],
      "metadata": {
        "colab": {
          "base_uri": "https://localhost:8080/",
          "height": 1000
        },
        "id": "Zv1cKrLrCV0f",
        "outputId": "facf0815-18fb-48c3-c7ec-7cb1de9b0cba"
      },
      "id": "Zv1cKrLrCV0f",
      "execution_count": 44,
      "outputs": [
        {
          "output_type": "execute_result",
          "data": {
            "text/plain": [
              "            lp                 date     item_id  \\\n",
              "180801  180801  2016-04-03 18:44:12  6095890163   \n",
              "169056  169056  2016-04-03 18:01:31  5813383000   \n",
              "168488  168488  2016-04-03 16:09:15  5152635000   \n",
              "59047    59047  2016-04-03 20:14:14  5604048299   \n",
              "69298    69298  2016-04-03 16:53:52  6097217991   \n",
              "...        ...                  ...         ...   \n",
              "47298    47298  2016-04-03 13:30:41  6060699085   \n",
              "19298    19298  2016-04-03 20:10:45  6085705574   \n",
              "6633      6633  2016-04-03 11:21:11  4999195279   \n",
              "59636    59636  2016-04-03 20:16:53  5973304699   \n",
              "324976  324976  2016-04-03 17:22:47  5288105241   \n",
              "\n",
              "                                               categories  \\\n",
              "180801     ['Kolekcje', 'Birofilistyka', 'Gadżety piwne']   \n",
              "169056  ['Uroda', 'Kosmetyki pielęgnacyjne', 'Ciało', ...   \n",
              "168488  ['Kolekcje', 'Modelarstwo', 'Materiały modelar...   \n",
              "59047   ['Biuro i Reklama', 'Artykuły piśmiennicze', '...   \n",
              "69298   ['Muzyka', 'Płyty kompaktowe', 'Rock', 'Zagran...   \n",
              "...                                                   ...   \n",
              "47298   ['Dom i Ogród', 'Ogród', 'Rośliny', 'Drzewa i ...   \n",
              "19298                ['Fotografia', 'Obiektywy', 'Nikon']   \n",
              "6633    ['Komputery', 'Części do laptopów', 'Klawiatury']   \n",
              "59636   ['Przemysł', 'Materiały i akcesoria', 'Budowni...   \n",
              "324976  ['Dom i Ogród', 'Wyposażenie', 'Oświetlenie', ...   \n",
              "\n",
              "        pay_option_on_delivery  pay_option_transfer          seller    price  \\\n",
              "180801                       0                    1    Afrikakorps1     4.00   \n",
              "169056                       1                    1  kosmet_galeria    14.95   \n",
              "168488                       1                    1      modelas123     7.80   \n",
              "59047                        1                    1    papiermix-pl     3.30   \n",
              "69298                        0                    1       janekpogi    24.00   \n",
              "...                        ...                  ...             ...      ...   \n",
              "47298                        1                    1  Arek_Milkowski    10.00   \n",
              "19298                        1                    1      juha2-foto  1349.00   \n",
              "6633                         1                    1    KRZYMARK_ZDW    69.99   \n",
              "59636                        1                    1      arbi1_2008     1.40   \n",
              "324976                       1                    1         Pmichal     5.79   \n",
              "\n",
              "        it_is_allegro_standard  it_quantity  it_is_brand_zone  \\\n",
              "180801                       0            0                 0   \n",
              "169056                       1            0                 0   \n",
              "168488                       0          970                 0   \n",
              "59047                        0          971                 0   \n",
              "69298                        0            0                 0   \n",
              "...                        ...          ...               ...   \n",
              "47298                        0           20                 0   \n",
              "19298                        1            0                 0   \n",
              "6633                         1          997                 0   \n",
              "59636                        0            0                 0   \n",
              "324976                       1          334                 0   \n",
              "\n",
              "        it_seller_rating  it_location    main_category  \\\n",
              "180801               747            1         Kolekcje   \n",
              "169056              4303            3            Uroda   \n",
              "168488             20202            1         Kolekcje   \n",
              "59047               3572            1  Biuro i Reklama   \n",
              "69298                568            1           Muzyka   \n",
              "...                  ...          ...              ...   \n",
              "47298                367            1      Dom i Ogród   \n",
              "19298                947            1       Fotografia   \n",
              "6633              100041            5        Komputery   \n",
              "59636                513            1         Przemysł   \n",
              "324976              2384            3      Dom i Ogród   \n",
              "\n",
              "               second_categoryy  main_categoryMedian  main_categoryEncoded  \\\n",
              "180801            Birofilistyka                11.99                     0   \n",
              "169056  Kosmetyki pielęgnacyjne                15.49                     0   \n",
              "168488              Modelarstwo                11.99                     0   \n",
              "59047     Artykuły piśmiennicze                11.80                     0   \n",
              "69298          Płyty kompaktowe                29.00                     2   \n",
              "...                         ...                  ...                   ...   \n",
              "47298                     Ogród                18.00                     0   \n",
              "19298                 Obiektywy                29.00                     2   \n",
              "6633         Części do laptopów                33.99                     3   \n",
              "59636     Materiały i akcesoria                18.00                     0   \n",
              "324976              Wyposażenie                18.00                     0   \n",
              "\n",
              "        second_categoryMedian  second_categoryEncoded  \n",
              "180801                  5.000                       0  \n",
              "169056                 19.600                       1  \n",
              "168488                 20.000                       1  \n",
              "59047                   5.725                       0  \n",
              "69298                  27.990                       2  \n",
              "...                       ...                     ...  \n",
              "47298                  12.000                       0  \n",
              "19298                 425.000                       4  \n",
              "6633                   49.000                       4  \n",
              "59636                  14.000                       1  \n",
              "324976                 20.000                       1  \n",
              "\n",
              "[293992 rows x 19 columns]"
            ],
            "text/html": [
              "\n",
              "  <div id=\"df-97be1d9b-fa37-4cd7-91de-5a4cfc2bc201\">\n",
              "    <div class=\"colab-df-container\">\n",
              "      <div>\n",
              "<style scoped>\n",
              "    .dataframe tbody tr th:only-of-type {\n",
              "        vertical-align: middle;\n",
              "    }\n",
              "\n",
              "    .dataframe tbody tr th {\n",
              "        vertical-align: top;\n",
              "    }\n",
              "\n",
              "    .dataframe thead th {\n",
              "        text-align: right;\n",
              "    }\n",
              "</style>\n",
              "<table border=\"1\" class=\"dataframe\">\n",
              "  <thead>\n",
              "    <tr style=\"text-align: right;\">\n",
              "      <th></th>\n",
              "      <th>lp</th>\n",
              "      <th>date</th>\n",
              "      <th>item_id</th>\n",
              "      <th>categories</th>\n",
              "      <th>pay_option_on_delivery</th>\n",
              "      <th>pay_option_transfer</th>\n",
              "      <th>seller</th>\n",
              "      <th>price</th>\n",
              "      <th>it_is_allegro_standard</th>\n",
              "      <th>it_quantity</th>\n",
              "      <th>it_is_brand_zone</th>\n",
              "      <th>it_seller_rating</th>\n",
              "      <th>it_location</th>\n",
              "      <th>main_category</th>\n",
              "      <th>second_categoryy</th>\n",
              "      <th>main_categoryMedian</th>\n",
              "      <th>main_categoryEncoded</th>\n",
              "      <th>second_categoryMedian</th>\n",
              "      <th>second_categoryEncoded</th>\n",
              "    </tr>\n",
              "  </thead>\n",
              "  <tbody>\n",
              "    <tr>\n",
              "      <th>180801</th>\n",
              "      <td>180801</td>\n",
              "      <td>2016-04-03 18:44:12</td>\n",
              "      <td>6095890163</td>\n",
              "      <td>['Kolekcje', 'Birofilistyka', 'Gadżety piwne']</td>\n",
              "      <td>0</td>\n",
              "      <td>1</td>\n",
              "      <td>Afrikakorps1</td>\n",
              "      <td>4.00</td>\n",
              "      <td>0</td>\n",
              "      <td>0</td>\n",
              "      <td>0</td>\n",
              "      <td>747</td>\n",
              "      <td>1</td>\n",
              "      <td>Kolekcje</td>\n",
              "      <td>Birofilistyka</td>\n",
              "      <td>11.99</td>\n",
              "      <td>0</td>\n",
              "      <td>5.000</td>\n",
              "      <td>0</td>\n",
              "    </tr>\n",
              "    <tr>\n",
              "      <th>169056</th>\n",
              "      <td>169056</td>\n",
              "      <td>2016-04-03 18:01:31</td>\n",
              "      <td>5813383000</td>\n",
              "      <td>['Uroda', 'Kosmetyki pielęgnacyjne', 'Ciało', ...</td>\n",
              "      <td>1</td>\n",
              "      <td>1</td>\n",
              "      <td>kosmet_galeria</td>\n",
              "      <td>14.95</td>\n",
              "      <td>1</td>\n",
              "      <td>0</td>\n",
              "      <td>0</td>\n",
              "      <td>4303</td>\n",
              "      <td>3</td>\n",
              "      <td>Uroda</td>\n",
              "      <td>Kosmetyki pielęgnacyjne</td>\n",
              "      <td>15.49</td>\n",
              "      <td>0</td>\n",
              "      <td>19.600</td>\n",
              "      <td>1</td>\n",
              "    </tr>\n",
              "    <tr>\n",
              "      <th>168488</th>\n",
              "      <td>168488</td>\n",
              "      <td>2016-04-03 16:09:15</td>\n",
              "      <td>5152635000</td>\n",
              "      <td>['Kolekcje', 'Modelarstwo', 'Materiały modelar...</td>\n",
              "      <td>1</td>\n",
              "      <td>1</td>\n",
              "      <td>modelas123</td>\n",
              "      <td>7.80</td>\n",
              "      <td>0</td>\n",
              "      <td>970</td>\n",
              "      <td>0</td>\n",
              "      <td>20202</td>\n",
              "      <td>1</td>\n",
              "      <td>Kolekcje</td>\n",
              "      <td>Modelarstwo</td>\n",
              "      <td>11.99</td>\n",
              "      <td>0</td>\n",
              "      <td>20.000</td>\n",
              "      <td>1</td>\n",
              "    </tr>\n",
              "    <tr>\n",
              "      <th>59047</th>\n",
              "      <td>59047</td>\n",
              "      <td>2016-04-03 20:14:14</td>\n",
              "      <td>5604048299</td>\n",
              "      <td>['Biuro i Reklama', 'Artykuły piśmiennicze', '...</td>\n",
              "      <td>1</td>\n",
              "      <td>1</td>\n",
              "      <td>papiermix-pl</td>\n",
              "      <td>3.30</td>\n",
              "      <td>0</td>\n",
              "      <td>971</td>\n",
              "      <td>0</td>\n",
              "      <td>3572</td>\n",
              "      <td>1</td>\n",
              "      <td>Biuro i Reklama</td>\n",
              "      <td>Artykuły piśmiennicze</td>\n",
              "      <td>11.80</td>\n",
              "      <td>0</td>\n",
              "      <td>5.725</td>\n",
              "      <td>0</td>\n",
              "    </tr>\n",
              "    <tr>\n",
              "      <th>69298</th>\n",
              "      <td>69298</td>\n",
              "      <td>2016-04-03 16:53:52</td>\n",
              "      <td>6097217991</td>\n",
              "      <td>['Muzyka', 'Płyty kompaktowe', 'Rock', 'Zagran...</td>\n",
              "      <td>0</td>\n",
              "      <td>1</td>\n",
              "      <td>janekpogi</td>\n",
              "      <td>24.00</td>\n",
              "      <td>0</td>\n",
              "      <td>0</td>\n",
              "      <td>0</td>\n",
              "      <td>568</td>\n",
              "      <td>1</td>\n",
              "      <td>Muzyka</td>\n",
              "      <td>Płyty kompaktowe</td>\n",
              "      <td>29.00</td>\n",
              "      <td>2</td>\n",
              "      <td>27.990</td>\n",
              "      <td>2</td>\n",
              "    </tr>\n",
              "    <tr>\n",
              "      <th>...</th>\n",
              "      <td>...</td>\n",
              "      <td>...</td>\n",
              "      <td>...</td>\n",
              "      <td>...</td>\n",
              "      <td>...</td>\n",
              "      <td>...</td>\n",
              "      <td>...</td>\n",
              "      <td>...</td>\n",
              "      <td>...</td>\n",
              "      <td>...</td>\n",
              "      <td>...</td>\n",
              "      <td>...</td>\n",
              "      <td>...</td>\n",
              "      <td>...</td>\n",
              "      <td>...</td>\n",
              "      <td>...</td>\n",
              "      <td>...</td>\n",
              "      <td>...</td>\n",
              "      <td>...</td>\n",
              "    </tr>\n",
              "    <tr>\n",
              "      <th>47298</th>\n",
              "      <td>47298</td>\n",
              "      <td>2016-04-03 13:30:41</td>\n",
              "      <td>6060699085</td>\n",
              "      <td>['Dom i Ogród', 'Ogród', 'Rośliny', 'Drzewa i ...</td>\n",
              "      <td>1</td>\n",
              "      <td>1</td>\n",
              "      <td>Arek_Milkowski</td>\n",
              "      <td>10.00</td>\n",
              "      <td>0</td>\n",
              "      <td>20</td>\n",
              "      <td>0</td>\n",
              "      <td>367</td>\n",
              "      <td>1</td>\n",
              "      <td>Dom i Ogród</td>\n",
              "      <td>Ogród</td>\n",
              "      <td>18.00</td>\n",
              "      <td>0</td>\n",
              "      <td>12.000</td>\n",
              "      <td>0</td>\n",
              "    </tr>\n",
              "    <tr>\n",
              "      <th>19298</th>\n",
              "      <td>19298</td>\n",
              "      <td>2016-04-03 20:10:45</td>\n",
              "      <td>6085705574</td>\n",
              "      <td>['Fotografia', 'Obiektywy', 'Nikon']</td>\n",
              "      <td>1</td>\n",
              "      <td>1</td>\n",
              "      <td>juha2-foto</td>\n",
              "      <td>1349.00</td>\n",
              "      <td>1</td>\n",
              "      <td>0</td>\n",
              "      <td>0</td>\n",
              "      <td>947</td>\n",
              "      <td>1</td>\n",
              "      <td>Fotografia</td>\n",
              "      <td>Obiektywy</td>\n",
              "      <td>29.00</td>\n",
              "      <td>2</td>\n",
              "      <td>425.000</td>\n",
              "      <td>4</td>\n",
              "    </tr>\n",
              "    <tr>\n",
              "      <th>6633</th>\n",
              "      <td>6633</td>\n",
              "      <td>2016-04-03 11:21:11</td>\n",
              "      <td>4999195279</td>\n",
              "      <td>['Komputery', 'Części do laptopów', 'Klawiatury']</td>\n",
              "      <td>1</td>\n",
              "      <td>1</td>\n",
              "      <td>KRZYMARK_ZDW</td>\n",
              "      <td>69.99</td>\n",
              "      <td>1</td>\n",
              "      <td>997</td>\n",
              "      <td>0</td>\n",
              "      <td>100041</td>\n",
              "      <td>5</td>\n",
              "      <td>Komputery</td>\n",
              "      <td>Części do laptopów</td>\n",
              "      <td>33.99</td>\n",
              "      <td>3</td>\n",
              "      <td>49.000</td>\n",
              "      <td>4</td>\n",
              "    </tr>\n",
              "    <tr>\n",
              "      <th>59636</th>\n",
              "      <td>59636</td>\n",
              "      <td>2016-04-03 20:16:53</td>\n",
              "      <td>5973304699</td>\n",
              "      <td>['Przemysł', 'Materiały i akcesoria', 'Budowni...</td>\n",
              "      <td>1</td>\n",
              "      <td>1</td>\n",
              "      <td>arbi1_2008</td>\n",
              "      <td>1.40</td>\n",
              "      <td>0</td>\n",
              "      <td>0</td>\n",
              "      <td>0</td>\n",
              "      <td>513</td>\n",
              "      <td>1</td>\n",
              "      <td>Przemysł</td>\n",
              "      <td>Materiały i akcesoria</td>\n",
              "      <td>18.00</td>\n",
              "      <td>0</td>\n",
              "      <td>14.000</td>\n",
              "      <td>1</td>\n",
              "    </tr>\n",
              "    <tr>\n",
              "      <th>324976</th>\n",
              "      <td>324976</td>\n",
              "      <td>2016-04-03 17:22:47</td>\n",
              "      <td>5288105241</td>\n",
              "      <td>['Dom i Ogród', 'Wyposażenie', 'Oświetlenie', ...</td>\n",
              "      <td>1</td>\n",
              "      <td>1</td>\n",
              "      <td>Pmichal</td>\n",
              "      <td>5.79</td>\n",
              "      <td>1</td>\n",
              "      <td>334</td>\n",
              "      <td>0</td>\n",
              "      <td>2384</td>\n",
              "      <td>3</td>\n",
              "      <td>Dom i Ogród</td>\n",
              "      <td>Wyposażenie</td>\n",
              "      <td>18.00</td>\n",
              "      <td>0</td>\n",
              "      <td>20.000</td>\n",
              "      <td>1</td>\n",
              "    </tr>\n",
              "  </tbody>\n",
              "</table>\n",
              "<p>293992 rows × 19 columns</p>\n",
              "</div>\n",
              "      <button class=\"colab-df-convert\" onclick=\"convertToInteractive('df-97be1d9b-fa37-4cd7-91de-5a4cfc2bc201')\"\n",
              "              title=\"Convert this dataframe to an interactive table.\"\n",
              "              style=\"display:none;\">\n",
              "        \n",
              "  <svg xmlns=\"http://www.w3.org/2000/svg\" height=\"24px\"viewBox=\"0 0 24 24\"\n",
              "       width=\"24px\">\n",
              "    <path d=\"M0 0h24v24H0V0z\" fill=\"none\"/>\n",
              "    <path d=\"M18.56 5.44l.94 2.06.94-2.06 2.06-.94-2.06-.94-.94-2.06-.94 2.06-2.06.94zm-11 1L8.5 8.5l.94-2.06 2.06-.94-2.06-.94L8.5 2.5l-.94 2.06-2.06.94zm10 10l.94 2.06.94-2.06 2.06-.94-2.06-.94-.94-2.06-.94 2.06-2.06.94z\"/><path d=\"M17.41 7.96l-1.37-1.37c-.4-.4-.92-.59-1.43-.59-.52 0-1.04.2-1.43.59L10.3 9.45l-7.72 7.72c-.78.78-.78 2.05 0 2.83L4 21.41c.39.39.9.59 1.41.59.51 0 1.02-.2 1.41-.59l7.78-7.78 2.81-2.81c.8-.78.8-2.07 0-2.86zM5.41 20L4 18.59l7.72-7.72 1.47 1.35L5.41 20z\"/>\n",
              "  </svg>\n",
              "      </button>\n",
              "      \n",
              "  <style>\n",
              "    .colab-df-container {\n",
              "      display:flex;\n",
              "      flex-wrap:wrap;\n",
              "      gap: 12px;\n",
              "    }\n",
              "\n",
              "    .colab-df-convert {\n",
              "      background-color: #E8F0FE;\n",
              "      border: none;\n",
              "      border-radius: 50%;\n",
              "      cursor: pointer;\n",
              "      display: none;\n",
              "      fill: #1967D2;\n",
              "      height: 32px;\n",
              "      padding: 0 0 0 0;\n",
              "      width: 32px;\n",
              "    }\n",
              "\n",
              "    .colab-df-convert:hover {\n",
              "      background-color: #E2EBFA;\n",
              "      box-shadow: 0px 1px 2px rgba(60, 64, 67, 0.3), 0px 1px 3px 1px rgba(60, 64, 67, 0.15);\n",
              "      fill: #174EA6;\n",
              "    }\n",
              "\n",
              "    [theme=dark] .colab-df-convert {\n",
              "      background-color: #3B4455;\n",
              "      fill: #D2E3FC;\n",
              "    }\n",
              "\n",
              "    [theme=dark] .colab-df-convert:hover {\n",
              "      background-color: #434B5C;\n",
              "      box-shadow: 0px 1px 3px 1px rgba(0, 0, 0, 0.15);\n",
              "      filter: drop-shadow(0px 1px 2px rgba(0, 0, 0, 0.3));\n",
              "      fill: #FFFFFF;\n",
              "    }\n",
              "  </style>\n",
              "\n",
              "      <script>\n",
              "        const buttonEl =\n",
              "          document.querySelector('#df-97be1d9b-fa37-4cd7-91de-5a4cfc2bc201 button.colab-df-convert');\n",
              "        buttonEl.style.display =\n",
              "          google.colab.kernel.accessAllowed ? 'block' : 'none';\n",
              "\n",
              "        async function convertToInteractive(key) {\n",
              "          const element = document.querySelector('#df-97be1d9b-fa37-4cd7-91de-5a4cfc2bc201');\n",
              "          const dataTable =\n",
              "            await google.colab.kernel.invokeFunction('convertToInteractive',\n",
              "                                                     [key], {});\n",
              "          if (!dataTable) return;\n",
              "\n",
              "          const docLinkHtml = 'Like what you see? Visit the ' +\n",
              "            '<a target=\"_blank\" href=https://colab.research.google.com/notebooks/data_table.ipynb>data table notebook</a>'\n",
              "            + ' to learn more about interactive tables.';\n",
              "          element.innerHTML = '';\n",
              "          dataTable['output_type'] = 'display_data';\n",
              "          await google.colab.output.renderOutput(dataTable, element);\n",
              "          const docLink = document.createElement('div');\n",
              "          docLink.innerHTML = docLinkHtml;\n",
              "          element.appendChild(docLink);\n",
              "        }\n",
              "      </script>\n",
              "    </div>\n",
              "  </div>\n",
              "  "
            ]
          },
          "metadata": {},
          "execution_count": 44
        }
      ]
    },
    {
      "cell_type": "markdown",
      "source": [
        "## Ramka danych do modelu."
      ],
      "metadata": {
        "id": "I93GdPm_QNkc"
      },
      "id": "I93GdPm_QNkc"
    },
    {
      "cell_type": "code",
      "source": [
        "allegro_df_build_fixed.columns"
      ],
      "metadata": {
        "colab": {
          "base_uri": "https://localhost:8080/"
        },
        "id": "oJVHH_QTQkyg",
        "outputId": "953c786c-80ea-41b6-b003-8b4f3a7de92a"
      },
      "id": "oJVHH_QTQkyg",
      "execution_count": 47,
      "outputs": [
        {
          "output_type": "execute_result",
          "data": {
            "text/plain": [
              "Index(['lp', 'date', 'item_id', 'categories', 'pay_option_on_delivery',\n",
              "       'pay_option_transfer', 'seller', 'price', 'it_is_allegro_standard',\n",
              "       'it_quantity', 'it_is_brand_zone', 'it_seller_rating', 'it_location',\n",
              "       'main_category', 'second_categoryy', 'main_categoryMedian',\n",
              "       'main_categoryEncoded', 'second_categoryMedian',\n",
              "       'second_categoryEncoded', 'it_quantityEncoded',\n",
              "       'it_seller_ratingEncoded', 'priceEncoded'],\n",
              "      dtype='object')"
            ]
          },
          "metadata": {},
          "execution_count": 47
        }
      ]
    },
    {
      "cell_type": "code",
      "source": [
        "allegro_df_build_fixed.loc[:,['pay_option_on_delivery','pay_option_transfer','it_is_allegro_standard','it_is_brand_zone','main_categoryEncoded','second_categoryEncoded', 'it_quantityEncoded',\n",
        "       'it_seller_ratingEncoded','it_location', 'priceEncoded']]"
      ],
      "metadata": {
        "colab": {
          "base_uri": "https://localhost:8080/",
          "height": 483
        },
        "id": "-VrBe10dQVFF",
        "outputId": "9a79b611-8aa4-4d41-bdc4-3e53c2766a89"
      },
      "id": "-VrBe10dQVFF",
      "execution_count": 52,
      "outputs": [
        {
          "output_type": "execute_result",
          "data": {
            "text/plain": [
              "        pay_option_on_delivery  pay_option_transfer  it_is_allegro_standard  \\\n",
              "180801                       0                    1                       0   \n",
              "169056                       1                    1                       1   \n",
              "168488                       1                    1                       0   \n",
              "59047                        1                    1                       0   \n",
              "69298                        0                    1                       0   \n",
              "...                        ...                  ...                     ...   \n",
              "47298                        1                    1                       0   \n",
              "19298                        1                    1                       1   \n",
              "6633                         1                    1                       1   \n",
              "59636                        1                    1                       0   \n",
              "324976                       1                    1                       1   \n",
              "\n",
              "        it_is_brand_zone  main_categoryEncoded  second_categoryEncoded  \\\n",
              "180801                 0                     0                       0   \n",
              "169056                 0                     0                       1   \n",
              "168488                 0                     0                       1   \n",
              "59047                  0                     0                       0   \n",
              "69298                  0                     2                       2   \n",
              "...                  ...                   ...                     ...   \n",
              "47298                  0                     0                       0   \n",
              "19298                  0                     2                       4   \n",
              "6633                   0                     3                       4   \n",
              "59636                  0                     0                       1   \n",
              "324976                 0                     0                       1   \n",
              "\n",
              "        it_quantityEncoded  it_seller_ratingEncoded  it_location  priceEncoded  \n",
              "180801                   0                        0            1             0  \n",
              "169056                   0                        2            3             1  \n",
              "168488                   3                        3            1             0  \n",
              "59047                    3                        1            1             0  \n",
              "69298                    0                        0            1             1  \n",
              "...                    ...                      ...          ...           ...  \n",
              "47298                    1                        0            1             0  \n",
              "19298                    0                        0            1             2  \n",
              "6633                     4                        4            5             2  \n",
              "59636                    0                        0            1             0  \n",
              "324976                   2                        1            3             0  \n",
              "\n",
              "[293992 rows x 10 columns]"
            ],
            "text/html": [
              "\n",
              "  <div id=\"df-72d599b8-9238-4358-8714-8a2c993c7314\">\n",
              "    <div class=\"colab-df-container\">\n",
              "      <div>\n",
              "<style scoped>\n",
              "    .dataframe tbody tr th:only-of-type {\n",
              "        vertical-align: middle;\n",
              "    }\n",
              "\n",
              "    .dataframe tbody tr th {\n",
              "        vertical-align: top;\n",
              "    }\n",
              "\n",
              "    .dataframe thead th {\n",
              "        text-align: right;\n",
              "    }\n",
              "</style>\n",
              "<table border=\"1\" class=\"dataframe\">\n",
              "  <thead>\n",
              "    <tr style=\"text-align: right;\">\n",
              "      <th></th>\n",
              "      <th>pay_option_on_delivery</th>\n",
              "      <th>pay_option_transfer</th>\n",
              "      <th>it_is_allegro_standard</th>\n",
              "      <th>it_is_brand_zone</th>\n",
              "      <th>main_categoryEncoded</th>\n",
              "      <th>second_categoryEncoded</th>\n",
              "      <th>it_quantityEncoded</th>\n",
              "      <th>it_seller_ratingEncoded</th>\n",
              "      <th>it_location</th>\n",
              "      <th>priceEncoded</th>\n",
              "    </tr>\n",
              "  </thead>\n",
              "  <tbody>\n",
              "    <tr>\n",
              "      <th>180801</th>\n",
              "      <td>0</td>\n",
              "      <td>1</td>\n",
              "      <td>0</td>\n",
              "      <td>0</td>\n",
              "      <td>0</td>\n",
              "      <td>0</td>\n",
              "      <td>0</td>\n",
              "      <td>0</td>\n",
              "      <td>1</td>\n",
              "      <td>0</td>\n",
              "    </tr>\n",
              "    <tr>\n",
              "      <th>169056</th>\n",
              "      <td>1</td>\n",
              "      <td>1</td>\n",
              "      <td>1</td>\n",
              "      <td>0</td>\n",
              "      <td>0</td>\n",
              "      <td>1</td>\n",
              "      <td>0</td>\n",
              "      <td>2</td>\n",
              "      <td>3</td>\n",
              "      <td>1</td>\n",
              "    </tr>\n",
              "    <tr>\n",
              "      <th>168488</th>\n",
              "      <td>1</td>\n",
              "      <td>1</td>\n",
              "      <td>0</td>\n",
              "      <td>0</td>\n",
              "      <td>0</td>\n",
              "      <td>1</td>\n",
              "      <td>3</td>\n",
              "      <td>3</td>\n",
              "      <td>1</td>\n",
              "      <td>0</td>\n",
              "    </tr>\n",
              "    <tr>\n",
              "      <th>59047</th>\n",
              "      <td>1</td>\n",
              "      <td>1</td>\n",
              "      <td>0</td>\n",
              "      <td>0</td>\n",
              "      <td>0</td>\n",
              "      <td>0</td>\n",
              "      <td>3</td>\n",
              "      <td>1</td>\n",
              "      <td>1</td>\n",
              "      <td>0</td>\n",
              "    </tr>\n",
              "    <tr>\n",
              "      <th>69298</th>\n",
              "      <td>0</td>\n",
              "      <td>1</td>\n",
              "      <td>0</td>\n",
              "      <td>0</td>\n",
              "      <td>2</td>\n",
              "      <td>2</td>\n",
              "      <td>0</td>\n",
              "      <td>0</td>\n",
              "      <td>1</td>\n",
              "      <td>1</td>\n",
              "    </tr>\n",
              "    <tr>\n",
              "      <th>...</th>\n",
              "      <td>...</td>\n",
              "      <td>...</td>\n",
              "      <td>...</td>\n",
              "      <td>...</td>\n",
              "      <td>...</td>\n",
              "      <td>...</td>\n",
              "      <td>...</td>\n",
              "      <td>...</td>\n",
              "      <td>...</td>\n",
              "      <td>...</td>\n",
              "    </tr>\n",
              "    <tr>\n",
              "      <th>47298</th>\n",
              "      <td>1</td>\n",
              "      <td>1</td>\n",
              "      <td>0</td>\n",
              "      <td>0</td>\n",
              "      <td>0</td>\n",
              "      <td>0</td>\n",
              "      <td>1</td>\n",
              "      <td>0</td>\n",
              "      <td>1</td>\n",
              "      <td>0</td>\n",
              "    </tr>\n",
              "    <tr>\n",
              "      <th>19298</th>\n",
              "      <td>1</td>\n",
              "      <td>1</td>\n",
              "      <td>1</td>\n",
              "      <td>0</td>\n",
              "      <td>2</td>\n",
              "      <td>4</td>\n",
              "      <td>0</td>\n",
              "      <td>0</td>\n",
              "      <td>1</td>\n",
              "      <td>2</td>\n",
              "    </tr>\n",
              "    <tr>\n",
              "      <th>6633</th>\n",
              "      <td>1</td>\n",
              "      <td>1</td>\n",
              "      <td>1</td>\n",
              "      <td>0</td>\n",
              "      <td>3</td>\n",
              "      <td>4</td>\n",
              "      <td>4</td>\n",
              "      <td>4</td>\n",
              "      <td>5</td>\n",
              "      <td>2</td>\n",
              "    </tr>\n",
              "    <tr>\n",
              "      <th>59636</th>\n",
              "      <td>1</td>\n",
              "      <td>1</td>\n",
              "      <td>0</td>\n",
              "      <td>0</td>\n",
              "      <td>0</td>\n",
              "      <td>1</td>\n",
              "      <td>0</td>\n",
              "      <td>0</td>\n",
              "      <td>1</td>\n",
              "      <td>0</td>\n",
              "    </tr>\n",
              "    <tr>\n",
              "      <th>324976</th>\n",
              "      <td>1</td>\n",
              "      <td>1</td>\n",
              "      <td>1</td>\n",
              "      <td>0</td>\n",
              "      <td>0</td>\n",
              "      <td>1</td>\n",
              "      <td>2</td>\n",
              "      <td>1</td>\n",
              "      <td>3</td>\n",
              "      <td>0</td>\n",
              "    </tr>\n",
              "  </tbody>\n",
              "</table>\n",
              "<p>293992 rows × 10 columns</p>\n",
              "</div>\n",
              "      <button class=\"colab-df-convert\" onclick=\"convertToInteractive('df-72d599b8-9238-4358-8714-8a2c993c7314')\"\n",
              "              title=\"Convert this dataframe to an interactive table.\"\n",
              "              style=\"display:none;\">\n",
              "        \n",
              "  <svg xmlns=\"http://www.w3.org/2000/svg\" height=\"24px\"viewBox=\"0 0 24 24\"\n",
              "       width=\"24px\">\n",
              "    <path d=\"M0 0h24v24H0V0z\" fill=\"none\"/>\n",
              "    <path d=\"M18.56 5.44l.94 2.06.94-2.06 2.06-.94-2.06-.94-.94-2.06-.94 2.06-2.06.94zm-11 1L8.5 8.5l.94-2.06 2.06-.94-2.06-.94L8.5 2.5l-.94 2.06-2.06.94zm10 10l.94 2.06.94-2.06 2.06-.94-2.06-.94-.94-2.06-.94 2.06-2.06.94z\"/><path d=\"M17.41 7.96l-1.37-1.37c-.4-.4-.92-.59-1.43-.59-.52 0-1.04.2-1.43.59L10.3 9.45l-7.72 7.72c-.78.78-.78 2.05 0 2.83L4 21.41c.39.39.9.59 1.41.59.51 0 1.02-.2 1.41-.59l7.78-7.78 2.81-2.81c.8-.78.8-2.07 0-2.86zM5.41 20L4 18.59l7.72-7.72 1.47 1.35L5.41 20z\"/>\n",
              "  </svg>\n",
              "      </button>\n",
              "      \n",
              "  <style>\n",
              "    .colab-df-container {\n",
              "      display:flex;\n",
              "      flex-wrap:wrap;\n",
              "      gap: 12px;\n",
              "    }\n",
              "\n",
              "    .colab-df-convert {\n",
              "      background-color: #E8F0FE;\n",
              "      border: none;\n",
              "      border-radius: 50%;\n",
              "      cursor: pointer;\n",
              "      display: none;\n",
              "      fill: #1967D2;\n",
              "      height: 32px;\n",
              "      padding: 0 0 0 0;\n",
              "      width: 32px;\n",
              "    }\n",
              "\n",
              "    .colab-df-convert:hover {\n",
              "      background-color: #E2EBFA;\n",
              "      box-shadow: 0px 1px 2px rgba(60, 64, 67, 0.3), 0px 1px 3px 1px rgba(60, 64, 67, 0.15);\n",
              "      fill: #174EA6;\n",
              "    }\n",
              "\n",
              "    [theme=dark] .colab-df-convert {\n",
              "      background-color: #3B4455;\n",
              "      fill: #D2E3FC;\n",
              "    }\n",
              "\n",
              "    [theme=dark] .colab-df-convert:hover {\n",
              "      background-color: #434B5C;\n",
              "      box-shadow: 0px 1px 3px 1px rgba(0, 0, 0, 0.15);\n",
              "      filter: drop-shadow(0px 1px 2px rgba(0, 0, 0, 0.3));\n",
              "      fill: #FFFFFF;\n",
              "    }\n",
              "  </style>\n",
              "\n",
              "      <script>\n",
              "        const buttonEl =\n",
              "          document.querySelector('#df-72d599b8-9238-4358-8714-8a2c993c7314 button.colab-df-convert');\n",
              "        buttonEl.style.display =\n",
              "          google.colab.kernel.accessAllowed ? 'block' : 'none';\n",
              "\n",
              "        async function convertToInteractive(key) {\n",
              "          const element = document.querySelector('#df-72d599b8-9238-4358-8714-8a2c993c7314');\n",
              "          const dataTable =\n",
              "            await google.colab.kernel.invokeFunction('convertToInteractive',\n",
              "                                                     [key], {});\n",
              "          if (!dataTable) return;\n",
              "\n",
              "          const docLinkHtml = 'Like what you see? Visit the ' +\n",
              "            '<a target=\"_blank\" href=https://colab.research.google.com/notebooks/data_table.ipynb>data table notebook</a>'\n",
              "            + ' to learn more about interactive tables.';\n",
              "          element.innerHTML = '';\n",
              "          dataTable['output_type'] = 'display_data';\n",
              "          await google.colab.output.renderOutput(dataTable, element);\n",
              "          const docLink = document.createElement('div');\n",
              "          docLink.innerHTML = docLinkHtml;\n",
              "          element.appendChild(docLink);\n",
              "        }\n",
              "      </script>\n",
              "    </div>\n",
              "  </div>\n",
              "  "
            ]
          },
          "metadata": {},
          "execution_count": 52
        }
      ]
    }
  ],
  "metadata": {
    "kernelspec": {
      "display_name": "Python 3",
      "language": "python",
      "name": "python3"
    },
    "language_info": {
      "codemirror_mode": {
        "name": "ipython",
        "version": 3
      },
      "file_extension": ".py",
      "mimetype": "text/x-python",
      "name": "python",
      "nbconvert_exporter": "python",
      "pygments_lexer": "ipython3",
      "version": "3.8.12"
    },
    "colab": {
      "name": "pd2.ipynb",
      "provenance": [],
      "collapsed_sections": [
        "ceeb31a0",
        "54695839",
        "1f59b63e",
        "8813041b",
        "9b48a40b",
        "fd90d9c5",
        "e93e9668",
        "a4560da0",
        "adee463a",
        "8889a150",
        "3a54644b",
        "fa46e398",
        "7366dc96",
        "94b4924d",
        "593d85d2",
        "6ab530de",
        "c0d9905f",
        "3493ce7b",
        "d7bd4ef4",
        "5c6fea40",
        "StAbgdKZIkUj"
      ]
    }
  },
  "nbformat": 4,
  "nbformat_minor": 5
}